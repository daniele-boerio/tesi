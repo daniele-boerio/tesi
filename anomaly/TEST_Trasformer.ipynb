{
 "cells": [
  {
   "cell_type": "code",
   "execution_count": 1,
   "metadata": {},
   "outputs": [],
   "source": [
    "import torch\n",
    "import torch.nn as nn\n",
    "import torch.optim as optim\n",
    "import numpy as np\n",
    "import pandas as pd\n",
    "import plotly.express as px\n",
    "from torch.utils.data import DataLoader, TensorDataset, random_split\n",
    "from sklearn.preprocessing import MinMaxScaler, StandardScaler\n",
    "from sklearn.decomposition import PCA\n",
    "from SleepClasses.AggregatedData import AggregatedData\n",
    "\n",
    "# Mostra tutte le colonne\n",
    "pd.set_option('display.max_columns', None)"
   ]
  },
  {
   "cell_type": "code",
   "execution_count": 2,
   "metadata": {},
   "outputs": [
    {
     "name": "stderr",
     "output_type": "stream",
     "text": [
      "/Users/boe/Desktop/Unimi/Tesi/code/SleepClasses/AggregatedData.py:575: FutureWarning: The behavior of DataFrame concatenation with empty or all-NA entries is deprecated. In a future version, this will no longer exclude empty or all-NA columns when determining the result dtypes. To retain the old behavior, exclude the relevant entries before the concat operation.\n",
      "  combined_df = pd.concat(merged_aggregated.values(), ignore_index=True)\n",
      "/Users/boe/Desktop/Unimi/Tesi/code/SleepClasses/AggregatedData.py:628: FutureWarning: The behavior of DataFrame concatenation with empty or all-NA entries is deprecated. In a future version, this will no longer exclude empty or all-NA columns when determining the result dtypes. To retain the old behavior, exclude the relevant entries before the concat operation.\n",
      "  modified_rows_df = pd.concat([modified_rows_df, df.loc[[idx]]])\n",
      "/Users/boe/Desktop/Unimi/Tesi/code/SleepClasses/AggregatedData.py:631: FutureWarning: The behavior of DataFrame concatenation with empty or all-NA entries is deprecated. In a future version, this will no longer exclude empty or all-NA columns when determining the result dtypes. To retain the old behavior, exclude the relevant entries before the concat operation.\n",
      "  zeros_rows_df = pd.concat([zeros_rows_df, df.loc[[idx]]])\n",
      "/Users/boe/Desktop/Unimi/Tesi/code/SleepClasses/AggregatedData.py:628: FutureWarning: The behavior of DataFrame concatenation with empty or all-NA entries is deprecated. In a future version, this will no longer exclude empty or all-NA columns when determining the result dtypes. To retain the old behavior, exclude the relevant entries before the concat operation.\n",
      "  modified_rows_df = pd.concat([modified_rows_df, df.loc[[idx]]])\n"
     ]
    }
   ],
   "source": [
    "sleep_dfs_agg = pd.read_pickle(r'SleepData/sleep_dfs_agg.pkl')\n",
    "sleep_dfs_gran = pd.read_pickle(r'SleepData/sleep_dfs_gran.pkl')\n",
    "agg = AggregatedData(sleep_dfs_gran['2'], sleep_dfs_agg['2'])\n",
    "\n",
    "df = agg.getAggregatedDataDf()"
   ]
  },
  {
   "cell_type": "code",
   "execution_count": 3,
   "metadata": {},
   "outputs": [],
   "source": [
    "# Supponiamo che `df` sia il tuo DataFrame\n",
    "measures = [\"HrAverage\", \"HrMax\", \"HrMin\", \"RmssdAverage\",\n",
    "            \"RmssdMax\", \"RmssdMin\", \"RrAverage\", \"RrMax\", \"RrMin\", \"Sdnn_1Average\",\n",
    "            \"Sdnn_1Max\", \"Sdnn_1Min\", \"SnoringAverage\", \"SnoringMax\", \"SnoringMin\",\n",
    "            \"LightSleepDuration\", \"RemSleepDuration\", \"DeepSleepDuration\",\n",
    "            \"WakeUpDuration\", \"WakeUpCount\", \"ManualSleepDuration\",\n",
    "            \"UndefinedSleepDuration\", \"OutOfBedCount\", \"OutOfBedTime\",\n",
    "            \"TotalSleepTime\"]"
   ]
  },
  {
   "cell_type": "code",
   "execution_count": 4,
   "metadata": {},
   "outputs": [
    {
     "data": {
      "text/html": [
       "<div>\n",
       "<style scoped>\n",
       "    .dataframe tbody tr th:only-of-type {\n",
       "        vertical-align: middle;\n",
       "    }\n",
       "\n",
       "    .dataframe tbody tr th {\n",
       "        vertical-align: top;\n",
       "    }\n",
       "\n",
       "    .dataframe thead th {\n",
       "        text-align: right;\n",
       "    }\n",
       "</style>\n",
       "<table border=\"1\" class=\"dataframe\">\n",
       "  <thead>\n",
       "    <tr style=\"text-align: right;\">\n",
       "      <th></th>\n",
       "      <th>Date</th>\n",
       "      <th>StartValue</th>\n",
       "      <th>EndValue</th>\n",
       "      <th>LightSleepDuration</th>\n",
       "      <th>DeepSleepDuration</th>\n",
       "      <th>RemSleepDuration</th>\n",
       "      <th>ManualSleepDuration</th>\n",
       "      <th>UndefinedSleepDuration</th>\n",
       "      <th>WakeUpDuration</th>\n",
       "      <th>TotalSleepTime</th>\n",
       "      <th>Nap</th>\n",
       "      <th>HrAverage</th>\n",
       "      <th>HrMax</th>\n",
       "      <th>HrMin</th>\n",
       "      <th>WakeUpCount</th>\n",
       "      <th>OutOfBedCount</th>\n",
       "      <th>model</th>\n",
       "      <th>model_id</th>\n",
       "      <th>RmssdAverage</th>\n",
       "      <th>RmssdMax</th>\n",
       "      <th>RmssdMin</th>\n",
       "      <th>RrAverage</th>\n",
       "      <th>RrMax</th>\n",
       "      <th>RrMin</th>\n",
       "      <th>Sdnn_1Average</th>\n",
       "      <th>Sdnn_1Max</th>\n",
       "      <th>Sdnn_1Min</th>\n",
       "      <th>SnoringAverage</th>\n",
       "      <th>SnoringMax</th>\n",
       "      <th>SnoringMin</th>\n",
       "      <th>OutOfBedTime</th>\n",
       "      <th>OutOfBed</th>\n",
       "    </tr>\n",
       "  </thead>\n",
       "  <tbody>\n",
       "    <tr>\n",
       "      <th>0</th>\n",
       "      <td>2023-08-06</td>\n",
       "      <td>2023-08-05 21:42:00</td>\n",
       "      <td>2023-08-06 08:16:00</td>\n",
       "      <td>0.692157</td>\n",
       "      <td>1.000000</td>\n",
       "      <td>0.000000</td>\n",
       "      <td>0.0</td>\n",
       "      <td>0.0</td>\n",
       "      <td>0.138554</td>\n",
       "      <td>0.807428</td>\n",
       "      <td>False</td>\n",
       "      <td>0.000000</td>\n",
       "      <td>0.62</td>\n",
       "      <td>0.088889</td>\n",
       "      <td>0.500</td>\n",
       "      <td>0.000000</td>\n",
       "      <td>NaN</td>\n",
       "      <td>NaN</td>\n",
       "      <td>0.000000</td>\n",
       "      <td>0.000000</td>\n",
       "      <td>0.0</td>\n",
       "      <td>0.000000</td>\n",
       "      <td>0.000000</td>\n",
       "      <td>0.000000</td>\n",
       "      <td>0.000000</td>\n",
       "      <td>0.000000</td>\n",
       "      <td>0.0</td>\n",
       "      <td>0.000000</td>\n",
       "      <td>0.0</td>\n",
       "      <td>0.0</td>\n",
       "      <td>0.000000</td>\n",
       "      <td>[]</td>\n",
       "    </tr>\n",
       "    <tr>\n",
       "      <th>1</th>\n",
       "      <td>2023-09-01</td>\n",
       "      <td>2023-09-01 14:17:00</td>\n",
       "      <td>2023-09-01 15:59:00</td>\n",
       "      <td>0.003922</td>\n",
       "      <td>0.140426</td>\n",
       "      <td>0.009217</td>\n",
       "      <td>0.0</td>\n",
       "      <td>0.0</td>\n",
       "      <td>0.195783</td>\n",
       "      <td>0.049519</td>\n",
       "      <td>True</td>\n",
       "      <td>0.750000</td>\n",
       "      <td>0.62</td>\n",
       "      <td>0.222222</td>\n",
       "      <td>0.125</td>\n",
       "      <td>0.000000</td>\n",
       "      <td>NaN</td>\n",
       "      <td>NaN</td>\n",
       "      <td>0.377358</td>\n",
       "      <td>0.196078</td>\n",
       "      <td>0.0</td>\n",
       "      <td>0.809524</td>\n",
       "      <td>0.806452</td>\n",
       "      <td>0.473684</td>\n",
       "      <td>0.314607</td>\n",
       "      <td>0.172897</td>\n",
       "      <td>0.0</td>\n",
       "      <td>0.000000</td>\n",
       "      <td>0.0</td>\n",
       "      <td>0.0</td>\n",
       "      <td>0.000000</td>\n",
       "      <td>[]</td>\n",
       "    </tr>\n",
       "    <tr>\n",
       "      <th>2</th>\n",
       "      <td>2023-09-01</td>\n",
       "      <td>2023-09-01 00:24:00</td>\n",
       "      <td>2023-09-01 08:32:00</td>\n",
       "      <td>0.549020</td>\n",
       "      <td>0.280851</td>\n",
       "      <td>0.087558</td>\n",
       "      <td>0.0</td>\n",
       "      <td>0.0</td>\n",
       "      <td>0.322289</td>\n",
       "      <td>0.500688</td>\n",
       "      <td>False</td>\n",
       "      <td>0.166667</td>\n",
       "      <td>0.36</td>\n",
       "      <td>0.111111</td>\n",
       "      <td>0.125</td>\n",
       "      <td>0.166667</td>\n",
       "      <td>NaN</td>\n",
       "      <td>NaN</td>\n",
       "      <td>0.603774</td>\n",
       "      <td>0.339869</td>\n",
       "      <td>0.0</td>\n",
       "      <td>0.714286</td>\n",
       "      <td>0.774194</td>\n",
       "      <td>0.473684</td>\n",
       "      <td>0.528090</td>\n",
       "      <td>0.257009</td>\n",
       "      <td>0.0</td>\n",
       "      <td>0.111111</td>\n",
       "      <td>1.0</td>\n",
       "      <td>0.0</td>\n",
       "      <td>0.114286</td>\n",
       "      <td>[{'from_value': 1, 'to_value': 0, 'next_value'...</td>\n",
       "    </tr>\n",
       "    <tr>\n",
       "      <th>3</th>\n",
       "      <td>2023-09-02</td>\n",
       "      <td>2023-09-02 16:14:00</td>\n",
       "      <td>2023-09-02 19:36:00</td>\n",
       "      <td>0.147059</td>\n",
       "      <td>0.153191</td>\n",
       "      <td>0.193548</td>\n",
       "      <td>0.0</td>\n",
       "      <td>0.0</td>\n",
       "      <td>0.132530</td>\n",
       "      <td>0.209078</td>\n",
       "      <td>True</td>\n",
       "      <td>0.138889</td>\n",
       "      <td>0.18</td>\n",
       "      <td>0.177778</td>\n",
       "      <td>0.125</td>\n",
       "      <td>0.000000</td>\n",
       "      <td>NaN</td>\n",
       "      <td>NaN</td>\n",
       "      <td>0.849057</td>\n",
       "      <td>0.947712</td>\n",
       "      <td>0.0</td>\n",
       "      <td>0.761905</td>\n",
       "      <td>0.741935</td>\n",
       "      <td>0.473684</td>\n",
       "      <td>0.550562</td>\n",
       "      <td>0.252336</td>\n",
       "      <td>0.0</td>\n",
       "      <td>0.000000</td>\n",
       "      <td>0.0</td>\n",
       "      <td>0.0</td>\n",
       "      <td>0.000000</td>\n",
       "      <td>[]</td>\n",
       "    </tr>\n",
       "    <tr>\n",
       "      <th>4</th>\n",
       "      <td>2023-09-02</td>\n",
       "      <td>2023-09-02 00:45:00</td>\n",
       "      <td>2023-09-02 08:05:00</td>\n",
       "      <td>0.517647</td>\n",
       "      <td>0.263830</td>\n",
       "      <td>0.433180</td>\n",
       "      <td>0.0</td>\n",
       "      <td>0.0</td>\n",
       "      <td>0.060241</td>\n",
       "      <td>0.576341</td>\n",
       "      <td>False</td>\n",
       "      <td>0.055556</td>\n",
       "      <td>0.12</td>\n",
       "      <td>0.088889</td>\n",
       "      <td>0.000</td>\n",
       "      <td>0.000000</td>\n",
       "      <td>NaN</td>\n",
       "      <td>NaN</td>\n",
       "      <td>0.622642</td>\n",
       "      <td>0.287582</td>\n",
       "      <td>0.0</td>\n",
       "      <td>0.714286</td>\n",
       "      <td>0.838710</td>\n",
       "      <td>0.631579</td>\n",
       "      <td>0.595506</td>\n",
       "      <td>0.299065</td>\n",
       "      <td>0.0</td>\n",
       "      <td>0.055556</td>\n",
       "      <td>1.0</td>\n",
       "      <td>0.0</td>\n",
       "      <td>0.000000</td>\n",
       "      <td>[]</td>\n",
       "    </tr>\n",
       "    <tr>\n",
       "      <th>...</th>\n",
       "      <td>...</td>\n",
       "      <td>...</td>\n",
       "      <td>...</td>\n",
       "      <td>...</td>\n",
       "      <td>...</td>\n",
       "      <td>...</td>\n",
       "      <td>...</td>\n",
       "      <td>...</td>\n",
       "      <td>...</td>\n",
       "      <td>...</td>\n",
       "      <td>...</td>\n",
       "      <td>...</td>\n",
       "      <td>...</td>\n",
       "      <td>...</td>\n",
       "      <td>...</td>\n",
       "      <td>...</td>\n",
       "      <td>...</td>\n",
       "      <td>...</td>\n",
       "      <td>...</td>\n",
       "      <td>...</td>\n",
       "      <td>...</td>\n",
       "      <td>...</td>\n",
       "      <td>...</td>\n",
       "      <td>...</td>\n",
       "      <td>...</td>\n",
       "      <td>...</td>\n",
       "      <td>...</td>\n",
       "      <td>...</td>\n",
       "      <td>...</td>\n",
       "      <td>...</td>\n",
       "      <td>...</td>\n",
       "      <td>...</td>\n",
       "    </tr>\n",
       "    <tr>\n",
       "      <th>650</th>\n",
       "      <td>2024-11-10</td>\n",
       "      <td>2024-11-10 13:23:00</td>\n",
       "      <td>2024-11-10 14:20:00</td>\n",
       "      <td>0.015686</td>\n",
       "      <td>0.063830</td>\n",
       "      <td>0.000000</td>\n",
       "      <td>0.0</td>\n",
       "      <td>0.0</td>\n",
       "      <td>0.102410</td>\n",
       "      <td>0.030261</td>\n",
       "      <td>True</td>\n",
       "      <td>0.916667</td>\n",
       "      <td>0.68</td>\n",
       "      <td>0.933333</td>\n",
       "      <td>0.000</td>\n",
       "      <td>0.000000</td>\n",
       "      <td>32.0</td>\n",
       "      <td>63.0</td>\n",
       "      <td>0.471698</td>\n",
       "      <td>0.366013</td>\n",
       "      <td>0.0</td>\n",
       "      <td>0.904762</td>\n",
       "      <td>0.806452</td>\n",
       "      <td>0.578947</td>\n",
       "      <td>0.393258</td>\n",
       "      <td>0.794393</td>\n",
       "      <td>0.0</td>\n",
       "      <td>0.000000</td>\n",
       "      <td>0.0</td>\n",
       "      <td>0.0</td>\n",
       "      <td>0.000000</td>\n",
       "      <td>[]</td>\n",
       "    </tr>\n",
       "    <tr>\n",
       "      <th>651</th>\n",
       "      <td>2024-11-10</td>\n",
       "      <td>2024-11-10 00:39:00</td>\n",
       "      <td>2024-11-10 07:33:00</td>\n",
       "      <td>0.592157</td>\n",
       "      <td>0.242553</td>\n",
       "      <td>0.129032</td>\n",
       "      <td>0.0</td>\n",
       "      <td>0.0</td>\n",
       "      <td>0.081325</td>\n",
       "      <td>0.530949</td>\n",
       "      <td>False</td>\n",
       "      <td>0.222222</td>\n",
       "      <td>0.44</td>\n",
       "      <td>0.177778</td>\n",
       "      <td>0.125</td>\n",
       "      <td>0.166667</td>\n",
       "      <td>32.0</td>\n",
       "      <td>63.0</td>\n",
       "      <td>0.905660</td>\n",
       "      <td>0.555556</td>\n",
       "      <td>0.0</td>\n",
       "      <td>0.761905</td>\n",
       "      <td>0.709677</td>\n",
       "      <td>0.526316</td>\n",
       "      <td>0.651685</td>\n",
       "      <td>0.742991</td>\n",
       "      <td>0.0</td>\n",
       "      <td>0.583333</td>\n",
       "      <td>1.0</td>\n",
       "      <td>0.0</td>\n",
       "      <td>0.040000</td>\n",
       "      <td>[{'from_value': 1, 'to_value': 0, 'next_value'...</td>\n",
       "    </tr>\n",
       "    <tr>\n",
       "      <th>652</th>\n",
       "      <td>2024-11-11</td>\n",
       "      <td>2024-11-11 00:50:00</td>\n",
       "      <td>2024-11-11 08:16:00</td>\n",
       "      <td>0.443137</td>\n",
       "      <td>0.323404</td>\n",
       "      <td>0.207373</td>\n",
       "      <td>0.0</td>\n",
       "      <td>0.0</td>\n",
       "      <td>0.237952</td>\n",
       "      <td>0.475928</td>\n",
       "      <td>False</td>\n",
       "      <td>0.305556</td>\n",
       "      <td>0.40</td>\n",
       "      <td>0.222222</td>\n",
       "      <td>0.125</td>\n",
       "      <td>0.166667</td>\n",
       "      <td>32.0</td>\n",
       "      <td>63.0</td>\n",
       "      <td>0.849057</td>\n",
       "      <td>0.542484</td>\n",
       "      <td>0.0</td>\n",
       "      <td>0.761905</td>\n",
       "      <td>0.806452</td>\n",
       "      <td>0.526316</td>\n",
       "      <td>0.617978</td>\n",
       "      <td>0.962617</td>\n",
       "      <td>0.0</td>\n",
       "      <td>0.527778</td>\n",
       "      <td>1.0</td>\n",
       "      <td>0.0</td>\n",
       "      <td>0.131429</td>\n",
       "      <td>[{'from_value': 3, 'to_value': 0, 'next_value'...</td>\n",
       "    </tr>\n",
       "    <tr>\n",
       "      <th>653</th>\n",
       "      <td>2024-11-12</td>\n",
       "      <td>2024-11-11 23:08:00</td>\n",
       "      <td>2024-11-12 07:16:00</td>\n",
       "      <td>0.592157</td>\n",
       "      <td>0.157447</td>\n",
       "      <td>0.460829</td>\n",
       "      <td>0.0</td>\n",
       "      <td>0.0</td>\n",
       "      <td>0.147590</td>\n",
       "      <td>0.602476</td>\n",
       "      <td>False</td>\n",
       "      <td>0.194444</td>\n",
       "      <td>0.44</td>\n",
       "      <td>0.222222</td>\n",
       "      <td>0.125</td>\n",
       "      <td>0.166667</td>\n",
       "      <td>32.0</td>\n",
       "      <td>63.0</td>\n",
       "      <td>0.867925</td>\n",
       "      <td>0.529412</td>\n",
       "      <td>0.0</td>\n",
       "      <td>0.761905</td>\n",
       "      <td>0.774194</td>\n",
       "      <td>0.526316</td>\n",
       "      <td>0.573034</td>\n",
       "      <td>0.752336</td>\n",
       "      <td>0.0</td>\n",
       "      <td>0.166667</td>\n",
       "      <td>1.0</td>\n",
       "      <td>0.0</td>\n",
       "      <td>0.045714</td>\n",
       "      <td>[{'from_value': 3, 'to_value': 0, 'next_value'...</td>\n",
       "    </tr>\n",
       "    <tr>\n",
       "      <th>654</th>\n",
       "      <td>2024-11-12</td>\n",
       "      <td>2024-11-12 12:10:00</td>\n",
       "      <td>2024-11-12 13:17:00</td>\n",
       "      <td>0.005882</td>\n",
       "      <td>0.114894</td>\n",
       "      <td>0.000000</td>\n",
       "      <td>0.0</td>\n",
       "      <td>0.0</td>\n",
       "      <td>0.111446</td>\n",
       "      <td>0.039890</td>\n",
       "      <td>True</td>\n",
       "      <td>0.500000</td>\n",
       "      <td>0.36</td>\n",
       "      <td>0.222222</td>\n",
       "      <td>0.000</td>\n",
       "      <td>0.000000</td>\n",
       "      <td>32.0</td>\n",
       "      <td>63.0</td>\n",
       "      <td>0.452830</td>\n",
       "      <td>0.333333</td>\n",
       "      <td>0.0</td>\n",
       "      <td>0.714286</td>\n",
       "      <td>0.741935</td>\n",
       "      <td>0.473684</td>\n",
       "      <td>0.314607</td>\n",
       "      <td>0.341121</td>\n",
       "      <td>0.0</td>\n",
       "      <td>0.000000</td>\n",
       "      <td>0.0</td>\n",
       "      <td>0.0</td>\n",
       "      <td>0.000000</td>\n",
       "      <td>[]</td>\n",
       "    </tr>\n",
       "  </tbody>\n",
       "</table>\n",
       "<p>655 rows × 32 columns</p>\n",
       "</div>"
      ],
      "text/plain": [
       "           Date          StartValue            EndValue  LightSleepDuration  \\\n",
       "0    2023-08-06 2023-08-05 21:42:00 2023-08-06 08:16:00            0.692157   \n",
       "1    2023-09-01 2023-09-01 14:17:00 2023-09-01 15:59:00            0.003922   \n",
       "2    2023-09-01 2023-09-01 00:24:00 2023-09-01 08:32:00            0.549020   \n",
       "3    2023-09-02 2023-09-02 16:14:00 2023-09-02 19:36:00            0.147059   \n",
       "4    2023-09-02 2023-09-02 00:45:00 2023-09-02 08:05:00            0.517647   \n",
       "..          ...                 ...                 ...                 ...   \n",
       "650  2024-11-10 2024-11-10 13:23:00 2024-11-10 14:20:00            0.015686   \n",
       "651  2024-11-10 2024-11-10 00:39:00 2024-11-10 07:33:00            0.592157   \n",
       "652  2024-11-11 2024-11-11 00:50:00 2024-11-11 08:16:00            0.443137   \n",
       "653  2024-11-12 2024-11-11 23:08:00 2024-11-12 07:16:00            0.592157   \n",
       "654  2024-11-12 2024-11-12 12:10:00 2024-11-12 13:17:00            0.005882   \n",
       "\n",
       "     DeepSleepDuration  RemSleepDuration  ManualSleepDuration  \\\n",
       "0             1.000000          0.000000                  0.0   \n",
       "1             0.140426          0.009217                  0.0   \n",
       "2             0.280851          0.087558                  0.0   \n",
       "3             0.153191          0.193548                  0.0   \n",
       "4             0.263830          0.433180                  0.0   \n",
       "..                 ...               ...                  ...   \n",
       "650           0.063830          0.000000                  0.0   \n",
       "651           0.242553          0.129032                  0.0   \n",
       "652           0.323404          0.207373                  0.0   \n",
       "653           0.157447          0.460829                  0.0   \n",
       "654           0.114894          0.000000                  0.0   \n",
       "\n",
       "     UndefinedSleepDuration  WakeUpDuration  TotalSleepTime    Nap  HrAverage  \\\n",
       "0                       0.0        0.138554        0.807428  False   0.000000   \n",
       "1                       0.0        0.195783        0.049519   True   0.750000   \n",
       "2                       0.0        0.322289        0.500688  False   0.166667   \n",
       "3                       0.0        0.132530        0.209078   True   0.138889   \n",
       "4                       0.0        0.060241        0.576341  False   0.055556   \n",
       "..                      ...             ...             ...    ...        ...   \n",
       "650                     0.0        0.102410        0.030261   True   0.916667   \n",
       "651                     0.0        0.081325        0.530949  False   0.222222   \n",
       "652                     0.0        0.237952        0.475928  False   0.305556   \n",
       "653                     0.0        0.147590        0.602476  False   0.194444   \n",
       "654                     0.0        0.111446        0.039890   True   0.500000   \n",
       "\n",
       "     HrMax     HrMin  WakeUpCount  OutOfBedCount  model  model_id  \\\n",
       "0     0.62  0.088889        0.500       0.000000    NaN       NaN   \n",
       "1     0.62  0.222222        0.125       0.000000    NaN       NaN   \n",
       "2     0.36  0.111111        0.125       0.166667    NaN       NaN   \n",
       "3     0.18  0.177778        0.125       0.000000    NaN       NaN   \n",
       "4     0.12  0.088889        0.000       0.000000    NaN       NaN   \n",
       "..     ...       ...          ...            ...    ...       ...   \n",
       "650   0.68  0.933333        0.000       0.000000   32.0      63.0   \n",
       "651   0.44  0.177778        0.125       0.166667   32.0      63.0   \n",
       "652   0.40  0.222222        0.125       0.166667   32.0      63.0   \n",
       "653   0.44  0.222222        0.125       0.166667   32.0      63.0   \n",
       "654   0.36  0.222222        0.000       0.000000   32.0      63.0   \n",
       "\n",
       "     RmssdAverage  RmssdMax  RmssdMin  RrAverage     RrMax     RrMin  \\\n",
       "0        0.000000  0.000000       0.0   0.000000  0.000000  0.000000   \n",
       "1        0.377358  0.196078       0.0   0.809524  0.806452  0.473684   \n",
       "2        0.603774  0.339869       0.0   0.714286  0.774194  0.473684   \n",
       "3        0.849057  0.947712       0.0   0.761905  0.741935  0.473684   \n",
       "4        0.622642  0.287582       0.0   0.714286  0.838710  0.631579   \n",
       "..            ...       ...       ...        ...       ...       ...   \n",
       "650      0.471698  0.366013       0.0   0.904762  0.806452  0.578947   \n",
       "651      0.905660  0.555556       0.0   0.761905  0.709677  0.526316   \n",
       "652      0.849057  0.542484       0.0   0.761905  0.806452  0.526316   \n",
       "653      0.867925  0.529412       0.0   0.761905  0.774194  0.526316   \n",
       "654      0.452830  0.333333       0.0   0.714286  0.741935  0.473684   \n",
       "\n",
       "     Sdnn_1Average  Sdnn_1Max  Sdnn_1Min  SnoringAverage  SnoringMax  \\\n",
       "0         0.000000   0.000000        0.0        0.000000         0.0   \n",
       "1         0.314607   0.172897        0.0        0.000000         0.0   \n",
       "2         0.528090   0.257009        0.0        0.111111         1.0   \n",
       "3         0.550562   0.252336        0.0        0.000000         0.0   \n",
       "4         0.595506   0.299065        0.0        0.055556         1.0   \n",
       "..             ...        ...        ...             ...         ...   \n",
       "650       0.393258   0.794393        0.0        0.000000         0.0   \n",
       "651       0.651685   0.742991        0.0        0.583333         1.0   \n",
       "652       0.617978   0.962617        0.0        0.527778         1.0   \n",
       "653       0.573034   0.752336        0.0        0.166667         1.0   \n",
       "654       0.314607   0.341121        0.0        0.000000         0.0   \n",
       "\n",
       "     SnoringMin  OutOfBedTime  \\\n",
       "0           0.0      0.000000   \n",
       "1           0.0      0.000000   \n",
       "2           0.0      0.114286   \n",
       "3           0.0      0.000000   \n",
       "4           0.0      0.000000   \n",
       "..          ...           ...   \n",
       "650         0.0      0.000000   \n",
       "651         0.0      0.040000   \n",
       "652         0.0      0.131429   \n",
       "653         0.0      0.045714   \n",
       "654         0.0      0.000000   \n",
       "\n",
       "                                              OutOfBed  \n",
       "0                                                   []  \n",
       "1                                                   []  \n",
       "2    [{'from_value': 1, 'to_value': 0, 'next_value'...  \n",
       "3                                                   []  \n",
       "4                                                   []  \n",
       "..                                                 ...  \n",
       "650                                                 []  \n",
       "651  [{'from_value': 1, 'to_value': 0, 'next_value'...  \n",
       "652  [{'from_value': 3, 'to_value': 0, 'next_value'...  \n",
       "653  [{'from_value': 3, 'to_value': 0, 'next_value'...  \n",
       "654                                                 []  \n",
       "\n",
       "[655 rows x 32 columns]"
      ]
     },
     "execution_count": 4,
     "metadata": {},
     "output_type": "execute_result"
    }
   ],
   "source": [
    "# Preprocessing: normalizzazione\n",
    "scaler = MinMaxScaler()\n",
    "\n",
    "# Normalizza il DataFrame\n",
    "df[measures] = scaler.fit_transform(df[measures])\n",
    "\n",
    "# Visualizza il DataFrame normalizzato\n",
    "df"
   ]
  },
  {
   "cell_type": "code",
   "execution_count": 5,
   "metadata": {},
   "outputs": [],
   "source": [
    "df['StartValue'] = pd.to_datetime(df['StartValue'])\n",
    "df['EndValue'] = pd.to_datetime(df['EndValue'])\n",
    "\n",
    "# Trova il primo giorno disponibile nel dataset\n",
    "start_date = df['EndValue'].min()\n",
    "\n",
    "# Calcola la differenza in giorni tra ogni data e la data iniziale\n",
    "df['DaysSinceStart'] = (df['EndValue'] - start_date).dt.days\n",
    "\n",
    "# Calcola il numero di settimane relative al primo giorno disponibile\n",
    "df['WeekNumber'] = (df['DaysSinceStart'] // 7) + 1\n",
    "\n",
    "# Aggiunta del primo e ultimo giorno della settimana come colonne\n",
    "df['WeekStart'] = df.groupby('WeekNumber')['StartValue'].transform('min')\n",
    "df['WeekEnd'] = df.groupby('WeekNumber')['EndValue'].transform('max')\n",
    "\n",
    "# Raggruppa per settimana\n",
    "weekly_data = df.groupby('WeekNumber').agg({\n",
    "    'WeekStart':                'first',  # Usa il primo valore della settimana\n",
    "    'WeekEnd':                  'first',    # Usa l'ultimo valore della settimana\n",
    "    'HrAverage' :               ['mean', 'std', 'min', 'max'],\n",
    "    'HrMax' :                   ['mean', 'std', 'min', 'max'],\n",
    "    'HrMin' :                   ['mean', 'std', 'min', 'max'],\n",
    "    'RmssdAverage' :            ['mean', 'std', 'min', 'max'],\n",
    "    'RmssdMax' :                ['mean', 'std', 'min', 'max'],\n",
    "    'RmssdMin' :                ['mean', 'std', 'min', 'max'],\n",
    "    'RrAverage' :               ['mean', 'std', 'min', 'max'],\n",
    "    'RrMax' :                   ['mean', 'std', 'min', 'max'],\n",
    "    'RrMin' :                   ['mean', 'std', 'min', 'max'],\n",
    "    'Sdnn_1Average' :           ['mean', 'std', 'min', 'max'],\n",
    "    'Sdnn_1Max' :               ['mean', 'std', 'min', 'max'],\n",
    "    'Sdnn_1Min' :               ['mean', 'std', 'min', 'max'],\n",
    "    'SnoringAverage' :          ['mean', 'std', 'min', 'max'],\n",
    "    'SnoringMax' :              ['mean', 'std', 'min', 'max'],\n",
    "    'SnoringMin' :              ['mean', 'std', 'min', 'max'],\n",
    "    'LightSleepDuration' :      ['mean', 'std', 'min', 'max'],\n",
    "    'RemSleepDuration' :        ['mean', 'std', 'min', 'max'],\n",
    "    'DeepSleepDuration' :       ['mean', 'std', 'min', 'max'],\n",
    "    'WakeUpDuration' :          ['mean', 'std', 'min', 'max'],\n",
    "    'WakeUpCount' :             ['mean', 'std', 'min', 'max'],\n",
    "    'ManualSleepDuration' :     ['mean', 'std', 'min', 'max'],\n",
    "    'UndefinedSleepDuration' :  ['mean', 'std', 'min', 'max'],\n",
    "    'OutOfBedCount' :           ['mean', 'std', 'min', 'max'],\n",
    "    'OutOfBedTime' :            ['mean', 'std', 'min', 'max'],\n",
    "    'TotalSleepTime':           ['mean', 'std', 'min', 'max'],\n",
    "    'Nap':                      'sum'  # Conta i pisolini in ogni settimana\n",
    "}).reset_index()\n",
    "columnList = ['WeekNumber',\n",
    "                'WeekStart', 'WeekEnd',\n",
    "                'MEAN_HrAverage', 'STD_HrAverage', 'MIN_HrAverage', 'MAX_HrAverage',\n",
    "                'MEAN_HrMax', 'STD_HrMax', 'MIN_HrMax', 'MAX_HrMax',\n",
    "                'MEAN_HrMin', 'STD_HrMin', 'MIN_HrMin', 'MAX_HrMin',\n",
    "                'MEAN_RmssdAverage', 'STD_RmssdAverage', 'MIN_RmssdAverage', 'MAX_RmssdAverage',\n",
    "                'MEAN_RmssdMax','STD_RmssdMax','MIN_RmssdMax','MAX_RmssdMax',\n",
    "                'MEAN_RmssdMin','STD_RmssdMin','MIN_RmssdMin','MAX_RmssdMin',\n",
    "                'MEAN_RrAverage','STD_RrAverage','MIN_RrAverage','MAX_RrAverage',\n",
    "                'MEAN_RrMax','STD_RrMax','MIN_RrMax','MAX_RrMax',\n",
    "                'MEAN_RrMin','STD_RrMin','MIN_RrMin','MAX_RrMin',\n",
    "                'MEAN_Sdnn_1Average','STD_Sdnn_1Average','MIN_Sdnn_1Average','MAX_Sdnn_1Average',\n",
    "                'MEAN_Sdnn_1Max','STD_Sdnn_1Max','MIN_Sdnn_1Max','MAX_Sdnn_1Max',\n",
    "                'MEAN_Sdnn_1Min','STD_Sdnn_1Min','MIN_Sdnn_1Min','MAX_Sdnn_1Min',\n",
    "                'MEAN_SnoringAverage','STD_SnoringAverage','MIN_SnoringAverage','MAX_SnoringAverage',\n",
    "                'MEAN_SnoringMax','STD_SnoringMax','MIN_SnoringMax','MAX_SnoringMax',\n",
    "                'MEAN_SnoringMin','STD_SnoringMin','MIN_SnoringMin','MAX_SnoringMin',\n",
    "                'MEAN_LightSleepDuration','STD_LightSleepDuration','MIN_LightSleepDuration','MAX_LightSleepDuration',\n",
    "                'MEAN_RemSleepDuration','STD_RemSleepDuration','MIN_RemSleepDuration','MAX_RemSleepDuration',\n",
    "                'MEAN_DeepSleepDuration','STD_DeepSleepDuration','MIN_DeepSleepDuration','MAX_DeepSleepDuration',\n",
    "                'MEAN_WakeUpDuration','STD_WakeUpDuration','MIN_WakeUpDuration','MAX_WakeUpDuration',\n",
    "                'MEAN_WakeUpCount','STD_WakeUpCount','MIN_WakeUpCount','MAX_WakeUpCount',\n",
    "                'MEAN_ManualSleepDuration','STD_ManualSleepDuration','MIN_ManualSleepDuration','MAX_ManualSleepDuration',\n",
    "                'MEAN_UndefinedSleepDuration','STD_UndefinedSleepDuration','MIN_UndefinedSleepDuration','MAX_UndefinedSleepDuration',\n",
    "                'MEAN_OutOfBedCount','STD_OutOfBedCount','MIN_OutOfBedCount','MAX_OutOfBedCount',\n",
    "                'MEAN_OutOfBedTime','STD_OutOfBedTime','MIN_OutOfBedTime','MAX_OutOfBedTime',\n",
    "                'MEAN_TotalSleepTime', 'STD_TotalSleepTime', 'MIN_TotalSleepTime', 'MAX_TotalSleepTime',\n",
    "                'SUM_Nap']\n",
    "# Rinomina colonne per facilità di utilizzo\n",
    "weekly_data.columns = columnList\n",
    "\n",
    "# Aggiunta di una colonna con il range di date della settimana\n",
    "weekly_data['DateRange'] = weekly_data['WeekStart'].dt.strftime('%d %b %Y') + ' - ' + weekly_data['WeekEnd'].dt.strftime('%d %b %Y')\n",
    "\n",
    "# Imposta la colonna 'std' a 0 nei casi in cui abbia NaN\n",
    "columns_with_std = [col for col in weekly_data.columns if 'std' in col.lower()]  # Trova tutte le colonne 'std'\n",
    "\n",
    "#ci sono casi in cui la standard deviation non si pò fare perchè la persona ha dormito solo 1 volta nella settimana, quindi metto a 0 la std\n",
    "for col in columns_with_std:\n",
    "    weekly_data[col] = weekly_data[col].fillna(0)  # Riempie i NaN solo nelle colonne 'std's"
   ]
  },
  {
   "cell_type": "code",
   "execution_count": 6,
   "metadata": {},
   "outputs": [],
   "source": [
    "columnsToModel = [col for col in columnList if col not in ['WeekNumber','WeekStart', 'WeekEnd', 'DateRange', 'SUM_Nap']]\n",
    "df_model = weekly_data[columnsToModel]\n",
    "df_model = df_model.astype('float64')"
   ]
  },
  {
   "cell_type": "code",
   "execution_count": 7,
   "metadata": {},
   "outputs": [],
   "source": [
    "# Reshape per avere una sequenza temporale di lunghezza 1 per ogni settimana\n",
    "X = df_model.values"
   ]
  },
  {
   "cell_type": "code",
   "execution_count": 8,
   "metadata": {},
   "outputs": [],
   "source": [
    "class TransformerModel(nn.Module):\n",
    "    def __init__(self, input_dim, hidden_dim, num_heads, num_layers, output_dim):\n",
    "        super(TransformerModel, self).__init__()\n",
    "        self.input_dim = input_dim\n",
    "        self.hidden_dim = hidden_dim\n",
    "        self.num_heads = num_heads\n",
    "        self.num_layers = num_layers\n",
    "\n",
    "        # Encoder del Transformer\n",
    "        self.encoder_layer = nn.TransformerEncoderLayer(\n",
    "            d_model=input_dim, nhead=num_heads, dim_feedforward=hidden_dim, batch_first=True)\n",
    "        self.transformer_encoder = nn.TransformerEncoder(\n",
    "            self.encoder_layer, num_layers=num_layers)\n",
    "        \n",
    "        # Layer finale per ottenere la stessa dimensione delle feature in input\n",
    "        self.fc = nn.Linear(input_dim, output_dim)  # output_dim dovrebbe essere 101\n",
    "\n",
    "    def forward(self, x):\n",
    "        # Elabora il batch (batch_size, sequence_length, input_dim)\n",
    "        x = self.transformer_encoder(x)  # (batch_size, sequence_length, input_dim)\n",
    "\n",
    "        # Rimuovi la dimensione della sequenza (sequence_length è 1 per una settimana)\n",
    "        x = x.squeeze(1)  # La forma diventa (batch_size, input_dim)\n",
    "        \n",
    "        # Passa attraverso il layer finale per ottenere l'output corretto\n",
    "        x = self.fc(x)  # output dovrebbe avere la forma (batch_size, 101)\n",
    "        \n",
    "        return x"
   ]
  },
  {
   "cell_type": "code",
   "execution_count": 9,
   "metadata": {},
   "outputs": [],
   "source": [
    "# Converti in tensor\n",
    "X_tensor = torch.tensor(X, dtype=torch.float32)\n",
    "\n",
    "# Crea un dataset e un DataLoader\n",
    "dataset = TensorDataset(X_tensor)\n",
    "batch_size = 32  # Puoi scegliere il batch_size in base alla tua memoria\n",
    "\n",
    "# Crea il DataLoader\n",
    "data_loader = DataLoader(dataset, batch_size=batch_size, shuffle=False)"
   ]
  },
  {
   "cell_type": "code",
   "execution_count": 10,
   "metadata": {},
   "outputs": [],
   "source": [
    "# Imposta i parametri del modello\n",
    "input_dim = 100  # Le tue feature settimanali\n",
    "hidden_dim = 64\n",
    "num_heads = 4\n",
    "num_layers = 2\n",
    "output_dim = 1  # Output per la classificazione delle anomalie\n",
    "\n",
    "# Crea il modello\n",
    "model = TransformerModel(input_dim, hidden_dim, num_heads, num_layers, output_dim)"
   ]
  },
  {
   "cell_type": "code",
   "execution_count": 11,
   "metadata": {},
   "outputs": [],
   "source": [
    "criterion = nn.MSELoss()  # MSE per la ricostruzione\n",
    "optimizer = optim.Adam(model.parameters(), lr=0.001)  # Adam come ottimizzatore"
   ]
  },
  {
   "cell_type": "code",
   "execution_count": 12,
   "metadata": {},
   "outputs": [
    {
     "name": "stderr",
     "output_type": "stream",
     "text": [
      "/Users/boe/Desktop/Unimi/Tesi/.venv/lib/python3.11/site-packages/torch/nn/modules/loss.py:608: UserWarning: Using a target size (torch.Size([32, 100])) that is different to the input size (torch.Size([32, 1])). This will likely lead to incorrect results due to broadcasting. Please ensure they have the same size.\n",
      "  return F.mse_loss(input, target, reduction=self.reduction)\n",
      "/Users/boe/Desktop/Unimi/Tesi/.venv/lib/python3.11/site-packages/torch/nn/modules/loss.py:608: UserWarning: Using a target size (torch.Size([28, 100])) that is different to the input size (torch.Size([28, 1])). This will likely lead to incorrect results due to broadcasting. Please ensure they have the same size.\n",
      "  return F.mse_loss(input, target, reduction=self.reduction)\n"
     ]
    },
    {
     "name": "stdout",
     "output_type": "stream",
     "text": [
      "Epoch [10/100], Loss: 0.1022\n",
      "Epoch [20/100], Loss: 0.0886\n",
      "Epoch [30/100], Loss: 0.0869\n",
      "Epoch [40/100], Loss: 0.0889\n",
      "Epoch [50/100], Loss: 0.0888\n",
      "Epoch [60/100], Loss: 0.0871\n",
      "Epoch [70/100], Loss: 0.0840\n",
      "Epoch [80/100], Loss: 0.0824\n",
      "Epoch [90/100], Loss: 0.0821\n",
      "Epoch [100/100], Loss: 0.0831\n"
     ]
    }
   ],
   "source": [
    "# 4. Addestramento del modello\n",
    "criterion = nn.MSELoss()\n",
    "optimizer = torch.optim.Adam(model.parameters(), lr=0.001)\n",
    "\n",
    "# Numero di epoche\n",
    "num_epochs = 100\n",
    "\n",
    "# Addestramento\n",
    "for epoch in range(num_epochs):\n",
    "    model.train()\n",
    "    for X_batch in data_loader:\n",
    "        X_batch = X_batch[0]  # Prendi il batch di input (ignoriamo il target, in quanto è non supervisionato)\n",
    "\n",
    "        optimizer.zero_grad()\n",
    "        output = model(X_batch)\n",
    "        loss = criterion(output, X_batch)  # La perdita è calcolata confrontando l'output con l'input\n",
    "        loss.backward()\n",
    "        optimizer.step()\n",
    "\n",
    "    if (epoch + 1) % 10 == 0:\n",
    "        print(f\"Epoch [{epoch + 1}/{num_epochs}], Loss: {loss.item():.4f}\")\n"
   ]
  },
  {
   "cell_type": "code",
   "execution_count": 13,
   "metadata": {},
   "outputs": [],
   "source": [
    "# 1. Otteniamo gli embeddings dal modello Transformer (senza classificare come anomali o normali)\n",
    "model.eval()\n",
    "embeddings = []\n",
    "\n",
    "with torch.no_grad():\n",
    "    for X_batch in X_tensor:\n",
    "        # Ottieni gli embeddings (output prima della classificazione finale)\n",
    "        embedding = model.encoder_layer(X_batch.unsqueeze(0))\n",
    "        embeddings.append(embedding.squeeze().numpy())\n",
    "\n",
    "# 2. Riduci la dimensionalità usando PCA per ottenere una rappresentazione 2D\n",
    "pca = PCA(n_components=1)\n",
    "embeddings = pca.fit_transform(embeddings)\n",
    "\n",
    "# 3. Crea un DataFrame con gli embeddings ridotti\n",
    "df_embeddings = pd.DataFrame(embeddings, columns=['Value'])\n",
    "df_embeddings['Settimana'] = np.arange(1, len(df_embeddings) + 1)"
   ]
  },
  {
   "cell_type": "code",
   "execution_count": 14,
   "metadata": {},
   "outputs": [
    {
     "data": {
      "application/vnd.plotly.v1+json": {
       "config": {
        "plotlyServerURL": "https://plot.ly"
       },
       "data": [
        {
         "hovertemplate": "Settimana=%{x}<br>Embedding Value=%{y}<extra></extra>",
         "legendgroup": "",
         "marker": {
          "color": "#636efa",
          "symbol": "circle"
         },
         "mode": "markers",
         "name": "",
         "orientation": "v",
         "showlegend": false,
         "type": "scatter",
         "x": [
          1,
          2,
          3,
          4,
          5,
          6,
          7,
          8,
          9,
          10,
          11,
          12,
          13,
          14,
          15,
          16,
          17,
          18,
          19,
          20,
          21,
          22,
          23,
          24,
          25,
          26,
          27,
          28,
          29,
          30,
          31,
          32,
          33,
          34,
          35,
          36,
          37,
          38,
          39,
          40,
          41,
          42,
          43,
          44,
          45,
          46,
          47,
          48,
          49,
          50,
          51,
          52,
          53,
          54,
          55,
          56,
          57,
          58,
          59,
          60
         ],
         "xaxis": "x",
         "y": [
          2.957697946559291,
          -1.9741304741531764,
          -1.3549586219738692,
          -1.0496034256552982,
          -1.4904301220849085,
          2.892657834312816,
          -1.2150352454362274,
          -1.2445256067256352,
          -1.6770933656889502,
          2.690133629192713,
          -1.3204936997210588,
          -1.3215974136749364,
          -1.591467872458111,
          -1.3966986065323215,
          -2.064885775870244,
          -1.7013772942920538,
          1.6042261446622705,
          -1.0808452493667575,
          3.263812634246392,
          -1.3001092558663798,
          -0.7034092512913156,
          2.5737547745073566,
          3.2335124356466327,
          -1.4449846525792465,
          -1.5752055312327207,
          3.439931828476999,
          3.7780541144561792,
          0.514846316491188,
          3.5183809848848715,
          -0.2665118986850496,
          -1.5591908974449922,
          -1.5048396353335363,
          0.7787026163313858,
          -1.0411125025865002,
          -0.5191861608093381,
          3.1895671344790393,
          1.5416883853092522,
          -1.3293351468335073,
          2.5949839020519017,
          -1.3897352709152286,
          -1.3439847691676656,
          3.3351675998560517,
          -1.3807387806175897,
          2.6799391925726113,
          0.7859888661618737,
          -1.2733005732307499,
          -1.230737863423965,
          -1.1247451271487425,
          0.6190023606472514,
          -1.3548572067116773,
          -1.3320462908568418,
          -0.9726344867781079,
          -1.3514029964905088,
          -1.4730654705751405,
          -1.717493370657701,
          3.133680896083851,
          2.9228045641502427,
          -0.7345338790016755,
          -1.7960072463842702,
          -1.8462231228241757
         ],
         "yaxis": "y"
        }
       ],
       "layout": {
        "legend": {
         "tracegroupgap": 0
        },
        "template": {
         "data": {
          "bar": [
           {
            "error_x": {
             "color": "#2a3f5f"
            },
            "error_y": {
             "color": "#2a3f5f"
            },
            "marker": {
             "line": {
              "color": "#E5ECF6",
              "width": 0.5
             },
             "pattern": {
              "fillmode": "overlay",
              "size": 10,
              "solidity": 0.2
             }
            },
            "type": "bar"
           }
          ],
          "barpolar": [
           {
            "marker": {
             "line": {
              "color": "#E5ECF6",
              "width": 0.5
             },
             "pattern": {
              "fillmode": "overlay",
              "size": 10,
              "solidity": 0.2
             }
            },
            "type": "barpolar"
           }
          ],
          "carpet": [
           {
            "aaxis": {
             "endlinecolor": "#2a3f5f",
             "gridcolor": "white",
             "linecolor": "white",
             "minorgridcolor": "white",
             "startlinecolor": "#2a3f5f"
            },
            "baxis": {
             "endlinecolor": "#2a3f5f",
             "gridcolor": "white",
             "linecolor": "white",
             "minorgridcolor": "white",
             "startlinecolor": "#2a3f5f"
            },
            "type": "carpet"
           }
          ],
          "choropleth": [
           {
            "colorbar": {
             "outlinewidth": 0,
             "ticks": ""
            },
            "type": "choropleth"
           }
          ],
          "contour": [
           {
            "colorbar": {
             "outlinewidth": 0,
             "ticks": ""
            },
            "colorscale": [
             [
              0,
              "#0d0887"
             ],
             [
              0.1111111111111111,
              "#46039f"
             ],
             [
              0.2222222222222222,
              "#7201a8"
             ],
             [
              0.3333333333333333,
              "#9c179e"
             ],
             [
              0.4444444444444444,
              "#bd3786"
             ],
             [
              0.5555555555555556,
              "#d8576b"
             ],
             [
              0.6666666666666666,
              "#ed7953"
             ],
             [
              0.7777777777777778,
              "#fb9f3a"
             ],
             [
              0.8888888888888888,
              "#fdca26"
             ],
             [
              1,
              "#f0f921"
             ]
            ],
            "type": "contour"
           }
          ],
          "contourcarpet": [
           {
            "colorbar": {
             "outlinewidth": 0,
             "ticks": ""
            },
            "type": "contourcarpet"
           }
          ],
          "heatmap": [
           {
            "colorbar": {
             "outlinewidth": 0,
             "ticks": ""
            },
            "colorscale": [
             [
              0,
              "#0d0887"
             ],
             [
              0.1111111111111111,
              "#46039f"
             ],
             [
              0.2222222222222222,
              "#7201a8"
             ],
             [
              0.3333333333333333,
              "#9c179e"
             ],
             [
              0.4444444444444444,
              "#bd3786"
             ],
             [
              0.5555555555555556,
              "#d8576b"
             ],
             [
              0.6666666666666666,
              "#ed7953"
             ],
             [
              0.7777777777777778,
              "#fb9f3a"
             ],
             [
              0.8888888888888888,
              "#fdca26"
             ],
             [
              1,
              "#f0f921"
             ]
            ],
            "type": "heatmap"
           }
          ],
          "heatmapgl": [
           {
            "colorbar": {
             "outlinewidth": 0,
             "ticks": ""
            },
            "colorscale": [
             [
              0,
              "#0d0887"
             ],
             [
              0.1111111111111111,
              "#46039f"
             ],
             [
              0.2222222222222222,
              "#7201a8"
             ],
             [
              0.3333333333333333,
              "#9c179e"
             ],
             [
              0.4444444444444444,
              "#bd3786"
             ],
             [
              0.5555555555555556,
              "#d8576b"
             ],
             [
              0.6666666666666666,
              "#ed7953"
             ],
             [
              0.7777777777777778,
              "#fb9f3a"
             ],
             [
              0.8888888888888888,
              "#fdca26"
             ],
             [
              1,
              "#f0f921"
             ]
            ],
            "type": "heatmapgl"
           }
          ],
          "histogram": [
           {
            "marker": {
             "pattern": {
              "fillmode": "overlay",
              "size": 10,
              "solidity": 0.2
             }
            },
            "type": "histogram"
           }
          ],
          "histogram2d": [
           {
            "colorbar": {
             "outlinewidth": 0,
             "ticks": ""
            },
            "colorscale": [
             [
              0,
              "#0d0887"
             ],
             [
              0.1111111111111111,
              "#46039f"
             ],
             [
              0.2222222222222222,
              "#7201a8"
             ],
             [
              0.3333333333333333,
              "#9c179e"
             ],
             [
              0.4444444444444444,
              "#bd3786"
             ],
             [
              0.5555555555555556,
              "#d8576b"
             ],
             [
              0.6666666666666666,
              "#ed7953"
             ],
             [
              0.7777777777777778,
              "#fb9f3a"
             ],
             [
              0.8888888888888888,
              "#fdca26"
             ],
             [
              1,
              "#f0f921"
             ]
            ],
            "type": "histogram2d"
           }
          ],
          "histogram2dcontour": [
           {
            "colorbar": {
             "outlinewidth": 0,
             "ticks": ""
            },
            "colorscale": [
             [
              0,
              "#0d0887"
             ],
             [
              0.1111111111111111,
              "#46039f"
             ],
             [
              0.2222222222222222,
              "#7201a8"
             ],
             [
              0.3333333333333333,
              "#9c179e"
             ],
             [
              0.4444444444444444,
              "#bd3786"
             ],
             [
              0.5555555555555556,
              "#d8576b"
             ],
             [
              0.6666666666666666,
              "#ed7953"
             ],
             [
              0.7777777777777778,
              "#fb9f3a"
             ],
             [
              0.8888888888888888,
              "#fdca26"
             ],
             [
              1,
              "#f0f921"
             ]
            ],
            "type": "histogram2dcontour"
           }
          ],
          "mesh3d": [
           {
            "colorbar": {
             "outlinewidth": 0,
             "ticks": ""
            },
            "type": "mesh3d"
           }
          ],
          "parcoords": [
           {
            "line": {
             "colorbar": {
              "outlinewidth": 0,
              "ticks": ""
             }
            },
            "type": "parcoords"
           }
          ],
          "pie": [
           {
            "automargin": true,
            "type": "pie"
           }
          ],
          "scatter": [
           {
            "fillpattern": {
             "fillmode": "overlay",
             "size": 10,
             "solidity": 0.2
            },
            "type": "scatter"
           }
          ],
          "scatter3d": [
           {
            "line": {
             "colorbar": {
              "outlinewidth": 0,
              "ticks": ""
             }
            },
            "marker": {
             "colorbar": {
              "outlinewidth": 0,
              "ticks": ""
             }
            },
            "type": "scatter3d"
           }
          ],
          "scattercarpet": [
           {
            "marker": {
             "colorbar": {
              "outlinewidth": 0,
              "ticks": ""
             }
            },
            "type": "scattercarpet"
           }
          ],
          "scattergeo": [
           {
            "marker": {
             "colorbar": {
              "outlinewidth": 0,
              "ticks": ""
             }
            },
            "type": "scattergeo"
           }
          ],
          "scattergl": [
           {
            "marker": {
             "colorbar": {
              "outlinewidth": 0,
              "ticks": ""
             }
            },
            "type": "scattergl"
           }
          ],
          "scattermapbox": [
           {
            "marker": {
             "colorbar": {
              "outlinewidth": 0,
              "ticks": ""
             }
            },
            "type": "scattermapbox"
           }
          ],
          "scatterpolar": [
           {
            "marker": {
             "colorbar": {
              "outlinewidth": 0,
              "ticks": ""
             }
            },
            "type": "scatterpolar"
           }
          ],
          "scatterpolargl": [
           {
            "marker": {
             "colorbar": {
              "outlinewidth": 0,
              "ticks": ""
             }
            },
            "type": "scatterpolargl"
           }
          ],
          "scatterternary": [
           {
            "marker": {
             "colorbar": {
              "outlinewidth": 0,
              "ticks": ""
             }
            },
            "type": "scatterternary"
           }
          ],
          "surface": [
           {
            "colorbar": {
             "outlinewidth": 0,
             "ticks": ""
            },
            "colorscale": [
             [
              0,
              "#0d0887"
             ],
             [
              0.1111111111111111,
              "#46039f"
             ],
             [
              0.2222222222222222,
              "#7201a8"
             ],
             [
              0.3333333333333333,
              "#9c179e"
             ],
             [
              0.4444444444444444,
              "#bd3786"
             ],
             [
              0.5555555555555556,
              "#d8576b"
             ],
             [
              0.6666666666666666,
              "#ed7953"
             ],
             [
              0.7777777777777778,
              "#fb9f3a"
             ],
             [
              0.8888888888888888,
              "#fdca26"
             ],
             [
              1,
              "#f0f921"
             ]
            ],
            "type": "surface"
           }
          ],
          "table": [
           {
            "cells": {
             "fill": {
              "color": "#EBF0F8"
             },
             "line": {
              "color": "white"
             }
            },
            "header": {
             "fill": {
              "color": "#C8D4E3"
             },
             "line": {
              "color": "white"
             }
            },
            "type": "table"
           }
          ]
         },
         "layout": {
          "annotationdefaults": {
           "arrowcolor": "#2a3f5f",
           "arrowhead": 0,
           "arrowwidth": 1
          },
          "autotypenumbers": "strict",
          "coloraxis": {
           "colorbar": {
            "outlinewidth": 0,
            "ticks": ""
           }
          },
          "colorscale": {
           "diverging": [
            [
             0,
             "#8e0152"
            ],
            [
             0.1,
             "#c51b7d"
            ],
            [
             0.2,
             "#de77ae"
            ],
            [
             0.3,
             "#f1b6da"
            ],
            [
             0.4,
             "#fde0ef"
            ],
            [
             0.5,
             "#f7f7f7"
            ],
            [
             0.6,
             "#e6f5d0"
            ],
            [
             0.7,
             "#b8e186"
            ],
            [
             0.8,
             "#7fbc41"
            ],
            [
             0.9,
             "#4d9221"
            ],
            [
             1,
             "#276419"
            ]
           ],
           "sequential": [
            [
             0,
             "#0d0887"
            ],
            [
             0.1111111111111111,
             "#46039f"
            ],
            [
             0.2222222222222222,
             "#7201a8"
            ],
            [
             0.3333333333333333,
             "#9c179e"
            ],
            [
             0.4444444444444444,
             "#bd3786"
            ],
            [
             0.5555555555555556,
             "#d8576b"
            ],
            [
             0.6666666666666666,
             "#ed7953"
            ],
            [
             0.7777777777777778,
             "#fb9f3a"
            ],
            [
             0.8888888888888888,
             "#fdca26"
            ],
            [
             1,
             "#f0f921"
            ]
           ],
           "sequentialminus": [
            [
             0,
             "#0d0887"
            ],
            [
             0.1111111111111111,
             "#46039f"
            ],
            [
             0.2222222222222222,
             "#7201a8"
            ],
            [
             0.3333333333333333,
             "#9c179e"
            ],
            [
             0.4444444444444444,
             "#bd3786"
            ],
            [
             0.5555555555555556,
             "#d8576b"
            ],
            [
             0.6666666666666666,
             "#ed7953"
            ],
            [
             0.7777777777777778,
             "#fb9f3a"
            ],
            [
             0.8888888888888888,
             "#fdca26"
            ],
            [
             1,
             "#f0f921"
            ]
           ]
          },
          "colorway": [
           "#636efa",
           "#EF553B",
           "#00cc96",
           "#ab63fa",
           "#FFA15A",
           "#19d3f3",
           "#FF6692",
           "#B6E880",
           "#FF97FF",
           "#FECB52"
          ],
          "font": {
           "color": "#2a3f5f"
          },
          "geo": {
           "bgcolor": "white",
           "lakecolor": "white",
           "landcolor": "#E5ECF6",
           "showlakes": true,
           "showland": true,
           "subunitcolor": "white"
          },
          "hoverlabel": {
           "align": "left"
          },
          "hovermode": "closest",
          "mapbox": {
           "style": "light"
          },
          "paper_bgcolor": "white",
          "plot_bgcolor": "#E5ECF6",
          "polar": {
           "angularaxis": {
            "gridcolor": "white",
            "linecolor": "white",
            "ticks": ""
           },
           "bgcolor": "#E5ECF6",
           "radialaxis": {
            "gridcolor": "white",
            "linecolor": "white",
            "ticks": ""
           }
          },
          "scene": {
           "xaxis": {
            "backgroundcolor": "#E5ECF6",
            "gridcolor": "white",
            "gridwidth": 2,
            "linecolor": "white",
            "showbackground": true,
            "ticks": "",
            "zerolinecolor": "white"
           },
           "yaxis": {
            "backgroundcolor": "#E5ECF6",
            "gridcolor": "white",
            "gridwidth": 2,
            "linecolor": "white",
            "showbackground": true,
            "ticks": "",
            "zerolinecolor": "white"
           },
           "zaxis": {
            "backgroundcolor": "#E5ECF6",
            "gridcolor": "white",
            "gridwidth": 2,
            "linecolor": "white",
            "showbackground": true,
            "ticks": "",
            "zerolinecolor": "white"
           }
          },
          "shapedefaults": {
           "line": {
            "color": "#2a3f5f"
           }
          },
          "ternary": {
           "aaxis": {
            "gridcolor": "white",
            "linecolor": "white",
            "ticks": ""
           },
           "baxis": {
            "gridcolor": "white",
            "linecolor": "white",
            "ticks": ""
           },
           "bgcolor": "#E5ECF6",
           "caxis": {
            "gridcolor": "white",
            "linecolor": "white",
            "ticks": ""
           }
          },
          "title": {
           "x": 0.05
          },
          "xaxis": {
           "automargin": true,
           "gridcolor": "white",
           "linecolor": "white",
           "ticks": "",
           "title": {
            "standoff": 15
           },
           "zerolinecolor": "white",
           "zerolinewidth": 2
          },
          "yaxis": {
           "automargin": true,
           "gridcolor": "white",
           "linecolor": "white",
           "ticks": "",
           "title": {
            "standoff": 15
           },
           "zerolinecolor": "white",
           "zerolinewidth": 2
          }
         }
        },
        "title": {
         "text": "Andamento della Dormita (PCA Embeddings)"
        },
        "xaxis": {
         "anchor": "y",
         "domain": [
          0,
          1
         ],
         "title": {
          "text": "Settimana"
         }
        },
        "yaxis": {
         "anchor": "x",
         "domain": [
          0,
          1
         ],
         "title": {
          "text": "Embedding Value"
         }
        }
       }
      }
     },
     "metadata": {},
     "output_type": "display_data"
    }
   ],
   "source": [
    "# 4. Visualizza il grafico 2D delle settimane\n",
    "fig = px.scatter(df_embeddings, x='Settimana', y='Value', title=\"Andamento della Dormita (PCA Embeddings)\",\n",
    "                 labels={'Settimana': 'Settimana', 'Value': 'Embedding Value'})\n",
    "\n",
    "fig.show()"
   ]
  },
  {
   "cell_type": "code",
   "execution_count": 15,
   "metadata": {},
   "outputs": [],
   "source": [
    "# 5. Calcola l'errore di ricostruzione\n",
    "reconstruction_errors = []\n",
    "\n",
    "model.eval()\n",
    "with torch.no_grad():\n",
    "    for X_batch in data_loader:\n",
    "        X_batch = X_batch[0]\n",
    "        reconstructed = model(X_batch)  # Il modello ricostruisce i dati\n",
    "        error = ((X_batch - reconstructed) ** 2).mean(dim=1)  # Calcola l'errore per ogni settimana\n",
    "        reconstruction_errors.extend(error.tolist())"
   ]
  },
  {
   "cell_type": "code",
   "execution_count": 16,
   "metadata": {},
   "outputs": [],
   "source": [
    "# 6. Identifica le settimane anomale\n",
    "threshold = np.percentile(reconstruction_errors, 95)  # Threshold al 95° percentile\n",
    "\n",
    "# Etichetta per ogni settimana: 1 se anomala, 0 se normale\n",
    "labels = [1 if error > threshold else 0 for error in reconstruction_errors]"
   ]
  },
  {
   "cell_type": "code",
   "execution_count": 17,
   "metadata": {},
   "outputs": [
    {
     "data": {
      "application/vnd.plotly.v1+json": {
       "config": {
        "plotlyServerURL": "https://plot.ly"
       },
       "data": [
        {
         "hovertemplate": "Anomalia=0<br>Settimana=%{x}<br>Errore di Ricostruzione=%{y}<extra></extra>",
         "legendgroup": "0",
         "marker": {
          "color": "blue",
          "symbol": "circle"
         },
         "mode": "markers",
         "name": "0",
         "orientation": "v",
         "showlegend": true,
         "type": "scatter",
         "x": [
          1,
          2,
          3,
          4,
          5,
          6,
          7,
          8,
          9,
          10,
          11,
          12,
          13,
          14,
          15,
          16,
          17,
          18,
          19,
          20,
          22,
          23,
          24,
          25,
          26,
          27,
          28,
          29,
          30,
          32,
          33,
          34,
          35,
          36,
          37,
          38,
          39,
          40,
          41,
          42,
          43,
          44,
          45,
          46,
          47,
          48,
          49,
          50,
          51,
          53,
          54,
          55,
          56,
          57,
          58,
          59,
          60
         ],
         "xaxis": "x",
         "y": [
          0.0704941600561142,
          0.07014086842536926,
          0.0748833492398262,
          0.0721382200717926,
          0.07745641469955444,
          0.07782211154699326,
          0.07204879075288773,
          0.07056230306625366,
          0.06601360440254211,
          0.0664316862821579,
          0.07383357733488083,
          0.07502391934394836,
          0.06957177817821503,
          0.08647136390209198,
          0.08783704042434692,
          0.08258968591690063,
          0.07666023820638657,
          0.07630545645952225,
          0.07841522246599197,
          0.07634799182415009,
          0.07922662794589996,
          0.07882578670978546,
          0.07191793620586395,
          0.07660529017448425,
          0.09092842042446136,
          0.07892958074808121,
          0.07169771939516068,
          0.08353380858898163,
          0.07295210659503937,
          0.07727359980344772,
          0.07533730566501617,
          0.07280553132295609,
          0.0797717347741127,
          0.08928244560956955,
          0.08076303452253342,
          0.07478013634681702,
          0.08241260796785355,
          0.0780770555138588,
          0.0759371966123581,
          0.08222100883722305,
          0.07169643044471741,
          0.07628612965345383,
          0.07552392780780792,
          0.0695275366306305,
          0.06960657238960266,
          0.07439229637384415,
          0.08576920628547668,
          0.07854150980710983,
          0.08308031409978867,
          0.08107267320156097,
          0.07604867964982986,
          0.0750495046377182,
          0.08361098915338516,
          0.08732832223176956,
          0.08004070073366165,
          0.09025883674621582,
          0.08246313035488129
         ],
         "yaxis": "y"
        },
        {
         "hovertemplate": "Anomalia=1<br>Settimana=%{x}<br>Errore di Ricostruzione=%{y}<extra></extra>",
         "legendgroup": "1",
         "marker": {
          "color": "red",
          "symbol": "circle"
         },
         "mode": "markers",
         "name": "1",
         "orientation": "v",
         "showlegend": true,
         "type": "scatter",
         "x": [
          21,
          31,
          52
         ],
         "xaxis": "x",
         "y": [
          0.09281208366155624,
          0.09138795733451843,
          0.0917491689324379
         ],
         "yaxis": "y"
        }
       ],
       "layout": {
        "legend": {
         "title": {
          "text": "Anomalia"
         },
         "tracegroupgap": 0
        },
        "template": {
         "data": {
          "bar": [
           {
            "error_x": {
             "color": "#2a3f5f"
            },
            "error_y": {
             "color": "#2a3f5f"
            },
            "marker": {
             "line": {
              "color": "#E5ECF6",
              "width": 0.5
             },
             "pattern": {
              "fillmode": "overlay",
              "size": 10,
              "solidity": 0.2
             }
            },
            "type": "bar"
           }
          ],
          "barpolar": [
           {
            "marker": {
             "line": {
              "color": "#E5ECF6",
              "width": 0.5
             },
             "pattern": {
              "fillmode": "overlay",
              "size": 10,
              "solidity": 0.2
             }
            },
            "type": "barpolar"
           }
          ],
          "carpet": [
           {
            "aaxis": {
             "endlinecolor": "#2a3f5f",
             "gridcolor": "white",
             "linecolor": "white",
             "minorgridcolor": "white",
             "startlinecolor": "#2a3f5f"
            },
            "baxis": {
             "endlinecolor": "#2a3f5f",
             "gridcolor": "white",
             "linecolor": "white",
             "minorgridcolor": "white",
             "startlinecolor": "#2a3f5f"
            },
            "type": "carpet"
           }
          ],
          "choropleth": [
           {
            "colorbar": {
             "outlinewidth": 0,
             "ticks": ""
            },
            "type": "choropleth"
           }
          ],
          "contour": [
           {
            "colorbar": {
             "outlinewidth": 0,
             "ticks": ""
            },
            "colorscale": [
             [
              0,
              "#0d0887"
             ],
             [
              0.1111111111111111,
              "#46039f"
             ],
             [
              0.2222222222222222,
              "#7201a8"
             ],
             [
              0.3333333333333333,
              "#9c179e"
             ],
             [
              0.4444444444444444,
              "#bd3786"
             ],
             [
              0.5555555555555556,
              "#d8576b"
             ],
             [
              0.6666666666666666,
              "#ed7953"
             ],
             [
              0.7777777777777778,
              "#fb9f3a"
             ],
             [
              0.8888888888888888,
              "#fdca26"
             ],
             [
              1,
              "#f0f921"
             ]
            ],
            "type": "contour"
           }
          ],
          "contourcarpet": [
           {
            "colorbar": {
             "outlinewidth": 0,
             "ticks": ""
            },
            "type": "contourcarpet"
           }
          ],
          "heatmap": [
           {
            "colorbar": {
             "outlinewidth": 0,
             "ticks": ""
            },
            "colorscale": [
             [
              0,
              "#0d0887"
             ],
             [
              0.1111111111111111,
              "#46039f"
             ],
             [
              0.2222222222222222,
              "#7201a8"
             ],
             [
              0.3333333333333333,
              "#9c179e"
             ],
             [
              0.4444444444444444,
              "#bd3786"
             ],
             [
              0.5555555555555556,
              "#d8576b"
             ],
             [
              0.6666666666666666,
              "#ed7953"
             ],
             [
              0.7777777777777778,
              "#fb9f3a"
             ],
             [
              0.8888888888888888,
              "#fdca26"
             ],
             [
              1,
              "#f0f921"
             ]
            ],
            "type": "heatmap"
           }
          ],
          "heatmapgl": [
           {
            "colorbar": {
             "outlinewidth": 0,
             "ticks": ""
            },
            "colorscale": [
             [
              0,
              "#0d0887"
             ],
             [
              0.1111111111111111,
              "#46039f"
             ],
             [
              0.2222222222222222,
              "#7201a8"
             ],
             [
              0.3333333333333333,
              "#9c179e"
             ],
             [
              0.4444444444444444,
              "#bd3786"
             ],
             [
              0.5555555555555556,
              "#d8576b"
             ],
             [
              0.6666666666666666,
              "#ed7953"
             ],
             [
              0.7777777777777778,
              "#fb9f3a"
             ],
             [
              0.8888888888888888,
              "#fdca26"
             ],
             [
              1,
              "#f0f921"
             ]
            ],
            "type": "heatmapgl"
           }
          ],
          "histogram": [
           {
            "marker": {
             "pattern": {
              "fillmode": "overlay",
              "size": 10,
              "solidity": 0.2
             }
            },
            "type": "histogram"
           }
          ],
          "histogram2d": [
           {
            "colorbar": {
             "outlinewidth": 0,
             "ticks": ""
            },
            "colorscale": [
             [
              0,
              "#0d0887"
             ],
             [
              0.1111111111111111,
              "#46039f"
             ],
             [
              0.2222222222222222,
              "#7201a8"
             ],
             [
              0.3333333333333333,
              "#9c179e"
             ],
             [
              0.4444444444444444,
              "#bd3786"
             ],
             [
              0.5555555555555556,
              "#d8576b"
             ],
             [
              0.6666666666666666,
              "#ed7953"
             ],
             [
              0.7777777777777778,
              "#fb9f3a"
             ],
             [
              0.8888888888888888,
              "#fdca26"
             ],
             [
              1,
              "#f0f921"
             ]
            ],
            "type": "histogram2d"
           }
          ],
          "histogram2dcontour": [
           {
            "colorbar": {
             "outlinewidth": 0,
             "ticks": ""
            },
            "colorscale": [
             [
              0,
              "#0d0887"
             ],
             [
              0.1111111111111111,
              "#46039f"
             ],
             [
              0.2222222222222222,
              "#7201a8"
             ],
             [
              0.3333333333333333,
              "#9c179e"
             ],
             [
              0.4444444444444444,
              "#bd3786"
             ],
             [
              0.5555555555555556,
              "#d8576b"
             ],
             [
              0.6666666666666666,
              "#ed7953"
             ],
             [
              0.7777777777777778,
              "#fb9f3a"
             ],
             [
              0.8888888888888888,
              "#fdca26"
             ],
             [
              1,
              "#f0f921"
             ]
            ],
            "type": "histogram2dcontour"
           }
          ],
          "mesh3d": [
           {
            "colorbar": {
             "outlinewidth": 0,
             "ticks": ""
            },
            "type": "mesh3d"
           }
          ],
          "parcoords": [
           {
            "line": {
             "colorbar": {
              "outlinewidth": 0,
              "ticks": ""
             }
            },
            "type": "parcoords"
           }
          ],
          "pie": [
           {
            "automargin": true,
            "type": "pie"
           }
          ],
          "scatter": [
           {
            "fillpattern": {
             "fillmode": "overlay",
             "size": 10,
             "solidity": 0.2
            },
            "type": "scatter"
           }
          ],
          "scatter3d": [
           {
            "line": {
             "colorbar": {
              "outlinewidth": 0,
              "ticks": ""
             }
            },
            "marker": {
             "colorbar": {
              "outlinewidth": 0,
              "ticks": ""
             }
            },
            "type": "scatter3d"
           }
          ],
          "scattercarpet": [
           {
            "marker": {
             "colorbar": {
              "outlinewidth": 0,
              "ticks": ""
             }
            },
            "type": "scattercarpet"
           }
          ],
          "scattergeo": [
           {
            "marker": {
             "colorbar": {
              "outlinewidth": 0,
              "ticks": ""
             }
            },
            "type": "scattergeo"
           }
          ],
          "scattergl": [
           {
            "marker": {
             "colorbar": {
              "outlinewidth": 0,
              "ticks": ""
             }
            },
            "type": "scattergl"
           }
          ],
          "scattermapbox": [
           {
            "marker": {
             "colorbar": {
              "outlinewidth": 0,
              "ticks": ""
             }
            },
            "type": "scattermapbox"
           }
          ],
          "scatterpolar": [
           {
            "marker": {
             "colorbar": {
              "outlinewidth": 0,
              "ticks": ""
             }
            },
            "type": "scatterpolar"
           }
          ],
          "scatterpolargl": [
           {
            "marker": {
             "colorbar": {
              "outlinewidth": 0,
              "ticks": ""
             }
            },
            "type": "scatterpolargl"
           }
          ],
          "scatterternary": [
           {
            "marker": {
             "colorbar": {
              "outlinewidth": 0,
              "ticks": ""
             }
            },
            "type": "scatterternary"
           }
          ],
          "surface": [
           {
            "colorbar": {
             "outlinewidth": 0,
             "ticks": ""
            },
            "colorscale": [
             [
              0,
              "#0d0887"
             ],
             [
              0.1111111111111111,
              "#46039f"
             ],
             [
              0.2222222222222222,
              "#7201a8"
             ],
             [
              0.3333333333333333,
              "#9c179e"
             ],
             [
              0.4444444444444444,
              "#bd3786"
             ],
             [
              0.5555555555555556,
              "#d8576b"
             ],
             [
              0.6666666666666666,
              "#ed7953"
             ],
             [
              0.7777777777777778,
              "#fb9f3a"
             ],
             [
              0.8888888888888888,
              "#fdca26"
             ],
             [
              1,
              "#f0f921"
             ]
            ],
            "type": "surface"
           }
          ],
          "table": [
           {
            "cells": {
             "fill": {
              "color": "#EBF0F8"
             },
             "line": {
              "color": "white"
             }
            },
            "header": {
             "fill": {
              "color": "#C8D4E3"
             },
             "line": {
              "color": "white"
             }
            },
            "type": "table"
           }
          ]
         },
         "layout": {
          "annotationdefaults": {
           "arrowcolor": "#2a3f5f",
           "arrowhead": 0,
           "arrowwidth": 1
          },
          "autotypenumbers": "strict",
          "coloraxis": {
           "colorbar": {
            "outlinewidth": 0,
            "ticks": ""
           }
          },
          "colorscale": {
           "diverging": [
            [
             0,
             "#8e0152"
            ],
            [
             0.1,
             "#c51b7d"
            ],
            [
             0.2,
             "#de77ae"
            ],
            [
             0.3,
             "#f1b6da"
            ],
            [
             0.4,
             "#fde0ef"
            ],
            [
             0.5,
             "#f7f7f7"
            ],
            [
             0.6,
             "#e6f5d0"
            ],
            [
             0.7,
             "#b8e186"
            ],
            [
             0.8,
             "#7fbc41"
            ],
            [
             0.9,
             "#4d9221"
            ],
            [
             1,
             "#276419"
            ]
           ],
           "sequential": [
            [
             0,
             "#0d0887"
            ],
            [
             0.1111111111111111,
             "#46039f"
            ],
            [
             0.2222222222222222,
             "#7201a8"
            ],
            [
             0.3333333333333333,
             "#9c179e"
            ],
            [
             0.4444444444444444,
             "#bd3786"
            ],
            [
             0.5555555555555556,
             "#d8576b"
            ],
            [
             0.6666666666666666,
             "#ed7953"
            ],
            [
             0.7777777777777778,
             "#fb9f3a"
            ],
            [
             0.8888888888888888,
             "#fdca26"
            ],
            [
             1,
             "#f0f921"
            ]
           ],
           "sequentialminus": [
            [
             0,
             "#0d0887"
            ],
            [
             0.1111111111111111,
             "#46039f"
            ],
            [
             0.2222222222222222,
             "#7201a8"
            ],
            [
             0.3333333333333333,
             "#9c179e"
            ],
            [
             0.4444444444444444,
             "#bd3786"
            ],
            [
             0.5555555555555556,
             "#d8576b"
            ],
            [
             0.6666666666666666,
             "#ed7953"
            ],
            [
             0.7777777777777778,
             "#fb9f3a"
            ],
            [
             0.8888888888888888,
             "#fdca26"
            ],
            [
             1,
             "#f0f921"
            ]
           ]
          },
          "colorway": [
           "#636efa",
           "#EF553B",
           "#00cc96",
           "#ab63fa",
           "#FFA15A",
           "#19d3f3",
           "#FF6692",
           "#B6E880",
           "#FF97FF",
           "#FECB52"
          ],
          "font": {
           "color": "#2a3f5f"
          },
          "geo": {
           "bgcolor": "white",
           "lakecolor": "white",
           "landcolor": "#E5ECF6",
           "showlakes": true,
           "showland": true,
           "subunitcolor": "white"
          },
          "hoverlabel": {
           "align": "left"
          },
          "hovermode": "closest",
          "mapbox": {
           "style": "light"
          },
          "paper_bgcolor": "white",
          "plot_bgcolor": "#E5ECF6",
          "polar": {
           "angularaxis": {
            "gridcolor": "white",
            "linecolor": "white",
            "ticks": ""
           },
           "bgcolor": "#E5ECF6",
           "radialaxis": {
            "gridcolor": "white",
            "linecolor": "white",
            "ticks": ""
           }
          },
          "scene": {
           "xaxis": {
            "backgroundcolor": "#E5ECF6",
            "gridcolor": "white",
            "gridwidth": 2,
            "linecolor": "white",
            "showbackground": true,
            "ticks": "",
            "zerolinecolor": "white"
           },
           "yaxis": {
            "backgroundcolor": "#E5ECF6",
            "gridcolor": "white",
            "gridwidth": 2,
            "linecolor": "white",
            "showbackground": true,
            "ticks": "",
            "zerolinecolor": "white"
           },
           "zaxis": {
            "backgroundcolor": "#E5ECF6",
            "gridcolor": "white",
            "gridwidth": 2,
            "linecolor": "white",
            "showbackground": true,
            "ticks": "",
            "zerolinecolor": "white"
           }
          },
          "shapedefaults": {
           "line": {
            "color": "#2a3f5f"
           }
          },
          "ternary": {
           "aaxis": {
            "gridcolor": "white",
            "linecolor": "white",
            "ticks": ""
           },
           "baxis": {
            "gridcolor": "white",
            "linecolor": "white",
            "ticks": ""
           },
           "bgcolor": "#E5ECF6",
           "caxis": {
            "gridcolor": "white",
            "linecolor": "white",
            "ticks": ""
           }
          },
          "title": {
           "x": 0.05
          },
          "xaxis": {
           "automargin": true,
           "gridcolor": "white",
           "linecolor": "white",
           "ticks": "",
           "title": {
            "standoff": 15
           },
           "zerolinecolor": "white",
           "zerolinewidth": 2
          },
          "yaxis": {
           "automargin": true,
           "gridcolor": "white",
           "linecolor": "white",
           "ticks": "",
           "title": {
            "standoff": 15
           },
           "zerolinecolor": "white",
           "zerolinewidth": 2
          }
         }
        },
        "title": {
         "text": "Anomalie nelle settimane di sonno"
        },
        "xaxis": {
         "anchor": "y",
         "domain": [
          0,
          1
         ],
         "title": {
          "text": "Settimana"
         }
        },
        "yaxis": {
         "anchor": "x",
         "domain": [
          0,
          1
         ],
         "title": {
          "text": "Errore di Ricostruzione"
         }
        }
       }
      }
     },
     "metadata": {},
     "output_type": "display_data"
    }
   ],
   "source": [
    "# DataFrame per la visualizzazione\n",
    "df_plot = pd.DataFrame({\n",
    "    'Settimana': np.arange(1, len(reconstruction_errors) + 1),  # 60 settimane\n",
    "    'Errore': reconstruction_errors,\n",
    "    'Anomalia': labels\n",
    "})\n",
    "\n",
    "# Assicurati che la colonna 'Anomalia' sia di tipo categorico per un mapping discreto\n",
    "df_plot['Anomalia'] = df_plot['Anomalia'].astype('category')\n",
    "\n",
    "# Creazione del grafico con colori rosso e blu per le anomalie\n",
    "fig = px.scatter(df_plot, x='Settimana', y='Errore', color='Anomalia',\n",
    "                 color_discrete_map={0: 'blue', 1: 'red'},  # Associa il blu per 0 (normale) e rosso per 1 (anomalia)\n",
    "                 title=\"Anomalie nelle settimane di sonno\",\n",
    "                 labels={'Errore': 'Errore di Ricostruzione', 'Settimana': 'Settimana'})\n",
    "\n",
    "fig.show()"
   ]
  },
  {
   "cell_type": "code",
   "execution_count": null,
   "metadata": {},
   "outputs": [],
   "source": []
  }
 ],
 "metadata": {
  "kernelspec": {
   "display_name": ".venv",
   "language": "python",
   "name": "python3"
  },
  "language_info": {
   "codemirror_mode": {
    "name": "ipython",
    "version": 3
   },
   "file_extension": ".py",
   "mimetype": "text/x-python",
   "name": "python",
   "nbconvert_exporter": "python",
   "pygments_lexer": "ipython3",
   "version": "3.11.9"
  }
 },
 "nbformat": 4,
 "nbformat_minor": 2
}
