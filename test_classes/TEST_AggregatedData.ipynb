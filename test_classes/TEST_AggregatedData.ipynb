{
 "cells": [
  {
   "cell_type": "code",
   "execution_count": 1,
   "metadata": {},
   "outputs": [],
   "source": [
    "import sys\n",
    "from datetime import datetime\n",
    "sys.path.append('../SleepClasses/')\n",
    "\n",
    "import pandas as pd\n",
    "from AggregatedData import AggregatedData\n",
    "\n",
    "# Mostra tutte le colonne\n",
    "pd.set_option('display.max_columns', None)"
   ]
  },
  {
   "cell_type": "code",
   "execution_count": 2,
   "metadata": {},
   "outputs": [],
   "source": [
    "sleep_dfs_agg = pd.read_pickle(r'../SleepData/sleep_dfs_agg.pkl')\n",
    "sleep_dfs_gran = pd.read_pickle(r'../SleepData/sleep_dfs_gran.pkl')\n",
    "agg = AggregatedData(sleep_dfs_gran['16'], sleep_dfs_agg['16'])"
   ]
  },
  {
   "cell_type": "code",
   "execution_count": 3,
   "metadata": {},
   "outputs": [
    {
     "data": {
      "text/html": [
       "<div>\n",
       "<style scoped>\n",
       "    .dataframe tbody tr th:only-of-type {\n",
       "        vertical-align: middle;\n",
       "    }\n",
       "\n",
       "    .dataframe tbody tr th {\n",
       "        vertical-align: top;\n",
       "    }\n",
       "\n",
       "    .dataframe thead th {\n",
       "        text-align: right;\n",
       "    }\n",
       "</style>\n",
       "<table border=\"1\" class=\"dataframe\">\n",
       "  <thead>\n",
       "    <tr style=\"text-align: right;\">\n",
       "      <th></th>\n",
       "      <th>date</th>\n",
       "      <th>date_start</th>\n",
       "      <th>date_end</th>\n",
       "      <th>nap</th>\n",
       "      <th>manual_sleep_duration</th>\n",
       "      <th>undefined_sleep_duration</th>\n",
       "      <th>hr_average</th>\n",
       "      <th>hr_max</th>\n",
       "      <th>hr_min</th>\n",
       "      <th>rmssd_average</th>\n",
       "      <th>rmssd_max</th>\n",
       "      <th>rmssd_min</th>\n",
       "      <th>rr_average</th>\n",
       "      <th>rr_max</th>\n",
       "      <th>rr_min</th>\n",
       "      <th>sdnn_1_average</th>\n",
       "      <th>sdnn_1_max</th>\n",
       "      <th>sdnn_1_min</th>\n",
       "      <th>snoring_average</th>\n",
       "      <th>snoring_max</th>\n",
       "      <th>snoring_min</th>\n",
       "      <th>wakeup_count</th>\n",
       "      <th>out_of_bed_count</th>\n",
       "      <th>out_of_bed_time</th>\n",
       "      <th>out_of_bed</th>\n",
       "      <th>light_sleep_duration</th>\n",
       "      <th>deep_sleep_duration</th>\n",
       "      <th>rem_sleep_duration</th>\n",
       "      <th>wakeup_duration</th>\n",
       "      <th>total_sleep_time</th>\n",
       "      <th>nb_rem_episodes</th>\n",
       "      <th>sleep_efficiency</th>\n",
       "      <th>sleep_latency</th>\n",
       "      <th>total_timeinbed</th>\n",
       "      <th>apnea_hypopnea_index</th>\n",
       "      <th>breathing_disturbances_intensity</th>\n",
       "      <th>night_events</th>\n",
       "      <th>snoring</th>\n",
       "      <th>wakeup_latency</th>\n",
       "      <th>waso</th>\n",
       "      <th>snoringepisodecount</th>\n",
       "      <th>sleep_score</th>\n",
       "      <th>model</th>\n",
       "      <th>model_id</th>\n",
       "      <th>mvt_active_duration</th>\n",
       "      <th>mvt_score_average</th>\n",
       "      <th>mvt_score_max</th>\n",
       "      <th>mvt_score_min</th>\n",
       "    </tr>\n",
       "  </thead>\n",
       "  <tbody>\n",
       "    <tr>\n",
       "      <th>0</th>\n",
       "      <td>2024-09-21</td>\n",
       "      <td>2024-09-21 01:19:00+02:00</td>\n",
       "      <td>2024-09-21 09:13:00+02:00</td>\n",
       "      <td>False</td>\n",
       "      <td>0.0</td>\n",
       "      <td>0.0</td>\n",
       "      <td>52</td>\n",
       "      <td>65</td>\n",
       "      <td>48</td>\n",
       "      <td>44.0</td>\n",
       "      <td>55.0</td>\n",
       "      <td>0.0</td>\n",
       "      <td>11.0</td>\n",
       "      <td>18.0</td>\n",
       "      <td>9.0</td>\n",
       "      <td>52.0</td>\n",
       "      <td>64.0</td>\n",
       "      <td>0.0</td>\n",
       "      <td>0.0</td>\n",
       "      <td>100.0</td>\n",
       "      <td>0.0</td>\n",
       "      <td>1</td>\n",
       "      <td>0</td>\n",
       "      <td>0 days 00:00:00</td>\n",
       "      <td>[]</td>\n",
       "      <td>6300</td>\n",
       "      <td>13860</td>\n",
       "      <td>5340.0</td>\n",
       "      <td>2700</td>\n",
       "      <td>25500</td>\n",
       "      <td>3.0</td>\n",
       "      <td>0.90</td>\n",
       "      <td>2700.0</td>\n",
       "      <td>28200.0</td>\n",
       "      <td>7.23</td>\n",
       "      <td>14.0</td>\n",
       "      <td>{\"1\":[0,24420],\"2\":[2700,21720],\"3\":[24180,426...</td>\n",
       "      <td>240.0</td>\n",
       "      <td>0.0</td>\n",
       "      <td>240.0</td>\n",
       "      <td>1.0</td>\n",
       "      <td>86.0</td>\n",
       "      <td>32</td>\n",
       "      <td>63</td>\n",
       "      <td>317.142857</td>\n",
       "      <td>0.857143</td>\n",
       "      <td>11.857143</td>\n",
       "      <td>0.714286</td>\n",
       "    </tr>\n",
       "    <tr>\n",
       "      <th>1</th>\n",
       "      <td>2024-09-22</td>\n",
       "      <td>2024-09-22 01:40:00+02:00</td>\n",
       "      <td>2024-09-22 09:30:00+02:00</td>\n",
       "      <td>False</td>\n",
       "      <td>0.0</td>\n",
       "      <td>0.0</td>\n",
       "      <td>52</td>\n",
       "      <td>71</td>\n",
       "      <td>47</td>\n",
       "      <td>43.0</td>\n",
       "      <td>52.0</td>\n",
       "      <td>0.0</td>\n",
       "      <td>11.0</td>\n",
       "      <td>24.0</td>\n",
       "      <td>9.0</td>\n",
       "      <td>52.0</td>\n",
       "      <td>62.0</td>\n",
       "      <td>0.0</td>\n",
       "      <td>9.0</td>\n",
       "      <td>100.0</td>\n",
       "      <td>0.0</td>\n",
       "      <td>1</td>\n",
       "      <td>0</td>\n",
       "      <td>0 days 00:00:00</td>\n",
       "      <td>[]</td>\n",
       "      <td>17100</td>\n",
       "      <td>4620</td>\n",
       "      <td>4140.0</td>\n",
       "      <td>1740</td>\n",
       "      <td>25860</td>\n",
       "      <td>3.0</td>\n",
       "      <td>0.94</td>\n",
       "      <td>1740.0</td>\n",
       "      <td>27600.0</td>\n",
       "      <td>9.93</td>\n",
       "      <td>19.0</td>\n",
       "      <td>{\"1\":[0,9600,16920],\"2\":[1740,7860,16920],\"3\":...</td>\n",
       "      <td>2520.0</td>\n",
       "      <td>0.0</td>\n",
       "      <td>600.0</td>\n",
       "      <td>6.0</td>\n",
       "      <td>75.0</td>\n",
       "      <td>32</td>\n",
       "      <td>63</td>\n",
       "      <td>317.142857</td>\n",
       "      <td>0.857143</td>\n",
       "      <td>11.857143</td>\n",
       "      <td>0.714286</td>\n",
       "    </tr>\n",
       "    <tr>\n",
       "      <th>2</th>\n",
       "      <td>2024-09-23</td>\n",
       "      <td>2024-09-23 01:00:00+02:00</td>\n",
       "      <td>2024-09-23 08:57:00+02:00</td>\n",
       "      <td>False</td>\n",
       "      <td>0.0</td>\n",
       "      <td>0.0</td>\n",
       "      <td>53</td>\n",
       "      <td>70</td>\n",
       "      <td>48</td>\n",
       "      <td>40.0</td>\n",
       "      <td>48.0</td>\n",
       "      <td>0.0</td>\n",
       "      <td>12.0</td>\n",
       "      <td>25.0</td>\n",
       "      <td>10.0</td>\n",
       "      <td>50.0</td>\n",
       "      <td>59.0</td>\n",
       "      <td>0.0</td>\n",
       "      <td>1.0</td>\n",
       "      <td>100.0</td>\n",
       "      <td>0.0</td>\n",
       "      <td>2</td>\n",
       "      <td>0</td>\n",
       "      <td>0 days 00:00:00</td>\n",
       "      <td>[]</td>\n",
       "      <td>20820</td>\n",
       "      <td>5040</td>\n",
       "      <td>1140.0</td>\n",
       "      <td>1020</td>\n",
       "      <td>27000</td>\n",
       "      <td>1.0</td>\n",
       "      <td>0.96</td>\n",
       "      <td>960.0</td>\n",
       "      <td>28020.0</td>\n",
       "      <td>15.36</td>\n",
       "      <td>30.0</td>\n",
       "      <td>{\"1\":[0,8460,9660,9180],\"2\":[960,7500,9720,912...</td>\n",
       "      <td>480.0</td>\n",
       "      <td>0.0</td>\n",
       "      <td>660.0</td>\n",
       "      <td>2.0</td>\n",
       "      <td>82.0</td>\n",
       "      <td>32</td>\n",
       "      <td>63</td>\n",
       "      <td>317.142857</td>\n",
       "      <td>0.857143</td>\n",
       "      <td>11.857143</td>\n",
       "      <td>0.714286</td>\n",
       "    </tr>\n",
       "    <tr>\n",
       "      <th>3</th>\n",
       "      <td>2024-09-24</td>\n",
       "      <td>2024-09-24 01:46:00+02:00</td>\n",
       "      <td>2024-09-24 09:00:00+02:00</td>\n",
       "      <td>False</td>\n",
       "      <td>0.0</td>\n",
       "      <td>0.0</td>\n",
       "      <td>54</td>\n",
       "      <td>73</td>\n",
       "      <td>47</td>\n",
       "      <td>46.0</td>\n",
       "      <td>70.0</td>\n",
       "      <td>0.0</td>\n",
       "      <td>12.0</td>\n",
       "      <td>17.0</td>\n",
       "      <td>9.0</td>\n",
       "      <td>89.0</td>\n",
       "      <td>142.0</td>\n",
       "      <td>0.0</td>\n",
       "      <td>2.0</td>\n",
       "      <td>100.0</td>\n",
       "      <td>0.0</td>\n",
       "      <td>6</td>\n",
       "      <td>4</td>\n",
       "      <td>0 days 01:07:00</td>\n",
       "      <td>[{'date_start': 2024-09-24 02:15:00+02:00, 'da...</td>\n",
       "      <td>9480</td>\n",
       "      <td>1260</td>\n",
       "      <td>120.0</td>\n",
       "      <td>3540</td>\n",
       "      <td>10860</td>\n",
       "      <td>2.0</td>\n",
       "      <td>0.75</td>\n",
       "      <td>360.0</td>\n",
       "      <td>14400.0</td>\n",
       "      <td>-1.00</td>\n",
       "      <td>-1.0</td>\n",
       "      <td>{\"1\":[0,2100,480,780,300,540,360,540,660,540,9...</td>\n",
       "      <td>300.0</td>\n",
       "      <td>0.0</td>\n",
       "      <td>14820.0</td>\n",
       "      <td>2.0</td>\n",
       "      <td>20.0</td>\n",
       "      <td>32</td>\n",
       "      <td>63</td>\n",
       "      <td>317.142857</td>\n",
       "      <td>0.857143</td>\n",
       "      <td>11.857143</td>\n",
       "      <td>0.714286</td>\n",
       "    </tr>\n",
       "    <tr>\n",
       "      <th>4</th>\n",
       "      <td>2024-09-25</td>\n",
       "      <td>2024-09-25 00:46:00+02:00</td>\n",
       "      <td>2024-09-25 09:03:00+02:00</td>\n",
       "      <td>False</td>\n",
       "      <td>0.0</td>\n",
       "      <td>0.0</td>\n",
       "      <td>54</td>\n",
       "      <td>62</td>\n",
       "      <td>49</td>\n",
       "      <td>44.0</td>\n",
       "      <td>52.0</td>\n",
       "      <td>0.0</td>\n",
       "      <td>12.0</td>\n",
       "      <td>18.0</td>\n",
       "      <td>9.0</td>\n",
       "      <td>54.0</td>\n",
       "      <td>60.0</td>\n",
       "      <td>0.0</td>\n",
       "      <td>1.0</td>\n",
       "      <td>100.0</td>\n",
       "      <td>0.0</td>\n",
       "      <td>4</td>\n",
       "      <td>3</td>\n",
       "      <td>0 days 03:19:00</td>\n",
       "      <td>[{'date_start': 2024-09-25 02:47:00+02:00, 'da...</td>\n",
       "      <td>10980</td>\n",
       "      <td>1440</td>\n",
       "      <td>0.0</td>\n",
       "      <td>2940</td>\n",
       "      <td>12420</td>\n",
       "      <td>0.0</td>\n",
       "      <td>0.81</td>\n",
       "      <td>300.0</td>\n",
       "      <td>15360.0</td>\n",
       "      <td>-1.00</td>\n",
       "      <td>-1.0</td>\n",
       "      <td>{\"1\":[0,2580,180,11220,6120,2280,240,240,1860]...</td>\n",
       "      <td>180.0</td>\n",
       "      <td>0.0</td>\n",
       "      <td>17100.0</td>\n",
       "      <td>1.0</td>\n",
       "      <td>20.0</td>\n",
       "      <td>32</td>\n",
       "      <td>63</td>\n",
       "      <td>317.142857</td>\n",
       "      <td>0.857143</td>\n",
       "      <td>11.857143</td>\n",
       "      <td>0.714286</td>\n",
       "    </tr>\n",
       "    <tr>\n",
       "      <th>...</th>\n",
       "      <td>...</td>\n",
       "      <td>...</td>\n",
       "      <td>...</td>\n",
       "      <td>...</td>\n",
       "      <td>...</td>\n",
       "      <td>...</td>\n",
       "      <td>...</td>\n",
       "      <td>...</td>\n",
       "      <td>...</td>\n",
       "      <td>...</td>\n",
       "      <td>...</td>\n",
       "      <td>...</td>\n",
       "      <td>...</td>\n",
       "      <td>...</td>\n",
       "      <td>...</td>\n",
       "      <td>...</td>\n",
       "      <td>...</td>\n",
       "      <td>...</td>\n",
       "      <td>...</td>\n",
       "      <td>...</td>\n",
       "      <td>...</td>\n",
       "      <td>...</td>\n",
       "      <td>...</td>\n",
       "      <td>...</td>\n",
       "      <td>...</td>\n",
       "      <td>...</td>\n",
       "      <td>...</td>\n",
       "      <td>...</td>\n",
       "      <td>...</td>\n",
       "      <td>...</td>\n",
       "      <td>...</td>\n",
       "      <td>...</td>\n",
       "      <td>...</td>\n",
       "      <td>...</td>\n",
       "      <td>...</td>\n",
       "      <td>...</td>\n",
       "      <td>...</td>\n",
       "      <td>...</td>\n",
       "      <td>...</td>\n",
       "      <td>...</td>\n",
       "      <td>...</td>\n",
       "      <td>...</td>\n",
       "      <td>...</td>\n",
       "      <td>...</td>\n",
       "      <td>...</td>\n",
       "      <td>...</td>\n",
       "      <td>...</td>\n",
       "      <td>...</td>\n",
       "    </tr>\n",
       "    <tr>\n",
       "      <th>100</th>\n",
       "      <td>2024-12-27</td>\n",
       "      <td>2024-12-27 01:09:00+01:00</td>\n",
       "      <td>2024-12-27 09:15:00+01:00</td>\n",
       "      <td>False</td>\n",
       "      <td>0.0</td>\n",
       "      <td>0.0</td>\n",
       "      <td>60</td>\n",
       "      <td>66</td>\n",
       "      <td>57</td>\n",
       "      <td>42.0</td>\n",
       "      <td>80.5</td>\n",
       "      <td>0.0</td>\n",
       "      <td>13.0</td>\n",
       "      <td>20.0</td>\n",
       "      <td>9.0</td>\n",
       "      <td>41.5</td>\n",
       "      <td>155.0</td>\n",
       "      <td>0.0</td>\n",
       "      <td>11.5</td>\n",
       "      <td>100.0</td>\n",
       "      <td>0.0</td>\n",
       "      <td>1</td>\n",
       "      <td>1</td>\n",
       "      <td>0 days 00:00:00</td>\n",
       "      <td>NaN</td>\n",
       "      <td>10680</td>\n",
       "      <td>12180</td>\n",
       "      <td>4380.0</td>\n",
       "      <td>1680</td>\n",
       "      <td>27240</td>\n",
       "      <td>3.0</td>\n",
       "      <td>0.94</td>\n",
       "      <td>1500.0</td>\n",
       "      <td>28920.0</td>\n",
       "      <td>5.82</td>\n",
       "      <td>11.0</td>\n",
       "      <td>{\"1\":[0,26460],\"2\":[1500,25140],\"3\":[26220,294...</td>\n",
       "      <td>3720.0</td>\n",
       "      <td>0.0</td>\n",
       "      <td>420.0</td>\n",
       "      <td>8.0</td>\n",
       "      <td>94.0</td>\n",
       "      <td>32</td>\n",
       "      <td>63</td>\n",
       "      <td>180.000000</td>\n",
       "      <td>1.000000</td>\n",
       "      <td>1.000000</td>\n",
       "      <td>1.000000</td>\n",
       "    </tr>\n",
       "    <tr>\n",
       "      <th>101</th>\n",
       "      <td>2024-12-28</td>\n",
       "      <td>2024-12-28 01:28:00+01:00</td>\n",
       "      <td>2024-12-28 09:23:00+01:00</td>\n",
       "      <td>False</td>\n",
       "      <td>0.0</td>\n",
       "      <td>0.0</td>\n",
       "      <td>55</td>\n",
       "      <td>66</td>\n",
       "      <td>51</td>\n",
       "      <td>42.0</td>\n",
       "      <td>80.5</td>\n",
       "      <td>0.0</td>\n",
       "      <td>12.0</td>\n",
       "      <td>16.0</td>\n",
       "      <td>9.0</td>\n",
       "      <td>41.5</td>\n",
       "      <td>155.0</td>\n",
       "      <td>0.0</td>\n",
       "      <td>11.5</td>\n",
       "      <td>100.0</td>\n",
       "      <td>0.0</td>\n",
       "      <td>1</td>\n",
       "      <td>1</td>\n",
       "      <td>0 days 00:00:00</td>\n",
       "      <td>NaN</td>\n",
       "      <td>6840</td>\n",
       "      <td>16140</td>\n",
       "      <td>4800.0</td>\n",
       "      <td>540</td>\n",
       "      <td>27780</td>\n",
       "      <td>5.0</td>\n",
       "      <td>0.98</td>\n",
       "      <td>540.0</td>\n",
       "      <td>28320.0</td>\n",
       "      <td>11.24</td>\n",
       "      <td>22.0</td>\n",
       "      <td>{\"1\":[0,14460],\"2\":[540,13920],\"3\":[14280,1422...</td>\n",
       "      <td>8760.0</td>\n",
       "      <td>0.0</td>\n",
       "      <td>180.0</td>\n",
       "      <td>27.0</td>\n",
       "      <td>97.0</td>\n",
       "      <td>32</td>\n",
       "      <td>63</td>\n",
       "      <td>180.000000</td>\n",
       "      <td>1.000000</td>\n",
       "      <td>1.000000</td>\n",
       "      <td>1.000000</td>\n",
       "    </tr>\n",
       "    <tr>\n",
       "      <th>102</th>\n",
       "      <td>2024-12-29</td>\n",
       "      <td>2024-12-29 01:22:00+01:00</td>\n",
       "      <td>2024-12-29 09:14:00+01:00</td>\n",
       "      <td>False</td>\n",
       "      <td>0.0</td>\n",
       "      <td>0.0</td>\n",
       "      <td>56</td>\n",
       "      <td>68</td>\n",
       "      <td>51</td>\n",
       "      <td>42.0</td>\n",
       "      <td>80.5</td>\n",
       "      <td>0.0</td>\n",
       "      <td>12.0</td>\n",
       "      <td>16.0</td>\n",
       "      <td>9.0</td>\n",
       "      <td>41.5</td>\n",
       "      <td>155.0</td>\n",
       "      <td>0.0</td>\n",
       "      <td>11.5</td>\n",
       "      <td>100.0</td>\n",
       "      <td>0.0</td>\n",
       "      <td>2</td>\n",
       "      <td>2</td>\n",
       "      <td>0 days 00:00:00</td>\n",
       "      <td>NaN</td>\n",
       "      <td>10980</td>\n",
       "      <td>10200</td>\n",
       "      <td>5820.0</td>\n",
       "      <td>900</td>\n",
       "      <td>27000</td>\n",
       "      <td>5.0</td>\n",
       "      <td>0.97</td>\n",
       "      <td>900.0</td>\n",
       "      <td>27900.0</td>\n",
       "      <td>16.05</td>\n",
       "      <td>32.0</td>\n",
       "      <td>{\"1\":[0,14880,5760],\"2\":[900,13980,5760],\"3\":[...</td>\n",
       "      <td>5160.0</td>\n",
       "      <td>0.0</td>\n",
       "      <td>420.0</td>\n",
       "      <td>12.0</td>\n",
       "      <td>96.0</td>\n",
       "      <td>32</td>\n",
       "      <td>63</td>\n",
       "      <td>600.000000</td>\n",
       "      <td>1.000000</td>\n",
       "      <td>1.000000</td>\n",
       "      <td>1.000000</td>\n",
       "    </tr>\n",
       "    <tr>\n",
       "      <th>103</th>\n",
       "      <td>2024-12-30</td>\n",
       "      <td>2024-12-30 01:09:00+01:00</td>\n",
       "      <td>2024-12-30 09:03:00+01:00</td>\n",
       "      <td>False</td>\n",
       "      <td>0.0</td>\n",
       "      <td>0.0</td>\n",
       "      <td>56</td>\n",
       "      <td>65</td>\n",
       "      <td>52</td>\n",
       "      <td>42.0</td>\n",
       "      <td>78.0</td>\n",
       "      <td>0.0</td>\n",
       "      <td>11.0</td>\n",
       "      <td>19.0</td>\n",
       "      <td>9.0</td>\n",
       "      <td>41.0</td>\n",
       "      <td>168.0</td>\n",
       "      <td>0.0</td>\n",
       "      <td>8.0</td>\n",
       "      <td>100.0</td>\n",
       "      <td>0.0</td>\n",
       "      <td>1</td>\n",
       "      <td>0</td>\n",
       "      <td>0 days 00:00:00</td>\n",
       "      <td>[]</td>\n",
       "      <td>9240</td>\n",
       "      <td>11640</td>\n",
       "      <td>6840.0</td>\n",
       "      <td>720</td>\n",
       "      <td>27720</td>\n",
       "      <td>4.0</td>\n",
       "      <td>0.97</td>\n",
       "      <td>720.0</td>\n",
       "      <td>28440.0</td>\n",
       "      <td>12.62</td>\n",
       "      <td>25.0</td>\n",
       "      <td>{\"1\":[0],\"2\":[720],\"3\":[28440],\"4\":[28440]}</td>\n",
       "      <td>2400.0</td>\n",
       "      <td>0.0</td>\n",
       "      <td>0.0</td>\n",
       "      <td>8.0</td>\n",
       "      <td>97.0</td>\n",
       "      <td>32</td>\n",
       "      <td>63</td>\n",
       "      <td>360.000000</td>\n",
       "      <td>0.000000</td>\n",
       "      <td>38.000000</td>\n",
       "      <td>0.000000</td>\n",
       "    </tr>\n",
       "    <tr>\n",
       "      <th>104</th>\n",
       "      <td>2024-12-31</td>\n",
       "      <td>2024-12-31 01:30:00+01:00</td>\n",
       "      <td>2024-12-31 09:21:00+01:00</td>\n",
       "      <td>False</td>\n",
       "      <td>0.0</td>\n",
       "      <td>0.0</td>\n",
       "      <td>57</td>\n",
       "      <td>70</td>\n",
       "      <td>51</td>\n",
       "      <td>42.0</td>\n",
       "      <td>83.0</td>\n",
       "      <td>0.0</td>\n",
       "      <td>11.0</td>\n",
       "      <td>17.0</td>\n",
       "      <td>8.0</td>\n",
       "      <td>42.0</td>\n",
       "      <td>142.0</td>\n",
       "      <td>0.0</td>\n",
       "      <td>15.0</td>\n",
       "      <td>100.0</td>\n",
       "      <td>0.0</td>\n",
       "      <td>2</td>\n",
       "      <td>0</td>\n",
       "      <td>0 days 00:00:00</td>\n",
       "      <td>[]</td>\n",
       "      <td>11040</td>\n",
       "      <td>8820</td>\n",
       "      <td>6240.0</td>\n",
       "      <td>1860</td>\n",
       "      <td>26100</td>\n",
       "      <td>5.0</td>\n",
       "      <td>0.93</td>\n",
       "      <td>1500.0</td>\n",
       "      <td>27960.0</td>\n",
       "      <td>4.68</td>\n",
       "      <td>9.0</td>\n",
       "      <td>{\"1\":[0,26220],\"2\":[1500,11700,13020],\"3\":[128...</td>\n",
       "      <td>4320.0</td>\n",
       "      <td>0.0</td>\n",
       "      <td>660.0</td>\n",
       "      <td>12.0</td>\n",
       "      <td>91.0</td>\n",
       "      <td>32</td>\n",
       "      <td>63</td>\n",
       "      <td>300.000000</td>\n",
       "      <td>1.000000</td>\n",
       "      <td>40.000000</td>\n",
       "      <td>0.000000</td>\n",
       "    </tr>\n",
       "  </tbody>\n",
       "</table>\n",
       "<p>105 rows × 48 columns</p>\n",
       "</div>"
      ],
      "text/plain": [
       "           date                date_start                  date_end    nap  \\\n",
       "0    2024-09-21 2024-09-21 01:19:00+02:00 2024-09-21 09:13:00+02:00  False   \n",
       "1    2024-09-22 2024-09-22 01:40:00+02:00 2024-09-22 09:30:00+02:00  False   \n",
       "2    2024-09-23 2024-09-23 01:00:00+02:00 2024-09-23 08:57:00+02:00  False   \n",
       "3    2024-09-24 2024-09-24 01:46:00+02:00 2024-09-24 09:00:00+02:00  False   \n",
       "4    2024-09-25 2024-09-25 00:46:00+02:00 2024-09-25 09:03:00+02:00  False   \n",
       "..          ...                       ...                       ...    ...   \n",
       "100  2024-12-27 2024-12-27 01:09:00+01:00 2024-12-27 09:15:00+01:00  False   \n",
       "101  2024-12-28 2024-12-28 01:28:00+01:00 2024-12-28 09:23:00+01:00  False   \n",
       "102  2024-12-29 2024-12-29 01:22:00+01:00 2024-12-29 09:14:00+01:00  False   \n",
       "103  2024-12-30 2024-12-30 01:09:00+01:00 2024-12-30 09:03:00+01:00  False   \n",
       "104  2024-12-31 2024-12-31 01:30:00+01:00 2024-12-31 09:21:00+01:00  False   \n",
       "\n",
       "     manual_sleep_duration  undefined_sleep_duration  hr_average  hr_max  \\\n",
       "0                      0.0                       0.0          52      65   \n",
       "1                      0.0                       0.0          52      71   \n",
       "2                      0.0                       0.0          53      70   \n",
       "3                      0.0                       0.0          54      73   \n",
       "4                      0.0                       0.0          54      62   \n",
       "..                     ...                       ...         ...     ...   \n",
       "100                    0.0                       0.0          60      66   \n",
       "101                    0.0                       0.0          55      66   \n",
       "102                    0.0                       0.0          56      68   \n",
       "103                    0.0                       0.0          56      65   \n",
       "104                    0.0                       0.0          57      70   \n",
       "\n",
       "     hr_min  rmssd_average  rmssd_max  rmssd_min  rr_average  rr_max  rr_min  \\\n",
       "0        48           44.0       55.0        0.0        11.0    18.0     9.0   \n",
       "1        47           43.0       52.0        0.0        11.0    24.0     9.0   \n",
       "2        48           40.0       48.0        0.0        12.0    25.0    10.0   \n",
       "3        47           46.0       70.0        0.0        12.0    17.0     9.0   \n",
       "4        49           44.0       52.0        0.0        12.0    18.0     9.0   \n",
       "..      ...            ...        ...        ...         ...     ...     ...   \n",
       "100      57           42.0       80.5        0.0        13.0    20.0     9.0   \n",
       "101      51           42.0       80.5        0.0        12.0    16.0     9.0   \n",
       "102      51           42.0       80.5        0.0        12.0    16.0     9.0   \n",
       "103      52           42.0       78.0        0.0        11.0    19.0     9.0   \n",
       "104      51           42.0       83.0        0.0        11.0    17.0     8.0   \n",
       "\n",
       "     sdnn_1_average  sdnn_1_max  sdnn_1_min  snoring_average  snoring_max  \\\n",
       "0              52.0        64.0         0.0              0.0        100.0   \n",
       "1              52.0        62.0         0.0              9.0        100.0   \n",
       "2              50.0        59.0         0.0              1.0        100.0   \n",
       "3              89.0       142.0         0.0              2.0        100.0   \n",
       "4              54.0        60.0         0.0              1.0        100.0   \n",
       "..              ...         ...         ...              ...          ...   \n",
       "100            41.5       155.0         0.0             11.5        100.0   \n",
       "101            41.5       155.0         0.0             11.5        100.0   \n",
       "102            41.5       155.0         0.0             11.5        100.0   \n",
       "103            41.0       168.0         0.0              8.0        100.0   \n",
       "104            42.0       142.0         0.0             15.0        100.0   \n",
       "\n",
       "     snoring_min  wakeup_count  out_of_bed_count out_of_bed_time  \\\n",
       "0            0.0             1                 0 0 days 00:00:00   \n",
       "1            0.0             1                 0 0 days 00:00:00   \n",
       "2            0.0             2                 0 0 days 00:00:00   \n",
       "3            0.0             6                 4 0 days 01:07:00   \n",
       "4            0.0             4                 3 0 days 03:19:00   \n",
       "..           ...           ...               ...             ...   \n",
       "100          0.0             1                 1 0 days 00:00:00   \n",
       "101          0.0             1                 1 0 days 00:00:00   \n",
       "102          0.0             2                 2 0 days 00:00:00   \n",
       "103          0.0             1                 0 0 days 00:00:00   \n",
       "104          0.0             2                 0 0 days 00:00:00   \n",
       "\n",
       "                                            out_of_bed  light_sleep_duration  \\\n",
       "0                                                   []                  6300   \n",
       "1                                                   []                 17100   \n",
       "2                                                   []                 20820   \n",
       "3    [{'date_start': 2024-09-24 02:15:00+02:00, 'da...                  9480   \n",
       "4    [{'date_start': 2024-09-25 02:47:00+02:00, 'da...                 10980   \n",
       "..                                                 ...                   ...   \n",
       "100                                                NaN                 10680   \n",
       "101                                                NaN                  6840   \n",
       "102                                                NaN                 10980   \n",
       "103                                                 []                  9240   \n",
       "104                                                 []                 11040   \n",
       "\n",
       "     deep_sleep_duration  rem_sleep_duration  wakeup_duration  \\\n",
       "0                  13860              5340.0             2700   \n",
       "1                   4620              4140.0             1740   \n",
       "2                   5040              1140.0             1020   \n",
       "3                   1260               120.0             3540   \n",
       "4                   1440                 0.0             2940   \n",
       "..                   ...                 ...              ...   \n",
       "100                12180              4380.0             1680   \n",
       "101                16140              4800.0              540   \n",
       "102                10200              5820.0              900   \n",
       "103                11640              6840.0              720   \n",
       "104                 8820              6240.0             1860   \n",
       "\n",
       "     total_sleep_time  nb_rem_episodes  sleep_efficiency  sleep_latency  \\\n",
       "0               25500              3.0              0.90         2700.0   \n",
       "1               25860              3.0              0.94         1740.0   \n",
       "2               27000              1.0              0.96          960.0   \n",
       "3               10860              2.0              0.75          360.0   \n",
       "4               12420              0.0              0.81          300.0   \n",
       "..                ...              ...               ...            ...   \n",
       "100             27240              3.0              0.94         1500.0   \n",
       "101             27780              5.0              0.98          540.0   \n",
       "102             27000              5.0              0.97          900.0   \n",
       "103             27720              4.0              0.97          720.0   \n",
       "104             26100              5.0              0.93         1500.0   \n",
       "\n",
       "     total_timeinbed  apnea_hypopnea_index  breathing_disturbances_intensity  \\\n",
       "0            28200.0                  7.23                              14.0   \n",
       "1            27600.0                  9.93                              19.0   \n",
       "2            28020.0                 15.36                              30.0   \n",
       "3            14400.0                 -1.00                              -1.0   \n",
       "4            15360.0                 -1.00                              -1.0   \n",
       "..               ...                   ...                               ...   \n",
       "100          28920.0                  5.82                              11.0   \n",
       "101          28320.0                 11.24                              22.0   \n",
       "102          27900.0                 16.05                              32.0   \n",
       "103          28440.0                 12.62                              25.0   \n",
       "104          27960.0                  4.68                               9.0   \n",
       "\n",
       "                                          night_events  snoring  \\\n",
       "0    {\"1\":[0,24420],\"2\":[2700,21720],\"3\":[24180,426...    240.0   \n",
       "1    {\"1\":[0,9600,16920],\"2\":[1740,7860,16920],\"3\":...   2520.0   \n",
       "2    {\"1\":[0,8460,9660,9180],\"2\":[960,7500,9720,912...    480.0   \n",
       "3    {\"1\":[0,2100,480,780,300,540,360,540,660,540,9...    300.0   \n",
       "4    {\"1\":[0,2580,180,11220,6120,2280,240,240,1860]...    180.0   \n",
       "..                                                 ...      ...   \n",
       "100  {\"1\":[0,26460],\"2\":[1500,25140],\"3\":[26220,294...   3720.0   \n",
       "101  {\"1\":[0,14460],\"2\":[540,13920],\"3\":[14280,1422...   8760.0   \n",
       "102  {\"1\":[0,14880,5760],\"2\":[900,13980,5760],\"3\":[...   5160.0   \n",
       "103        {\"1\":[0],\"2\":[720],\"3\":[28440],\"4\":[28440]}   2400.0   \n",
       "104  {\"1\":[0,26220],\"2\":[1500,11700,13020],\"3\":[128...   4320.0   \n",
       "\n",
       "     wakeup_latency     waso  snoringepisodecount  sleep_score model  \\\n",
       "0               0.0    240.0                  1.0         86.0    32   \n",
       "1               0.0    600.0                  6.0         75.0    32   \n",
       "2               0.0    660.0                  2.0         82.0    32   \n",
       "3               0.0  14820.0                  2.0         20.0    32   \n",
       "4               0.0  17100.0                  1.0         20.0    32   \n",
       "..              ...      ...                  ...          ...   ...   \n",
       "100             0.0    420.0                  8.0         94.0    32   \n",
       "101             0.0    180.0                 27.0         97.0    32   \n",
       "102             0.0    420.0                 12.0         96.0    32   \n",
       "103             0.0      0.0                  8.0         97.0    32   \n",
       "104             0.0    660.0                 12.0         91.0    32   \n",
       "\n",
       "     model_id  mvt_active_duration  mvt_score_average  mvt_score_max  \\\n",
       "0          63           317.142857           0.857143      11.857143   \n",
       "1          63           317.142857           0.857143      11.857143   \n",
       "2          63           317.142857           0.857143      11.857143   \n",
       "3          63           317.142857           0.857143      11.857143   \n",
       "4          63           317.142857           0.857143      11.857143   \n",
       "..        ...                  ...                ...            ...   \n",
       "100        63           180.000000           1.000000       1.000000   \n",
       "101        63           180.000000           1.000000       1.000000   \n",
       "102        63           600.000000           1.000000       1.000000   \n",
       "103        63           360.000000           0.000000      38.000000   \n",
       "104        63           300.000000           1.000000      40.000000   \n",
       "\n",
       "     mvt_score_min  \n",
       "0         0.714286  \n",
       "1         0.714286  \n",
       "2         0.714286  \n",
       "3         0.714286  \n",
       "4         0.714286  \n",
       "..             ...  \n",
       "100       1.000000  \n",
       "101       1.000000  \n",
       "102       1.000000  \n",
       "103       0.000000  \n",
       "104       0.000000  \n",
       "\n",
       "[105 rows x 48 columns]"
      ]
     },
     "execution_count": 3,
     "metadata": {},
     "output_type": "execute_result"
    }
   ],
   "source": [
    "agg.getAggregatedDataDf()"
   ]
  },
  {
   "cell_type": "code",
   "execution_count": 4,
   "metadata": {},
   "outputs": [
    {
     "data": {
      "text/html": [
       "<div>\n",
       "<style scoped>\n",
       "    .dataframe tbody tr th:only-of-type {\n",
       "        vertical-align: middle;\n",
       "    }\n",
       "\n",
       "    .dataframe tbody tr th {\n",
       "        vertical-align: top;\n",
       "    }\n",
       "\n",
       "    .dataframe thead th {\n",
       "        text-align: right;\n",
       "    }\n",
       "</style>\n",
       "<table border=\"1\" class=\"dataframe\">\n",
       "  <thead>\n",
       "    <tr style=\"text-align: right;\">\n",
       "      <th></th>\n",
       "      <th>date</th>\n",
       "      <th>date_start</th>\n",
       "      <th>date_end</th>\n",
       "      <th>nap</th>\n",
       "      <th>manual_sleep_duration</th>\n",
       "      <th>undefined_sleep_duration</th>\n",
       "      <th>hr_average</th>\n",
       "      <th>hr_max</th>\n",
       "      <th>hr_min</th>\n",
       "      <th>rmssd_average</th>\n",
       "      <th>rmssd_max</th>\n",
       "      <th>rmssd_min</th>\n",
       "      <th>rr_average</th>\n",
       "      <th>rr_max</th>\n",
       "      <th>rr_min</th>\n",
       "      <th>sdnn_1_average</th>\n",
       "      <th>sdnn_1_max</th>\n",
       "      <th>sdnn_1_min</th>\n",
       "      <th>snoring_average</th>\n",
       "      <th>snoring_max</th>\n",
       "      <th>snoring_min</th>\n",
       "      <th>wakeup_count</th>\n",
       "      <th>out_of_bed_count</th>\n",
       "      <th>out_of_bed_time</th>\n",
       "      <th>out_of_bed</th>\n",
       "      <th>light_sleep_duration</th>\n",
       "      <th>deep_sleep_duration</th>\n",
       "      <th>rem_sleep_duration</th>\n",
       "      <th>wakeup_duration</th>\n",
       "      <th>total_sleep_time</th>\n",
       "      <th>nb_rem_episodes</th>\n",
       "      <th>sleep_efficiency</th>\n",
       "      <th>sleep_latency</th>\n",
       "      <th>total_timeinbed</th>\n",
       "      <th>apnea_hypopnea_index</th>\n",
       "      <th>breathing_disturbances_intensity</th>\n",
       "      <th>night_events</th>\n",
       "      <th>snoring</th>\n",
       "      <th>wakeup_latency</th>\n",
       "      <th>waso</th>\n",
       "      <th>snoringepisodecount</th>\n",
       "      <th>sleep_score</th>\n",
       "      <th>model</th>\n",
       "      <th>model_id</th>\n",
       "      <th>mvt_active_duration</th>\n",
       "      <th>mvt_score_average</th>\n",
       "      <th>mvt_score_max</th>\n",
       "      <th>mvt_score_min</th>\n",
       "    </tr>\n",
       "  </thead>\n",
       "  <tbody>\n",
       "  </tbody>\n",
       "</table>\n",
       "</div>"
      ],
      "text/plain": [
       "Empty DataFrame\n",
       "Columns: [date, date_start, date_end, nap, manual_sleep_duration, undefined_sleep_duration, hr_average, hr_max, hr_min, rmssd_average, rmssd_max, rmssd_min, rr_average, rr_max, rr_min, sdnn_1_average, sdnn_1_max, sdnn_1_min, snoring_average, snoring_max, snoring_min, wakeup_count, out_of_bed_count, out_of_bed_time, out_of_bed, light_sleep_duration, deep_sleep_duration, rem_sleep_duration, wakeup_duration, total_sleep_time, nb_rem_episodes, sleep_efficiency, sleep_latency, total_timeinbed, apnea_hypopnea_index, breathing_disturbances_intensity, night_events, snoring, wakeup_latency, waso, snoringepisodecount, sleep_score, model, model_id, mvt_active_duration, mvt_score_average, mvt_score_max, mvt_score_min]\n",
       "Index: []"
      ]
     },
     "execution_count": 4,
     "metadata": {},
     "output_type": "execute_result"
    }
   ],
   "source": [
    "agg.getAggregatedDataDf()[agg.getAggregatedDataDf()['date'] == '2023-12-22']"
   ]
  },
  {
   "cell_type": "code",
   "execution_count": 5,
   "metadata": {},
   "outputs": [
    {
     "data": {
      "text/html": [
       "<div>\n",
       "<style scoped>\n",
       "    .dataframe tbody tr th:only-of-type {\n",
       "        vertical-align: middle;\n",
       "    }\n",
       "\n",
       "    .dataframe tbody tr th {\n",
       "        vertical-align: top;\n",
       "    }\n",
       "\n",
       "    .dataframe thead th {\n",
       "        text-align: right;\n",
       "    }\n",
       "</style>\n",
       "<table border=\"1\" class=\"dataframe\">\n",
       "  <thead>\n",
       "    <tr style=\"text-align: right;\">\n",
       "      <th></th>\n",
       "      <th>date</th>\n",
       "      <th>date_start</th>\n",
       "      <th>date_end</th>\n",
       "      <th>nap</th>\n",
       "      <th>manual_sleep_duration</th>\n",
       "      <th>undefined_sleep_duration</th>\n",
       "      <th>hr_average</th>\n",
       "      <th>hr_max</th>\n",
       "      <th>hr_min</th>\n",
       "      <th>rmssd_average</th>\n",
       "      <th>rmssd_max</th>\n",
       "      <th>rmssd_min</th>\n",
       "      <th>rr_average</th>\n",
       "      <th>rr_max</th>\n",
       "      <th>rr_min</th>\n",
       "      <th>sdnn_1_average</th>\n",
       "      <th>sdnn_1_max</th>\n",
       "      <th>sdnn_1_min</th>\n",
       "      <th>snoring_average</th>\n",
       "      <th>snoring_max</th>\n",
       "      <th>snoring_min</th>\n",
       "      <th>wakeup_count</th>\n",
       "      <th>out_of_bed_count</th>\n",
       "      <th>out_of_bed_time</th>\n",
       "      <th>out_of_bed</th>\n",
       "      <th>light_sleep_duration</th>\n",
       "      <th>deep_sleep_duration</th>\n",
       "      <th>rem_sleep_duration</th>\n",
       "      <th>wakeup_duration</th>\n",
       "      <th>total_sleep_time</th>\n",
       "      <th>nb_rem_episodes</th>\n",
       "      <th>sleep_efficiency</th>\n",
       "      <th>sleep_latency</th>\n",
       "      <th>total_timeinbed</th>\n",
       "      <th>apnea_hypopnea_index</th>\n",
       "      <th>breathing_disturbances_intensity</th>\n",
       "      <th>night_events</th>\n",
       "      <th>snoring</th>\n",
       "      <th>wakeup_latency</th>\n",
       "      <th>waso</th>\n",
       "      <th>snoringepisodecount</th>\n",
       "      <th>sleep_score</th>\n",
       "      <th>model</th>\n",
       "      <th>model_id</th>\n",
       "      <th>mvt_active_duration</th>\n",
       "      <th>mvt_score_average</th>\n",
       "      <th>mvt_score_max</th>\n",
       "      <th>mvt_score_min</th>\n",
       "    </tr>\n",
       "  </thead>\n",
       "  <tbody>\n",
       "    <tr>\n",
       "      <th>54</th>\n",
       "      <td>2024-11-11</td>\n",
       "      <td>2024-11-11 01:48:00+01:00</td>\n",
       "      <td>2024-11-11 09:01:00+01:00</td>\n",
       "      <td>False</td>\n",
       "      <td>0.0</td>\n",
       "      <td>0.0</td>\n",
       "      <td>57</td>\n",
       "      <td>64</td>\n",
       "      <td>51</td>\n",
       "      <td>42.0</td>\n",
       "      <td>NaN</td>\n",
       "      <td>NaN</td>\n",
       "      <td>14.000000</td>\n",
       "      <td>19.000000</td>\n",
       "      <td>10.000000</td>\n",
       "      <td>NaN</td>\n",
       "      <td>NaN</td>\n",
       "      <td>NaN</td>\n",
       "      <td>NaN</td>\n",
       "      <td>NaN</td>\n",
       "      <td>NaN</td>\n",
       "      <td>4</td>\n",
       "      <td>8</td>\n",
       "      <td>NaT</td>\n",
       "      <td>NaN</td>\n",
       "      <td>14040</td>\n",
       "      <td>5040</td>\n",
       "      <td>3600.000000</td>\n",
       "      <td>2400</td>\n",
       "      <td>22680</td>\n",
       "      <td>3.0</td>\n",
       "      <td>0.90</td>\n",
       "      <td>720.0</td>\n",
       "      <td>25080.0</td>\n",
       "      <td>8.870000</td>\n",
       "      <td>17.000000</td>\n",
       "      <td>{\"1\":[0,2880,300,420,420,240,120,2700,6300],\"2...</td>\n",
       "      <td>2580.000000</td>\n",
       "      <td>0.0</td>\n",
       "      <td>2580.0</td>\n",
       "      <td>7.000000</td>\n",
       "      <td>66.0</td>\n",
       "      <td>32</td>\n",
       "      <td>63</td>\n",
       "      <td>NaN</td>\n",
       "      <td>NaN</td>\n",
       "      <td>NaN</td>\n",
       "      <td>NaN</td>\n",
       "    </tr>\n",
       "    <tr>\n",
       "      <th>72</th>\n",
       "      <td>2024-11-27</td>\n",
       "      <td>2024-11-27 02:24:00+01:00</td>\n",
       "      <td>2024-11-27 07:20:00+01:00</td>\n",
       "      <td>False</td>\n",
       "      <td>0.0</td>\n",
       "      <td>0.0</td>\n",
       "      <td>49</td>\n",
       "      <td>54</td>\n",
       "      <td>47</td>\n",
       "      <td>42.0</td>\n",
       "      <td>NaN</td>\n",
       "      <td>NaN</td>\n",
       "      <td>NaN</td>\n",
       "      <td>NaN</td>\n",
       "      <td>NaN</td>\n",
       "      <td>NaN</td>\n",
       "      <td>NaN</td>\n",
       "      <td>NaN</td>\n",
       "      <td>NaN</td>\n",
       "      <td>NaN</td>\n",
       "      <td>NaN</td>\n",
       "      <td>0</td>\n",
       "      <td>2</td>\n",
       "      <td>NaT</td>\n",
       "      <td>NaN</td>\n",
       "      <td>5160</td>\n",
       "      <td>12480</td>\n",
       "      <td>NaN</td>\n",
       "      <td>120</td>\n",
       "      <td>17640</td>\n",
       "      <td>2.0</td>\n",
       "      <td>0.99</td>\n",
       "      <td>120.0</td>\n",
       "      <td>17760.0</td>\n",
       "      <td>NaN</td>\n",
       "      <td>NaN</td>\n",
       "      <td>NaN</td>\n",
       "      <td>NaN</td>\n",
       "      <td>0.0</td>\n",
       "      <td>0.0</td>\n",
       "      <td>NaN</td>\n",
       "      <td>37.0</td>\n",
       "      <td>16</td>\n",
       "      <td>93</td>\n",
       "      <td>NaN</td>\n",
       "      <td>NaN</td>\n",
       "      <td>NaN</td>\n",
       "      <td>NaN</td>\n",
       "    </tr>\n",
       "    <tr>\n",
       "      <th>73</th>\n",
       "      <td>2024-11-28</td>\n",
       "      <td>2024-11-28 00:43:00+01:00</td>\n",
       "      <td>2024-11-28 09:11:00+01:00</td>\n",
       "      <td>False</td>\n",
       "      <td>0.0</td>\n",
       "      <td>0.0</td>\n",
       "      <td>58</td>\n",
       "      <td>74</td>\n",
       "      <td>49</td>\n",
       "      <td>42.0</td>\n",
       "      <td>NaN</td>\n",
       "      <td>NaN</td>\n",
       "      <td>NaN</td>\n",
       "      <td>NaN</td>\n",
       "      <td>NaN</td>\n",
       "      <td>NaN</td>\n",
       "      <td>NaN</td>\n",
       "      <td>NaN</td>\n",
       "      <td>NaN</td>\n",
       "      <td>NaN</td>\n",
       "      <td>NaN</td>\n",
       "      <td>2</td>\n",
       "      <td>2</td>\n",
       "      <td>NaT</td>\n",
       "      <td>NaN</td>\n",
       "      <td>13860</td>\n",
       "      <td>15120</td>\n",
       "      <td>NaN</td>\n",
       "      <td>1500</td>\n",
       "      <td>28980</td>\n",
       "      <td>4.0</td>\n",
       "      <td>0.95</td>\n",
       "      <td>120.0</td>\n",
       "      <td>30480.0</td>\n",
       "      <td>NaN</td>\n",
       "      <td>NaN</td>\n",
       "      <td>NaN</td>\n",
       "      <td>NaN</td>\n",
       "      <td>0.0</td>\n",
       "      <td>1380.0</td>\n",
       "      <td>NaN</td>\n",
       "      <td>91.0</td>\n",
       "      <td>16</td>\n",
       "      <td>93</td>\n",
       "      <td>NaN</td>\n",
       "      <td>NaN</td>\n",
       "      <td>NaN</td>\n",
       "      <td>NaN</td>\n",
       "    </tr>\n",
       "    <tr>\n",
       "      <th>74</th>\n",
       "      <td>2024-11-29</td>\n",
       "      <td>2024-11-29 01:20:00+01:00</td>\n",
       "      <td>2024-11-29 09:22:00+01:00</td>\n",
       "      <td>False</td>\n",
       "      <td>0.0</td>\n",
       "      <td>0.0</td>\n",
       "      <td>52</td>\n",
       "      <td>65</td>\n",
       "      <td>48</td>\n",
       "      <td>42.0</td>\n",
       "      <td>NaN</td>\n",
       "      <td>NaN</td>\n",
       "      <td>11.000000</td>\n",
       "      <td>24.000000</td>\n",
       "      <td>8.000000</td>\n",
       "      <td>NaN</td>\n",
       "      <td>NaN</td>\n",
       "      <td>NaN</td>\n",
       "      <td>NaN</td>\n",
       "      <td>NaN</td>\n",
       "      <td>NaN</td>\n",
       "      <td>2</td>\n",
       "      <td>2</td>\n",
       "      <td>NaT</td>\n",
       "      <td>NaN</td>\n",
       "      <td>10620</td>\n",
       "      <td>12780</td>\n",
       "      <td>2640.000000</td>\n",
       "      <td>2460</td>\n",
       "      <td>26040</td>\n",
       "      <td>1.0</td>\n",
       "      <td>0.91</td>\n",
       "      <td>2340.0</td>\n",
       "      <td>28500.0</td>\n",
       "      <td>16.330000</td>\n",
       "      <td>32.000000</td>\n",
       "      <td>{\"1\":[0,8520,15960],\"2\":[2340,6300,15840],\"3\":...</td>\n",
       "      <td>180.000000</td>\n",
       "      <td>0.0</td>\n",
       "      <td>540.0</td>\n",
       "      <td>1.000000</td>\n",
       "      <td>89.0</td>\n",
       "      <td>32</td>\n",
       "      <td>63</td>\n",
       "      <td>NaN</td>\n",
       "      <td>NaN</td>\n",
       "      <td>NaN</td>\n",
       "      <td>NaN</td>\n",
       "    </tr>\n",
       "    <tr>\n",
       "      <th>75</th>\n",
       "      <td>2024-11-30</td>\n",
       "      <td>2024-11-30 01:20:00+01:00</td>\n",
       "      <td>2024-11-30 08:58:00+01:00</td>\n",
       "      <td>False</td>\n",
       "      <td>0.0</td>\n",
       "      <td>0.0</td>\n",
       "      <td>50</td>\n",
       "      <td>64</td>\n",
       "      <td>45</td>\n",
       "      <td>42.0</td>\n",
       "      <td>NaN</td>\n",
       "      <td>NaN</td>\n",
       "      <td>12.000000</td>\n",
       "      <td>17.000000</td>\n",
       "      <td>10.000000</td>\n",
       "      <td>NaN</td>\n",
       "      <td>NaN</td>\n",
       "      <td>NaN</td>\n",
       "      <td>NaN</td>\n",
       "      <td>NaN</td>\n",
       "      <td>NaN</td>\n",
       "      <td>3</td>\n",
       "      <td>3</td>\n",
       "      <td>NaT</td>\n",
       "      <td>NaN</td>\n",
       "      <td>9360</td>\n",
       "      <td>11640</td>\n",
       "      <td>4980.000000</td>\n",
       "      <td>960</td>\n",
       "      <td>25980</td>\n",
       "      <td>6.0</td>\n",
       "      <td>0.96</td>\n",
       "      <td>900.0</td>\n",
       "      <td>26940.0</td>\n",
       "      <td>6.310000</td>\n",
       "      <td>12.000000</td>\n",
       "      <td>{\"1\":[0,14460,8640,720],\"2\":[900,13560,8640,78...</td>\n",
       "      <td>960.000000</td>\n",
       "      <td>0.0</td>\n",
       "      <td>600.0</td>\n",
       "      <td>4.000000</td>\n",
       "      <td>93.0</td>\n",
       "      <td>32</td>\n",
       "      <td>63</td>\n",
       "      <td>NaN</td>\n",
       "      <td>NaN</td>\n",
       "      <td>NaN</td>\n",
       "      <td>NaN</td>\n",
       "    </tr>\n",
       "    <tr>\n",
       "      <th>...</th>\n",
       "      <td>...</td>\n",
       "      <td>...</td>\n",
       "      <td>...</td>\n",
       "      <td>...</td>\n",
       "      <td>...</td>\n",
       "      <td>...</td>\n",
       "      <td>...</td>\n",
       "      <td>...</td>\n",
       "      <td>...</td>\n",
       "      <td>...</td>\n",
       "      <td>...</td>\n",
       "      <td>...</td>\n",
       "      <td>...</td>\n",
       "      <td>...</td>\n",
       "      <td>...</td>\n",
       "      <td>...</td>\n",
       "      <td>...</td>\n",
       "      <td>...</td>\n",
       "      <td>...</td>\n",
       "      <td>...</td>\n",
       "      <td>...</td>\n",
       "      <td>...</td>\n",
       "      <td>...</td>\n",
       "      <td>...</td>\n",
       "      <td>...</td>\n",
       "      <td>...</td>\n",
       "      <td>...</td>\n",
       "      <td>...</td>\n",
       "      <td>...</td>\n",
       "      <td>...</td>\n",
       "      <td>...</td>\n",
       "      <td>...</td>\n",
       "      <td>...</td>\n",
       "      <td>...</td>\n",
       "      <td>...</td>\n",
       "      <td>...</td>\n",
       "      <td>...</td>\n",
       "      <td>...</td>\n",
       "      <td>...</td>\n",
       "      <td>...</td>\n",
       "      <td>...</td>\n",
       "      <td>...</td>\n",
       "      <td>...</td>\n",
       "      <td>...</td>\n",
       "      <td>...</td>\n",
       "      <td>...</td>\n",
       "      <td>...</td>\n",
       "      <td>...</td>\n",
       "    </tr>\n",
       "    <tr>\n",
       "      <th>76</th>\n",
       "      <td>2024-12-01</td>\n",
       "      <td>2024-12-01 01:25:00+01:00</td>\n",
       "      <td>2024-12-01 08:59:00+01:00</td>\n",
       "      <td>False</td>\n",
       "      <td>0.0</td>\n",
       "      <td>0.0</td>\n",
       "      <td>55</td>\n",
       "      <td>63</td>\n",
       "      <td>51</td>\n",
       "      <td>42.0</td>\n",
       "      <td>80.5</td>\n",
       "      <td>0.0</td>\n",
       "      <td>12.000000</td>\n",
       "      <td>17.000000</td>\n",
       "      <td>9.000000</td>\n",
       "      <td>41.5</td>\n",
       "      <td>155.0</td>\n",
       "      <td>0.0</td>\n",
       "      <td>11.5</td>\n",
       "      <td>100.0</td>\n",
       "      <td>0.0</td>\n",
       "      <td>1</td>\n",
       "      <td>1</td>\n",
       "      <td>0 days</td>\n",
       "      <td>NaN</td>\n",
       "      <td>8880</td>\n",
       "      <td>12120</td>\n",
       "      <td>5160.000000</td>\n",
       "      <td>780</td>\n",
       "      <td>26160</td>\n",
       "      <td>3.0</td>\n",
       "      <td>0.97</td>\n",
       "      <td>780.0</td>\n",
       "      <td>26940.0</td>\n",
       "      <td>18.130000</td>\n",
       "      <td>36.000000</td>\n",
       "      <td>{\"1\":[0,13620],\"2\":[780,12840],\"3\":[13320,1392...</td>\n",
       "      <td>420.000000</td>\n",
       "      <td>0.0</td>\n",
       "      <td>300.0</td>\n",
       "      <td>2.000000</td>\n",
       "      <td>94.0</td>\n",
       "      <td>32</td>\n",
       "      <td>63</td>\n",
       "      <td>317.142857</td>\n",
       "      <td>0.857143</td>\n",
       "      <td>11.857143</td>\n",
       "      <td>0.714286</td>\n",
       "    </tr>\n",
       "    <tr>\n",
       "      <th>77</th>\n",
       "      <td>2024-12-02</td>\n",
       "      <td>2024-12-02 01:17:00+01:00</td>\n",
       "      <td>2024-12-02 09:16:00+01:00</td>\n",
       "      <td>False</td>\n",
       "      <td>0.0</td>\n",
       "      <td>0.0</td>\n",
       "      <td>59</td>\n",
       "      <td>71</td>\n",
       "      <td>53</td>\n",
       "      <td>42.0</td>\n",
       "      <td>80.5</td>\n",
       "      <td>0.0</td>\n",
       "      <td>12.000000</td>\n",
       "      <td>17.000000</td>\n",
       "      <td>8.000000</td>\n",
       "      <td>41.5</td>\n",
       "      <td>155.0</td>\n",
       "      <td>0.0</td>\n",
       "      <td>11.5</td>\n",
       "      <td>100.0</td>\n",
       "      <td>0.0</td>\n",
       "      <td>0</td>\n",
       "      <td>0</td>\n",
       "      <td>0 days</td>\n",
       "      <td>NaN</td>\n",
       "      <td>5580</td>\n",
       "      <td>11220</td>\n",
       "      <td>9300.000000</td>\n",
       "      <td>2640</td>\n",
       "      <td>26100</td>\n",
       "      <td>4.0</td>\n",
       "      <td>0.91</td>\n",
       "      <td>2640.0</td>\n",
       "      <td>28740.0</td>\n",
       "      <td>5.340000</td>\n",
       "      <td>10.000000</td>\n",
       "      <td>{\"1\":[0],\"2\":[2640],\"3\":[28740],\"4\":[28740]}</td>\n",
       "      <td>3960.000000</td>\n",
       "      <td>0.0</td>\n",
       "      <td>0.0</td>\n",
       "      <td>10.000000</td>\n",
       "      <td>89.0</td>\n",
       "      <td>32</td>\n",
       "      <td>63</td>\n",
       "      <td>317.142857</td>\n",
       "      <td>0.857143</td>\n",
       "      <td>11.857143</td>\n",
       "      <td>0.714286</td>\n",
       "    </tr>\n",
       "    <tr>\n",
       "      <th>78</th>\n",
       "      <td>2024-12-05</td>\n",
       "      <td>2024-12-05 01:31:00+01:00</td>\n",
       "      <td>2024-12-05 09:08:00+01:00</td>\n",
       "      <td>False</td>\n",
       "      <td>0.0</td>\n",
       "      <td>0.0</td>\n",
       "      <td>56</td>\n",
       "      <td>62</td>\n",
       "      <td>51</td>\n",
       "      <td>42.0</td>\n",
       "      <td>80.5</td>\n",
       "      <td>0.0</td>\n",
       "      <td>12.142857</td>\n",
       "      <td>17.571429</td>\n",
       "      <td>8.857143</td>\n",
       "      <td>41.5</td>\n",
       "      <td>155.0</td>\n",
       "      <td>0.0</td>\n",
       "      <td>11.5</td>\n",
       "      <td>100.0</td>\n",
       "      <td>0.0</td>\n",
       "      <td>2</td>\n",
       "      <td>2</td>\n",
       "      <td>0 days</td>\n",
       "      <td>NaN</td>\n",
       "      <td>8820</td>\n",
       "      <td>17400</td>\n",
       "      <td>5322.857143</td>\n",
       "      <td>1200</td>\n",
       "      <td>26220</td>\n",
       "      <td>3.0</td>\n",
       "      <td>0.96</td>\n",
       "      <td>120.0</td>\n",
       "      <td>27420.0</td>\n",
       "      <td>7.941429</td>\n",
       "      <td>15.428571</td>\n",
       "      <td>NaN</td>\n",
       "      <td>4885.714286</td>\n",
       "      <td>0.0</td>\n",
       "      <td>1080.0</td>\n",
       "      <td>12.857143</td>\n",
       "      <td>89.0</td>\n",
       "      <td>16</td>\n",
       "      <td>93</td>\n",
       "      <td>317.142857</td>\n",
       "      <td>0.857143</td>\n",
       "      <td>11.857143</td>\n",
       "      <td>0.714286</td>\n",
       "    </tr>\n",
       "    <tr>\n",
       "      <th>79</th>\n",
       "      <td>2024-12-06</td>\n",
       "      <td>2024-12-06 01:06:00+01:00</td>\n",
       "      <td>2024-12-06 09:40:00+01:00</td>\n",
       "      <td>False</td>\n",
       "      <td>0.0</td>\n",
       "      <td>0.0</td>\n",
       "      <td>55</td>\n",
       "      <td>60</td>\n",
       "      <td>52</td>\n",
       "      <td>42.0</td>\n",
       "      <td>80.5</td>\n",
       "      <td>0.0</td>\n",
       "      <td>12.142857</td>\n",
       "      <td>17.571429</td>\n",
       "      <td>8.857143</td>\n",
       "      <td>41.5</td>\n",
       "      <td>155.0</td>\n",
       "      <td>0.0</td>\n",
       "      <td>11.5</td>\n",
       "      <td>100.0</td>\n",
       "      <td>0.0</td>\n",
       "      <td>2</td>\n",
       "      <td>1</td>\n",
       "      <td>0 days</td>\n",
       "      <td>NaN</td>\n",
       "      <td>10500</td>\n",
       "      <td>19140</td>\n",
       "      <td>5322.857143</td>\n",
       "      <td>1200</td>\n",
       "      <td>29640</td>\n",
       "      <td>4.0</td>\n",
       "      <td>0.96</td>\n",
       "      <td>120.0</td>\n",
       "      <td>30840.0</td>\n",
       "      <td>7.941429</td>\n",
       "      <td>15.428571</td>\n",
       "      <td>NaN</td>\n",
       "      <td>4885.714286</td>\n",
       "      <td>0.0</td>\n",
       "      <td>1080.0</td>\n",
       "      <td>12.857143</td>\n",
       "      <td>94.0</td>\n",
       "      <td>16</td>\n",
       "      <td>93</td>\n",
       "      <td>317.142857</td>\n",
       "      <td>0.857143</td>\n",
       "      <td>11.857143</td>\n",
       "      <td>0.714286</td>\n",
       "    </tr>\n",
       "    <tr>\n",
       "      <th>80</th>\n",
       "      <td>2024-12-07</td>\n",
       "      <td>2024-12-07 00:24:00+01:00</td>\n",
       "      <td>2024-12-07 09:10:00+01:00</td>\n",
       "      <td>False</td>\n",
       "      <td>0.0</td>\n",
       "      <td>0.0</td>\n",
       "      <td>53</td>\n",
       "      <td>115</td>\n",
       "      <td>48</td>\n",
       "      <td>42.0</td>\n",
       "      <td>80.5</td>\n",
       "      <td>0.0</td>\n",
       "      <td>12.142857</td>\n",
       "      <td>17.571429</td>\n",
       "      <td>8.857143</td>\n",
       "      <td>41.5</td>\n",
       "      <td>155.0</td>\n",
       "      <td>0.0</td>\n",
       "      <td>11.5</td>\n",
       "      <td>100.0</td>\n",
       "      <td>0.0</td>\n",
       "      <td>4</td>\n",
       "      <td>2</td>\n",
       "      <td>0 days</td>\n",
       "      <td>NaN</td>\n",
       "      <td>14700</td>\n",
       "      <td>14160</td>\n",
       "      <td>5322.857143</td>\n",
       "      <td>2700</td>\n",
       "      <td>28860</td>\n",
       "      <td>3.0</td>\n",
       "      <td>0.91</td>\n",
       "      <td>120.0</td>\n",
       "      <td>31560.0</td>\n",
       "      <td>7.941429</td>\n",
       "      <td>15.428571</td>\n",
       "      <td>NaN</td>\n",
       "      <td>4885.714286</td>\n",
       "      <td>0.0</td>\n",
       "      <td>2580.0</td>\n",
       "      <td>12.857143</td>\n",
       "      <td>87.0</td>\n",
       "      <td>16</td>\n",
       "      <td>93</td>\n",
       "      <td>317.142857</td>\n",
       "      <td>0.857143</td>\n",
       "      <td>11.857143</td>\n",
       "      <td>0.714286</td>\n",
       "    </tr>\n",
       "  </tbody>\n",
       "</table>\n",
       "<p>695 rows × 48 columns</p>\n",
       "</div>"
      ],
      "text/plain": [
       "         date                date_start                  date_end    nap  \\\n",
       "54 2024-11-11 2024-11-11 01:48:00+01:00 2024-11-11 09:01:00+01:00  False   \n",
       "72 2024-11-27 2024-11-27 02:24:00+01:00 2024-11-27 07:20:00+01:00  False   \n",
       "73 2024-11-28 2024-11-28 00:43:00+01:00 2024-11-28 09:11:00+01:00  False   \n",
       "74 2024-11-29 2024-11-29 01:20:00+01:00 2024-11-29 09:22:00+01:00  False   \n",
       "75 2024-11-30 2024-11-30 01:20:00+01:00 2024-11-30 08:58:00+01:00  False   \n",
       "..        ...                       ...                       ...    ...   \n",
       "76 2024-12-01 2024-12-01 01:25:00+01:00 2024-12-01 08:59:00+01:00  False   \n",
       "77 2024-12-02 2024-12-02 01:17:00+01:00 2024-12-02 09:16:00+01:00  False   \n",
       "78 2024-12-05 2024-12-05 01:31:00+01:00 2024-12-05 09:08:00+01:00  False   \n",
       "79 2024-12-06 2024-12-06 01:06:00+01:00 2024-12-06 09:40:00+01:00  False   \n",
       "80 2024-12-07 2024-12-07 00:24:00+01:00 2024-12-07 09:10:00+01:00  False   \n",
       "\n",
       "    manual_sleep_duration  undefined_sleep_duration  hr_average  hr_max  \\\n",
       "54                    0.0                       0.0          57      64   \n",
       "72                    0.0                       0.0          49      54   \n",
       "73                    0.0                       0.0          58      74   \n",
       "74                    0.0                       0.0          52      65   \n",
       "75                    0.0                       0.0          50      64   \n",
       "..                    ...                       ...         ...     ...   \n",
       "76                    0.0                       0.0          55      63   \n",
       "77                    0.0                       0.0          59      71   \n",
       "78                    0.0                       0.0          56      62   \n",
       "79                    0.0                       0.0          55      60   \n",
       "80                    0.0                       0.0          53     115   \n",
       "\n",
       "    hr_min  rmssd_average  rmssd_max  rmssd_min  rr_average     rr_max  \\\n",
       "54      51           42.0        NaN        NaN   14.000000  19.000000   \n",
       "72      47           42.0        NaN        NaN         NaN        NaN   \n",
       "73      49           42.0        NaN        NaN         NaN        NaN   \n",
       "74      48           42.0        NaN        NaN   11.000000  24.000000   \n",
       "75      45           42.0        NaN        NaN   12.000000  17.000000   \n",
       "..     ...            ...        ...        ...         ...        ...   \n",
       "76      51           42.0       80.5        0.0   12.000000  17.000000   \n",
       "77      53           42.0       80.5        0.0   12.000000  17.000000   \n",
       "78      51           42.0       80.5        0.0   12.142857  17.571429   \n",
       "79      52           42.0       80.5        0.0   12.142857  17.571429   \n",
       "80      48           42.0       80.5        0.0   12.142857  17.571429   \n",
       "\n",
       "       rr_min  sdnn_1_average  sdnn_1_max  sdnn_1_min  snoring_average  \\\n",
       "54  10.000000             NaN         NaN         NaN              NaN   \n",
       "72        NaN             NaN         NaN         NaN              NaN   \n",
       "73        NaN             NaN         NaN         NaN              NaN   \n",
       "74   8.000000             NaN         NaN         NaN              NaN   \n",
       "75  10.000000             NaN         NaN         NaN              NaN   \n",
       "..        ...             ...         ...         ...              ...   \n",
       "76   9.000000            41.5       155.0         0.0             11.5   \n",
       "77   8.000000            41.5       155.0         0.0             11.5   \n",
       "78   8.857143            41.5       155.0         0.0             11.5   \n",
       "79   8.857143            41.5       155.0         0.0             11.5   \n",
       "80   8.857143            41.5       155.0         0.0             11.5   \n",
       "\n",
       "    snoring_max  snoring_min  wakeup_count  out_of_bed_count out_of_bed_time  \\\n",
       "54          NaN          NaN             4                 8             NaT   \n",
       "72          NaN          NaN             0                 2             NaT   \n",
       "73          NaN          NaN             2                 2             NaT   \n",
       "74          NaN          NaN             2                 2             NaT   \n",
       "75          NaN          NaN             3                 3             NaT   \n",
       "..          ...          ...           ...               ...             ...   \n",
       "76        100.0          0.0             1                 1          0 days   \n",
       "77        100.0          0.0             0                 0          0 days   \n",
       "78        100.0          0.0             2                 2          0 days   \n",
       "79        100.0          0.0             2                 1          0 days   \n",
       "80        100.0          0.0             4                 2          0 days   \n",
       "\n",
       "   out_of_bed  light_sleep_duration  deep_sleep_duration  rem_sleep_duration  \\\n",
       "54        NaN                 14040                 5040         3600.000000   \n",
       "72        NaN                  5160                12480                 NaN   \n",
       "73        NaN                 13860                15120                 NaN   \n",
       "74        NaN                 10620                12780         2640.000000   \n",
       "75        NaN                  9360                11640         4980.000000   \n",
       "..        ...                   ...                  ...                 ...   \n",
       "76        NaN                  8880                12120         5160.000000   \n",
       "77        NaN                  5580                11220         9300.000000   \n",
       "78        NaN                  8820                17400         5322.857143   \n",
       "79        NaN                 10500                19140         5322.857143   \n",
       "80        NaN                 14700                14160         5322.857143   \n",
       "\n",
       "    wakeup_duration  total_sleep_time  nb_rem_episodes  sleep_efficiency  \\\n",
       "54             2400             22680              3.0              0.90   \n",
       "72              120             17640              2.0              0.99   \n",
       "73             1500             28980              4.0              0.95   \n",
       "74             2460             26040              1.0              0.91   \n",
       "75              960             25980              6.0              0.96   \n",
       "..              ...               ...              ...               ...   \n",
       "76              780             26160              3.0              0.97   \n",
       "77             2640             26100              4.0              0.91   \n",
       "78             1200             26220              3.0              0.96   \n",
       "79             1200             29640              4.0              0.96   \n",
       "80             2700             28860              3.0              0.91   \n",
       "\n",
       "    sleep_latency  total_timeinbed  apnea_hypopnea_index  \\\n",
       "54          720.0          25080.0              8.870000   \n",
       "72          120.0          17760.0                   NaN   \n",
       "73          120.0          30480.0                   NaN   \n",
       "74         2340.0          28500.0             16.330000   \n",
       "75          900.0          26940.0              6.310000   \n",
       "..            ...              ...                   ...   \n",
       "76          780.0          26940.0             18.130000   \n",
       "77         2640.0          28740.0              5.340000   \n",
       "78          120.0          27420.0              7.941429   \n",
       "79          120.0          30840.0              7.941429   \n",
       "80          120.0          31560.0              7.941429   \n",
       "\n",
       "    breathing_disturbances_intensity  \\\n",
       "54                         17.000000   \n",
       "72                               NaN   \n",
       "73                               NaN   \n",
       "74                         32.000000   \n",
       "75                         12.000000   \n",
       "..                               ...   \n",
       "76                         36.000000   \n",
       "77                         10.000000   \n",
       "78                         15.428571   \n",
       "79                         15.428571   \n",
       "80                         15.428571   \n",
       "\n",
       "                                         night_events      snoring  \\\n",
       "54  {\"1\":[0,2880,300,420,420,240,120,2700,6300],\"2...  2580.000000   \n",
       "72                                                NaN          NaN   \n",
       "73                                                NaN          NaN   \n",
       "74  {\"1\":[0,8520,15960],\"2\":[2340,6300,15840],\"3\":...   180.000000   \n",
       "75  {\"1\":[0,14460,8640,720],\"2\":[900,13560,8640,78...   960.000000   \n",
       "..                                                ...          ...   \n",
       "76  {\"1\":[0,13620],\"2\":[780,12840],\"3\":[13320,1392...   420.000000   \n",
       "77       {\"1\":[0],\"2\":[2640],\"3\":[28740],\"4\":[28740]}  3960.000000   \n",
       "78                                                NaN  4885.714286   \n",
       "79                                                NaN  4885.714286   \n",
       "80                                                NaN  4885.714286   \n",
       "\n",
       "    wakeup_latency    waso  snoringepisodecount  sleep_score model  model_id  \\\n",
       "54             0.0  2580.0             7.000000         66.0    32        63   \n",
       "72             0.0     0.0                  NaN         37.0    16        93   \n",
       "73             0.0  1380.0                  NaN         91.0    16        93   \n",
       "74             0.0   540.0             1.000000         89.0    32        63   \n",
       "75             0.0   600.0             4.000000         93.0    32        63   \n",
       "..             ...     ...                  ...          ...   ...       ...   \n",
       "76             0.0   300.0             2.000000         94.0    32        63   \n",
       "77             0.0     0.0            10.000000         89.0    32        63   \n",
       "78             0.0  1080.0            12.857143         89.0    16        93   \n",
       "79             0.0  1080.0            12.857143         94.0    16        93   \n",
       "80             0.0  2580.0            12.857143         87.0    16        93   \n",
       "\n",
       "    mvt_active_duration  mvt_score_average  mvt_score_max  mvt_score_min  \n",
       "54                  NaN                NaN            NaN            NaN  \n",
       "72                  NaN                NaN            NaN            NaN  \n",
       "73                  NaN                NaN            NaN            NaN  \n",
       "74                  NaN                NaN            NaN            NaN  \n",
       "75                  NaN                NaN            NaN            NaN  \n",
       "..                  ...                ...            ...            ...  \n",
       "76           317.142857           0.857143      11.857143       0.714286  \n",
       "77           317.142857           0.857143      11.857143       0.714286  \n",
       "78           317.142857           0.857143      11.857143       0.714286  \n",
       "79           317.142857           0.857143      11.857143       0.714286  \n",
       "80           317.142857           0.857143      11.857143       0.714286  \n",
       "\n",
       "[695 rows x 48 columns]"
      ]
     },
     "execution_count": 5,
     "metadata": {},
     "output_type": "execute_result"
    }
   ],
   "source": [
    "agg.getModifiedRowsDF()"
   ]
  },
  {
   "cell_type": "code",
   "execution_count": 6,
   "metadata": {},
   "outputs": [
    {
     "data": {
      "text/html": [
       "<div>\n",
       "<style scoped>\n",
       "    .dataframe tbody tr th:only-of-type {\n",
       "        vertical-align: middle;\n",
       "    }\n",
       "\n",
       "    .dataframe tbody tr th {\n",
       "        vertical-align: top;\n",
       "    }\n",
       "\n",
       "    .dataframe thead th {\n",
       "        text-align: right;\n",
       "    }\n",
       "</style>\n",
       "<table border=\"1\" class=\"dataframe\">\n",
       "  <thead>\n",
       "    <tr style=\"text-align: right;\">\n",
       "      <th></th>\n",
       "      <th>date</th>\n",
       "      <th>date_start</th>\n",
       "      <th>date_end</th>\n",
       "      <th>light_sleep_duration</th>\n",
       "      <th>deep_sleep_duration</th>\n",
       "      <th>rem_sleep_duration</th>\n",
       "      <th>wakeup_duration</th>\n",
       "      <th>total_sleep_time</th>\n",
       "      <th>num_rem_episodes</th>\n",
       "      <th>sleep_efficiency</th>\n",
       "      <th>sleep_latency</th>\n",
       "      <th>total_time_in_bed</th>\n",
       "      <th>apnea_hypopnea_index</th>\n",
       "      <th>breathing_disturbances_intensity</th>\n",
       "      <th>asleep_duration</th>\n",
       "      <th>mvt_active_duration</th>\n",
       "      <th>night_events</th>\n",
       "      <th>snoring</th>\n",
       "      <th>wakeup_latency</th>\n",
       "      <th>waso</th>\n",
       "      <th>snoring_episode_count</th>\n",
       "      <th>sleep_score</th>\n",
       "      <th>sleep_count</th>\n",
       "      <th>hash_device_id</th>\n",
       "      <th>model</th>\n",
       "      <th>model_id</th>\n",
       "      <th>manual_sleep_duration</th>\n",
       "      <th>undefined_sleep_duration</th>\n",
       "      <th>nap</th>\n",
       "      <th>hr_average</th>\n",
       "      <th>hr_max</th>\n",
       "      <th>hr_min</th>\n",
       "      <th>rmssd_average</th>\n",
       "      <th>rmssd_max</th>\n",
       "      <th>rmssd_min</th>\n",
       "      <th>rr_average</th>\n",
       "      <th>rr_max</th>\n",
       "      <th>rr_min</th>\n",
       "      <th>sdnn_1_average</th>\n",
       "      <th>sdnn_1_max</th>\n",
       "      <th>sdnn_1_min</th>\n",
       "      <th>snoring_average</th>\n",
       "      <th>snoring_max</th>\n",
       "      <th>snoring_min</th>\n",
       "      <th>mvt_score_average</th>\n",
       "      <th>mvt_score_max</th>\n",
       "      <th>mvt_score_min</th>\n",
       "      <th>wakeup_count</th>\n",
       "      <th>out_of_bed_count</th>\n",
       "      <th>out_of_bed_time</th>\n",
       "      <th>out_of_bed</th>\n",
       "    </tr>\n",
       "  </thead>\n",
       "  <tbody>\n",
       "  </tbody>\n",
       "</table>\n",
       "</div>"
      ],
      "text/plain": [
       "Empty DataFrame\n",
       "Columns: [date, date_start, date_end, light_sleep_duration, deep_sleep_duration, rem_sleep_duration, wakeup_duration, total_sleep_time, num_rem_episodes, sleep_efficiency, sleep_latency, total_time_in_bed, apnea_hypopnea_index, breathing_disturbances_intensity, asleep_duration, mvt_active_duration, night_events, snoring, wakeup_latency, waso, snoring_episode_count, sleep_score, sleep_count, hash_device_id, model, model_id, manual_sleep_duration, undefined_sleep_duration, nap, hr_average, hr_max, hr_min, rmssd_average, rmssd_max, rmssd_min, rr_average, rr_max, rr_min, sdnn_1_average, sdnn_1_max, sdnn_1_min, snoring_average, snoring_max, snoring_min, mvt_score_average, mvt_score_max, mvt_score_min, wakeup_count, out_of_bed_count, out_of_bed_time, out_of_bed]\n",
       "Index: []"
      ]
     },
     "execution_count": 6,
     "metadata": {},
     "output_type": "execute_result"
    }
   ],
   "source": [
    "agg.getMeasuresOfSpecificNight('2023-11-28')"
   ]
  },
  {
   "cell_type": "code",
   "execution_count": 7,
   "metadata": {},
   "outputs": [
    {
     "data": {
      "text/html": [
       "<div>\n",
       "<style scoped>\n",
       "    .dataframe tbody tr th:only-of-type {\n",
       "        vertical-align: middle;\n",
       "    }\n",
       "\n",
       "    .dataframe tbody tr th {\n",
       "        vertical-align: top;\n",
       "    }\n",
       "\n",
       "    .dataframe thead th {\n",
       "        text-align: right;\n",
       "    }\n",
       "</style>\n",
       "<table border=\"1\" class=\"dataframe\">\n",
       "  <thead>\n",
       "    <tr style=\"text-align: right;\">\n",
       "      <th></th>\n",
       "      <th>date</th>\n",
       "      <th>date_start</th>\n",
       "      <th>date_end</th>\n",
       "      <th>light_sleep_duration</th>\n",
       "      <th>deep_sleep_duration</th>\n",
       "      <th>rem_sleep_duration</th>\n",
       "      <th>wakeup_duration</th>\n",
       "      <th>total_sleep_time</th>\n",
       "      <th>num_rem_episodes</th>\n",
       "      <th>sleep_efficiency</th>\n",
       "      <th>sleep_latency</th>\n",
       "      <th>total_time_in_bed</th>\n",
       "      <th>apnea_hypopnea_index</th>\n",
       "      <th>breathing_disturbances_intensity</th>\n",
       "      <th>asleep_duration</th>\n",
       "      <th>mvt_active_duration</th>\n",
       "      <th>night_events</th>\n",
       "      <th>snoring</th>\n",
       "      <th>wakeup_latency</th>\n",
       "      <th>waso</th>\n",
       "      <th>snoring_episode_count</th>\n",
       "      <th>sleep_score</th>\n",
       "      <th>sleep_count</th>\n",
       "      <th>hash_device_id</th>\n",
       "      <th>model</th>\n",
       "      <th>model_id</th>\n",
       "      <th>manual_sleep_duration</th>\n",
       "      <th>undefined_sleep_duration</th>\n",
       "      <th>nap</th>\n",
       "      <th>hr_average</th>\n",
       "      <th>hr_max</th>\n",
       "      <th>hr_min</th>\n",
       "      <th>rmssd_average</th>\n",
       "      <th>rmssd_max</th>\n",
       "      <th>rmssd_min</th>\n",
       "      <th>rr_average</th>\n",
       "      <th>rr_max</th>\n",
       "      <th>rr_min</th>\n",
       "      <th>sdnn_1_average</th>\n",
       "      <th>sdnn_1_max</th>\n",
       "      <th>sdnn_1_min</th>\n",
       "      <th>snoring_average</th>\n",
       "      <th>snoring_max</th>\n",
       "      <th>snoring_min</th>\n",
       "      <th>mvt_score_average</th>\n",
       "      <th>mvt_score_max</th>\n",
       "      <th>mvt_score_min</th>\n",
       "      <th>wakeup_count</th>\n",
       "      <th>out_of_bed_count</th>\n",
       "      <th>out_of_bed_time</th>\n",
       "      <th>out_of_bed</th>\n",
       "    </tr>\n",
       "  </thead>\n",
       "  <tbody>\n",
       "  </tbody>\n",
       "</table>\n",
       "</div>"
      ],
      "text/plain": [
       "Empty DataFrame\n",
       "Columns: [date, date_start, date_end, light_sleep_duration, deep_sleep_duration, rem_sleep_duration, wakeup_duration, total_sleep_time, num_rem_episodes, sleep_efficiency, sleep_latency, total_time_in_bed, apnea_hypopnea_index, breathing_disturbances_intensity, asleep_duration, mvt_active_duration, night_events, snoring, wakeup_latency, waso, snoring_episode_count, sleep_score, sleep_count, hash_device_id, model, model_id, manual_sleep_duration, undefined_sleep_duration, nap, hr_average, hr_max, hr_min, rmssd_average, rmssd_max, rmssd_min, rr_average, rr_max, rr_min, sdnn_1_average, sdnn_1_max, sdnn_1_min, snoring_average, snoring_max, snoring_min, mvt_score_average, mvt_score_max, mvt_score_min, wakeup_count, out_of_bed_count, out_of_bed_time, out_of_bed]\n",
       "Index: []"
      ]
     },
     "execution_count": 7,
     "metadata": {},
     "output_type": "execute_result"
    }
   ],
   "source": [
    "test = agg.getMeasuresOfSpecificInterval('2024-06-24', '2024-06-30')\n",
    "test = test[test['nap'] == False]\n",
    "test"
   ]
  },
  {
   "cell_type": "code",
   "execution_count": 8,
   "metadata": {},
   "outputs": [
    {
     "data": {
      "text/html": [
       "<div>\n",
       "<style scoped>\n",
       "    .dataframe tbody tr th:only-of-type {\n",
       "        vertical-align: middle;\n",
       "    }\n",
       "\n",
       "    .dataframe tbody tr th {\n",
       "        vertical-align: top;\n",
       "    }\n",
       "\n",
       "    .dataframe thead th {\n",
       "        text-align: right;\n",
       "    }\n",
       "</style>\n",
       "<table border=\"1\" class=\"dataframe\">\n",
       "  <thead>\n",
       "    <tr style=\"text-align: right;\">\n",
       "      <th></th>\n",
       "      <th>date</th>\n",
       "      <th>night_events</th>\n",
       "    </tr>\n",
       "  </thead>\n",
       "  <tbody>\n",
       "  </tbody>\n",
       "</table>\n",
       "</div>"
      ],
      "text/plain": [
       "Empty DataFrame\n",
       "Columns: [date, night_events]\n",
       "Index: []"
      ]
     },
     "execution_count": 8,
     "metadata": {},
     "output_type": "execute_result"
    }
   ],
   "source": [
    "agg.getMeasureOfSpecificNight('night_events', '2024-08-15')"
   ]
  },
  {
   "cell_type": "code",
   "execution_count": 9,
   "metadata": {},
   "outputs": [
    {
     "data": {
      "text/html": [
       "<div>\n",
       "<style scoped>\n",
       "    .dataframe tbody tr th:only-of-type {\n",
       "        vertical-align: middle;\n",
       "    }\n",
       "\n",
       "    .dataframe tbody tr th {\n",
       "        vertical-align: top;\n",
       "    }\n",
       "\n",
       "    .dataframe thead th {\n",
       "        text-align: right;\n",
       "    }\n",
       "</style>\n",
       "<table border=\"1\" class=\"dataframe\">\n",
       "  <thead>\n",
       "    <tr style=\"text-align: right;\">\n",
       "      <th></th>\n",
       "      <th>date_start</th>\n",
       "      <th>date_end</th>\n",
       "      <th>gap_duration</th>\n",
       "    </tr>\n",
       "  </thead>\n",
       "  <tbody>\n",
       "  </tbody>\n",
       "</table>\n",
       "</div>"
      ],
      "text/plain": [
       "Empty DataFrame\n",
       "Columns: [date_start, date_end, gap_duration]\n",
       "Index: []"
      ]
     },
     "execution_count": 9,
     "metadata": {},
     "output_type": "execute_result"
    }
   ],
   "source": [
    "agg.outOfBedOfSpecificNight('2023-11-28')"
   ]
  },
  {
   "cell_type": "code",
   "execution_count": 10,
   "metadata": {},
   "outputs": [],
   "source": [
    "save = True\n",
    "current_datetime = datetime.now()\n",
    "end_time = current_datetime.strftime('%Y-%m-%d')"
   ]
  },
  {
   "cell_type": "code",
   "execution_count": 11,
   "metadata": {},
   "outputs": [
    {
     "data": {
      "text/html": [
       "<div>\n",
       "<style scoped>\n",
       "    .dataframe tbody tr th:only-of-type {\n",
       "        vertical-align: middle;\n",
       "    }\n",
       "\n",
       "    .dataframe tbody tr th {\n",
       "        vertical-align: top;\n",
       "    }\n",
       "\n",
       "    .dataframe thead th {\n",
       "        text-align: right;\n",
       "    }\n",
       "</style>\n",
       "<table border=\"1\" class=\"dataframe\">\n",
       "  <thead>\n",
       "    <tr style=\"text-align: right;\">\n",
       "      <th></th>\n",
       "      <th>date</th>\n",
       "      <th>wakeup_count</th>\n",
       "    </tr>\n",
       "  </thead>\n",
       "  <tbody>\n",
       "  </tbody>\n",
       "</table>\n",
       "</div>"
      ],
      "text/plain": [
       "Empty DataFrame\n",
       "Columns: [date, wakeup_count]\n",
       "Index: []"
      ]
     },
     "execution_count": 11,
     "metadata": {},
     "output_type": "execute_result"
    }
   ],
   "source": [
    "agg.getMeasureOfSpecificNight(\"wakeup_count\", '2023-11-28')"
   ]
  },
  {
   "cell_type": "code",
   "execution_count": 12,
   "metadata": {},
   "outputs": [
    {
     "name": "stdout",
     "output_type": "stream",
     "text": [
      "Grafico salvato come PNG in: ../graphs/WakeUpPeriods_2023-01-01_2025-02-19.png\n"
     ]
    },
    {
     "data": {
      "application/vnd.plotly.v1+json": {
       "config": {
        "plotlyServerURL": "https://plot.ly"
       },
       "data": [
        {
         "hovertemplate": "2024-09-21 - 01:19:00 - 09:13:00",
         "line": {
          "color": "blue",
          "width": 7
         },
         "mode": "lines",
         "showlegend": false,
         "type": "scatter",
         "x": [
          1.3166666666666667,
          9.216666666666667
         ],
         "y": [
          629,
          629
         ]
        },
        {
         "hovertemplate": "2024-09-22 - 01:40:00 - 09:30:00",
         "line": {
          "color": "blue",
          "width": 7
         },
         "mode": "lines",
         "showlegend": false,
         "type": "scatter",
         "x": [
          1.6666666666666665,
          9.5
         ],
         "y": [
          630,
          630
         ]
        },
        {
         "hovertemplate": "2024-09-23 - 01:00:00 - 08:57:00",
         "line": {
          "color": "blue",
          "width": 7
         },
         "mode": "lines",
         "showlegend": false,
         "type": "scatter",
         "x": [
          1,
          8.95
         ],
         "y": [
          631,
          631
         ]
        },
        {
         "hovertemplate": "2024-09-24 - 01:46:00 - 09:00:00",
         "line": {
          "color": "blue",
          "width": 7
         },
         "mode": "lines",
         "showlegend": false,
         "type": "scatter",
         "x": [
          1.7666666666666666,
          9
         ],
         "y": [
          632,
          632
         ]
        },
        {
         "hovertemplate": "2024-09-24 - 02:15:00 - 02:21:00",
         "line": {
          "color": "red",
          "width": 7
         },
         "mode": "lines",
         "showlegend": false,
         "type": "scatter",
         "x": [
          2.25,
          2.35
         ],
         "y": [
          632,
          632
         ]
        },
        {
         "hovertemplate": "2024-09-24 - 03:13:00 - 03:22:00",
         "line": {
          "color": "red",
          "width": 7
         },
         "mode": "lines",
         "showlegend": false,
         "type": "scatter",
         "x": [
          3.216666666666667,
          3.3666666666666667
         ],
         "y": [
          632,
          632
         ]
        },
        {
         "hovertemplate": "2024-09-24 - 05:29:00 - 06:15:00",
         "line": {
          "color": "red",
          "width": 7
         },
         "mode": "lines",
         "showlegend": false,
         "type": "scatter",
         "x": [
          5.483333333333333,
          6.25
         ],
         "y": [
          632,
          632
         ]
        },
        {
         "hovertemplate": "2024-09-24 - 06:51:00 - 06:57:00",
         "line": {
          "color": "red",
          "width": 7
         },
         "mode": "lines",
         "showlegend": false,
         "type": "scatter",
         "x": [
          6.85,
          6.95
         ],
         "y": [
          632,
          632
         ]
        },
        {
         "hovertemplate": "2024-09-25 - 00:46:00 - 09:03:00",
         "line": {
          "color": "blue",
          "width": 7
         },
         "mode": "lines",
         "showlegend": false,
         "type": "scatter",
         "x": [
          0.7666666666666667,
          9.05
         ],
         "y": [
          633,
          633
         ]
        },
        {
         "hovertemplate": "2024-09-25 - 02:47:00 - 04:39:00",
         "line": {
          "color": "red",
          "width": 7
         },
         "mode": "lines",
         "showlegend": false,
         "type": "scatter",
         "x": [
          2.783333333333333,
          4.65
         ],
         "y": [
          633,
          633
         ]
        },
        {
         "hovertemplate": "2024-09-25 - 05:12:00 - 06:21:00",
         "line": {
          "color": "red",
          "width": 7
         },
         "mode": "lines",
         "showlegend": false,
         "type": "scatter",
         "x": [
          5.2,
          6.35
         ],
         "y": [
          633,
          633
         ]
        },
        {
         "hovertemplate": "2024-09-25 - 07:53:00 - 08:11:00",
         "line": {
          "color": "red",
          "width": 7
         },
         "mode": "lines",
         "showlegend": false,
         "type": "scatter",
         "x": [
          7.883333333333333,
          8.183333333333334
         ],
         "y": [
          633,
          633
         ]
        },
        {
         "hovertemplate": "2024-09-26 - 01:28:00 - 09:02:00",
         "line": {
          "color": "blue",
          "width": 7
         },
         "mode": "lines",
         "showlegend": false,
         "type": "scatter",
         "x": [
          1.4666666666666668,
          9.033333333333333
         ],
         "y": [
          634,
          634
         ]
        },
        {
         "hovertemplate": "2024-09-26 - 01:28:00 - 09:02:00",
         "line": {
          "color": "blue",
          "width": 7
         },
         "mode": "lines",
         "showlegend": false,
         "type": "scatter",
         "x": [
          1.4666666666666668,
          9.033333333333333
         ],
         "y": [
          634,
          634
         ]
        },
        {
         "hovertemplate": "2024-09-27 - 00:19:00 - 09:04:00",
         "line": {
          "color": "blue",
          "width": 7
         },
         "mode": "lines",
         "showlegend": false,
         "type": "scatter",
         "x": [
          0.31666666666666665,
          9.066666666666666
         ],
         "y": [
          635,
          635
         ]
        },
        {
         "hovertemplate": "2024-09-27 - 00:28:00 - 00:44:00",
         "line": {
          "color": "red",
          "width": 7
         },
         "mode": "lines",
         "showlegend": false,
         "type": "scatter",
         "x": [
          0.4666666666666667,
          0.7333333333333333
         ],
         "y": [
          635,
          635
         ]
        },
        {
         "hovertemplate": "2024-09-27 - 02:41:00 - 02:53:00",
         "line": {
          "color": "red",
          "width": 7
         },
         "mode": "lines",
         "showlegend": false,
         "type": "scatter",
         "x": [
          2.6833333333333336,
          2.8833333333333333
         ],
         "y": [
          635,
          635
         ]
        },
        {
         "hovertemplate": "2024-09-27 - 03:27:00 - 04:33:00",
         "line": {
          "color": "red",
          "width": 7
         },
         "mode": "lines",
         "showlegend": false,
         "type": "scatter",
         "x": [
          3.45,
          4.55
         ],
         "y": [
          635,
          635
         ]
        },
        {
         "hovertemplate": "2024-09-27 - 06:00:00 - 06:07:00",
         "line": {
          "color": "red",
          "width": 7
         },
         "mode": "lines",
         "showlegend": false,
         "type": "scatter",
         "x": [
          6,
          6.116666666666666
         ],
         "y": [
          635,
          635
         ]
        },
        {
         "hovertemplate": "2024-09-27 - 07:13:00 - 07:28:00",
         "line": {
          "color": "red",
          "width": 7
         },
         "mode": "lines",
         "showlegend": false,
         "type": "scatter",
         "x": [
          7.216666666666667,
          7.466666666666667
         ],
         "y": [
          635,
          635
         ]
        },
        {
         "hovertemplate": "2024-09-27 - 07:43:00 - 08:05:00",
         "line": {
          "color": "red",
          "width": 7
         },
         "mode": "lines",
         "showlegend": false,
         "type": "scatter",
         "x": [
          7.716666666666667,
          8.083333333333334
         ],
         "y": [
          635,
          635
         ]
        },
        {
         "hovertemplate": "2024-09-28 - 01:45:00 - 03:08:00",
         "line": {
          "color": "blue",
          "width": 7
         },
         "mode": "lines",
         "showlegend": false,
         "type": "scatter",
         "x": [
          1.75,
          3.1333333333333333
         ],
         "y": [
          636,
          636
         ]
        },
        {
         "hovertemplate": "2024-09-28 - 05:23:00 - 09:07:00",
         "line": {
          "color": "blue",
          "width": 7
         },
         "mode": "lines",
         "showlegend": false,
         "type": "scatter",
         "x": [
          5.383333333333334,
          9.116666666666667
         ],
         "y": [
          636,
          636
         ]
        },
        {
         "hovertemplate": "2024-09-28 - 03:07:00 - 03:13:00",
         "line": {
          "color": "red",
          "width": 7
         },
         "mode": "lines",
         "showlegend": false,
         "type": "scatter",
         "x": [
          3.1166666666666667,
          3.216666666666667
         ],
         "y": [
          636,
          636
         ]
        },
        {
         "hovertemplate": "2024-09-29 - 05:06:00 - 09:05:00",
         "line": {
          "color": "blue",
          "width": 7
         },
         "mode": "lines",
         "showlegend": false,
         "type": "scatter",
         "x": [
          5.1,
          9.083333333333334
         ],
         "y": [
          637,
          637
         ]
        },
        {
         "hovertemplate": "2024-09-29 - 06:24:00 - 06:33:00",
         "line": {
          "color": "red",
          "width": 7
         },
         "mode": "lines",
         "showlegend": false,
         "type": "scatter",
         "x": [
          6.4,
          6.55
         ],
         "y": [
          637,
          637
         ]
        },
        {
         "hovertemplate": "2024-09-29 - 08:15:00 - 08:40:00",
         "line": {
          "color": "red",
          "width": 7
         },
         "mode": "lines",
         "showlegend": false,
         "type": "scatter",
         "x": [
          8.25,
          8.666666666666666
         ],
         "y": [
          637,
          637
         ]
        },
        {
         "hovertemplate": "2024-09-30 - 01:22:00 - 05:42:00",
         "line": {
          "color": "blue",
          "width": 7
         },
         "mode": "lines",
         "showlegend": false,
         "type": "scatter",
         "x": [
          1.3666666666666667,
          5.7
         ],
         "y": [
          638,
          638
         ]
        },
        {
         "hovertemplate": "2024-09-30 - 03:02:00 - 03:44:00",
         "line": {
          "color": "red",
          "width": 7
         },
         "mode": "lines",
         "showlegend": false,
         "type": "scatter",
         "x": [
          3.033333333333333,
          3.7333333333333334
         ],
         "y": [
          638,
          638
         ]
        },
        {
         "hovertemplate": "2024-09-30 - 05:41:00 - 06:59:00",
         "line": {
          "color": "red",
          "width": 7
         },
         "mode": "lines",
         "showlegend": false,
         "type": "scatter",
         "x": [
          5.683333333333334,
          6.983333333333333
         ],
         "y": [
          638,
          638
         ]
        },
        {
         "hovertemplate": "2024-10-01 - 01:00:00 - 09:06:00",
         "line": {
          "color": "blue",
          "width": 7
         },
         "mode": "lines",
         "showlegend": false,
         "type": "scatter",
         "x": [
          1,
          9.1
         ],
         "y": [
          639,
          639
         ]
        },
        {
         "hovertemplate": "2024-10-01 - 04:07:00 - 04:48:00",
         "line": {
          "color": "red",
          "width": 7
         },
         "mode": "lines",
         "showlegend": false,
         "type": "scatter",
         "x": [
          4.116666666666666,
          4.8
         ],
         "y": [
          639,
          639
         ]
        },
        {
         "hovertemplate": "2024-10-01 - 06:09:00 - 07:36:00",
         "line": {
          "color": "red",
          "width": 7
         },
         "mode": "lines",
         "showlegend": false,
         "type": "scatter",
         "x": [
          6.15,
          7.6
         ],
         "y": [
          639,
          639
         ]
        },
        {
         "hovertemplate": "2024-10-02 - 02:03:00 - 05:34:00",
         "line": {
          "color": "blue",
          "width": 7
         },
         "mode": "lines",
         "showlegend": false,
         "type": "scatter",
         "x": [
          2.05,
          5.566666666666666
         ],
         "y": [
          640,
          640
         ]
        },
        {
         "hovertemplate": "2024-10-02 - 03:28:00 - 03:39:00",
         "line": {
          "color": "red",
          "width": 7
         },
         "mode": "lines",
         "showlegend": false,
         "type": "scatter",
         "x": [
          3.466666666666667,
          3.65
         ],
         "y": [
          640,
          640
         ]
        },
        {
         "hovertemplate": "2024-10-02 - 05:33:00 - 07:06:00",
         "line": {
          "color": "red",
          "width": 7
         },
         "mode": "lines",
         "showlegend": false,
         "type": "scatter",
         "x": [
          5.55,
          7.1
         ],
         "y": [
          640,
          640
         ]
        },
        {
         "hovertemplate": "2024-10-03 - 01:13:00 - 02:12:00",
         "line": {
          "color": "blue",
          "width": 7
         },
         "mode": "lines",
         "showlegend": false,
         "type": "scatter",
         "x": [
          1.2166666666666668,
          2.2
         ],
         "y": [
          641,
          641
         ]
        },
        {
         "hovertemplate": "2024-10-03 - 06:55:00 - 07:59:00",
         "line": {
          "color": "red",
          "width": 7
         },
         "mode": "lines",
         "showlegend": false,
         "type": "scatter",
         "x": [
          6.916666666666667,
          7.983333333333333
         ],
         "y": [
          641,
          641
         ]
        },
        {
         "hovertemplate": "2024-10-03 - 08:36:00 - 08:48:00",
         "line": {
          "color": "red",
          "width": 7
         },
         "mode": "lines",
         "showlegend": false,
         "type": "scatter",
         "x": [
          8.6,
          8.8
         ],
         "y": [
          641,
          641
         ]
        },
        {
         "hovertemplate": "2024-10-04 - 02:01:00 - 09:01:00",
         "line": {
          "color": "blue",
          "width": 7
         },
         "mode": "lines",
         "showlegend": false,
         "type": "scatter",
         "x": [
          2.0166666666666666,
          9.016666666666667
         ],
         "y": [
          642,
          642
         ]
        },
        {
         "hovertemplate": "2024-10-04 - 02:10:00 - 02:21:00",
         "line": {
          "color": "red",
          "width": 7
         },
         "mode": "lines",
         "showlegend": false,
         "type": "scatter",
         "x": [
          2.1666666666666665,
          2.35
         ],
         "y": [
          642,
          642
         ]
        },
        {
         "hovertemplate": "2024-10-05 - 02:03:00 - 08:39:00",
         "line": {
          "color": "blue",
          "width": 7
         },
         "mode": "lines",
         "showlegend": false,
         "type": "scatter",
         "x": [
          2.05,
          8.65
         ],
         "y": [
          643,
          643
         ]
        },
        {
         "hovertemplate": "2024-10-06 - 01:27:00 - 06:32:00",
         "line": {
          "color": "blue",
          "width": 7
         },
         "mode": "lines",
         "showlegend": false,
         "type": "scatter",
         "x": [
          1.45,
          6.533333333333333
         ],
         "y": [
          644,
          644
         ]
        },
        {
         "hovertemplate": "2024-10-06 - 02:39:00 - 02:45:00",
         "line": {
          "color": "red",
          "width": 7
         },
         "mode": "lines",
         "showlegend": false,
         "type": "scatter",
         "x": [
          2.65,
          2.75
         ],
         "y": [
          644,
          644
         ]
        },
        {
         "hovertemplate": "2024-10-06 - 06:31:00 - 07:09:00",
         "line": {
          "color": "red",
          "width": 7
         },
         "mode": "lines",
         "showlegend": false,
         "type": "scatter",
         "x": [
          6.516666666666667,
          7.15
         ],
         "y": [
          644,
          644
         ]
        },
        {
         "hovertemplate": "2024-10-07 - 01:37:00 - 01:50:00",
         "line": {
          "color": "blue",
          "width": 7
         },
         "mode": "lines",
         "showlegend": false,
         "type": "scatter",
         "x": [
          1.6166666666666667,
          1.8333333333333335
         ],
         "y": [
          645,
          645
         ]
        },
        {
         "hovertemplate": "2024-10-07 - 07:07:00 - 09:00:00",
         "line": {
          "color": "blue",
          "width": 7
         },
         "mode": "lines",
         "showlegend": false,
         "type": "scatter",
         "x": [
          7.116666666666666,
          9
         ],
         "y": [
          645,
          645
         ]
        },
        {
         "hovertemplate": "2024-10-07 - 01:49:00 - 03:28:00",
         "line": {
          "color": "red",
          "width": 7
         },
         "mode": "lines",
         "showlegend": false,
         "type": "scatter",
         "x": [
          1.8166666666666667,
          3.466666666666667
         ],
         "y": [
          645,
          645
         ]
        },
        {
         "hovertemplate": "2024-10-07 - 04:31:00 - 04:41:00",
         "line": {
          "color": "red",
          "width": 7
         },
         "mode": "lines",
         "showlegend": false,
         "type": "scatter",
         "x": [
          4.516666666666667,
          4.683333333333334
         ],
         "y": [
          645,
          645
         ]
        },
        {
         "hovertemplate": "2024-10-08 - 00:58:00 - 03:23:00",
         "line": {
          "color": "blue",
          "width": 7
         },
         "mode": "lines",
         "showlegend": false,
         "type": "scatter",
         "x": [
          0.9666666666666667,
          3.3833333333333333
         ],
         "y": [
          646,
          646
         ]
        },
        {
         "hovertemplate": "2024-10-08 - 02:48:00 - 03:01:00",
         "line": {
          "color": "red",
          "width": 7
         },
         "mode": "lines",
         "showlegend": false,
         "type": "scatter",
         "x": [
          2.8,
          3.0166666666666666
         ],
         "y": [
          646,
          646
         ]
        },
        {
         "hovertemplate": "2024-10-08 - 03:22:00 - 04:32:00",
         "line": {
          "color": "red",
          "width": 7
         },
         "mode": "lines",
         "showlegend": false,
         "type": "scatter",
         "x": [
          3.3666666666666667,
          4.533333333333333
         ],
         "y": [
          646,
          646
         ]
        },
        {
         "hovertemplate": "2024-10-08 - 08:24:00 - 09:23:00",
         "line": {
          "color": "red",
          "width": 7
         },
         "mode": "lines",
         "showlegend": false,
         "type": "scatter",
         "x": [
          8.4,
          9.383333333333333
         ],
         "y": [
          646,
          646
         ]
        },
        {
         "hovertemplate": "2024-10-08 - 22:42:00 - 24:00:00",
         "line": {
          "color": "blue",
          "width": 7
         },
         "mode": "lines",
         "showlegend": false,
         "type": "scatter",
         "x": [
          22.7,
          24
         ],
         "y": [
          646,
          646
         ]
        },
        {
         "hovertemplate": "2024-10-09 - 00:00:00 - 03:46:00",
         "line": {
          "color": "blue",
          "width": 7
         },
         "mode": "lines",
         "showlegend": false,
         "type": "scatter",
         "x": [
          0,
          3.7666666666666666
         ],
         "y": [
          647,
          647
         ]
        },
        {
         "hovertemplate": "2024-10-09 - 03:45:00 - 03:53:00",
         "line": {
          "color": "red",
          "width": 7
         },
         "mode": "lines",
         "showlegend": false,
         "type": "scatter",
         "x": [
          3.75,
          3.8833333333333333
         ],
         "y": [
          647,
          647
         ]
        },
        {
         "hovertemplate": "2024-10-09 - 07:56:00 - 08:08:00",
         "line": {
          "color": "red",
          "width": 7
         },
         "mode": "lines",
         "showlegend": false,
         "type": "scatter",
         "x": [
          7.933333333333334,
          8.133333333333333
         ],
         "y": [
          647,
          647
         ]
        },
        {
         "hovertemplate": "2024-10-09 - 22:58:00 - 24:00:00",
         "line": {
          "color": "blue",
          "width": 7
         },
         "mode": "lines",
         "showlegend": false,
         "type": "scatter",
         "x": [
          22.966666666666665,
          24
         ],
         "y": [
          647,
          647
         ]
        },
        {
         "hovertemplate": "2024-10-10 - 00:00:00 - 06:32:00",
         "line": {
          "color": "blue",
          "width": 7
         },
         "mode": "lines",
         "showlegend": false,
         "type": "scatter",
         "x": [
          0,
          6.533333333333333
         ],
         "y": [
          648,
          648
         ]
        },
        {
         "hovertemplate": "2024-10-10 - 04:23:00 - 06:03:00",
         "line": {
          "color": "red",
          "width": 7
         },
         "mode": "lines",
         "showlegend": false,
         "type": "scatter",
         "x": [
          4.383333333333334,
          6.05
         ],
         "y": [
          648,
          648
         ]
        },
        {
         "hovertemplate": "2024-10-10 - 06:31:00 - 06:42:00",
         "line": {
          "color": "red",
          "width": 7
         },
         "mode": "lines",
         "showlegend": false,
         "type": "scatter",
         "x": [
          6.516666666666667,
          6.7
         ],
         "y": [
          648,
          648
         ]
        },
        {
         "hovertemplate": "2024-10-11 - 00:17:00 - 09:05:00",
         "line": {
          "color": "blue",
          "width": 7
         },
         "mode": "lines",
         "showlegend": false,
         "type": "scatter",
         "x": [
          0.2833333333333333,
          9.083333333333334
         ],
         "y": [
          649,
          649
         ]
        },
        {
         "hovertemplate": "2024-10-11 - 23:27:00 - 24:00:00",
         "line": {
          "color": "blue",
          "width": 7
         },
         "mode": "lines",
         "showlegend": false,
         "type": "scatter",
         "x": [
          23.45,
          24
         ],
         "y": [
          649,
          649
         ]
        },
        {
         "hovertemplate": "2024-10-12 - 00:00:00 - 09:42:00",
         "line": {
          "color": "blue",
          "width": 7
         },
         "mode": "lines",
         "showlegend": false,
         "type": "scatter",
         "x": [
          0,
          9.7
         ],
         "y": [
          650,
          650
         ]
        },
        {
         "hovertemplate": "2024-10-12 - 04:18:00 - 04:51:00",
         "line": {
          "color": "red",
          "width": 7
         },
         "mode": "lines",
         "showlegend": false,
         "type": "scatter",
         "x": [
          4.3,
          4.85
         ],
         "y": [
          650,
          650
         ]
        },
        {
         "hovertemplate": "2024-10-12 - 07:37:00 - 08:25:00",
         "line": {
          "color": "red",
          "width": 7
         },
         "mode": "lines",
         "showlegend": false,
         "type": "scatter",
         "x": [
          7.616666666666667,
          8.416666666666666
         ],
         "y": [
          650,
          650
         ]
        },
        {
         "hovertemplate": "2024-10-12 - 23:59:00 - 24:00:00",
         "line": {
          "color": "blue",
          "width": 7
         },
         "mode": "lines",
         "showlegend": false,
         "type": "scatter",
         "x": [
          23.983333333333334,
          24
         ],
         "y": [
          650,
          650
         ]
        },
        {
         "hovertemplate": "2024-10-13 - 00:00:00 - 07:45:00",
         "line": {
          "color": "blue",
          "width": 7
         },
         "mode": "lines",
         "showlegend": false,
         "type": "scatter",
         "x": [
          0,
          7.75
         ],
         "y": [
          651,
          651
         ]
        },
        {
         "hovertemplate": "2024-10-13 - 07:44:00 - 08:14:00",
         "line": {
          "color": "red",
          "width": 7
         },
         "mode": "lines",
         "showlegend": false,
         "type": "scatter",
         "x": [
          7.733333333333333,
          8.233333333333333
         ],
         "y": [
          651,
          651
         ]
        },
        {
         "hovertemplate": "2024-10-14 - 00:19:00 - 08:48:00",
         "line": {
          "color": "blue",
          "width": 7
         },
         "mode": "lines",
         "showlegend": false,
         "type": "scatter",
         "x": [
          0.31666666666666665,
          8.8
         ],
         "y": [
          652,
          652
         ]
        },
        {
         "hovertemplate": "2024-10-14 - 04:30:00 - 04:37:00",
         "line": {
          "color": "red",
          "width": 7
         },
         "mode": "lines",
         "showlegend": false,
         "type": "scatter",
         "x": [
          4.5,
          4.616666666666667
         ],
         "y": [
          652,
          652
         ]
        },
        {
         "hovertemplate": "2024-10-14 - 06:47:00 - 07:13:00",
         "line": {
          "color": "red",
          "width": 7
         },
         "mode": "lines",
         "showlegend": false,
         "type": "scatter",
         "x": [
          6.783333333333333,
          7.216666666666667
         ],
         "y": [
          652,
          652
         ]
        },
        {
         "hovertemplate": "2024-10-14 - 07:23:00 - 07:56:00",
         "line": {
          "color": "red",
          "width": 7
         },
         "mode": "lines",
         "showlegend": false,
         "type": "scatter",
         "x": [
          7.383333333333334,
          7.933333333333334
         ],
         "y": [
          652,
          652
         ]
        },
        {
         "hovertemplate": "2024-10-14 - 23:16:00 - 24:00:00",
         "line": {
          "color": "blue",
          "width": 7
         },
         "mode": "lines",
         "showlegend": false,
         "type": "scatter",
         "x": [
          23.266666666666666,
          24
         ],
         "y": [
          652,
          652
         ]
        },
        {
         "hovertemplate": "2024-10-15 - 00:00:00 - 08:35:00",
         "line": {
          "color": "blue",
          "width": 7
         },
         "mode": "lines",
         "showlegend": false,
         "type": "scatter",
         "x": [
          0,
          8.583333333333334
         ],
         "y": [
          653,
          653
         ]
        },
        {
         "hovertemplate": "2024-10-15 - 06:44:00 - 07:04:00",
         "line": {
          "color": "red",
          "width": 7
         },
         "mode": "lines",
         "showlegend": false,
         "type": "scatter",
         "x": [
          6.733333333333333,
          7.066666666666666
         ],
         "y": [
          653,
          653
         ]
        },
        {
         "hovertemplate": "2024-10-15 - 21:32:00 - 24:00:00",
         "line": {
          "color": "blue",
          "width": 7
         },
         "mode": "lines",
         "showlegend": false,
         "type": "scatter",
         "x": [
          21.533333333333335,
          24
         ],
         "y": [
          653,
          653
         ]
        },
        {
         "hovertemplate": "2024-10-16 - 00:00:00 - 04:16:00",
         "line": {
          "color": "blue",
          "width": 7
         },
         "mode": "lines",
         "showlegend": false,
         "type": "scatter",
         "x": [
          0,
          4.266666666666667
         ],
         "y": [
          654,
          654
         ]
        },
        {
         "hovertemplate": "2024-10-15 - 23:02:00 - 23:08:00",
         "line": {
          "color": "red",
          "width": 7
         },
         "mode": "lines",
         "showlegend": false,
         "type": "scatter",
         "x": [
          23.033333333333335,
          23.133333333333333
         ],
         "y": [
          653,
          653
         ]
        },
        {
         "hovertemplate": "2024-10-16 - 02:08:00 - 02:17:00",
         "line": {
          "color": "red",
          "width": 7
         },
         "mode": "lines",
         "showlegend": false,
         "type": "scatter",
         "x": [
          2.1333333333333333,
          2.283333333333333
         ],
         "y": [
          654,
          654
         ]
        },
        {
         "hovertemplate": "2024-10-16 - 04:15:00 - 05:34:00",
         "line": {
          "color": "red",
          "width": 7
         },
         "mode": "lines",
         "showlegend": false,
         "type": "scatter",
         "x": [
          4.25,
          5.566666666666666
         ],
         "y": [
          654,
          654
         ]
        },
        {
         "hovertemplate": "2024-10-17 - 00:50:00 - 09:26:00",
         "line": {
          "color": "blue",
          "width": 7
         },
         "mode": "lines",
         "showlegend": false,
         "type": "scatter",
         "x": [
          0.8333333333333334,
          9.433333333333334
         ],
         "y": [
          655,
          655
         ]
        },
        {
         "hovertemplate": "2024-10-17 - 02:20:00 - 02:31:00",
         "line": {
          "color": "red",
          "width": 7
         },
         "mode": "lines",
         "showlegend": false,
         "type": "scatter",
         "x": [
          2.3333333333333335,
          2.5166666666666666
         ],
         "y": [
          655,
          655
         ]
        },
        {
         "hovertemplate": "2024-10-17 - 05:44:00 - 05:52:00",
         "line": {
          "color": "red",
          "width": 7
         },
         "mode": "lines",
         "showlegend": false,
         "type": "scatter",
         "x": [
          5.733333333333333,
          5.866666666666667
         ],
         "y": [
          655,
          655
         ]
        },
        {
         "hovertemplate": "2024-10-17 - 06:23:00 - 06:34:00",
         "line": {
          "color": "red",
          "width": 7
         },
         "mode": "lines",
         "showlegend": false,
         "type": "scatter",
         "x": [
          6.383333333333334,
          6.566666666666666
         ],
         "y": [
          655,
          655
         ]
        },
        {
         "hovertemplate": "2024-10-17 - 21:01:00 - 24:00:00",
         "line": {
          "color": "blue",
          "width": 7
         },
         "mode": "lines",
         "showlegend": false,
         "type": "scatter",
         "x": [
          21.016666666666666,
          24
         ],
         "y": [
          655,
          655
         ]
        },
        {
         "hovertemplate": "2024-10-18 - 00:00:00 - 09:15:00",
         "line": {
          "color": "blue",
          "width": 7
         },
         "mode": "lines",
         "showlegend": false,
         "type": "scatter",
         "x": [
          0,
          9.25
         ],
         "y": [
          656,
          656
         ]
        },
        {
         "hovertemplate": "2024-10-18 - 01:26:00 - 01:39:00",
         "line": {
          "color": "red",
          "width": 7
         },
         "mode": "lines",
         "showlegend": false,
         "type": "scatter",
         "x": [
          1.4333333333333333,
          1.65
         ],
         "y": [
          656,
          656
         ]
        },
        {
         "hovertemplate": "2024-10-18 - 04:00:00 - 04:06:00",
         "line": {
          "color": "red",
          "width": 7
         },
         "mode": "lines",
         "showlegend": false,
         "type": "scatter",
         "x": [
          4,
          4.1
         ],
         "y": [
          656,
          656
         ]
        },
        {
         "hovertemplate": "2024-10-18 - 21:59:00 - 24:00:00",
         "line": {
          "color": "blue",
          "width": 7
         },
         "mode": "lines",
         "showlegend": false,
         "type": "scatter",
         "x": [
          21.983333333333334,
          24
         ],
         "y": [
          656,
          656
         ]
        },
        {
         "hovertemplate": "2024-10-19 - 00:00:00 - 05:51:00",
         "line": {
          "color": "blue",
          "width": 7
         },
         "mode": "lines",
         "showlegend": false,
         "type": "scatter",
         "x": [
          0,
          5.85
         ],
         "y": [
          657,
          657
         ]
        },
        {
         "hovertemplate": "2024-10-19 - 02:49:00 - 02:56:00",
         "line": {
          "color": "red",
          "width": 7
         },
         "mode": "lines",
         "showlegend": false,
         "type": "scatter",
         "x": [
          2.8166666666666664,
          2.9333333333333336
         ],
         "y": [
          657,
          657
         ]
        },
        {
         "hovertemplate": "2024-10-19 - 05:50:00 - 05:56:00",
         "line": {
          "color": "red",
          "width": 7
         },
         "mode": "lines",
         "showlegend": false,
         "type": "scatter",
         "x": [
          5.833333333333333,
          5.933333333333334
         ],
         "y": [
          657,
          657
         ]
        },
        {
         "hovertemplate": "2024-10-20 - 03:56:00 - 08:26:00",
         "line": {
          "color": "blue",
          "width": 7
         },
         "mode": "lines",
         "showlegend": false,
         "type": "scatter",
         "x": [
          3.9333333333333336,
          8.433333333333334
         ],
         "y": [
          658,
          658
         ]
        },
        {
         "hovertemplate": "2024-10-20 - 05:53:00 - 06:34:00",
         "line": {
          "color": "red",
          "width": 7
         },
         "mode": "lines",
         "showlegend": false,
         "type": "scatter",
         "x": [
          5.883333333333333,
          6.566666666666666
         ],
         "y": [
          658,
          658
         ]
        },
        {
         "hovertemplate": "2024-10-20 - 07:42:00 - 07:51:00",
         "line": {
          "color": "red",
          "width": 7
         },
         "mode": "lines",
         "showlegend": false,
         "type": "scatter",
         "x": [
          7.7,
          7.85
         ],
         "y": [
          658,
          658
         ]
        },
        {
         "hovertemplate": "2024-10-20 - 08:25:00 - 09:05:00",
         "line": {
          "color": "red",
          "width": 7
         },
         "mode": "lines",
         "showlegend": false,
         "type": "scatter",
         "x": [
          8.416666666666666,
          9.083333333333334
         ],
         "y": [
          658,
          658
         ]
        },
        {
         "hovertemplate": "2024-10-21 - 01:21:00 - 06:49:00",
         "line": {
          "color": "blue",
          "width": 7
         },
         "mode": "lines",
         "showlegend": false,
         "type": "scatter",
         "x": [
          1.35,
          6.816666666666666
         ],
         "y": [
          659,
          659
         ]
        },
        {
         "hovertemplate": "2024-10-21 - 01:47:00 - 02:34:00",
         "line": {
          "color": "red",
          "width": 7
         },
         "mode": "lines",
         "showlegend": false,
         "type": "scatter",
         "x": [
          1.7833333333333332,
          2.5666666666666664
         ],
         "y": [
          659,
          659
         ]
        },
        {
         "hovertemplate": "2024-10-21 - 03:24:00 - 03:47:00",
         "line": {
          "color": "red",
          "width": 7
         },
         "mode": "lines",
         "showlegend": false,
         "type": "scatter",
         "x": [
          3.4,
          3.783333333333333
         ],
         "y": [
          659,
          659
         ]
        },
        {
         "hovertemplate": "2024-10-21 - 05:03:00 - 05:30:00",
         "line": {
          "color": "red",
          "width": 7
         },
         "mode": "lines",
         "showlegend": false,
         "type": "scatter",
         "x": [
          5.05,
          5.5
         ],
         "y": [
          659,
          659
         ]
        },
        {
         "hovertemplate": "2024-10-21 - 06:48:00 - 08:39:00",
         "line": {
          "color": "red",
          "width": 7
         },
         "mode": "lines",
         "showlegend": false,
         "type": "scatter",
         "x": [
          6.8,
          8.65
         ],
         "y": [
          659,
          659
         ]
        },
        {
         "hovertemplate": "2024-10-22 - 02:08:00 - 09:09:00",
         "line": {
          "color": "blue",
          "width": 7
         },
         "mode": "lines",
         "showlegend": false,
         "type": "scatter",
         "x": [
          2.1333333333333333,
          9.15
         ],
         "y": [
          660,
          660
         ]
        },
        {
         "hovertemplate": "2024-10-23 - 01:10:00 - 09:09:00",
         "line": {
          "color": "blue",
          "width": 7
         },
         "mode": "lines",
         "showlegend": false,
         "type": "scatter",
         "x": [
          1.1666666666666667,
          9.15
         ],
         "y": [
          661,
          661
         ]
        },
        {
         "hovertemplate": "2024-10-24 - 01:25:00 - 08:58:00",
         "line": {
          "color": "blue",
          "width": 7
         },
         "mode": "lines",
         "showlegend": false,
         "type": "scatter",
         "x": [
          1.4166666666666667,
          8.966666666666667
         ],
         "y": [
          662,
          662
         ]
        },
        {
         "hovertemplate": "2024-10-25 - 02:32:00 - 09:08:00",
         "line": {
          "color": "blue",
          "width": 7
         },
         "mode": "lines",
         "showlegend": false,
         "type": "scatter",
         "x": [
          2.533333333333333,
          9.133333333333333
         ],
         "y": [
          663,
          663
         ]
        },
        {
         "hovertemplate": "2024-10-26 - 01:44:00 - 09:27:00",
         "line": {
          "color": "blue",
          "width": 7
         },
         "mode": "lines",
         "showlegend": false,
         "type": "scatter",
         "x": [
          1.7333333333333334,
          9.45
         ],
         "y": [
          664,
          664
         ]
        },
        {
         "hovertemplate": "2024-10-26 - 06:05:00 - 06:12:00",
         "line": {
          "color": "red",
          "width": 7
         },
         "mode": "lines",
         "showlegend": false,
         "type": "scatter",
         "x": [
          6.083333333333333,
          6.2
         ],
         "y": [
          664,
          664
         ]
        },
        {
         "hovertemplate": "2024-10-26 - 07:49:00 - 08:09:00",
         "line": {
          "color": "red",
          "width": 7
         },
         "mode": "lines",
         "showlegend": false,
         "type": "scatter",
         "x": [
          7.816666666666666,
          8.15
         ],
         "y": [
          664,
          664
         ]
        },
        {
         "hovertemplate": "2024-10-27 - 01:24:00 - 09:07:00",
         "line": {
          "color": "blue",
          "width": 7
         },
         "mode": "lines",
         "showlegend": false,
         "type": "scatter",
         "x": [
          1.4,
          9.116666666666667
         ],
         "y": [
          665,
          665
         ]
        },
        {
         "hovertemplate": "2024-10-28 - 01:14:00 - 08:36:00",
         "line": {
          "color": "blue",
          "width": 7
         },
         "mode": "lines",
         "showlegend": false,
         "type": "scatter",
         "x": [
          1.2333333333333334,
          8.6
         ],
         "y": [
          666,
          666
         ]
        },
        {
         "hovertemplate": "2024-10-28 - 05:49:00 - 06:53:00",
         "line": {
          "color": "red",
          "width": 7
         },
         "mode": "lines",
         "showlegend": false,
         "type": "scatter",
         "x": [
          5.816666666666666,
          6.883333333333333
         ],
         "y": [
          666,
          666
         ]
        },
        {
         "hovertemplate": "2024-10-29 - 00:43:00 - 09:17:00",
         "line": {
          "color": "blue",
          "width": 7
         },
         "mode": "lines",
         "showlegend": false,
         "type": "scatter",
         "x": [
          0.7166666666666667,
          9.283333333333333
         ],
         "y": [
          667,
          667
         ]
        },
        {
         "hovertemplate": "2024-10-30 - 01:26:00 - 08:47:00",
         "line": {
          "color": "blue",
          "width": 7
         },
         "mode": "lines",
         "showlegend": false,
         "type": "scatter",
         "x": [
          1.4333333333333333,
          8.783333333333333
         ],
         "y": [
          668,
          668
         ]
        },
        {
         "hovertemplate": "2024-10-31 - 00:15:00 - 07:59:00",
         "line": {
          "color": "blue",
          "width": 7
         },
         "mode": "lines",
         "showlegend": false,
         "type": "scatter",
         "x": [
          0.25,
          7.983333333333333
         ],
         "y": [
          669,
          669
         ]
        },
        {
         "hovertemplate": "2024-11-01 - 01:28:00 - 09:21:00",
         "line": {
          "color": "blue",
          "width": 7
         },
         "mode": "lines",
         "showlegend": false,
         "type": "scatter",
         "x": [
          1.4666666666666668,
          9.35
         ],
         "y": [
          670,
          670
         ]
        },
        {
         "hovertemplate": "2024-11-02 - 01:22:00 - 08:55:00",
         "line": {
          "color": "blue",
          "width": 7
         },
         "mode": "lines",
         "showlegend": false,
         "type": "scatter",
         "x": [
          1.3666666666666667,
          8.916666666666666
         ],
         "y": [
          671,
          671
         ]
        },
        {
         "hovertemplate": "2024-11-03 - 01:29:00 - 09:26:00",
         "line": {
          "color": "blue",
          "width": 7
         },
         "mode": "lines",
         "showlegend": false,
         "type": "scatter",
         "x": [
          1.4833333333333334,
          9.433333333333334
         ],
         "y": [
          672,
          672
         ]
        },
        {
         "hovertemplate": "2024-11-04 - 02:22:00 - 08:58:00",
         "line": {
          "color": "blue",
          "width": 7
         },
         "mode": "lines",
         "showlegend": false,
         "type": "scatter",
         "x": [
          2.3666666666666667,
          8.966666666666667
         ],
         "y": [
          673,
          673
         ]
        },
        {
         "hovertemplate": "2024-11-04 - 06:40:00 - 06:57:00",
         "line": {
          "color": "red",
          "width": 7
         },
         "mode": "lines",
         "showlegend": false,
         "type": "scatter",
         "x": [
          6.666666666666667,
          6.95
         ],
         "y": [
          673,
          673
         ]
        },
        {
         "hovertemplate": "2024-11-05 - 01:05:00 - 08:47:00",
         "line": {
          "color": "blue",
          "width": 7
         },
         "mode": "lines",
         "showlegend": false,
         "type": "scatter",
         "x": [
          1.0833333333333333,
          8.783333333333333
         ],
         "y": [
          674,
          674
         ]
        },
        {
         "hovertemplate": "2024-11-06 - 01:43:00 - 07:59:00",
         "line": {
          "color": "blue",
          "width": 7
         },
         "mode": "lines",
         "showlegend": false,
         "type": "scatter",
         "x": [
          1.7166666666666668,
          7.983333333333333
         ],
         "y": [
          675,
          675
         ]
        },
        {
         "hovertemplate": "2024-11-07 - 00:12:00 - 06:15:00",
         "line": {
          "color": "blue",
          "width": 7
         },
         "mode": "lines",
         "showlegend": false,
         "type": "scatter",
         "x": [
          0.2,
          6.25
         ],
         "y": [
          676,
          676
         ]
        },
        {
         "hovertemplate": "2024-11-08 - 00:51:00 - 09:33:00",
         "line": {
          "color": "blue",
          "width": 7
         },
         "mode": "lines",
         "showlegend": false,
         "type": "scatter",
         "x": [
          0.85,
          9.55
         ],
         "y": [
          677,
          677
         ]
        },
        {
         "hovertemplate": "2024-11-09 - 00:19:00 - 09:26:00",
         "line": {
          "color": "blue",
          "width": 7
         },
         "mode": "lines",
         "showlegend": false,
         "type": "scatter",
         "x": [
          0.31666666666666665,
          9.433333333333334
         ],
         "y": [
          678,
          678
         ]
        },
        {
         "hovertemplate": "2024-11-10 - 00:29:00 - 09:39:00",
         "line": {
          "color": "blue",
          "width": 7
         },
         "mode": "lines",
         "showlegend": false,
         "type": "scatter",
         "x": [
          0.48333333333333334,
          9.65
         ],
         "y": [
          679,
          679
         ]
        },
        {
         "hovertemplate": "2024-11-10 - 02:51:00 - 03:19:00",
         "line": {
          "color": "red",
          "width": 7
         },
         "mode": "lines",
         "showlegend": false,
         "type": "scatter",
         "x": [
          2.85,
          3.3166666666666664
         ],
         "y": [
          679,
          679
         ]
        },
        {
         "hovertemplate": "2024-11-10 - 04:14:00 - 04:55:00",
         "line": {
          "color": "red",
          "width": 7
         },
         "mode": "lines",
         "showlegend": false,
         "type": "scatter",
         "x": [
          4.233333333333333,
          4.916666666666667
         ],
         "y": [
          679,
          679
         ]
        },
        {
         "hovertemplate": "2024-11-11 - 01:48:00 - 09:01:00",
         "line": {
          "color": "blue",
          "width": 7
         },
         "mode": "lines",
         "showlegend": false,
         "type": "scatter",
         "x": [
          1.8,
          9.016666666666667
         ],
         "y": [
          680,
          680
         ]
        },
        {
         "hovertemplate": "2024-11-12 - 01:27:00 - 09:03:00",
         "line": {
          "color": "blue",
          "width": 7
         },
         "mode": "lines",
         "showlegend": false,
         "type": "scatter",
         "x": [
          1.45,
          9.05
         ],
         "y": [
          681,
          681
         ]
        },
        {
         "hovertemplate": "2024-11-13 - 01:13:00 - 09:13:00",
         "line": {
          "color": "blue",
          "width": 7
         },
         "mode": "lines",
         "showlegend": false,
         "type": "scatter",
         "x": [
          1.2166666666666668,
          9.216666666666667
         ],
         "y": [
          682,
          682
         ]
        },
        {
         "hovertemplate": "2024-11-14 - 01:38:00 - 09:01:00",
         "line": {
          "color": "blue",
          "width": 7
         },
         "mode": "lines",
         "showlegend": false,
         "type": "scatter",
         "x": [
          1.6333333333333333,
          9.016666666666667
         ],
         "y": [
          683,
          683
         ]
        },
        {
         "hovertemplate": "2024-11-14 - 05:32:00 - 05:41:00",
         "line": {
          "color": "red",
          "width": 7
         },
         "mode": "lines",
         "showlegend": false,
         "type": "scatter",
         "x": [
          5.533333333333333,
          5.683333333333334
         ],
         "y": [
          683,
          683
         ]
        },
        {
         "hovertemplate": "2024-11-15 - 01:38:00 - 08:50:00",
         "line": {
          "color": "blue",
          "width": 7
         },
         "mode": "lines",
         "showlegend": false,
         "type": "scatter",
         "x": [
          1.6333333333333333,
          8.833333333333334
         ],
         "y": [
          684,
          684
         ]
        },
        {
         "hovertemplate": "2024-11-16 - 01:20:00 - 08:59:00",
         "line": {
          "color": "blue",
          "width": 7
         },
         "mode": "lines",
         "showlegend": false,
         "type": "scatter",
         "x": [
          1.3333333333333333,
          8.983333333333333
         ],
         "y": [
          685,
          685
         ]
        },
        {
         "hovertemplate": "2024-11-17 - 01:30:00 - 09:32:00",
         "line": {
          "color": "blue",
          "width": 7
         },
         "mode": "lines",
         "showlegend": false,
         "type": "scatter",
         "x": [
          1.5,
          9.533333333333333
         ],
         "y": [
          686,
          686
         ]
        },
        {
         "hovertemplate": "2024-11-18 - 01:03:00 - 08:57:00",
         "line": {
          "color": "blue",
          "width": 7
         },
         "mode": "lines",
         "showlegend": false,
         "type": "scatter",
         "x": [
          1.05,
          8.95
         ],
         "y": [
          687,
          687
         ]
        },
        {
         "hovertemplate": "2024-11-19 - 01:03:00 - 09:07:00",
         "line": {
          "color": "blue",
          "width": 7
         },
         "mode": "lines",
         "showlegend": false,
         "type": "scatter",
         "x": [
          1.05,
          9.116666666666667
         ],
         "y": [
          688,
          688
         ]
        },
        {
         "hovertemplate": "2024-11-20 - 01:48:00 - 10:16:00",
         "line": {
          "color": "blue",
          "width": 7
         },
         "mode": "lines",
         "showlegend": false,
         "type": "scatter",
         "x": [
          1.8,
          10.266666666666667
         ],
         "y": [
          689,
          689
         ]
        },
        {
         "hovertemplate": "2024-11-20 - 23:40:00 - 24:00:00",
         "line": {
          "color": "blue",
          "width": 7
         },
         "mode": "lines",
         "showlegend": false,
         "type": "scatter",
         "x": [
          23.666666666666668,
          24
         ],
         "y": [
          689,
          689
         ]
        },
        {
         "hovertemplate": "2024-11-21 - 00:00:00 - 09:04:00",
         "line": {
          "color": "blue",
          "width": 7
         },
         "mode": "lines",
         "showlegend": false,
         "type": "scatter",
         "x": [
          0,
          9.066666666666666
         ],
         "y": [
          690,
          690
         ]
        },
        {
         "hovertemplate": "2024-11-22 - 01:56:00 - 09:26:00",
         "line": {
          "color": "blue",
          "width": 7
         },
         "mode": "lines",
         "showlegend": false,
         "type": "scatter",
         "x": [
          1.9333333333333333,
          9.433333333333334
         ],
         "y": [
          691,
          691
         ]
        },
        {
         "hovertemplate": "2024-11-23 - 01:10:00 - 09:18:00",
         "line": {
          "color": "blue",
          "width": 7
         },
         "mode": "lines",
         "showlegend": false,
         "type": "scatter",
         "x": [
          1.1666666666666667,
          9.3
         ],
         "y": [
          692,
          692
         ]
        },
        {
         "hovertemplate": "2024-11-24 - 02:22:00 - 09:58:00",
         "line": {
          "color": "blue",
          "width": 7
         },
         "mode": "lines",
         "showlegend": false,
         "type": "scatter",
         "x": [
          2.3666666666666667,
          9.966666666666667
         ],
         "y": [
          693,
          693
         ]
        },
        {
         "hovertemplate": "2024-11-24 - 01:34:00 - 09:58:00",
         "line": {
          "color": "blue",
          "width": 7
         },
         "mode": "lines",
         "showlegend": false,
         "type": "scatter",
         "x": [
          1.5666666666666667,
          9.966666666666667
         ],
         "y": [
          693,
          693
         ]
        },
        {
         "hovertemplate": "2024-11-25 - 00:55:00 - 09:05:00",
         "line": {
          "color": "blue",
          "width": 7
         },
         "mode": "lines",
         "showlegend": false,
         "type": "scatter",
         "x": [
          0.9166666666666666,
          9.083333333333334
         ],
         "y": [
          694,
          694
         ]
        },
        {
         "hovertemplate": "2024-11-26 - 00:50:00 - 09:12:00",
         "line": {
          "color": "blue",
          "width": 7
         },
         "mode": "lines",
         "showlegend": false,
         "type": "scatter",
         "x": [
          0.8333333333333334,
          9.2
         ],
         "y": [
          695,
          695
         ]
        },
        {
         "hovertemplate": "2024-11-26 - 01:13:00 - 09:13:00",
         "line": {
          "color": "blue",
          "width": 7
         },
         "mode": "lines",
         "showlegend": false,
         "type": "scatter",
         "x": [
          1.2166666666666668,
          9.216666666666667
         ],
         "y": [
          695,
          695
         ]
        },
        {
         "hovertemplate": "2024-11-27 - 02:24:00 - 07:20:00",
         "line": {
          "color": "blue",
          "width": 7
         },
         "mode": "lines",
         "showlegend": false,
         "type": "scatter",
         "x": [
          2.4,
          7.333333333333333
         ],
         "y": [
          696,
          696
         ]
        },
        {
         "hovertemplate": "2024-11-28 - 00:43:00 - 09:11:00",
         "line": {
          "color": "blue",
          "width": 7
         },
         "mode": "lines",
         "showlegend": false,
         "type": "scatter",
         "x": [
          0.7166666666666667,
          9.183333333333334
         ],
         "y": [
          697,
          697
         ]
        },
        {
         "hovertemplate": "2024-11-29 - 01:20:00 - 09:22:00",
         "line": {
          "color": "blue",
          "width": 7
         },
         "mode": "lines",
         "showlegend": false,
         "type": "scatter",
         "x": [
          1.3333333333333333,
          9.366666666666667
         ],
         "y": [
          698,
          698
         ]
        },
        {
         "hovertemplate": "2024-11-30 - 01:20:00 - 08:58:00",
         "line": {
          "color": "blue",
          "width": 7
         },
         "mode": "lines",
         "showlegend": false,
         "type": "scatter",
         "x": [
          1.3333333333333333,
          8.966666666666667
         ],
         "y": [
          699,
          699
         ]
        },
        {
         "hovertemplate": "2024-12-01 - 01:25:00 - 08:59:00",
         "line": {
          "color": "blue",
          "width": 7
         },
         "mode": "lines",
         "showlegend": false,
         "type": "scatter",
         "x": [
          1.4166666666666667,
          8.983333333333333
         ],
         "y": [
          700,
          700
         ]
        },
        {
         "hovertemplate": "2024-12-02 - 01:17:00 - 09:16:00",
         "line": {
          "color": "blue",
          "width": 7
         },
         "mode": "lines",
         "showlegend": false,
         "type": "scatter",
         "x": [
          1.2833333333333332,
          9.266666666666667
         ],
         "y": [
          701,
          701
         ]
        },
        {
         "hovertemplate": "2024-12-05 - 01:31:00 - 09:08:00",
         "line": {
          "color": "blue",
          "width": 7
         },
         "mode": "lines",
         "showlegend": false,
         "type": "scatter",
         "x": [
          1.5166666666666666,
          9.133333333333333
         ],
         "y": [
          704,
          704
         ]
        },
        {
         "hovertemplate": "2024-12-06 - 01:06:00 - 09:40:00",
         "line": {
          "color": "blue",
          "width": 7
         },
         "mode": "lines",
         "showlegend": false,
         "type": "scatter",
         "x": [
          1.1,
          9.666666666666666
         ],
         "y": [
          705,
          705
         ]
        },
        {
         "hovertemplate": "2024-12-07 - 00:24:00 - 09:10:00",
         "line": {
          "color": "blue",
          "width": 7
         },
         "mode": "lines",
         "showlegend": false,
         "type": "scatter",
         "x": [
          0.4,
          9.166666666666666
         ],
         "y": [
          706,
          706
         ]
        },
        {
         "hovertemplate": "2024-12-08 - 01:14:00 - 09:14:00",
         "line": {
          "color": "blue",
          "width": 7
         },
         "mode": "lines",
         "showlegend": false,
         "type": "scatter",
         "x": [
          1.2333333333333334,
          9.233333333333333
         ],
         "y": [
          707,
          707
         ]
        },
        {
         "hovertemplate": "2024-12-09 - 00:57:00 - 08:55:00",
         "line": {
          "color": "blue",
          "width": 7
         },
         "mode": "lines",
         "showlegend": false,
         "type": "scatter",
         "x": [
          0.95,
          8.916666666666666
         ],
         "y": [
          708,
          708
         ]
        },
        {
         "hovertemplate": "2024-12-10 - 01:13:00 - 09:39:00",
         "line": {
          "color": "blue",
          "width": 7
         },
         "mode": "lines",
         "showlegend": false,
         "type": "scatter",
         "x": [
          1.2166666666666668,
          9.65
         ],
         "y": [
          709,
          709
         ]
        },
        {
         "hovertemplate": "2024-12-11 - 01:10:00 - 09:15:00",
         "line": {
          "color": "blue",
          "width": 7
         },
         "mode": "lines",
         "showlegend": false,
         "type": "scatter",
         "x": [
          1.1666666666666667,
          9.25
         ],
         "y": [
          710,
          710
         ]
        },
        {
         "hovertemplate": "2024-12-12 - 02:17:00 - 09:04:00",
         "line": {
          "color": "blue",
          "width": 7
         },
         "mode": "lines",
         "showlegend": false,
         "type": "scatter",
         "x": [
          2.283333333333333,
          9.066666666666666
         ],
         "y": [
          711,
          711
         ]
        },
        {
         "hovertemplate": "2024-12-13 - 01:23:00 - 09:32:00",
         "line": {
          "color": "blue",
          "width": 7
         },
         "mode": "lines",
         "showlegend": false,
         "type": "scatter",
         "x": [
          1.3833333333333333,
          9.533333333333333
         ],
         "y": [
          712,
          712
         ]
        },
        {
         "hovertemplate": "2024-12-14 - 01:12:00 - 08:28:00",
         "line": {
          "color": "blue",
          "width": 7
         },
         "mode": "lines",
         "showlegend": false,
         "type": "scatter",
         "x": [
          1.2,
          8.466666666666667
         ],
         "y": [
          713,
          713
         ]
        },
        {
         "hovertemplate": "2024-12-15 - 01:39:00 - 09:03:00",
         "line": {
          "color": "blue",
          "width": 7
         },
         "mode": "lines",
         "showlegend": false,
         "type": "scatter",
         "x": [
          1.65,
          9.05
         ],
         "y": [
          714,
          714
         ]
        },
        {
         "hovertemplate": "2024-12-16 - 00:53:00 - 09:06:00",
         "line": {
          "color": "blue",
          "width": 7
         },
         "mode": "lines",
         "showlegend": false,
         "type": "scatter",
         "x": [
          0.8833333333333333,
          9.1
         ],
         "y": [
          715,
          715
         ]
        },
        {
         "hovertemplate": "2024-12-17 - 01:29:00 - 09:17:00",
         "line": {
          "color": "blue",
          "width": 7
         },
         "mode": "lines",
         "showlegend": false,
         "type": "scatter",
         "x": [
          1.4833333333333334,
          9.283333333333333
         ],
         "y": [
          716,
          716
         ]
        },
        {
         "hovertemplate": "2024-12-18 - 00:47:00 - 09:25:00",
         "line": {
          "color": "blue",
          "width": 7
         },
         "mode": "lines",
         "showlegend": false,
         "type": "scatter",
         "x": [
          0.7833333333333333,
          9.416666666666666
         ],
         "y": [
          717,
          717
         ]
        },
        {
         "hovertemplate": "2024-12-19 - 01:11:00 - 09:06:00",
         "line": {
          "color": "blue",
          "width": 7
         },
         "mode": "lines",
         "showlegend": false,
         "type": "scatter",
         "x": [
          1.1833333333333333,
          9.1
         ],
         "y": [
          718,
          718
         ]
        },
        {
         "hovertemplate": "2024-12-20 - 01:26:00 - 09:09:00",
         "line": {
          "color": "blue",
          "width": 7
         },
         "mode": "lines",
         "showlegend": false,
         "type": "scatter",
         "x": [
          1.4333333333333333,
          9.15
         ],
         "y": [
          719,
          719
         ]
        },
        {
         "hovertemplate": "2024-12-21 - 01:59:00 - 09:19:00",
         "line": {
          "color": "blue",
          "width": 7
         },
         "mode": "lines",
         "showlegend": false,
         "type": "scatter",
         "x": [
          1.9833333333333334,
          9.316666666666666
         ],
         "y": [
          720,
          720
         ]
        },
        {
         "hovertemplate": "2024-12-22 - 02:06:00 - 09:20:00",
         "line": {
          "color": "blue",
          "width": 7
         },
         "mode": "lines",
         "showlegend": false,
         "type": "scatter",
         "x": [
          2.1,
          9.333333333333334
         ],
         "y": [
          721,
          721
         ]
        },
        {
         "hovertemplate": "2024-12-23 - 00:36:00 - 09:07:00",
         "line": {
          "color": "blue",
          "width": 7
         },
         "mode": "lines",
         "showlegend": false,
         "type": "scatter",
         "x": [
          0.6,
          9.116666666666667
         ],
         "y": [
          722,
          722
         ]
        },
        {
         "hovertemplate": "2024-12-24 - 01:06:00 - 08:52:00",
         "line": {
          "color": "blue",
          "width": 7
         },
         "mode": "lines",
         "showlegend": false,
         "type": "scatter",
         "x": [
          1.1,
          8.866666666666667
         ],
         "y": [
          723,
          723
         ]
        },
        {
         "hovertemplate": "2024-12-25 - 01:18:00 - 09:19:00",
         "line": {
          "color": "blue",
          "width": 7
         },
         "mode": "lines",
         "showlegend": false,
         "type": "scatter",
         "x": [
          1.3,
          9.316666666666666
         ],
         "y": [
          724,
          724
         ]
        },
        {
         "hovertemplate": "2024-12-26 - 01:45:00 - 09:18:00",
         "line": {
          "color": "blue",
          "width": 7
         },
         "mode": "lines",
         "showlegend": false,
         "type": "scatter",
         "x": [
          1.75,
          9.3
         ],
         "y": [
          725,
          725
         ]
        },
        {
         "hovertemplate": "2024-12-27 - 01:09:00 - 09:15:00",
         "line": {
          "color": "blue",
          "width": 7
         },
         "mode": "lines",
         "showlegend": false,
         "type": "scatter",
         "x": [
          1.15,
          9.25
         ],
         "y": [
          726,
          726
         ]
        },
        {
         "hovertemplate": "2024-12-28 - 01:28:00 - 09:23:00",
         "line": {
          "color": "blue",
          "width": 7
         },
         "mode": "lines",
         "showlegend": false,
         "type": "scatter",
         "x": [
          1.4666666666666668,
          9.383333333333333
         ],
         "y": [
          727,
          727
         ]
        },
        {
         "hovertemplate": "2024-12-29 - 01:22:00 - 09:14:00",
         "line": {
          "color": "blue",
          "width": 7
         },
         "mode": "lines",
         "showlegend": false,
         "type": "scatter",
         "x": [
          1.3666666666666667,
          9.233333333333333
         ],
         "y": [
          728,
          728
         ]
        },
        {
         "hovertemplate": "2024-12-30 - 01:09:00 - 09:03:00",
         "line": {
          "color": "blue",
          "width": 7
         },
         "mode": "lines",
         "showlegend": false,
         "type": "scatter",
         "x": [
          1.15,
          9.05
         ],
         "y": [
          729,
          729
         ]
        },
        {
         "hovertemplate": "2024-12-31 - 01:30:00 - 09:21:00",
         "line": {
          "color": "blue",
          "width": 7
         },
         "mode": "lines",
         "showlegend": false,
         "type": "scatter",
         "x": [
          1.5,
          9.35
         ],
         "y": [
          730,
          730
         ]
        }
       ],
       "layout": {
        "height": 800,
        "showlegend": false,
        "template": {
         "data": {
          "bar": [
           {
            "error_x": {
             "color": "#2a3f5f"
            },
            "error_y": {
             "color": "#2a3f5f"
            },
            "marker": {
             "line": {
              "color": "#E5ECF6",
              "width": 0.5
             },
             "pattern": {
              "fillmode": "overlay",
              "size": 10,
              "solidity": 0.2
             }
            },
            "type": "bar"
           }
          ],
          "barpolar": [
           {
            "marker": {
             "line": {
              "color": "#E5ECF6",
              "width": 0.5
             },
             "pattern": {
              "fillmode": "overlay",
              "size": 10,
              "solidity": 0.2
             }
            },
            "type": "barpolar"
           }
          ],
          "carpet": [
           {
            "aaxis": {
             "endlinecolor": "#2a3f5f",
             "gridcolor": "white",
             "linecolor": "white",
             "minorgridcolor": "white",
             "startlinecolor": "#2a3f5f"
            },
            "baxis": {
             "endlinecolor": "#2a3f5f",
             "gridcolor": "white",
             "linecolor": "white",
             "minorgridcolor": "white",
             "startlinecolor": "#2a3f5f"
            },
            "type": "carpet"
           }
          ],
          "choropleth": [
           {
            "colorbar": {
             "outlinewidth": 0,
             "ticks": ""
            },
            "type": "choropleth"
           }
          ],
          "contour": [
           {
            "colorbar": {
             "outlinewidth": 0,
             "ticks": ""
            },
            "colorscale": [
             [
              0,
              "#0d0887"
             ],
             [
              0.1111111111111111,
              "#46039f"
             ],
             [
              0.2222222222222222,
              "#7201a8"
             ],
             [
              0.3333333333333333,
              "#9c179e"
             ],
             [
              0.4444444444444444,
              "#bd3786"
             ],
             [
              0.5555555555555556,
              "#d8576b"
             ],
             [
              0.6666666666666666,
              "#ed7953"
             ],
             [
              0.7777777777777778,
              "#fb9f3a"
             ],
             [
              0.8888888888888888,
              "#fdca26"
             ],
             [
              1,
              "#f0f921"
             ]
            ],
            "type": "contour"
           }
          ],
          "contourcarpet": [
           {
            "colorbar": {
             "outlinewidth": 0,
             "ticks": ""
            },
            "type": "contourcarpet"
           }
          ],
          "heatmap": [
           {
            "colorbar": {
             "outlinewidth": 0,
             "ticks": ""
            },
            "colorscale": [
             [
              0,
              "#0d0887"
             ],
             [
              0.1111111111111111,
              "#46039f"
             ],
             [
              0.2222222222222222,
              "#7201a8"
             ],
             [
              0.3333333333333333,
              "#9c179e"
             ],
             [
              0.4444444444444444,
              "#bd3786"
             ],
             [
              0.5555555555555556,
              "#d8576b"
             ],
             [
              0.6666666666666666,
              "#ed7953"
             ],
             [
              0.7777777777777778,
              "#fb9f3a"
             ],
             [
              0.8888888888888888,
              "#fdca26"
             ],
             [
              1,
              "#f0f921"
             ]
            ],
            "type": "heatmap"
           }
          ],
          "heatmapgl": [
           {
            "colorbar": {
             "outlinewidth": 0,
             "ticks": ""
            },
            "colorscale": [
             [
              0,
              "#0d0887"
             ],
             [
              0.1111111111111111,
              "#46039f"
             ],
             [
              0.2222222222222222,
              "#7201a8"
             ],
             [
              0.3333333333333333,
              "#9c179e"
             ],
             [
              0.4444444444444444,
              "#bd3786"
             ],
             [
              0.5555555555555556,
              "#d8576b"
             ],
             [
              0.6666666666666666,
              "#ed7953"
             ],
             [
              0.7777777777777778,
              "#fb9f3a"
             ],
             [
              0.8888888888888888,
              "#fdca26"
             ],
             [
              1,
              "#f0f921"
             ]
            ],
            "type": "heatmapgl"
           }
          ],
          "histogram": [
           {
            "marker": {
             "pattern": {
              "fillmode": "overlay",
              "size": 10,
              "solidity": 0.2
             }
            },
            "type": "histogram"
           }
          ],
          "histogram2d": [
           {
            "colorbar": {
             "outlinewidth": 0,
             "ticks": ""
            },
            "colorscale": [
             [
              0,
              "#0d0887"
             ],
             [
              0.1111111111111111,
              "#46039f"
             ],
             [
              0.2222222222222222,
              "#7201a8"
             ],
             [
              0.3333333333333333,
              "#9c179e"
             ],
             [
              0.4444444444444444,
              "#bd3786"
             ],
             [
              0.5555555555555556,
              "#d8576b"
             ],
             [
              0.6666666666666666,
              "#ed7953"
             ],
             [
              0.7777777777777778,
              "#fb9f3a"
             ],
             [
              0.8888888888888888,
              "#fdca26"
             ],
             [
              1,
              "#f0f921"
             ]
            ],
            "type": "histogram2d"
           }
          ],
          "histogram2dcontour": [
           {
            "colorbar": {
             "outlinewidth": 0,
             "ticks": ""
            },
            "colorscale": [
             [
              0,
              "#0d0887"
             ],
             [
              0.1111111111111111,
              "#46039f"
             ],
             [
              0.2222222222222222,
              "#7201a8"
             ],
             [
              0.3333333333333333,
              "#9c179e"
             ],
             [
              0.4444444444444444,
              "#bd3786"
             ],
             [
              0.5555555555555556,
              "#d8576b"
             ],
             [
              0.6666666666666666,
              "#ed7953"
             ],
             [
              0.7777777777777778,
              "#fb9f3a"
             ],
             [
              0.8888888888888888,
              "#fdca26"
             ],
             [
              1,
              "#f0f921"
             ]
            ],
            "type": "histogram2dcontour"
           }
          ],
          "mesh3d": [
           {
            "colorbar": {
             "outlinewidth": 0,
             "ticks": ""
            },
            "type": "mesh3d"
           }
          ],
          "parcoords": [
           {
            "line": {
             "colorbar": {
              "outlinewidth": 0,
              "ticks": ""
             }
            },
            "type": "parcoords"
           }
          ],
          "pie": [
           {
            "automargin": true,
            "type": "pie"
           }
          ],
          "scatter": [
           {
            "fillpattern": {
             "fillmode": "overlay",
             "size": 10,
             "solidity": 0.2
            },
            "type": "scatter"
           }
          ],
          "scatter3d": [
           {
            "line": {
             "colorbar": {
              "outlinewidth": 0,
              "ticks": ""
             }
            },
            "marker": {
             "colorbar": {
              "outlinewidth": 0,
              "ticks": ""
             }
            },
            "type": "scatter3d"
           }
          ],
          "scattercarpet": [
           {
            "marker": {
             "colorbar": {
              "outlinewidth": 0,
              "ticks": ""
             }
            },
            "type": "scattercarpet"
           }
          ],
          "scattergeo": [
           {
            "marker": {
             "colorbar": {
              "outlinewidth": 0,
              "ticks": ""
             }
            },
            "type": "scattergeo"
           }
          ],
          "scattergl": [
           {
            "marker": {
             "colorbar": {
              "outlinewidth": 0,
              "ticks": ""
             }
            },
            "type": "scattergl"
           }
          ],
          "scattermapbox": [
           {
            "marker": {
             "colorbar": {
              "outlinewidth": 0,
              "ticks": ""
             }
            },
            "type": "scattermapbox"
           }
          ],
          "scatterpolar": [
           {
            "marker": {
             "colorbar": {
              "outlinewidth": 0,
              "ticks": ""
             }
            },
            "type": "scatterpolar"
           }
          ],
          "scatterpolargl": [
           {
            "marker": {
             "colorbar": {
              "outlinewidth": 0,
              "ticks": ""
             }
            },
            "type": "scatterpolargl"
           }
          ],
          "scatterternary": [
           {
            "marker": {
             "colorbar": {
              "outlinewidth": 0,
              "ticks": ""
             }
            },
            "type": "scatterternary"
           }
          ],
          "surface": [
           {
            "colorbar": {
             "outlinewidth": 0,
             "ticks": ""
            },
            "colorscale": [
             [
              0,
              "#0d0887"
             ],
             [
              0.1111111111111111,
              "#46039f"
             ],
             [
              0.2222222222222222,
              "#7201a8"
             ],
             [
              0.3333333333333333,
              "#9c179e"
             ],
             [
              0.4444444444444444,
              "#bd3786"
             ],
             [
              0.5555555555555556,
              "#d8576b"
             ],
             [
              0.6666666666666666,
              "#ed7953"
             ],
             [
              0.7777777777777778,
              "#fb9f3a"
             ],
             [
              0.8888888888888888,
              "#fdca26"
             ],
             [
              1,
              "#f0f921"
             ]
            ],
            "type": "surface"
           }
          ],
          "table": [
           {
            "cells": {
             "fill": {
              "color": "#EBF0F8"
             },
             "line": {
              "color": "white"
             }
            },
            "header": {
             "fill": {
              "color": "#C8D4E3"
             },
             "line": {
              "color": "white"
             }
            },
            "type": "table"
           }
          ]
         },
         "layout": {
          "annotationdefaults": {
           "arrowcolor": "#2a3f5f",
           "arrowhead": 0,
           "arrowwidth": 1
          },
          "autotypenumbers": "strict",
          "coloraxis": {
           "colorbar": {
            "outlinewidth": 0,
            "ticks": ""
           }
          },
          "colorscale": {
           "diverging": [
            [
             0,
             "#8e0152"
            ],
            [
             0.1,
             "#c51b7d"
            ],
            [
             0.2,
             "#de77ae"
            ],
            [
             0.3,
             "#f1b6da"
            ],
            [
             0.4,
             "#fde0ef"
            ],
            [
             0.5,
             "#f7f7f7"
            ],
            [
             0.6,
             "#e6f5d0"
            ],
            [
             0.7,
             "#b8e186"
            ],
            [
             0.8,
             "#7fbc41"
            ],
            [
             0.9,
             "#4d9221"
            ],
            [
             1,
             "#276419"
            ]
           ],
           "sequential": [
            [
             0,
             "#0d0887"
            ],
            [
             0.1111111111111111,
             "#46039f"
            ],
            [
             0.2222222222222222,
             "#7201a8"
            ],
            [
             0.3333333333333333,
             "#9c179e"
            ],
            [
             0.4444444444444444,
             "#bd3786"
            ],
            [
             0.5555555555555556,
             "#d8576b"
            ],
            [
             0.6666666666666666,
             "#ed7953"
            ],
            [
             0.7777777777777778,
             "#fb9f3a"
            ],
            [
             0.8888888888888888,
             "#fdca26"
            ],
            [
             1,
             "#f0f921"
            ]
           ],
           "sequentialminus": [
            [
             0,
             "#0d0887"
            ],
            [
             0.1111111111111111,
             "#46039f"
            ],
            [
             0.2222222222222222,
             "#7201a8"
            ],
            [
             0.3333333333333333,
             "#9c179e"
            ],
            [
             0.4444444444444444,
             "#bd3786"
            ],
            [
             0.5555555555555556,
             "#d8576b"
            ],
            [
             0.6666666666666666,
             "#ed7953"
            ],
            [
             0.7777777777777778,
             "#fb9f3a"
            ],
            [
             0.8888888888888888,
             "#fdca26"
            ],
            [
             1,
             "#f0f921"
            ]
           ]
          },
          "colorway": [
           "#636efa",
           "#EF553B",
           "#00cc96",
           "#ab63fa",
           "#FFA15A",
           "#19d3f3",
           "#FF6692",
           "#B6E880",
           "#FF97FF",
           "#FECB52"
          ],
          "font": {
           "color": "#2a3f5f"
          },
          "geo": {
           "bgcolor": "white",
           "lakecolor": "white",
           "landcolor": "#E5ECF6",
           "showlakes": true,
           "showland": true,
           "subunitcolor": "white"
          },
          "hoverlabel": {
           "align": "left"
          },
          "hovermode": "closest",
          "mapbox": {
           "style": "light"
          },
          "paper_bgcolor": "white",
          "plot_bgcolor": "#E5ECF6",
          "polar": {
           "angularaxis": {
            "gridcolor": "white",
            "linecolor": "white",
            "ticks": ""
           },
           "bgcolor": "#E5ECF6",
           "radialaxis": {
            "gridcolor": "white",
            "linecolor": "white",
            "ticks": ""
           }
          },
          "scene": {
           "xaxis": {
            "backgroundcolor": "#E5ECF6",
            "gridcolor": "white",
            "gridwidth": 2,
            "linecolor": "white",
            "showbackground": true,
            "ticks": "",
            "zerolinecolor": "white"
           },
           "yaxis": {
            "backgroundcolor": "#E5ECF6",
            "gridcolor": "white",
            "gridwidth": 2,
            "linecolor": "white",
            "showbackground": true,
            "ticks": "",
            "zerolinecolor": "white"
           },
           "zaxis": {
            "backgroundcolor": "#E5ECF6",
            "gridcolor": "white",
            "gridwidth": 2,
            "linecolor": "white",
            "showbackground": true,
            "ticks": "",
            "zerolinecolor": "white"
           }
          },
          "shapedefaults": {
           "line": {
            "color": "#2a3f5f"
           }
          },
          "ternary": {
           "aaxis": {
            "gridcolor": "white",
            "linecolor": "white",
            "ticks": ""
           },
           "baxis": {
            "gridcolor": "white",
            "linecolor": "white",
            "ticks": ""
           },
           "bgcolor": "#E5ECF6",
           "caxis": {
            "gridcolor": "white",
            "linecolor": "white",
            "ticks": ""
           }
          },
          "title": {
           "x": 0.05
          },
          "xaxis": {
           "automargin": true,
           "gridcolor": "white",
           "linecolor": "white",
           "ticks": "",
           "title": {
            "standoff": 15
           },
           "zerolinecolor": "white",
           "zerolinewidth": 2
          },
          "yaxis": {
           "automargin": true,
           "gridcolor": "white",
           "linecolor": "white",
           "ticks": "",
           "title": {
            "standoff": 15
           },
           "zerolinecolor": "white",
           "zerolinewidth": 2
          }
         }
        },
        "title": {
         "text": "sleep and wake up time between 2023-01-01 and 2025-02-19"
        },
        "width": 1500,
        "xaxis": {
         "range": [
          0,
          24
         ],
         "tickvals": [
          0,
          1,
          2,
          3,
          4,
          5,
          6,
          7,
          8,
          9,
          10,
          11,
          12,
          13,
          14,
          15,
          16,
          17,
          18,
          19,
          20,
          21,
          22,
          23,
          24
         ],
         "title": {
          "text": "Hour of the day"
         }
        },
        "yaxis": {
         "ticktext": [
          "2023-01-01",
          "2023-01-31",
          "2023-03-02",
          "2023-04-01",
          "2023-05-01",
          "2023-05-31",
          "2023-06-30",
          "2023-07-30",
          "2023-08-29",
          "2023-09-28",
          "2023-10-28",
          "2023-11-27",
          "2023-12-27",
          "2024-01-26",
          "2024-02-25",
          "2024-03-26",
          "2024-04-25",
          "2024-05-25",
          "2024-06-24",
          "2024-07-24",
          "2024-08-23",
          "2024-09-22",
          "2024-10-22",
          "2024-11-21",
          "2024-12-21",
          "2025-01-20",
          "2025-02-19"
         ],
         "tickvals": [
          0,
          30,
          60,
          90,
          120,
          150,
          180,
          210,
          240,
          270,
          300,
          330,
          360,
          390,
          420,
          450,
          480,
          510,
          540,
          570,
          600,
          630,
          660,
          690,
          720,
          750,
          780
         ],
         "title": {
          "text": "Date"
         }
        }
       }
      }
     },
     "metadata": {},
     "output_type": "display_data"
    }
   ],
   "source": [
    "agg.plot_wake_up_periods('2023-01-01', end_time, save_png=save)"
   ]
  },
  {
   "cell_type": "code",
   "execution_count": 13,
   "metadata": {},
   "outputs": [
    {
     "name": "stdout",
     "output_type": "stream",
     "text": [
      "Grafico salvato come PNG in: ../graphs/total_sleep_time_2023-01-01_2025-02-19.png\n"
     ]
    },
    {
     "data": {
      "application/vnd.plotly.v1+json": {
       "config": {
        "plotlyServerURL": "https://plot.ly"
       },
       "data": [
        {
         "line": {
          "color": "Red",
          "width": 2
         },
         "mode": "lines",
         "name": "Trend",
         "type": "scatter",
         "x": [
          "2024-09-21",
          "2024-09-22",
          "2024-09-23",
          "2024-09-24",
          "2024-09-25",
          "2024-09-26",
          "2024-09-26",
          "2024-09-27",
          "2024-09-28",
          "2024-09-28",
          "2024-09-29",
          "2024-09-30",
          "2024-10-01",
          "2024-10-02",
          "2024-10-03",
          "2024-10-04",
          "2024-10-05",
          "2024-10-06",
          "2024-10-07",
          "2024-10-07",
          "2024-10-08",
          "2024-10-09",
          "2024-10-10",
          "2024-10-11",
          "2024-10-12",
          "2024-10-13",
          "2024-10-14",
          "2024-10-15",
          "2024-10-16",
          "2024-10-17",
          "2024-10-18",
          "2024-10-19",
          "2024-10-20",
          "2024-10-21",
          "2024-10-22",
          "2024-10-23",
          "2024-10-24",
          "2024-10-25",
          "2024-10-26",
          "2024-10-27",
          "2024-10-28",
          "2024-10-29",
          "2024-10-30",
          "2024-10-31",
          "2024-11-01",
          "2024-11-02",
          "2024-11-03",
          "2024-11-04",
          "2024-11-05",
          "2024-11-06",
          "2024-11-07",
          "2024-11-08",
          "2024-11-09",
          "2024-11-10",
          "2024-11-11",
          "2024-11-12",
          "2024-11-13",
          "2024-11-14",
          "2024-11-15",
          "2024-11-16",
          "2024-11-17",
          "2024-11-18",
          "2024-11-19",
          "2024-11-20",
          "2024-11-21",
          "2024-11-22",
          "2024-11-23",
          "2024-11-24",
          "2024-11-24",
          "2024-11-25",
          "2024-11-26",
          "2024-11-26",
          "2024-11-27",
          "2024-11-28",
          "2024-11-29",
          "2024-11-30",
          "2024-12-01",
          "2024-12-02",
          "2024-12-05",
          "2024-12-06",
          "2024-12-07",
          "2024-12-08",
          "2024-12-09",
          "2024-12-10",
          "2024-12-11",
          "2024-12-12",
          "2024-12-13",
          "2024-12-14",
          "2024-12-15",
          "2024-12-16",
          "2024-12-17",
          "2024-12-18",
          "2024-12-19",
          "2024-12-20",
          "2024-12-21",
          "2024-12-22",
          "2024-12-23",
          "2024-12-24",
          "2024-12-25",
          "2024-12-26",
          "2024-12-27",
          "2024-12-28",
          "2024-12-29",
          "2024-12-30",
          "2024-12-31"
         ],
         "y": [
          null,
          null,
          null,
          null,
          null,
          null,
          null,
          null,
          null,
          null,
          null,
          null,
          null,
          null,
          null,
          15222,
          15137,
          14744,
          14372,
          14458,
          14677,
          14703,
          14808,
          15209,
          15959,
          16661,
          17160,
          17548,
          18003,
          18713,
          19247,
          19549,
          19931,
          20575,
          21284,
          21803,
          22323,
          22859,
          23120,
          23144,
          23157,
          23308,
          23359,
          23482,
          23648,
          23573,
          23685,
          24052,
          24658,
          25167,
          25274,
          25289,
          25393,
          25564,
          25638,
          25720,
          25855,
          25769,
          25712,
          25760,
          25751,
          25737,
          25819,
          25921,
          26095,
          26397,
          26531,
          26460,
          26354,
          26359,
          26331,
          26204,
          26250,
          26357,
          26412,
          26473,
          26520,
          26573,
          26590,
          26476,
          26351,
          26348,
          26367,
          26355,
          26327,
          26305,
          26292,
          26446,
          26581,
          26561,
          null,
          null,
          null,
          null,
          null,
          null,
          null,
          null,
          null,
          null,
          null,
          null,
          null,
          null,
          null
         ]
        },
        {
         "marker": {
          "color": "Blue",
          "size": 7
         },
         "mode": "markers",
         "name": "total_sleep_time",
         "text": [
          "total_sleep_time: 25500",
          "total_sleep_time: 25860",
          "total_sleep_time: 27000",
          "total_sleep_time: 10860",
          "total_sleep_time: 12420",
          "total_sleep_time: 25500",
          "total_sleep_time: 25500",
          "total_sleep_time: 14580",
          "total_sleep_time: 3960",
          "total_sleep_time: 600",
          "total_sleep_time: 6360",
          "total_sleep_time: 11400",
          "total_sleep_time: 16020",
          "total_sleep_time: 6720",
          "total_sleep_time: 2820",
          "total_sleep_time: 17700",
          "total_sleep_time: 17160",
          "total_sleep_time: 7260",
          "total_sleep_time: 300",
          "total_sleep_time: 2580",
          "total_sleep_time: 6660",
          "total_sleep_time: 10200",
          "total_sleep_time: 16560",
          "total_sleep_time: 29880",
          "total_sleep_time: 22320",
          "total_sleep_time: 25980",
          "total_sleep_time: 18300",
          "total_sleep_time: 24660",
          "total_sleep_time: 11880",
          "total_sleep_time: 28980",
          "total_sleep_time: 27780",
          "total_sleep_time: 18480",
          "total_sleep_time: 10800",
          "total_sleep_time: 4740",
          "total_sleep_time: 23700",
          "total_sleep_time: 27360",
          "total_sleep_time: 25200",
          "total_sleep_time: 21180",
          "total_sleep_time: 21420",
          "total_sleep_time: 28140",
          "total_sleep_time: 20940",
          "total_sleep_time: 26760",
          "total_sleep_time: 23940",
          "total_sleep_time: 26100",
          "total_sleep_time: 26040",
          "total_sleep_time: 26520",
          "total_sleep_time: 26460",
          "total_sleep_time: 20880",
          "total_sleep_time: 25320",
          "total_sleep_time: 20100",
          "total_sleep_time: 20280",
          "total_sleep_time: 27780",
          "total_sleep_time: 31140",
          "total_sleep_time: 30960",
          "total_sleep_time: 22680",
          "total_sleep_time: 26400",
          "total_sleep_time: 26940",
          "total_sleep_time: 19080",
          "total_sleep_time: 24840",
          "total_sleep_time: 25980",
          "total_sleep_time: 26280",
          "total_sleep_time: 26700",
          "total_sleep_time: 24600",
          "total_sleep_time: 27300",
          "total_sleep_time: 31680",
          "total_sleep_time: 25800",
          "total_sleep_time: 27660",
          "total_sleep_time: 24960",
          "total_sleep_time: 27900",
          "total_sleep_time: 26100",
          "total_sleep_time: 27900",
          "total_sleep_time: 27900",
          "total_sleep_time: 17640",
          "total_sleep_time: 28980",
          "total_sleep_time: 26040",
          "total_sleep_time: 25980",
          "total_sleep_time: 26160",
          "total_sleep_time: 26100",
          "total_sleep_time: 26220",
          "total_sleep_time: 29640",
          "total_sleep_time: 28860",
          "total_sleep_time: 27240",
          "total_sleep_time: 27420",
          "total_sleep_time: 28320",
          "total_sleep_time: 25620",
          "total_sleep_time: 21780",
          "total_sleep_time: 23940",
          "total_sleep_time: 24840",
          "total_sleep_time: 25500",
          "total_sleep_time: 28620",
          "total_sleep_time: 27300",
          "total_sleep_time: 28500",
          "total_sleep_time: 25980",
          "total_sleep_time: 26940",
          "total_sleep_time: 25200",
          "total_sleep_time: 24780",
          "total_sleep_time: 28500",
          "total_sleep_time: 25260",
          "total_sleep_time: 26880",
          "total_sleep_time: 25440",
          "total_sleep_time: 27240",
          "total_sleep_time: 27780",
          "total_sleep_time: 27000",
          "total_sleep_time: 27720",
          "total_sleep_time: 26100"
         ],
         "type": "scatter",
         "x": [
          "2024-09-21",
          "2024-09-22",
          "2024-09-23",
          "2024-09-24",
          "2024-09-25",
          "2024-09-26",
          "2024-09-26",
          "2024-09-27",
          "2024-09-28",
          "2024-09-28",
          "2024-09-29",
          "2024-09-30",
          "2024-10-01",
          "2024-10-02",
          "2024-10-03",
          "2024-10-04",
          "2024-10-05",
          "2024-10-06",
          "2024-10-07",
          "2024-10-07",
          "2024-10-08",
          "2024-10-09",
          "2024-10-10",
          "2024-10-11",
          "2024-10-12",
          "2024-10-13",
          "2024-10-14",
          "2024-10-15",
          "2024-10-16",
          "2024-10-17",
          "2024-10-18",
          "2024-10-19",
          "2024-10-20",
          "2024-10-21",
          "2024-10-22",
          "2024-10-23",
          "2024-10-24",
          "2024-10-25",
          "2024-10-26",
          "2024-10-27",
          "2024-10-28",
          "2024-10-29",
          "2024-10-30",
          "2024-10-31",
          "2024-11-01",
          "2024-11-02",
          "2024-11-03",
          "2024-11-04",
          "2024-11-05",
          "2024-11-06",
          "2024-11-07",
          "2024-11-08",
          "2024-11-09",
          "2024-11-10",
          "2024-11-11",
          "2024-11-12",
          "2024-11-13",
          "2024-11-14",
          "2024-11-15",
          "2024-11-16",
          "2024-11-17",
          "2024-11-18",
          "2024-11-19",
          "2024-11-20",
          "2024-11-21",
          "2024-11-22",
          "2024-11-23",
          "2024-11-24",
          "2024-11-24",
          "2024-11-25",
          "2024-11-26",
          "2024-11-26",
          "2024-11-27",
          "2024-11-28",
          "2024-11-29",
          "2024-11-30",
          "2024-12-01",
          "2024-12-02",
          "2024-12-05",
          "2024-12-06",
          "2024-12-07",
          "2024-12-08",
          "2024-12-09",
          "2024-12-10",
          "2024-12-11",
          "2024-12-12",
          "2024-12-13",
          "2024-12-14",
          "2024-12-15",
          "2024-12-16",
          "2024-12-17",
          "2024-12-18",
          "2024-12-19",
          "2024-12-20",
          "2024-12-21",
          "2024-12-22",
          "2024-12-23",
          "2024-12-24",
          "2024-12-25",
          "2024-12-26",
          "2024-12-27",
          "2024-12-28",
          "2024-12-29",
          "2024-12-30",
          "2024-12-31"
         ],
         "y": [
          25500,
          25860,
          27000,
          10860,
          12420,
          25500,
          25500,
          14580,
          3960,
          600,
          6360,
          11400,
          16020,
          6720,
          2820,
          17700,
          17160,
          7260,
          300,
          2580,
          6660,
          10200,
          16560,
          29880,
          22320,
          25980,
          18300,
          24660,
          11880,
          28980,
          27780,
          18480,
          10800,
          4740,
          23700,
          27360,
          25200,
          21180,
          21420,
          28140,
          20940,
          26760,
          23940,
          26100,
          26040,
          26520,
          26460,
          20880,
          25320,
          20100,
          20280,
          27780,
          31140,
          30960,
          22680,
          26400,
          26940,
          19080,
          24840,
          25980,
          26280,
          26700,
          24600,
          27300,
          31680,
          25800,
          27660,
          24960,
          27900,
          26100,
          27900,
          27900,
          17640,
          28980,
          26040,
          25980,
          26160,
          26100,
          26220,
          29640,
          28860,
          27240,
          27420,
          28320,
          25620,
          21780,
          23940,
          24840,
          25500,
          28620,
          27300,
          28500,
          25980,
          26940,
          25200,
          24780,
          28500,
          25260,
          26880,
          25440,
          27240,
          27780,
          27000,
          27720,
          26100
         ]
        }
       ],
       "layout": {
        "height": 800,
        "showlegend": true,
        "template": {
         "data": {
          "bar": [
           {
            "error_x": {
             "color": "#2a3f5f"
            },
            "error_y": {
             "color": "#2a3f5f"
            },
            "marker": {
             "line": {
              "color": "#E5ECF6",
              "width": 0.5
             },
             "pattern": {
              "fillmode": "overlay",
              "size": 10,
              "solidity": 0.2
             }
            },
            "type": "bar"
           }
          ],
          "barpolar": [
           {
            "marker": {
             "line": {
              "color": "#E5ECF6",
              "width": 0.5
             },
             "pattern": {
              "fillmode": "overlay",
              "size": 10,
              "solidity": 0.2
             }
            },
            "type": "barpolar"
           }
          ],
          "carpet": [
           {
            "aaxis": {
             "endlinecolor": "#2a3f5f",
             "gridcolor": "white",
             "linecolor": "white",
             "minorgridcolor": "white",
             "startlinecolor": "#2a3f5f"
            },
            "baxis": {
             "endlinecolor": "#2a3f5f",
             "gridcolor": "white",
             "linecolor": "white",
             "minorgridcolor": "white",
             "startlinecolor": "#2a3f5f"
            },
            "type": "carpet"
           }
          ],
          "choropleth": [
           {
            "colorbar": {
             "outlinewidth": 0,
             "ticks": ""
            },
            "type": "choropleth"
           }
          ],
          "contour": [
           {
            "colorbar": {
             "outlinewidth": 0,
             "ticks": ""
            },
            "colorscale": [
             [
              0,
              "#0d0887"
             ],
             [
              0.1111111111111111,
              "#46039f"
             ],
             [
              0.2222222222222222,
              "#7201a8"
             ],
             [
              0.3333333333333333,
              "#9c179e"
             ],
             [
              0.4444444444444444,
              "#bd3786"
             ],
             [
              0.5555555555555556,
              "#d8576b"
             ],
             [
              0.6666666666666666,
              "#ed7953"
             ],
             [
              0.7777777777777778,
              "#fb9f3a"
             ],
             [
              0.8888888888888888,
              "#fdca26"
             ],
             [
              1,
              "#f0f921"
             ]
            ],
            "type": "contour"
           }
          ],
          "contourcarpet": [
           {
            "colorbar": {
             "outlinewidth": 0,
             "ticks": ""
            },
            "type": "contourcarpet"
           }
          ],
          "heatmap": [
           {
            "colorbar": {
             "outlinewidth": 0,
             "ticks": ""
            },
            "colorscale": [
             [
              0,
              "#0d0887"
             ],
             [
              0.1111111111111111,
              "#46039f"
             ],
             [
              0.2222222222222222,
              "#7201a8"
             ],
             [
              0.3333333333333333,
              "#9c179e"
             ],
             [
              0.4444444444444444,
              "#bd3786"
             ],
             [
              0.5555555555555556,
              "#d8576b"
             ],
             [
              0.6666666666666666,
              "#ed7953"
             ],
             [
              0.7777777777777778,
              "#fb9f3a"
             ],
             [
              0.8888888888888888,
              "#fdca26"
             ],
             [
              1,
              "#f0f921"
             ]
            ],
            "type": "heatmap"
           }
          ],
          "heatmapgl": [
           {
            "colorbar": {
             "outlinewidth": 0,
             "ticks": ""
            },
            "colorscale": [
             [
              0,
              "#0d0887"
             ],
             [
              0.1111111111111111,
              "#46039f"
             ],
             [
              0.2222222222222222,
              "#7201a8"
             ],
             [
              0.3333333333333333,
              "#9c179e"
             ],
             [
              0.4444444444444444,
              "#bd3786"
             ],
             [
              0.5555555555555556,
              "#d8576b"
             ],
             [
              0.6666666666666666,
              "#ed7953"
             ],
             [
              0.7777777777777778,
              "#fb9f3a"
             ],
             [
              0.8888888888888888,
              "#fdca26"
             ],
             [
              1,
              "#f0f921"
             ]
            ],
            "type": "heatmapgl"
           }
          ],
          "histogram": [
           {
            "marker": {
             "pattern": {
              "fillmode": "overlay",
              "size": 10,
              "solidity": 0.2
             }
            },
            "type": "histogram"
           }
          ],
          "histogram2d": [
           {
            "colorbar": {
             "outlinewidth": 0,
             "ticks": ""
            },
            "colorscale": [
             [
              0,
              "#0d0887"
             ],
             [
              0.1111111111111111,
              "#46039f"
             ],
             [
              0.2222222222222222,
              "#7201a8"
             ],
             [
              0.3333333333333333,
              "#9c179e"
             ],
             [
              0.4444444444444444,
              "#bd3786"
             ],
             [
              0.5555555555555556,
              "#d8576b"
             ],
             [
              0.6666666666666666,
              "#ed7953"
             ],
             [
              0.7777777777777778,
              "#fb9f3a"
             ],
             [
              0.8888888888888888,
              "#fdca26"
             ],
             [
              1,
              "#f0f921"
             ]
            ],
            "type": "histogram2d"
           }
          ],
          "histogram2dcontour": [
           {
            "colorbar": {
             "outlinewidth": 0,
             "ticks": ""
            },
            "colorscale": [
             [
              0,
              "#0d0887"
             ],
             [
              0.1111111111111111,
              "#46039f"
             ],
             [
              0.2222222222222222,
              "#7201a8"
             ],
             [
              0.3333333333333333,
              "#9c179e"
             ],
             [
              0.4444444444444444,
              "#bd3786"
             ],
             [
              0.5555555555555556,
              "#d8576b"
             ],
             [
              0.6666666666666666,
              "#ed7953"
             ],
             [
              0.7777777777777778,
              "#fb9f3a"
             ],
             [
              0.8888888888888888,
              "#fdca26"
             ],
             [
              1,
              "#f0f921"
             ]
            ],
            "type": "histogram2dcontour"
           }
          ],
          "mesh3d": [
           {
            "colorbar": {
             "outlinewidth": 0,
             "ticks": ""
            },
            "type": "mesh3d"
           }
          ],
          "parcoords": [
           {
            "line": {
             "colorbar": {
              "outlinewidth": 0,
              "ticks": ""
             }
            },
            "type": "parcoords"
           }
          ],
          "pie": [
           {
            "automargin": true,
            "type": "pie"
           }
          ],
          "scatter": [
           {
            "fillpattern": {
             "fillmode": "overlay",
             "size": 10,
             "solidity": 0.2
            },
            "type": "scatter"
           }
          ],
          "scatter3d": [
           {
            "line": {
             "colorbar": {
              "outlinewidth": 0,
              "ticks": ""
             }
            },
            "marker": {
             "colorbar": {
              "outlinewidth": 0,
              "ticks": ""
             }
            },
            "type": "scatter3d"
           }
          ],
          "scattercarpet": [
           {
            "marker": {
             "colorbar": {
              "outlinewidth": 0,
              "ticks": ""
             }
            },
            "type": "scattercarpet"
           }
          ],
          "scattergeo": [
           {
            "marker": {
             "colorbar": {
              "outlinewidth": 0,
              "ticks": ""
             }
            },
            "type": "scattergeo"
           }
          ],
          "scattergl": [
           {
            "marker": {
             "colorbar": {
              "outlinewidth": 0,
              "ticks": ""
             }
            },
            "type": "scattergl"
           }
          ],
          "scattermapbox": [
           {
            "marker": {
             "colorbar": {
              "outlinewidth": 0,
              "ticks": ""
             }
            },
            "type": "scattermapbox"
           }
          ],
          "scatterpolar": [
           {
            "marker": {
             "colorbar": {
              "outlinewidth": 0,
              "ticks": ""
             }
            },
            "type": "scatterpolar"
           }
          ],
          "scatterpolargl": [
           {
            "marker": {
             "colorbar": {
              "outlinewidth": 0,
              "ticks": ""
             }
            },
            "type": "scatterpolargl"
           }
          ],
          "scatterternary": [
           {
            "marker": {
             "colorbar": {
              "outlinewidth": 0,
              "ticks": ""
             }
            },
            "type": "scatterternary"
           }
          ],
          "surface": [
           {
            "colorbar": {
             "outlinewidth": 0,
             "ticks": ""
            },
            "colorscale": [
             [
              0,
              "#0d0887"
             ],
             [
              0.1111111111111111,
              "#46039f"
             ],
             [
              0.2222222222222222,
              "#7201a8"
             ],
             [
              0.3333333333333333,
              "#9c179e"
             ],
             [
              0.4444444444444444,
              "#bd3786"
             ],
             [
              0.5555555555555556,
              "#d8576b"
             ],
             [
              0.6666666666666666,
              "#ed7953"
             ],
             [
              0.7777777777777778,
              "#fb9f3a"
             ],
             [
              0.8888888888888888,
              "#fdca26"
             ],
             [
              1,
              "#f0f921"
             ]
            ],
            "type": "surface"
           }
          ],
          "table": [
           {
            "cells": {
             "fill": {
              "color": "#EBF0F8"
             },
             "line": {
              "color": "white"
             }
            },
            "header": {
             "fill": {
              "color": "#C8D4E3"
             },
             "line": {
              "color": "white"
             }
            },
            "type": "table"
           }
          ]
         },
         "layout": {
          "annotationdefaults": {
           "arrowcolor": "#2a3f5f",
           "arrowhead": 0,
           "arrowwidth": 1
          },
          "autotypenumbers": "strict",
          "coloraxis": {
           "colorbar": {
            "outlinewidth": 0,
            "ticks": ""
           }
          },
          "colorscale": {
           "diverging": [
            [
             0,
             "#8e0152"
            ],
            [
             0.1,
             "#c51b7d"
            ],
            [
             0.2,
             "#de77ae"
            ],
            [
             0.3,
             "#f1b6da"
            ],
            [
             0.4,
             "#fde0ef"
            ],
            [
             0.5,
             "#f7f7f7"
            ],
            [
             0.6,
             "#e6f5d0"
            ],
            [
             0.7,
             "#b8e186"
            ],
            [
             0.8,
             "#7fbc41"
            ],
            [
             0.9,
             "#4d9221"
            ],
            [
             1,
             "#276419"
            ]
           ],
           "sequential": [
            [
             0,
             "#0d0887"
            ],
            [
             0.1111111111111111,
             "#46039f"
            ],
            [
             0.2222222222222222,
             "#7201a8"
            ],
            [
             0.3333333333333333,
             "#9c179e"
            ],
            [
             0.4444444444444444,
             "#bd3786"
            ],
            [
             0.5555555555555556,
             "#d8576b"
            ],
            [
             0.6666666666666666,
             "#ed7953"
            ],
            [
             0.7777777777777778,
             "#fb9f3a"
            ],
            [
             0.8888888888888888,
             "#fdca26"
            ],
            [
             1,
             "#f0f921"
            ]
           ],
           "sequentialminus": [
            [
             0,
             "#0d0887"
            ],
            [
             0.1111111111111111,
             "#46039f"
            ],
            [
             0.2222222222222222,
             "#7201a8"
            ],
            [
             0.3333333333333333,
             "#9c179e"
            ],
            [
             0.4444444444444444,
             "#bd3786"
            ],
            [
             0.5555555555555556,
             "#d8576b"
            ],
            [
             0.6666666666666666,
             "#ed7953"
            ],
            [
             0.7777777777777778,
             "#fb9f3a"
            ],
            [
             0.8888888888888888,
             "#fdca26"
            ],
            [
             1,
             "#f0f921"
            ]
           ]
          },
          "colorway": [
           "#636efa",
           "#EF553B",
           "#00cc96",
           "#ab63fa",
           "#FFA15A",
           "#19d3f3",
           "#FF6692",
           "#B6E880",
           "#FF97FF",
           "#FECB52"
          ],
          "font": {
           "color": "#2a3f5f"
          },
          "geo": {
           "bgcolor": "white",
           "lakecolor": "white",
           "landcolor": "#E5ECF6",
           "showlakes": true,
           "showland": true,
           "subunitcolor": "white"
          },
          "hoverlabel": {
           "align": "left"
          },
          "hovermode": "closest",
          "mapbox": {
           "style": "light"
          },
          "paper_bgcolor": "white",
          "plot_bgcolor": "#E5ECF6",
          "polar": {
           "angularaxis": {
            "gridcolor": "white",
            "linecolor": "white",
            "ticks": ""
           },
           "bgcolor": "#E5ECF6",
           "radialaxis": {
            "gridcolor": "white",
            "linecolor": "white",
            "ticks": ""
           }
          },
          "scene": {
           "xaxis": {
            "backgroundcolor": "#E5ECF6",
            "gridcolor": "white",
            "gridwidth": 2,
            "linecolor": "white",
            "showbackground": true,
            "ticks": "",
            "zerolinecolor": "white"
           },
           "yaxis": {
            "backgroundcolor": "#E5ECF6",
            "gridcolor": "white",
            "gridwidth": 2,
            "linecolor": "white",
            "showbackground": true,
            "ticks": "",
            "zerolinecolor": "white"
           },
           "zaxis": {
            "backgroundcolor": "#E5ECF6",
            "gridcolor": "white",
            "gridwidth": 2,
            "linecolor": "white",
            "showbackground": true,
            "ticks": "",
            "zerolinecolor": "white"
           }
          },
          "shapedefaults": {
           "line": {
            "color": "#2a3f5f"
           }
          },
          "ternary": {
           "aaxis": {
            "gridcolor": "white",
            "linecolor": "white",
            "ticks": ""
           },
           "baxis": {
            "gridcolor": "white",
            "linecolor": "white",
            "ticks": ""
           },
           "bgcolor": "#E5ECF6",
           "caxis": {
            "gridcolor": "white",
            "linecolor": "white",
            "ticks": ""
           }
          },
          "title": {
           "x": 0.05
          },
          "xaxis": {
           "automargin": true,
           "gridcolor": "white",
           "linecolor": "white",
           "ticks": "",
           "title": {
            "standoff": 15
           },
           "zerolinecolor": "white",
           "zerolinewidth": 2
          },
          "yaxis": {
           "automargin": true,
           "gridcolor": "white",
           "linecolor": "white",
           "ticks": "",
           "title": {
            "standoff": 15
           },
           "zerolinecolor": "white",
           "zerolinewidth": 2
          }
         }
        },
        "title": {
         "text": "Valori di total_sleep_time da 2023-01-01 a 2025-02-19"
        },
        "width": 1500,
        "xaxis": {
         "categoryorder": "category ascending",
         "title": {
          "text": "Date"
         }
        },
        "yaxis": {
         "categoryorder": "category ascending",
         "title": {
          "text": "Valori di total_sleep_time"
         }
        }
       }
      }
     },
     "metadata": {},
     "output_type": "display_data"
    }
   ],
   "source": [
    "agg.plot('total_sleep_time','2023-01-01', end_time, 30, save_png=save)"
   ]
  },
  {
   "cell_type": "code",
   "execution_count": 14,
   "metadata": {},
   "outputs": [
    {
     "name": "stdout",
     "output_type": "stream",
     "text": [
      "Grafico salvato come PNG in: ../graphs/wakeup_count_2023-01-01_2025-02-19.png\n"
     ]
    },
    {
     "data": {
      "application/vnd.plotly.v1+json": {
       "config": {
        "plotlyServerURL": "https://plot.ly"
       },
       "data": [
        {
         "line": {
          "color": "Red",
          "width": 2
         },
         "mode": "lines",
         "name": "Trend",
         "type": "scatter",
         "x": [
          "2024-09-21",
          "2024-09-22",
          "2024-09-23",
          "2024-09-24",
          "2024-09-25",
          "2024-09-26",
          "2024-09-26",
          "2024-09-27",
          "2024-09-28",
          "2024-09-28",
          "2024-09-29",
          "2024-09-30",
          "2024-10-01",
          "2024-10-02",
          "2024-10-03",
          "2024-10-04",
          "2024-10-05",
          "2024-10-06",
          "2024-10-07",
          "2024-10-07",
          "2024-10-08",
          "2024-10-09",
          "2024-10-10",
          "2024-10-11",
          "2024-10-12",
          "2024-10-13",
          "2024-10-14",
          "2024-10-15",
          "2024-10-16",
          "2024-10-17",
          "2024-10-18",
          "2024-10-19",
          "2024-10-20",
          "2024-10-21",
          "2024-10-22",
          "2024-10-23",
          "2024-10-24",
          "2024-10-25",
          "2024-10-26",
          "2024-10-27",
          "2024-10-28",
          "2024-10-29",
          "2024-10-30",
          "2024-10-31",
          "2024-11-01",
          "2024-11-02",
          "2024-11-03",
          "2024-11-04",
          "2024-11-05",
          "2024-11-06",
          "2024-11-07",
          "2024-11-08",
          "2024-11-09",
          "2024-11-10",
          "2024-11-11",
          "2024-11-12",
          "2024-11-13",
          "2024-11-14",
          "2024-11-15",
          "2024-11-16",
          "2024-11-17",
          "2024-11-18",
          "2024-11-19",
          "2024-11-20",
          "2024-11-21",
          "2024-11-22",
          "2024-11-23",
          "2024-11-24",
          "2024-11-24",
          "2024-11-25",
          "2024-11-26",
          "2024-11-26",
          "2024-11-27",
          "2024-11-28",
          "2024-11-29",
          "2024-11-30",
          "2024-12-01",
          "2024-12-02",
          "2024-12-05",
          "2024-12-06",
          "2024-12-07",
          "2024-12-08",
          "2024-12-09",
          "2024-12-10",
          "2024-12-11",
          "2024-12-12",
          "2024-12-13",
          "2024-12-14",
          "2024-12-15",
          "2024-12-16",
          "2024-12-17",
          "2024-12-18",
          "2024-12-19",
          "2024-12-20",
          "2024-12-21",
          "2024-12-22",
          "2024-12-23",
          "2024-12-24",
          "2024-12-25",
          "2024-12-26",
          "2024-12-27",
          "2024-12-28",
          "2024-12-29",
          "2024-12-30",
          "2024-12-31"
         ],
         "y": [
          null,
          null,
          null,
          null,
          null,
          null,
          null,
          null,
          null,
          null,
          null,
          null,
          null,
          null,
          null,
          3.8,
          4.033333333333333,
          4.166666666666666,
          4.2,
          4.1499999999999995,
          4.1,
          4.116666666666667,
          4.050000000000001,
          3.9833333333333334,
          4.133333333333333,
          4.25,
          4.233333333333333,
          4.216666666666667,
          4.183333333333334,
          4.15,
          4.05,
          3.95,
          3.9166666666666665,
          3.883333333333333,
          3.9,
          3.8833333333333333,
          3.8,
          3.716666666666667,
          3.7166666666666663,
          3.7666666666666666,
          3.716666666666667,
          3.55,
          3.4333333333333327,
          3.3666666666666663,
          3.2166666666666663,
          3,
          2.783333333333333,
          2.7,
          2.6166666666666667,
          2.566666666666667,
          2.6166666666666663,
          2.6166666666666667,
          2.583333333333333,
          2.533333333333333,
          2.3833333333333333,
          2.25,
          2.216666666666667,
          2.1666666666666665,
          2.1333333333333333,
          2.1166666666666667,
          2.1333333333333333,
          2.15,
          2.083333333333333,
          2.0166666666666666,
          1.9833333333333334,
          2.0166666666666666,
          2.0666666666666664,
          2.05,
          2.0166666666666666,
          2,
          2.0166666666666666,
          2.033333333333333,
          2,
          1.9833333333333334,
          1.9833333333333334,
          1.9666666666666666,
          1.9666666666666668,
          1.9166666666666665,
          1.8666666666666667,
          1.8499999999999999,
          1.8166666666666664,
          1.8333333333333333,
          1.8666666666666667,
          1.8833333333333333,
          1.8833333333333333,
          1.85,
          1.8166666666666664,
          1.8333333333333335,
          1.85,
          1.8333333333333335,
          null,
          null,
          null,
          null,
          null,
          null,
          null,
          null,
          null,
          null,
          null,
          null,
          null,
          null,
          null
         ]
        },
        {
         "marker": {
          "color": "Blue",
          "size": 7
         },
         "mode": "markers",
         "name": "wakeup_count",
         "text": [
          "wakeup_count: 1",
          "wakeup_count: 1",
          "wakeup_count: 2",
          "wakeup_count: 6",
          "wakeup_count: 4",
          "wakeup_count: 1",
          "wakeup_count: 1",
          "wakeup_count: 7",
          "wakeup_count: 2",
          "wakeup_count: 1",
          "wakeup_count: 4",
          "wakeup_count: 3",
          "wakeup_count: 3",
          "wakeup_count: 3",
          "wakeup_count: 4",
          "wakeup_count: 6",
          "wakeup_count: 3",
          "wakeup_count: 4",
          "wakeup_count: 4",
          "wakeup_count: 1",
          "wakeup_count: 4",
          "wakeup_count: 5",
          "wakeup_count: 5",
          "wakeup_count: 1",
          "wakeup_count: 4",
          "wakeup_count: 5",
          "wakeup_count: 8",
          "wakeup_count: 5",
          "wakeup_count: 5",
          "wakeup_count: 7",
          "wakeup_count: 9",
          "wakeup_count: 7",
          "wakeup_count: 4",
          "wakeup_count: 6",
          "wakeup_count: 1",
          "wakeup_count: 1",
          "wakeup_count: 2",
          "wakeup_count: 2",
          "wakeup_count: 3",
          "wakeup_count: 9",
          "wakeup_count: 3",
          "wakeup_count: 3",
          "wakeup_count: 2",
          "wakeup_count: 2",
          "wakeup_count: 3",
          "wakeup_count: 1",
          "wakeup_count: 2",
          "wakeup_count: 3",
          "wakeup_count: 3",
          "wakeup_count: 3",
          "wakeup_count: 1",
          "wakeup_count: 3",
          "wakeup_count: 2",
          "wakeup_count: 4",
          "wakeup_count: 4",
          "wakeup_count: 2",
          "wakeup_count: 1",
          "wakeup_count: 5",
          "wakeup_count: 1",
          "wakeup_count: 2",
          "wakeup_count: 1",
          "wakeup_count: 2",
          "wakeup_count: 4",
          "wakeup_count: 1",
          "wakeup_count: 3",
          "wakeup_count: 2",
          "wakeup_count: 1",
          "wakeup_count: 1",
          "wakeup_count: 1",
          "wakeup_count: 2",
          "wakeup_count: 2",
          "wakeup_count: 2",
          "wakeup_count: 0",
          "wakeup_count: 2",
          "wakeup_count: 2",
          "wakeup_count: 3",
          "wakeup_count: 1",
          "wakeup_count: 0",
          "wakeup_count: 2",
          "wakeup_count: 2",
          "wakeup_count: 4",
          "wakeup_count: 3",
          "wakeup_count: 1",
          "wakeup_count: 3",
          "wakeup_count: 4",
          "wakeup_count: 3",
          "wakeup_count: 1",
          "wakeup_count: 3",
          "wakeup_count: 2",
          "wakeup_count: 1",
          "wakeup_count: 1",
          "wakeup_count: 2",
          "wakeup_count: 1",
          "wakeup_count: 1",
          "wakeup_count: 2",
          "wakeup_count: 1",
          "wakeup_count: 3",
          "wakeup_count: 1",
          "wakeup_count: 2",
          "wakeup_count: 1",
          "wakeup_count: 1",
          "wakeup_count: 1",
          "wakeup_count: 2",
          "wakeup_count: 1",
          "wakeup_count: 2"
         ],
         "type": "scatter",
         "x": [
          "2024-09-21",
          "2024-09-22",
          "2024-09-23",
          "2024-09-24",
          "2024-09-25",
          "2024-09-26",
          "2024-09-26",
          "2024-09-27",
          "2024-09-28",
          "2024-09-28",
          "2024-09-29",
          "2024-09-30",
          "2024-10-01",
          "2024-10-02",
          "2024-10-03",
          "2024-10-04",
          "2024-10-05",
          "2024-10-06",
          "2024-10-07",
          "2024-10-07",
          "2024-10-08",
          "2024-10-09",
          "2024-10-10",
          "2024-10-11",
          "2024-10-12",
          "2024-10-13",
          "2024-10-14",
          "2024-10-15",
          "2024-10-16",
          "2024-10-17",
          "2024-10-18",
          "2024-10-19",
          "2024-10-20",
          "2024-10-21",
          "2024-10-22",
          "2024-10-23",
          "2024-10-24",
          "2024-10-25",
          "2024-10-26",
          "2024-10-27",
          "2024-10-28",
          "2024-10-29",
          "2024-10-30",
          "2024-10-31",
          "2024-11-01",
          "2024-11-02",
          "2024-11-03",
          "2024-11-04",
          "2024-11-05",
          "2024-11-06",
          "2024-11-07",
          "2024-11-08",
          "2024-11-09",
          "2024-11-10",
          "2024-11-11",
          "2024-11-12",
          "2024-11-13",
          "2024-11-14",
          "2024-11-15",
          "2024-11-16",
          "2024-11-17",
          "2024-11-18",
          "2024-11-19",
          "2024-11-20",
          "2024-11-21",
          "2024-11-22",
          "2024-11-23",
          "2024-11-24",
          "2024-11-24",
          "2024-11-25",
          "2024-11-26",
          "2024-11-26",
          "2024-11-27",
          "2024-11-28",
          "2024-11-29",
          "2024-11-30",
          "2024-12-01",
          "2024-12-02",
          "2024-12-05",
          "2024-12-06",
          "2024-12-07",
          "2024-12-08",
          "2024-12-09",
          "2024-12-10",
          "2024-12-11",
          "2024-12-12",
          "2024-12-13",
          "2024-12-14",
          "2024-12-15",
          "2024-12-16",
          "2024-12-17",
          "2024-12-18",
          "2024-12-19",
          "2024-12-20",
          "2024-12-21",
          "2024-12-22",
          "2024-12-23",
          "2024-12-24",
          "2024-12-25",
          "2024-12-26",
          "2024-12-27",
          "2024-12-28",
          "2024-12-29",
          "2024-12-30",
          "2024-12-31"
         ],
         "y": [
          1,
          1,
          2,
          6,
          4,
          1,
          1,
          7,
          2,
          1,
          4,
          3,
          3,
          3,
          4,
          6,
          3,
          4,
          4,
          1,
          4,
          5,
          5,
          1,
          4,
          5,
          8,
          5,
          5,
          7,
          9,
          7,
          4,
          6,
          1,
          1,
          2,
          2,
          3,
          9,
          3,
          3,
          2,
          2,
          3,
          1,
          2,
          3,
          3,
          3,
          1,
          3,
          2,
          4,
          4,
          2,
          1,
          5,
          1,
          2,
          1,
          2,
          4,
          1,
          3,
          2,
          1,
          1,
          1,
          2,
          2,
          2,
          0,
          2,
          2,
          3,
          1,
          0,
          2,
          2,
          4,
          3,
          1,
          3,
          4,
          3,
          1,
          3,
          2,
          1,
          1,
          2,
          1,
          1,
          2,
          1,
          3,
          1,
          2,
          1,
          1,
          1,
          2,
          1,
          2
         ]
        }
       ],
       "layout": {
        "height": 800,
        "showlegend": true,
        "template": {
         "data": {
          "bar": [
           {
            "error_x": {
             "color": "#2a3f5f"
            },
            "error_y": {
             "color": "#2a3f5f"
            },
            "marker": {
             "line": {
              "color": "#E5ECF6",
              "width": 0.5
             },
             "pattern": {
              "fillmode": "overlay",
              "size": 10,
              "solidity": 0.2
             }
            },
            "type": "bar"
           }
          ],
          "barpolar": [
           {
            "marker": {
             "line": {
              "color": "#E5ECF6",
              "width": 0.5
             },
             "pattern": {
              "fillmode": "overlay",
              "size": 10,
              "solidity": 0.2
             }
            },
            "type": "barpolar"
           }
          ],
          "carpet": [
           {
            "aaxis": {
             "endlinecolor": "#2a3f5f",
             "gridcolor": "white",
             "linecolor": "white",
             "minorgridcolor": "white",
             "startlinecolor": "#2a3f5f"
            },
            "baxis": {
             "endlinecolor": "#2a3f5f",
             "gridcolor": "white",
             "linecolor": "white",
             "minorgridcolor": "white",
             "startlinecolor": "#2a3f5f"
            },
            "type": "carpet"
           }
          ],
          "choropleth": [
           {
            "colorbar": {
             "outlinewidth": 0,
             "ticks": ""
            },
            "type": "choropleth"
           }
          ],
          "contour": [
           {
            "colorbar": {
             "outlinewidth": 0,
             "ticks": ""
            },
            "colorscale": [
             [
              0,
              "#0d0887"
             ],
             [
              0.1111111111111111,
              "#46039f"
             ],
             [
              0.2222222222222222,
              "#7201a8"
             ],
             [
              0.3333333333333333,
              "#9c179e"
             ],
             [
              0.4444444444444444,
              "#bd3786"
             ],
             [
              0.5555555555555556,
              "#d8576b"
             ],
             [
              0.6666666666666666,
              "#ed7953"
             ],
             [
              0.7777777777777778,
              "#fb9f3a"
             ],
             [
              0.8888888888888888,
              "#fdca26"
             ],
             [
              1,
              "#f0f921"
             ]
            ],
            "type": "contour"
           }
          ],
          "contourcarpet": [
           {
            "colorbar": {
             "outlinewidth": 0,
             "ticks": ""
            },
            "type": "contourcarpet"
           }
          ],
          "heatmap": [
           {
            "colorbar": {
             "outlinewidth": 0,
             "ticks": ""
            },
            "colorscale": [
             [
              0,
              "#0d0887"
             ],
             [
              0.1111111111111111,
              "#46039f"
             ],
             [
              0.2222222222222222,
              "#7201a8"
             ],
             [
              0.3333333333333333,
              "#9c179e"
             ],
             [
              0.4444444444444444,
              "#bd3786"
             ],
             [
              0.5555555555555556,
              "#d8576b"
             ],
             [
              0.6666666666666666,
              "#ed7953"
             ],
             [
              0.7777777777777778,
              "#fb9f3a"
             ],
             [
              0.8888888888888888,
              "#fdca26"
             ],
             [
              1,
              "#f0f921"
             ]
            ],
            "type": "heatmap"
           }
          ],
          "heatmapgl": [
           {
            "colorbar": {
             "outlinewidth": 0,
             "ticks": ""
            },
            "colorscale": [
             [
              0,
              "#0d0887"
             ],
             [
              0.1111111111111111,
              "#46039f"
             ],
             [
              0.2222222222222222,
              "#7201a8"
             ],
             [
              0.3333333333333333,
              "#9c179e"
             ],
             [
              0.4444444444444444,
              "#bd3786"
             ],
             [
              0.5555555555555556,
              "#d8576b"
             ],
             [
              0.6666666666666666,
              "#ed7953"
             ],
             [
              0.7777777777777778,
              "#fb9f3a"
             ],
             [
              0.8888888888888888,
              "#fdca26"
             ],
             [
              1,
              "#f0f921"
             ]
            ],
            "type": "heatmapgl"
           }
          ],
          "histogram": [
           {
            "marker": {
             "pattern": {
              "fillmode": "overlay",
              "size": 10,
              "solidity": 0.2
             }
            },
            "type": "histogram"
           }
          ],
          "histogram2d": [
           {
            "colorbar": {
             "outlinewidth": 0,
             "ticks": ""
            },
            "colorscale": [
             [
              0,
              "#0d0887"
             ],
             [
              0.1111111111111111,
              "#46039f"
             ],
             [
              0.2222222222222222,
              "#7201a8"
             ],
             [
              0.3333333333333333,
              "#9c179e"
             ],
             [
              0.4444444444444444,
              "#bd3786"
             ],
             [
              0.5555555555555556,
              "#d8576b"
             ],
             [
              0.6666666666666666,
              "#ed7953"
             ],
             [
              0.7777777777777778,
              "#fb9f3a"
             ],
             [
              0.8888888888888888,
              "#fdca26"
             ],
             [
              1,
              "#f0f921"
             ]
            ],
            "type": "histogram2d"
           }
          ],
          "histogram2dcontour": [
           {
            "colorbar": {
             "outlinewidth": 0,
             "ticks": ""
            },
            "colorscale": [
             [
              0,
              "#0d0887"
             ],
             [
              0.1111111111111111,
              "#46039f"
             ],
             [
              0.2222222222222222,
              "#7201a8"
             ],
             [
              0.3333333333333333,
              "#9c179e"
             ],
             [
              0.4444444444444444,
              "#bd3786"
             ],
             [
              0.5555555555555556,
              "#d8576b"
             ],
             [
              0.6666666666666666,
              "#ed7953"
             ],
             [
              0.7777777777777778,
              "#fb9f3a"
             ],
             [
              0.8888888888888888,
              "#fdca26"
             ],
             [
              1,
              "#f0f921"
             ]
            ],
            "type": "histogram2dcontour"
           }
          ],
          "mesh3d": [
           {
            "colorbar": {
             "outlinewidth": 0,
             "ticks": ""
            },
            "type": "mesh3d"
           }
          ],
          "parcoords": [
           {
            "line": {
             "colorbar": {
              "outlinewidth": 0,
              "ticks": ""
             }
            },
            "type": "parcoords"
           }
          ],
          "pie": [
           {
            "automargin": true,
            "type": "pie"
           }
          ],
          "scatter": [
           {
            "fillpattern": {
             "fillmode": "overlay",
             "size": 10,
             "solidity": 0.2
            },
            "type": "scatter"
           }
          ],
          "scatter3d": [
           {
            "line": {
             "colorbar": {
              "outlinewidth": 0,
              "ticks": ""
             }
            },
            "marker": {
             "colorbar": {
              "outlinewidth": 0,
              "ticks": ""
             }
            },
            "type": "scatter3d"
           }
          ],
          "scattercarpet": [
           {
            "marker": {
             "colorbar": {
              "outlinewidth": 0,
              "ticks": ""
             }
            },
            "type": "scattercarpet"
           }
          ],
          "scattergeo": [
           {
            "marker": {
             "colorbar": {
              "outlinewidth": 0,
              "ticks": ""
             }
            },
            "type": "scattergeo"
           }
          ],
          "scattergl": [
           {
            "marker": {
             "colorbar": {
              "outlinewidth": 0,
              "ticks": ""
             }
            },
            "type": "scattergl"
           }
          ],
          "scattermapbox": [
           {
            "marker": {
             "colorbar": {
              "outlinewidth": 0,
              "ticks": ""
             }
            },
            "type": "scattermapbox"
           }
          ],
          "scatterpolar": [
           {
            "marker": {
             "colorbar": {
              "outlinewidth": 0,
              "ticks": ""
             }
            },
            "type": "scatterpolar"
           }
          ],
          "scatterpolargl": [
           {
            "marker": {
             "colorbar": {
              "outlinewidth": 0,
              "ticks": ""
             }
            },
            "type": "scatterpolargl"
           }
          ],
          "scatterternary": [
           {
            "marker": {
             "colorbar": {
              "outlinewidth": 0,
              "ticks": ""
             }
            },
            "type": "scatterternary"
           }
          ],
          "surface": [
           {
            "colorbar": {
             "outlinewidth": 0,
             "ticks": ""
            },
            "colorscale": [
             [
              0,
              "#0d0887"
             ],
             [
              0.1111111111111111,
              "#46039f"
             ],
             [
              0.2222222222222222,
              "#7201a8"
             ],
             [
              0.3333333333333333,
              "#9c179e"
             ],
             [
              0.4444444444444444,
              "#bd3786"
             ],
             [
              0.5555555555555556,
              "#d8576b"
             ],
             [
              0.6666666666666666,
              "#ed7953"
             ],
             [
              0.7777777777777778,
              "#fb9f3a"
             ],
             [
              0.8888888888888888,
              "#fdca26"
             ],
             [
              1,
              "#f0f921"
             ]
            ],
            "type": "surface"
           }
          ],
          "table": [
           {
            "cells": {
             "fill": {
              "color": "#EBF0F8"
             },
             "line": {
              "color": "white"
             }
            },
            "header": {
             "fill": {
              "color": "#C8D4E3"
             },
             "line": {
              "color": "white"
             }
            },
            "type": "table"
           }
          ]
         },
         "layout": {
          "annotationdefaults": {
           "arrowcolor": "#2a3f5f",
           "arrowhead": 0,
           "arrowwidth": 1
          },
          "autotypenumbers": "strict",
          "coloraxis": {
           "colorbar": {
            "outlinewidth": 0,
            "ticks": ""
           }
          },
          "colorscale": {
           "diverging": [
            [
             0,
             "#8e0152"
            ],
            [
             0.1,
             "#c51b7d"
            ],
            [
             0.2,
             "#de77ae"
            ],
            [
             0.3,
             "#f1b6da"
            ],
            [
             0.4,
             "#fde0ef"
            ],
            [
             0.5,
             "#f7f7f7"
            ],
            [
             0.6,
             "#e6f5d0"
            ],
            [
             0.7,
             "#b8e186"
            ],
            [
             0.8,
             "#7fbc41"
            ],
            [
             0.9,
             "#4d9221"
            ],
            [
             1,
             "#276419"
            ]
           ],
           "sequential": [
            [
             0,
             "#0d0887"
            ],
            [
             0.1111111111111111,
             "#46039f"
            ],
            [
             0.2222222222222222,
             "#7201a8"
            ],
            [
             0.3333333333333333,
             "#9c179e"
            ],
            [
             0.4444444444444444,
             "#bd3786"
            ],
            [
             0.5555555555555556,
             "#d8576b"
            ],
            [
             0.6666666666666666,
             "#ed7953"
            ],
            [
             0.7777777777777778,
             "#fb9f3a"
            ],
            [
             0.8888888888888888,
             "#fdca26"
            ],
            [
             1,
             "#f0f921"
            ]
           ],
           "sequentialminus": [
            [
             0,
             "#0d0887"
            ],
            [
             0.1111111111111111,
             "#46039f"
            ],
            [
             0.2222222222222222,
             "#7201a8"
            ],
            [
             0.3333333333333333,
             "#9c179e"
            ],
            [
             0.4444444444444444,
             "#bd3786"
            ],
            [
             0.5555555555555556,
             "#d8576b"
            ],
            [
             0.6666666666666666,
             "#ed7953"
            ],
            [
             0.7777777777777778,
             "#fb9f3a"
            ],
            [
             0.8888888888888888,
             "#fdca26"
            ],
            [
             1,
             "#f0f921"
            ]
           ]
          },
          "colorway": [
           "#636efa",
           "#EF553B",
           "#00cc96",
           "#ab63fa",
           "#FFA15A",
           "#19d3f3",
           "#FF6692",
           "#B6E880",
           "#FF97FF",
           "#FECB52"
          ],
          "font": {
           "color": "#2a3f5f"
          },
          "geo": {
           "bgcolor": "white",
           "lakecolor": "white",
           "landcolor": "#E5ECF6",
           "showlakes": true,
           "showland": true,
           "subunitcolor": "white"
          },
          "hoverlabel": {
           "align": "left"
          },
          "hovermode": "closest",
          "mapbox": {
           "style": "light"
          },
          "paper_bgcolor": "white",
          "plot_bgcolor": "#E5ECF6",
          "polar": {
           "angularaxis": {
            "gridcolor": "white",
            "linecolor": "white",
            "ticks": ""
           },
           "bgcolor": "#E5ECF6",
           "radialaxis": {
            "gridcolor": "white",
            "linecolor": "white",
            "ticks": ""
           }
          },
          "scene": {
           "xaxis": {
            "backgroundcolor": "#E5ECF6",
            "gridcolor": "white",
            "gridwidth": 2,
            "linecolor": "white",
            "showbackground": true,
            "ticks": "",
            "zerolinecolor": "white"
           },
           "yaxis": {
            "backgroundcolor": "#E5ECF6",
            "gridcolor": "white",
            "gridwidth": 2,
            "linecolor": "white",
            "showbackground": true,
            "ticks": "",
            "zerolinecolor": "white"
           },
           "zaxis": {
            "backgroundcolor": "#E5ECF6",
            "gridcolor": "white",
            "gridwidth": 2,
            "linecolor": "white",
            "showbackground": true,
            "ticks": "",
            "zerolinecolor": "white"
           }
          },
          "shapedefaults": {
           "line": {
            "color": "#2a3f5f"
           }
          },
          "ternary": {
           "aaxis": {
            "gridcolor": "white",
            "linecolor": "white",
            "ticks": ""
           },
           "baxis": {
            "gridcolor": "white",
            "linecolor": "white",
            "ticks": ""
           },
           "bgcolor": "#E5ECF6",
           "caxis": {
            "gridcolor": "white",
            "linecolor": "white",
            "ticks": ""
           }
          },
          "title": {
           "x": 0.05
          },
          "xaxis": {
           "automargin": true,
           "gridcolor": "white",
           "linecolor": "white",
           "ticks": "",
           "title": {
            "standoff": 15
           },
           "zerolinecolor": "white",
           "zerolinewidth": 2
          },
          "yaxis": {
           "automargin": true,
           "gridcolor": "white",
           "linecolor": "white",
           "ticks": "",
           "title": {
            "standoff": 15
           },
           "zerolinecolor": "white",
           "zerolinewidth": 2
          }
         }
        },
        "title": {
         "text": "Valori di wakeup_count da 2023-01-01 a 2025-02-19"
        },
        "width": 1500,
        "xaxis": {
         "categoryorder": "category ascending",
         "title": {
          "text": "Date"
         }
        },
        "yaxis": {
         "categoryorder": "category ascending",
         "title": {
          "text": "Valori di wakeup_count"
         }
        }
       }
      }
     },
     "metadata": {},
     "output_type": "display_data"
    }
   ],
   "source": [
    "agg.plot('wakeup_count','2023-01-01', end_time, 30, save_png=save)"
   ]
  },
  {
   "cell_type": "code",
   "execution_count": 15,
   "metadata": {},
   "outputs": [
    {
     "name": "stdout",
     "output_type": "stream",
     "text": [
      "Grafico salvato come PNG in: ../graphs/AggregatedData_wakeup_count_month_2023-01-01_2025-02-19.png\n"
     ]
    },
    {
     "data": {
      "application/vnd.plotly.v1+json": {
       "config": {
        "plotlyServerURL": "https://plot.ly"
       },
       "data": [
        {
         "marker": {
          "color": "orange"
         },
         "name": "Media",
         "type": "bar",
         "x": [
          "2024-09",
          "2024-10",
          "2024-11",
          "2024-12"
         ],
         "y": [
          3.3,
          4.225806451612903,
          2.3,
          1.793103448275862
         ]
        }
       ],
       "layout": {
        "height": 600,
        "showlegend": true,
        "template": {
         "data": {
          "bar": [
           {
            "error_x": {
             "color": "#2a3f5f"
            },
            "error_y": {
             "color": "#2a3f5f"
            },
            "marker": {
             "line": {
              "color": "white",
              "width": 0.5
             },
             "pattern": {
              "fillmode": "overlay",
              "size": 10,
              "solidity": 0.2
             }
            },
            "type": "bar"
           }
          ],
          "barpolar": [
           {
            "marker": {
             "line": {
              "color": "white",
              "width": 0.5
             },
             "pattern": {
              "fillmode": "overlay",
              "size": 10,
              "solidity": 0.2
             }
            },
            "type": "barpolar"
           }
          ],
          "carpet": [
           {
            "aaxis": {
             "endlinecolor": "#2a3f5f",
             "gridcolor": "#C8D4E3",
             "linecolor": "#C8D4E3",
             "minorgridcolor": "#C8D4E3",
             "startlinecolor": "#2a3f5f"
            },
            "baxis": {
             "endlinecolor": "#2a3f5f",
             "gridcolor": "#C8D4E3",
             "linecolor": "#C8D4E3",
             "minorgridcolor": "#C8D4E3",
             "startlinecolor": "#2a3f5f"
            },
            "type": "carpet"
           }
          ],
          "choropleth": [
           {
            "colorbar": {
             "outlinewidth": 0,
             "ticks": ""
            },
            "type": "choropleth"
           }
          ],
          "contour": [
           {
            "colorbar": {
             "outlinewidth": 0,
             "ticks": ""
            },
            "colorscale": [
             [
              0,
              "#0d0887"
             ],
             [
              0.1111111111111111,
              "#46039f"
             ],
             [
              0.2222222222222222,
              "#7201a8"
             ],
             [
              0.3333333333333333,
              "#9c179e"
             ],
             [
              0.4444444444444444,
              "#bd3786"
             ],
             [
              0.5555555555555556,
              "#d8576b"
             ],
             [
              0.6666666666666666,
              "#ed7953"
             ],
             [
              0.7777777777777778,
              "#fb9f3a"
             ],
             [
              0.8888888888888888,
              "#fdca26"
             ],
             [
              1,
              "#f0f921"
             ]
            ],
            "type": "contour"
           }
          ],
          "contourcarpet": [
           {
            "colorbar": {
             "outlinewidth": 0,
             "ticks": ""
            },
            "type": "contourcarpet"
           }
          ],
          "heatmap": [
           {
            "colorbar": {
             "outlinewidth": 0,
             "ticks": ""
            },
            "colorscale": [
             [
              0,
              "#0d0887"
             ],
             [
              0.1111111111111111,
              "#46039f"
             ],
             [
              0.2222222222222222,
              "#7201a8"
             ],
             [
              0.3333333333333333,
              "#9c179e"
             ],
             [
              0.4444444444444444,
              "#bd3786"
             ],
             [
              0.5555555555555556,
              "#d8576b"
             ],
             [
              0.6666666666666666,
              "#ed7953"
             ],
             [
              0.7777777777777778,
              "#fb9f3a"
             ],
             [
              0.8888888888888888,
              "#fdca26"
             ],
             [
              1,
              "#f0f921"
             ]
            ],
            "type": "heatmap"
           }
          ],
          "heatmapgl": [
           {
            "colorbar": {
             "outlinewidth": 0,
             "ticks": ""
            },
            "colorscale": [
             [
              0,
              "#0d0887"
             ],
             [
              0.1111111111111111,
              "#46039f"
             ],
             [
              0.2222222222222222,
              "#7201a8"
             ],
             [
              0.3333333333333333,
              "#9c179e"
             ],
             [
              0.4444444444444444,
              "#bd3786"
             ],
             [
              0.5555555555555556,
              "#d8576b"
             ],
             [
              0.6666666666666666,
              "#ed7953"
             ],
             [
              0.7777777777777778,
              "#fb9f3a"
             ],
             [
              0.8888888888888888,
              "#fdca26"
             ],
             [
              1,
              "#f0f921"
             ]
            ],
            "type": "heatmapgl"
           }
          ],
          "histogram": [
           {
            "marker": {
             "pattern": {
              "fillmode": "overlay",
              "size": 10,
              "solidity": 0.2
             }
            },
            "type": "histogram"
           }
          ],
          "histogram2d": [
           {
            "colorbar": {
             "outlinewidth": 0,
             "ticks": ""
            },
            "colorscale": [
             [
              0,
              "#0d0887"
             ],
             [
              0.1111111111111111,
              "#46039f"
             ],
             [
              0.2222222222222222,
              "#7201a8"
             ],
             [
              0.3333333333333333,
              "#9c179e"
             ],
             [
              0.4444444444444444,
              "#bd3786"
             ],
             [
              0.5555555555555556,
              "#d8576b"
             ],
             [
              0.6666666666666666,
              "#ed7953"
             ],
             [
              0.7777777777777778,
              "#fb9f3a"
             ],
             [
              0.8888888888888888,
              "#fdca26"
             ],
             [
              1,
              "#f0f921"
             ]
            ],
            "type": "histogram2d"
           }
          ],
          "histogram2dcontour": [
           {
            "colorbar": {
             "outlinewidth": 0,
             "ticks": ""
            },
            "colorscale": [
             [
              0,
              "#0d0887"
             ],
             [
              0.1111111111111111,
              "#46039f"
             ],
             [
              0.2222222222222222,
              "#7201a8"
             ],
             [
              0.3333333333333333,
              "#9c179e"
             ],
             [
              0.4444444444444444,
              "#bd3786"
             ],
             [
              0.5555555555555556,
              "#d8576b"
             ],
             [
              0.6666666666666666,
              "#ed7953"
             ],
             [
              0.7777777777777778,
              "#fb9f3a"
             ],
             [
              0.8888888888888888,
              "#fdca26"
             ],
             [
              1,
              "#f0f921"
             ]
            ],
            "type": "histogram2dcontour"
           }
          ],
          "mesh3d": [
           {
            "colorbar": {
             "outlinewidth": 0,
             "ticks": ""
            },
            "type": "mesh3d"
           }
          ],
          "parcoords": [
           {
            "line": {
             "colorbar": {
              "outlinewidth": 0,
              "ticks": ""
             }
            },
            "type": "parcoords"
           }
          ],
          "pie": [
           {
            "automargin": true,
            "type": "pie"
           }
          ],
          "scatter": [
           {
            "fillpattern": {
             "fillmode": "overlay",
             "size": 10,
             "solidity": 0.2
            },
            "type": "scatter"
           }
          ],
          "scatter3d": [
           {
            "line": {
             "colorbar": {
              "outlinewidth": 0,
              "ticks": ""
             }
            },
            "marker": {
             "colorbar": {
              "outlinewidth": 0,
              "ticks": ""
             }
            },
            "type": "scatter3d"
           }
          ],
          "scattercarpet": [
           {
            "marker": {
             "colorbar": {
              "outlinewidth": 0,
              "ticks": ""
             }
            },
            "type": "scattercarpet"
           }
          ],
          "scattergeo": [
           {
            "marker": {
             "colorbar": {
              "outlinewidth": 0,
              "ticks": ""
             }
            },
            "type": "scattergeo"
           }
          ],
          "scattergl": [
           {
            "marker": {
             "colorbar": {
              "outlinewidth": 0,
              "ticks": ""
             }
            },
            "type": "scattergl"
           }
          ],
          "scattermapbox": [
           {
            "marker": {
             "colorbar": {
              "outlinewidth": 0,
              "ticks": ""
             }
            },
            "type": "scattermapbox"
           }
          ],
          "scatterpolar": [
           {
            "marker": {
             "colorbar": {
              "outlinewidth": 0,
              "ticks": ""
             }
            },
            "type": "scatterpolar"
           }
          ],
          "scatterpolargl": [
           {
            "marker": {
             "colorbar": {
              "outlinewidth": 0,
              "ticks": ""
             }
            },
            "type": "scatterpolargl"
           }
          ],
          "scatterternary": [
           {
            "marker": {
             "colorbar": {
              "outlinewidth": 0,
              "ticks": ""
             }
            },
            "type": "scatterternary"
           }
          ],
          "surface": [
           {
            "colorbar": {
             "outlinewidth": 0,
             "ticks": ""
            },
            "colorscale": [
             [
              0,
              "#0d0887"
             ],
             [
              0.1111111111111111,
              "#46039f"
             ],
             [
              0.2222222222222222,
              "#7201a8"
             ],
             [
              0.3333333333333333,
              "#9c179e"
             ],
             [
              0.4444444444444444,
              "#bd3786"
             ],
             [
              0.5555555555555556,
              "#d8576b"
             ],
             [
              0.6666666666666666,
              "#ed7953"
             ],
             [
              0.7777777777777778,
              "#fb9f3a"
             ],
             [
              0.8888888888888888,
              "#fdca26"
             ],
             [
              1,
              "#f0f921"
             ]
            ],
            "type": "surface"
           }
          ],
          "table": [
           {
            "cells": {
             "fill": {
              "color": "#EBF0F8"
             },
             "line": {
              "color": "white"
             }
            },
            "header": {
             "fill": {
              "color": "#C8D4E3"
             },
             "line": {
              "color": "white"
             }
            },
            "type": "table"
           }
          ]
         },
         "layout": {
          "annotationdefaults": {
           "arrowcolor": "#2a3f5f",
           "arrowhead": 0,
           "arrowwidth": 1
          },
          "autotypenumbers": "strict",
          "coloraxis": {
           "colorbar": {
            "outlinewidth": 0,
            "ticks": ""
           }
          },
          "colorscale": {
           "diverging": [
            [
             0,
             "#8e0152"
            ],
            [
             0.1,
             "#c51b7d"
            ],
            [
             0.2,
             "#de77ae"
            ],
            [
             0.3,
             "#f1b6da"
            ],
            [
             0.4,
             "#fde0ef"
            ],
            [
             0.5,
             "#f7f7f7"
            ],
            [
             0.6,
             "#e6f5d0"
            ],
            [
             0.7,
             "#b8e186"
            ],
            [
             0.8,
             "#7fbc41"
            ],
            [
             0.9,
             "#4d9221"
            ],
            [
             1,
             "#276419"
            ]
           ],
           "sequential": [
            [
             0,
             "#0d0887"
            ],
            [
             0.1111111111111111,
             "#46039f"
            ],
            [
             0.2222222222222222,
             "#7201a8"
            ],
            [
             0.3333333333333333,
             "#9c179e"
            ],
            [
             0.4444444444444444,
             "#bd3786"
            ],
            [
             0.5555555555555556,
             "#d8576b"
            ],
            [
             0.6666666666666666,
             "#ed7953"
            ],
            [
             0.7777777777777778,
             "#fb9f3a"
            ],
            [
             0.8888888888888888,
             "#fdca26"
            ],
            [
             1,
             "#f0f921"
            ]
           ],
           "sequentialminus": [
            [
             0,
             "#0d0887"
            ],
            [
             0.1111111111111111,
             "#46039f"
            ],
            [
             0.2222222222222222,
             "#7201a8"
            ],
            [
             0.3333333333333333,
             "#9c179e"
            ],
            [
             0.4444444444444444,
             "#bd3786"
            ],
            [
             0.5555555555555556,
             "#d8576b"
            ],
            [
             0.6666666666666666,
             "#ed7953"
            ],
            [
             0.7777777777777778,
             "#fb9f3a"
            ],
            [
             0.8888888888888888,
             "#fdca26"
            ],
            [
             1,
             "#f0f921"
            ]
           ]
          },
          "colorway": [
           "#636efa",
           "#EF553B",
           "#00cc96",
           "#ab63fa",
           "#FFA15A",
           "#19d3f3",
           "#FF6692",
           "#B6E880",
           "#FF97FF",
           "#FECB52"
          ],
          "font": {
           "color": "#2a3f5f"
          },
          "geo": {
           "bgcolor": "white",
           "lakecolor": "white",
           "landcolor": "white",
           "showlakes": true,
           "showland": true,
           "subunitcolor": "#C8D4E3"
          },
          "hoverlabel": {
           "align": "left"
          },
          "hovermode": "closest",
          "mapbox": {
           "style": "light"
          },
          "paper_bgcolor": "white",
          "plot_bgcolor": "white",
          "polar": {
           "angularaxis": {
            "gridcolor": "#EBF0F8",
            "linecolor": "#EBF0F8",
            "ticks": ""
           },
           "bgcolor": "white",
           "radialaxis": {
            "gridcolor": "#EBF0F8",
            "linecolor": "#EBF0F8",
            "ticks": ""
           }
          },
          "scene": {
           "xaxis": {
            "backgroundcolor": "white",
            "gridcolor": "#DFE8F3",
            "gridwidth": 2,
            "linecolor": "#EBF0F8",
            "showbackground": true,
            "ticks": "",
            "zerolinecolor": "#EBF0F8"
           },
           "yaxis": {
            "backgroundcolor": "white",
            "gridcolor": "#DFE8F3",
            "gridwidth": 2,
            "linecolor": "#EBF0F8",
            "showbackground": true,
            "ticks": "",
            "zerolinecolor": "#EBF0F8"
           },
           "zaxis": {
            "backgroundcolor": "white",
            "gridcolor": "#DFE8F3",
            "gridwidth": 2,
            "linecolor": "#EBF0F8",
            "showbackground": true,
            "ticks": "",
            "zerolinecolor": "#EBF0F8"
           }
          },
          "shapedefaults": {
           "line": {
            "color": "#2a3f5f"
           }
          },
          "ternary": {
           "aaxis": {
            "gridcolor": "#DFE8F3",
            "linecolor": "#A2B1C6",
            "ticks": ""
           },
           "baxis": {
            "gridcolor": "#DFE8F3",
            "linecolor": "#A2B1C6",
            "ticks": ""
           },
           "bgcolor": "white",
           "caxis": {
            "gridcolor": "#DFE8F3",
            "linecolor": "#A2B1C6",
            "ticks": ""
           }
          },
          "title": {
           "x": 0.05
          },
          "xaxis": {
           "automargin": true,
           "gridcolor": "#EBF0F8",
           "linecolor": "#EBF0F8",
           "ticks": "",
           "title": {
            "standoff": 15
           },
           "zerolinecolor": "#EBF0F8",
           "zerolinewidth": 2
          },
          "yaxis": {
           "automargin": true,
           "gridcolor": "#EBF0F8",
           "linecolor": "#EBF0F8",
           "ticks": "",
           "title": {
            "standoff": 15
           },
           "zerolinecolor": "#EBF0F8",
           "zerolinewidth": 2
          }
         }
        },
        "title": {
         "text": "Media di wakeup_count per Month"
        },
        "width": 1000,
        "xaxis": {
         "title": {
          "text": "Mese"
         }
        },
        "yaxis": {
         "title": {
          "text": "wakeup_count"
         }
        }
       }
      }
     },
     "metadata": {},
     "output_type": "display_data"
    }
   ],
   "source": [
    "agg.plot_AggregatedData('wakeup_count', '2023-01-01', end_time, save_png=save)"
   ]
  },
  {
   "cell_type": "code",
   "execution_count": 16,
   "metadata": {},
   "outputs": [
    {
     "name": "stdout",
     "output_type": "stream",
     "text": [
      "Grafico salvato come PNG in: ../graphs/AggregatedData_wakeup_count_week_2023-01-01_2025-02-19.png\n"
     ]
    },
    {
     "data": {
      "application/vnd.plotly.v1+json": {
       "config": {
        "plotlyServerURL": "https://plot.ly"
       },
       "data": [
        {
         "marker": {
          "color": "orange"
         },
         "name": "Media",
         "type": "bar",
         "x": [
          "2024-09-16/2024-09-22",
          "2024-09-23/2024-09-29",
          "2024-09-30/2024-10-06",
          "2024-10-07/2024-10-13",
          "2024-10-14/2024-10-20",
          "2024-10-21/2024-10-27",
          "2024-10-28/2024-11-03",
          "2024-11-04/2024-11-10",
          "2024-11-11/2024-11-17",
          "2024-11-18/2024-11-24",
          "2024-11-25/2024-12-01",
          "2024-12-02/2024-12-08",
          "2024-12-09/2024-12-15",
          "2024-12-16/2024-12-22",
          "2024-12-23/2024-12-29",
          "2024-12-30/2025-01-05"
         ],
         "y": [
          1,
          4,
          3.7142857142857144,
          4.142857142857143,
          6.428571428571429,
          3.4285714285714284,
          2.2857142857142856,
          2.7142857142857144,
          2.2857142857142856,
          2.142857142857143,
          2,
          2.2,
          2.4285714285714284,
          1.2857142857142858,
          1.5714285714285714,
          1.5
         ]
        }
       ],
       "layout": {
        "height": 600,
        "showlegend": true,
        "template": {
         "data": {
          "bar": [
           {
            "error_x": {
             "color": "#2a3f5f"
            },
            "error_y": {
             "color": "#2a3f5f"
            },
            "marker": {
             "line": {
              "color": "white",
              "width": 0.5
             },
             "pattern": {
              "fillmode": "overlay",
              "size": 10,
              "solidity": 0.2
             }
            },
            "type": "bar"
           }
          ],
          "barpolar": [
           {
            "marker": {
             "line": {
              "color": "white",
              "width": 0.5
             },
             "pattern": {
              "fillmode": "overlay",
              "size": 10,
              "solidity": 0.2
             }
            },
            "type": "barpolar"
           }
          ],
          "carpet": [
           {
            "aaxis": {
             "endlinecolor": "#2a3f5f",
             "gridcolor": "#C8D4E3",
             "linecolor": "#C8D4E3",
             "minorgridcolor": "#C8D4E3",
             "startlinecolor": "#2a3f5f"
            },
            "baxis": {
             "endlinecolor": "#2a3f5f",
             "gridcolor": "#C8D4E3",
             "linecolor": "#C8D4E3",
             "minorgridcolor": "#C8D4E3",
             "startlinecolor": "#2a3f5f"
            },
            "type": "carpet"
           }
          ],
          "choropleth": [
           {
            "colorbar": {
             "outlinewidth": 0,
             "ticks": ""
            },
            "type": "choropleth"
           }
          ],
          "contour": [
           {
            "colorbar": {
             "outlinewidth": 0,
             "ticks": ""
            },
            "colorscale": [
             [
              0,
              "#0d0887"
             ],
             [
              0.1111111111111111,
              "#46039f"
             ],
             [
              0.2222222222222222,
              "#7201a8"
             ],
             [
              0.3333333333333333,
              "#9c179e"
             ],
             [
              0.4444444444444444,
              "#bd3786"
             ],
             [
              0.5555555555555556,
              "#d8576b"
             ],
             [
              0.6666666666666666,
              "#ed7953"
             ],
             [
              0.7777777777777778,
              "#fb9f3a"
             ],
             [
              0.8888888888888888,
              "#fdca26"
             ],
             [
              1,
              "#f0f921"
             ]
            ],
            "type": "contour"
           }
          ],
          "contourcarpet": [
           {
            "colorbar": {
             "outlinewidth": 0,
             "ticks": ""
            },
            "type": "contourcarpet"
           }
          ],
          "heatmap": [
           {
            "colorbar": {
             "outlinewidth": 0,
             "ticks": ""
            },
            "colorscale": [
             [
              0,
              "#0d0887"
             ],
             [
              0.1111111111111111,
              "#46039f"
             ],
             [
              0.2222222222222222,
              "#7201a8"
             ],
             [
              0.3333333333333333,
              "#9c179e"
             ],
             [
              0.4444444444444444,
              "#bd3786"
             ],
             [
              0.5555555555555556,
              "#d8576b"
             ],
             [
              0.6666666666666666,
              "#ed7953"
             ],
             [
              0.7777777777777778,
              "#fb9f3a"
             ],
             [
              0.8888888888888888,
              "#fdca26"
             ],
             [
              1,
              "#f0f921"
             ]
            ],
            "type": "heatmap"
           }
          ],
          "heatmapgl": [
           {
            "colorbar": {
             "outlinewidth": 0,
             "ticks": ""
            },
            "colorscale": [
             [
              0,
              "#0d0887"
             ],
             [
              0.1111111111111111,
              "#46039f"
             ],
             [
              0.2222222222222222,
              "#7201a8"
             ],
             [
              0.3333333333333333,
              "#9c179e"
             ],
             [
              0.4444444444444444,
              "#bd3786"
             ],
             [
              0.5555555555555556,
              "#d8576b"
             ],
             [
              0.6666666666666666,
              "#ed7953"
             ],
             [
              0.7777777777777778,
              "#fb9f3a"
             ],
             [
              0.8888888888888888,
              "#fdca26"
             ],
             [
              1,
              "#f0f921"
             ]
            ],
            "type": "heatmapgl"
           }
          ],
          "histogram": [
           {
            "marker": {
             "pattern": {
              "fillmode": "overlay",
              "size": 10,
              "solidity": 0.2
             }
            },
            "type": "histogram"
           }
          ],
          "histogram2d": [
           {
            "colorbar": {
             "outlinewidth": 0,
             "ticks": ""
            },
            "colorscale": [
             [
              0,
              "#0d0887"
             ],
             [
              0.1111111111111111,
              "#46039f"
             ],
             [
              0.2222222222222222,
              "#7201a8"
             ],
             [
              0.3333333333333333,
              "#9c179e"
             ],
             [
              0.4444444444444444,
              "#bd3786"
             ],
             [
              0.5555555555555556,
              "#d8576b"
             ],
             [
              0.6666666666666666,
              "#ed7953"
             ],
             [
              0.7777777777777778,
              "#fb9f3a"
             ],
             [
              0.8888888888888888,
              "#fdca26"
             ],
             [
              1,
              "#f0f921"
             ]
            ],
            "type": "histogram2d"
           }
          ],
          "histogram2dcontour": [
           {
            "colorbar": {
             "outlinewidth": 0,
             "ticks": ""
            },
            "colorscale": [
             [
              0,
              "#0d0887"
             ],
             [
              0.1111111111111111,
              "#46039f"
             ],
             [
              0.2222222222222222,
              "#7201a8"
             ],
             [
              0.3333333333333333,
              "#9c179e"
             ],
             [
              0.4444444444444444,
              "#bd3786"
             ],
             [
              0.5555555555555556,
              "#d8576b"
             ],
             [
              0.6666666666666666,
              "#ed7953"
             ],
             [
              0.7777777777777778,
              "#fb9f3a"
             ],
             [
              0.8888888888888888,
              "#fdca26"
             ],
             [
              1,
              "#f0f921"
             ]
            ],
            "type": "histogram2dcontour"
           }
          ],
          "mesh3d": [
           {
            "colorbar": {
             "outlinewidth": 0,
             "ticks": ""
            },
            "type": "mesh3d"
           }
          ],
          "parcoords": [
           {
            "line": {
             "colorbar": {
              "outlinewidth": 0,
              "ticks": ""
             }
            },
            "type": "parcoords"
           }
          ],
          "pie": [
           {
            "automargin": true,
            "type": "pie"
           }
          ],
          "scatter": [
           {
            "fillpattern": {
             "fillmode": "overlay",
             "size": 10,
             "solidity": 0.2
            },
            "type": "scatter"
           }
          ],
          "scatter3d": [
           {
            "line": {
             "colorbar": {
              "outlinewidth": 0,
              "ticks": ""
             }
            },
            "marker": {
             "colorbar": {
              "outlinewidth": 0,
              "ticks": ""
             }
            },
            "type": "scatter3d"
           }
          ],
          "scattercarpet": [
           {
            "marker": {
             "colorbar": {
              "outlinewidth": 0,
              "ticks": ""
             }
            },
            "type": "scattercarpet"
           }
          ],
          "scattergeo": [
           {
            "marker": {
             "colorbar": {
              "outlinewidth": 0,
              "ticks": ""
             }
            },
            "type": "scattergeo"
           }
          ],
          "scattergl": [
           {
            "marker": {
             "colorbar": {
              "outlinewidth": 0,
              "ticks": ""
             }
            },
            "type": "scattergl"
           }
          ],
          "scattermapbox": [
           {
            "marker": {
             "colorbar": {
              "outlinewidth": 0,
              "ticks": ""
             }
            },
            "type": "scattermapbox"
           }
          ],
          "scatterpolar": [
           {
            "marker": {
             "colorbar": {
              "outlinewidth": 0,
              "ticks": ""
             }
            },
            "type": "scatterpolar"
           }
          ],
          "scatterpolargl": [
           {
            "marker": {
             "colorbar": {
              "outlinewidth": 0,
              "ticks": ""
             }
            },
            "type": "scatterpolargl"
           }
          ],
          "scatterternary": [
           {
            "marker": {
             "colorbar": {
              "outlinewidth": 0,
              "ticks": ""
             }
            },
            "type": "scatterternary"
           }
          ],
          "surface": [
           {
            "colorbar": {
             "outlinewidth": 0,
             "ticks": ""
            },
            "colorscale": [
             [
              0,
              "#0d0887"
             ],
             [
              0.1111111111111111,
              "#46039f"
             ],
             [
              0.2222222222222222,
              "#7201a8"
             ],
             [
              0.3333333333333333,
              "#9c179e"
             ],
             [
              0.4444444444444444,
              "#bd3786"
             ],
             [
              0.5555555555555556,
              "#d8576b"
             ],
             [
              0.6666666666666666,
              "#ed7953"
             ],
             [
              0.7777777777777778,
              "#fb9f3a"
             ],
             [
              0.8888888888888888,
              "#fdca26"
             ],
             [
              1,
              "#f0f921"
             ]
            ],
            "type": "surface"
           }
          ],
          "table": [
           {
            "cells": {
             "fill": {
              "color": "#EBF0F8"
             },
             "line": {
              "color": "white"
             }
            },
            "header": {
             "fill": {
              "color": "#C8D4E3"
             },
             "line": {
              "color": "white"
             }
            },
            "type": "table"
           }
          ]
         },
         "layout": {
          "annotationdefaults": {
           "arrowcolor": "#2a3f5f",
           "arrowhead": 0,
           "arrowwidth": 1
          },
          "autotypenumbers": "strict",
          "coloraxis": {
           "colorbar": {
            "outlinewidth": 0,
            "ticks": ""
           }
          },
          "colorscale": {
           "diverging": [
            [
             0,
             "#8e0152"
            ],
            [
             0.1,
             "#c51b7d"
            ],
            [
             0.2,
             "#de77ae"
            ],
            [
             0.3,
             "#f1b6da"
            ],
            [
             0.4,
             "#fde0ef"
            ],
            [
             0.5,
             "#f7f7f7"
            ],
            [
             0.6,
             "#e6f5d0"
            ],
            [
             0.7,
             "#b8e186"
            ],
            [
             0.8,
             "#7fbc41"
            ],
            [
             0.9,
             "#4d9221"
            ],
            [
             1,
             "#276419"
            ]
           ],
           "sequential": [
            [
             0,
             "#0d0887"
            ],
            [
             0.1111111111111111,
             "#46039f"
            ],
            [
             0.2222222222222222,
             "#7201a8"
            ],
            [
             0.3333333333333333,
             "#9c179e"
            ],
            [
             0.4444444444444444,
             "#bd3786"
            ],
            [
             0.5555555555555556,
             "#d8576b"
            ],
            [
             0.6666666666666666,
             "#ed7953"
            ],
            [
             0.7777777777777778,
             "#fb9f3a"
            ],
            [
             0.8888888888888888,
             "#fdca26"
            ],
            [
             1,
             "#f0f921"
            ]
           ],
           "sequentialminus": [
            [
             0,
             "#0d0887"
            ],
            [
             0.1111111111111111,
             "#46039f"
            ],
            [
             0.2222222222222222,
             "#7201a8"
            ],
            [
             0.3333333333333333,
             "#9c179e"
            ],
            [
             0.4444444444444444,
             "#bd3786"
            ],
            [
             0.5555555555555556,
             "#d8576b"
            ],
            [
             0.6666666666666666,
             "#ed7953"
            ],
            [
             0.7777777777777778,
             "#fb9f3a"
            ],
            [
             0.8888888888888888,
             "#fdca26"
            ],
            [
             1,
             "#f0f921"
            ]
           ]
          },
          "colorway": [
           "#636efa",
           "#EF553B",
           "#00cc96",
           "#ab63fa",
           "#FFA15A",
           "#19d3f3",
           "#FF6692",
           "#B6E880",
           "#FF97FF",
           "#FECB52"
          ],
          "font": {
           "color": "#2a3f5f"
          },
          "geo": {
           "bgcolor": "white",
           "lakecolor": "white",
           "landcolor": "white",
           "showlakes": true,
           "showland": true,
           "subunitcolor": "#C8D4E3"
          },
          "hoverlabel": {
           "align": "left"
          },
          "hovermode": "closest",
          "mapbox": {
           "style": "light"
          },
          "paper_bgcolor": "white",
          "plot_bgcolor": "white",
          "polar": {
           "angularaxis": {
            "gridcolor": "#EBF0F8",
            "linecolor": "#EBF0F8",
            "ticks": ""
           },
           "bgcolor": "white",
           "radialaxis": {
            "gridcolor": "#EBF0F8",
            "linecolor": "#EBF0F8",
            "ticks": ""
           }
          },
          "scene": {
           "xaxis": {
            "backgroundcolor": "white",
            "gridcolor": "#DFE8F3",
            "gridwidth": 2,
            "linecolor": "#EBF0F8",
            "showbackground": true,
            "ticks": "",
            "zerolinecolor": "#EBF0F8"
           },
           "yaxis": {
            "backgroundcolor": "white",
            "gridcolor": "#DFE8F3",
            "gridwidth": 2,
            "linecolor": "#EBF0F8",
            "showbackground": true,
            "ticks": "",
            "zerolinecolor": "#EBF0F8"
           },
           "zaxis": {
            "backgroundcolor": "white",
            "gridcolor": "#DFE8F3",
            "gridwidth": 2,
            "linecolor": "#EBF0F8",
            "showbackground": true,
            "ticks": "",
            "zerolinecolor": "#EBF0F8"
           }
          },
          "shapedefaults": {
           "line": {
            "color": "#2a3f5f"
           }
          },
          "ternary": {
           "aaxis": {
            "gridcolor": "#DFE8F3",
            "linecolor": "#A2B1C6",
            "ticks": ""
           },
           "baxis": {
            "gridcolor": "#DFE8F3",
            "linecolor": "#A2B1C6",
            "ticks": ""
           },
           "bgcolor": "white",
           "caxis": {
            "gridcolor": "#DFE8F3",
            "linecolor": "#A2B1C6",
            "ticks": ""
           }
          },
          "title": {
           "x": 0.05
          },
          "xaxis": {
           "automargin": true,
           "gridcolor": "#EBF0F8",
           "linecolor": "#EBF0F8",
           "ticks": "",
           "title": {
            "standoff": 15
           },
           "zerolinecolor": "#EBF0F8",
           "zerolinewidth": 2
          },
          "yaxis": {
           "automargin": true,
           "gridcolor": "#EBF0F8",
           "linecolor": "#EBF0F8",
           "ticks": "",
           "title": {
            "standoff": 15
           },
           "zerolinecolor": "#EBF0F8",
           "zerolinewidth": 2
          }
         }
        },
        "title": {
         "text": "Media di wakeup_count per Week"
        },
        "width": 1000,
        "xaxis": {
         "title": {
          "text": "Settimana"
         }
        },
        "yaxis": {
         "title": {
          "text": "wakeup_count"
         }
        }
       }
      }
     },
     "metadata": {},
     "output_type": "display_data"
    }
   ],
   "source": [
    "agg.plot_AggregatedData('wakeup_count', '2023-01-01', end_time,'week', save_png=save)"
   ]
  },
  {
   "cell_type": "code",
   "execution_count": 17,
   "metadata": {},
   "outputs": [
    {
     "name": "stdout",
     "output_type": "stream",
     "text": [
      "Grafico salvato come PNG in: ../graphs/AggregatedData_total_sleep_time_month_2023-01-01_2025-02-19.png\n"
     ]
    },
    {
     "data": {
      "application/vnd.plotly.v1+json": {
       "config": {
        "plotlyServerURL": "https://plot.ly"
       },
       "data": [
        {
         "marker": {
          "color": "orange"
         },
         "name": "Media",
         "type": "bar",
         "x": [
          "2024-09",
          "2024-10",
          "2024-11",
          "2024-12"
         ],
         "y": [
          315.9,
          307.8064516129,
          458.23333333333335,
          443.03448275861666
         ]
        }
       ],
       "layout": {
        "height": 600,
        "showlegend": true,
        "template": {
         "data": {
          "bar": [
           {
            "error_x": {
             "color": "#2a3f5f"
            },
            "error_y": {
             "color": "#2a3f5f"
            },
            "marker": {
             "line": {
              "color": "white",
              "width": 0.5
             },
             "pattern": {
              "fillmode": "overlay",
              "size": 10,
              "solidity": 0.2
             }
            },
            "type": "bar"
           }
          ],
          "barpolar": [
           {
            "marker": {
             "line": {
              "color": "white",
              "width": 0.5
             },
             "pattern": {
              "fillmode": "overlay",
              "size": 10,
              "solidity": 0.2
             }
            },
            "type": "barpolar"
           }
          ],
          "carpet": [
           {
            "aaxis": {
             "endlinecolor": "#2a3f5f",
             "gridcolor": "#C8D4E3",
             "linecolor": "#C8D4E3",
             "minorgridcolor": "#C8D4E3",
             "startlinecolor": "#2a3f5f"
            },
            "baxis": {
             "endlinecolor": "#2a3f5f",
             "gridcolor": "#C8D4E3",
             "linecolor": "#C8D4E3",
             "minorgridcolor": "#C8D4E3",
             "startlinecolor": "#2a3f5f"
            },
            "type": "carpet"
           }
          ],
          "choropleth": [
           {
            "colorbar": {
             "outlinewidth": 0,
             "ticks": ""
            },
            "type": "choropleth"
           }
          ],
          "contour": [
           {
            "colorbar": {
             "outlinewidth": 0,
             "ticks": ""
            },
            "colorscale": [
             [
              0,
              "#0d0887"
             ],
             [
              0.1111111111111111,
              "#46039f"
             ],
             [
              0.2222222222222222,
              "#7201a8"
             ],
             [
              0.3333333333333333,
              "#9c179e"
             ],
             [
              0.4444444444444444,
              "#bd3786"
             ],
             [
              0.5555555555555556,
              "#d8576b"
             ],
             [
              0.6666666666666666,
              "#ed7953"
             ],
             [
              0.7777777777777778,
              "#fb9f3a"
             ],
             [
              0.8888888888888888,
              "#fdca26"
             ],
             [
              1,
              "#f0f921"
             ]
            ],
            "type": "contour"
           }
          ],
          "contourcarpet": [
           {
            "colorbar": {
             "outlinewidth": 0,
             "ticks": ""
            },
            "type": "contourcarpet"
           }
          ],
          "heatmap": [
           {
            "colorbar": {
             "outlinewidth": 0,
             "ticks": ""
            },
            "colorscale": [
             [
              0,
              "#0d0887"
             ],
             [
              0.1111111111111111,
              "#46039f"
             ],
             [
              0.2222222222222222,
              "#7201a8"
             ],
             [
              0.3333333333333333,
              "#9c179e"
             ],
             [
              0.4444444444444444,
              "#bd3786"
             ],
             [
              0.5555555555555556,
              "#d8576b"
             ],
             [
              0.6666666666666666,
              "#ed7953"
             ],
             [
              0.7777777777777778,
              "#fb9f3a"
             ],
             [
              0.8888888888888888,
              "#fdca26"
             ],
             [
              1,
              "#f0f921"
             ]
            ],
            "type": "heatmap"
           }
          ],
          "heatmapgl": [
           {
            "colorbar": {
             "outlinewidth": 0,
             "ticks": ""
            },
            "colorscale": [
             [
              0,
              "#0d0887"
             ],
             [
              0.1111111111111111,
              "#46039f"
             ],
             [
              0.2222222222222222,
              "#7201a8"
             ],
             [
              0.3333333333333333,
              "#9c179e"
             ],
             [
              0.4444444444444444,
              "#bd3786"
             ],
             [
              0.5555555555555556,
              "#d8576b"
             ],
             [
              0.6666666666666666,
              "#ed7953"
             ],
             [
              0.7777777777777778,
              "#fb9f3a"
             ],
             [
              0.8888888888888888,
              "#fdca26"
             ],
             [
              1,
              "#f0f921"
             ]
            ],
            "type": "heatmapgl"
           }
          ],
          "histogram": [
           {
            "marker": {
             "pattern": {
              "fillmode": "overlay",
              "size": 10,
              "solidity": 0.2
             }
            },
            "type": "histogram"
           }
          ],
          "histogram2d": [
           {
            "colorbar": {
             "outlinewidth": 0,
             "ticks": ""
            },
            "colorscale": [
             [
              0,
              "#0d0887"
             ],
             [
              0.1111111111111111,
              "#46039f"
             ],
             [
              0.2222222222222222,
              "#7201a8"
             ],
             [
              0.3333333333333333,
              "#9c179e"
             ],
             [
              0.4444444444444444,
              "#bd3786"
             ],
             [
              0.5555555555555556,
              "#d8576b"
             ],
             [
              0.6666666666666666,
              "#ed7953"
             ],
             [
              0.7777777777777778,
              "#fb9f3a"
             ],
             [
              0.8888888888888888,
              "#fdca26"
             ],
             [
              1,
              "#f0f921"
             ]
            ],
            "type": "histogram2d"
           }
          ],
          "histogram2dcontour": [
           {
            "colorbar": {
             "outlinewidth": 0,
             "ticks": ""
            },
            "colorscale": [
             [
              0,
              "#0d0887"
             ],
             [
              0.1111111111111111,
              "#46039f"
             ],
             [
              0.2222222222222222,
              "#7201a8"
             ],
             [
              0.3333333333333333,
              "#9c179e"
             ],
             [
              0.4444444444444444,
              "#bd3786"
             ],
             [
              0.5555555555555556,
              "#d8576b"
             ],
             [
              0.6666666666666666,
              "#ed7953"
             ],
             [
              0.7777777777777778,
              "#fb9f3a"
             ],
             [
              0.8888888888888888,
              "#fdca26"
             ],
             [
              1,
              "#f0f921"
             ]
            ],
            "type": "histogram2dcontour"
           }
          ],
          "mesh3d": [
           {
            "colorbar": {
             "outlinewidth": 0,
             "ticks": ""
            },
            "type": "mesh3d"
           }
          ],
          "parcoords": [
           {
            "line": {
             "colorbar": {
              "outlinewidth": 0,
              "ticks": ""
             }
            },
            "type": "parcoords"
           }
          ],
          "pie": [
           {
            "automargin": true,
            "type": "pie"
           }
          ],
          "scatter": [
           {
            "fillpattern": {
             "fillmode": "overlay",
             "size": 10,
             "solidity": 0.2
            },
            "type": "scatter"
           }
          ],
          "scatter3d": [
           {
            "line": {
             "colorbar": {
              "outlinewidth": 0,
              "ticks": ""
             }
            },
            "marker": {
             "colorbar": {
              "outlinewidth": 0,
              "ticks": ""
             }
            },
            "type": "scatter3d"
           }
          ],
          "scattercarpet": [
           {
            "marker": {
             "colorbar": {
              "outlinewidth": 0,
              "ticks": ""
             }
            },
            "type": "scattercarpet"
           }
          ],
          "scattergeo": [
           {
            "marker": {
             "colorbar": {
              "outlinewidth": 0,
              "ticks": ""
             }
            },
            "type": "scattergeo"
           }
          ],
          "scattergl": [
           {
            "marker": {
             "colorbar": {
              "outlinewidth": 0,
              "ticks": ""
             }
            },
            "type": "scattergl"
           }
          ],
          "scattermapbox": [
           {
            "marker": {
             "colorbar": {
              "outlinewidth": 0,
              "ticks": ""
             }
            },
            "type": "scattermapbox"
           }
          ],
          "scatterpolar": [
           {
            "marker": {
             "colorbar": {
              "outlinewidth": 0,
              "ticks": ""
             }
            },
            "type": "scatterpolar"
           }
          ],
          "scatterpolargl": [
           {
            "marker": {
             "colorbar": {
              "outlinewidth": 0,
              "ticks": ""
             }
            },
            "type": "scatterpolargl"
           }
          ],
          "scatterternary": [
           {
            "marker": {
             "colorbar": {
              "outlinewidth": 0,
              "ticks": ""
             }
            },
            "type": "scatterternary"
           }
          ],
          "surface": [
           {
            "colorbar": {
             "outlinewidth": 0,
             "ticks": ""
            },
            "colorscale": [
             [
              0,
              "#0d0887"
             ],
             [
              0.1111111111111111,
              "#46039f"
             ],
             [
              0.2222222222222222,
              "#7201a8"
             ],
             [
              0.3333333333333333,
              "#9c179e"
             ],
             [
              0.4444444444444444,
              "#bd3786"
             ],
             [
              0.5555555555555556,
              "#d8576b"
             ],
             [
              0.6666666666666666,
              "#ed7953"
             ],
             [
              0.7777777777777778,
              "#fb9f3a"
             ],
             [
              0.8888888888888888,
              "#fdca26"
             ],
             [
              1,
              "#f0f921"
             ]
            ],
            "type": "surface"
           }
          ],
          "table": [
           {
            "cells": {
             "fill": {
              "color": "#EBF0F8"
             },
             "line": {
              "color": "white"
             }
            },
            "header": {
             "fill": {
              "color": "#C8D4E3"
             },
             "line": {
              "color": "white"
             }
            },
            "type": "table"
           }
          ]
         },
         "layout": {
          "annotationdefaults": {
           "arrowcolor": "#2a3f5f",
           "arrowhead": 0,
           "arrowwidth": 1
          },
          "autotypenumbers": "strict",
          "coloraxis": {
           "colorbar": {
            "outlinewidth": 0,
            "ticks": ""
           }
          },
          "colorscale": {
           "diverging": [
            [
             0,
             "#8e0152"
            ],
            [
             0.1,
             "#c51b7d"
            ],
            [
             0.2,
             "#de77ae"
            ],
            [
             0.3,
             "#f1b6da"
            ],
            [
             0.4,
             "#fde0ef"
            ],
            [
             0.5,
             "#f7f7f7"
            ],
            [
             0.6,
             "#e6f5d0"
            ],
            [
             0.7,
             "#b8e186"
            ],
            [
             0.8,
             "#7fbc41"
            ],
            [
             0.9,
             "#4d9221"
            ],
            [
             1,
             "#276419"
            ]
           ],
           "sequential": [
            [
             0,
             "#0d0887"
            ],
            [
             0.1111111111111111,
             "#46039f"
            ],
            [
             0.2222222222222222,
             "#7201a8"
            ],
            [
             0.3333333333333333,
             "#9c179e"
            ],
            [
             0.4444444444444444,
             "#bd3786"
            ],
            [
             0.5555555555555556,
             "#d8576b"
            ],
            [
             0.6666666666666666,
             "#ed7953"
            ],
            [
             0.7777777777777778,
             "#fb9f3a"
            ],
            [
             0.8888888888888888,
             "#fdca26"
            ],
            [
             1,
             "#f0f921"
            ]
           ],
           "sequentialminus": [
            [
             0,
             "#0d0887"
            ],
            [
             0.1111111111111111,
             "#46039f"
            ],
            [
             0.2222222222222222,
             "#7201a8"
            ],
            [
             0.3333333333333333,
             "#9c179e"
            ],
            [
             0.4444444444444444,
             "#bd3786"
            ],
            [
             0.5555555555555556,
             "#d8576b"
            ],
            [
             0.6666666666666666,
             "#ed7953"
            ],
            [
             0.7777777777777778,
             "#fb9f3a"
            ],
            [
             0.8888888888888888,
             "#fdca26"
            ],
            [
             1,
             "#f0f921"
            ]
           ]
          },
          "colorway": [
           "#636efa",
           "#EF553B",
           "#00cc96",
           "#ab63fa",
           "#FFA15A",
           "#19d3f3",
           "#FF6692",
           "#B6E880",
           "#FF97FF",
           "#FECB52"
          ],
          "font": {
           "color": "#2a3f5f"
          },
          "geo": {
           "bgcolor": "white",
           "lakecolor": "white",
           "landcolor": "white",
           "showlakes": true,
           "showland": true,
           "subunitcolor": "#C8D4E3"
          },
          "hoverlabel": {
           "align": "left"
          },
          "hovermode": "closest",
          "mapbox": {
           "style": "light"
          },
          "paper_bgcolor": "white",
          "plot_bgcolor": "white",
          "polar": {
           "angularaxis": {
            "gridcolor": "#EBF0F8",
            "linecolor": "#EBF0F8",
            "ticks": ""
           },
           "bgcolor": "white",
           "radialaxis": {
            "gridcolor": "#EBF0F8",
            "linecolor": "#EBF0F8",
            "ticks": ""
           }
          },
          "scene": {
           "xaxis": {
            "backgroundcolor": "white",
            "gridcolor": "#DFE8F3",
            "gridwidth": 2,
            "linecolor": "#EBF0F8",
            "showbackground": true,
            "ticks": "",
            "zerolinecolor": "#EBF0F8"
           },
           "yaxis": {
            "backgroundcolor": "white",
            "gridcolor": "#DFE8F3",
            "gridwidth": 2,
            "linecolor": "#EBF0F8",
            "showbackground": true,
            "ticks": "",
            "zerolinecolor": "#EBF0F8"
           },
           "zaxis": {
            "backgroundcolor": "white",
            "gridcolor": "#DFE8F3",
            "gridwidth": 2,
            "linecolor": "#EBF0F8",
            "showbackground": true,
            "ticks": "",
            "zerolinecolor": "#EBF0F8"
           }
          },
          "shapedefaults": {
           "line": {
            "color": "#2a3f5f"
           }
          },
          "ternary": {
           "aaxis": {
            "gridcolor": "#DFE8F3",
            "linecolor": "#A2B1C6",
            "ticks": ""
           },
           "baxis": {
            "gridcolor": "#DFE8F3",
            "linecolor": "#A2B1C6",
            "ticks": ""
           },
           "bgcolor": "white",
           "caxis": {
            "gridcolor": "#DFE8F3",
            "linecolor": "#A2B1C6",
            "ticks": ""
           }
          },
          "title": {
           "x": 0.05
          },
          "xaxis": {
           "automargin": true,
           "gridcolor": "#EBF0F8",
           "linecolor": "#EBF0F8",
           "ticks": "",
           "title": {
            "standoff": 15
           },
           "zerolinecolor": "#EBF0F8",
           "zerolinewidth": 2
          },
          "yaxis": {
           "automargin": true,
           "gridcolor": "#EBF0F8",
           "linecolor": "#EBF0F8",
           "ticks": "",
           "title": {
            "standoff": 15
           },
           "zerolinecolor": "#EBF0F8",
           "zerolinewidth": 2
          }
         }
        },
        "title": {
         "text": "Media di total_sleep_time per Month"
        },
        "width": 1000,
        "xaxis": {
         "title": {
          "text": "Mese"
         }
        },
        "yaxis": {
         "title": {
          "text": "total_sleep_time (Minutes)"
         }
        }
       }
      }
     },
     "metadata": {},
     "output_type": "display_data"
    }
   ],
   "source": [
    "agg.plot_AggregatedData('total_sleep_time', '2023-01-01', end_time, save_png=save)"
   ]
  },
  {
   "cell_type": "code",
   "execution_count": 18,
   "metadata": {},
   "outputs": [
    {
     "name": "stdout",
     "output_type": "stream",
     "text": [
      "Grafico salvato come PNG in: ../graphs/AggregatedData_total_sleep_time_week_2023-01-01_2025-02-19.png\n"
     ]
    },
    {
     "data": {
      "application/vnd.plotly.v1+json": {
       "config": {
        "plotlyServerURL": "https://plot.ly"
       },
       "data": [
        {
         "marker": {
          "color": "orange"
         },
         "name": "Media",
         "type": "bar",
         "x": [
          "2024-09-16/2024-09-22",
          "2024-09-23/2024-09-29",
          "2024-09-30/2024-10-06",
          "2024-10-07/2024-10-13",
          "2024-10-14/2024-10-20",
          "2024-10-21/2024-10-27",
          "2024-10-28/2024-11-03",
          "2024-11-04/2024-11-10",
          "2024-11-11/2024-11-17",
          "2024-11-18/2024-11-24",
          "2024-11-25/2024-12-01",
          "2024-12-02/2024-12-08",
          "2024-12-09/2024-12-15",
          "2024-12-16/2024-12-22",
          "2024-12-23/2024-12-29",
          "2024-12-30/2025-01-05"
         ],
         "y": [
          428,
          301.85714285713334,
          188.2857142857,
          272.5714285714167,
          335.42857142856667,
          361.2857142857,
          420.85714285713334,
          420.14285714284995,
          410,
          515.7142857142833,
          492.14285714284995,
          460.2,
          422.42857142856667,
          446,
          447.85714285713334,
          448.5
         ]
        }
       ],
       "layout": {
        "height": 600,
        "showlegend": true,
        "template": {
         "data": {
          "bar": [
           {
            "error_x": {
             "color": "#2a3f5f"
            },
            "error_y": {
             "color": "#2a3f5f"
            },
            "marker": {
             "line": {
              "color": "white",
              "width": 0.5
             },
             "pattern": {
              "fillmode": "overlay",
              "size": 10,
              "solidity": 0.2
             }
            },
            "type": "bar"
           }
          ],
          "barpolar": [
           {
            "marker": {
             "line": {
              "color": "white",
              "width": 0.5
             },
             "pattern": {
              "fillmode": "overlay",
              "size": 10,
              "solidity": 0.2
             }
            },
            "type": "barpolar"
           }
          ],
          "carpet": [
           {
            "aaxis": {
             "endlinecolor": "#2a3f5f",
             "gridcolor": "#C8D4E3",
             "linecolor": "#C8D4E3",
             "minorgridcolor": "#C8D4E3",
             "startlinecolor": "#2a3f5f"
            },
            "baxis": {
             "endlinecolor": "#2a3f5f",
             "gridcolor": "#C8D4E3",
             "linecolor": "#C8D4E3",
             "minorgridcolor": "#C8D4E3",
             "startlinecolor": "#2a3f5f"
            },
            "type": "carpet"
           }
          ],
          "choropleth": [
           {
            "colorbar": {
             "outlinewidth": 0,
             "ticks": ""
            },
            "type": "choropleth"
           }
          ],
          "contour": [
           {
            "colorbar": {
             "outlinewidth": 0,
             "ticks": ""
            },
            "colorscale": [
             [
              0,
              "#0d0887"
             ],
             [
              0.1111111111111111,
              "#46039f"
             ],
             [
              0.2222222222222222,
              "#7201a8"
             ],
             [
              0.3333333333333333,
              "#9c179e"
             ],
             [
              0.4444444444444444,
              "#bd3786"
             ],
             [
              0.5555555555555556,
              "#d8576b"
             ],
             [
              0.6666666666666666,
              "#ed7953"
             ],
             [
              0.7777777777777778,
              "#fb9f3a"
             ],
             [
              0.8888888888888888,
              "#fdca26"
             ],
             [
              1,
              "#f0f921"
             ]
            ],
            "type": "contour"
           }
          ],
          "contourcarpet": [
           {
            "colorbar": {
             "outlinewidth": 0,
             "ticks": ""
            },
            "type": "contourcarpet"
           }
          ],
          "heatmap": [
           {
            "colorbar": {
             "outlinewidth": 0,
             "ticks": ""
            },
            "colorscale": [
             [
              0,
              "#0d0887"
             ],
             [
              0.1111111111111111,
              "#46039f"
             ],
             [
              0.2222222222222222,
              "#7201a8"
             ],
             [
              0.3333333333333333,
              "#9c179e"
             ],
             [
              0.4444444444444444,
              "#bd3786"
             ],
             [
              0.5555555555555556,
              "#d8576b"
             ],
             [
              0.6666666666666666,
              "#ed7953"
             ],
             [
              0.7777777777777778,
              "#fb9f3a"
             ],
             [
              0.8888888888888888,
              "#fdca26"
             ],
             [
              1,
              "#f0f921"
             ]
            ],
            "type": "heatmap"
           }
          ],
          "heatmapgl": [
           {
            "colorbar": {
             "outlinewidth": 0,
             "ticks": ""
            },
            "colorscale": [
             [
              0,
              "#0d0887"
             ],
             [
              0.1111111111111111,
              "#46039f"
             ],
             [
              0.2222222222222222,
              "#7201a8"
             ],
             [
              0.3333333333333333,
              "#9c179e"
             ],
             [
              0.4444444444444444,
              "#bd3786"
             ],
             [
              0.5555555555555556,
              "#d8576b"
             ],
             [
              0.6666666666666666,
              "#ed7953"
             ],
             [
              0.7777777777777778,
              "#fb9f3a"
             ],
             [
              0.8888888888888888,
              "#fdca26"
             ],
             [
              1,
              "#f0f921"
             ]
            ],
            "type": "heatmapgl"
           }
          ],
          "histogram": [
           {
            "marker": {
             "pattern": {
              "fillmode": "overlay",
              "size": 10,
              "solidity": 0.2
             }
            },
            "type": "histogram"
           }
          ],
          "histogram2d": [
           {
            "colorbar": {
             "outlinewidth": 0,
             "ticks": ""
            },
            "colorscale": [
             [
              0,
              "#0d0887"
             ],
             [
              0.1111111111111111,
              "#46039f"
             ],
             [
              0.2222222222222222,
              "#7201a8"
             ],
             [
              0.3333333333333333,
              "#9c179e"
             ],
             [
              0.4444444444444444,
              "#bd3786"
             ],
             [
              0.5555555555555556,
              "#d8576b"
             ],
             [
              0.6666666666666666,
              "#ed7953"
             ],
             [
              0.7777777777777778,
              "#fb9f3a"
             ],
             [
              0.8888888888888888,
              "#fdca26"
             ],
             [
              1,
              "#f0f921"
             ]
            ],
            "type": "histogram2d"
           }
          ],
          "histogram2dcontour": [
           {
            "colorbar": {
             "outlinewidth": 0,
             "ticks": ""
            },
            "colorscale": [
             [
              0,
              "#0d0887"
             ],
             [
              0.1111111111111111,
              "#46039f"
             ],
             [
              0.2222222222222222,
              "#7201a8"
             ],
             [
              0.3333333333333333,
              "#9c179e"
             ],
             [
              0.4444444444444444,
              "#bd3786"
             ],
             [
              0.5555555555555556,
              "#d8576b"
             ],
             [
              0.6666666666666666,
              "#ed7953"
             ],
             [
              0.7777777777777778,
              "#fb9f3a"
             ],
             [
              0.8888888888888888,
              "#fdca26"
             ],
             [
              1,
              "#f0f921"
             ]
            ],
            "type": "histogram2dcontour"
           }
          ],
          "mesh3d": [
           {
            "colorbar": {
             "outlinewidth": 0,
             "ticks": ""
            },
            "type": "mesh3d"
           }
          ],
          "parcoords": [
           {
            "line": {
             "colorbar": {
              "outlinewidth": 0,
              "ticks": ""
             }
            },
            "type": "parcoords"
           }
          ],
          "pie": [
           {
            "automargin": true,
            "type": "pie"
           }
          ],
          "scatter": [
           {
            "fillpattern": {
             "fillmode": "overlay",
             "size": 10,
             "solidity": 0.2
            },
            "type": "scatter"
           }
          ],
          "scatter3d": [
           {
            "line": {
             "colorbar": {
              "outlinewidth": 0,
              "ticks": ""
             }
            },
            "marker": {
             "colorbar": {
              "outlinewidth": 0,
              "ticks": ""
             }
            },
            "type": "scatter3d"
           }
          ],
          "scattercarpet": [
           {
            "marker": {
             "colorbar": {
              "outlinewidth": 0,
              "ticks": ""
             }
            },
            "type": "scattercarpet"
           }
          ],
          "scattergeo": [
           {
            "marker": {
             "colorbar": {
              "outlinewidth": 0,
              "ticks": ""
             }
            },
            "type": "scattergeo"
           }
          ],
          "scattergl": [
           {
            "marker": {
             "colorbar": {
              "outlinewidth": 0,
              "ticks": ""
             }
            },
            "type": "scattergl"
           }
          ],
          "scattermapbox": [
           {
            "marker": {
             "colorbar": {
              "outlinewidth": 0,
              "ticks": ""
             }
            },
            "type": "scattermapbox"
           }
          ],
          "scatterpolar": [
           {
            "marker": {
             "colorbar": {
              "outlinewidth": 0,
              "ticks": ""
             }
            },
            "type": "scatterpolar"
           }
          ],
          "scatterpolargl": [
           {
            "marker": {
             "colorbar": {
              "outlinewidth": 0,
              "ticks": ""
             }
            },
            "type": "scatterpolargl"
           }
          ],
          "scatterternary": [
           {
            "marker": {
             "colorbar": {
              "outlinewidth": 0,
              "ticks": ""
             }
            },
            "type": "scatterternary"
           }
          ],
          "surface": [
           {
            "colorbar": {
             "outlinewidth": 0,
             "ticks": ""
            },
            "colorscale": [
             [
              0,
              "#0d0887"
             ],
             [
              0.1111111111111111,
              "#46039f"
             ],
             [
              0.2222222222222222,
              "#7201a8"
             ],
             [
              0.3333333333333333,
              "#9c179e"
             ],
             [
              0.4444444444444444,
              "#bd3786"
             ],
             [
              0.5555555555555556,
              "#d8576b"
             ],
             [
              0.6666666666666666,
              "#ed7953"
             ],
             [
              0.7777777777777778,
              "#fb9f3a"
             ],
             [
              0.8888888888888888,
              "#fdca26"
             ],
             [
              1,
              "#f0f921"
             ]
            ],
            "type": "surface"
           }
          ],
          "table": [
           {
            "cells": {
             "fill": {
              "color": "#EBF0F8"
             },
             "line": {
              "color": "white"
             }
            },
            "header": {
             "fill": {
              "color": "#C8D4E3"
             },
             "line": {
              "color": "white"
             }
            },
            "type": "table"
           }
          ]
         },
         "layout": {
          "annotationdefaults": {
           "arrowcolor": "#2a3f5f",
           "arrowhead": 0,
           "arrowwidth": 1
          },
          "autotypenumbers": "strict",
          "coloraxis": {
           "colorbar": {
            "outlinewidth": 0,
            "ticks": ""
           }
          },
          "colorscale": {
           "diverging": [
            [
             0,
             "#8e0152"
            ],
            [
             0.1,
             "#c51b7d"
            ],
            [
             0.2,
             "#de77ae"
            ],
            [
             0.3,
             "#f1b6da"
            ],
            [
             0.4,
             "#fde0ef"
            ],
            [
             0.5,
             "#f7f7f7"
            ],
            [
             0.6,
             "#e6f5d0"
            ],
            [
             0.7,
             "#b8e186"
            ],
            [
             0.8,
             "#7fbc41"
            ],
            [
             0.9,
             "#4d9221"
            ],
            [
             1,
             "#276419"
            ]
           ],
           "sequential": [
            [
             0,
             "#0d0887"
            ],
            [
             0.1111111111111111,
             "#46039f"
            ],
            [
             0.2222222222222222,
             "#7201a8"
            ],
            [
             0.3333333333333333,
             "#9c179e"
            ],
            [
             0.4444444444444444,
             "#bd3786"
            ],
            [
             0.5555555555555556,
             "#d8576b"
            ],
            [
             0.6666666666666666,
             "#ed7953"
            ],
            [
             0.7777777777777778,
             "#fb9f3a"
            ],
            [
             0.8888888888888888,
             "#fdca26"
            ],
            [
             1,
             "#f0f921"
            ]
           ],
           "sequentialminus": [
            [
             0,
             "#0d0887"
            ],
            [
             0.1111111111111111,
             "#46039f"
            ],
            [
             0.2222222222222222,
             "#7201a8"
            ],
            [
             0.3333333333333333,
             "#9c179e"
            ],
            [
             0.4444444444444444,
             "#bd3786"
            ],
            [
             0.5555555555555556,
             "#d8576b"
            ],
            [
             0.6666666666666666,
             "#ed7953"
            ],
            [
             0.7777777777777778,
             "#fb9f3a"
            ],
            [
             0.8888888888888888,
             "#fdca26"
            ],
            [
             1,
             "#f0f921"
            ]
           ]
          },
          "colorway": [
           "#636efa",
           "#EF553B",
           "#00cc96",
           "#ab63fa",
           "#FFA15A",
           "#19d3f3",
           "#FF6692",
           "#B6E880",
           "#FF97FF",
           "#FECB52"
          ],
          "font": {
           "color": "#2a3f5f"
          },
          "geo": {
           "bgcolor": "white",
           "lakecolor": "white",
           "landcolor": "white",
           "showlakes": true,
           "showland": true,
           "subunitcolor": "#C8D4E3"
          },
          "hoverlabel": {
           "align": "left"
          },
          "hovermode": "closest",
          "mapbox": {
           "style": "light"
          },
          "paper_bgcolor": "white",
          "plot_bgcolor": "white",
          "polar": {
           "angularaxis": {
            "gridcolor": "#EBF0F8",
            "linecolor": "#EBF0F8",
            "ticks": ""
           },
           "bgcolor": "white",
           "radialaxis": {
            "gridcolor": "#EBF0F8",
            "linecolor": "#EBF0F8",
            "ticks": ""
           }
          },
          "scene": {
           "xaxis": {
            "backgroundcolor": "white",
            "gridcolor": "#DFE8F3",
            "gridwidth": 2,
            "linecolor": "#EBF0F8",
            "showbackground": true,
            "ticks": "",
            "zerolinecolor": "#EBF0F8"
           },
           "yaxis": {
            "backgroundcolor": "white",
            "gridcolor": "#DFE8F3",
            "gridwidth": 2,
            "linecolor": "#EBF0F8",
            "showbackground": true,
            "ticks": "",
            "zerolinecolor": "#EBF0F8"
           },
           "zaxis": {
            "backgroundcolor": "white",
            "gridcolor": "#DFE8F3",
            "gridwidth": 2,
            "linecolor": "#EBF0F8",
            "showbackground": true,
            "ticks": "",
            "zerolinecolor": "#EBF0F8"
           }
          },
          "shapedefaults": {
           "line": {
            "color": "#2a3f5f"
           }
          },
          "ternary": {
           "aaxis": {
            "gridcolor": "#DFE8F3",
            "linecolor": "#A2B1C6",
            "ticks": ""
           },
           "baxis": {
            "gridcolor": "#DFE8F3",
            "linecolor": "#A2B1C6",
            "ticks": ""
           },
           "bgcolor": "white",
           "caxis": {
            "gridcolor": "#DFE8F3",
            "linecolor": "#A2B1C6",
            "ticks": ""
           }
          },
          "title": {
           "x": 0.05
          },
          "xaxis": {
           "automargin": true,
           "gridcolor": "#EBF0F8",
           "linecolor": "#EBF0F8",
           "ticks": "",
           "title": {
            "standoff": 15
           },
           "zerolinecolor": "#EBF0F8",
           "zerolinewidth": 2
          },
          "yaxis": {
           "automargin": true,
           "gridcolor": "#EBF0F8",
           "linecolor": "#EBF0F8",
           "ticks": "",
           "title": {
            "standoff": 15
           },
           "zerolinecolor": "#EBF0F8",
           "zerolinewidth": 2
          }
         }
        },
        "title": {
         "text": "Media di total_sleep_time per Week"
        },
        "width": 1000,
        "xaxis": {
         "title": {
          "text": "Settimana"
         }
        },
        "yaxis": {
         "title": {
          "text": "total_sleep_time (Minutes)"
         }
        }
       }
      }
     },
     "metadata": {},
     "output_type": "display_data"
    }
   ],
   "source": [
    "agg.plot_AggregatedData('total_sleep_time', '2023-01-01', end_time, 'week', save_png=save)"
   ]
  },
  {
   "cell_type": "code",
   "execution_count": 19,
   "metadata": {},
   "outputs": [
    {
     "name": "stdout",
     "output_type": "stream",
     "text": [
      "Grafico salvato come PNG in: ../graphs/SleepStates_month_2023-01-01_2025-02-19.png\n"
     ]
    },
    {
     "data": {
      "application/vnd.plotly.v1+json": {
       "config": {
        "plotlyServerURL": "https://plot.ly"
       },
       "data": [
        {
         "marker": {
          "color": "skyblue"
         },
         "name": "Light Sleep",
         "type": "bar",
         "x": [
          "2024-09",
          "2024-10",
          "2024-11",
          "2024-12"
         ],
         "y": [
          1978,
          5640,
          6213,
          4817
         ]
        },
        {
         "marker": {
          "color": "orange"
         },
         "name": "REM Sleep",
         "type": "bar",
         "x": [
          "2024-09",
          "2024-10",
          "2024-11",
          "2024-12"
         ],
         "y": [
          403.42857142856667,
          1102.7142857142833,
          2412.857142857133,
          2756.857142857133
         ]
        },
        {
         "marker": {
          "color": "purple"
         },
         "name": "Deep Sleep",
         "type": "bar",
         "x": [
          "2024-09",
          "2024-10",
          "2024-11",
          "2024-12"
         ],
         "y": [
          955,
          3030,
          5815,
          5788
         ]
        }
       ],
       "layout": {
        "barmode": "stack",
        "height": 600,
        "template": {
         "data": {
          "bar": [
           {
            "error_x": {
             "color": "#2a3f5f"
            },
            "error_y": {
             "color": "#2a3f5f"
            },
            "marker": {
             "line": {
              "color": "white",
              "width": 0.5
             },
             "pattern": {
              "fillmode": "overlay",
              "size": 10,
              "solidity": 0.2
             }
            },
            "type": "bar"
           }
          ],
          "barpolar": [
           {
            "marker": {
             "line": {
              "color": "white",
              "width": 0.5
             },
             "pattern": {
              "fillmode": "overlay",
              "size": 10,
              "solidity": 0.2
             }
            },
            "type": "barpolar"
           }
          ],
          "carpet": [
           {
            "aaxis": {
             "endlinecolor": "#2a3f5f",
             "gridcolor": "#C8D4E3",
             "linecolor": "#C8D4E3",
             "minorgridcolor": "#C8D4E3",
             "startlinecolor": "#2a3f5f"
            },
            "baxis": {
             "endlinecolor": "#2a3f5f",
             "gridcolor": "#C8D4E3",
             "linecolor": "#C8D4E3",
             "minorgridcolor": "#C8D4E3",
             "startlinecolor": "#2a3f5f"
            },
            "type": "carpet"
           }
          ],
          "choropleth": [
           {
            "colorbar": {
             "outlinewidth": 0,
             "ticks": ""
            },
            "type": "choropleth"
           }
          ],
          "contour": [
           {
            "colorbar": {
             "outlinewidth": 0,
             "ticks": ""
            },
            "colorscale": [
             [
              0,
              "#0d0887"
             ],
             [
              0.1111111111111111,
              "#46039f"
             ],
             [
              0.2222222222222222,
              "#7201a8"
             ],
             [
              0.3333333333333333,
              "#9c179e"
             ],
             [
              0.4444444444444444,
              "#bd3786"
             ],
             [
              0.5555555555555556,
              "#d8576b"
             ],
             [
              0.6666666666666666,
              "#ed7953"
             ],
             [
              0.7777777777777778,
              "#fb9f3a"
             ],
             [
              0.8888888888888888,
              "#fdca26"
             ],
             [
              1,
              "#f0f921"
             ]
            ],
            "type": "contour"
           }
          ],
          "contourcarpet": [
           {
            "colorbar": {
             "outlinewidth": 0,
             "ticks": ""
            },
            "type": "contourcarpet"
           }
          ],
          "heatmap": [
           {
            "colorbar": {
             "outlinewidth": 0,
             "ticks": ""
            },
            "colorscale": [
             [
              0,
              "#0d0887"
             ],
             [
              0.1111111111111111,
              "#46039f"
             ],
             [
              0.2222222222222222,
              "#7201a8"
             ],
             [
              0.3333333333333333,
              "#9c179e"
             ],
             [
              0.4444444444444444,
              "#bd3786"
             ],
             [
              0.5555555555555556,
              "#d8576b"
             ],
             [
              0.6666666666666666,
              "#ed7953"
             ],
             [
              0.7777777777777778,
              "#fb9f3a"
             ],
             [
              0.8888888888888888,
              "#fdca26"
             ],
             [
              1,
              "#f0f921"
             ]
            ],
            "type": "heatmap"
           }
          ],
          "heatmapgl": [
           {
            "colorbar": {
             "outlinewidth": 0,
             "ticks": ""
            },
            "colorscale": [
             [
              0,
              "#0d0887"
             ],
             [
              0.1111111111111111,
              "#46039f"
             ],
             [
              0.2222222222222222,
              "#7201a8"
             ],
             [
              0.3333333333333333,
              "#9c179e"
             ],
             [
              0.4444444444444444,
              "#bd3786"
             ],
             [
              0.5555555555555556,
              "#d8576b"
             ],
             [
              0.6666666666666666,
              "#ed7953"
             ],
             [
              0.7777777777777778,
              "#fb9f3a"
             ],
             [
              0.8888888888888888,
              "#fdca26"
             ],
             [
              1,
              "#f0f921"
             ]
            ],
            "type": "heatmapgl"
           }
          ],
          "histogram": [
           {
            "marker": {
             "pattern": {
              "fillmode": "overlay",
              "size": 10,
              "solidity": 0.2
             }
            },
            "type": "histogram"
           }
          ],
          "histogram2d": [
           {
            "colorbar": {
             "outlinewidth": 0,
             "ticks": ""
            },
            "colorscale": [
             [
              0,
              "#0d0887"
             ],
             [
              0.1111111111111111,
              "#46039f"
             ],
             [
              0.2222222222222222,
              "#7201a8"
             ],
             [
              0.3333333333333333,
              "#9c179e"
             ],
             [
              0.4444444444444444,
              "#bd3786"
             ],
             [
              0.5555555555555556,
              "#d8576b"
             ],
             [
              0.6666666666666666,
              "#ed7953"
             ],
             [
              0.7777777777777778,
              "#fb9f3a"
             ],
             [
              0.8888888888888888,
              "#fdca26"
             ],
             [
              1,
              "#f0f921"
             ]
            ],
            "type": "histogram2d"
           }
          ],
          "histogram2dcontour": [
           {
            "colorbar": {
             "outlinewidth": 0,
             "ticks": ""
            },
            "colorscale": [
             [
              0,
              "#0d0887"
             ],
             [
              0.1111111111111111,
              "#46039f"
             ],
             [
              0.2222222222222222,
              "#7201a8"
             ],
             [
              0.3333333333333333,
              "#9c179e"
             ],
             [
              0.4444444444444444,
              "#bd3786"
             ],
             [
              0.5555555555555556,
              "#d8576b"
             ],
             [
              0.6666666666666666,
              "#ed7953"
             ],
             [
              0.7777777777777778,
              "#fb9f3a"
             ],
             [
              0.8888888888888888,
              "#fdca26"
             ],
             [
              1,
              "#f0f921"
             ]
            ],
            "type": "histogram2dcontour"
           }
          ],
          "mesh3d": [
           {
            "colorbar": {
             "outlinewidth": 0,
             "ticks": ""
            },
            "type": "mesh3d"
           }
          ],
          "parcoords": [
           {
            "line": {
             "colorbar": {
              "outlinewidth": 0,
              "ticks": ""
             }
            },
            "type": "parcoords"
           }
          ],
          "pie": [
           {
            "automargin": true,
            "type": "pie"
           }
          ],
          "scatter": [
           {
            "fillpattern": {
             "fillmode": "overlay",
             "size": 10,
             "solidity": 0.2
            },
            "type": "scatter"
           }
          ],
          "scatter3d": [
           {
            "line": {
             "colorbar": {
              "outlinewidth": 0,
              "ticks": ""
             }
            },
            "marker": {
             "colorbar": {
              "outlinewidth": 0,
              "ticks": ""
             }
            },
            "type": "scatter3d"
           }
          ],
          "scattercarpet": [
           {
            "marker": {
             "colorbar": {
              "outlinewidth": 0,
              "ticks": ""
             }
            },
            "type": "scattercarpet"
           }
          ],
          "scattergeo": [
           {
            "marker": {
             "colorbar": {
              "outlinewidth": 0,
              "ticks": ""
             }
            },
            "type": "scattergeo"
           }
          ],
          "scattergl": [
           {
            "marker": {
             "colorbar": {
              "outlinewidth": 0,
              "ticks": ""
             }
            },
            "type": "scattergl"
           }
          ],
          "scattermapbox": [
           {
            "marker": {
             "colorbar": {
              "outlinewidth": 0,
              "ticks": ""
             }
            },
            "type": "scattermapbox"
           }
          ],
          "scatterpolar": [
           {
            "marker": {
             "colorbar": {
              "outlinewidth": 0,
              "ticks": ""
             }
            },
            "type": "scatterpolar"
           }
          ],
          "scatterpolargl": [
           {
            "marker": {
             "colorbar": {
              "outlinewidth": 0,
              "ticks": ""
             }
            },
            "type": "scatterpolargl"
           }
          ],
          "scatterternary": [
           {
            "marker": {
             "colorbar": {
              "outlinewidth": 0,
              "ticks": ""
             }
            },
            "type": "scatterternary"
           }
          ],
          "surface": [
           {
            "colorbar": {
             "outlinewidth": 0,
             "ticks": ""
            },
            "colorscale": [
             [
              0,
              "#0d0887"
             ],
             [
              0.1111111111111111,
              "#46039f"
             ],
             [
              0.2222222222222222,
              "#7201a8"
             ],
             [
              0.3333333333333333,
              "#9c179e"
             ],
             [
              0.4444444444444444,
              "#bd3786"
             ],
             [
              0.5555555555555556,
              "#d8576b"
             ],
             [
              0.6666666666666666,
              "#ed7953"
             ],
             [
              0.7777777777777778,
              "#fb9f3a"
             ],
             [
              0.8888888888888888,
              "#fdca26"
             ],
             [
              1,
              "#f0f921"
             ]
            ],
            "type": "surface"
           }
          ],
          "table": [
           {
            "cells": {
             "fill": {
              "color": "#EBF0F8"
             },
             "line": {
              "color": "white"
             }
            },
            "header": {
             "fill": {
              "color": "#C8D4E3"
             },
             "line": {
              "color": "white"
             }
            },
            "type": "table"
           }
          ]
         },
         "layout": {
          "annotationdefaults": {
           "arrowcolor": "#2a3f5f",
           "arrowhead": 0,
           "arrowwidth": 1
          },
          "autotypenumbers": "strict",
          "coloraxis": {
           "colorbar": {
            "outlinewidth": 0,
            "ticks": ""
           }
          },
          "colorscale": {
           "diverging": [
            [
             0,
             "#8e0152"
            ],
            [
             0.1,
             "#c51b7d"
            ],
            [
             0.2,
             "#de77ae"
            ],
            [
             0.3,
             "#f1b6da"
            ],
            [
             0.4,
             "#fde0ef"
            ],
            [
             0.5,
             "#f7f7f7"
            ],
            [
             0.6,
             "#e6f5d0"
            ],
            [
             0.7,
             "#b8e186"
            ],
            [
             0.8,
             "#7fbc41"
            ],
            [
             0.9,
             "#4d9221"
            ],
            [
             1,
             "#276419"
            ]
           ],
           "sequential": [
            [
             0,
             "#0d0887"
            ],
            [
             0.1111111111111111,
             "#46039f"
            ],
            [
             0.2222222222222222,
             "#7201a8"
            ],
            [
             0.3333333333333333,
             "#9c179e"
            ],
            [
             0.4444444444444444,
             "#bd3786"
            ],
            [
             0.5555555555555556,
             "#d8576b"
            ],
            [
             0.6666666666666666,
             "#ed7953"
            ],
            [
             0.7777777777777778,
             "#fb9f3a"
            ],
            [
             0.8888888888888888,
             "#fdca26"
            ],
            [
             1,
             "#f0f921"
            ]
           ],
           "sequentialminus": [
            [
             0,
             "#0d0887"
            ],
            [
             0.1111111111111111,
             "#46039f"
            ],
            [
             0.2222222222222222,
             "#7201a8"
            ],
            [
             0.3333333333333333,
             "#9c179e"
            ],
            [
             0.4444444444444444,
             "#bd3786"
            ],
            [
             0.5555555555555556,
             "#d8576b"
            ],
            [
             0.6666666666666666,
             "#ed7953"
            ],
            [
             0.7777777777777778,
             "#fb9f3a"
            ],
            [
             0.8888888888888888,
             "#fdca26"
            ],
            [
             1,
             "#f0f921"
            ]
           ]
          },
          "colorway": [
           "#636efa",
           "#EF553B",
           "#00cc96",
           "#ab63fa",
           "#FFA15A",
           "#19d3f3",
           "#FF6692",
           "#B6E880",
           "#FF97FF",
           "#FECB52"
          ],
          "font": {
           "color": "#2a3f5f"
          },
          "geo": {
           "bgcolor": "white",
           "lakecolor": "white",
           "landcolor": "white",
           "showlakes": true,
           "showland": true,
           "subunitcolor": "#C8D4E3"
          },
          "hoverlabel": {
           "align": "left"
          },
          "hovermode": "closest",
          "mapbox": {
           "style": "light"
          },
          "paper_bgcolor": "white",
          "plot_bgcolor": "white",
          "polar": {
           "angularaxis": {
            "gridcolor": "#EBF0F8",
            "linecolor": "#EBF0F8",
            "ticks": ""
           },
           "bgcolor": "white",
           "radialaxis": {
            "gridcolor": "#EBF0F8",
            "linecolor": "#EBF0F8",
            "ticks": ""
           }
          },
          "scene": {
           "xaxis": {
            "backgroundcolor": "white",
            "gridcolor": "#DFE8F3",
            "gridwidth": 2,
            "linecolor": "#EBF0F8",
            "showbackground": true,
            "ticks": "",
            "zerolinecolor": "#EBF0F8"
           },
           "yaxis": {
            "backgroundcolor": "white",
            "gridcolor": "#DFE8F3",
            "gridwidth": 2,
            "linecolor": "#EBF0F8",
            "showbackground": true,
            "ticks": "",
            "zerolinecolor": "#EBF0F8"
           },
           "zaxis": {
            "backgroundcolor": "white",
            "gridcolor": "#DFE8F3",
            "gridwidth": 2,
            "linecolor": "#EBF0F8",
            "showbackground": true,
            "ticks": "",
            "zerolinecolor": "#EBF0F8"
           }
          },
          "shapedefaults": {
           "line": {
            "color": "#2a3f5f"
           }
          },
          "ternary": {
           "aaxis": {
            "gridcolor": "#DFE8F3",
            "linecolor": "#A2B1C6",
            "ticks": ""
           },
           "baxis": {
            "gridcolor": "#DFE8F3",
            "linecolor": "#A2B1C6",
            "ticks": ""
           },
           "bgcolor": "white",
           "caxis": {
            "gridcolor": "#DFE8F3",
            "linecolor": "#A2B1C6",
            "ticks": ""
           }
          },
          "title": {
           "x": 0.05
          },
          "xaxis": {
           "automargin": true,
           "gridcolor": "#EBF0F8",
           "linecolor": "#EBF0F8",
           "ticks": "",
           "title": {
            "standoff": 15
           },
           "zerolinecolor": "#EBF0F8",
           "zerolinewidth": 2
          },
          "yaxis": {
           "automargin": true,
           "gridcolor": "#EBF0F8",
           "linecolor": "#EBF0F8",
           "ticks": "",
           "title": {
            "standoff": 15
           },
           "zerolinecolor": "#EBF0F8",
           "zerolinewidth": 2
          }
         }
        },
        "title": {
         "text": "Sleep Durations by Month"
        },
        "width": 1000,
        "xaxis": {
         "title": {
          "text": "Period"
         }
        },
        "yaxis": {
         "title": {
          "text": "Duration (minutes)"
         }
        }
       }
      }
     },
     "metadata": {},
     "output_type": "display_data"
    }
   ],
   "source": [
    "agg.plot_States('2023-01-01', end_time, save_png=save)"
   ]
  },
  {
   "cell_type": "code",
   "execution_count": 20,
   "metadata": {},
   "outputs": [
    {
     "name": "stdout",
     "output_type": "stream",
     "text": [
      "Grafico salvato come PNG in: ../graphs/SleepStates_week_2023-01-01_2025-02-19.png\n"
     ]
    },
    {
     "data": {
      "application/vnd.plotly.v1+json": {
       "config": {
        "plotlyServerURL": "https://plot.ly"
       },
       "data": [
        {
         "marker": {
          "color": "skyblue"
         },
         "name": "Light Sleep",
         "type": "bar",
         "x": [
          "2024-09-16/2024-09-22",
          "2024-09-23/2024-09-29",
          "2024-09-30/2024-10-06",
          "2024-10-07/2024-10-13",
          "2024-10-14/2024-10-20",
          "2024-10-21/2024-10-27",
          "2024-10-28/2024-11-03",
          "2024-11-04/2024-11-10",
          "2024-11-11/2024-11-17",
          "2024-11-18/2024-11-24",
          "2024-11-25/2024-12-01",
          "2024-12-02/2024-12-08",
          "2024-12-09/2024-12-15",
          "2024-12-16/2024-12-22",
          "2024-12-23/2024-12-29",
          "2024-12-30/2025-01-05"
         ],
         "y": [
          390,
          1432,
          926,
          1225,
          1760,
          1168,
          1202,
          1428,
          1516,
          1537,
          1395,
          771,
          1410,
          1076,
          1074,
          338
         ]
        },
        {
         "marker": {
          "color": "orange"
         },
         "name": "REM Sleep",
         "type": "bar",
         "x": [
          "2024-09-16/2024-09-22",
          "2024-09-23/2024-09-29",
          "2024-09-30/2024-10-06",
          "2024-10-07/2024-10-13",
          "2024-10-14/2024-10-20",
          "2024-10-21/2024-10-27",
          "2024-10-28/2024-11-03",
          "2024-11-04/2024-11-10",
          "2024-11-11/2024-11-17",
          "2024-11-18/2024-11-24",
          "2024-11-25/2024-12-01",
          "2024-12-02/2024-12-08",
          "2024-12-09/2024-12-15",
          "2024-12-16/2024-12-22",
          "2024-12-23/2024-12-29",
          "2024-12-30/2025-01-05"
         ],
         "y": [
          158,
          245.42857142856667,
          72,
          226.71428571428333,
          183,
          428,
          483,
          296,
          501,
          760.7142857142833,
          651.14285714285,
          521.14285714285,
          603.7142857142833,
          746,
          582,
          218
         ]
        },
        {
         "marker": {
          "color": "purple"
         },
         "name": "Deep Sleep",
         "type": "bar",
         "x": [
          "2024-09-16/2024-09-22",
          "2024-09-23/2024-09-29",
          "2024-09-30/2024-10-06",
          "2024-10-07/2024-10-13",
          "2024-10-14/2024-10-20",
          "2024-10-21/2024-10-27",
          "2024-10-28/2024-11-03",
          "2024-11-04/2024-11-10",
          "2024-11-11/2024-11-17",
          "2024-11-18/2024-11-24",
          "2024-11-25/2024-12-01",
          "2024-12-02/2024-12-08",
          "2024-12-09/2024-12-15",
          "2024-12-16/2024-12-22",
          "2024-12-23/2024-12-29",
          "2024-12-30/2025-01-05"
         ],
         "y": [
          308,
          613,
          320,
          545,
          484,
          933,
          1324,
          1308,
          853,
          1649,
          1665,
          1275,
          1092,
          1300,
          1578,
          341
         ]
        }
       ],
       "layout": {
        "barmode": "stack",
        "height": 600,
        "template": {
         "data": {
          "bar": [
           {
            "error_x": {
             "color": "#2a3f5f"
            },
            "error_y": {
             "color": "#2a3f5f"
            },
            "marker": {
             "line": {
              "color": "white",
              "width": 0.5
             },
             "pattern": {
              "fillmode": "overlay",
              "size": 10,
              "solidity": 0.2
             }
            },
            "type": "bar"
           }
          ],
          "barpolar": [
           {
            "marker": {
             "line": {
              "color": "white",
              "width": 0.5
             },
             "pattern": {
              "fillmode": "overlay",
              "size": 10,
              "solidity": 0.2
             }
            },
            "type": "barpolar"
           }
          ],
          "carpet": [
           {
            "aaxis": {
             "endlinecolor": "#2a3f5f",
             "gridcolor": "#C8D4E3",
             "linecolor": "#C8D4E3",
             "minorgridcolor": "#C8D4E3",
             "startlinecolor": "#2a3f5f"
            },
            "baxis": {
             "endlinecolor": "#2a3f5f",
             "gridcolor": "#C8D4E3",
             "linecolor": "#C8D4E3",
             "minorgridcolor": "#C8D4E3",
             "startlinecolor": "#2a3f5f"
            },
            "type": "carpet"
           }
          ],
          "choropleth": [
           {
            "colorbar": {
             "outlinewidth": 0,
             "ticks": ""
            },
            "type": "choropleth"
           }
          ],
          "contour": [
           {
            "colorbar": {
             "outlinewidth": 0,
             "ticks": ""
            },
            "colorscale": [
             [
              0,
              "#0d0887"
             ],
             [
              0.1111111111111111,
              "#46039f"
             ],
             [
              0.2222222222222222,
              "#7201a8"
             ],
             [
              0.3333333333333333,
              "#9c179e"
             ],
             [
              0.4444444444444444,
              "#bd3786"
             ],
             [
              0.5555555555555556,
              "#d8576b"
             ],
             [
              0.6666666666666666,
              "#ed7953"
             ],
             [
              0.7777777777777778,
              "#fb9f3a"
             ],
             [
              0.8888888888888888,
              "#fdca26"
             ],
             [
              1,
              "#f0f921"
             ]
            ],
            "type": "contour"
           }
          ],
          "contourcarpet": [
           {
            "colorbar": {
             "outlinewidth": 0,
             "ticks": ""
            },
            "type": "contourcarpet"
           }
          ],
          "heatmap": [
           {
            "colorbar": {
             "outlinewidth": 0,
             "ticks": ""
            },
            "colorscale": [
             [
              0,
              "#0d0887"
             ],
             [
              0.1111111111111111,
              "#46039f"
             ],
             [
              0.2222222222222222,
              "#7201a8"
             ],
             [
              0.3333333333333333,
              "#9c179e"
             ],
             [
              0.4444444444444444,
              "#bd3786"
             ],
             [
              0.5555555555555556,
              "#d8576b"
             ],
             [
              0.6666666666666666,
              "#ed7953"
             ],
             [
              0.7777777777777778,
              "#fb9f3a"
             ],
             [
              0.8888888888888888,
              "#fdca26"
             ],
             [
              1,
              "#f0f921"
             ]
            ],
            "type": "heatmap"
           }
          ],
          "heatmapgl": [
           {
            "colorbar": {
             "outlinewidth": 0,
             "ticks": ""
            },
            "colorscale": [
             [
              0,
              "#0d0887"
             ],
             [
              0.1111111111111111,
              "#46039f"
             ],
             [
              0.2222222222222222,
              "#7201a8"
             ],
             [
              0.3333333333333333,
              "#9c179e"
             ],
             [
              0.4444444444444444,
              "#bd3786"
             ],
             [
              0.5555555555555556,
              "#d8576b"
             ],
             [
              0.6666666666666666,
              "#ed7953"
             ],
             [
              0.7777777777777778,
              "#fb9f3a"
             ],
             [
              0.8888888888888888,
              "#fdca26"
             ],
             [
              1,
              "#f0f921"
             ]
            ],
            "type": "heatmapgl"
           }
          ],
          "histogram": [
           {
            "marker": {
             "pattern": {
              "fillmode": "overlay",
              "size": 10,
              "solidity": 0.2
             }
            },
            "type": "histogram"
           }
          ],
          "histogram2d": [
           {
            "colorbar": {
             "outlinewidth": 0,
             "ticks": ""
            },
            "colorscale": [
             [
              0,
              "#0d0887"
             ],
             [
              0.1111111111111111,
              "#46039f"
             ],
             [
              0.2222222222222222,
              "#7201a8"
             ],
             [
              0.3333333333333333,
              "#9c179e"
             ],
             [
              0.4444444444444444,
              "#bd3786"
             ],
             [
              0.5555555555555556,
              "#d8576b"
             ],
             [
              0.6666666666666666,
              "#ed7953"
             ],
             [
              0.7777777777777778,
              "#fb9f3a"
             ],
             [
              0.8888888888888888,
              "#fdca26"
             ],
             [
              1,
              "#f0f921"
             ]
            ],
            "type": "histogram2d"
           }
          ],
          "histogram2dcontour": [
           {
            "colorbar": {
             "outlinewidth": 0,
             "ticks": ""
            },
            "colorscale": [
             [
              0,
              "#0d0887"
             ],
             [
              0.1111111111111111,
              "#46039f"
             ],
             [
              0.2222222222222222,
              "#7201a8"
             ],
             [
              0.3333333333333333,
              "#9c179e"
             ],
             [
              0.4444444444444444,
              "#bd3786"
             ],
             [
              0.5555555555555556,
              "#d8576b"
             ],
             [
              0.6666666666666666,
              "#ed7953"
             ],
             [
              0.7777777777777778,
              "#fb9f3a"
             ],
             [
              0.8888888888888888,
              "#fdca26"
             ],
             [
              1,
              "#f0f921"
             ]
            ],
            "type": "histogram2dcontour"
           }
          ],
          "mesh3d": [
           {
            "colorbar": {
             "outlinewidth": 0,
             "ticks": ""
            },
            "type": "mesh3d"
           }
          ],
          "parcoords": [
           {
            "line": {
             "colorbar": {
              "outlinewidth": 0,
              "ticks": ""
             }
            },
            "type": "parcoords"
           }
          ],
          "pie": [
           {
            "automargin": true,
            "type": "pie"
           }
          ],
          "scatter": [
           {
            "fillpattern": {
             "fillmode": "overlay",
             "size": 10,
             "solidity": 0.2
            },
            "type": "scatter"
           }
          ],
          "scatter3d": [
           {
            "line": {
             "colorbar": {
              "outlinewidth": 0,
              "ticks": ""
             }
            },
            "marker": {
             "colorbar": {
              "outlinewidth": 0,
              "ticks": ""
             }
            },
            "type": "scatter3d"
           }
          ],
          "scattercarpet": [
           {
            "marker": {
             "colorbar": {
              "outlinewidth": 0,
              "ticks": ""
             }
            },
            "type": "scattercarpet"
           }
          ],
          "scattergeo": [
           {
            "marker": {
             "colorbar": {
              "outlinewidth": 0,
              "ticks": ""
             }
            },
            "type": "scattergeo"
           }
          ],
          "scattergl": [
           {
            "marker": {
             "colorbar": {
              "outlinewidth": 0,
              "ticks": ""
             }
            },
            "type": "scattergl"
           }
          ],
          "scattermapbox": [
           {
            "marker": {
             "colorbar": {
              "outlinewidth": 0,
              "ticks": ""
             }
            },
            "type": "scattermapbox"
           }
          ],
          "scatterpolar": [
           {
            "marker": {
             "colorbar": {
              "outlinewidth": 0,
              "ticks": ""
             }
            },
            "type": "scatterpolar"
           }
          ],
          "scatterpolargl": [
           {
            "marker": {
             "colorbar": {
              "outlinewidth": 0,
              "ticks": ""
             }
            },
            "type": "scatterpolargl"
           }
          ],
          "scatterternary": [
           {
            "marker": {
             "colorbar": {
              "outlinewidth": 0,
              "ticks": ""
             }
            },
            "type": "scatterternary"
           }
          ],
          "surface": [
           {
            "colorbar": {
             "outlinewidth": 0,
             "ticks": ""
            },
            "colorscale": [
             [
              0,
              "#0d0887"
             ],
             [
              0.1111111111111111,
              "#46039f"
             ],
             [
              0.2222222222222222,
              "#7201a8"
             ],
             [
              0.3333333333333333,
              "#9c179e"
             ],
             [
              0.4444444444444444,
              "#bd3786"
             ],
             [
              0.5555555555555556,
              "#d8576b"
             ],
             [
              0.6666666666666666,
              "#ed7953"
             ],
             [
              0.7777777777777778,
              "#fb9f3a"
             ],
             [
              0.8888888888888888,
              "#fdca26"
             ],
             [
              1,
              "#f0f921"
             ]
            ],
            "type": "surface"
           }
          ],
          "table": [
           {
            "cells": {
             "fill": {
              "color": "#EBF0F8"
             },
             "line": {
              "color": "white"
             }
            },
            "header": {
             "fill": {
              "color": "#C8D4E3"
             },
             "line": {
              "color": "white"
             }
            },
            "type": "table"
           }
          ]
         },
         "layout": {
          "annotationdefaults": {
           "arrowcolor": "#2a3f5f",
           "arrowhead": 0,
           "arrowwidth": 1
          },
          "autotypenumbers": "strict",
          "coloraxis": {
           "colorbar": {
            "outlinewidth": 0,
            "ticks": ""
           }
          },
          "colorscale": {
           "diverging": [
            [
             0,
             "#8e0152"
            ],
            [
             0.1,
             "#c51b7d"
            ],
            [
             0.2,
             "#de77ae"
            ],
            [
             0.3,
             "#f1b6da"
            ],
            [
             0.4,
             "#fde0ef"
            ],
            [
             0.5,
             "#f7f7f7"
            ],
            [
             0.6,
             "#e6f5d0"
            ],
            [
             0.7,
             "#b8e186"
            ],
            [
             0.8,
             "#7fbc41"
            ],
            [
             0.9,
             "#4d9221"
            ],
            [
             1,
             "#276419"
            ]
           ],
           "sequential": [
            [
             0,
             "#0d0887"
            ],
            [
             0.1111111111111111,
             "#46039f"
            ],
            [
             0.2222222222222222,
             "#7201a8"
            ],
            [
             0.3333333333333333,
             "#9c179e"
            ],
            [
             0.4444444444444444,
             "#bd3786"
            ],
            [
             0.5555555555555556,
             "#d8576b"
            ],
            [
             0.6666666666666666,
             "#ed7953"
            ],
            [
             0.7777777777777778,
             "#fb9f3a"
            ],
            [
             0.8888888888888888,
             "#fdca26"
            ],
            [
             1,
             "#f0f921"
            ]
           ],
           "sequentialminus": [
            [
             0,
             "#0d0887"
            ],
            [
             0.1111111111111111,
             "#46039f"
            ],
            [
             0.2222222222222222,
             "#7201a8"
            ],
            [
             0.3333333333333333,
             "#9c179e"
            ],
            [
             0.4444444444444444,
             "#bd3786"
            ],
            [
             0.5555555555555556,
             "#d8576b"
            ],
            [
             0.6666666666666666,
             "#ed7953"
            ],
            [
             0.7777777777777778,
             "#fb9f3a"
            ],
            [
             0.8888888888888888,
             "#fdca26"
            ],
            [
             1,
             "#f0f921"
            ]
           ]
          },
          "colorway": [
           "#636efa",
           "#EF553B",
           "#00cc96",
           "#ab63fa",
           "#FFA15A",
           "#19d3f3",
           "#FF6692",
           "#B6E880",
           "#FF97FF",
           "#FECB52"
          ],
          "font": {
           "color": "#2a3f5f"
          },
          "geo": {
           "bgcolor": "white",
           "lakecolor": "white",
           "landcolor": "white",
           "showlakes": true,
           "showland": true,
           "subunitcolor": "#C8D4E3"
          },
          "hoverlabel": {
           "align": "left"
          },
          "hovermode": "closest",
          "mapbox": {
           "style": "light"
          },
          "paper_bgcolor": "white",
          "plot_bgcolor": "white",
          "polar": {
           "angularaxis": {
            "gridcolor": "#EBF0F8",
            "linecolor": "#EBF0F8",
            "ticks": ""
           },
           "bgcolor": "white",
           "radialaxis": {
            "gridcolor": "#EBF0F8",
            "linecolor": "#EBF0F8",
            "ticks": ""
           }
          },
          "scene": {
           "xaxis": {
            "backgroundcolor": "white",
            "gridcolor": "#DFE8F3",
            "gridwidth": 2,
            "linecolor": "#EBF0F8",
            "showbackground": true,
            "ticks": "",
            "zerolinecolor": "#EBF0F8"
           },
           "yaxis": {
            "backgroundcolor": "white",
            "gridcolor": "#DFE8F3",
            "gridwidth": 2,
            "linecolor": "#EBF0F8",
            "showbackground": true,
            "ticks": "",
            "zerolinecolor": "#EBF0F8"
           },
           "zaxis": {
            "backgroundcolor": "white",
            "gridcolor": "#DFE8F3",
            "gridwidth": 2,
            "linecolor": "#EBF0F8",
            "showbackground": true,
            "ticks": "",
            "zerolinecolor": "#EBF0F8"
           }
          },
          "shapedefaults": {
           "line": {
            "color": "#2a3f5f"
           }
          },
          "ternary": {
           "aaxis": {
            "gridcolor": "#DFE8F3",
            "linecolor": "#A2B1C6",
            "ticks": ""
           },
           "baxis": {
            "gridcolor": "#DFE8F3",
            "linecolor": "#A2B1C6",
            "ticks": ""
           },
           "bgcolor": "white",
           "caxis": {
            "gridcolor": "#DFE8F3",
            "linecolor": "#A2B1C6",
            "ticks": ""
           }
          },
          "title": {
           "x": 0.05
          },
          "xaxis": {
           "automargin": true,
           "gridcolor": "#EBF0F8",
           "linecolor": "#EBF0F8",
           "ticks": "",
           "title": {
            "standoff": 15
           },
           "zerolinecolor": "#EBF0F8",
           "zerolinewidth": 2
          },
          "yaxis": {
           "automargin": true,
           "gridcolor": "#EBF0F8",
           "linecolor": "#EBF0F8",
           "ticks": "",
           "title": {
            "standoff": 15
           },
           "zerolinecolor": "#EBF0F8",
           "zerolinewidth": 2
          }
         }
        },
        "title": {
         "text": "Sleep Durations by Week"
        },
        "width": 1000,
        "xaxis": {
         "title": {
          "text": "Period"
         }
        },
        "yaxis": {
         "title": {
          "text": "Duration (minutes)"
         }
        }
       }
      }
     },
     "metadata": {},
     "output_type": "display_data"
    }
   ],
   "source": [
    "agg.plot_States('2023-01-01', end_time, 'week', save_png=save)"
   ]
  },
  {
   "cell_type": "code",
   "execution_count": 21,
   "metadata": {},
   "outputs": [
    {
     "name": "stdout",
     "output_type": "stream",
     "text": [
      "Grafico salvato come PNG in: ../graphs/SleepStates_day_2023-01-01_2025-02-19.png\n"
     ]
    },
    {
     "data": {
      "application/vnd.plotly.v1+json": {
       "config": {
        "plotlyServerURL": "https://plot.ly"
       },
       "data": [
        {
         "marker": {
          "color": "skyblue"
         },
         "name": "Light Sleep",
         "type": "bar",
         "x": [
          "2024-09-21",
          "2024-09-22",
          "2024-09-23",
          "2024-09-24",
          "2024-09-25",
          "2024-09-26",
          "2024-09-27",
          "2024-09-28",
          "2024-09-29",
          "2024-09-30",
          "2024-10-01",
          "2024-10-02",
          "2024-10-03",
          "2024-10-04",
          "2024-10-05",
          "2024-10-06",
          "2024-10-07",
          "2024-10-08",
          "2024-10-09",
          "2024-10-10",
          "2024-10-11",
          "2024-10-12",
          "2024-10-13",
          "2024-10-14",
          "2024-10-15",
          "2024-10-16",
          "2024-10-17",
          "2024-10-18",
          "2024-10-19",
          "2024-10-20",
          "2024-10-21",
          "2024-10-22",
          "2024-10-23",
          "2024-10-24",
          "2024-10-25",
          "2024-10-26",
          "2024-10-27",
          "2024-10-28",
          "2024-10-29",
          "2024-10-30",
          "2024-10-31",
          "2024-11-01",
          "2024-11-02",
          "2024-11-03",
          "2024-11-04",
          "2024-11-05",
          "2024-11-06",
          "2024-11-07",
          "2024-11-08",
          "2024-11-09",
          "2024-11-10",
          "2024-11-11",
          "2024-11-12",
          "2024-11-13",
          "2024-11-14",
          "2024-11-15",
          "2024-11-16",
          "2024-11-17",
          "2024-11-18",
          "2024-11-19",
          "2024-11-20",
          "2024-11-21",
          "2024-11-22",
          "2024-11-23",
          "2024-11-24",
          "2024-11-25",
          "2024-11-26",
          "2024-11-27",
          "2024-11-28",
          "2024-11-29",
          "2024-11-30",
          "2024-12-01",
          "2024-12-02",
          "2024-12-05",
          "2024-12-06",
          "2024-12-07",
          "2024-12-08",
          "2024-12-09",
          "2024-12-10",
          "2024-12-11",
          "2024-12-12",
          "2024-12-13",
          "2024-12-14",
          "2024-12-15",
          "2024-12-16",
          "2024-12-17",
          "2024-12-18",
          "2024-12-19",
          "2024-12-20",
          "2024-12-21",
          "2024-12-22",
          "2024-12-23",
          "2024-12-24",
          "2024-12-25",
          "2024-12-26",
          "2024-12-27",
          "2024-12-28",
          "2024-12-29",
          "2024-12-30",
          "2024-12-31"
         ],
         "y": [
          105,
          285,
          347,
          158,
          183,
          438,
          153,
          56,
          97,
          156,
          132,
          112,
          37,
          197,
          222,
          70,
          36,
          83,
          104,
          149,
          313,
          240,
          300,
          262,
          336,
          157,
          280,
          371,
          267,
          87,
          73,
          161,
          166,
          238,
          193,
          253,
          84,
          95,
          224,
          180,
          218,
          174,
          143,
          168,
          176,
          246,
          142,
          146,
          161,
          301,
          256,
          234,
          132,
          240,
          248,
          182,
          266,
          214,
          121,
          183,
          219,
          227,
          226,
          201,
          360,
          180,
          417,
          86,
          231,
          177,
          156,
          148,
          93,
          147,
          175,
          245,
          111,
          213,
          184,
          247,
          151,
          177,
          203,
          235,
          191,
          163,
          130,
          163,
          144,
          130,
          155,
          234,
          120,
          137,
          108,
          178,
          114,
          183,
          154,
          184
         ]
        },
        {
         "marker": {
          "color": "orange"
         },
         "name": "REM Sleep",
         "type": "bar",
         "x": [
          "2024-09-21",
          "2024-09-22",
          "2024-09-23",
          "2024-09-24",
          "2024-09-25",
          "2024-09-26",
          "2024-09-27",
          "2024-09-28",
          "2024-09-29",
          "2024-09-30",
          "2024-10-01",
          "2024-10-02",
          "2024-10-03",
          "2024-10-04",
          "2024-10-05",
          "2024-10-06",
          "2024-10-07",
          "2024-10-08",
          "2024-10-09",
          "2024-10-10",
          "2024-10-11",
          "2024-10-12",
          "2024-10-13",
          "2024-10-14",
          "2024-10-15",
          "2024-10-16",
          "2024-10-17",
          "2024-10-18",
          "2024-10-19",
          "2024-10-20",
          "2024-10-21",
          "2024-10-22",
          "2024-10-23",
          "2024-10-24",
          "2024-10-25",
          "2024-10-26",
          "2024-10-27",
          "2024-10-28",
          "2024-10-29",
          "2024-10-30",
          "2024-10-31",
          "2024-11-01",
          "2024-11-02",
          "2024-11-03",
          "2024-11-04",
          "2024-11-05",
          "2024-11-06",
          "2024-11-07",
          "2024-11-08",
          "2024-11-09",
          "2024-11-10",
          "2024-11-11",
          "2024-11-12",
          "2024-11-13",
          "2024-11-14",
          "2024-11-15",
          "2024-11-16",
          "2024-11-17",
          "2024-11-18",
          "2024-11-19",
          "2024-11-20",
          "2024-11-21",
          "2024-11-22",
          "2024-11-23",
          "2024-11-24",
          "2024-11-25",
          "2024-11-26",
          "2024-11-27",
          "2024-11-28",
          "2024-11-29",
          "2024-11-30",
          "2024-12-01",
          "2024-12-02",
          "2024-12-05",
          "2024-12-06",
          "2024-12-07",
          "2024-12-08",
          "2024-12-09",
          "2024-12-10",
          "2024-12-11",
          "2024-12-12",
          "2024-12-13",
          "2024-12-14",
          "2024-12-15",
          "2024-12-16",
          "2024-12-17",
          "2024-12-18",
          "2024-12-19",
          "2024-12-20",
          "2024-12-21",
          "2024-12-22",
          "2024-12-23",
          "2024-12-24",
          "2024-12-25",
          "2024-12-26",
          "2024-12-27",
          "2024-12-28",
          "2024-12-29",
          "2024-12-30",
          "2024-12-31"
         ],
         "y": [
          89,
          69,
          19,
          2,
          0,
          177.42857142856667,
          28,
          10,
          9,
          0,
          38,
          0,
          0,
          2,
          12,
          20,
          0,
          1,
          28,
          49,
          88.71428571428333,
          25,
          35,
          43,
          34,
          2,
          79,
          16,
          9,
          0,
          6,
          39,
          107,
          62,
          19,
          41,
          154,
          42,
          2,
          86,
          63,
          51,
          156,
          83,
          41,
          44,
          0,
          33,
          87,
          66,
          25,
          60,
          104,
          75,
          18,
          107,
          78,
          59,
          135,
          114,
          62,
          76,
          45,
          127,
          201.71428571428333,
          65,
          195.71428571428333,
          88.71428571428333,
          88.71428571428333,
          44,
          83,
          86,
          155,
          88.71428571428333,
          88.71428571428333,
          88.71428571428333,
          100,
          88.71428571428333,
          140,
          59,
          63,
          94,
          60,
          99,
          90,
          101,
          137,
          99,
          109,
          124,
          86,
          99,
          80,
          83,
          70,
          73,
          80,
          97,
          114,
          104
         ]
        },
        {
         "marker": {
          "color": "purple"
         },
         "name": "Deep Sleep",
         "type": "bar",
         "x": [
          "2024-09-21",
          "2024-09-22",
          "2024-09-23",
          "2024-09-24",
          "2024-09-25",
          "2024-09-26",
          "2024-09-27",
          "2024-09-28",
          "2024-09-29",
          "2024-09-30",
          "2024-10-01",
          "2024-10-02",
          "2024-10-03",
          "2024-10-04",
          "2024-10-05",
          "2024-10-06",
          "2024-10-07",
          "2024-10-08",
          "2024-10-09",
          "2024-10-10",
          "2024-10-11",
          "2024-10-12",
          "2024-10-13",
          "2024-10-14",
          "2024-10-15",
          "2024-10-16",
          "2024-10-17",
          "2024-10-18",
          "2024-10-19",
          "2024-10-20",
          "2024-10-21",
          "2024-10-22",
          "2024-10-23",
          "2024-10-24",
          "2024-10-25",
          "2024-10-26",
          "2024-10-27",
          "2024-10-28",
          "2024-10-29",
          "2024-10-30",
          "2024-10-31",
          "2024-11-01",
          "2024-11-02",
          "2024-11-03",
          "2024-11-04",
          "2024-11-05",
          "2024-11-06",
          "2024-11-07",
          "2024-11-08",
          "2024-11-09",
          "2024-11-10",
          "2024-11-11",
          "2024-11-12",
          "2024-11-13",
          "2024-11-14",
          "2024-11-15",
          "2024-11-16",
          "2024-11-17",
          "2024-11-18",
          "2024-11-19",
          "2024-11-20",
          "2024-11-21",
          "2024-11-22",
          "2024-11-23",
          "2024-11-24",
          "2024-11-25",
          "2024-11-26",
          "2024-11-27",
          "2024-11-28",
          "2024-11-29",
          "2024-11-30",
          "2024-12-01",
          "2024-12-02",
          "2024-12-05",
          "2024-12-06",
          "2024-12-07",
          "2024-12-08",
          "2024-12-09",
          "2024-12-10",
          "2024-12-11",
          "2024-12-12",
          "2024-12-13",
          "2024-12-14",
          "2024-12-15",
          "2024-12-16",
          "2024-12-17",
          "2024-12-18",
          "2024-12-19",
          "2024-12-20",
          "2024-12-21",
          "2024-12-22",
          "2024-12-23",
          "2024-12-24",
          "2024-12-25",
          "2024-12-26",
          "2024-12-27",
          "2024-12-28",
          "2024-12-29",
          "2024-12-30",
          "2024-12-31"
         ],
         "y": [
          231,
          77,
          84,
          21,
          24,
          412,
          62,
          10,
          0,
          34,
          97,
          0,
          10,
          96,
          52,
          31,
          12,
          27,
          38,
          78,
          185,
          107,
          98,
          0,
          41,
          39,
          203,
          76,
          32,
          93,
          0,
          195,
          183,
          120,
          141,
          63,
          231,
          212,
          220,
          133,
          217,
          209,
          143,
          190,
          131,
          132,
          193,
          159,
          215,
          218,
          260,
          84,
          204,
          134,
          52,
          125,
          89,
          165,
          189,
          113,
          174,
          301,
          204,
          260,
          408,
          190,
          406,
          208,
          252,
          213,
          194,
          202,
          187,
          290,
          319,
          236,
          243,
          244,
          148,
          121,
          149,
          128,
          211,
          91,
          196,
          191,
          208,
          171,
          196,
          166,
          172,
          241,
          221,
          228,
          246,
          203,
          269,
          170,
          194,
          147
         ]
        }
       ],
       "layout": {
        "barmode": "stack",
        "height": 600,
        "template": {
         "data": {
          "bar": [
           {
            "error_x": {
             "color": "#2a3f5f"
            },
            "error_y": {
             "color": "#2a3f5f"
            },
            "marker": {
             "line": {
              "color": "white",
              "width": 0.5
             },
             "pattern": {
              "fillmode": "overlay",
              "size": 10,
              "solidity": 0.2
             }
            },
            "type": "bar"
           }
          ],
          "barpolar": [
           {
            "marker": {
             "line": {
              "color": "white",
              "width": 0.5
             },
             "pattern": {
              "fillmode": "overlay",
              "size": 10,
              "solidity": 0.2
             }
            },
            "type": "barpolar"
           }
          ],
          "carpet": [
           {
            "aaxis": {
             "endlinecolor": "#2a3f5f",
             "gridcolor": "#C8D4E3",
             "linecolor": "#C8D4E3",
             "minorgridcolor": "#C8D4E3",
             "startlinecolor": "#2a3f5f"
            },
            "baxis": {
             "endlinecolor": "#2a3f5f",
             "gridcolor": "#C8D4E3",
             "linecolor": "#C8D4E3",
             "minorgridcolor": "#C8D4E3",
             "startlinecolor": "#2a3f5f"
            },
            "type": "carpet"
           }
          ],
          "choropleth": [
           {
            "colorbar": {
             "outlinewidth": 0,
             "ticks": ""
            },
            "type": "choropleth"
           }
          ],
          "contour": [
           {
            "colorbar": {
             "outlinewidth": 0,
             "ticks": ""
            },
            "colorscale": [
             [
              0,
              "#0d0887"
             ],
             [
              0.1111111111111111,
              "#46039f"
             ],
             [
              0.2222222222222222,
              "#7201a8"
             ],
             [
              0.3333333333333333,
              "#9c179e"
             ],
             [
              0.4444444444444444,
              "#bd3786"
             ],
             [
              0.5555555555555556,
              "#d8576b"
             ],
             [
              0.6666666666666666,
              "#ed7953"
             ],
             [
              0.7777777777777778,
              "#fb9f3a"
             ],
             [
              0.8888888888888888,
              "#fdca26"
             ],
             [
              1,
              "#f0f921"
             ]
            ],
            "type": "contour"
           }
          ],
          "contourcarpet": [
           {
            "colorbar": {
             "outlinewidth": 0,
             "ticks": ""
            },
            "type": "contourcarpet"
           }
          ],
          "heatmap": [
           {
            "colorbar": {
             "outlinewidth": 0,
             "ticks": ""
            },
            "colorscale": [
             [
              0,
              "#0d0887"
             ],
             [
              0.1111111111111111,
              "#46039f"
             ],
             [
              0.2222222222222222,
              "#7201a8"
             ],
             [
              0.3333333333333333,
              "#9c179e"
             ],
             [
              0.4444444444444444,
              "#bd3786"
             ],
             [
              0.5555555555555556,
              "#d8576b"
             ],
             [
              0.6666666666666666,
              "#ed7953"
             ],
             [
              0.7777777777777778,
              "#fb9f3a"
             ],
             [
              0.8888888888888888,
              "#fdca26"
             ],
             [
              1,
              "#f0f921"
             ]
            ],
            "type": "heatmap"
           }
          ],
          "heatmapgl": [
           {
            "colorbar": {
             "outlinewidth": 0,
             "ticks": ""
            },
            "colorscale": [
             [
              0,
              "#0d0887"
             ],
             [
              0.1111111111111111,
              "#46039f"
             ],
             [
              0.2222222222222222,
              "#7201a8"
             ],
             [
              0.3333333333333333,
              "#9c179e"
             ],
             [
              0.4444444444444444,
              "#bd3786"
             ],
             [
              0.5555555555555556,
              "#d8576b"
             ],
             [
              0.6666666666666666,
              "#ed7953"
             ],
             [
              0.7777777777777778,
              "#fb9f3a"
             ],
             [
              0.8888888888888888,
              "#fdca26"
             ],
             [
              1,
              "#f0f921"
             ]
            ],
            "type": "heatmapgl"
           }
          ],
          "histogram": [
           {
            "marker": {
             "pattern": {
              "fillmode": "overlay",
              "size": 10,
              "solidity": 0.2
             }
            },
            "type": "histogram"
           }
          ],
          "histogram2d": [
           {
            "colorbar": {
             "outlinewidth": 0,
             "ticks": ""
            },
            "colorscale": [
             [
              0,
              "#0d0887"
             ],
             [
              0.1111111111111111,
              "#46039f"
             ],
             [
              0.2222222222222222,
              "#7201a8"
             ],
             [
              0.3333333333333333,
              "#9c179e"
             ],
             [
              0.4444444444444444,
              "#bd3786"
             ],
             [
              0.5555555555555556,
              "#d8576b"
             ],
             [
              0.6666666666666666,
              "#ed7953"
             ],
             [
              0.7777777777777778,
              "#fb9f3a"
             ],
             [
              0.8888888888888888,
              "#fdca26"
             ],
             [
              1,
              "#f0f921"
             ]
            ],
            "type": "histogram2d"
           }
          ],
          "histogram2dcontour": [
           {
            "colorbar": {
             "outlinewidth": 0,
             "ticks": ""
            },
            "colorscale": [
             [
              0,
              "#0d0887"
             ],
             [
              0.1111111111111111,
              "#46039f"
             ],
             [
              0.2222222222222222,
              "#7201a8"
             ],
             [
              0.3333333333333333,
              "#9c179e"
             ],
             [
              0.4444444444444444,
              "#bd3786"
             ],
             [
              0.5555555555555556,
              "#d8576b"
             ],
             [
              0.6666666666666666,
              "#ed7953"
             ],
             [
              0.7777777777777778,
              "#fb9f3a"
             ],
             [
              0.8888888888888888,
              "#fdca26"
             ],
             [
              1,
              "#f0f921"
             ]
            ],
            "type": "histogram2dcontour"
           }
          ],
          "mesh3d": [
           {
            "colorbar": {
             "outlinewidth": 0,
             "ticks": ""
            },
            "type": "mesh3d"
           }
          ],
          "parcoords": [
           {
            "line": {
             "colorbar": {
              "outlinewidth": 0,
              "ticks": ""
             }
            },
            "type": "parcoords"
           }
          ],
          "pie": [
           {
            "automargin": true,
            "type": "pie"
           }
          ],
          "scatter": [
           {
            "fillpattern": {
             "fillmode": "overlay",
             "size": 10,
             "solidity": 0.2
            },
            "type": "scatter"
           }
          ],
          "scatter3d": [
           {
            "line": {
             "colorbar": {
              "outlinewidth": 0,
              "ticks": ""
             }
            },
            "marker": {
             "colorbar": {
              "outlinewidth": 0,
              "ticks": ""
             }
            },
            "type": "scatter3d"
           }
          ],
          "scattercarpet": [
           {
            "marker": {
             "colorbar": {
              "outlinewidth": 0,
              "ticks": ""
             }
            },
            "type": "scattercarpet"
           }
          ],
          "scattergeo": [
           {
            "marker": {
             "colorbar": {
              "outlinewidth": 0,
              "ticks": ""
             }
            },
            "type": "scattergeo"
           }
          ],
          "scattergl": [
           {
            "marker": {
             "colorbar": {
              "outlinewidth": 0,
              "ticks": ""
             }
            },
            "type": "scattergl"
           }
          ],
          "scattermapbox": [
           {
            "marker": {
             "colorbar": {
              "outlinewidth": 0,
              "ticks": ""
             }
            },
            "type": "scattermapbox"
           }
          ],
          "scatterpolar": [
           {
            "marker": {
             "colorbar": {
              "outlinewidth": 0,
              "ticks": ""
             }
            },
            "type": "scatterpolar"
           }
          ],
          "scatterpolargl": [
           {
            "marker": {
             "colorbar": {
              "outlinewidth": 0,
              "ticks": ""
             }
            },
            "type": "scatterpolargl"
           }
          ],
          "scatterternary": [
           {
            "marker": {
             "colorbar": {
              "outlinewidth": 0,
              "ticks": ""
             }
            },
            "type": "scatterternary"
           }
          ],
          "surface": [
           {
            "colorbar": {
             "outlinewidth": 0,
             "ticks": ""
            },
            "colorscale": [
             [
              0,
              "#0d0887"
             ],
             [
              0.1111111111111111,
              "#46039f"
             ],
             [
              0.2222222222222222,
              "#7201a8"
             ],
             [
              0.3333333333333333,
              "#9c179e"
             ],
             [
              0.4444444444444444,
              "#bd3786"
             ],
             [
              0.5555555555555556,
              "#d8576b"
             ],
             [
              0.6666666666666666,
              "#ed7953"
             ],
             [
              0.7777777777777778,
              "#fb9f3a"
             ],
             [
              0.8888888888888888,
              "#fdca26"
             ],
             [
              1,
              "#f0f921"
             ]
            ],
            "type": "surface"
           }
          ],
          "table": [
           {
            "cells": {
             "fill": {
              "color": "#EBF0F8"
             },
             "line": {
              "color": "white"
             }
            },
            "header": {
             "fill": {
              "color": "#C8D4E3"
             },
             "line": {
              "color": "white"
             }
            },
            "type": "table"
           }
          ]
         },
         "layout": {
          "annotationdefaults": {
           "arrowcolor": "#2a3f5f",
           "arrowhead": 0,
           "arrowwidth": 1
          },
          "autotypenumbers": "strict",
          "coloraxis": {
           "colorbar": {
            "outlinewidth": 0,
            "ticks": ""
           }
          },
          "colorscale": {
           "diverging": [
            [
             0,
             "#8e0152"
            ],
            [
             0.1,
             "#c51b7d"
            ],
            [
             0.2,
             "#de77ae"
            ],
            [
             0.3,
             "#f1b6da"
            ],
            [
             0.4,
             "#fde0ef"
            ],
            [
             0.5,
             "#f7f7f7"
            ],
            [
             0.6,
             "#e6f5d0"
            ],
            [
             0.7,
             "#b8e186"
            ],
            [
             0.8,
             "#7fbc41"
            ],
            [
             0.9,
             "#4d9221"
            ],
            [
             1,
             "#276419"
            ]
           ],
           "sequential": [
            [
             0,
             "#0d0887"
            ],
            [
             0.1111111111111111,
             "#46039f"
            ],
            [
             0.2222222222222222,
             "#7201a8"
            ],
            [
             0.3333333333333333,
             "#9c179e"
            ],
            [
             0.4444444444444444,
             "#bd3786"
            ],
            [
             0.5555555555555556,
             "#d8576b"
            ],
            [
             0.6666666666666666,
             "#ed7953"
            ],
            [
             0.7777777777777778,
             "#fb9f3a"
            ],
            [
             0.8888888888888888,
             "#fdca26"
            ],
            [
             1,
             "#f0f921"
            ]
           ],
           "sequentialminus": [
            [
             0,
             "#0d0887"
            ],
            [
             0.1111111111111111,
             "#46039f"
            ],
            [
             0.2222222222222222,
             "#7201a8"
            ],
            [
             0.3333333333333333,
             "#9c179e"
            ],
            [
             0.4444444444444444,
             "#bd3786"
            ],
            [
             0.5555555555555556,
             "#d8576b"
            ],
            [
             0.6666666666666666,
             "#ed7953"
            ],
            [
             0.7777777777777778,
             "#fb9f3a"
            ],
            [
             0.8888888888888888,
             "#fdca26"
            ],
            [
             1,
             "#f0f921"
            ]
           ]
          },
          "colorway": [
           "#636efa",
           "#EF553B",
           "#00cc96",
           "#ab63fa",
           "#FFA15A",
           "#19d3f3",
           "#FF6692",
           "#B6E880",
           "#FF97FF",
           "#FECB52"
          ],
          "font": {
           "color": "#2a3f5f"
          },
          "geo": {
           "bgcolor": "white",
           "lakecolor": "white",
           "landcolor": "white",
           "showlakes": true,
           "showland": true,
           "subunitcolor": "#C8D4E3"
          },
          "hoverlabel": {
           "align": "left"
          },
          "hovermode": "closest",
          "mapbox": {
           "style": "light"
          },
          "paper_bgcolor": "white",
          "plot_bgcolor": "white",
          "polar": {
           "angularaxis": {
            "gridcolor": "#EBF0F8",
            "linecolor": "#EBF0F8",
            "ticks": ""
           },
           "bgcolor": "white",
           "radialaxis": {
            "gridcolor": "#EBF0F8",
            "linecolor": "#EBF0F8",
            "ticks": ""
           }
          },
          "scene": {
           "xaxis": {
            "backgroundcolor": "white",
            "gridcolor": "#DFE8F3",
            "gridwidth": 2,
            "linecolor": "#EBF0F8",
            "showbackground": true,
            "ticks": "",
            "zerolinecolor": "#EBF0F8"
           },
           "yaxis": {
            "backgroundcolor": "white",
            "gridcolor": "#DFE8F3",
            "gridwidth": 2,
            "linecolor": "#EBF0F8",
            "showbackground": true,
            "ticks": "",
            "zerolinecolor": "#EBF0F8"
           },
           "zaxis": {
            "backgroundcolor": "white",
            "gridcolor": "#DFE8F3",
            "gridwidth": 2,
            "linecolor": "#EBF0F8",
            "showbackground": true,
            "ticks": "",
            "zerolinecolor": "#EBF0F8"
           }
          },
          "shapedefaults": {
           "line": {
            "color": "#2a3f5f"
           }
          },
          "ternary": {
           "aaxis": {
            "gridcolor": "#DFE8F3",
            "linecolor": "#A2B1C6",
            "ticks": ""
           },
           "baxis": {
            "gridcolor": "#DFE8F3",
            "linecolor": "#A2B1C6",
            "ticks": ""
           },
           "bgcolor": "white",
           "caxis": {
            "gridcolor": "#DFE8F3",
            "linecolor": "#A2B1C6",
            "ticks": ""
           }
          },
          "title": {
           "x": 0.05
          },
          "xaxis": {
           "automargin": true,
           "gridcolor": "#EBF0F8",
           "linecolor": "#EBF0F8",
           "ticks": "",
           "title": {
            "standoff": 15
           },
           "zerolinecolor": "#EBF0F8",
           "zerolinewidth": 2
          },
          "yaxis": {
           "automargin": true,
           "gridcolor": "#EBF0F8",
           "linecolor": "#EBF0F8",
           "ticks": "",
           "title": {
            "standoff": 15
           },
           "zerolinecolor": "#EBF0F8",
           "zerolinewidth": 2
          }
         }
        },
        "title": {
         "text": "Sleep Durations by Day"
        },
        "width": 1000,
        "xaxis": {
         "title": {
          "text": "Period"
         }
        },
        "yaxis": {
         "title": {
          "text": "Duration (minutes)"
         }
        }
       }
      }
     },
     "metadata": {},
     "output_type": "display_data"
    }
   ],
   "source": [
    "agg.plot_States('2023-01-01', end_time, 'day', save_png=save)"
   ]
  },
  {
   "cell_type": "code",
   "execution_count": 22,
   "metadata": {},
   "outputs": [
    {
     "name": "stdout",
     "output_type": "stream",
     "text": [
      "Grafico salvato come PNG in: ../graphs/Sleep_Percentages_month_2023-01-01_2025-02-19.png\n"
     ]
    },
    {
     "data": {
      "application/vnd.plotly.v1+json": {
       "config": {
        "plotlyServerURL": "https://plot.ly"
       },
       "data": [
        {
         "marker": {
          "color": "skyblue"
         },
         "name": "Light Sleep (%)",
         "type": "bar",
         "x": [
          "2024-09",
          "2024-10",
          "2024-11",
          "2024-12"
         ],
         "y": [
          59.28494968957396,
          57.711704600271894,
          43.023761945274316,
          36.0503779414752
         ]
        },
        {
         "marker": {
          "color": "orange"
         },
         "name": "REM Sleep (%)",
         "type": "bar",
         "x": [
          "2024-09",
          "2024-10",
          "2024-11",
          "2024-12"
         ],
         "y": [
          12.09162920145579,
          11.283603034688419,
          16.70854519913737,
          20.63229020773417
         ]
        },
        {
         "marker": {
          "color": "purple"
         },
         "name": "Deep Sleep (%)",
         "type": "bar",
         "x": [
          "2024-09",
          "2024-10",
          "2024-11",
          "2024-12"
         ],
         "y": [
          28.62342110897024,
          31.004692365039688,
          40.26769285558831,
          43.31733185079062
         ]
        }
       ],
       "layout": {
        "barmode": "stack",
        "height": 600,
        "template": {
         "data": {
          "bar": [
           {
            "error_x": {
             "color": "#2a3f5f"
            },
            "error_y": {
             "color": "#2a3f5f"
            },
            "marker": {
             "line": {
              "color": "white",
              "width": 0.5
             },
             "pattern": {
              "fillmode": "overlay",
              "size": 10,
              "solidity": 0.2
             }
            },
            "type": "bar"
           }
          ],
          "barpolar": [
           {
            "marker": {
             "line": {
              "color": "white",
              "width": 0.5
             },
             "pattern": {
              "fillmode": "overlay",
              "size": 10,
              "solidity": 0.2
             }
            },
            "type": "barpolar"
           }
          ],
          "carpet": [
           {
            "aaxis": {
             "endlinecolor": "#2a3f5f",
             "gridcolor": "#C8D4E3",
             "linecolor": "#C8D4E3",
             "minorgridcolor": "#C8D4E3",
             "startlinecolor": "#2a3f5f"
            },
            "baxis": {
             "endlinecolor": "#2a3f5f",
             "gridcolor": "#C8D4E3",
             "linecolor": "#C8D4E3",
             "minorgridcolor": "#C8D4E3",
             "startlinecolor": "#2a3f5f"
            },
            "type": "carpet"
           }
          ],
          "choropleth": [
           {
            "colorbar": {
             "outlinewidth": 0,
             "ticks": ""
            },
            "type": "choropleth"
           }
          ],
          "contour": [
           {
            "colorbar": {
             "outlinewidth": 0,
             "ticks": ""
            },
            "colorscale": [
             [
              0,
              "#0d0887"
             ],
             [
              0.1111111111111111,
              "#46039f"
             ],
             [
              0.2222222222222222,
              "#7201a8"
             ],
             [
              0.3333333333333333,
              "#9c179e"
             ],
             [
              0.4444444444444444,
              "#bd3786"
             ],
             [
              0.5555555555555556,
              "#d8576b"
             ],
             [
              0.6666666666666666,
              "#ed7953"
             ],
             [
              0.7777777777777778,
              "#fb9f3a"
             ],
             [
              0.8888888888888888,
              "#fdca26"
             ],
             [
              1,
              "#f0f921"
             ]
            ],
            "type": "contour"
           }
          ],
          "contourcarpet": [
           {
            "colorbar": {
             "outlinewidth": 0,
             "ticks": ""
            },
            "type": "contourcarpet"
           }
          ],
          "heatmap": [
           {
            "colorbar": {
             "outlinewidth": 0,
             "ticks": ""
            },
            "colorscale": [
             [
              0,
              "#0d0887"
             ],
             [
              0.1111111111111111,
              "#46039f"
             ],
             [
              0.2222222222222222,
              "#7201a8"
             ],
             [
              0.3333333333333333,
              "#9c179e"
             ],
             [
              0.4444444444444444,
              "#bd3786"
             ],
             [
              0.5555555555555556,
              "#d8576b"
             ],
             [
              0.6666666666666666,
              "#ed7953"
             ],
             [
              0.7777777777777778,
              "#fb9f3a"
             ],
             [
              0.8888888888888888,
              "#fdca26"
             ],
             [
              1,
              "#f0f921"
             ]
            ],
            "type": "heatmap"
           }
          ],
          "heatmapgl": [
           {
            "colorbar": {
             "outlinewidth": 0,
             "ticks": ""
            },
            "colorscale": [
             [
              0,
              "#0d0887"
             ],
             [
              0.1111111111111111,
              "#46039f"
             ],
             [
              0.2222222222222222,
              "#7201a8"
             ],
             [
              0.3333333333333333,
              "#9c179e"
             ],
             [
              0.4444444444444444,
              "#bd3786"
             ],
             [
              0.5555555555555556,
              "#d8576b"
             ],
             [
              0.6666666666666666,
              "#ed7953"
             ],
             [
              0.7777777777777778,
              "#fb9f3a"
             ],
             [
              0.8888888888888888,
              "#fdca26"
             ],
             [
              1,
              "#f0f921"
             ]
            ],
            "type": "heatmapgl"
           }
          ],
          "histogram": [
           {
            "marker": {
             "pattern": {
              "fillmode": "overlay",
              "size": 10,
              "solidity": 0.2
             }
            },
            "type": "histogram"
           }
          ],
          "histogram2d": [
           {
            "colorbar": {
             "outlinewidth": 0,
             "ticks": ""
            },
            "colorscale": [
             [
              0,
              "#0d0887"
             ],
             [
              0.1111111111111111,
              "#46039f"
             ],
             [
              0.2222222222222222,
              "#7201a8"
             ],
             [
              0.3333333333333333,
              "#9c179e"
             ],
             [
              0.4444444444444444,
              "#bd3786"
             ],
             [
              0.5555555555555556,
              "#d8576b"
             ],
             [
              0.6666666666666666,
              "#ed7953"
             ],
             [
              0.7777777777777778,
              "#fb9f3a"
             ],
             [
              0.8888888888888888,
              "#fdca26"
             ],
             [
              1,
              "#f0f921"
             ]
            ],
            "type": "histogram2d"
           }
          ],
          "histogram2dcontour": [
           {
            "colorbar": {
             "outlinewidth": 0,
             "ticks": ""
            },
            "colorscale": [
             [
              0,
              "#0d0887"
             ],
             [
              0.1111111111111111,
              "#46039f"
             ],
             [
              0.2222222222222222,
              "#7201a8"
             ],
             [
              0.3333333333333333,
              "#9c179e"
             ],
             [
              0.4444444444444444,
              "#bd3786"
             ],
             [
              0.5555555555555556,
              "#d8576b"
             ],
             [
              0.6666666666666666,
              "#ed7953"
             ],
             [
              0.7777777777777778,
              "#fb9f3a"
             ],
             [
              0.8888888888888888,
              "#fdca26"
             ],
             [
              1,
              "#f0f921"
             ]
            ],
            "type": "histogram2dcontour"
           }
          ],
          "mesh3d": [
           {
            "colorbar": {
             "outlinewidth": 0,
             "ticks": ""
            },
            "type": "mesh3d"
           }
          ],
          "parcoords": [
           {
            "line": {
             "colorbar": {
              "outlinewidth": 0,
              "ticks": ""
             }
            },
            "type": "parcoords"
           }
          ],
          "pie": [
           {
            "automargin": true,
            "type": "pie"
           }
          ],
          "scatter": [
           {
            "fillpattern": {
             "fillmode": "overlay",
             "size": 10,
             "solidity": 0.2
            },
            "type": "scatter"
           }
          ],
          "scatter3d": [
           {
            "line": {
             "colorbar": {
              "outlinewidth": 0,
              "ticks": ""
             }
            },
            "marker": {
             "colorbar": {
              "outlinewidth": 0,
              "ticks": ""
             }
            },
            "type": "scatter3d"
           }
          ],
          "scattercarpet": [
           {
            "marker": {
             "colorbar": {
              "outlinewidth": 0,
              "ticks": ""
             }
            },
            "type": "scattercarpet"
           }
          ],
          "scattergeo": [
           {
            "marker": {
             "colorbar": {
              "outlinewidth": 0,
              "ticks": ""
             }
            },
            "type": "scattergeo"
           }
          ],
          "scattergl": [
           {
            "marker": {
             "colorbar": {
              "outlinewidth": 0,
              "ticks": ""
             }
            },
            "type": "scattergl"
           }
          ],
          "scattermapbox": [
           {
            "marker": {
             "colorbar": {
              "outlinewidth": 0,
              "ticks": ""
             }
            },
            "type": "scattermapbox"
           }
          ],
          "scatterpolar": [
           {
            "marker": {
             "colorbar": {
              "outlinewidth": 0,
              "ticks": ""
             }
            },
            "type": "scatterpolar"
           }
          ],
          "scatterpolargl": [
           {
            "marker": {
             "colorbar": {
              "outlinewidth": 0,
              "ticks": ""
             }
            },
            "type": "scatterpolargl"
           }
          ],
          "scatterternary": [
           {
            "marker": {
             "colorbar": {
              "outlinewidth": 0,
              "ticks": ""
             }
            },
            "type": "scatterternary"
           }
          ],
          "surface": [
           {
            "colorbar": {
             "outlinewidth": 0,
             "ticks": ""
            },
            "colorscale": [
             [
              0,
              "#0d0887"
             ],
             [
              0.1111111111111111,
              "#46039f"
             ],
             [
              0.2222222222222222,
              "#7201a8"
             ],
             [
              0.3333333333333333,
              "#9c179e"
             ],
             [
              0.4444444444444444,
              "#bd3786"
             ],
             [
              0.5555555555555556,
              "#d8576b"
             ],
             [
              0.6666666666666666,
              "#ed7953"
             ],
             [
              0.7777777777777778,
              "#fb9f3a"
             ],
             [
              0.8888888888888888,
              "#fdca26"
             ],
             [
              1,
              "#f0f921"
             ]
            ],
            "type": "surface"
           }
          ],
          "table": [
           {
            "cells": {
             "fill": {
              "color": "#EBF0F8"
             },
             "line": {
              "color": "white"
             }
            },
            "header": {
             "fill": {
              "color": "#C8D4E3"
             },
             "line": {
              "color": "white"
             }
            },
            "type": "table"
           }
          ]
         },
         "layout": {
          "annotationdefaults": {
           "arrowcolor": "#2a3f5f",
           "arrowhead": 0,
           "arrowwidth": 1
          },
          "autotypenumbers": "strict",
          "coloraxis": {
           "colorbar": {
            "outlinewidth": 0,
            "ticks": ""
           }
          },
          "colorscale": {
           "diverging": [
            [
             0,
             "#8e0152"
            ],
            [
             0.1,
             "#c51b7d"
            ],
            [
             0.2,
             "#de77ae"
            ],
            [
             0.3,
             "#f1b6da"
            ],
            [
             0.4,
             "#fde0ef"
            ],
            [
             0.5,
             "#f7f7f7"
            ],
            [
             0.6,
             "#e6f5d0"
            ],
            [
             0.7,
             "#b8e186"
            ],
            [
             0.8,
             "#7fbc41"
            ],
            [
             0.9,
             "#4d9221"
            ],
            [
             1,
             "#276419"
            ]
           ],
           "sequential": [
            [
             0,
             "#0d0887"
            ],
            [
             0.1111111111111111,
             "#46039f"
            ],
            [
             0.2222222222222222,
             "#7201a8"
            ],
            [
             0.3333333333333333,
             "#9c179e"
            ],
            [
             0.4444444444444444,
             "#bd3786"
            ],
            [
             0.5555555555555556,
             "#d8576b"
            ],
            [
             0.6666666666666666,
             "#ed7953"
            ],
            [
             0.7777777777777778,
             "#fb9f3a"
            ],
            [
             0.8888888888888888,
             "#fdca26"
            ],
            [
             1,
             "#f0f921"
            ]
           ],
           "sequentialminus": [
            [
             0,
             "#0d0887"
            ],
            [
             0.1111111111111111,
             "#46039f"
            ],
            [
             0.2222222222222222,
             "#7201a8"
            ],
            [
             0.3333333333333333,
             "#9c179e"
            ],
            [
             0.4444444444444444,
             "#bd3786"
            ],
            [
             0.5555555555555556,
             "#d8576b"
            ],
            [
             0.6666666666666666,
             "#ed7953"
            ],
            [
             0.7777777777777778,
             "#fb9f3a"
            ],
            [
             0.8888888888888888,
             "#fdca26"
            ],
            [
             1,
             "#f0f921"
            ]
           ]
          },
          "colorway": [
           "#636efa",
           "#EF553B",
           "#00cc96",
           "#ab63fa",
           "#FFA15A",
           "#19d3f3",
           "#FF6692",
           "#B6E880",
           "#FF97FF",
           "#FECB52"
          ],
          "font": {
           "color": "#2a3f5f"
          },
          "geo": {
           "bgcolor": "white",
           "lakecolor": "white",
           "landcolor": "white",
           "showlakes": true,
           "showland": true,
           "subunitcolor": "#C8D4E3"
          },
          "hoverlabel": {
           "align": "left"
          },
          "hovermode": "closest",
          "mapbox": {
           "style": "light"
          },
          "paper_bgcolor": "white",
          "plot_bgcolor": "white",
          "polar": {
           "angularaxis": {
            "gridcolor": "#EBF0F8",
            "linecolor": "#EBF0F8",
            "ticks": ""
           },
           "bgcolor": "white",
           "radialaxis": {
            "gridcolor": "#EBF0F8",
            "linecolor": "#EBF0F8",
            "ticks": ""
           }
          },
          "scene": {
           "xaxis": {
            "backgroundcolor": "white",
            "gridcolor": "#DFE8F3",
            "gridwidth": 2,
            "linecolor": "#EBF0F8",
            "showbackground": true,
            "ticks": "",
            "zerolinecolor": "#EBF0F8"
           },
           "yaxis": {
            "backgroundcolor": "white",
            "gridcolor": "#DFE8F3",
            "gridwidth": 2,
            "linecolor": "#EBF0F8",
            "showbackground": true,
            "ticks": "",
            "zerolinecolor": "#EBF0F8"
           },
           "zaxis": {
            "backgroundcolor": "white",
            "gridcolor": "#DFE8F3",
            "gridwidth": 2,
            "linecolor": "#EBF0F8",
            "showbackground": true,
            "ticks": "",
            "zerolinecolor": "#EBF0F8"
           }
          },
          "shapedefaults": {
           "line": {
            "color": "#2a3f5f"
           }
          },
          "ternary": {
           "aaxis": {
            "gridcolor": "#DFE8F3",
            "linecolor": "#A2B1C6",
            "ticks": ""
           },
           "baxis": {
            "gridcolor": "#DFE8F3",
            "linecolor": "#A2B1C6",
            "ticks": ""
           },
           "bgcolor": "white",
           "caxis": {
            "gridcolor": "#DFE8F3",
            "linecolor": "#A2B1C6",
            "ticks": ""
           }
          },
          "title": {
           "x": 0.05
          },
          "xaxis": {
           "automargin": true,
           "gridcolor": "#EBF0F8",
           "linecolor": "#EBF0F8",
           "ticks": "",
           "title": {
            "standoff": 15
           },
           "zerolinecolor": "#EBF0F8",
           "zerolinewidth": 2
          },
          "yaxis": {
           "automargin": true,
           "gridcolor": "#EBF0F8",
           "linecolor": "#EBF0F8",
           "ticks": "",
           "title": {
            "standoff": 15
           },
           "zerolinecolor": "#EBF0F8",
           "zerolinewidth": 2
          }
         }
        },
        "title": {
         "text": "Sleep Percentages by Month"
        },
        "width": 1000,
        "xaxis": {
         "title": {
          "text": "Period"
         }
        },
        "yaxis": {
         "title": {
          "text": "Percentage (%)"
         }
        }
       }
      }
     },
     "metadata": {},
     "output_type": "display_data"
    }
   ],
   "source": [
    "agg.plot_States_Percentages('2023-01-01', end_time, save_png=save)"
   ]
  },
  {
   "cell_type": "code",
   "execution_count": 23,
   "metadata": {},
   "outputs": [
    {
     "name": "stdout",
     "output_type": "stream",
     "text": [
      "Grafico salvato come PNG in: ../graphs/Sleep_Percentages_week_2023-01-01_2025-02-19.png\n"
     ]
    },
    {
     "data": {
      "application/vnd.plotly.v1+json": {
       "config": {
        "plotlyServerURL": "https://plot.ly"
       },
       "data": [
        {
         "marker": {
          "color": "skyblue"
         },
         "name": "Light Sleep (%)",
         "type": "bar",
         "x": [
          "2024-09-16/2024-09-22",
          "2024-09-23/2024-09-29",
          "2024-09-30/2024-10-06",
          "2024-10-07/2024-10-13",
          "2024-10-14/2024-10-20",
          "2024-10-21/2024-10-27",
          "2024-10-28/2024-11-03",
          "2024-11-04/2024-11-10",
          "2024-11-11/2024-11-17",
          "2024-11-18/2024-11-24",
          "2024-11-25/2024-12-01",
          "2024-12-02/2024-12-08",
          "2024-12-09/2024-12-15",
          "2024-12-16/2024-12-22",
          "2024-12-23/2024-12-29",
          "2024-12-30/2025-01-05"
         ],
         "y": [
          45.5607476635514,
          62.521050333686766,
          70.25796661608497,
          61.35079058453174,
          72.51751133086115,
          46.18426255436931,
          39.94682618810236,
          47.0976253298153,
          52.82229965156794,
          38.94378687515836,
          37.58949880668258,
          30.03338898163606,
          45.400183992640294,
          34.465086483023704,
          33.209647495361786,
          37.68115942028986
         ]
        },
        {
         "marker": {
          "color": "orange"
         },
         "name": "REM Sleep (%)",
         "type": "bar",
         "x": [
          "2024-09-16/2024-09-22",
          "2024-09-23/2024-09-29",
          "2024-09-30/2024-10-06",
          "2024-10-07/2024-10-13",
          "2024-10-14/2024-10-20",
          "2024-10-21/2024-10-27",
          "2024-10-28/2024-11-03",
          "2024-11-04/2024-11-10",
          "2024-11-11/2024-11-17",
          "2024-11-18/2024-11-24",
          "2024-11-25/2024-12-01",
          "2024-12-02/2024-12-08",
          "2024-12-09/2024-12-15",
          "2024-12-16/2024-12-22",
          "2024-12-23/2024-12-29",
          "2024-12-30/2025-01-05"
         ],
         "y": [
          18.457943925233643,
          10.715399488554855,
          5.462822458270106,
          11.354367890105173,
          7.5401730531520395,
          16.923685251087388,
          16.051844466600198,
          9.762532981530343,
          17.45644599303136,
          19.27462265175372,
          17.545615520825315,
          20.30050083472454,
          19.438822447102115,
          23.894939141575914,
          17.996289424860855,
          24.30323299888517
         ]
        },
        {
         "marker": {
          "color": "purple"
         },
         "name": "Deep Sleep (%)",
         "type": "bar",
         "x": [
          "2024-09-16/2024-09-22",
          "2024-09-23/2024-09-29",
          "2024-09-30/2024-10-06",
          "2024-10-07/2024-10-13",
          "2024-10-14/2024-10-20",
          "2024-10-21/2024-10-27",
          "2024-10-28/2024-11-03",
          "2024-11-04/2024-11-10",
          "2024-11-11/2024-11-17",
          "2024-11-18/2024-11-24",
          "2024-11-25/2024-12-01",
          "2024-12-02/2024-12-08",
          "2024-12-09/2024-12-15",
          "2024-12-16/2024-12-22",
          "2024-12-23/2024-12-29",
          "2024-12-30/2025-01-05"
         ],
         "y": [
          35.981308411214954,
          26.763550177758372,
          24.279210925644918,
          27.294841525363093,
          19.942315615986814,
          36.8920521945433,
          44.00132934529744,
          43.13984168865435,
          29.721254355400696,
          41.781590473087924,
          44.86488567249211,
          49.666110183639404,
          35.16099356025759,
          41.639974375400385,
          48.79406307977737,
          38.01560758082497
         ]
        }
       ],
       "layout": {
        "barmode": "stack",
        "height": 600,
        "template": {
         "data": {
          "bar": [
           {
            "error_x": {
             "color": "#2a3f5f"
            },
            "error_y": {
             "color": "#2a3f5f"
            },
            "marker": {
             "line": {
              "color": "white",
              "width": 0.5
             },
             "pattern": {
              "fillmode": "overlay",
              "size": 10,
              "solidity": 0.2
             }
            },
            "type": "bar"
           }
          ],
          "barpolar": [
           {
            "marker": {
             "line": {
              "color": "white",
              "width": 0.5
             },
             "pattern": {
              "fillmode": "overlay",
              "size": 10,
              "solidity": 0.2
             }
            },
            "type": "barpolar"
           }
          ],
          "carpet": [
           {
            "aaxis": {
             "endlinecolor": "#2a3f5f",
             "gridcolor": "#C8D4E3",
             "linecolor": "#C8D4E3",
             "minorgridcolor": "#C8D4E3",
             "startlinecolor": "#2a3f5f"
            },
            "baxis": {
             "endlinecolor": "#2a3f5f",
             "gridcolor": "#C8D4E3",
             "linecolor": "#C8D4E3",
             "minorgridcolor": "#C8D4E3",
             "startlinecolor": "#2a3f5f"
            },
            "type": "carpet"
           }
          ],
          "choropleth": [
           {
            "colorbar": {
             "outlinewidth": 0,
             "ticks": ""
            },
            "type": "choropleth"
           }
          ],
          "contour": [
           {
            "colorbar": {
             "outlinewidth": 0,
             "ticks": ""
            },
            "colorscale": [
             [
              0,
              "#0d0887"
             ],
             [
              0.1111111111111111,
              "#46039f"
             ],
             [
              0.2222222222222222,
              "#7201a8"
             ],
             [
              0.3333333333333333,
              "#9c179e"
             ],
             [
              0.4444444444444444,
              "#bd3786"
             ],
             [
              0.5555555555555556,
              "#d8576b"
             ],
             [
              0.6666666666666666,
              "#ed7953"
             ],
             [
              0.7777777777777778,
              "#fb9f3a"
             ],
             [
              0.8888888888888888,
              "#fdca26"
             ],
             [
              1,
              "#f0f921"
             ]
            ],
            "type": "contour"
           }
          ],
          "contourcarpet": [
           {
            "colorbar": {
             "outlinewidth": 0,
             "ticks": ""
            },
            "type": "contourcarpet"
           }
          ],
          "heatmap": [
           {
            "colorbar": {
             "outlinewidth": 0,
             "ticks": ""
            },
            "colorscale": [
             [
              0,
              "#0d0887"
             ],
             [
              0.1111111111111111,
              "#46039f"
             ],
             [
              0.2222222222222222,
              "#7201a8"
             ],
             [
              0.3333333333333333,
              "#9c179e"
             ],
             [
              0.4444444444444444,
              "#bd3786"
             ],
             [
              0.5555555555555556,
              "#d8576b"
             ],
             [
              0.6666666666666666,
              "#ed7953"
             ],
             [
              0.7777777777777778,
              "#fb9f3a"
             ],
             [
              0.8888888888888888,
              "#fdca26"
             ],
             [
              1,
              "#f0f921"
             ]
            ],
            "type": "heatmap"
           }
          ],
          "heatmapgl": [
           {
            "colorbar": {
             "outlinewidth": 0,
             "ticks": ""
            },
            "colorscale": [
             [
              0,
              "#0d0887"
             ],
             [
              0.1111111111111111,
              "#46039f"
             ],
             [
              0.2222222222222222,
              "#7201a8"
             ],
             [
              0.3333333333333333,
              "#9c179e"
             ],
             [
              0.4444444444444444,
              "#bd3786"
             ],
             [
              0.5555555555555556,
              "#d8576b"
             ],
             [
              0.6666666666666666,
              "#ed7953"
             ],
             [
              0.7777777777777778,
              "#fb9f3a"
             ],
             [
              0.8888888888888888,
              "#fdca26"
             ],
             [
              1,
              "#f0f921"
             ]
            ],
            "type": "heatmapgl"
           }
          ],
          "histogram": [
           {
            "marker": {
             "pattern": {
              "fillmode": "overlay",
              "size": 10,
              "solidity": 0.2
             }
            },
            "type": "histogram"
           }
          ],
          "histogram2d": [
           {
            "colorbar": {
             "outlinewidth": 0,
             "ticks": ""
            },
            "colorscale": [
             [
              0,
              "#0d0887"
             ],
             [
              0.1111111111111111,
              "#46039f"
             ],
             [
              0.2222222222222222,
              "#7201a8"
             ],
             [
              0.3333333333333333,
              "#9c179e"
             ],
             [
              0.4444444444444444,
              "#bd3786"
             ],
             [
              0.5555555555555556,
              "#d8576b"
             ],
             [
              0.6666666666666666,
              "#ed7953"
             ],
             [
              0.7777777777777778,
              "#fb9f3a"
             ],
             [
              0.8888888888888888,
              "#fdca26"
             ],
             [
              1,
              "#f0f921"
             ]
            ],
            "type": "histogram2d"
           }
          ],
          "histogram2dcontour": [
           {
            "colorbar": {
             "outlinewidth": 0,
             "ticks": ""
            },
            "colorscale": [
             [
              0,
              "#0d0887"
             ],
             [
              0.1111111111111111,
              "#46039f"
             ],
             [
              0.2222222222222222,
              "#7201a8"
             ],
             [
              0.3333333333333333,
              "#9c179e"
             ],
             [
              0.4444444444444444,
              "#bd3786"
             ],
             [
              0.5555555555555556,
              "#d8576b"
             ],
             [
              0.6666666666666666,
              "#ed7953"
             ],
             [
              0.7777777777777778,
              "#fb9f3a"
             ],
             [
              0.8888888888888888,
              "#fdca26"
             ],
             [
              1,
              "#f0f921"
             ]
            ],
            "type": "histogram2dcontour"
           }
          ],
          "mesh3d": [
           {
            "colorbar": {
             "outlinewidth": 0,
             "ticks": ""
            },
            "type": "mesh3d"
           }
          ],
          "parcoords": [
           {
            "line": {
             "colorbar": {
              "outlinewidth": 0,
              "ticks": ""
             }
            },
            "type": "parcoords"
           }
          ],
          "pie": [
           {
            "automargin": true,
            "type": "pie"
           }
          ],
          "scatter": [
           {
            "fillpattern": {
             "fillmode": "overlay",
             "size": 10,
             "solidity": 0.2
            },
            "type": "scatter"
           }
          ],
          "scatter3d": [
           {
            "line": {
             "colorbar": {
              "outlinewidth": 0,
              "ticks": ""
             }
            },
            "marker": {
             "colorbar": {
              "outlinewidth": 0,
              "ticks": ""
             }
            },
            "type": "scatter3d"
           }
          ],
          "scattercarpet": [
           {
            "marker": {
             "colorbar": {
              "outlinewidth": 0,
              "ticks": ""
             }
            },
            "type": "scattercarpet"
           }
          ],
          "scattergeo": [
           {
            "marker": {
             "colorbar": {
              "outlinewidth": 0,
              "ticks": ""
             }
            },
            "type": "scattergeo"
           }
          ],
          "scattergl": [
           {
            "marker": {
             "colorbar": {
              "outlinewidth": 0,
              "ticks": ""
             }
            },
            "type": "scattergl"
           }
          ],
          "scattermapbox": [
           {
            "marker": {
             "colorbar": {
              "outlinewidth": 0,
              "ticks": ""
             }
            },
            "type": "scattermapbox"
           }
          ],
          "scatterpolar": [
           {
            "marker": {
             "colorbar": {
              "outlinewidth": 0,
              "ticks": ""
             }
            },
            "type": "scatterpolar"
           }
          ],
          "scatterpolargl": [
           {
            "marker": {
             "colorbar": {
              "outlinewidth": 0,
              "ticks": ""
             }
            },
            "type": "scatterpolargl"
           }
          ],
          "scatterternary": [
           {
            "marker": {
             "colorbar": {
              "outlinewidth": 0,
              "ticks": ""
             }
            },
            "type": "scatterternary"
           }
          ],
          "surface": [
           {
            "colorbar": {
             "outlinewidth": 0,
             "ticks": ""
            },
            "colorscale": [
             [
              0,
              "#0d0887"
             ],
             [
              0.1111111111111111,
              "#46039f"
             ],
             [
              0.2222222222222222,
              "#7201a8"
             ],
             [
              0.3333333333333333,
              "#9c179e"
             ],
             [
              0.4444444444444444,
              "#bd3786"
             ],
             [
              0.5555555555555556,
              "#d8576b"
             ],
             [
              0.6666666666666666,
              "#ed7953"
             ],
             [
              0.7777777777777778,
              "#fb9f3a"
             ],
             [
              0.8888888888888888,
              "#fdca26"
             ],
             [
              1,
              "#f0f921"
             ]
            ],
            "type": "surface"
           }
          ],
          "table": [
           {
            "cells": {
             "fill": {
              "color": "#EBF0F8"
             },
             "line": {
              "color": "white"
             }
            },
            "header": {
             "fill": {
              "color": "#C8D4E3"
             },
             "line": {
              "color": "white"
             }
            },
            "type": "table"
           }
          ]
         },
         "layout": {
          "annotationdefaults": {
           "arrowcolor": "#2a3f5f",
           "arrowhead": 0,
           "arrowwidth": 1
          },
          "autotypenumbers": "strict",
          "coloraxis": {
           "colorbar": {
            "outlinewidth": 0,
            "ticks": ""
           }
          },
          "colorscale": {
           "diverging": [
            [
             0,
             "#8e0152"
            ],
            [
             0.1,
             "#c51b7d"
            ],
            [
             0.2,
             "#de77ae"
            ],
            [
             0.3,
             "#f1b6da"
            ],
            [
             0.4,
             "#fde0ef"
            ],
            [
             0.5,
             "#f7f7f7"
            ],
            [
             0.6,
             "#e6f5d0"
            ],
            [
             0.7,
             "#b8e186"
            ],
            [
             0.8,
             "#7fbc41"
            ],
            [
             0.9,
             "#4d9221"
            ],
            [
             1,
             "#276419"
            ]
           ],
           "sequential": [
            [
             0,
             "#0d0887"
            ],
            [
             0.1111111111111111,
             "#46039f"
            ],
            [
             0.2222222222222222,
             "#7201a8"
            ],
            [
             0.3333333333333333,
             "#9c179e"
            ],
            [
             0.4444444444444444,
             "#bd3786"
            ],
            [
             0.5555555555555556,
             "#d8576b"
            ],
            [
             0.6666666666666666,
             "#ed7953"
            ],
            [
             0.7777777777777778,
             "#fb9f3a"
            ],
            [
             0.8888888888888888,
             "#fdca26"
            ],
            [
             1,
             "#f0f921"
            ]
           ],
           "sequentialminus": [
            [
             0,
             "#0d0887"
            ],
            [
             0.1111111111111111,
             "#46039f"
            ],
            [
             0.2222222222222222,
             "#7201a8"
            ],
            [
             0.3333333333333333,
             "#9c179e"
            ],
            [
             0.4444444444444444,
             "#bd3786"
            ],
            [
             0.5555555555555556,
             "#d8576b"
            ],
            [
             0.6666666666666666,
             "#ed7953"
            ],
            [
             0.7777777777777778,
             "#fb9f3a"
            ],
            [
             0.8888888888888888,
             "#fdca26"
            ],
            [
             1,
             "#f0f921"
            ]
           ]
          },
          "colorway": [
           "#636efa",
           "#EF553B",
           "#00cc96",
           "#ab63fa",
           "#FFA15A",
           "#19d3f3",
           "#FF6692",
           "#B6E880",
           "#FF97FF",
           "#FECB52"
          ],
          "font": {
           "color": "#2a3f5f"
          },
          "geo": {
           "bgcolor": "white",
           "lakecolor": "white",
           "landcolor": "white",
           "showlakes": true,
           "showland": true,
           "subunitcolor": "#C8D4E3"
          },
          "hoverlabel": {
           "align": "left"
          },
          "hovermode": "closest",
          "mapbox": {
           "style": "light"
          },
          "paper_bgcolor": "white",
          "plot_bgcolor": "white",
          "polar": {
           "angularaxis": {
            "gridcolor": "#EBF0F8",
            "linecolor": "#EBF0F8",
            "ticks": ""
           },
           "bgcolor": "white",
           "radialaxis": {
            "gridcolor": "#EBF0F8",
            "linecolor": "#EBF0F8",
            "ticks": ""
           }
          },
          "scene": {
           "xaxis": {
            "backgroundcolor": "white",
            "gridcolor": "#DFE8F3",
            "gridwidth": 2,
            "linecolor": "#EBF0F8",
            "showbackground": true,
            "ticks": "",
            "zerolinecolor": "#EBF0F8"
           },
           "yaxis": {
            "backgroundcolor": "white",
            "gridcolor": "#DFE8F3",
            "gridwidth": 2,
            "linecolor": "#EBF0F8",
            "showbackground": true,
            "ticks": "",
            "zerolinecolor": "#EBF0F8"
           },
           "zaxis": {
            "backgroundcolor": "white",
            "gridcolor": "#DFE8F3",
            "gridwidth": 2,
            "linecolor": "#EBF0F8",
            "showbackground": true,
            "ticks": "",
            "zerolinecolor": "#EBF0F8"
           }
          },
          "shapedefaults": {
           "line": {
            "color": "#2a3f5f"
           }
          },
          "ternary": {
           "aaxis": {
            "gridcolor": "#DFE8F3",
            "linecolor": "#A2B1C6",
            "ticks": ""
           },
           "baxis": {
            "gridcolor": "#DFE8F3",
            "linecolor": "#A2B1C6",
            "ticks": ""
           },
           "bgcolor": "white",
           "caxis": {
            "gridcolor": "#DFE8F3",
            "linecolor": "#A2B1C6",
            "ticks": ""
           }
          },
          "title": {
           "x": 0.05
          },
          "xaxis": {
           "automargin": true,
           "gridcolor": "#EBF0F8",
           "linecolor": "#EBF0F8",
           "ticks": "",
           "title": {
            "standoff": 15
           },
           "zerolinecolor": "#EBF0F8",
           "zerolinewidth": 2
          },
          "yaxis": {
           "automargin": true,
           "gridcolor": "#EBF0F8",
           "linecolor": "#EBF0F8",
           "ticks": "",
           "title": {
            "standoff": 15
           },
           "zerolinecolor": "#EBF0F8",
           "zerolinewidth": 2
          }
         }
        },
        "title": {
         "text": "Sleep Percentages by Week"
        },
        "width": 1000,
        "xaxis": {
         "title": {
          "text": "Period"
         }
        },
        "yaxis": {
         "title": {
          "text": "Percentage (%)"
         }
        }
       }
      }
     },
     "metadata": {},
     "output_type": "display_data"
    }
   ],
   "source": [
    "agg.plot_States_Percentages('2023-01-01', end_time, 'week', save_png=save)"
   ]
  },
  {
   "cell_type": "code",
   "execution_count": 24,
   "metadata": {},
   "outputs": [
    {
     "name": "stdout",
     "output_type": "stream",
     "text": [
      "Grafico salvato come PNG in: ../graphs/Sleep_Percentages_day_2023-01-01_2025-02-19.png\n"
     ]
    },
    {
     "data": {
      "application/vnd.plotly.v1+json": {
       "config": {
        "plotlyServerURL": "https://plot.ly"
       },
       "data": [
        {
         "marker": {
          "color": "skyblue"
         },
         "name": "Light Sleep (%)",
         "type": "bar",
         "x": [
          "2024-09-21",
          "2024-09-22",
          "2024-09-23",
          "2024-09-24",
          "2024-09-25",
          "2024-09-26",
          "2024-09-27",
          "2024-09-28",
          "2024-09-29",
          "2024-09-30",
          "2024-10-01",
          "2024-10-02",
          "2024-10-03",
          "2024-10-04",
          "2024-10-05",
          "2024-10-06",
          "2024-10-07",
          "2024-10-08",
          "2024-10-09",
          "2024-10-10",
          "2024-10-11",
          "2024-10-12",
          "2024-10-13",
          "2024-10-14",
          "2024-10-15",
          "2024-10-16",
          "2024-10-17",
          "2024-10-18",
          "2024-10-19",
          "2024-10-20",
          "2024-10-21",
          "2024-10-22",
          "2024-10-23",
          "2024-10-24",
          "2024-10-25",
          "2024-10-26",
          "2024-10-27",
          "2024-10-28",
          "2024-10-29",
          "2024-10-30",
          "2024-10-31",
          "2024-11-01",
          "2024-11-02",
          "2024-11-03",
          "2024-11-04",
          "2024-11-05",
          "2024-11-06",
          "2024-11-07",
          "2024-11-08",
          "2024-11-09",
          "2024-11-10",
          "2024-11-11",
          "2024-11-12",
          "2024-11-13",
          "2024-11-14",
          "2024-11-15",
          "2024-11-16",
          "2024-11-17",
          "2024-11-18",
          "2024-11-19",
          "2024-11-20",
          "2024-11-21",
          "2024-11-22",
          "2024-11-23",
          "2024-11-24",
          "2024-11-25",
          "2024-11-26",
          "2024-11-27",
          "2024-11-28",
          "2024-11-29",
          "2024-11-30",
          "2024-12-01",
          "2024-12-02",
          "2024-12-05",
          "2024-12-06",
          "2024-12-07",
          "2024-12-08",
          "2024-12-09",
          "2024-12-10",
          "2024-12-11",
          "2024-12-12",
          "2024-12-13",
          "2024-12-14",
          "2024-12-15",
          "2024-12-16",
          "2024-12-17",
          "2024-12-18",
          "2024-12-19",
          "2024-12-20",
          "2024-12-21",
          "2024-12-22",
          "2024-12-23",
          "2024-12-24",
          "2024-12-25",
          "2024-12-26",
          "2024-12-27",
          "2024-12-28",
          "2024-12-29",
          "2024-12-30",
          "2024-12-31"
         ],
         "y": [
          24.705882352941178,
          66.12529002320186,
          77.11111111111111,
          87.29281767955801,
          88.40579710144928,
          42.63070077864293,
          62.96296296296296,
          73.68421052631578,
          91.50943396226415,
          82.10526315789474,
          49.43820224719101,
          100,
          78.72340425531915,
          66.77966101694915,
          77.62237762237763,
          57.85123966942148,
          75,
          74.77477477477478,
          61.1764705882353,
          53.985507246376805,
          53.34794253713172,
          64.51612903225806,
          69.28406466512702,
          85.90163934426229,
          81.75182481751825,
          79.29292929292929,
          49.8220640569395,
          80.12958963282938,
          86.68831168831169,
          48.333333333333336,
          92.40506329113924,
          40.75949367088608,
          36.40350877192983,
          56.666666666666664,
          54.6742209631728,
          70.86834733893558,
          17.91044776119403,
          27.22063037249284,
          50.224215246636774,
          45.11278195488722,
          43.77510040160642,
          40.09216589861751,
          32.35294117647059,
          38.095238095238095,
          50.57471264367817,
          58.29383886255924,
          42.38805970149254,
          43.19526627218935,
          34.77321814254859,
          51.45299145299145,
          47.31977818853974,
          61.904761904761905,
          30,
          53.4521158129176,
          77.9874213836478,
          43.96135265700483,
          61.43187066974596,
          48.858447488584474,
          27.191011235955052,
          44.63414634146341,
          48.13186813186813,
          37.58278145695364,
          47.578947368421055,
          34.183673469387756,
          37.12433706540955,
          41.37931034482759,
          40.9339503575936,
          22.471071295259424,
          40.4047976011994,
          40.78341013824885,
          36.027713625866056,
          33.94495412844037,
          21.379310344827587,
          27.96195652173913,
          30.031870556508945,
          43.00401203610832,
          24.44933920704846,
          39.031413612565444,
          38.983050847457626,
          57.84543325526932,
          41.59779614325069,
          44.3609022556391,
          42.82700421940928,
          55.294117647058826,
          40.041928721174,
          35.824175824175825,
          27.368421052631582,
          37.644341801385686,
          32.071269487750556,
          30.952380952380953,
          37.530266343825666,
          40.76655052264808,
          28.50356294536817,
          30.580357142857146,
          25.471698113207548,
          39.20704845814978,
          24.622030237580994,
          40.666666666666664,
          33.33333333333333,
          42.298850574712645
         ]
        },
        {
         "marker": {
          "color": "orange"
         },
         "name": "REM Sleep (%)",
         "type": "bar",
         "x": [
          "2024-09-21",
          "2024-09-22",
          "2024-09-23",
          "2024-09-24",
          "2024-09-25",
          "2024-09-26",
          "2024-09-27",
          "2024-09-28",
          "2024-09-29",
          "2024-09-30",
          "2024-10-01",
          "2024-10-02",
          "2024-10-03",
          "2024-10-04",
          "2024-10-05",
          "2024-10-06",
          "2024-10-07",
          "2024-10-08",
          "2024-10-09",
          "2024-10-10",
          "2024-10-11",
          "2024-10-12",
          "2024-10-13",
          "2024-10-14",
          "2024-10-15",
          "2024-10-16",
          "2024-10-17",
          "2024-10-18",
          "2024-10-19",
          "2024-10-20",
          "2024-10-21",
          "2024-10-22",
          "2024-10-23",
          "2024-10-24",
          "2024-10-25",
          "2024-10-26",
          "2024-10-27",
          "2024-10-28",
          "2024-10-29",
          "2024-10-30",
          "2024-10-31",
          "2024-11-01",
          "2024-11-02",
          "2024-11-03",
          "2024-11-04",
          "2024-11-05",
          "2024-11-06",
          "2024-11-07",
          "2024-11-08",
          "2024-11-09",
          "2024-11-10",
          "2024-11-11",
          "2024-11-12",
          "2024-11-13",
          "2024-11-14",
          "2024-11-15",
          "2024-11-16",
          "2024-11-17",
          "2024-11-18",
          "2024-11-19",
          "2024-11-20",
          "2024-11-21",
          "2024-11-22",
          "2024-11-23",
          "2024-11-24",
          "2024-11-25",
          "2024-11-26",
          "2024-11-27",
          "2024-11-28",
          "2024-11-29",
          "2024-11-30",
          "2024-12-01",
          "2024-12-02",
          "2024-12-05",
          "2024-12-06",
          "2024-12-07",
          "2024-12-08",
          "2024-12-09",
          "2024-12-10",
          "2024-12-11",
          "2024-12-12",
          "2024-12-13",
          "2024-12-14",
          "2024-12-15",
          "2024-12-16",
          "2024-12-17",
          "2024-12-18",
          "2024-12-19",
          "2024-12-20",
          "2024-12-21",
          "2024-12-22",
          "2024-12-23",
          "2024-12-24",
          "2024-12-25",
          "2024-12-26",
          "2024-12-27",
          "2024-12-28",
          "2024-12-29",
          "2024-12-30",
          "2024-12-31"
         ],
         "y": [
          20.941176470588236,
          16.009280742459396,
          4.222222222222222,
          1.1049723756906076,
          0,
          17.269187986651836,
          11.522633744855968,
          13.157894736842104,
          8.49056603773585,
          0,
          14.232209737827715,
          0,
          0,
          0.6779661016949152,
          4.195804195804196,
          16.528925619834713,
          0,
          0.9009009009009009,
          16.470588235294116,
          17.753623188405797,
          15.120525931336742,
          6.720430107526881,
          8.083140877598153,
          14.098360655737704,
          8.27250608272506,
          1.0101010101010102,
          14.05693950177936,
          3.455723542116631,
          2.922077922077922,
          0,
          7.59493670886076,
          9.873417721518987,
          23.464912280701753,
          14.761904761904763,
          5.382436260623229,
          11.484593837535014,
          32.83582089552239,
          12.034383954154727,
          0.4484304932735426,
          21.553884711779446,
          12.650602409638553,
          11.751152073732719,
          35.294117647058826,
          18.820861678004537,
          11.781609195402298,
          10.42654028436019,
          0,
          9.763313609467456,
          18.790496760259177,
          11.282051282051283,
          4.621072088724584,
          15.873015873015872,
          23.636363636363637,
          16.70378619153675,
          5.660377358490567,
          25.845410628019323,
          18.013856812933028,
          13.470319634703195,
          30.337078651685395,
          27.80487804878049,
          13.626373626373626,
          12.582781456953644,
          9.473684210526317,
          21.598639455782312,
          20.801414260459634,
          14.942528735632186,
          19.21189174028888,
          23.180291153415453,
          15.517241379310345,
          10.138248847926267,
          19.168591224018474,
          19.724770642201836,
          35.63218390804598,
          16.875,
          15.224319686197596,
          15.57171514543631,
          22.026431718061673,
          16.2565445026178,
          29.66101694915254,
          13.817330210772832,
          17.355371900826448,
          23.55889724310777,
          12.658227848101266,
          23.294117647058822,
          18.867924528301888,
          22.197802197802197,
          28.842105263157897,
          22.863741339491916,
          24.276169265033406,
          29.523809523809526,
          20.823244552058114,
          17.247386759581882,
          19.002375296912113,
          18.526785714285715,
          16.50943396226415,
          16.079295154185022,
          17.278617710583152,
          21.555555555555557,
          24.675324675324674,
          23.908045977011493
         ]
        },
        {
         "marker": {
          "color": "purple"
         },
         "name": "Deep Sleep (%)",
         "type": "bar",
         "x": [
          "2024-09-21",
          "2024-09-22",
          "2024-09-23",
          "2024-09-24",
          "2024-09-25",
          "2024-09-26",
          "2024-09-27",
          "2024-09-28",
          "2024-09-29",
          "2024-09-30",
          "2024-10-01",
          "2024-10-02",
          "2024-10-03",
          "2024-10-04",
          "2024-10-05",
          "2024-10-06",
          "2024-10-07",
          "2024-10-08",
          "2024-10-09",
          "2024-10-10",
          "2024-10-11",
          "2024-10-12",
          "2024-10-13",
          "2024-10-14",
          "2024-10-15",
          "2024-10-16",
          "2024-10-17",
          "2024-10-18",
          "2024-10-19",
          "2024-10-20",
          "2024-10-21",
          "2024-10-22",
          "2024-10-23",
          "2024-10-24",
          "2024-10-25",
          "2024-10-26",
          "2024-10-27",
          "2024-10-28",
          "2024-10-29",
          "2024-10-30",
          "2024-10-31",
          "2024-11-01",
          "2024-11-02",
          "2024-11-03",
          "2024-11-04",
          "2024-11-05",
          "2024-11-06",
          "2024-11-07",
          "2024-11-08",
          "2024-11-09",
          "2024-11-10",
          "2024-11-11",
          "2024-11-12",
          "2024-11-13",
          "2024-11-14",
          "2024-11-15",
          "2024-11-16",
          "2024-11-17",
          "2024-11-18",
          "2024-11-19",
          "2024-11-20",
          "2024-11-21",
          "2024-11-22",
          "2024-11-23",
          "2024-11-24",
          "2024-11-25",
          "2024-11-26",
          "2024-11-27",
          "2024-11-28",
          "2024-11-29",
          "2024-11-30",
          "2024-12-01",
          "2024-12-02",
          "2024-12-05",
          "2024-12-06",
          "2024-12-07",
          "2024-12-08",
          "2024-12-09",
          "2024-12-10",
          "2024-12-11",
          "2024-12-12",
          "2024-12-13",
          "2024-12-14",
          "2024-12-15",
          "2024-12-16",
          "2024-12-17",
          "2024-12-18",
          "2024-12-19",
          "2024-12-20",
          "2024-12-21",
          "2024-12-22",
          "2024-12-23",
          "2024-12-24",
          "2024-12-25",
          "2024-12-26",
          "2024-12-27",
          "2024-12-28",
          "2024-12-29",
          "2024-12-30",
          "2024-12-31"
         ],
         "y": [
          54.352941176470594,
          17.865429234338748,
          18.666666666666668,
          11.602209944751381,
          11.594202898550725,
          40.100111234705224,
          25.514403292181072,
          13.157894736842104,
          0,
          17.894736842105264,
          36.329588014981276,
          0,
          21.27659574468085,
          32.54237288135593,
          18.181818181818183,
          25.6198347107438,
          25,
          24.324324324324326,
          22.35294117647059,
          28.26086956521739,
          31.53153153153153,
          28.763440860215056,
          22.632794457274827,
          0,
          9.975669099756692,
          19.696969696969695,
          36.120996441281136,
          16.414686825053995,
          10.38961038961039,
          51.66666666666667,
          0,
          49.36708860759494,
          40.131578947368425,
          28.57142857142857,
          39.94334277620396,
          17.647058823529413,
          49.25373134328358,
          60.74498567335244,
          49.327354260089685,
          33.33333333333333,
          43.57429718875502,
          48.15668202764977,
          32.35294117647059,
          43.08390022675737,
          37.64367816091954,
          31.27962085308057,
          57.611940298507456,
          47.0414201183432,
          46.436285097192226,
          37.26495726495727,
          48.059149722735675,
          22.22222222222222,
          46.36363636363636,
          29.84409799554566,
          16.352201257861633,
          30.193236714975846,
          20.554272517321014,
          37.67123287671233,
          42.47191011235955,
          27.5609756097561,
          38.24175824175824,
          49.83443708609271,
          42.94736842105264,
          44.21768707482993,
          42.074248674130814,
          43.67816091954023,
          39.854157902117514,
          54.34863755132512,
          44.07796101949025,
          49.07834101382488,
          44.80369515011547,
          46.330275229357795,
          42.98850574712644,
          55.16304347826087,
          54.74380975729345,
          41.424272818455364,
          53.524229074889874,
          44.71204188481675,
          31.35593220338983,
          28.337236533957842,
          41.04683195592286,
          32.08020050125313,
          44.51476793248945,
          21.41176470588235,
          41.090146750524106,
          41.97802197802198,
          43.78947368421053,
          39.4919168591224,
          43.652561247216035,
          39.523809523809526,
          41.64648910411623,
          41.98606271777003,
          52.49406175771971,
          50.89285714285714,
          58.01886792452831,
          44.713656387665196,
          58.09935205183585,
          37.77777777777778,
          41.99134199134199,
          33.793103448275865
         ]
        }
       ],
       "layout": {
        "barmode": "stack",
        "height": 600,
        "template": {
         "data": {
          "bar": [
           {
            "error_x": {
             "color": "#2a3f5f"
            },
            "error_y": {
             "color": "#2a3f5f"
            },
            "marker": {
             "line": {
              "color": "white",
              "width": 0.5
             },
             "pattern": {
              "fillmode": "overlay",
              "size": 10,
              "solidity": 0.2
             }
            },
            "type": "bar"
           }
          ],
          "barpolar": [
           {
            "marker": {
             "line": {
              "color": "white",
              "width": 0.5
             },
             "pattern": {
              "fillmode": "overlay",
              "size": 10,
              "solidity": 0.2
             }
            },
            "type": "barpolar"
           }
          ],
          "carpet": [
           {
            "aaxis": {
             "endlinecolor": "#2a3f5f",
             "gridcolor": "#C8D4E3",
             "linecolor": "#C8D4E3",
             "minorgridcolor": "#C8D4E3",
             "startlinecolor": "#2a3f5f"
            },
            "baxis": {
             "endlinecolor": "#2a3f5f",
             "gridcolor": "#C8D4E3",
             "linecolor": "#C8D4E3",
             "minorgridcolor": "#C8D4E3",
             "startlinecolor": "#2a3f5f"
            },
            "type": "carpet"
           }
          ],
          "choropleth": [
           {
            "colorbar": {
             "outlinewidth": 0,
             "ticks": ""
            },
            "type": "choropleth"
           }
          ],
          "contour": [
           {
            "colorbar": {
             "outlinewidth": 0,
             "ticks": ""
            },
            "colorscale": [
             [
              0,
              "#0d0887"
             ],
             [
              0.1111111111111111,
              "#46039f"
             ],
             [
              0.2222222222222222,
              "#7201a8"
             ],
             [
              0.3333333333333333,
              "#9c179e"
             ],
             [
              0.4444444444444444,
              "#bd3786"
             ],
             [
              0.5555555555555556,
              "#d8576b"
             ],
             [
              0.6666666666666666,
              "#ed7953"
             ],
             [
              0.7777777777777778,
              "#fb9f3a"
             ],
             [
              0.8888888888888888,
              "#fdca26"
             ],
             [
              1,
              "#f0f921"
             ]
            ],
            "type": "contour"
           }
          ],
          "contourcarpet": [
           {
            "colorbar": {
             "outlinewidth": 0,
             "ticks": ""
            },
            "type": "contourcarpet"
           }
          ],
          "heatmap": [
           {
            "colorbar": {
             "outlinewidth": 0,
             "ticks": ""
            },
            "colorscale": [
             [
              0,
              "#0d0887"
             ],
             [
              0.1111111111111111,
              "#46039f"
             ],
             [
              0.2222222222222222,
              "#7201a8"
             ],
             [
              0.3333333333333333,
              "#9c179e"
             ],
             [
              0.4444444444444444,
              "#bd3786"
             ],
             [
              0.5555555555555556,
              "#d8576b"
             ],
             [
              0.6666666666666666,
              "#ed7953"
             ],
             [
              0.7777777777777778,
              "#fb9f3a"
             ],
             [
              0.8888888888888888,
              "#fdca26"
             ],
             [
              1,
              "#f0f921"
             ]
            ],
            "type": "heatmap"
           }
          ],
          "heatmapgl": [
           {
            "colorbar": {
             "outlinewidth": 0,
             "ticks": ""
            },
            "colorscale": [
             [
              0,
              "#0d0887"
             ],
             [
              0.1111111111111111,
              "#46039f"
             ],
             [
              0.2222222222222222,
              "#7201a8"
             ],
             [
              0.3333333333333333,
              "#9c179e"
             ],
             [
              0.4444444444444444,
              "#bd3786"
             ],
             [
              0.5555555555555556,
              "#d8576b"
             ],
             [
              0.6666666666666666,
              "#ed7953"
             ],
             [
              0.7777777777777778,
              "#fb9f3a"
             ],
             [
              0.8888888888888888,
              "#fdca26"
             ],
             [
              1,
              "#f0f921"
             ]
            ],
            "type": "heatmapgl"
           }
          ],
          "histogram": [
           {
            "marker": {
             "pattern": {
              "fillmode": "overlay",
              "size": 10,
              "solidity": 0.2
             }
            },
            "type": "histogram"
           }
          ],
          "histogram2d": [
           {
            "colorbar": {
             "outlinewidth": 0,
             "ticks": ""
            },
            "colorscale": [
             [
              0,
              "#0d0887"
             ],
             [
              0.1111111111111111,
              "#46039f"
             ],
             [
              0.2222222222222222,
              "#7201a8"
             ],
             [
              0.3333333333333333,
              "#9c179e"
             ],
             [
              0.4444444444444444,
              "#bd3786"
             ],
             [
              0.5555555555555556,
              "#d8576b"
             ],
             [
              0.6666666666666666,
              "#ed7953"
             ],
             [
              0.7777777777777778,
              "#fb9f3a"
             ],
             [
              0.8888888888888888,
              "#fdca26"
             ],
             [
              1,
              "#f0f921"
             ]
            ],
            "type": "histogram2d"
           }
          ],
          "histogram2dcontour": [
           {
            "colorbar": {
             "outlinewidth": 0,
             "ticks": ""
            },
            "colorscale": [
             [
              0,
              "#0d0887"
             ],
             [
              0.1111111111111111,
              "#46039f"
             ],
             [
              0.2222222222222222,
              "#7201a8"
             ],
             [
              0.3333333333333333,
              "#9c179e"
             ],
             [
              0.4444444444444444,
              "#bd3786"
             ],
             [
              0.5555555555555556,
              "#d8576b"
             ],
             [
              0.6666666666666666,
              "#ed7953"
             ],
             [
              0.7777777777777778,
              "#fb9f3a"
             ],
             [
              0.8888888888888888,
              "#fdca26"
             ],
             [
              1,
              "#f0f921"
             ]
            ],
            "type": "histogram2dcontour"
           }
          ],
          "mesh3d": [
           {
            "colorbar": {
             "outlinewidth": 0,
             "ticks": ""
            },
            "type": "mesh3d"
           }
          ],
          "parcoords": [
           {
            "line": {
             "colorbar": {
              "outlinewidth": 0,
              "ticks": ""
             }
            },
            "type": "parcoords"
           }
          ],
          "pie": [
           {
            "automargin": true,
            "type": "pie"
           }
          ],
          "scatter": [
           {
            "fillpattern": {
             "fillmode": "overlay",
             "size": 10,
             "solidity": 0.2
            },
            "type": "scatter"
           }
          ],
          "scatter3d": [
           {
            "line": {
             "colorbar": {
              "outlinewidth": 0,
              "ticks": ""
             }
            },
            "marker": {
             "colorbar": {
              "outlinewidth": 0,
              "ticks": ""
             }
            },
            "type": "scatter3d"
           }
          ],
          "scattercarpet": [
           {
            "marker": {
             "colorbar": {
              "outlinewidth": 0,
              "ticks": ""
             }
            },
            "type": "scattercarpet"
           }
          ],
          "scattergeo": [
           {
            "marker": {
             "colorbar": {
              "outlinewidth": 0,
              "ticks": ""
             }
            },
            "type": "scattergeo"
           }
          ],
          "scattergl": [
           {
            "marker": {
             "colorbar": {
              "outlinewidth": 0,
              "ticks": ""
             }
            },
            "type": "scattergl"
           }
          ],
          "scattermapbox": [
           {
            "marker": {
             "colorbar": {
              "outlinewidth": 0,
              "ticks": ""
             }
            },
            "type": "scattermapbox"
           }
          ],
          "scatterpolar": [
           {
            "marker": {
             "colorbar": {
              "outlinewidth": 0,
              "ticks": ""
             }
            },
            "type": "scatterpolar"
           }
          ],
          "scatterpolargl": [
           {
            "marker": {
             "colorbar": {
              "outlinewidth": 0,
              "ticks": ""
             }
            },
            "type": "scatterpolargl"
           }
          ],
          "scatterternary": [
           {
            "marker": {
             "colorbar": {
              "outlinewidth": 0,
              "ticks": ""
             }
            },
            "type": "scatterternary"
           }
          ],
          "surface": [
           {
            "colorbar": {
             "outlinewidth": 0,
             "ticks": ""
            },
            "colorscale": [
             [
              0,
              "#0d0887"
             ],
             [
              0.1111111111111111,
              "#46039f"
             ],
             [
              0.2222222222222222,
              "#7201a8"
             ],
             [
              0.3333333333333333,
              "#9c179e"
             ],
             [
              0.4444444444444444,
              "#bd3786"
             ],
             [
              0.5555555555555556,
              "#d8576b"
             ],
             [
              0.6666666666666666,
              "#ed7953"
             ],
             [
              0.7777777777777778,
              "#fb9f3a"
             ],
             [
              0.8888888888888888,
              "#fdca26"
             ],
             [
              1,
              "#f0f921"
             ]
            ],
            "type": "surface"
           }
          ],
          "table": [
           {
            "cells": {
             "fill": {
              "color": "#EBF0F8"
             },
             "line": {
              "color": "white"
             }
            },
            "header": {
             "fill": {
              "color": "#C8D4E3"
             },
             "line": {
              "color": "white"
             }
            },
            "type": "table"
           }
          ]
         },
         "layout": {
          "annotationdefaults": {
           "arrowcolor": "#2a3f5f",
           "arrowhead": 0,
           "arrowwidth": 1
          },
          "autotypenumbers": "strict",
          "coloraxis": {
           "colorbar": {
            "outlinewidth": 0,
            "ticks": ""
           }
          },
          "colorscale": {
           "diverging": [
            [
             0,
             "#8e0152"
            ],
            [
             0.1,
             "#c51b7d"
            ],
            [
             0.2,
             "#de77ae"
            ],
            [
             0.3,
             "#f1b6da"
            ],
            [
             0.4,
             "#fde0ef"
            ],
            [
             0.5,
             "#f7f7f7"
            ],
            [
             0.6,
             "#e6f5d0"
            ],
            [
             0.7,
             "#b8e186"
            ],
            [
             0.8,
             "#7fbc41"
            ],
            [
             0.9,
             "#4d9221"
            ],
            [
             1,
             "#276419"
            ]
           ],
           "sequential": [
            [
             0,
             "#0d0887"
            ],
            [
             0.1111111111111111,
             "#46039f"
            ],
            [
             0.2222222222222222,
             "#7201a8"
            ],
            [
             0.3333333333333333,
             "#9c179e"
            ],
            [
             0.4444444444444444,
             "#bd3786"
            ],
            [
             0.5555555555555556,
             "#d8576b"
            ],
            [
             0.6666666666666666,
             "#ed7953"
            ],
            [
             0.7777777777777778,
             "#fb9f3a"
            ],
            [
             0.8888888888888888,
             "#fdca26"
            ],
            [
             1,
             "#f0f921"
            ]
           ],
           "sequentialminus": [
            [
             0,
             "#0d0887"
            ],
            [
             0.1111111111111111,
             "#46039f"
            ],
            [
             0.2222222222222222,
             "#7201a8"
            ],
            [
             0.3333333333333333,
             "#9c179e"
            ],
            [
             0.4444444444444444,
             "#bd3786"
            ],
            [
             0.5555555555555556,
             "#d8576b"
            ],
            [
             0.6666666666666666,
             "#ed7953"
            ],
            [
             0.7777777777777778,
             "#fb9f3a"
            ],
            [
             0.8888888888888888,
             "#fdca26"
            ],
            [
             1,
             "#f0f921"
            ]
           ]
          },
          "colorway": [
           "#636efa",
           "#EF553B",
           "#00cc96",
           "#ab63fa",
           "#FFA15A",
           "#19d3f3",
           "#FF6692",
           "#B6E880",
           "#FF97FF",
           "#FECB52"
          ],
          "font": {
           "color": "#2a3f5f"
          },
          "geo": {
           "bgcolor": "white",
           "lakecolor": "white",
           "landcolor": "white",
           "showlakes": true,
           "showland": true,
           "subunitcolor": "#C8D4E3"
          },
          "hoverlabel": {
           "align": "left"
          },
          "hovermode": "closest",
          "mapbox": {
           "style": "light"
          },
          "paper_bgcolor": "white",
          "plot_bgcolor": "white",
          "polar": {
           "angularaxis": {
            "gridcolor": "#EBF0F8",
            "linecolor": "#EBF0F8",
            "ticks": ""
           },
           "bgcolor": "white",
           "radialaxis": {
            "gridcolor": "#EBF0F8",
            "linecolor": "#EBF0F8",
            "ticks": ""
           }
          },
          "scene": {
           "xaxis": {
            "backgroundcolor": "white",
            "gridcolor": "#DFE8F3",
            "gridwidth": 2,
            "linecolor": "#EBF0F8",
            "showbackground": true,
            "ticks": "",
            "zerolinecolor": "#EBF0F8"
           },
           "yaxis": {
            "backgroundcolor": "white",
            "gridcolor": "#DFE8F3",
            "gridwidth": 2,
            "linecolor": "#EBF0F8",
            "showbackground": true,
            "ticks": "",
            "zerolinecolor": "#EBF0F8"
           },
           "zaxis": {
            "backgroundcolor": "white",
            "gridcolor": "#DFE8F3",
            "gridwidth": 2,
            "linecolor": "#EBF0F8",
            "showbackground": true,
            "ticks": "",
            "zerolinecolor": "#EBF0F8"
           }
          },
          "shapedefaults": {
           "line": {
            "color": "#2a3f5f"
           }
          },
          "ternary": {
           "aaxis": {
            "gridcolor": "#DFE8F3",
            "linecolor": "#A2B1C6",
            "ticks": ""
           },
           "baxis": {
            "gridcolor": "#DFE8F3",
            "linecolor": "#A2B1C6",
            "ticks": ""
           },
           "bgcolor": "white",
           "caxis": {
            "gridcolor": "#DFE8F3",
            "linecolor": "#A2B1C6",
            "ticks": ""
           }
          },
          "title": {
           "x": 0.05
          },
          "xaxis": {
           "automargin": true,
           "gridcolor": "#EBF0F8",
           "linecolor": "#EBF0F8",
           "ticks": "",
           "title": {
            "standoff": 15
           },
           "zerolinecolor": "#EBF0F8",
           "zerolinewidth": 2
          },
          "yaxis": {
           "automargin": true,
           "gridcolor": "#EBF0F8",
           "linecolor": "#EBF0F8",
           "ticks": "",
           "title": {
            "standoff": 15
           },
           "zerolinecolor": "#EBF0F8",
           "zerolinewidth": 2
          }
         }
        },
        "title": {
         "text": "Sleep Percentages by Day"
        },
        "width": 1000,
        "xaxis": {
         "title": {
          "text": "Period"
         }
        },
        "yaxis": {
         "title": {
          "text": "Percentage (%)"
         }
        }
       }
      }
     },
     "metadata": {},
     "output_type": "display_data"
    }
   ],
   "source": [
    "agg.plot_States_Percentages('2023-01-01', end_time, 'day', save_png=save)"
   ]
  },
  {
   "cell_type": "code",
   "execution_count": null,
   "metadata": {},
   "outputs": [],
   "source": []
  }
 ],
 "metadata": {
  "kernelspec": {
   "display_name": ".venv",
   "language": "python",
   "name": "python3"
  },
  "language_info": {
   "codemirror_mode": {
    "name": "ipython",
    "version": 3
   },
   "file_extension": ".py",
   "mimetype": "text/x-python",
   "name": "python",
   "nbconvert_exporter": "python",
   "pygments_lexer": "ipython3",
   "version": "3.11.11"
  }
 },
 "nbformat": 4,
 "nbformat_minor": 2
}
