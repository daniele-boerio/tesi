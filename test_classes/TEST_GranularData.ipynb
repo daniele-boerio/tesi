{
 "cells": [
  {
   "cell_type": "markdown",
   "id": "1195f2bf",
   "metadata": {},
   "source": [
    "## <font color='blue'> This study was needed to explore the dataframes of granular data for each subject and to create some methods of GranularData class"
   ]
  },
  {
   "cell_type": "code",
   "execution_count": 1,
   "id": "7b1ec4ff-c6e7-4c0d-b5e2-a5ae25e46b79",
   "metadata": {},
   "outputs": [],
   "source": [
    "import sys\n",
    "sys.path.append('../SleepClasses/')  # Aggiungi il percorso della cartella2\n",
    "\n",
    "import pandas as pd\n",
    "from GranularData import GranularData\n",
    "\n",
    "# Mostra tutte le colonne\n",
    "pd.set_option('display.max_columns', None)"
   ]
  },
  {
   "cell_type": "code",
   "execution_count": 2,
   "id": "2aeb37d7",
   "metadata": {},
   "outputs": [],
   "source": [
    "sleep_dfs_agg = pd.read_pickle(r'../SleepData/sleep_dfs_agg.pkl')\n",
    "sleep_dfs_gran = pd.read_pickle(r'../SleepData/sleep_dfs_gran.pkl')"
   ]
  },
  {
   "cell_type": "code",
   "execution_count": 3,
   "id": "a1eb29f8",
   "metadata": {},
   "outputs": [],
   "source": [
    "sleep_dfs_gran['5'] = sleep_dfs_gran['5'].sort_values(by='local_time').reset_index(drop=True)"
   ]
  },
  {
   "cell_type": "code",
   "execution_count": 4,
   "id": "5a3c45c0",
   "metadata": {},
   "outputs": [],
   "source": [
    "# Istance of GranularData\n",
    "granular1 = GranularData(sleep_dfs_gran['5'])"
   ]
  },
  {
   "cell_type": "code",
   "execution_count": null,
   "id": "77b4e2aa",
   "metadata": {},
   "outputs": [],
   "source": [
    "granular1.getDictNights()['2023-11-28'][0]"
   ]
  },
  {
   "cell_type": "code",
   "execution_count": null,
   "id": "20ea95d9",
   "metadata": {},
   "outputs": [],
   "source": [
    "granular1.getMeasuresOfSpecificNight('2023-11-15')"
   ]
  },
  {
   "cell_type": "code",
   "execution_count": null,
   "id": "b5c603ee",
   "metadata": {},
   "outputs": [],
   "source": [
    "granular1.getMeasuresOfSpecificInterval(\"2023-11-15 08:00:00\", \"2024-08-07 23:59:59\")"
   ]
  },
  {
   "cell_type": "code",
   "execution_count": null,
   "id": "6cfe820e",
   "metadata": {},
   "outputs": [],
   "source": [
    "# Get the dictionary of a specific measure:['hr', 'rmssd', 'rr', 'sdnn_1', 'snoring', 'startdate', 'state', 'enddate', 'hash_deviceid', 'model', 'model_id']\n",
    "granular1.getMeasureOfNights('mvt_score')"
   ]
  },
  {
   "cell_type": "code",
   "execution_count": null,
   "id": "582c6bf5",
   "metadata": {},
   "outputs": [],
   "source": [
    "# Get the values of a specific date and measure['hr', 'rmssd', 'rr', 'sdnn_1', 'snoring', 'StartValue', 'state', 'EndValue', 'hash_deviceid', 'model', 'model_id']\n",
    "# 2023-10-12 day without a nap\n",
    "# 2023-12-03 day with a nap\n",
    "granular1.getMeasureOfSpecificNight('hr', '2024-10-01')"
   ]
  },
  {
   "cell_type": "code",
   "execution_count": null,
   "id": "77917c0c",
   "metadata": {},
   "outputs": [],
   "source": [
    "# Function to plot values on these parameters:['hr', 'rmssd', 'rr', 'sdnn_1', 'snoring', 'state']\n",
    "granular1.plot('state', '2024-10-01')"
   ]
  }
 ],
 "metadata": {
  "kernelspec": {
   "display_name": ".venv",
   "language": "python",
   "name": "python3"
  },
  "language_info": {
   "codemirror_mode": {
    "name": "ipython",
    "version": 3
   },
   "file_extension": ".py",
   "mimetype": "text/x-python",
   "name": "python",
   "nbconvert_exporter": "python",
   "pygments_lexer": "ipython3",
   "version": "3.11.11"
  }
 },
 "nbformat": 4,
 "nbformat_minor": 5
}
