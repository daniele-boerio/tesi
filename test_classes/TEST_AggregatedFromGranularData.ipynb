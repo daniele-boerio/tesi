{
 "cells": [
  {
   "cell_type": "code",
   "execution_count": 21,
   "metadata": {},
   "outputs": [],
   "source": [
    "import sys\n",
    "sys.path.append('../SleepClasses/')  # Aggiungi il percorso della cartella2\n",
    "\n",
    "import pandas as pd\n",
    "from AggregatedDataFromWithings import AggregatedDataFromWithings\n",
    "from AggregatedFromGranularData import AggregatedFromGranularData\n",
    "\n",
    "# Mostra tutte le colonne\n",
    "pd.set_option('display.max_columns', None)"
   ]
  },
  {
   "cell_type": "markdown",
   "metadata": {},
   "source": [
    "measures = [\"StartValue\", \"EndValue\", \"HrAverage\", \"HrMax\",  \"HrMin\",  \"RmssdAverage\", \"RmssdMax\", \"RmssdMin\", \"RrAverage\", \"RrMax\", \"RrMin\", \"Sdnn_1Average\", \"Sdnn_1Max\", \"Sdnn_1Min\",\"SnoringAverage\", \"SnoringMax\", \"SnoringMin\", \"LightSleepDuration\", \"RemSleepDuration\", \"DeepSleepDuration\", \"WakeUpDuration\", \"WakeUpCount\", \"ManualSleepDuration\",\"UndefinedSleepDuration\", \"OutOfBedCount\", \"OutOfBedTime\", \"OutOfBed\", \"TotalSleepTime\"]"
   ]
  },
  {
   "cell_type": "code",
   "execution_count": 22,
   "metadata": {},
   "outputs": [],
   "source": [
    "sleep_dfs_agg = pd.read_pickle(r'../SleepData/sleep_dfs_agg.pkl')\n",
    "sleep_dfs_gran = pd.read_pickle(r'../SleepData/sleep_dfs_gran.pkl')\n",
    "aggregatedDatafromWithings = AggregatedDataFromWithings(sleep_dfs_agg['2'])\n",
    "aggregatedDatafromGranular = AggregatedFromGranularData(sleep_dfs_gran['2'])"
   ]
  },
  {
   "cell_type": "markdown",
   "metadata": {},
   "source": [
    "### Funzionamento classe AggregatedFromGranularData()"
   ]
  },
  {
   "cell_type": "code",
   "execution_count": 23,
   "metadata": {},
   "outputs": [
    {
     "data": {
      "text/html": [
       "<div>\n",
       "<style scoped>\n",
       "    .dataframe tbody tr th:only-of-type {\n",
       "        vertical-align: middle;\n",
       "    }\n",
       "\n",
       "    .dataframe tbody tr th {\n",
       "        vertical-align: top;\n",
       "    }\n",
       "\n",
       "    .dataframe thead th {\n",
       "        text-align: right;\n",
       "    }\n",
       "</style>\n",
       "<table border=\"1\" class=\"dataframe\">\n",
       "  <thead>\n",
       "    <tr style=\"text-align: right;\">\n",
       "      <th></th>\n",
       "      <th>date_start</th>\n",
       "      <th>date_end</th>\n",
       "      <th>nap</th>\n",
       "      <th>hr_average</th>\n",
       "      <th>hr_max</th>\n",
       "      <th>hr_min</th>\n",
       "      <th>rmssd_average</th>\n",
       "      <th>rmssd_max</th>\n",
       "      <th>rmssd_min</th>\n",
       "      <th>rr_average</th>\n",
       "      <th>rr_max</th>\n",
       "      <th>rr_min</th>\n",
       "      <th>sdnn_1_average</th>\n",
       "      <th>sdnn_1_max</th>\n",
       "      <th>sdnn_1_min</th>\n",
       "      <th>snoring_average</th>\n",
       "      <th>snoring_max</th>\n",
       "      <th>snoring_min</th>\n",
       "      <th>mvt_score_average</th>\n",
       "      <th>mvt_score_max</th>\n",
       "      <th>mvt_score_min</th>\n",
       "      <th>light_sleep_duration</th>\n",
       "      <th>rem_sleep_duration</th>\n",
       "      <th>deep_sleep_duration</th>\n",
       "      <th>wakeup_duration</th>\n",
       "      <th>manual_sleep_duration</th>\n",
       "      <th>undefined_sleep_duration</th>\n",
       "      <th>wakeup_count</th>\n",
       "      <th>out_of_bed_count</th>\n",
       "      <th>out_of_bed_time</th>\n",
       "      <th>out_of_bed</th>\n",
       "      <th>total_sleep_time</th>\n",
       "      <th>model</th>\n",
       "      <th>model_id</th>\n",
       "      <th>date</th>\n",
       "    </tr>\n",
       "  </thead>\n",
       "  <tbody>\n",
       "    <tr>\n",
       "      <th>0</th>\n",
       "      <td>2023-07-24 15:20:00+02:00</td>\n",
       "      <td>2023-07-24 16:06:00+02:00</td>\n",
       "      <td>True</td>\n",
       "      <td>69</td>\n",
       "      <td>78</td>\n",
       "      <td>53</td>\n",
       "      <td>14</td>\n",
       "      <td>55</td>\n",
       "      <td>0</td>\n",
       "      <td>16</td>\n",
       "      <td>24</td>\n",
       "      <td>11</td>\n",
       "      <td>15</td>\n",
       "      <td>62</td>\n",
       "      <td>0</td>\n",
       "      <td>0</td>\n",
       "      <td>0</td>\n",
       "      <td>0</td>\n",
       "      <td>None</td>\n",
       "      <td>None</td>\n",
       "      <td>None</td>\n",
       "      <td>1020</td>\n",
       "      <td>0</td>\n",
       "      <td>0</td>\n",
       "      <td>1740</td>\n",
       "      <td>0</td>\n",
       "      <td>0</td>\n",
       "      <td>1</td>\n",
       "      <td>0</td>\n",
       "      <td>0 days 00:00:00</td>\n",
       "      <td>[]</td>\n",
       "      <td>1020</td>\n",
       "      <td>Aura Sensor V2</td>\n",
       "      <td>63</td>\n",
       "      <td>2023-07-24</td>\n",
       "    </tr>\n",
       "    <tr>\n",
       "      <th>1</th>\n",
       "      <td>2023-07-25 00:08:00+02:00</td>\n",
       "      <td>2023-07-25 10:15:00+02:00</td>\n",
       "      <td>False</td>\n",
       "      <td>64</td>\n",
       "      <td>83</td>\n",
       "      <td>49</td>\n",
       "      <td>35</td>\n",
       "      <td>52</td>\n",
       "      <td>0</td>\n",
       "      <td>16</td>\n",
       "      <td>26</td>\n",
       "      <td>8</td>\n",
       "      <td>52</td>\n",
       "      <td>64</td>\n",
       "      <td>0</td>\n",
       "      <td>0</td>\n",
       "      <td>100</td>\n",
       "      <td>0</td>\n",
       "      <td>None</td>\n",
       "      <td>None</td>\n",
       "      <td>None</td>\n",
       "      <td>14520</td>\n",
       "      <td>4980</td>\n",
       "      <td>5880</td>\n",
       "      <td>11040</td>\n",
       "      <td>0</td>\n",
       "      <td>0</td>\n",
       "      <td>6</td>\n",
       "      <td>2</td>\n",
       "      <td>0 days 00:16:00</td>\n",
       "      <td>[{'date_start': 2023-07-25 04:00:00+02:00, 'da...</td>\n",
       "      <td>25380</td>\n",
       "      <td>Aura Sensor V2</td>\n",
       "      <td>63</td>\n",
       "      <td>2023-07-25</td>\n",
       "    </tr>\n",
       "    <tr>\n",
       "      <th>2</th>\n",
       "      <td>2023-07-25 15:17:00+02:00</td>\n",
       "      <td>2023-07-25 16:47:00+02:00</td>\n",
       "      <td>True</td>\n",
       "      <td>78</td>\n",
       "      <td>88</td>\n",
       "      <td>63</td>\n",
       "      <td>30</td>\n",
       "      <td>58</td>\n",
       "      <td>0</td>\n",
       "      <td>17</td>\n",
       "      <td>24</td>\n",
       "      <td>10</td>\n",
       "      <td>42</td>\n",
       "      <td>68</td>\n",
       "      <td>0</td>\n",
       "      <td>0</td>\n",
       "      <td>0</td>\n",
       "      <td>0</td>\n",
       "      <td>None</td>\n",
       "      <td>None</td>\n",
       "      <td>None</td>\n",
       "      <td>1260</td>\n",
       "      <td>0</td>\n",
       "      <td>1920</td>\n",
       "      <td>2220</td>\n",
       "      <td>0</td>\n",
       "      <td>0</td>\n",
       "      <td>1</td>\n",
       "      <td>0</td>\n",
       "      <td>0 days 00:00:00</td>\n",
       "      <td>[]</td>\n",
       "      <td>3180</td>\n",
       "      <td>Aura Sensor V2</td>\n",
       "      <td>63</td>\n",
       "      <td>2023-07-25</td>\n",
       "    </tr>\n",
       "    <tr>\n",
       "      <th>3</th>\n",
       "      <td>2023-07-25 23:27:00+02:00</td>\n",
       "      <td>2023-07-26 07:31:00+02:00</td>\n",
       "      <td>False</td>\n",
       "      <td>62</td>\n",
       "      <td>82</td>\n",
       "      <td>50</td>\n",
       "      <td>35</td>\n",
       "      <td>45</td>\n",
       "      <td>0</td>\n",
       "      <td>15</td>\n",
       "      <td>25</td>\n",
       "      <td>10</td>\n",
       "      <td>43</td>\n",
       "      <td>53</td>\n",
       "      <td>0</td>\n",
       "      <td>0</td>\n",
       "      <td>0</td>\n",
       "      <td>0</td>\n",
       "      <td>None</td>\n",
       "      <td>None</td>\n",
       "      <td>None</td>\n",
       "      <td>21240</td>\n",
       "      <td>1080</td>\n",
       "      <td>3600</td>\n",
       "      <td>3120</td>\n",
       "      <td>0</td>\n",
       "      <td>0</td>\n",
       "      <td>3</td>\n",
       "      <td>0</td>\n",
       "      <td>0 days 00:00:00</td>\n",
       "      <td>[]</td>\n",
       "      <td>25920</td>\n",
       "      <td>Aura Sensor V2</td>\n",
       "      <td>63</td>\n",
       "      <td>2023-07-26</td>\n",
       "    </tr>\n",
       "    <tr>\n",
       "      <th>4</th>\n",
       "      <td>2023-07-26 23:54:00+02:00</td>\n",
       "      <td>2023-07-27 09:32:00+02:00</td>\n",
       "      <td>False</td>\n",
       "      <td>61</td>\n",
       "      <td>78</td>\n",
       "      <td>48</td>\n",
       "      <td>37</td>\n",
       "      <td>58</td>\n",
       "      <td>0</td>\n",
       "      <td>16</td>\n",
       "      <td>26</td>\n",
       "      <td>8</td>\n",
       "      <td>48</td>\n",
       "      <td>58</td>\n",
       "      <td>0</td>\n",
       "      <td>3</td>\n",
       "      <td>100</td>\n",
       "      <td>0</td>\n",
       "      <td>None</td>\n",
       "      <td>None</td>\n",
       "      <td>None</td>\n",
       "      <td>15480</td>\n",
       "      <td>4680</td>\n",
       "      <td>6000</td>\n",
       "      <td>8520</td>\n",
       "      <td>0</td>\n",
       "      <td>0</td>\n",
       "      <td>3</td>\n",
       "      <td>0</td>\n",
       "      <td>0 days 00:00:00</td>\n",
       "      <td>[]</td>\n",
       "      <td>26160</td>\n",
       "      <td>Aura Sensor V2</td>\n",
       "      <td>63</td>\n",
       "      <td>2023-07-27</td>\n",
       "    </tr>\n",
       "    <tr>\n",
       "      <th>...</th>\n",
       "      <td>...</td>\n",
       "      <td>...</td>\n",
       "      <td>...</td>\n",
       "      <td>...</td>\n",
       "      <td>...</td>\n",
       "      <td>...</td>\n",
       "      <td>...</td>\n",
       "      <td>...</td>\n",
       "      <td>...</td>\n",
       "      <td>...</td>\n",
       "      <td>...</td>\n",
       "      <td>...</td>\n",
       "      <td>...</td>\n",
       "      <td>...</td>\n",
       "      <td>...</td>\n",
       "      <td>...</td>\n",
       "      <td>...</td>\n",
       "      <td>...</td>\n",
       "      <td>...</td>\n",
       "      <td>...</td>\n",
       "      <td>...</td>\n",
       "      <td>...</td>\n",
       "      <td>...</td>\n",
       "      <td>...</td>\n",
       "      <td>...</td>\n",
       "      <td>...</td>\n",
       "      <td>...</td>\n",
       "      <td>...</td>\n",
       "      <td>...</td>\n",
       "      <td>...</td>\n",
       "      <td>...</td>\n",
       "      <td>...</td>\n",
       "      <td>...</td>\n",
       "      <td>...</td>\n",
       "      <td>...</td>\n",
       "    </tr>\n",
       "    <tr>\n",
       "      <th>763</th>\n",
       "      <td>2024-12-27 23:08:00+01:00</td>\n",
       "      <td>2024-12-28 08:13:00+01:00</td>\n",
       "      <td>False</td>\n",
       "      <td>67</td>\n",
       "      <td>84</td>\n",
       "      <td>53</td>\n",
       "      <td>50</td>\n",
       "      <td>87</td>\n",
       "      <td>0</td>\n",
       "      <td>16</td>\n",
       "      <td>22</td>\n",
       "      <td>10</td>\n",
       "      <td>64</td>\n",
       "      <td>241</td>\n",
       "      <td>0</td>\n",
       "      <td>9</td>\n",
       "      <td>100</td>\n",
       "      <td>0</td>\n",
       "      <td>2</td>\n",
       "      <td>135</td>\n",
       "      <td>0</td>\n",
       "      <td>26820</td>\n",
       "      <td>2340</td>\n",
       "      <td>0</td>\n",
       "      <td>3540</td>\n",
       "      <td>0</td>\n",
       "      <td>0</td>\n",
       "      <td>6</td>\n",
       "      <td>0</td>\n",
       "      <td>0 days 00:00:00</td>\n",
       "      <td>[]</td>\n",
       "      <td>29160</td>\n",
       "      <td>Aura Sensor V2</td>\n",
       "      <td>63</td>\n",
       "      <td>2024-12-28</td>\n",
       "    </tr>\n",
       "    <tr>\n",
       "      <th>764</th>\n",
       "      <td>2024-12-28 23:04:00+01:00</td>\n",
       "      <td>2024-12-29 07:58:00+01:00</td>\n",
       "      <td>False</td>\n",
       "      <td>66</td>\n",
       "      <td>90</td>\n",
       "      <td>52</td>\n",
       "      <td>47</td>\n",
       "      <td>89</td>\n",
       "      <td>0</td>\n",
       "      <td>15</td>\n",
       "      <td>22</td>\n",
       "      <td>10</td>\n",
       "      <td>59</td>\n",
       "      <td>206</td>\n",
       "      <td>0</td>\n",
       "      <td>23</td>\n",
       "      <td>100</td>\n",
       "      <td>0</td>\n",
       "      <td>2</td>\n",
       "      <td>159</td>\n",
       "      <td>0</td>\n",
       "      <td>23340</td>\n",
       "      <td>1140</td>\n",
       "      <td>1500</td>\n",
       "      <td>6060</td>\n",
       "      <td>0</td>\n",
       "      <td>0</td>\n",
       "      <td>5</td>\n",
       "      <td>0</td>\n",
       "      <td>0 days 00:00:00</td>\n",
       "      <td>[]</td>\n",
       "      <td>25980</td>\n",
       "      <td>Aura Sensor V2</td>\n",
       "      <td>63</td>\n",
       "      <td>2024-12-29</td>\n",
       "    </tr>\n",
       "    <tr>\n",
       "      <th>765</th>\n",
       "      <td>2024-12-29 23:05:00+01:00</td>\n",
       "      <td>2024-12-30 09:54:00+01:00</td>\n",
       "      <td>False</td>\n",
       "      <td>62</td>\n",
       "      <td>76</td>\n",
       "      <td>51</td>\n",
       "      <td>47</td>\n",
       "      <td>86</td>\n",
       "      <td>0</td>\n",
       "      <td>15</td>\n",
       "      <td>22</td>\n",
       "      <td>9</td>\n",
       "      <td>58</td>\n",
       "      <td>168</td>\n",
       "      <td>0</td>\n",
       "      <td>2</td>\n",
       "      <td>100</td>\n",
       "      <td>0</td>\n",
       "      <td>2</td>\n",
       "      <td>140</td>\n",
       "      <td>0</td>\n",
       "      <td>30180</td>\n",
       "      <td>2220</td>\n",
       "      <td>3660</td>\n",
       "      <td>2880</td>\n",
       "      <td>0</td>\n",
       "      <td>0</td>\n",
       "      <td>5</td>\n",
       "      <td>0</td>\n",
       "      <td>0 days 00:00:00</td>\n",
       "      <td>[]</td>\n",
       "      <td>36060</td>\n",
       "      <td>Aura Sensor V2</td>\n",
       "      <td>63</td>\n",
       "      <td>2024-12-30</td>\n",
       "    </tr>\n",
       "    <tr>\n",
       "      <th>766</th>\n",
       "      <td>2024-12-31 00:23:00+01:00</td>\n",
       "      <td>2024-12-31 10:12:00+01:00</td>\n",
       "      <td>False</td>\n",
       "      <td>62</td>\n",
       "      <td>85</td>\n",
       "      <td>49</td>\n",
       "      <td>52</td>\n",
       "      <td>96</td>\n",
       "      <td>0</td>\n",
       "      <td>15</td>\n",
       "      <td>20</td>\n",
       "      <td>10</td>\n",
       "      <td>77</td>\n",
       "      <td>232</td>\n",
       "      <td>0</td>\n",
       "      <td>2</td>\n",
       "      <td>100</td>\n",
       "      <td>0</td>\n",
       "      <td>3</td>\n",
       "      <td>157</td>\n",
       "      <td>0</td>\n",
       "      <td>19920</td>\n",
       "      <td>9000</td>\n",
       "      <td>720</td>\n",
       "      <td>5700</td>\n",
       "      <td>0</td>\n",
       "      <td>0</td>\n",
       "      <td>4</td>\n",
       "      <td>1</td>\n",
       "      <td>0 days 01:05:00</td>\n",
       "      <td>[{'date_start': 2024-12-31 08:08:00+01:00, 'da...</td>\n",
       "      <td>29640</td>\n",
       "      <td>Aura Sensor V2</td>\n",
       "      <td>63</td>\n",
       "      <td>2024-12-31</td>\n",
       "    </tr>\n",
       "    <tr>\n",
       "      <th>767</th>\n",
       "      <td>2024-12-31 23:03:00+01:00</td>\n",
       "      <td>2024-12-31 23:59:00+01:00</td>\n",
       "      <td>False</td>\n",
       "      <td>83</td>\n",
       "      <td>94</td>\n",
       "      <td>47</td>\n",
       "      <td>37</td>\n",
       "      <td>81</td>\n",
       "      <td>0</td>\n",
       "      <td>18</td>\n",
       "      <td>22</td>\n",
       "      <td>10</td>\n",
       "      <td>90</td>\n",
       "      <td>239</td>\n",
       "      <td>0</td>\n",
       "      <td>0</td>\n",
       "      <td>0</td>\n",
       "      <td>0</td>\n",
       "      <td>2</td>\n",
       "      <td>39</td>\n",
       "      <td>0</td>\n",
       "      <td>660</td>\n",
       "      <td>0</td>\n",
       "      <td>180</td>\n",
       "      <td>2520</td>\n",
       "      <td>0</td>\n",
       "      <td>0</td>\n",
       "      <td>1</td>\n",
       "      <td>0</td>\n",
       "      <td>0 days 00:00:00</td>\n",
       "      <td>[]</td>\n",
       "      <td>840</td>\n",
       "      <td>Aura Sensor V2</td>\n",
       "      <td>63</td>\n",
       "      <td>2024-12-31</td>\n",
       "    </tr>\n",
       "  </tbody>\n",
       "</table>\n",
       "<p>768 rows × 35 columns</p>\n",
       "</div>"
      ],
      "text/plain": [
       "                   date_start                  date_end    nap  hr_average  \\\n",
       "0   2023-07-24 15:20:00+02:00 2023-07-24 16:06:00+02:00   True          69   \n",
       "1   2023-07-25 00:08:00+02:00 2023-07-25 10:15:00+02:00  False          64   \n",
       "2   2023-07-25 15:17:00+02:00 2023-07-25 16:47:00+02:00   True          78   \n",
       "3   2023-07-25 23:27:00+02:00 2023-07-26 07:31:00+02:00  False          62   \n",
       "4   2023-07-26 23:54:00+02:00 2023-07-27 09:32:00+02:00  False          61   \n",
       "..                        ...                       ...    ...         ...   \n",
       "763 2024-12-27 23:08:00+01:00 2024-12-28 08:13:00+01:00  False          67   \n",
       "764 2024-12-28 23:04:00+01:00 2024-12-29 07:58:00+01:00  False          66   \n",
       "765 2024-12-29 23:05:00+01:00 2024-12-30 09:54:00+01:00  False          62   \n",
       "766 2024-12-31 00:23:00+01:00 2024-12-31 10:12:00+01:00  False          62   \n",
       "767 2024-12-31 23:03:00+01:00 2024-12-31 23:59:00+01:00  False          83   \n",
       "\n",
       "     hr_max  hr_min rmssd_average rmssd_max rmssd_min rr_average rr_max  \\\n",
       "0        78      53            14        55         0         16     24   \n",
       "1        83      49            35        52         0         16     26   \n",
       "2        88      63            30        58         0         17     24   \n",
       "3        82      50            35        45         0         15     25   \n",
       "4        78      48            37        58         0         16     26   \n",
       "..      ...     ...           ...       ...       ...        ...    ...   \n",
       "763      84      53            50        87         0         16     22   \n",
       "764      90      52            47        89         0         15     22   \n",
       "765      76      51            47        86         0         15     22   \n",
       "766      85      49            52        96         0         15     20   \n",
       "767      94      47            37        81         0         18     22   \n",
       "\n",
       "    rr_min sdnn_1_average sdnn_1_max sdnn_1_min snoring_average snoring_max  \\\n",
       "0       11             15         62          0               0           0   \n",
       "1        8             52         64          0               0         100   \n",
       "2       10             42         68          0               0           0   \n",
       "3       10             43         53          0               0           0   \n",
       "4        8             48         58          0               3         100   \n",
       "..     ...            ...        ...        ...             ...         ...   \n",
       "763     10             64        241          0               9         100   \n",
       "764     10             59        206          0              23         100   \n",
       "765      9             58        168          0               2         100   \n",
       "766     10             77        232          0               2         100   \n",
       "767     10             90        239          0               0           0   \n",
       "\n",
       "    snoring_min mvt_score_average mvt_score_max mvt_score_min  \\\n",
       "0             0              None          None          None   \n",
       "1             0              None          None          None   \n",
       "2             0              None          None          None   \n",
       "3             0              None          None          None   \n",
       "4             0              None          None          None   \n",
       "..          ...               ...           ...           ...   \n",
       "763           0                 2           135             0   \n",
       "764           0                 2           159             0   \n",
       "765           0                 2           140             0   \n",
       "766           0                 3           157             0   \n",
       "767           0                 2            39             0   \n",
       "\n",
       "     light_sleep_duration  rem_sleep_duration  deep_sleep_duration  \\\n",
       "0                    1020                   0                    0   \n",
       "1                   14520                4980                 5880   \n",
       "2                    1260                   0                 1920   \n",
       "3                   21240                1080                 3600   \n",
       "4                   15480                4680                 6000   \n",
       "..                    ...                 ...                  ...   \n",
       "763                 26820                2340                    0   \n",
       "764                 23340                1140                 1500   \n",
       "765                 30180                2220                 3660   \n",
       "766                 19920                9000                  720   \n",
       "767                   660                   0                  180   \n",
       "\n",
       "     wakeup_duration  manual_sleep_duration  undefined_sleep_duration  \\\n",
       "0               1740                      0                         0   \n",
       "1              11040                      0                         0   \n",
       "2               2220                      0                         0   \n",
       "3               3120                      0                         0   \n",
       "4               8520                      0                         0   \n",
       "..               ...                    ...                       ...   \n",
       "763             3540                      0                         0   \n",
       "764             6060                      0                         0   \n",
       "765             2880                      0                         0   \n",
       "766             5700                      0                         0   \n",
       "767             2520                      0                         0   \n",
       "\n",
       "     wakeup_count  out_of_bed_count out_of_bed_time  \\\n",
       "0               1                 0 0 days 00:00:00   \n",
       "1               6                 2 0 days 00:16:00   \n",
       "2               1                 0 0 days 00:00:00   \n",
       "3               3                 0 0 days 00:00:00   \n",
       "4               3                 0 0 days 00:00:00   \n",
       "..            ...               ...             ...   \n",
       "763             6                 0 0 days 00:00:00   \n",
       "764             5                 0 0 days 00:00:00   \n",
       "765             5                 0 0 days 00:00:00   \n",
       "766             4                 1 0 days 01:05:00   \n",
       "767             1                 0 0 days 00:00:00   \n",
       "\n",
       "                                            out_of_bed  total_sleep_time  \\\n",
       "0                                                   []              1020   \n",
       "1    [{'date_start': 2023-07-25 04:00:00+02:00, 'da...             25380   \n",
       "2                                                   []              3180   \n",
       "3                                                   []             25920   \n",
       "4                                                   []             26160   \n",
       "..                                                 ...               ...   \n",
       "763                                                 []             29160   \n",
       "764                                                 []             25980   \n",
       "765                                                 []             36060   \n",
       "766  [{'date_start': 2024-12-31 08:08:00+01:00, 'da...             29640   \n",
       "767                                                 []               840   \n",
       "\n",
       "              model  model_id        date  \n",
       "0    Aura Sensor V2        63  2023-07-24  \n",
       "1    Aura Sensor V2        63  2023-07-25  \n",
       "2    Aura Sensor V2        63  2023-07-25  \n",
       "3    Aura Sensor V2        63  2023-07-26  \n",
       "4    Aura Sensor V2        63  2023-07-27  \n",
       "..              ...       ...         ...  \n",
       "763  Aura Sensor V2        63  2024-12-28  \n",
       "764  Aura Sensor V2        63  2024-12-29  \n",
       "765  Aura Sensor V2        63  2024-12-30  \n",
       "766  Aura Sensor V2        63  2024-12-31  \n",
       "767  Aura Sensor V2        63  2024-12-31  \n",
       "\n",
       "[768 rows x 35 columns]"
      ]
     },
     "execution_count": 23,
     "metadata": {},
     "output_type": "execute_result"
    }
   ],
   "source": [
    "aggregatedDatafromGranular.getMeasureDf()"
   ]
  },
  {
   "cell_type": "code",
   "execution_count": 24,
   "metadata": {},
   "outputs": [
    {
     "data": {
      "text/html": [
       "<div>\n",
       "<style scoped>\n",
       "    .dataframe tbody tr th:only-of-type {\n",
       "        vertical-align: middle;\n",
       "    }\n",
       "\n",
       "    .dataframe tbody tr th {\n",
       "        vertical-align: top;\n",
       "    }\n",
       "\n",
       "    .dataframe thead th {\n",
       "        text-align: right;\n",
       "    }\n",
       "</style>\n",
       "<table border=\"1\" class=\"dataframe\">\n",
       "  <thead>\n",
       "    <tr style=\"text-align: right;\">\n",
       "      <th></th>\n",
       "      <th>date_start</th>\n",
       "      <th>date_end</th>\n",
       "      <th>nap</th>\n",
       "      <th>hr_average</th>\n",
       "      <th>hr_max</th>\n",
       "      <th>hr_min</th>\n",
       "      <th>rmssd_average</th>\n",
       "      <th>rmssd_max</th>\n",
       "      <th>rmssd_min</th>\n",
       "      <th>rr_average</th>\n",
       "      <th>rr_max</th>\n",
       "      <th>rr_min</th>\n",
       "      <th>sdnn_1_average</th>\n",
       "      <th>sdnn_1_max</th>\n",
       "      <th>sdnn_1_min</th>\n",
       "      <th>snoring_average</th>\n",
       "      <th>snoring_max</th>\n",
       "      <th>snoring_min</th>\n",
       "      <th>mvt_score_average</th>\n",
       "      <th>mvt_score_max</th>\n",
       "      <th>mvt_score_min</th>\n",
       "      <th>light_sleep_duration</th>\n",
       "      <th>rem_sleep_duration</th>\n",
       "      <th>deep_sleep_duration</th>\n",
       "      <th>wakeup_duration</th>\n",
       "      <th>manual_sleep_duration</th>\n",
       "      <th>undefined_sleep_duration</th>\n",
       "      <th>wakeup_count</th>\n",
       "      <th>out_of_bed_count</th>\n",
       "      <th>out_of_bed_time</th>\n",
       "      <th>out_of_bed</th>\n",
       "      <th>total_sleep_time</th>\n",
       "      <th>model</th>\n",
       "      <th>model_id</th>\n",
       "      <th>date</th>\n",
       "    </tr>\n",
       "  </thead>\n",
       "  <tbody>\n",
       "    <tr>\n",
       "      <th>0</th>\n",
       "      <td>2024-06-20 01:12:00+02:00</td>\n",
       "      <td>2024-06-20 08:38:00+02:00</td>\n",
       "      <td>False</td>\n",
       "      <td>62</td>\n",
       "      <td>81</td>\n",
       "      <td>47</td>\n",
       "      <td>33</td>\n",
       "      <td>36</td>\n",
       "      <td>24</td>\n",
       "      <td>16</td>\n",
       "      <td>25</td>\n",
       "      <td>9</td>\n",
       "      <td>51</td>\n",
       "      <td>55</td>\n",
       "      <td>44</td>\n",
       "      <td>2</td>\n",
       "      <td>100</td>\n",
       "      <td>0</td>\n",
       "      <td>None</td>\n",
       "      <td>None</td>\n",
       "      <td>None</td>\n",
       "      <td>16980</td>\n",
       "      <td>3060</td>\n",
       "      <td>720</td>\n",
       "      <td>6000</td>\n",
       "      <td>0</td>\n",
       "      <td>0</td>\n",
       "      <td>4</td>\n",
       "      <td>1</td>\n",
       "      <td>0 days 00:09:00</td>\n",
       "      <td>[{'date_start': 2024-06-20 07:39:00+02:00, 'da...</td>\n",
       "      <td>20760</td>\n",
       "      <td>Aura Sensor V2</td>\n",
       "      <td>63</td>\n",
       "      <td>2024-06-20</td>\n",
       "    </tr>\n",
       "    <tr>\n",
       "      <th>1</th>\n",
       "      <td>2024-06-20 14:26:00+02:00</td>\n",
       "      <td>2024-06-20 16:00:00+02:00</td>\n",
       "      <td>True</td>\n",
       "      <td>76</td>\n",
       "      <td>86</td>\n",
       "      <td>66</td>\n",
       "      <td>16</td>\n",
       "      <td>28</td>\n",
       "      <td>0</td>\n",
       "      <td>17</td>\n",
       "      <td>23</td>\n",
       "      <td>9</td>\n",
       "      <td>26</td>\n",
       "      <td>44</td>\n",
       "      <td>0</td>\n",
       "      <td>0</td>\n",
       "      <td>0</td>\n",
       "      <td>0</td>\n",
       "      <td>None</td>\n",
       "      <td>None</td>\n",
       "      <td>None</td>\n",
       "      <td>1800</td>\n",
       "      <td>0</td>\n",
       "      <td>0</td>\n",
       "      <td>3840</td>\n",
       "      <td>0</td>\n",
       "      <td>0</td>\n",
       "      <td>2</td>\n",
       "      <td>0</td>\n",
       "      <td>0 days 00:00:00</td>\n",
       "      <td>[]</td>\n",
       "      <td>1800</td>\n",
       "      <td>Aura Sensor V2</td>\n",
       "      <td>63</td>\n",
       "      <td>2024-06-20</td>\n",
       "    </tr>\n",
       "  </tbody>\n",
       "</table>\n",
       "</div>"
      ],
      "text/plain": [
       "                 date_start                  date_end    nap  hr_average  \\\n",
       "0 2024-06-20 01:12:00+02:00 2024-06-20 08:38:00+02:00  False          62   \n",
       "1 2024-06-20 14:26:00+02:00 2024-06-20 16:00:00+02:00   True          76   \n",
       "\n",
       "   hr_max  hr_min  rmssd_average  rmssd_max  rmssd_min  rr_average  rr_max  \\\n",
       "0      81      47             33         36         24          16      25   \n",
       "1      86      66             16         28          0          17      23   \n",
       "\n",
       "   rr_min  sdnn_1_average  sdnn_1_max  sdnn_1_min  snoring_average  \\\n",
       "0       9              51          55          44                2   \n",
       "1       9              26          44           0                0   \n",
       "\n",
       "   snoring_max  snoring_min mvt_score_average mvt_score_max mvt_score_min  \\\n",
       "0          100            0              None          None          None   \n",
       "1            0            0              None          None          None   \n",
       "\n",
       "   light_sleep_duration  rem_sleep_duration  deep_sleep_duration  \\\n",
       "0                 16980                3060                  720   \n",
       "1                  1800                   0                    0   \n",
       "\n",
       "   wakeup_duration  manual_sleep_duration  undefined_sleep_duration  \\\n",
       "0             6000                      0                         0   \n",
       "1             3840                      0                         0   \n",
       "\n",
       "   wakeup_count  out_of_bed_count out_of_bed_time  \\\n",
       "0             4                 1 0 days 00:09:00   \n",
       "1             2                 0 0 days 00:00:00   \n",
       "\n",
       "                                          out_of_bed  total_sleep_time  \\\n",
       "0  [{'date_start': 2024-06-20 07:39:00+02:00, 'da...             20760   \n",
       "1                                                 []              1800   \n",
       "\n",
       "            model  model_id        date  \n",
       "0  Aura Sensor V2        63  2024-06-20  \n",
       "1  Aura Sensor V2        63  2024-06-20  "
      ]
     },
     "execution_count": 24,
     "metadata": {},
     "output_type": "execute_result"
    }
   ],
   "source": [
    "aggregatedDatafromGranular.getMeasuresOfSpecificNight(\"2024-06-20\")"
   ]
  },
  {
   "cell_type": "code",
   "execution_count": 25,
   "metadata": {},
   "outputs": [
    {
     "data": {
      "text/html": [
       "<div>\n",
       "<style scoped>\n",
       "    .dataframe tbody tr th:only-of-type {\n",
       "        vertical-align: middle;\n",
       "    }\n",
       "\n",
       "    .dataframe tbody tr th {\n",
       "        vertical-align: top;\n",
       "    }\n",
       "\n",
       "    .dataframe thead th {\n",
       "        text-align: right;\n",
       "    }\n",
       "</style>\n",
       "<table border=\"1\" class=\"dataframe\">\n",
       "  <thead>\n",
       "    <tr style=\"text-align: right;\">\n",
       "      <th></th>\n",
       "      <th>date_start</th>\n",
       "      <th>date_end</th>\n",
       "      <th>nap</th>\n",
       "      <th>hr_average</th>\n",
       "      <th>hr_max</th>\n",
       "      <th>hr_min</th>\n",
       "      <th>rmssd_average</th>\n",
       "      <th>rmssd_max</th>\n",
       "      <th>rmssd_min</th>\n",
       "      <th>rr_average</th>\n",
       "      <th>rr_max</th>\n",
       "      <th>rr_min</th>\n",
       "      <th>sdnn_1_average</th>\n",
       "      <th>sdnn_1_max</th>\n",
       "      <th>sdnn_1_min</th>\n",
       "      <th>snoring_average</th>\n",
       "      <th>snoring_max</th>\n",
       "      <th>snoring_min</th>\n",
       "      <th>mvt_score_average</th>\n",
       "      <th>mvt_score_max</th>\n",
       "      <th>mvt_score_min</th>\n",
       "      <th>light_sleep_duration</th>\n",
       "      <th>rem_sleep_duration</th>\n",
       "      <th>deep_sleep_duration</th>\n",
       "      <th>wakeup_duration</th>\n",
       "      <th>manual_sleep_duration</th>\n",
       "      <th>undefined_sleep_duration</th>\n",
       "      <th>wakeup_count</th>\n",
       "      <th>out_of_bed_count</th>\n",
       "      <th>out_of_bed_time</th>\n",
       "      <th>out_of_bed</th>\n",
       "      <th>total_sleep_time</th>\n",
       "      <th>model</th>\n",
       "      <th>model_id</th>\n",
       "      <th>date</th>\n",
       "    </tr>\n",
       "  </thead>\n",
       "  <tbody>\n",
       "    <tr>\n",
       "      <th>0</th>\n",
       "      <td>2023-11-09 23:53:00+01:00</td>\n",
       "      <td>2023-11-10 09:18:00+01:00</td>\n",
       "      <td>False</td>\n",
       "      <td>61</td>\n",
       "      <td>87</td>\n",
       "      <td>46</td>\n",
       "      <td>39</td>\n",
       "      <td>51</td>\n",
       "      <td>0</td>\n",
       "      <td>16</td>\n",
       "      <td>24</td>\n",
       "      <td>10</td>\n",
       "      <td>56</td>\n",
       "      <td>62</td>\n",
       "      <td>0</td>\n",
       "      <td>2</td>\n",
       "      <td>100</td>\n",
       "      <td>0</td>\n",
       "      <td>None</td>\n",
       "      <td>None</td>\n",
       "      <td>None</td>\n",
       "      <td>15780</td>\n",
       "      <td>7440</td>\n",
       "      <td>3540</td>\n",
       "      <td>7140</td>\n",
       "      <td>0</td>\n",
       "      <td>0</td>\n",
       "      <td>2</td>\n",
       "      <td>0</td>\n",
       "      <td>0 days</td>\n",
       "      <td>[]</td>\n",
       "      <td>26760</td>\n",
       "      <td>Aura Sensor V2</td>\n",
       "      <td>63</td>\n",
       "      <td>2023-11-10</td>\n",
       "    </tr>\n",
       "    <tr>\n",
       "      <th>1</th>\n",
       "      <td>2023-11-10 14:43:00+01:00</td>\n",
       "      <td>2023-11-10 16:05:00+01:00</td>\n",
       "      <td>True</td>\n",
       "      <td>78</td>\n",
       "      <td>97</td>\n",
       "      <td>53</td>\n",
       "      <td>29</td>\n",
       "      <td>58</td>\n",
       "      <td>0</td>\n",
       "      <td>17</td>\n",
       "      <td>22</td>\n",
       "      <td>10</td>\n",
       "      <td>51</td>\n",
       "      <td>108</td>\n",
       "      <td>0</td>\n",
       "      <td>0</td>\n",
       "      <td>0</td>\n",
       "      <td>0</td>\n",
       "      <td>None</td>\n",
       "      <td>None</td>\n",
       "      <td>None</td>\n",
       "      <td>2280</td>\n",
       "      <td>0</td>\n",
       "      <td>0</td>\n",
       "      <td>2640</td>\n",
       "      <td>0</td>\n",
       "      <td>0</td>\n",
       "      <td>2</td>\n",
       "      <td>0</td>\n",
       "      <td>0 days</td>\n",
       "      <td>[]</td>\n",
       "      <td>2280</td>\n",
       "      <td>Aura Sensor V2</td>\n",
       "      <td>63</td>\n",
       "      <td>2023-11-10</td>\n",
       "    </tr>\n",
       "    <tr>\n",
       "      <th>2</th>\n",
       "      <td>2023-11-10 23:43:00+01:00</td>\n",
       "      <td>2023-11-11 08:00:00+01:00</td>\n",
       "      <td>False</td>\n",
       "      <td>62</td>\n",
       "      <td>83</td>\n",
       "      <td>50</td>\n",
       "      <td>39</td>\n",
       "      <td>52</td>\n",
       "      <td>0</td>\n",
       "      <td>16</td>\n",
       "      <td>22</td>\n",
       "      <td>9</td>\n",
       "      <td>56</td>\n",
       "      <td>73</td>\n",
       "      <td>0</td>\n",
       "      <td>7</td>\n",
       "      <td>100</td>\n",
       "      <td>0</td>\n",
       "      <td>None</td>\n",
       "      <td>None</td>\n",
       "      <td>None</td>\n",
       "      <td>16080</td>\n",
       "      <td>7680</td>\n",
       "      <td>3300</td>\n",
       "      <td>2760</td>\n",
       "      <td>0</td>\n",
       "      <td>0</td>\n",
       "      <td>2</td>\n",
       "      <td>0</td>\n",
       "      <td>0 days</td>\n",
       "      <td>[]</td>\n",
       "      <td>27060</td>\n",
       "      <td>Aura Sensor V2</td>\n",
       "      <td>63</td>\n",
       "      <td>2023-11-11</td>\n",
       "    </tr>\n",
       "    <tr>\n",
       "      <th>3</th>\n",
       "      <td>2023-11-11 13:02:00+01:00</td>\n",
       "      <td>2023-11-11 14:34:00+01:00</td>\n",
       "      <td>True</td>\n",
       "      <td>80</td>\n",
       "      <td>96</td>\n",
       "      <td>53</td>\n",
       "      <td>27</td>\n",
       "      <td>38</td>\n",
       "      <td>0</td>\n",
       "      <td>16</td>\n",
       "      <td>24</td>\n",
       "      <td>10</td>\n",
       "      <td>35</td>\n",
       "      <td>42</td>\n",
       "      <td>0</td>\n",
       "      <td>0</td>\n",
       "      <td>0</td>\n",
       "      <td>0</td>\n",
       "      <td>None</td>\n",
       "      <td>None</td>\n",
       "      <td>None</td>\n",
       "      <td>1860</td>\n",
       "      <td>0</td>\n",
       "      <td>900</td>\n",
       "      <td>2760</td>\n",
       "      <td>0</td>\n",
       "      <td>0</td>\n",
       "      <td>1</td>\n",
       "      <td>0</td>\n",
       "      <td>0 days</td>\n",
       "      <td>[]</td>\n",
       "      <td>2760</td>\n",
       "      <td>Aura Sensor V2</td>\n",
       "      <td>63</td>\n",
       "      <td>2023-11-11</td>\n",
       "    </tr>\n",
       "    <tr>\n",
       "      <th>4</th>\n",
       "      <td>2023-11-11 23:58:00+01:00</td>\n",
       "      <td>2023-11-12 08:16:00+01:00</td>\n",
       "      <td>False</td>\n",
       "      <td>67</td>\n",
       "      <td>89</td>\n",
       "      <td>52</td>\n",
       "      <td>35</td>\n",
       "      <td>53</td>\n",
       "      <td>0</td>\n",
       "      <td>16</td>\n",
       "      <td>25</td>\n",
       "      <td>9</td>\n",
       "      <td>47</td>\n",
       "      <td>71</td>\n",
       "      <td>0</td>\n",
       "      <td>6</td>\n",
       "      <td>100</td>\n",
       "      <td>0</td>\n",
       "      <td>None</td>\n",
       "      <td>None</td>\n",
       "      <td>None</td>\n",
       "      <td>21000</td>\n",
       "      <td>5820</td>\n",
       "      <td>1980</td>\n",
       "      <td>1080</td>\n",
       "      <td>0</td>\n",
       "      <td>0</td>\n",
       "      <td>1</td>\n",
       "      <td>0</td>\n",
       "      <td>0 days</td>\n",
       "      <td>[]</td>\n",
       "      <td>28800</td>\n",
       "      <td>Aura Sensor V2</td>\n",
       "      <td>63</td>\n",
       "      <td>2023-11-12</td>\n",
       "    </tr>\n",
       "    <tr>\n",
       "      <th>5</th>\n",
       "      <td>2023-11-13 00:37:00+01:00</td>\n",
       "      <td>2023-11-13 08:13:00+01:00</td>\n",
       "      <td>False</td>\n",
       "      <td>63</td>\n",
       "      <td>89</td>\n",
       "      <td>48</td>\n",
       "      <td>34</td>\n",
       "      <td>52</td>\n",
       "      <td>0</td>\n",
       "      <td>15</td>\n",
       "      <td>27</td>\n",
       "      <td>10</td>\n",
       "      <td>55</td>\n",
       "      <td>122</td>\n",
       "      <td>0</td>\n",
       "      <td>11</td>\n",
       "      <td>100</td>\n",
       "      <td>0</td>\n",
       "      <td>None</td>\n",
       "      <td>None</td>\n",
       "      <td>None</td>\n",
       "      <td>10260</td>\n",
       "      <td>9060</td>\n",
       "      <td>5400</td>\n",
       "      <td>2640</td>\n",
       "      <td>0</td>\n",
       "      <td>0</td>\n",
       "      <td>2</td>\n",
       "      <td>0</td>\n",
       "      <td>0 days</td>\n",
       "      <td>[]</td>\n",
       "      <td>24720</td>\n",
       "      <td>Aura Sensor V2</td>\n",
       "      <td>63</td>\n",
       "      <td>2023-11-13</td>\n",
       "    </tr>\n",
       "    <tr>\n",
       "      <th>6</th>\n",
       "      <td>2023-11-13 23:14:00+01:00</td>\n",
       "      <td>2023-11-14 07:51:00+01:00</td>\n",
       "      <td>False</td>\n",
       "      <td>65</td>\n",
       "      <td>89</td>\n",
       "      <td>53</td>\n",
       "      <td>32</td>\n",
       "      <td>42</td>\n",
       "      <td>0</td>\n",
       "      <td>15</td>\n",
       "      <td>22</td>\n",
       "      <td>10</td>\n",
       "      <td>47</td>\n",
       "      <td>53</td>\n",
       "      <td>0</td>\n",
       "      <td>1</td>\n",
       "      <td>100</td>\n",
       "      <td>0</td>\n",
       "      <td>None</td>\n",
       "      <td>None</td>\n",
       "      <td>None</td>\n",
       "      <td>20160</td>\n",
       "      <td>6660</td>\n",
       "      <td>1740</td>\n",
       "      <td>2460</td>\n",
       "      <td>0</td>\n",
       "      <td>0</td>\n",
       "      <td>2</td>\n",
       "      <td>0</td>\n",
       "      <td>0 days</td>\n",
       "      <td>[]</td>\n",
       "      <td>28560</td>\n",
       "      <td>Aura Sensor V2</td>\n",
       "      <td>63</td>\n",
       "      <td>2023-11-14</td>\n",
       "    </tr>\n",
       "    <tr>\n",
       "      <th>7</th>\n",
       "      <td>2023-11-14 14:40:00+01:00</td>\n",
       "      <td>2023-11-14 15:21:00+01:00</td>\n",
       "      <td>True</td>\n",
       "      <td>79</td>\n",
       "      <td>93</td>\n",
       "      <td>60</td>\n",
       "      <td>18</td>\n",
       "      <td>39</td>\n",
       "      <td>0</td>\n",
       "      <td>17</td>\n",
       "      <td>26</td>\n",
       "      <td>11</td>\n",
       "      <td>31</td>\n",
       "      <td>102</td>\n",
       "      <td>0</td>\n",
       "      <td>0</td>\n",
       "      <td>0</td>\n",
       "      <td>0</td>\n",
       "      <td>None</td>\n",
       "      <td>None</td>\n",
       "      <td>None</td>\n",
       "      <td>900</td>\n",
       "      <td>0</td>\n",
       "      <td>0</td>\n",
       "      <td>1560</td>\n",
       "      <td>0</td>\n",
       "      <td>0</td>\n",
       "      <td>1</td>\n",
       "      <td>0</td>\n",
       "      <td>0 days</td>\n",
       "      <td>[]</td>\n",
       "      <td>900</td>\n",
       "      <td>Aura Sensor V2</td>\n",
       "      <td>63</td>\n",
       "      <td>2023-11-14</td>\n",
       "    </tr>\n",
       "    <tr>\n",
       "      <th>8</th>\n",
       "      <td>2023-11-14 23:43:00+01:00</td>\n",
       "      <td>2023-11-15 08:29:00+01:00</td>\n",
       "      <td>False</td>\n",
       "      <td>64</td>\n",
       "      <td>83</td>\n",
       "      <td>54</td>\n",
       "      <td>30</td>\n",
       "      <td>48</td>\n",
       "      <td>0</td>\n",
       "      <td>16</td>\n",
       "      <td>25</td>\n",
       "      <td>10</td>\n",
       "      <td>51</td>\n",
       "      <td>80</td>\n",
       "      <td>0</td>\n",
       "      <td>6</td>\n",
       "      <td>100</td>\n",
       "      <td>0</td>\n",
       "      <td>None</td>\n",
       "      <td>None</td>\n",
       "      <td>None</td>\n",
       "      <td>19620</td>\n",
       "      <td>7920</td>\n",
       "      <td>1260</td>\n",
       "      <td>2760</td>\n",
       "      <td>0</td>\n",
       "      <td>0</td>\n",
       "      <td>2</td>\n",
       "      <td>0</td>\n",
       "      <td>0 days</td>\n",
       "      <td>[]</td>\n",
       "      <td>28800</td>\n",
       "      <td>Aura Sensor V2</td>\n",
       "      <td>63</td>\n",
       "      <td>2023-11-15</td>\n",
       "    </tr>\n",
       "    <tr>\n",
       "      <th>9</th>\n",
       "      <td>2023-11-15 14:31:00+01:00</td>\n",
       "      <td>2023-11-15 15:38:00+01:00</td>\n",
       "      <td>True</td>\n",
       "      <td>78</td>\n",
       "      <td>97</td>\n",
       "      <td>54</td>\n",
       "      <td>11</td>\n",
       "      <td>24</td>\n",
       "      <td>0</td>\n",
       "      <td>16</td>\n",
       "      <td>24</td>\n",
       "      <td>10</td>\n",
       "      <td>21</td>\n",
       "      <td>38</td>\n",
       "      <td>0</td>\n",
       "      <td>0</td>\n",
       "      <td>0</td>\n",
       "      <td>0</td>\n",
       "      <td>None</td>\n",
       "      <td>None</td>\n",
       "      <td>None</td>\n",
       "      <td>960</td>\n",
       "      <td>0</td>\n",
       "      <td>1440</td>\n",
       "      <td>1620</td>\n",
       "      <td>0</td>\n",
       "      <td>0</td>\n",
       "      <td>1</td>\n",
       "      <td>0</td>\n",
       "      <td>0 days</td>\n",
       "      <td>[]</td>\n",
       "      <td>2400</td>\n",
       "      <td>Aura Sensor V2</td>\n",
       "      <td>63</td>\n",
       "      <td>2023-11-15</td>\n",
       "    </tr>\n",
       "  </tbody>\n",
       "</table>\n",
       "</div>"
      ],
      "text/plain": [
       "                 date_start                  date_end    nap  hr_average  \\\n",
       "0 2023-11-09 23:53:00+01:00 2023-11-10 09:18:00+01:00  False          61   \n",
       "1 2023-11-10 14:43:00+01:00 2023-11-10 16:05:00+01:00   True          78   \n",
       "2 2023-11-10 23:43:00+01:00 2023-11-11 08:00:00+01:00  False          62   \n",
       "3 2023-11-11 13:02:00+01:00 2023-11-11 14:34:00+01:00   True          80   \n",
       "4 2023-11-11 23:58:00+01:00 2023-11-12 08:16:00+01:00  False          67   \n",
       "5 2023-11-13 00:37:00+01:00 2023-11-13 08:13:00+01:00  False          63   \n",
       "6 2023-11-13 23:14:00+01:00 2023-11-14 07:51:00+01:00  False          65   \n",
       "7 2023-11-14 14:40:00+01:00 2023-11-14 15:21:00+01:00   True          79   \n",
       "8 2023-11-14 23:43:00+01:00 2023-11-15 08:29:00+01:00  False          64   \n",
       "9 2023-11-15 14:31:00+01:00 2023-11-15 15:38:00+01:00   True          78   \n",
       "\n",
       "   hr_max  hr_min  rmssd_average  rmssd_max  rmssd_min  rr_average  rr_max  \\\n",
       "0      87      46             39         51          0          16      24   \n",
       "1      97      53             29         58          0          17      22   \n",
       "2      83      50             39         52          0          16      22   \n",
       "3      96      53             27         38          0          16      24   \n",
       "4      89      52             35         53          0          16      25   \n",
       "5      89      48             34         52          0          15      27   \n",
       "6      89      53             32         42          0          15      22   \n",
       "7      93      60             18         39          0          17      26   \n",
       "8      83      54             30         48          0          16      25   \n",
       "9      97      54             11         24          0          16      24   \n",
       "\n",
       "   rr_min  sdnn_1_average  sdnn_1_max  sdnn_1_min  snoring_average  \\\n",
       "0      10              56          62           0                2   \n",
       "1      10              51         108           0                0   \n",
       "2       9              56          73           0                7   \n",
       "3      10              35          42           0                0   \n",
       "4       9              47          71           0                6   \n",
       "5      10              55         122           0               11   \n",
       "6      10              47          53           0                1   \n",
       "7      11              31         102           0                0   \n",
       "8      10              51          80           0                6   \n",
       "9      10              21          38           0                0   \n",
       "\n",
       "   snoring_max  snoring_min mvt_score_average mvt_score_max mvt_score_min  \\\n",
       "0          100            0              None          None          None   \n",
       "1            0            0              None          None          None   \n",
       "2          100            0              None          None          None   \n",
       "3            0            0              None          None          None   \n",
       "4          100            0              None          None          None   \n",
       "5          100            0              None          None          None   \n",
       "6          100            0              None          None          None   \n",
       "7            0            0              None          None          None   \n",
       "8          100            0              None          None          None   \n",
       "9            0            0              None          None          None   \n",
       "\n",
       "   light_sleep_duration  rem_sleep_duration  deep_sleep_duration  \\\n",
       "0                 15780                7440                 3540   \n",
       "1                  2280                   0                    0   \n",
       "2                 16080                7680                 3300   \n",
       "3                  1860                   0                  900   \n",
       "4                 21000                5820                 1980   \n",
       "5                 10260                9060                 5400   \n",
       "6                 20160                6660                 1740   \n",
       "7                   900                   0                    0   \n",
       "8                 19620                7920                 1260   \n",
       "9                   960                   0                 1440   \n",
       "\n",
       "   wakeup_duration  manual_sleep_duration  undefined_sleep_duration  \\\n",
       "0             7140                      0                         0   \n",
       "1             2640                      0                         0   \n",
       "2             2760                      0                         0   \n",
       "3             2760                      0                         0   \n",
       "4             1080                      0                         0   \n",
       "5             2640                      0                         0   \n",
       "6             2460                      0                         0   \n",
       "7             1560                      0                         0   \n",
       "8             2760                      0                         0   \n",
       "9             1620                      0                         0   \n",
       "\n",
       "   wakeup_count  out_of_bed_count out_of_bed_time out_of_bed  \\\n",
       "0             2                 0          0 days         []   \n",
       "1             2                 0          0 days         []   \n",
       "2             2                 0          0 days         []   \n",
       "3             1                 0          0 days         []   \n",
       "4             1                 0          0 days         []   \n",
       "5             2                 0          0 days         []   \n",
       "6             2                 0          0 days         []   \n",
       "7             1                 0          0 days         []   \n",
       "8             2                 0          0 days         []   \n",
       "9             1                 0          0 days         []   \n",
       "\n",
       "   total_sleep_time           model  model_id        date  \n",
       "0             26760  Aura Sensor V2        63  2023-11-10  \n",
       "1              2280  Aura Sensor V2        63  2023-11-10  \n",
       "2             27060  Aura Sensor V2        63  2023-11-11  \n",
       "3              2760  Aura Sensor V2        63  2023-11-11  \n",
       "4             28800  Aura Sensor V2        63  2023-11-12  \n",
       "5             24720  Aura Sensor V2        63  2023-11-13  \n",
       "6             28560  Aura Sensor V2        63  2023-11-14  \n",
       "7               900  Aura Sensor V2        63  2023-11-14  \n",
       "8             28800  Aura Sensor V2        63  2023-11-15  \n",
       "9              2400  Aura Sensor V2        63  2023-11-15  "
      ]
     },
     "execution_count": 25,
     "metadata": {},
     "output_type": "execute_result"
    }
   ],
   "source": [
    "aggregatedDatafromGranular.getMeasuresOfSpecificInterval(\"2023-11-10\", \"2023-11-15\")"
   ]
  },
  {
   "cell_type": "code",
   "execution_count": 26,
   "metadata": {},
   "outputs": [
    {
     "data": {
      "text/html": [
       "<div>\n",
       "<style scoped>\n",
       "    .dataframe tbody tr th:only-of-type {\n",
       "        vertical-align: middle;\n",
       "    }\n",
       "\n",
       "    .dataframe tbody tr th {\n",
       "        vertical-align: top;\n",
       "    }\n",
       "\n",
       "    .dataframe thead th {\n",
       "        text-align: right;\n",
       "    }\n",
       "</style>\n",
       "<table border=\"1\" class=\"dataframe\">\n",
       "  <thead>\n",
       "    <tr style=\"text-align: right;\">\n",
       "      <th></th>\n",
       "      <th>date</th>\n",
       "      <th>hr_max</th>\n",
       "    </tr>\n",
       "  </thead>\n",
       "  <tbody>\n",
       "    <tr>\n",
       "      <th>0</th>\n",
       "      <td>2023-07-24</td>\n",
       "      <td>78</td>\n",
       "    </tr>\n",
       "    <tr>\n",
       "      <th>1</th>\n",
       "      <td>2023-07-25</td>\n",
       "      <td>83</td>\n",
       "    </tr>\n",
       "    <tr>\n",
       "      <th>2</th>\n",
       "      <td>2023-07-25</td>\n",
       "      <td>88</td>\n",
       "    </tr>\n",
       "    <tr>\n",
       "      <th>3</th>\n",
       "      <td>2023-07-26</td>\n",
       "      <td>82</td>\n",
       "    </tr>\n",
       "    <tr>\n",
       "      <th>4</th>\n",
       "      <td>2023-07-27</td>\n",
       "      <td>78</td>\n",
       "    </tr>\n",
       "    <tr>\n",
       "      <th>...</th>\n",
       "      <td>...</td>\n",
       "      <td>...</td>\n",
       "    </tr>\n",
       "    <tr>\n",
       "      <th>763</th>\n",
       "      <td>2024-12-28</td>\n",
       "      <td>84</td>\n",
       "    </tr>\n",
       "    <tr>\n",
       "      <th>764</th>\n",
       "      <td>2024-12-29</td>\n",
       "      <td>90</td>\n",
       "    </tr>\n",
       "    <tr>\n",
       "      <th>765</th>\n",
       "      <td>2024-12-30</td>\n",
       "      <td>76</td>\n",
       "    </tr>\n",
       "    <tr>\n",
       "      <th>766</th>\n",
       "      <td>2024-12-31</td>\n",
       "      <td>85</td>\n",
       "    </tr>\n",
       "    <tr>\n",
       "      <th>767</th>\n",
       "      <td>2024-12-31</td>\n",
       "      <td>94</td>\n",
       "    </tr>\n",
       "  </tbody>\n",
       "</table>\n",
       "<p>768 rows × 2 columns</p>\n",
       "</div>"
      ],
      "text/plain": [
       "           date  hr_max\n",
       "0    2023-07-24      78\n",
       "1    2023-07-25      83\n",
       "2    2023-07-25      88\n",
       "3    2023-07-26      82\n",
       "4    2023-07-27      78\n",
       "..          ...     ...\n",
       "763  2024-12-28      84\n",
       "764  2024-12-29      90\n",
       "765  2024-12-30      76\n",
       "766  2024-12-31      85\n",
       "767  2024-12-31      94\n",
       "\n",
       "[768 rows x 2 columns]"
      ]
     },
     "execution_count": 26,
     "metadata": {},
     "output_type": "execute_result"
    }
   ],
   "source": [
    "aggregatedDatafromGranular.getMeasureOfNights(\"hr_max\")"
   ]
  },
  {
   "cell_type": "code",
   "execution_count": 27,
   "metadata": {},
   "outputs": [
    {
     "data": {
      "text/plain": [
       "0    []\n",
       "1    []\n",
       "Name: out_of_bed, dtype: object"
      ]
     },
     "execution_count": 27,
     "metadata": {},
     "output_type": "execute_result"
    }
   ],
   "source": [
    "aggregatedDatafromGranular.getMeasureOfSpecificNight('out_of_bed','2024-10-15')['out_of_bed']"
   ]
  },
  {
   "cell_type": "code",
   "execution_count": 28,
   "metadata": {},
   "outputs": [
    {
     "data": {
      "text/html": [
       "<div>\n",
       "<style scoped>\n",
       "    .dataframe tbody tr th:only-of-type {\n",
       "        vertical-align: middle;\n",
       "    }\n",
       "\n",
       "    .dataframe tbody tr th {\n",
       "        vertical-align: top;\n",
       "    }\n",
       "\n",
       "    .dataframe thead th {\n",
       "        text-align: right;\n",
       "    }\n",
       "</style>\n",
       "<table border=\"1\" class=\"dataframe\">\n",
       "  <thead>\n",
       "    <tr style=\"text-align: right;\">\n",
       "      <th></th>\n",
       "      <th>date_start</th>\n",
       "      <th>date_end</th>\n",
       "      <th>gap_duration</th>\n",
       "    </tr>\n",
       "  </thead>\n",
       "  <tbody>\n",
       "  </tbody>\n",
       "</table>\n",
       "</div>"
      ],
      "text/plain": [
       "Empty DataFrame\n",
       "Columns: [date_start, date_end, gap_duration]\n",
       "Index: []"
      ]
     },
     "execution_count": 28,
     "metadata": {},
     "output_type": "execute_result"
    }
   ],
   "source": [
    "aggregatedDatafromGranular.outOfBedOfSpecificNight('2023-11-28')"
   ]
  },
  {
   "cell_type": "code",
   "execution_count": 29,
   "metadata": {},
   "outputs": [
    {
     "data": {
      "application/vnd.plotly.v1+json": {
       "config": {
        "plotlyServerURL": "https://plot.ly"
       },
       "data": [
        {
         "hovertemplate": "2023-10-15 - 00:00:00 - 09:07:00",
         "line": {
          "color": "blue",
          "width": 7
         },
         "mode": "lines",
         "showlegend": false,
         "type": "scatter",
         "x": [
          0,
          9.116666666666667
         ],
         "y": [
          0,
          0
         ]
        },
        {
         "hovertemplate": "2023-10-15 - 12:52:00 - 14:13:00",
         "line": {
          "color": "blue",
          "width": 7
         },
         "mode": "lines",
         "showlegend": false,
         "type": "scatter",
         "x": [
          12.866666666666667,
          14.216666666666667
         ],
         "y": [
          0,
          0
         ]
        },
        {
         "hovertemplate": "2023-10-15 - 07:03:00 - 07:09:00",
         "line": {
          "color": "red",
          "width": 7
         },
         "mode": "lines",
         "showlegend": false,
         "type": "scatter",
         "x": [
          7.05,
          7.15
         ],
         "y": [
          0,
          0
         ]
        },
        {
         "hovertemplate": "2023-10-16 - 00:46:00 - 08:00:00",
         "line": {
          "color": "blue",
          "width": 7
         },
         "mode": "lines",
         "showlegend": false,
         "type": "scatter",
         "x": [
          0.7666666666666667,
          8
         ],
         "y": [
          1,
          1
         ]
        },
        {
         "hovertemplate": "2023-10-17 - 00:09:00 - 07:11:00",
         "line": {
          "color": "blue",
          "width": 7
         },
         "mode": "lines",
         "showlegend": false,
         "type": "scatter",
         "x": [
          0.15,
          7.183333333333334
         ],
         "y": [
          2,
          2
         ]
        },
        {
         "hovertemplate": "2023-10-17 - 05:00:00 - 05:08:00",
         "line": {
          "color": "red",
          "width": 7
         },
         "mode": "lines",
         "showlegend": false,
         "type": "scatter",
         "x": [
          5,
          5.133333333333334
         ],
         "y": [
          2,
          2
         ]
        },
        {
         "hovertemplate": "2023-10-25 - 15:16:00 - 15:59:00",
         "line": {
          "color": "blue",
          "width": 7
         },
         "mode": "lines",
         "showlegend": false,
         "type": "scatter",
         "x": [
          15.266666666666667,
          15.983333333333333
         ],
         "y": [
          10,
          10
         ]
        },
        {
         "hovertemplate": "2023-10-25 - 23:43:00 - 24:00:00",
         "line": {
          "color": "blue",
          "width": 7
         },
         "mode": "lines",
         "showlegend": false,
         "type": "scatter",
         "x": [
          23.716666666666665,
          24
         ],
         "y": [
          10,
          10
         ]
        },
        {
         "hovertemplate": "2023-10-26 - 00:00:00 - 07:08:00",
         "line": {
          "color": "blue",
          "width": 7
         },
         "mode": "lines",
         "showlegend": false,
         "type": "scatter",
         "x": [
          0,
          7.133333333333334
         ],
         "y": [
          11,
          11
         ]
        },
        {
         "hovertemplate": "2023-10-26 - 14:32:00 - 15:27:00",
         "line": {
          "color": "blue",
          "width": 7
         },
         "mode": "lines",
         "showlegend": false,
         "type": "scatter",
         "x": [
          14.533333333333333,
          15.45
         ],
         "y": [
          11,
          11
         ]
        },
        {
         "hovertemplate": "2023-10-27 - 00:21:00 - 08:00:00",
         "line": {
          "color": "blue",
          "width": 7
         },
         "mode": "lines",
         "showlegend": false,
         "type": "scatter",
         "x": [
          0.35,
          8
         ],
         "y": [
          12,
          12
         ]
        },
        {
         "hovertemplate": "2023-10-28 - 00:07:00 - 08:14:00",
         "line": {
          "color": "blue",
          "width": 7
         },
         "mode": "lines",
         "showlegend": false,
         "type": "scatter",
         "x": [
          0.11666666666666667,
          8.233333333333333
         ],
         "y": [
          13,
          13
         ]
        },
        {
         "hovertemplate": "2023-10-28 - 16:09:00 - 17:19:00",
         "line": {
          "color": "blue",
          "width": 7
         },
         "mode": "lines",
         "showlegend": false,
         "type": "scatter",
         "x": [
          16.15,
          17.316666666666666
         ],
         "y": [
          13,
          13
         ]
        },
        {
         "hovertemplate": "2023-10-29 - 23:34:00 - 24:00:00",
         "line": {
          "color": "blue",
          "width": 7
         },
         "mode": "lines",
         "showlegend": false,
         "type": "scatter",
         "x": [
          23.566666666666666,
          24
         ],
         "y": [
          14,
          14
         ]
        },
        {
         "hovertemplate": "2023-10-30 - 00:00:00 - 07:13:00",
         "line": {
          "color": "blue",
          "width": 7
         },
         "mode": "lines",
         "showlegend": false,
         "type": "scatter",
         "x": [
          0,
          7.216666666666667
         ],
         "y": [
          15,
          15
         ]
        },
        {
         "hovertemplate": "2023-10-30 - 13:18:00 - 14:30:00",
         "line": {
          "color": "blue",
          "width": 7
         },
         "mode": "lines",
         "showlegend": false,
         "type": "scatter",
         "x": [
          13.3,
          14.5
         ],
         "y": [
          15,
          15
         ]
        },
        {
         "hovertemplate": "2023-10-30 - 05:15:00 - 05:21:00",
         "line": {
          "color": "red",
          "width": 7
         },
         "mode": "lines",
         "showlegend": false,
         "type": "scatter",
         "x": [
          5.25,
          5.35
         ],
         "y": [
          15,
          15
         ]
        },
        {
         "hovertemplate": "2023-10-30 - 23:51:00 - 24:00:00",
         "line": {
          "color": "blue",
          "width": 7
         },
         "mode": "lines",
         "showlegend": false,
         "type": "scatter",
         "x": [
          23.85,
          24
         ],
         "y": [
          15,
          15
         ]
        },
        {
         "hovertemplate": "2023-10-31 - 00:00:00 - 08:08:00",
         "line": {
          "color": "blue",
          "width": 7
         },
         "mode": "lines",
         "showlegend": false,
         "type": "scatter",
         "x": [
          0,
          8.133333333333333
         ],
         "y": [
          16,
          16
         ]
        },
        {
         "hovertemplate": "2023-10-31 - 22:51:00 - 24:00:00",
         "line": {
          "color": "blue",
          "width": 7
         },
         "mode": "lines",
         "showlegend": false,
         "type": "scatter",
         "x": [
          22.85,
          24
         ],
         "y": [
          16,
          16
         ]
        },
        {
         "hovertemplate": "2023-11-01 - 00:00:00 - 08:44:00",
         "line": {
          "color": "blue",
          "width": 7
         },
         "mode": "lines",
         "showlegend": false,
         "type": "scatter",
         "x": [
          0,
          8.733333333333333
         ],
         "y": [
          17,
          17
         ]
        },
        {
         "hovertemplate": "2023-11-01 - 13:39:00 - 14:19:00",
         "line": {
          "color": "blue",
          "width": 7
         },
         "mode": "lines",
         "showlegend": false,
         "type": "scatter",
         "x": [
          13.65,
          14.316666666666666
         ],
         "y": [
          17,
          17
         ]
        },
        {
         "hovertemplate": "2023-11-01 - 07:01:00 - 07:46:00",
         "line": {
          "color": "red",
          "width": 7
         },
         "mode": "lines",
         "showlegend": false,
         "type": "scatter",
         "x": [
          7.016666666666667,
          7.766666666666667
         ],
         "y": [
          17,
          17
         ]
        },
        {
         "hovertemplate": "2023-11-02 - 00:42:00 - 07:31:00",
         "line": {
          "color": "blue",
          "width": 7
         },
         "mode": "lines",
         "showlegend": false,
         "type": "scatter",
         "x": [
          0.7,
          7.516666666666667
         ],
         "y": [
          18,
          18
         ]
        },
        {
         "hovertemplate": "2023-11-02 - 15:59:00 - 16:53:00",
         "line": {
          "color": "blue",
          "width": 7
         },
         "mode": "lines",
         "showlegend": false,
         "type": "scatter",
         "x": [
          15.983333333333333,
          16.883333333333333
         ],
         "y": [
          18,
          18
         ]
        },
        {
         "hovertemplate": "2023-11-02 - 07:03:00 - 07:11:00",
         "line": {
          "color": "red",
          "width": 7
         },
         "mode": "lines",
         "showlegend": false,
         "type": "scatter",
         "x": [
          7.05,
          7.183333333333334
         ],
         "y": [
          18,
          18
         ]
        },
        {
         "hovertemplate": "2023-11-02 - 23:56:00 - 24:00:00",
         "line": {
          "color": "blue",
          "width": 7
         },
         "mode": "lines",
         "showlegend": false,
         "type": "scatter",
         "x": [
          23.933333333333334,
          24
         ],
         "y": [
          18,
          18
         ]
        },
        {
         "hovertemplate": "2023-11-03 - 00:00:00 - 07:59:00",
         "line": {
          "color": "blue",
          "width": 7
         },
         "mode": "lines",
         "showlegend": false,
         "type": "scatter",
         "x": [
          0,
          7.983333333333333
         ],
         "y": [
          19,
          19
         ]
        },
        {
         "hovertemplate": "2023-11-03 - 15:51:00 - 16:38:00",
         "line": {
          "color": "blue",
          "width": 7
         },
         "mode": "lines",
         "showlegend": false,
         "type": "scatter",
         "x": [
          15.85,
          16.633333333333333
         ],
         "y": [
          19,
          19
         ]
        },
        {
         "hovertemplate": "2023-11-03 - 23:48:00 - 24:00:00",
         "line": {
          "color": "blue",
          "width": 7
         },
         "mode": "lines",
         "showlegend": false,
         "type": "scatter",
         "x": [
          23.8,
          24
         ],
         "y": [
          19,
          19
         ]
        },
        {
         "hovertemplate": "2023-11-04 - 00:00:00 - 07:35:00",
         "line": {
          "color": "blue",
          "width": 7
         },
         "mode": "lines",
         "showlegend": false,
         "type": "scatter",
         "x": [
          0,
          7.583333333333333
         ],
         "y": [
          20,
          20
         ]
        },
        {
         "hovertemplate": "2023-11-04 - 14:30:00 - 16:04:00",
         "line": {
          "color": "blue",
          "width": 7
         },
         "mode": "lines",
         "showlegend": false,
         "type": "scatter",
         "x": [
          14.5,
          16.066666666666666
         ],
         "y": [
          20,
          20
         ]
        },
        {
         "hovertemplate": "2023-11-04 - 23:35:00 - 24:00:00",
         "line": {
          "color": "blue",
          "width": 7
         },
         "mode": "lines",
         "showlegend": false,
         "type": "scatter",
         "x": [
          23.583333333333332,
          24
         ],
         "y": [
          20,
          20
         ]
        },
        {
         "hovertemplate": "2023-11-05 - 00:00:00 - 09:55:00",
         "line": {
          "color": "blue",
          "width": 7
         },
         "mode": "lines",
         "showlegend": false,
         "type": "scatter",
         "x": [
          0,
          9.916666666666666
         ],
         "y": [
          21,
          21
         ]
        },
        {
         "hovertemplate": "2023-11-05 - 16:24:00 - 17:11:00",
         "line": {
          "color": "blue",
          "width": 7
         },
         "mode": "lines",
         "showlegend": false,
         "type": "scatter",
         "x": [
          16.4,
          17.183333333333334
         ],
         "y": [
          21,
          21
         ]
        },
        {
         "hovertemplate": "2023-11-05 - 19:46:00 - 20:10:00",
         "line": {
          "color": "blue",
          "width": 7
         },
         "mode": "lines",
         "showlegend": false,
         "type": "scatter",
         "x": [
          19.766666666666666,
          20.166666666666668
         ],
         "y": [
          21,
          21
         ]
        },
        {
         "hovertemplate": "2023-11-05 - 07:55:00 - 08:01:00",
         "line": {
          "color": "red",
          "width": 7
         },
         "mode": "lines",
         "showlegend": false,
         "type": "scatter",
         "x": [
          7.916666666666667,
          8.016666666666667
         ],
         "y": [
          21,
          21
         ]
        },
        {
         "hovertemplate": "2023-11-05 - 08:31:00 - 09:23:00",
         "line": {
          "color": "red",
          "width": 7
         },
         "mode": "lines",
         "showlegend": false,
         "type": "scatter",
         "x": [
          8.516666666666667,
          9.383333333333333
         ],
         "y": [
          21,
          21
         ]
        },
        {
         "hovertemplate": "2023-11-05 - 23:07:00 - 24:00:00",
         "line": {
          "color": "blue",
          "width": 7
         },
         "mode": "lines",
         "showlegend": false,
         "type": "scatter",
         "x": [
          23.116666666666667,
          24
         ],
         "y": [
          21,
          21
         ]
        },
        {
         "hovertemplate": "2023-11-06 - 00:00:00 - 07:47:00",
         "line": {
          "color": "blue",
          "width": 7
         },
         "mode": "lines",
         "showlegend": false,
         "type": "scatter",
         "x": [
          0,
          7.783333333333333
         ],
         "y": [
          22,
          22
         ]
        },
        {
         "hovertemplate": "2023-11-06 - 14:31:00 - 15:03:00",
         "line": {
          "color": "blue",
          "width": 7
         },
         "mode": "lines",
         "showlegend": false,
         "type": "scatter",
         "x": [
          14.516666666666667,
          15.05
         ],
         "y": [
          22,
          22
         ]
        },
        {
         "hovertemplate": "2023-11-06 - 23:15:00 - 24:00:00",
         "line": {
          "color": "blue",
          "width": 7
         },
         "mode": "lines",
         "showlegend": false,
         "type": "scatter",
         "x": [
          23.25,
          24
         ],
         "y": [
          22,
          22
         ]
        },
        {
         "hovertemplate": "2023-11-07 - 00:00:00 - 09:33:00",
         "line": {
          "color": "blue",
          "width": 7
         },
         "mode": "lines",
         "showlegend": false,
         "type": "scatter",
         "x": [
          0,
          9.55
         ],
         "y": [
          23,
          23
         ]
        },
        {
         "hovertemplate": "2023-11-07 - 14:21:00 - 14:59:00",
         "line": {
          "color": "blue",
          "width": 7
         },
         "mode": "lines",
         "showlegend": false,
         "type": "scatter",
         "x": [
          14.35,
          14.983333333333333
         ],
         "y": [
          23,
          23
         ]
        },
        {
         "hovertemplate": "2023-11-07 - 08:00:00 - 08:41:00",
         "line": {
          "color": "red",
          "width": 7
         },
         "mode": "lines",
         "showlegend": false,
         "type": "scatter",
         "x": [
          8,
          8.683333333333334
         ],
         "y": [
          23,
          23
         ]
        },
        {
         "hovertemplate": "2023-11-08 - 00:02:00 - 08:00:00",
         "line": {
          "color": "blue",
          "width": 7
         },
         "mode": "lines",
         "showlegend": false,
         "type": "scatter",
         "x": [
          0.03333333333333333,
          8
         ],
         "y": [
          24,
          24
         ]
        },
        {
         "hovertemplate": "2023-11-08 - 07:24:00 - 07:31:00",
         "line": {
          "color": "red",
          "width": 7
         },
         "mode": "lines",
         "showlegend": false,
         "type": "scatter",
         "x": [
          7.4,
          7.516666666666667
         ],
         "y": [
          24,
          24
         ]
        },
        {
         "hovertemplate": "2023-11-09 - 00:46:00 - 08:15:00",
         "line": {
          "color": "blue",
          "width": 7
         },
         "mode": "lines",
         "showlegend": false,
         "type": "scatter",
         "x": [
          0.7666666666666667,
          8.25
         ],
         "y": [
          25,
          25
         ]
        },
        {
         "hovertemplate": "2023-11-09 - 17:54:00 - 18:33:00",
         "line": {
          "color": "blue",
          "width": 7
         },
         "mode": "lines",
         "showlegend": false,
         "type": "scatter",
         "x": [
          17.9,
          18.55
         ],
         "y": [
          25,
          25
         ]
        },
        {
         "hovertemplate": "2023-11-09 - 23:53:00 - 24:00:00",
         "line": {
          "color": "blue",
          "width": 7
         },
         "mode": "lines",
         "showlegend": false,
         "type": "scatter",
         "x": [
          23.883333333333333,
          24
         ],
         "y": [
          25,
          25
         ]
        },
        {
         "hovertemplate": "2023-11-10 - 00:00:00 - 09:18:00",
         "line": {
          "color": "blue",
          "width": 7
         },
         "mode": "lines",
         "showlegend": false,
         "type": "scatter",
         "x": [
          0,
          9.3
         ],
         "y": [
          26,
          26
         ]
        },
        {
         "hovertemplate": "2023-11-10 - 14:43:00 - 16:05:00",
         "line": {
          "color": "blue",
          "width": 7
         },
         "mode": "lines",
         "showlegend": false,
         "type": "scatter",
         "x": [
          14.716666666666667,
          16.083333333333332
         ],
         "y": [
          26,
          26
         ]
        },
        {
         "hovertemplate": "2023-11-10 - 23:43:00 - 24:00:00",
         "line": {
          "color": "blue",
          "width": 7
         },
         "mode": "lines",
         "showlegend": false,
         "type": "scatter",
         "x": [
          23.716666666666665,
          24
         ],
         "y": [
          26,
          26
         ]
        },
        {
         "hovertemplate": "2023-11-11 - 00:00:00 - 08:00:00",
         "line": {
          "color": "blue",
          "width": 7
         },
         "mode": "lines",
         "showlegend": false,
         "type": "scatter",
         "x": [
          0,
          8
         ],
         "y": [
          27,
          27
         ]
        },
        {
         "hovertemplate": "2023-11-11 - 13:02:00 - 14:34:00",
         "line": {
          "color": "blue",
          "width": 7
         },
         "mode": "lines",
         "showlegend": false,
         "type": "scatter",
         "x": [
          13.033333333333333,
          14.566666666666666
         ],
         "y": [
          27,
          27
         ]
        },
        {
         "hovertemplate": "2023-11-11 - 23:58:00 - 24:00:00",
         "line": {
          "color": "blue",
          "width": 7
         },
         "mode": "lines",
         "showlegend": false,
         "type": "scatter",
         "x": [
          23.966666666666665,
          24
         ],
         "y": [
          27,
          27
         ]
        },
        {
         "hovertemplate": "2023-11-12 - 00:00:00 - 08:16:00",
         "line": {
          "color": "blue",
          "width": 7
         },
         "mode": "lines",
         "showlegend": false,
         "type": "scatter",
         "x": [
          0,
          8.266666666666667
         ],
         "y": [
          28,
          28
         ]
        },
        {
         "hovertemplate": "2023-11-13 - 00:37:00 - 08:13:00",
         "line": {
          "color": "blue",
          "width": 7
         },
         "mode": "lines",
         "showlegend": false,
         "type": "scatter",
         "x": [
          0.6166666666666667,
          8.216666666666667
         ],
         "y": [
          29,
          29
         ]
        },
        {
         "hovertemplate": "2023-11-13 - 23:14:00 - 24:00:00",
         "line": {
          "color": "blue",
          "width": 7
         },
         "mode": "lines",
         "showlegend": false,
         "type": "scatter",
         "x": [
          23.233333333333334,
          24
         ],
         "y": [
          29,
          29
         ]
        },
        {
         "hovertemplate": "2023-11-14 - 00:00:00 - 07:51:00",
         "line": {
          "color": "blue",
          "width": 7
         },
         "mode": "lines",
         "showlegend": false,
         "type": "scatter",
         "x": [
          0,
          7.85
         ],
         "y": [
          30,
          30
         ]
        },
        {
         "hovertemplate": "2023-11-14 - 14:40:00 - 15:21:00",
         "line": {
          "color": "blue",
          "width": 7
         },
         "mode": "lines",
         "showlegend": false,
         "type": "scatter",
         "x": [
          14.666666666666666,
          15.35
         ],
         "y": [
          30,
          30
         ]
        },
        {
         "hovertemplate": "2023-11-14 - 23:43:00 - 24:00:00",
         "line": {
          "color": "blue",
          "width": 7
         },
         "mode": "lines",
         "showlegend": false,
         "type": "scatter",
         "x": [
          23.716666666666665,
          24
         ],
         "y": [
          30,
          30
         ]
        },
        {
         "hovertemplate": "2023-11-15 - 00:00:00 - 08:29:00",
         "line": {
          "color": "blue",
          "width": 7
         },
         "mode": "lines",
         "showlegend": false,
         "type": "scatter",
         "x": [
          0,
          8.483333333333333
         ],
         "y": [
          31,
          31
         ]
        },
        {
         "hovertemplate": "2023-11-15 - 14:31:00 - 15:38:00",
         "line": {
          "color": "blue",
          "width": 7
         },
         "mode": "lines",
         "showlegend": false,
         "type": "scatter",
         "x": [
          14.516666666666667,
          15.633333333333333
         ],
         "y": [
          31,
          31
         ]
        },
        {
         "hovertemplate": "2023-11-16 - 00:06:00 - 07:38:00",
         "line": {
          "color": "blue",
          "width": 7
         },
         "mode": "lines",
         "showlegend": false,
         "type": "scatter",
         "x": [
          0.1,
          7.633333333333333
         ],
         "y": [
          32,
          32
         ]
        },
        {
         "hovertemplate": "2023-11-16 - 23:17:00 - 24:00:00",
         "line": {
          "color": "blue",
          "width": 7
         },
         "mode": "lines",
         "showlegend": false,
         "type": "scatter",
         "x": [
          23.283333333333335,
          24
         ],
         "y": [
          32,
          32
         ]
        },
        {
         "hovertemplate": "2023-11-17 - 00:00:00 - 07:26:00",
         "line": {
          "color": "blue",
          "width": 7
         },
         "mode": "lines",
         "showlegend": false,
         "type": "scatter",
         "x": [
          0,
          7.433333333333334
         ],
         "y": [
          33,
          33
         ]
        },
        {
         "hovertemplate": "2023-11-17 - 23:22:00 - 24:00:00",
         "line": {
          "color": "blue",
          "width": 7
         },
         "mode": "lines",
         "showlegend": false,
         "type": "scatter",
         "x": [
          23.366666666666667,
          24
         ],
         "y": [
          33,
          33
         ]
        },
        {
         "hovertemplate": "2023-11-18 - 00:00:00 - 08:20:00",
         "line": {
          "color": "blue",
          "width": 7
         },
         "mode": "lines",
         "showlegend": false,
         "type": "scatter",
         "x": [
          0,
          8.333333333333334
         ],
         "y": [
          34,
          34
         ]
        },
        {
         "hovertemplate": "2023-11-18 - 14:09:00 - 15:14:00",
         "line": {
          "color": "blue",
          "width": 7
         },
         "mode": "lines",
         "showlegend": false,
         "type": "scatter",
         "x": [
          14.15,
          15.233333333333333
         ],
         "y": [
          34,
          34
         ]
        },
        {
         "hovertemplate": "2023-11-17 - 23:42:00 - 24:00",
         "line": {
          "color": "red",
          "width": 7
         },
         "mode": "lines",
         "showlegend": false,
         "type": "scatter",
         "x": [
          23.7,
          24
         ],
         "y": [
          33,
          33
         ]
        },
        {
         "hovertemplate": "2023-11-18 - 00:00:00 - 00:09:00",
         "line": {
          "color": "red",
          "width": 7
         },
         "mode": "lines",
         "showlegend": false,
         "type": "scatter",
         "x": [
          0,
          0.15
         ],
         "y": [
          34,
          34
         ]
        },
        {
         "hovertemplate": "2023-11-18 - 07:20:00 - 07:30:00",
         "line": {
          "color": "red",
          "width": 7
         },
         "mode": "lines",
         "showlegend": false,
         "type": "scatter",
         "x": [
          7.333333333333333,
          7.5
         ],
         "y": [
          34,
          34
         ]
        },
        {
         "hovertemplate": "2023-11-18 - 23:56:00 - 24:00:00",
         "line": {
          "color": "blue",
          "width": 7
         },
         "mode": "lines",
         "showlegend": false,
         "type": "scatter",
         "x": [
          23.933333333333334,
          24
         ],
         "y": [
          34,
          34
         ]
        },
        {
         "hovertemplate": "2023-11-19 - 00:00:00 - 08:26:00",
         "line": {
          "color": "blue",
          "width": 7
         },
         "mode": "lines",
         "showlegend": false,
         "type": "scatter",
         "x": [
          0,
          8.433333333333334
         ],
         "y": [
          35,
          35
         ]
        },
        {
         "hovertemplate": "2023-11-19 - 16:01:00 - 17:12:00",
         "line": {
          "color": "blue",
          "width": 7
         },
         "mode": "lines",
         "showlegend": false,
         "type": "scatter",
         "x": [
          16.016666666666666,
          17.2
         ],
         "y": [
          35,
          35
         ]
        },
        {
         "hovertemplate": "2023-11-19 - 23:53:00 - 24:00:00",
         "line": {
          "color": "blue",
          "width": 7
         },
         "mode": "lines",
         "showlegend": false,
         "type": "scatter",
         "x": [
          23.883333333333333,
          24
         ],
         "y": [
          35,
          35
         ]
        },
        {
         "hovertemplate": "2023-11-20 - 00:00:00 - 07:58:00",
         "line": {
          "color": "blue",
          "width": 7
         },
         "mode": "lines",
         "showlegend": false,
         "type": "scatter",
         "x": [
          0,
          7.966666666666667
         ],
         "y": [
          36,
          36
         ]
        },
        {
         "hovertemplate": "2023-11-20 - 14:32:00 - 15:11:00",
         "line": {
          "color": "blue",
          "width": 7
         },
         "mode": "lines",
         "showlegend": false,
         "type": "scatter",
         "x": [
          14.533333333333333,
          15.183333333333334
         ],
         "y": [
          36,
          36
         ]
        },
        {
         "hovertemplate": "2023-11-21 - 00:33:00 - 08:16:00",
         "line": {
          "color": "blue",
          "width": 7
         },
         "mode": "lines",
         "showlegend": false,
         "type": "scatter",
         "x": [
          0.55,
          8.266666666666667
         ],
         "y": [
          37,
          37
         ]
        },
        {
         "hovertemplate": "2023-11-21 - 16:51:00 - 18:15:00",
         "line": {
          "color": "blue",
          "width": 7
         },
         "mode": "lines",
         "showlegend": false,
         "type": "scatter",
         "x": [
          16.85,
          18.25
         ],
         "y": [
          37,
          37
         ]
        },
        {
         "hovertemplate": "2023-11-22 - 00:22:00 - 09:07:00",
         "line": {
          "color": "blue",
          "width": 7
         },
         "mode": "lines",
         "showlegend": false,
         "type": "scatter",
         "x": [
          0.36666666666666664,
          9.116666666666667
         ],
         "y": [
          38,
          38
         ]
        },
        {
         "hovertemplate": "2023-11-22 - 14:27:00 - 15:39:00",
         "line": {
          "color": "blue",
          "width": 7
         },
         "mode": "lines",
         "showlegend": false,
         "type": "scatter",
         "x": [
          14.45,
          15.65
         ],
         "y": [
          38,
          38
         ]
        },
        {
         "hovertemplate": "2023-11-22 - 08:05:00 - 08:43:00",
         "line": {
          "color": "red",
          "width": 7
         },
         "mode": "lines",
         "showlegend": false,
         "type": "scatter",
         "x": [
          8.083333333333334,
          8.716666666666667
         ],
         "y": [
          38,
          38
         ]
        },
        {
         "hovertemplate": "2023-11-22 - 23:56:00 - 24:00:00",
         "line": {
          "color": "blue",
          "width": 7
         },
         "mode": "lines",
         "showlegend": false,
         "type": "scatter",
         "x": [
          23.933333333333334,
          24
         ],
         "y": [
          38,
          38
         ]
        },
        {
         "hovertemplate": "2023-11-23 - 00:00:00 - 08:19:00",
         "line": {
          "color": "blue",
          "width": 7
         },
         "mode": "lines",
         "showlegend": false,
         "type": "scatter",
         "x": [
          0,
          8.316666666666666
         ],
         "y": [
          39,
          39
         ]
        },
        {
         "hovertemplate": "2023-11-23 - 23:34:00 - 24:00:00",
         "line": {
          "color": "blue",
          "width": 7
         },
         "mode": "lines",
         "showlegend": false,
         "type": "scatter",
         "x": [
          23.566666666666666,
          24
         ],
         "y": [
          39,
          39
         ]
        },
        {
         "hovertemplate": "2023-11-24 - 00:00:00 - 08:04:00",
         "line": {
          "color": "blue",
          "width": 7
         },
         "mode": "lines",
         "showlegend": false,
         "type": "scatter",
         "x": [
          0,
          8.066666666666666
         ],
         "y": [
          40,
          40
         ]
        },
        {
         "hovertemplate": "2023-11-24 - 14:37:00 - 17:47:00",
         "line": {
          "color": "blue",
          "width": 7
         },
         "mode": "lines",
         "showlegend": false,
         "type": "scatter",
         "x": [
          14.616666666666667,
          17.783333333333335
         ],
         "y": [
          40,
          40
         ]
        },
        {
         "hovertemplate": "2023-11-24 - 16:27:00 - 16:37:00",
         "line": {
          "color": "red",
          "width": 7
         },
         "mode": "lines",
         "showlegend": false,
         "type": "scatter",
         "x": [
          16.45,
          16.616666666666667
         ],
         "y": [
          40,
          40
         ]
        },
        {
         "hovertemplate": "2023-11-25 - 00:06:00 - 07:46:00",
         "line": {
          "color": "blue",
          "width": 7
         },
         "mode": "lines",
         "showlegend": false,
         "type": "scatter",
         "x": [
          0.1,
          7.766666666666667
         ],
         "y": [
          41,
          41
         ]
        },
        {
         "hovertemplate": "2023-11-25 - 16:39:00 - 17:31:00",
         "line": {
          "color": "blue",
          "width": 7
         },
         "mode": "lines",
         "showlegend": false,
         "type": "scatter",
         "x": [
          16.65,
          17.516666666666666
         ],
         "y": [
          41,
          41
         ]
        },
        {
         "hovertemplate": "2023-11-25 - 23:17:00 - 24:00:00",
         "line": {
          "color": "blue",
          "width": 7
         },
         "mode": "lines",
         "showlegend": false,
         "type": "scatter",
         "x": [
          23.283333333333335,
          24
         ],
         "y": [
          41,
          41
         ]
        },
        {
         "hovertemplate": "2023-11-26 - 00:00:00 - 07:57:00",
         "line": {
          "color": "blue",
          "width": 7
         },
         "mode": "lines",
         "showlegend": false,
         "type": "scatter",
         "x": [
          0,
          7.95
         ],
         "y": [
          42,
          42
         ]
        },
        {
         "hovertemplate": "2023-11-26 - 12:30:00 - 14:00:00",
         "line": {
          "color": "blue",
          "width": 7
         },
         "mode": "lines",
         "showlegend": false,
         "type": "scatter",
         "x": [
          12.5,
          14
         ],
         "y": [
          42,
          42
         ]
        },
        {
         "hovertemplate": "2023-11-27 - 01:01:00 - 08:42:00",
         "line": {
          "color": "blue",
          "width": 7
         },
         "mode": "lines",
         "showlegend": false,
         "type": "scatter",
         "x": [
          1.0166666666666666,
          8.7
         ],
         "y": [
          43,
          43
         ]
        },
        {
         "hovertemplate": "2023-11-27 - 06:54:00 - 07:37:00",
         "line": {
          "color": "red",
          "width": 7
         },
         "mode": "lines",
         "showlegend": false,
         "type": "scatter",
         "x": [
          6.9,
          7.616666666666667
         ],
         "y": [
          43,
          43
         ]
        },
        {
         "hovertemplate": "2023-11-27 - 23:22:00 - 24:00:00",
         "line": {
          "color": "blue",
          "width": 7
         },
         "mode": "lines",
         "showlegend": false,
         "type": "scatter",
         "x": [
          23.366666666666667,
          24
         ],
         "y": [
          43,
          43
         ]
        },
        {
         "hovertemplate": "2023-11-28 - 00:00:00 - 09:11:00",
         "line": {
          "color": "blue",
          "width": 7
         },
         "mode": "lines",
         "showlegend": false,
         "type": "scatter",
         "x": [
          0,
          9.183333333333334
         ],
         "y": [
          44,
          44
         ]
        },
        {
         "hovertemplate": "2023-11-28 - 16:14:00 - 17:22:00",
         "line": {
          "color": "blue",
          "width": 7
         },
         "mode": "lines",
         "showlegend": false,
         "type": "scatter",
         "x": [
          16.233333333333334,
          17.366666666666667
         ],
         "y": [
          44,
          44
         ]
        },
        {
         "hovertemplate": "2023-11-28 - 23:46:00 - 24:00:00",
         "line": {
          "color": "blue",
          "width": 7
         },
         "mode": "lines",
         "showlegend": false,
         "type": "scatter",
         "x": [
          23.766666666666666,
          24
         ],
         "y": [
          44,
          44
         ]
        },
        {
         "hovertemplate": "2023-11-29 - 00:00:00 - 08:09:00",
         "line": {
          "color": "blue",
          "width": 7
         },
         "mode": "lines",
         "showlegend": false,
         "type": "scatter",
         "x": [
          0,
          8.15
         ],
         "y": [
          45,
          45
         ]
        },
        {
         "hovertemplate": "2023-11-30 - 00:01:00 - 08:09:00",
         "line": {
          "color": "blue",
          "width": 7
         },
         "mode": "lines",
         "showlegend": false,
         "type": "scatter",
         "x": [
          0.016666666666666666,
          8.15
         ],
         "y": [
          46,
          46
         ]
        },
        {
         "hovertemplate": "2023-11-30 - 13:27:00 - 14:34:00",
         "line": {
          "color": "blue",
          "width": 7
         },
         "mode": "lines",
         "showlegend": false,
         "type": "scatter",
         "x": [
          13.45,
          14.566666666666666
         ],
         "y": [
          46,
          46
         ]
        },
        {
         "hovertemplate": "2023-11-30 - 03:28:00 - 03:37:00",
         "line": {
          "color": "red",
          "width": 7
         },
         "mode": "lines",
         "showlegend": false,
         "type": "scatter",
         "x": [
          3.466666666666667,
          3.6166666666666667
         ],
         "y": [
          46,
          46
         ]
        },
        {
         "hovertemplate": "2023-11-30 - 04:41:00 - 05:56:00",
         "line": {
          "color": "red",
          "width": 7
         },
         "mode": "lines",
         "showlegend": false,
         "type": "scatter",
         "x": [
          4.683333333333334,
          5.933333333333334
         ],
         "y": [
          46,
          46
         ]
        },
        {
         "hovertemplate": "2023-11-30 - 23:22:00 - 24:00:00",
         "line": {
          "color": "blue",
          "width": 7
         },
         "mode": "lines",
         "showlegend": false,
         "type": "scatter",
         "x": [
          23.366666666666667,
          24
         ],
         "y": [
          46,
          46
         ]
        },
        {
         "hovertemplate": "2023-12-01 - 00:00:00 - 08:44:00",
         "line": {
          "color": "blue",
          "width": 7
         },
         "mode": "lines",
         "showlegend": false,
         "type": "scatter",
         "x": [
          0,
          8.733333333333333
         ],
         "y": [
          47,
          47
         ]
        },
        {
         "hovertemplate": "2023-12-01 - 15:52:00 - 18:55:00",
         "line": {
          "color": "blue",
          "width": 7
         },
         "mode": "lines",
         "showlegend": false,
         "type": "scatter",
         "x": [
          15.866666666666667,
          18.916666666666668
         ],
         "y": [
          47,
          47
         ]
        },
        {
         "hovertemplate": "2023-12-01 - 07:12:00 - 07:21:00",
         "line": {
          "color": "red",
          "width": 7
         },
         "mode": "lines",
         "showlegend": false,
         "type": "scatter",
         "x": [
          7.2,
          7.35
         ],
         "y": [
          47,
          47
         ]
        },
        {
         "hovertemplate": "2023-12-01 - 23:54:00 - 24:00:00",
         "line": {
          "color": "blue",
          "width": 7
         },
         "mode": "lines",
         "showlegend": false,
         "type": "scatter",
         "x": [
          23.9,
          24
         ],
         "y": [
          47,
          47
         ]
        },
        {
         "hovertemplate": "2023-12-02 - 00:00:00 - 08:07:00",
         "line": {
          "color": "blue",
          "width": 7
         },
         "mode": "lines",
         "showlegend": false,
         "type": "scatter",
         "x": [
          0,
          8.116666666666667
         ],
         "y": [
          48,
          48
         ]
        },
        {
         "hovertemplate": "2023-12-02 - 14:33:00 - 15:18:00",
         "line": {
          "color": "blue",
          "width": 7
         },
         "mode": "lines",
         "showlegend": false,
         "type": "scatter",
         "x": [
          14.55,
          15.3
         ],
         "y": [
          48,
          48
         ]
        },
        {
         "hovertemplate": "2023-12-02 - 23:11:00 - 24:00:00",
         "line": {
          "color": "blue",
          "width": 7
         },
         "mode": "lines",
         "showlegend": false,
         "type": "scatter",
         "x": [
          23.183333333333334,
          24
         ],
         "y": [
          48,
          48
         ]
        },
        {
         "hovertemplate": "2023-12-03 - 00:00:00 - 09:12:00",
         "line": {
          "color": "blue",
          "width": 7
         },
         "mode": "lines",
         "showlegend": false,
         "type": "scatter",
         "x": [
          0,
          9.2
         ],
         "y": [
          49,
          49
         ]
        },
        {
         "hovertemplate": "2023-12-03 - 12:57:00 - 13:35:00",
         "line": {
          "color": "blue",
          "width": 7
         },
         "mode": "lines",
         "showlegend": false,
         "type": "scatter",
         "x": [
          12.95,
          13.583333333333334
         ],
         "y": [
          49,
          49
         ]
        },
        {
         "hovertemplate": "2023-12-04 - 00:06:00 - 08:06:00",
         "line": {
          "color": "blue",
          "width": 7
         },
         "mode": "lines",
         "showlegend": false,
         "type": "scatter",
         "x": [
          0.1,
          8.1
         ],
         "y": [
          50,
          50
         ]
        },
        {
         "hovertemplate": "2023-12-04 - 10:54:00 - 11:42:00",
         "line": {
          "color": "blue",
          "width": 7
         },
         "mode": "lines",
         "showlegend": false,
         "type": "scatter",
         "x": [
          10.9,
          11.7
         ],
         "y": [
          50,
          50
         ]
        },
        {
         "hovertemplate": "2023-12-05 - 00:29:00 - 07:50:00",
         "line": {
          "color": "blue",
          "width": 7
         },
         "mode": "lines",
         "showlegend": false,
         "type": "scatter",
         "x": [
          0.48333333333333334,
          7.833333333333333
         ],
         "y": [
          51,
          51
         ]
        },
        {
         "hovertemplate": "2023-12-05 - 14:15:00 - 15:01:00",
         "line": {
          "color": "blue",
          "width": 7
         },
         "mode": "lines",
         "showlegend": false,
         "type": "scatter",
         "x": [
          14.25,
          15.016666666666667
         ],
         "y": [
          51,
          51
         ]
        },
        {
         "hovertemplate": "2023-12-06 - 00:33:00 - 10:25:00",
         "line": {
          "color": "blue",
          "width": 7
         },
         "mode": "lines",
         "showlegend": false,
         "type": "scatter",
         "x": [
          0.55,
          10.416666666666666
         ],
         "y": [
          52,
          52
         ]
        },
        {
         "hovertemplate": "2023-12-06 - 15:23:00 - 16:07:00",
         "line": {
          "color": "blue",
          "width": 7
         },
         "mode": "lines",
         "showlegend": false,
         "type": "scatter",
         "x": [
          15.383333333333333,
          16.116666666666667
         ],
         "y": [
          52,
          52
         ]
        },
        {
         "hovertemplate": "2023-12-06 - 08:15:00 - 10:09:00",
         "line": {
          "color": "red",
          "width": 7
         },
         "mode": "lines",
         "showlegend": false,
         "type": "scatter",
         "x": [
          8.25,
          10.15
         ],
         "y": [
          52,
          52
         ]
        },
        {
         "hovertemplate": "2023-12-07 - 00:41:00 - 07:46:00",
         "line": {
          "color": "blue",
          "width": 7
         },
         "mode": "lines",
         "showlegend": false,
         "type": "scatter",
         "x": [
          0.6833333333333333,
          7.766666666666667
         ],
         "y": [
          53,
          53
         ]
        },
        {
         "hovertemplate": "2023-12-08 - 00:14:00 - 08:23:00",
         "line": {
          "color": "blue",
          "width": 7
         },
         "mode": "lines",
         "showlegend": false,
         "type": "scatter",
         "x": [
          0.23333333333333334,
          8.383333333333333
         ],
         "y": [
          54,
          54
         ]
        },
        {
         "hovertemplate": "2023-12-08 - 19:09:00 - 24:00:00",
         "line": {
          "color": "blue",
          "width": 7
         },
         "mode": "lines",
         "showlegend": false,
         "type": "scatter",
         "x": [
          19.15,
          24
         ],
         "y": [
          54,
          54
         ]
        },
        {
         "hovertemplate": "2023-12-09 - 00:00:00 - 08:37:00",
         "line": {
          "color": "blue",
          "width": 7
         },
         "mode": "lines",
         "showlegend": false,
         "type": "scatter",
         "x": [
          0,
          8.616666666666667
         ],
         "y": [
          55,
          55
         ]
        },
        {
         "hovertemplate": "2023-12-09 - 16:46:00 - 18:47:00",
         "line": {
          "color": "blue",
          "width": 7
         },
         "mode": "lines",
         "showlegend": false,
         "type": "scatter",
         "x": [
          16.766666666666666,
          18.783333333333335
         ],
         "y": [
          55,
          55
         ]
        },
        {
         "hovertemplate": "2023-12-08 - 21:35:00 - 23:23:00",
         "line": {
          "color": "red",
          "width": 7
         },
         "mode": "lines",
         "showlegend": false,
         "type": "scatter",
         "x": [
          21.583333333333332,
          23.383333333333333
         ],
         "y": [
          54,
          54
         ]
        },
        {
         "hovertemplate": "2023-12-09 - 22:57:00 - 24:00:00",
         "line": {
          "color": "blue",
          "width": 7
         },
         "mode": "lines",
         "showlegend": false,
         "type": "scatter",
         "x": [
          22.95,
          24
         ],
         "y": [
          55,
          55
         ]
        },
        {
         "hovertemplate": "2023-12-10 - 00:00:00 - 07:39:00",
         "line": {
          "color": "blue",
          "width": 7
         },
         "mode": "lines",
         "showlegend": false,
         "type": "scatter",
         "x": [
          0,
          7.65
         ],
         "y": [
          56,
          56
         ]
        },
        {
         "hovertemplate": "2023-12-10 - 23:26:00 - 24:00:00",
         "line": {
          "color": "blue",
          "width": 7
         },
         "mode": "lines",
         "showlegend": false,
         "type": "scatter",
         "x": [
          23.433333333333334,
          24
         ],
         "y": [
          56,
          56
         ]
        },
        {
         "hovertemplate": "2023-12-11 - 00:00:00 - 09:53:00",
         "line": {
          "color": "blue",
          "width": 7
         },
         "mode": "lines",
         "showlegend": false,
         "type": "scatter",
         "x": [
          0,
          9.883333333333333
         ],
         "y": [
          57,
          57
         ]
        },
        {
         "hovertemplate": "2023-12-11 - 13:58:00 - 14:48:00",
         "line": {
          "color": "blue",
          "width": 7
         },
         "mode": "lines",
         "showlegend": false,
         "type": "scatter",
         "x": [
          13.966666666666667,
          14.8
         ],
         "y": [
          57,
          57
         ]
        },
        {
         "hovertemplate": "2023-12-11 - 07:56:00 - 08:40:00",
         "line": {
          "color": "red",
          "width": 7
         },
         "mode": "lines",
         "showlegend": false,
         "type": "scatter",
         "x": [
          7.933333333333334,
          8.666666666666666
         ],
         "y": [
          57,
          57
         ]
        },
        {
         "hovertemplate": "2023-12-12 - 00:26:00 - 09:29:00",
         "line": {
          "color": "blue",
          "width": 7
         },
         "mode": "lines",
         "showlegend": false,
         "type": "scatter",
         "x": [
          0.43333333333333335,
          9.483333333333333
         ],
         "y": [
          58,
          58
         ]
        },
        {
         "hovertemplate": "2023-12-12 - 07:08:00 - 07:17:00",
         "line": {
          "color": "red",
          "width": 7
         },
         "mode": "lines",
         "showlegend": false,
         "type": "scatter",
         "x": [
          7.133333333333334,
          7.283333333333333
         ],
         "y": [
          58,
          58
         ]
        },
        {
         "hovertemplate": "2023-12-12 - 22:56:00 - 24:00:00",
         "line": {
          "color": "blue",
          "width": 7
         },
         "mode": "lines",
         "showlegend": false,
         "type": "scatter",
         "x": [
          22.933333333333334,
          24
         ],
         "y": [
          58,
          58
         ]
        },
        {
         "hovertemplate": "2023-12-13 - 00:00:00 - 10:16:00",
         "line": {
          "color": "blue",
          "width": 7
         },
         "mode": "lines",
         "showlegend": false,
         "type": "scatter",
         "x": [
          0,
          10.266666666666667
         ],
         "y": [
          59,
          59
         ]
        },
        {
         "hovertemplate": "2023-12-13 - 14:40:00 - 16:36:00",
         "line": {
          "color": "blue",
          "width": 7
         },
         "mode": "lines",
         "showlegend": false,
         "type": "scatter",
         "x": [
          14.666666666666666,
          16.6
         ],
         "y": [
          59,
          59
         ]
        },
        {
         "hovertemplate": "2023-12-13 - 08:25:00 - 08:39:00",
         "line": {
          "color": "red",
          "width": 7
         },
         "mode": "lines",
         "showlegend": false,
         "type": "scatter",
         "x": [
          8.416666666666666,
          8.65
         ],
         "y": [
          59,
          59
         ]
        },
        {
         "hovertemplate": "2023-12-14 - 00:24:00 - 10:09:00",
         "line": {
          "color": "blue",
          "width": 7
         },
         "mode": "lines",
         "showlegend": false,
         "type": "scatter",
         "x": [
          0.4,
          10.15
         ],
         "y": [
          60,
          60
         ]
        },
        {
         "hovertemplate": "2023-12-14 - 13:51:00 - 15:24:00",
         "line": {
          "color": "blue",
          "width": 7
         },
         "mode": "lines",
         "showlegend": false,
         "type": "scatter",
         "x": [
          13.85,
          15.4
         ],
         "y": [
          60,
          60
         ]
        },
        {
         "hovertemplate": "2023-12-14 - 18:50:00 - 19:54:00",
         "line": {
          "color": "blue",
          "width": 7
         },
         "mode": "lines",
         "showlegend": false,
         "type": "scatter",
         "x": [
          18.833333333333332,
          19.9
         ],
         "y": [
          60,
          60
         ]
        },
        {
         "hovertemplate": "2023-12-14 - 23:36:00 - 24:00:00",
         "line": {
          "color": "blue",
          "width": 7
         },
         "mode": "lines",
         "showlegend": false,
         "type": "scatter",
         "x": [
          23.6,
          24
         ],
         "y": [
          60,
          60
         ]
        },
        {
         "hovertemplate": "2023-12-15 - 00:00:00 - 08:47:00",
         "line": {
          "color": "blue",
          "width": 7
         },
         "mode": "lines",
         "showlegend": false,
         "type": "scatter",
         "x": [
          0,
          8.783333333333333
         ],
         "y": [
          61,
          61
         ]
        },
        {
         "hovertemplate": "2023-12-15 - 13:04:00 - 17:00:00",
         "line": {
          "color": "blue",
          "width": 7
         },
         "mode": "lines",
         "showlegend": false,
         "type": "scatter",
         "x": [
          13.066666666666666,
          17
         ],
         "y": [
          61,
          61
         ]
        },
        {
         "hovertemplate": "2023-12-15 - 14:28:00 - 16:18:00",
         "line": {
          "color": "red",
          "width": 7
         },
         "mode": "lines",
         "showlegend": false,
         "type": "scatter",
         "x": [
          14.466666666666667,
          16.3
         ],
         "y": [
          61,
          61
         ]
        },
        {
         "hovertemplate": "2023-12-16 - 00:06:00 - 07:44:00",
         "line": {
          "color": "blue",
          "width": 7
         },
         "mode": "lines",
         "showlegend": false,
         "type": "scatter",
         "x": [
          0.1,
          7.733333333333333
         ],
         "y": [
          62,
          62
         ]
        },
        {
         "hovertemplate": "2023-12-16 - 14:31:00 - 15:16:00",
         "line": {
          "color": "blue",
          "width": 7
         },
         "mode": "lines",
         "showlegend": false,
         "type": "scatter",
         "x": [
          14.516666666666667,
          15.266666666666667
         ],
         "y": [
          62,
          62
         ]
        },
        {
         "hovertemplate": "2023-12-16 - 23:18:00 - 24:00:00",
         "line": {
          "color": "blue",
          "width": 7
         },
         "mode": "lines",
         "showlegend": false,
         "type": "scatter",
         "x": [
          23.3,
          24
         ],
         "y": [
          62,
          62
         ]
        },
        {
         "hovertemplate": "2023-12-17 - 00:00:00 - 08:06:00",
         "line": {
          "color": "blue",
          "width": 7
         },
         "mode": "lines",
         "showlegend": false,
         "type": "scatter",
         "x": [
          0,
          8.1
         ],
         "y": [
          63,
          63
         ]
        },
        {
         "hovertemplate": "2023-12-17 - 11:21:00 - 13:45:00",
         "line": {
          "color": "blue",
          "width": 7
         },
         "mode": "lines",
         "showlegend": false,
         "type": "scatter",
         "x": [
          11.35,
          13.75
         ],
         "y": [
          63,
          63
         ]
        },
        {
         "hovertemplate": "2023-12-18 - 00:02:00 - 09:04:00",
         "line": {
          "color": "blue",
          "width": 7
         },
         "mode": "lines",
         "showlegend": false,
         "type": "scatter",
         "x": [
          0.03333333333333333,
          9.066666666666666
         ],
         "y": [
          64,
          64
         ]
        },
        {
         "hovertemplate": "2023-12-18 - 15:17:00 - 16:18:00",
         "line": {
          "color": "blue",
          "width": 7
         },
         "mode": "lines",
         "showlegend": false,
         "type": "scatter",
         "x": [
          15.283333333333333,
          16.3
         ],
         "y": [
          64,
          64
         ]
        },
        {
         "hovertemplate": "2023-12-18 - 23:47:00 - 24:00:00",
         "line": {
          "color": "blue",
          "width": 7
         },
         "mode": "lines",
         "showlegend": false,
         "type": "scatter",
         "x": [
          23.783333333333335,
          24
         ],
         "y": [
          64,
          64
         ]
        },
        {
         "hovertemplate": "2023-12-19 - 00:00:00 - 08:21:00",
         "line": {
          "color": "blue",
          "width": 7
         },
         "mode": "lines",
         "showlegend": false,
         "type": "scatter",
         "x": [
          0,
          8.35
         ],
         "y": [
          65,
          65
         ]
        },
        {
         "hovertemplate": "2023-12-19 - 14:16:00 - 14:59:00",
         "line": {
          "color": "blue",
          "width": 7
         },
         "mode": "lines",
         "showlegend": false,
         "type": "scatter",
         "x": [
          14.266666666666667,
          14.983333333333333
         ],
         "y": [
          65,
          65
         ]
        },
        {
         "hovertemplate": "2023-12-19 - 02:18:00 - 02:24:00",
         "line": {
          "color": "red",
          "width": 7
         },
         "mode": "lines",
         "showlegend": false,
         "type": "scatter",
         "x": [
          2.3,
          2.4
         ],
         "y": [
          65,
          65
         ]
        },
        {
         "hovertemplate": "2023-12-19 - 23:22:00 - 24:00:00",
         "line": {
          "color": "blue",
          "width": 7
         },
         "mode": "lines",
         "showlegend": false,
         "type": "scatter",
         "x": [
          23.366666666666667,
          24
         ],
         "y": [
          65,
          65
         ]
        },
        {
         "hovertemplate": "2023-12-20 - 00:00:00 - 10:20:00",
         "line": {
          "color": "blue",
          "width": 7
         },
         "mode": "lines",
         "showlegend": false,
         "type": "scatter",
         "x": [
          0,
          10.333333333333334
         ],
         "y": [
          66,
          66
         ]
        },
        {
         "hovertemplate": "2023-12-20 - 15:52:00 - 16:55:00",
         "line": {
          "color": "blue",
          "width": 7
         },
         "mode": "lines",
         "showlegend": false,
         "type": "scatter",
         "x": [
          15.866666666666667,
          16.916666666666668
         ],
         "y": [
          66,
          66
         ]
        },
        {
         "hovertemplate": "2023-12-20 - 07:52:00 - 09:20:00",
         "line": {
          "color": "red",
          "width": 7
         },
         "mode": "lines",
         "showlegend": false,
         "type": "scatter",
         "x": [
          7.866666666666667,
          9.333333333333334
         ],
         "y": [
          66,
          66
         ]
        },
        {
         "hovertemplate": "2023-12-21 - 00:15:00 - 08:26:00",
         "line": {
          "color": "blue",
          "width": 7
         },
         "mode": "lines",
         "showlegend": false,
         "type": "scatter",
         "x": [
          0.25,
          8.433333333333334
         ],
         "y": [
          67,
          67
         ]
        },
        {
         "hovertemplate": "2023-12-21 - 13:02:00 - 14:07:00",
         "line": {
          "color": "blue",
          "width": 7
         },
         "mode": "lines",
         "showlegend": false,
         "type": "scatter",
         "x": [
          13.033333333333333,
          14.116666666666667
         ],
         "y": [
          67,
          67
         ]
        },
        {
         "hovertemplate": "2023-12-22 - 00:24:00 - 08:16:00",
         "line": {
          "color": "blue",
          "width": 7
         },
         "mode": "lines",
         "showlegend": false,
         "type": "scatter",
         "x": [
          0.4,
          8.266666666666667
         ],
         "y": [
          68,
          68
         ]
        },
        {
         "hovertemplate": "2023-12-22 - 14:02:00 - 16:30:00",
         "line": {
          "color": "blue",
          "width": 7
         },
         "mode": "lines",
         "showlegend": false,
         "type": "scatter",
         "x": [
          14.033333333333333,
          16.5
         ],
         "y": [
          68,
          68
         ]
        },
        {
         "hovertemplate": "2023-12-23 - 00:16:00 - 08:34:00",
         "line": {
          "color": "blue",
          "width": 7
         },
         "mode": "lines",
         "showlegend": false,
         "type": "scatter",
         "x": [
          0.26666666666666666,
          8.566666666666666
         ],
         "y": [
          69,
          69
         ]
        },
        {
         "hovertemplate": "2023-12-23 - 07:03:00 - 07:13:00",
         "line": {
          "color": "red",
          "width": 7
         },
         "mode": "lines",
         "showlegend": false,
         "type": "scatter",
         "x": [
          7.05,
          7.216666666666667
         ],
         "y": [
          69,
          69
         ]
        },
        {
         "hovertemplate": "2023-12-24 - 23:38:00 - 24:00:00",
         "line": {
          "color": "blue",
          "width": 7
         },
         "mode": "lines",
         "showlegend": false,
         "type": "scatter",
         "x": [
          23.633333333333333,
          24
         ],
         "y": [
          70,
          70
         ]
        },
        {
         "hovertemplate": "2023-12-25 - 00:00:00 - 10:04:00",
         "line": {
          "color": "blue",
          "width": 7
         },
         "mode": "lines",
         "showlegend": false,
         "type": "scatter",
         "x": [
          0,
          10.066666666666666
         ],
         "y": [
          71,
          71
         ]
        },
        {
         "hovertemplate": "2023-12-25 - 08:30:00 - 08:38:00",
         "line": {
          "color": "red",
          "width": 7
         },
         "mode": "lines",
         "showlegend": false,
         "type": "scatter",
         "x": [
          8.5,
          8.633333333333333
         ],
         "y": [
          71,
          71
         ]
        },
        {
         "hovertemplate": "2023-12-26 - 00:33:00 - 09:03:00",
         "line": {
          "color": "blue",
          "width": 7
         },
         "mode": "lines",
         "showlegend": false,
         "type": "scatter",
         "x": [
          0.55,
          9.05
         ],
         "y": [
          72,
          72
         ]
        },
        {
         "hovertemplate": "2023-12-26 - 19:58:00 - 20:24:00",
         "line": {
          "color": "blue",
          "width": 7
         },
         "mode": "lines",
         "showlegend": false,
         "type": "scatter",
         "x": [
          19.966666666666665,
          20.4
         ],
         "y": [
          72,
          72
         ]
        },
        {
         "hovertemplate": "2023-12-26 - 07:03:00 - 07:10:00",
         "line": {
          "color": "red",
          "width": 7
         },
         "mode": "lines",
         "showlegend": false,
         "type": "scatter",
         "x": [
          7.05,
          7.166666666666667
         ],
         "y": [
          72,
          72
         ]
        },
        {
         "hovertemplate": "2023-12-26 - 22:59:00 - 24:00:00",
         "line": {
          "color": "blue",
          "width": 7
         },
         "mode": "lines",
         "showlegend": false,
         "type": "scatter",
         "x": [
          22.983333333333334,
          24
         ],
         "y": [
          72,
          72
         ]
        },
        {
         "hovertemplate": "2023-12-27 - 00:00:00 - 09:59:00",
         "line": {
          "color": "blue",
          "width": 7
         },
         "mode": "lines",
         "showlegend": false,
         "type": "scatter",
         "x": [
          0,
          9.983333333333333
         ],
         "y": [
          73,
          73
         ]
        },
        {
         "hovertemplate": "2023-12-27 - 13:31:00 - 15:08:00",
         "line": {
          "color": "blue",
          "width": 7
         },
         "mode": "lines",
         "showlegend": false,
         "type": "scatter",
         "x": [
          13.516666666666667,
          15.133333333333333
         ],
         "y": [
          73,
          73
         ]
        },
        {
         "hovertemplate": "2023-12-27 - 20:34:00 - 21:40:00",
         "line": {
          "color": "blue",
          "width": 7
         },
         "mode": "lines",
         "showlegend": false,
         "type": "scatter",
         "x": [
          20.566666666666666,
          21.666666666666668
         ],
         "y": [
          73,
          73
         ]
        },
        {
         "hovertemplate": "2023-12-27 - 07:02:00 - 07:10:00",
         "line": {
          "color": "red",
          "width": 7
         },
         "mode": "lines",
         "showlegend": false,
         "type": "scatter",
         "x": [
          7.033333333333333,
          7.166666666666667
         ],
         "y": [
          73,
          73
         ]
        },
        {
         "hovertemplate": "2023-12-27 - 08:46:00 - 09:34:00",
         "line": {
          "color": "red",
          "width": 7
         },
         "mode": "lines",
         "showlegend": false,
         "type": "scatter",
         "x": [
          8.766666666666667,
          9.566666666666666
         ],
         "y": [
          73,
          73
         ]
        },
        {
         "hovertemplate": "2023-12-28 - 00:47:00 - 08:17:00",
         "line": {
          "color": "blue",
          "width": 7
         },
         "mode": "lines",
         "showlegend": false,
         "type": "scatter",
         "x": [
          0.7833333333333333,
          8.283333333333333
         ],
         "y": [
          74,
          74
         ]
        },
        {
         "hovertemplate": "2023-12-28 - 14:42:00 - 16:00:00",
         "line": {
          "color": "blue",
          "width": 7
         },
         "mode": "lines",
         "showlegend": false,
         "type": "scatter",
         "x": [
          14.7,
          16
         ],
         "y": [
          74,
          74
         ]
        },
        {
         "hovertemplate": "2023-12-29 - 00:16:00 - 08:34:00",
         "line": {
          "color": "blue",
          "width": 7
         },
         "mode": "lines",
         "showlegend": false,
         "type": "scatter",
         "x": [
          0.26666666666666666,
          8.566666666666666
         ],
         "y": [
          75,
          75
         ]
        },
        {
         "hovertemplate": "2023-12-29 - 14:46:00 - 15:51:00",
         "line": {
          "color": "blue",
          "width": 7
         },
         "mode": "lines",
         "showlegend": false,
         "type": "scatter",
         "x": [
          14.766666666666667,
          15.85
         ],
         "y": [
          75,
          75
         ]
        },
        {
         "hovertemplate": "2023-12-31 - 00:51:00 - 09:00:00",
         "line": {
          "color": "blue",
          "width": 7
         },
         "mode": "lines",
         "showlegend": false,
         "type": "scatter",
         "x": [
          0.85,
          9
         ],
         "y": [
          77,
          77
         ]
        },
        {
         "hovertemplate": "2023-12-31 - 14:04:00 - 15:19:00",
         "line": {
          "color": "blue",
          "width": 7
         },
         "mode": "lines",
         "showlegend": false,
         "type": "scatter",
         "x": [
          14.066666666666666,
          15.316666666666666
         ],
         "y": [
          77,
          77
         ]
        },
        {
         "hovertemplate": "2024-01-01 - 17:36:00 - 18:17:00",
         "line": {
          "color": "blue",
          "width": 7
         },
         "mode": "lines",
         "showlegend": false,
         "type": "scatter",
         "x": [
          17.6,
          18.283333333333335
         ],
         "y": [
          78,
          78
         ]
        },
        {
         "hovertemplate": "2024-01-02 - 00:30:00 - 09:11:00",
         "line": {
          "color": "blue",
          "width": 7
         },
         "mode": "lines",
         "showlegend": false,
         "type": "scatter",
         "x": [
          0.5,
          9.183333333333334
         ],
         "y": [
          79,
          79
         ]
        },
        {
         "hovertemplate": "2024-01-02 - 15:26:00 - 16:35:00",
         "line": {
          "color": "blue",
          "width": 7
         },
         "mode": "lines",
         "showlegend": false,
         "type": "scatter",
         "x": [
          15.433333333333334,
          16.583333333333332
         ],
         "y": [
          79,
          79
         ]
        },
        {
         "hovertemplate": "2024-01-02 - 19:20:00 - 19:41:00",
         "line": {
          "color": "blue",
          "width": 7
         },
         "mode": "lines",
         "showlegend": false,
         "type": "scatter",
         "x": [
          19.333333333333332,
          19.683333333333334
         ],
         "y": [
          79,
          79
         ]
        },
        {
         "hovertemplate": "2024-01-03 - 00:31:00 - 09:09:00",
         "line": {
          "color": "blue",
          "width": 7
         },
         "mode": "lines",
         "showlegend": false,
         "type": "scatter",
         "x": [
          0.5166666666666667,
          9.15
         ],
         "y": [
          80,
          80
         ]
        },
        {
         "hovertemplate": "2024-01-03 - 13:55:00 - 15:39:00",
         "line": {
          "color": "blue",
          "width": 7
         },
         "mode": "lines",
         "showlegend": false,
         "type": "scatter",
         "x": [
          13.916666666666666,
          15.65
         ],
         "y": [
          80,
          80
         ]
        },
        {
         "hovertemplate": "2024-01-04 - 00:38:00 - 15:05:00",
         "line": {
          "color": "blue",
          "width": 7
         },
         "mode": "lines",
         "showlegend": false,
         "type": "scatter",
         "x": [
          0.6333333333333333,
          15.083333333333334
         ],
         "y": [
          81,
          81
         ]
        },
        {
         "hovertemplate": "2024-01-04 - 09:07:00 - 09:46:00",
         "line": {
          "color": "red",
          "width": 7
         },
         "mode": "lines",
         "showlegend": false,
         "type": "scatter",
         "x": [
          9.116666666666667,
          9.766666666666667
         ],
         "y": [
          81,
          81
         ]
        },
        {
         "hovertemplate": "2024-01-04 - 10:28:00 - 11:57:00",
         "line": {
          "color": "red",
          "width": 7
         },
         "mode": "lines",
         "showlegend": false,
         "type": "scatter",
         "x": [
          10.466666666666667,
          11.95
         ],
         "y": [
          81,
          81
         ]
        },
        {
         "hovertemplate": "2024-01-04 - 12:32:00 - 13:34:00",
         "line": {
          "color": "red",
          "width": 7
         },
         "mode": "lines",
         "showlegend": false,
         "type": "scatter",
         "x": [
          12.533333333333333,
          13.566666666666666
         ],
         "y": [
          81,
          81
         ]
        },
        {
         "hovertemplate": "2024-01-05 - 00:02:00 - 06:41:00",
         "line": {
          "color": "blue",
          "width": 7
         },
         "mode": "lines",
         "showlegend": false,
         "type": "scatter",
         "x": [
          0.03333333333333333,
          6.683333333333334
         ],
         "y": [
          82,
          82
         ]
        },
        {
         "hovertemplate": "2024-01-06 - 00:43:00 - 10:48:00",
         "line": {
          "color": "blue",
          "width": 7
         },
         "mode": "lines",
         "showlegend": false,
         "type": "scatter",
         "x": [
          0.7166666666666667,
          10.8
         ],
         "y": [
          83,
          83
         ]
        },
        {
         "hovertemplate": "2024-01-06 - 09:07:00 - 10:06:00",
         "line": {
          "color": "red",
          "width": 7
         },
         "mode": "lines",
         "showlegend": false,
         "type": "scatter",
         "x": [
          9.116666666666667,
          10.1
         ],
         "y": [
          83,
          83
         ]
        },
        {
         "hovertemplate": "2024-01-06 - 22:29:00 - 24:00:00",
         "line": {
          "color": "blue",
          "width": 7
         },
         "mode": "lines",
         "showlegend": false,
         "type": "scatter",
         "x": [
          22.483333333333334,
          24
         ],
         "y": [
          83,
          83
         ]
        },
        {
         "hovertemplate": "2024-01-07 - 00:00:00 - 10:20:00",
         "line": {
          "color": "blue",
          "width": 7
         },
         "mode": "lines",
         "showlegend": false,
         "type": "scatter",
         "x": [
          0,
          10.333333333333334
         ],
         "y": [
          84,
          84
         ]
        },
        {
         "hovertemplate": "2024-01-07 - 13:39:00 - 14:20:00",
         "line": {
          "color": "blue",
          "width": 7
         },
         "mode": "lines",
         "showlegend": false,
         "type": "scatter",
         "x": [
          13.65,
          14.333333333333334
         ],
         "y": [
          84,
          84
         ]
        },
        {
         "hovertemplate": "2024-01-06 - 22:57:00 - 23:29:00",
         "line": {
          "color": "red",
          "width": 7
         },
         "mode": "lines",
         "showlegend": false,
         "type": "scatter",
         "x": [
          22.95,
          23.483333333333334
         ],
         "y": [
          83,
          83
         ]
        },
        {
         "hovertemplate": "2024-01-07 - 23:01:00 - 24:00:00",
         "line": {
          "color": "blue",
          "width": 7
         },
         "mode": "lines",
         "showlegend": false,
         "type": "scatter",
         "x": [
          23.016666666666666,
          24
         ],
         "y": [
          84,
          84
         ]
        },
        {
         "hovertemplate": "2024-01-08 - 00:00:00 - 09:41:00",
         "line": {
          "color": "blue",
          "width": 7
         },
         "mode": "lines",
         "showlegend": false,
         "type": "scatter",
         "x": [
          0,
          9.683333333333334
         ],
         "y": [
          85,
          85
         ]
        },
        {
         "hovertemplate": "2024-01-08 - 17:16:00 - 24:00:00",
         "line": {
          "color": "blue",
          "width": 7
         },
         "mode": "lines",
         "showlegend": false,
         "type": "scatter",
         "x": [
          17.266666666666666,
          24
         ],
         "y": [
          85,
          85
         ]
        },
        {
         "hovertemplate": "2024-01-09 - 00:00:00 - 12:05:00",
         "line": {
          "color": "blue",
          "width": 7
         },
         "mode": "lines",
         "showlegend": false,
         "type": "scatter",
         "x": [
          0,
          12.083333333333334
         ],
         "y": [
          86,
          86
         ]
        },
        {
         "hovertemplate": "2024-01-08 - 19:06:00 - 19:43:00",
         "line": {
          "color": "red",
          "width": 7
         },
         "mode": "lines",
         "showlegend": false,
         "type": "scatter",
         "x": [
          19.1,
          19.716666666666665
         ],
         "y": [
          85,
          85
         ]
        },
        {
         "hovertemplate": "2024-01-08 - 20:36:00 - 21:50:00",
         "line": {
          "color": "red",
          "width": 7
         },
         "mode": "lines",
         "showlegend": false,
         "type": "scatter",
         "x": [
          20.6,
          21.833333333333332
         ],
         "y": [
          85,
          85
         ]
        },
        {
         "hovertemplate": "2024-01-09 - 06:29:00 - 06:35:00",
         "line": {
          "color": "red",
          "width": 7
         },
         "mode": "lines",
         "showlegend": false,
         "type": "scatter",
         "x": [
          6.483333333333333,
          6.583333333333333
         ],
         "y": [
          86,
          86
         ]
        },
        {
         "hovertemplate": "2024-01-09 - 21:12:00 - 24:00:00",
         "line": {
          "color": "blue",
          "width": 7
         },
         "mode": "lines",
         "showlegend": false,
         "type": "scatter",
         "x": [
          21.2,
          24
         ],
         "y": [
          86,
          86
         ]
        },
        {
         "hovertemplate": "2024-01-10 - 00:00:00 - 09:56:00",
         "line": {
          "color": "blue",
          "width": 7
         },
         "mode": "lines",
         "showlegend": false,
         "type": "scatter",
         "x": [
          0,
          9.933333333333334
         ],
         "y": [
          87,
          87
         ]
        },
        {
         "hovertemplate": "2024-01-09 - 21:44:00 - 23:41:00",
         "line": {
          "color": "red",
          "width": 7
         },
         "mode": "lines",
         "showlegend": false,
         "type": "scatter",
         "x": [
          21.733333333333334,
          23.683333333333334
         ],
         "y": [
          86,
          86
         ]
        },
        {
         "hovertemplate": "2024-01-10 - 08:12:00 - 09:17:00",
         "line": {
          "color": "red",
          "width": 7
         },
         "mode": "lines",
         "showlegend": false,
         "type": "scatter",
         "x": [
          8.2,
          9.283333333333333
         ],
         "y": [
          87,
          87
         ]
        },
        {
         "hovertemplate": "2024-01-11 - 00:31:00 - 08:20:00",
         "line": {
          "color": "blue",
          "width": 7
         },
         "mode": "lines",
         "showlegend": false,
         "type": "scatter",
         "x": [
          0.5166666666666667,
          8.333333333333334
         ],
         "y": [
          88,
          88
         ]
        },
        {
         "hovertemplate": "2024-01-11 - 17:24:00 - 18:55:00",
         "line": {
          "color": "blue",
          "width": 7
         },
         "mode": "lines",
         "showlegend": false,
         "type": "scatter",
         "x": [
          17.4,
          18.916666666666668
         ],
         "y": [
          88,
          88
         ]
        },
        {
         "hovertemplate": "2024-01-12 - 00:11:00 - 08:26:00",
         "line": {
          "color": "blue",
          "width": 7
         },
         "mode": "lines",
         "showlegend": false,
         "type": "scatter",
         "x": [
          0.18333333333333332,
          8.433333333333334
         ],
         "y": [
          89,
          89
         ]
        },
        {
         "hovertemplate": "2024-01-12 - 13:16:00 - 14:25:00",
         "line": {
          "color": "blue",
          "width": 7
         },
         "mode": "lines",
         "showlegend": false,
         "type": "scatter",
         "x": [
          13.266666666666667,
          14.416666666666666
         ],
         "y": [
          89,
          89
         ]
        },
        {
         "hovertemplate": "2024-01-12 - 19:07:00 - 19:43:00",
         "line": {
          "color": "blue",
          "width": 7
         },
         "mode": "lines",
         "showlegend": false,
         "type": "scatter",
         "x": [
          19.116666666666667,
          19.716666666666665
         ],
         "y": [
          89,
          89
         ]
        },
        {
         "hovertemplate": "2024-01-12 - 23:49:00 - 24:00:00",
         "line": {
          "color": "blue",
          "width": 7
         },
         "mode": "lines",
         "showlegend": false,
         "type": "scatter",
         "x": [
          23.816666666666666,
          24
         ],
         "y": [
          89,
          89
         ]
        },
        {
         "hovertemplate": "2024-01-13 - 00:00:00 - 08:40:00",
         "line": {
          "color": "blue",
          "width": 7
         },
         "mode": "lines",
         "showlegend": false,
         "type": "scatter",
         "x": [
          0,
          8.666666666666666
         ],
         "y": [
          90,
          90
         ]
        },
        {
         "hovertemplate": "2024-01-13 - 18:05:00 - 18:42:00",
         "line": {
          "color": "blue",
          "width": 7
         },
         "mode": "lines",
         "showlegend": false,
         "type": "scatter",
         "x": [
          18.083333333333332,
          18.7
         ],
         "y": [
          90,
          90
         ]
        },
        {
         "hovertemplate": "2024-01-14 - 00:05:00 - 08:56:00",
         "line": {
          "color": "blue",
          "width": 7
         },
         "mode": "lines",
         "showlegend": false,
         "type": "scatter",
         "x": [
          0.08333333333333333,
          8.933333333333334
         ],
         "y": [
          91,
          91
         ]
        },
        {
         "hovertemplate": "2024-01-14 - 22:35:00 - 24:00:00",
         "line": {
          "color": "blue",
          "width": 7
         },
         "mode": "lines",
         "showlegend": false,
         "type": "scatter",
         "x": [
          22.583333333333332,
          24
         ],
         "y": [
          91,
          91
         ]
        },
        {
         "hovertemplate": "2024-01-15 - 00:00:00 - 08:51:00",
         "line": {
          "color": "blue",
          "width": 7
         },
         "mode": "lines",
         "showlegend": false,
         "type": "scatter",
         "x": [
          0,
          8.85
         ],
         "y": [
          92,
          92
         ]
        },
        {
         "hovertemplate": "2024-01-15 - 14:45:00 - 16:15:00",
         "line": {
          "color": "blue",
          "width": 7
         },
         "mode": "lines",
         "showlegend": false,
         "type": "scatter",
         "x": [
          14.75,
          16.25
         ],
         "y": [
          92,
          92
         ]
        },
        {
         "hovertemplate": "2024-01-16 - 00:41:00 - 09:25:00",
         "line": {
          "color": "blue",
          "width": 7
         },
         "mode": "lines",
         "showlegend": false,
         "type": "scatter",
         "x": [
          0.6833333333333333,
          9.416666666666666
         ],
         "y": [
          93,
          93
         ]
        },
        {
         "hovertemplate": "2024-01-16 - 15:05:00 - 16:31:00",
         "line": {
          "color": "blue",
          "width": 7
         },
         "mode": "lines",
         "showlegend": false,
         "type": "scatter",
         "x": [
          15.083333333333334,
          16.516666666666666
         ],
         "y": [
          93,
          93
         ]
        },
        {
         "hovertemplate": "2024-01-17 - 00:15:00 - 09:40:00",
         "line": {
          "color": "blue",
          "width": 7
         },
         "mode": "lines",
         "showlegend": false,
         "type": "scatter",
         "x": [
          0.25,
          9.666666666666666
         ],
         "y": [
          94,
          94
         ]
        },
        {
         "hovertemplate": "2024-01-17 - 14:53:00 - 15:23:00",
         "line": {
          "color": "blue",
          "width": 7
         },
         "mode": "lines",
         "showlegend": false,
         "type": "scatter",
         "x": [
          14.883333333333333,
          15.383333333333333
         ],
         "y": [
          94,
          94
         ]
        },
        {
         "hovertemplate": "2024-01-18 - 00:29:00 - 12:58:00",
         "line": {
          "color": "blue",
          "width": 7
         },
         "mode": "lines",
         "showlegend": false,
         "type": "scatter",
         "x": [
          0.48333333333333334,
          12.966666666666667
         ],
         "y": [
          95,
          95
         ]
        },
        {
         "hovertemplate": "2024-01-18 - 15:28:00 - 16:20:00",
         "line": {
          "color": "blue",
          "width": 7
         },
         "mode": "lines",
         "showlegend": false,
         "type": "scatter",
         "x": [
          15.466666666666667,
          16.333333333333332
         ],
         "y": [
          95,
          95
         ]
        },
        {
         "hovertemplate": "2024-01-18 - 02:54:00 - 03:00:00",
         "line": {
          "color": "red",
          "width": 7
         },
         "mode": "lines",
         "showlegend": false,
         "type": "scatter",
         "x": [
          2.9,
          3
         ],
         "y": [
          95,
          95
         ]
        },
        {
         "hovertemplate": "2024-01-18 - 09:20:00 - 10:18:00",
         "line": {
          "color": "red",
          "width": 7
         },
         "mode": "lines",
         "showlegend": false,
         "type": "scatter",
         "x": [
          9.333333333333334,
          10.3
         ],
         "y": [
          95,
          95
         ]
        },
        {
         "hovertemplate": "2024-01-19 - 00:19:00 - 08:43:00",
         "line": {
          "color": "blue",
          "width": 7
         },
         "mode": "lines",
         "showlegend": false,
         "type": "scatter",
         "x": [
          0.31666666666666665,
          8.716666666666667
         ],
         "y": [
          96,
          96
         ]
        },
        {
         "hovertemplate": "2024-01-19 - 15:51:00 - 18:45:00",
         "line": {
          "color": "blue",
          "width": 7
         },
         "mode": "lines",
         "showlegend": false,
         "type": "scatter",
         "x": [
          15.85,
          18.75
         ],
         "y": [
          96,
          96
         ]
        },
        {
         "hovertemplate": "2024-01-19 - 17:11:00 - 18:17:00",
         "line": {
          "color": "red",
          "width": 7
         },
         "mode": "lines",
         "showlegend": false,
         "type": "scatter",
         "x": [
          17.183333333333334,
          18.283333333333335
         ],
         "y": [
          96,
          96
         ]
        },
        {
         "hovertemplate": "2024-01-19 - 23:40:00 - 24:00:00",
         "line": {
          "color": "blue",
          "width": 7
         },
         "mode": "lines",
         "showlegend": false,
         "type": "scatter",
         "x": [
          23.666666666666668,
          24
         ],
         "y": [
          96,
          96
         ]
        },
        {
         "hovertemplate": "2024-01-20 - 00:00:00 - 10:37:00",
         "line": {
          "color": "blue",
          "width": 7
         },
         "mode": "lines",
         "showlegend": false,
         "type": "scatter",
         "x": [
          0,
          10.616666666666667
         ],
         "y": [
          97,
          97
         ]
        },
        {
         "hovertemplate": "2024-01-20 - 15:50:00 - 19:07:00",
         "line": {
          "color": "blue",
          "width": 7
         },
         "mode": "lines",
         "showlegend": false,
         "type": "scatter",
         "x": [
          15.833333333333334,
          19.116666666666667
         ],
         "y": [
          97,
          97
         ]
        },
        {
         "hovertemplate": "2024-01-20 - 08:15:00 - 09:21:00",
         "line": {
          "color": "red",
          "width": 7
         },
         "mode": "lines",
         "showlegend": false,
         "type": "scatter",
         "x": [
          8.25,
          9.35
         ],
         "y": [
          97,
          97
         ]
        },
        {
         "hovertemplate": "2024-01-20 - 16:36:00 - 17:16:00",
         "line": {
          "color": "red",
          "width": 7
         },
         "mode": "lines",
         "showlegend": false,
         "type": "scatter",
         "x": [
          16.6,
          17.266666666666666
         ],
         "y": [
          97,
          97
         ]
        },
        {
         "hovertemplate": "2024-01-21 - 00:31:00 - 09:40:00",
         "line": {
          "color": "blue",
          "width": 7
         },
         "mode": "lines",
         "showlegend": false,
         "type": "scatter",
         "x": [
          0.5166666666666667,
          9.666666666666666
         ],
         "y": [
          98,
          98
         ]
        },
        {
         "hovertemplate": "2024-01-22 - 00:26:00 - 08:07:00",
         "line": {
          "color": "blue",
          "width": 7
         },
         "mode": "lines",
         "showlegend": false,
         "type": "scatter",
         "x": [
          0.43333333333333335,
          8.116666666666667
         ],
         "y": [
          99,
          99
         ]
        },
        {
         "hovertemplate": "2024-01-22 - 21:44:00 - 24:00:00",
         "line": {
          "color": "blue",
          "width": 7
         },
         "mode": "lines",
         "showlegend": false,
         "type": "scatter",
         "x": [
          21.733333333333334,
          24
         ],
         "y": [
          99,
          99
         ]
        },
        {
         "hovertemplate": "2024-01-23 - 00:00:00 - 08:10:00",
         "line": {
          "color": "blue",
          "width": 7
         },
         "mode": "lines",
         "showlegend": false,
         "type": "scatter",
         "x": [
          0,
          8.166666666666666
         ],
         "y": [
          100,
          100
         ]
        },
        {
         "hovertemplate": "2024-01-23 - 07:24:00 - 07:31:00",
         "line": {
          "color": "red",
          "width": 7
         },
         "mode": "lines",
         "showlegend": false,
         "type": "scatter",
         "x": [
          7.4,
          7.516666666666667
         ],
         "y": [
          100,
          100
         ]
        },
        {
         "hovertemplate": "2024-01-23 - 23:51:00 - 24:00:00",
         "line": {
          "color": "blue",
          "width": 7
         },
         "mode": "lines",
         "showlegend": false,
         "type": "scatter",
         "x": [
          23.85,
          24
         ],
         "y": [
          100,
          100
         ]
        },
        {
         "hovertemplate": "2024-01-24 - 00:00:00 - 08:05:00",
         "line": {
          "color": "blue",
          "width": 7
         },
         "mode": "lines",
         "showlegend": false,
         "type": "scatter",
         "x": [
          0,
          8.083333333333334
         ],
         "y": [
          101,
          101
         ]
        },
        {
         "hovertemplate": "2024-01-24 - 21:31:00 - 24:00:00",
         "line": {
          "color": "blue",
          "width": 7
         },
         "mode": "lines",
         "showlegend": false,
         "type": "scatter",
         "x": [
          21.516666666666666,
          24
         ],
         "y": [
          101,
          101
         ]
        },
        {
         "hovertemplate": "2024-01-25 - 00:00:00 - 09:25:00",
         "line": {
          "color": "blue",
          "width": 7
         },
         "mode": "lines",
         "showlegend": false,
         "type": "scatter",
         "x": [
          0,
          9.416666666666666
         ],
         "y": [
          102,
          102
         ]
        },
        {
         "hovertemplate": "2024-01-25 - 16:17:00 - 18:22:00",
         "line": {
          "color": "blue",
          "width": 7
         },
         "mode": "lines",
         "showlegend": false,
         "type": "scatter",
         "x": [
          16.283333333333335,
          18.366666666666667
         ],
         "y": [
          102,
          102
         ]
        },
        {
         "hovertemplate": "2024-01-24 - 22:06:00 - 23:53:00",
         "line": {
          "color": "red",
          "width": 7
         },
         "mode": "lines",
         "showlegend": false,
         "type": "scatter",
         "x": [
          22.1,
          23.883333333333333
         ],
         "y": [
          101,
          101
         ]
        },
        {
         "hovertemplate": "2024-01-26 - 00:48:00 - 08:26:00",
         "line": {
          "color": "blue",
          "width": 7
         },
         "mode": "lines",
         "showlegend": false,
         "type": "scatter",
         "x": [
          0.8,
          8.433333333333334
         ],
         "y": [
          103,
          103
         ]
        },
        {
         "hovertemplate": "2024-01-26 - 15:35:00 - 16:23:00",
         "line": {
          "color": "blue",
          "width": 7
         },
         "mode": "lines",
         "showlegend": false,
         "type": "scatter",
         "x": [
          15.583333333333334,
          16.383333333333333
         ],
         "y": [
          103,
          103
         ]
        },
        {
         "hovertemplate": "2024-01-26 - 23:31:00 - 24:00:00",
         "line": {
          "color": "blue",
          "width": 7
         },
         "mode": "lines",
         "showlegend": false,
         "type": "scatter",
         "x": [
          23.516666666666666,
          24
         ],
         "y": [
          103,
          103
         ]
        },
        {
         "hovertemplate": "2024-01-27 - 00:00:00 - 07:25:00",
         "line": {
          "color": "blue",
          "width": 7
         },
         "mode": "lines",
         "showlegend": false,
         "type": "scatter",
         "x": [
          0,
          7.416666666666667
         ],
         "y": [
          104,
          104
         ]
        },
        {
         "hovertemplate": "2024-01-27 - 15:08:00 - 19:10:00",
         "line": {
          "color": "blue",
          "width": 7
         },
         "mode": "lines",
         "showlegend": false,
         "type": "scatter",
         "x": [
          15.133333333333333,
          19.166666666666668
         ],
         "y": [
          104,
          104
         ]
        },
        {
         "hovertemplate": "2024-01-27 - 16:27:00 - 18:04:00",
         "line": {
          "color": "red",
          "width": 7
         },
         "mode": "lines",
         "showlegend": false,
         "type": "scatter",
         "x": [
          16.45,
          18.066666666666666
         ],
         "y": [
          104,
          104
         ]
        },
        {
         "hovertemplate": "2024-01-28 - 00:37:00 - 07:26:00",
         "line": {
          "color": "blue",
          "width": 7
         },
         "mode": "lines",
         "showlegend": false,
         "type": "scatter",
         "x": [
          0.6166666666666667,
          7.433333333333334
         ],
         "y": [
          105,
          105
         ]
        },
        {
         "hovertemplate": "2024-01-29 - 00:15:00 - 08:23:00",
         "line": {
          "color": "blue",
          "width": 7
         },
         "mode": "lines",
         "showlegend": false,
         "type": "scatter",
         "x": [
          0.25,
          8.383333333333333
         ],
         "y": [
          106,
          106
         ]
        },
        {
         "hovertemplate": "2024-01-29 - 14:22:00 - 15:30:00",
         "line": {
          "color": "blue",
          "width": 7
         },
         "mode": "lines",
         "showlegend": false,
         "type": "scatter",
         "x": [
          14.366666666666667,
          15.5
         ],
         "y": [
          106,
          106
         ]
        },
        {
         "hovertemplate": "2024-01-29 - 07:29:00 - 08:02:00",
         "line": {
          "color": "red",
          "width": 7
         },
         "mode": "lines",
         "showlegend": false,
         "type": "scatter",
         "x": [
          7.483333333333333,
          8.033333333333333
         ],
         "y": [
          106,
          106
         ]
        },
        {
         "hovertemplate": "2024-01-29 - 23:53:00 - 24:00:00",
         "line": {
          "color": "blue",
          "width": 7
         },
         "mode": "lines",
         "showlegend": false,
         "type": "scatter",
         "x": [
          23.883333333333333,
          24
         ],
         "y": [
          106,
          106
         ]
        },
        {
         "hovertemplate": "2024-01-30 - 00:00:00 - 08:59:00",
         "line": {
          "color": "blue",
          "width": 7
         },
         "mode": "lines",
         "showlegend": false,
         "type": "scatter",
         "x": [
          0,
          8.983333333333333
         ],
         "y": [
          107,
          107
         ]
        },
        {
         "hovertemplate": "2024-01-30 - 07:29:00 - 08:07:00",
         "line": {
          "color": "red",
          "width": 7
         },
         "mode": "lines",
         "showlegend": false,
         "type": "scatter",
         "x": [
          7.483333333333333,
          8.116666666666667
         ],
         "y": [
          107,
          107
         ]
        },
        {
         "hovertemplate": "2024-01-31 - 01:19:00 - 08:26:00",
         "line": {
          "color": "blue",
          "width": 7
         },
         "mode": "lines",
         "showlegend": false,
         "type": "scatter",
         "x": [
          1.3166666666666667,
          8.433333333333334
         ],
         "y": [
          108,
          108
         ]
        },
        {
         "hovertemplate": "2024-01-31 - 14:04:00 - 15:13:00",
         "line": {
          "color": "blue",
          "width": 7
         },
         "mode": "lines",
         "showlegend": false,
         "type": "scatter",
         "x": [
          14.066666666666666,
          15.216666666666667
         ],
         "y": [
          108,
          108
         ]
        },
        {
         "hovertemplate": "2024-01-31 - 07:19:00 - 07:27:00",
         "line": {
          "color": "red",
          "width": 7
         },
         "mode": "lines",
         "showlegend": false,
         "type": "scatter",
         "x": [
          7.316666666666666,
          7.45
         ],
         "y": [
          108,
          108
         ]
        },
        {
         "hovertemplate": "2024-01-31 - 23:56:00 - 24:00:00",
         "line": {
          "color": "blue",
          "width": 7
         },
         "mode": "lines",
         "showlegend": false,
         "type": "scatter",
         "x": [
          23.933333333333334,
          24
         ],
         "y": [
          108,
          108
         ]
        },
        {
         "hovertemplate": "2024-02-01 - 00:00:00 - 08:14:00",
         "line": {
          "color": "blue",
          "width": 7
         },
         "mode": "lines",
         "showlegend": false,
         "type": "scatter",
         "x": [
          0,
          8.233333333333333
         ],
         "y": [
          109,
          109
         ]
        },
        {
         "hovertemplate": "2024-02-01 - 14:00:00 - 14:44:00",
         "line": {
          "color": "blue",
          "width": 7
         },
         "mode": "lines",
         "showlegend": false,
         "type": "scatter",
         "x": [
          14,
          14.733333333333333
         ],
         "y": [
          109,
          109
         ]
        },
        {
         "hovertemplate": "2024-02-01 - 23:55:00 - 24:00:00",
         "line": {
          "color": "blue",
          "width": 7
         },
         "mode": "lines",
         "showlegend": false,
         "type": "scatter",
         "x": [
          23.916666666666668,
          24
         ],
         "y": [
          109,
          109
         ]
        },
        {
         "hovertemplate": "2024-02-02 - 00:00:00 - 09:06:00",
         "line": {
          "color": "blue",
          "width": 7
         },
         "mode": "lines",
         "showlegend": false,
         "type": "scatter",
         "x": [
          0,
          9.1
         ],
         "y": [
          110,
          110
         ]
        },
        {
         "hovertemplate": "2024-02-02 - 14:01:00 - 14:49:00",
         "line": {
          "color": "blue",
          "width": 7
         },
         "mode": "lines",
         "showlegend": false,
         "type": "scatter",
         "x": [
          14.016666666666667,
          14.816666666666666
         ],
         "y": [
          110,
          110
         ]
        },
        {
         "hovertemplate": "2024-02-02 - 16:55:00 - 17:38:00",
         "line": {
          "color": "blue",
          "width": 7
         },
         "mode": "lines",
         "showlegend": false,
         "type": "scatter",
         "x": [
          16.916666666666668,
          17.633333333333333
         ],
         "y": [
          110,
          110
         ]
        },
        {
         "hovertemplate": "2024-02-02 - 08:01:00 - 08:14:00",
         "line": {
          "color": "red",
          "width": 7
         },
         "mode": "lines",
         "showlegend": false,
         "type": "scatter",
         "x": [
          8.016666666666667,
          8.233333333333333
         ],
         "y": [
          110,
          110
         ]
        },
        {
         "hovertemplate": "2024-02-03 - 01:00:00 - 10:15:00",
         "line": {
          "color": "blue",
          "width": 7
         },
         "mode": "lines",
         "showlegend": false,
         "type": "scatter",
         "x": [
          1,
          10.25
         ],
         "y": [
          111,
          111
         ]
        },
        {
         "hovertemplate": "2024-02-03 - 18:43:00 - 19:28:00",
         "line": {
          "color": "blue",
          "width": 7
         },
         "mode": "lines",
         "showlegend": false,
         "type": "scatter",
         "x": [
          18.716666666666665,
          19.466666666666665
         ],
         "y": [
          111,
          111
         ]
        },
        {
         "hovertemplate": "2024-02-03 - 23:56:00 - 24:00:00",
         "line": {
          "color": "blue",
          "width": 7
         },
         "mode": "lines",
         "showlegend": false,
         "type": "scatter",
         "x": [
          23.933333333333334,
          24
         ],
         "y": [
          111,
          111
         ]
        },
        {
         "hovertemplate": "2024-02-04 - 00:00:00 - 09:37:00",
         "line": {
          "color": "blue",
          "width": 7
         },
         "mode": "lines",
         "showlegend": false,
         "type": "scatter",
         "x": [
          0,
          9.616666666666667
         ],
         "y": [
          112,
          112
         ]
        },
        {
         "hovertemplate": "2024-02-04 - 15:26:00 - 16:21:00",
         "line": {
          "color": "blue",
          "width": 7
         },
         "mode": "lines",
         "showlegend": false,
         "type": "scatter",
         "x": [
          15.433333333333334,
          16.35
         ],
         "y": [
          112,
          112
         ]
        },
        {
         "hovertemplate": "2024-02-05 - 00:34:00 - 09:06:00",
         "line": {
          "color": "blue",
          "width": 7
         },
         "mode": "lines",
         "showlegend": false,
         "type": "scatter",
         "x": [
          0.5666666666666667,
          9.1
         ],
         "y": [
          113,
          113
         ]
        },
        {
         "hovertemplate": "2024-02-05 - 13:57:00 - 14:54:00",
         "line": {
          "color": "blue",
          "width": 7
         },
         "mode": "lines",
         "showlegend": false,
         "type": "scatter",
         "x": [
          13.95,
          14.9
         ],
         "y": [
          113,
          113
         ]
        },
        {
         "hovertemplate": "2024-02-06 - 00:22:00 - 08:40:00",
         "line": {
          "color": "blue",
          "width": 7
         },
         "mode": "lines",
         "showlegend": false,
         "type": "scatter",
         "x": [
          0.36666666666666664,
          8.666666666666666
         ],
         "y": [
          114,
          114
         ]
        },
        {
         "hovertemplate": "2024-02-06 - 13:44:00 - 17:27:00",
         "line": {
          "color": "blue",
          "width": 7
         },
         "mode": "lines",
         "showlegend": false,
         "type": "scatter",
         "x": [
          13.733333333333333,
          17.45
         ],
         "y": [
          114,
          114
         ]
        },
        {
         "hovertemplate": "2024-02-06 - 15:48:00 - 16:46:00",
         "line": {
          "color": "red",
          "width": 7
         },
         "mode": "lines",
         "showlegend": false,
         "type": "scatter",
         "x": [
          15.8,
          16.766666666666666
         ],
         "y": [
          114,
          114
         ]
        },
        {
         "hovertemplate": "2024-02-07 - 00:51:00 - 08:22:00",
         "line": {
          "color": "blue",
          "width": 7
         },
         "mode": "lines",
         "showlegend": false,
         "type": "scatter",
         "x": [
          0.85,
          8.366666666666667
         ],
         "y": [
          115,
          115
         ]
        },
        {
         "hovertemplate": "2024-02-08 - 01:33:00 - 08:01:00",
         "line": {
          "color": "blue",
          "width": 7
         },
         "mode": "lines",
         "showlegend": false,
         "type": "scatter",
         "x": [
          1.55,
          8.016666666666667
         ],
         "y": [
          116,
          116
         ]
        },
        {
         "hovertemplate": "2024-02-08 - 14:12:00 - 15:27:00",
         "line": {
          "color": "blue",
          "width": 7
         },
         "mode": "lines",
         "showlegend": false,
         "type": "scatter",
         "x": [
          14.2,
          15.45
         ],
         "y": [
          116,
          116
         ]
        },
        {
         "hovertemplate": "2024-02-08 - 06:58:00 - 07:04:00",
         "line": {
          "color": "red",
          "width": 7
         },
         "mode": "lines",
         "showlegend": false,
         "type": "scatter",
         "x": [
          6.966666666666667,
          7.066666666666666
         ],
         "y": [
          116,
          116
         ]
        },
        {
         "hovertemplate": "2024-02-09 - 01:52:00 - 09:03:00",
         "line": {
          "color": "blue",
          "width": 7
         },
         "mode": "lines",
         "showlegend": false,
         "type": "scatter",
         "x": [
          1.8666666666666667,
          9.05
         ],
         "y": [
          117,
          117
         ]
        },
        {
         "hovertemplate": "2024-02-09 - 15:13:00 - 16:28:00",
         "line": {
          "color": "blue",
          "width": 7
         },
         "mode": "lines",
         "showlegend": false,
         "type": "scatter",
         "x": [
          15.216666666666667,
          16.466666666666665
         ],
         "y": [
          117,
          117
         ]
        },
        {
         "hovertemplate": "2024-02-09 - 08:20:00 - 08:26:00",
         "line": {
          "color": "red",
          "width": 7
         },
         "mode": "lines",
         "showlegend": false,
         "type": "scatter",
         "x": [
          8.333333333333334,
          8.433333333333334
         ],
         "y": [
          117,
          117
         ]
        },
        {
         "hovertemplate": "2024-02-10 - 02:05:00 - 10:30:00",
         "line": {
          "color": "blue",
          "width": 7
         },
         "mode": "lines",
         "showlegend": false,
         "type": "scatter",
         "x": [
          2.0833333333333335,
          10.5
         ],
         "y": [
          118,
          118
         ]
        },
        {
         "hovertemplate": "2024-02-10 - 16:30:00 - 17:47:00",
         "line": {
          "color": "blue",
          "width": 7
         },
         "mode": "lines",
         "showlegend": false,
         "type": "scatter",
         "x": [
          16.5,
          17.783333333333335
         ],
         "y": [
          118,
          118
         ]
        },
        {
         "hovertemplate": "2024-02-10 - 08:57:00 - 09:40:00",
         "line": {
          "color": "red",
          "width": 7
         },
         "mode": "lines",
         "showlegend": false,
         "type": "scatter",
         "x": [
          8.95,
          9.666666666666666
         ],
         "y": [
          118,
          118
         ]
        },
        {
         "hovertemplate": "2024-02-11 - 01:23:00 - 08:04:00",
         "line": {
          "color": "blue",
          "width": 7
         },
         "mode": "lines",
         "showlegend": false,
         "type": "scatter",
         "x": [
          1.3833333333333333,
          8.066666666666666
         ],
         "y": [
          119,
          119
         ]
        },
        {
         "hovertemplate": "2024-02-11 - 18:30:00 - 19:42:00",
         "line": {
          "color": "blue",
          "width": 7
         },
         "mode": "lines",
         "showlegend": false,
         "type": "scatter",
         "x": [
          18.5,
          19.7
         ],
         "y": [
          119,
          119
         ]
        },
        {
         "hovertemplate": "2024-02-11 - 01:47:00 - 02:01:00",
         "line": {
          "color": "red",
          "width": 7
         },
         "mode": "lines",
         "showlegend": false,
         "type": "scatter",
         "x": [
          1.7833333333333332,
          2.0166666666666666
         ],
         "y": [
          119,
          119
         ]
        },
        {
         "hovertemplate": "2024-02-11 - 22:54:00 - 24:00:00",
         "line": {
          "color": "blue",
          "width": 7
         },
         "mode": "lines",
         "showlegend": false,
         "type": "scatter",
         "x": [
          22.9,
          24
         ],
         "y": [
          119,
          119
         ]
        },
        {
         "hovertemplate": "2024-02-12 - 00:00:00 - 07:09:00",
         "line": {
          "color": "blue",
          "width": 7
         },
         "mode": "lines",
         "showlegend": false,
         "type": "scatter",
         "x": [
          0,
          7.15
         ],
         "y": [
          120,
          120
         ]
        },
        {
         "hovertemplate": "2024-02-12 - 13:19:00 - 14:12:00",
         "line": {
          "color": "blue",
          "width": 7
         },
         "mode": "lines",
         "showlegend": false,
         "type": "scatter",
         "x": [
          13.316666666666666,
          14.2
         ],
         "y": [
          120,
          120
         ]
        },
        {
         "hovertemplate": "2024-02-12 - 03:20:00 - 03:27:00",
         "line": {
          "color": "red",
          "width": 7
         },
         "mode": "lines",
         "showlegend": false,
         "type": "scatter",
         "x": [
          3.3333333333333335,
          3.45
         ],
         "y": [
          120,
          120
         ]
        },
        {
         "hovertemplate": "2024-02-12 - 23:30:00 - 24:00:00",
         "line": {
          "color": "blue",
          "width": 7
         },
         "mode": "lines",
         "showlegend": false,
         "type": "scatter",
         "x": [
          23.5,
          24
         ],
         "y": [
          120,
          120
         ]
        },
        {
         "hovertemplate": "2024-02-13 - 00:00:00 - 08:13:00",
         "line": {
          "color": "blue",
          "width": 7
         },
         "mode": "lines",
         "showlegend": false,
         "type": "scatter",
         "x": [
          0,
          8.216666666666667
         ],
         "y": [
          121,
          121
         ]
        },
        {
         "hovertemplate": "2024-02-13 - 10:21:00 - 10:35:00",
         "line": {
          "color": "blue",
          "width": 7
         },
         "mode": "lines",
         "showlegend": false,
         "type": "scatter",
         "x": [
          10.35,
          10.583333333333334
         ],
         "y": [
          121,
          121
         ]
        },
        {
         "hovertemplate": "2024-02-13 - 22:10:00 - 24:00:00",
         "line": {
          "color": "blue",
          "width": 7
         },
         "mode": "lines",
         "showlegend": false,
         "type": "scatter",
         "x": [
          22.166666666666668,
          24
         ],
         "y": [
          121,
          121
         ]
        },
        {
         "hovertemplate": "2024-02-14 - 00:00:00 - 08:33:00",
         "line": {
          "color": "blue",
          "width": 7
         },
         "mode": "lines",
         "showlegend": false,
         "type": "scatter",
         "x": [
          0,
          8.55
         ],
         "y": [
          122,
          122
         ]
        },
        {
         "hovertemplate": "2024-02-14 - 22:09:00 - 24:00:00",
         "line": {
          "color": "blue",
          "width": 7
         },
         "mode": "lines",
         "showlegend": false,
         "type": "scatter",
         "x": [
          22.15,
          24
         ],
         "y": [
          122,
          122
         ]
        },
        {
         "hovertemplate": "2024-02-15 - 00:00:00 - 08:41:00",
         "line": {
          "color": "blue",
          "width": 7
         },
         "mode": "lines",
         "showlegend": false,
         "type": "scatter",
         "x": [
          0,
          8.683333333333334
         ],
         "y": [
          123,
          123
         ]
        },
        {
         "hovertemplate": "2024-02-15 - 13:16:00 - 14:21:00",
         "line": {
          "color": "blue",
          "width": 7
         },
         "mode": "lines",
         "showlegend": false,
         "type": "scatter",
         "x": [
          13.266666666666667,
          14.35
         ],
         "y": [
          123,
          123
         ]
        },
        {
         "hovertemplate": "2024-02-16 - 00:29:00 - 08:17:00",
         "line": {
          "color": "blue",
          "width": 7
         },
         "mode": "lines",
         "showlegend": false,
         "type": "scatter",
         "x": [
          0.48333333333333334,
          8.283333333333333
         ],
         "y": [
          124,
          124
         ]
        },
        {
         "hovertemplate": "2024-02-16 - 21:32:00 - 24:00:00",
         "line": {
          "color": "blue",
          "width": 7
         },
         "mode": "lines",
         "showlegend": false,
         "type": "scatter",
         "x": [
          21.533333333333335,
          24
         ],
         "y": [
          124,
          124
         ]
        },
        {
         "hovertemplate": "2024-02-17 - 00:00:00 - 07:15:00",
         "line": {
          "color": "blue",
          "width": 7
         },
         "mode": "lines",
         "showlegend": false,
         "type": "scatter",
         "x": [
          0,
          7.25
         ],
         "y": [
          125,
          125
         ]
        },
        {
         "hovertemplate": "2024-02-17 - 14:14:00 - 15:25:00",
         "line": {
          "color": "blue",
          "width": 7
         },
         "mode": "lines",
         "showlegend": false,
         "type": "scatter",
         "x": [
          14.233333333333333,
          15.416666666666666
         ],
         "y": [
          125,
          125
         ]
        },
        {
         "hovertemplate": "2024-02-17 - 20:09:00 - 21:28:00",
         "line": {
          "color": "blue",
          "width": 7
         },
         "mode": "lines",
         "showlegend": false,
         "type": "scatter",
         "x": [
          20.15,
          21.466666666666665
         ],
         "y": [
          125,
          125
         ]
        },
        {
         "hovertemplate": "2024-02-17 - 23:38:00 - 24:00:00",
         "line": {
          "color": "blue",
          "width": 7
         },
         "mode": "lines",
         "showlegend": false,
         "type": "scatter",
         "x": [
          23.633333333333333,
          24
         ],
         "y": [
          125,
          125
         ]
        },
        {
         "hovertemplate": "2024-02-18 - 00:00:00 - 09:38:00",
         "line": {
          "color": "blue",
          "width": 7
         },
         "mode": "lines",
         "showlegend": false,
         "type": "scatter",
         "x": [
          0,
          9.633333333333333
         ],
         "y": [
          126,
          126
         ]
        },
        {
         "hovertemplate": "2024-02-18 - 16:03:00 - 17:42:00",
         "line": {
          "color": "blue",
          "width": 7
         },
         "mode": "lines",
         "showlegend": false,
         "type": "scatter",
         "x": [
          16.05,
          17.7
         ],
         "y": [
          126,
          126
         ]
        },
        {
         "hovertemplate": "2024-02-18 - 04:15:00 - 04:21:00",
         "line": {
          "color": "red",
          "width": 7
         },
         "mode": "lines",
         "showlegend": false,
         "type": "scatter",
         "x": [
          4.25,
          4.35
         ],
         "y": [
          126,
          126
         ]
        },
        {
         "hovertemplate": "2024-02-18 - 21:40:00 - 24:00:00",
         "line": {
          "color": "blue",
          "width": 7
         },
         "mode": "lines",
         "showlegend": false,
         "type": "scatter",
         "x": [
          21.666666666666668,
          24
         ],
         "y": [
          126,
          126
         ]
        },
        {
         "hovertemplate": "2024-02-19 - 00:00:00 - 08:23:00",
         "line": {
          "color": "blue",
          "width": 7
         },
         "mode": "lines",
         "showlegend": false,
         "type": "scatter",
         "x": [
          0,
          8.383333333333333
         ],
         "y": [
          127,
          127
         ]
        },
        {
         "hovertemplate": "2024-02-19 - 02:14:00 - 02:20:00",
         "line": {
          "color": "red",
          "width": 7
         },
         "mode": "lines",
         "showlegend": false,
         "type": "scatter",
         "x": [
          2.2333333333333334,
          2.3333333333333335
         ],
         "y": [
          127,
          127
         ]
        },
        {
         "hovertemplate": "2024-02-19 - 23:05:00 - 24:00:00",
         "line": {
          "color": "blue",
          "width": 7
         },
         "mode": "lines",
         "showlegend": false,
         "type": "scatter",
         "x": [
          23.083333333333332,
          24
         ],
         "y": [
          127,
          127
         ]
        },
        {
         "hovertemplate": "2024-02-20 - 00:00:00 - 08:45:00",
         "line": {
          "color": "blue",
          "width": 7
         },
         "mode": "lines",
         "showlegend": false,
         "type": "scatter",
         "x": [
          0,
          8.75
         ],
         "y": [
          128,
          128
         ]
        },
        {
         "hovertemplate": "2024-02-21 - 00:08:00 - 08:07:00",
         "line": {
          "color": "blue",
          "width": 7
         },
         "mode": "lines",
         "showlegend": false,
         "type": "scatter",
         "x": [
          0.13333333333333333,
          8.116666666666667
         ],
         "y": [
          129,
          129
         ]
        },
        {
         "hovertemplate": "2024-02-21 - 21:36:00 - 22:21:00",
         "line": {
          "color": "blue",
          "width": 7
         },
         "mode": "lines",
         "showlegend": false,
         "type": "scatter",
         "x": [
          21.6,
          22.35
         ],
         "y": [
          129,
          129
         ]
        },
        {
         "hovertemplate": "2024-02-21 - 03:55:00 - 04:03:00",
         "line": {
          "color": "red",
          "width": 7
         },
         "mode": "lines",
         "showlegend": false,
         "type": "scatter",
         "x": [
          3.9166666666666665,
          4.05
         ],
         "y": [
          129,
          129
         ]
        },
        {
         "hovertemplate": "2024-02-22 - 00:23:00 - 08:17:00",
         "line": {
          "color": "blue",
          "width": 7
         },
         "mode": "lines",
         "showlegend": false,
         "type": "scatter",
         "x": [
          0.38333333333333336,
          8.283333333333333
         ],
         "y": [
          130,
          130
         ]
        },
        {
         "hovertemplate": "2024-02-22 - 14:54:00 - 16:45:00",
         "line": {
          "color": "blue",
          "width": 7
         },
         "mode": "lines",
         "showlegend": false,
         "type": "scatter",
         "x": [
          14.9,
          16.75
         ],
         "y": [
          130,
          130
         ]
        },
        {
         "hovertemplate": "2024-02-22 - 18:49:00 - 19:23:00",
         "line": {
          "color": "blue",
          "width": 7
         },
         "mode": "lines",
         "showlegend": false,
         "type": "scatter",
         "x": [
          18.816666666666666,
          19.383333333333333
         ],
         "y": [
          130,
          130
         ]
        },
        {
         "hovertemplate": "2024-02-22 - 23:43:00 - 24:00:00",
         "line": {
          "color": "blue",
          "width": 7
         },
         "mode": "lines",
         "showlegend": false,
         "type": "scatter",
         "x": [
          23.716666666666665,
          24
         ],
         "y": [
          130,
          130
         ]
        },
        {
         "hovertemplate": "2024-02-23 - 00:00:00 - 08:13:00",
         "line": {
          "color": "blue",
          "width": 7
         },
         "mode": "lines",
         "showlegend": false,
         "type": "scatter",
         "x": [
          0,
          8.216666666666667
         ],
         "y": [
          131,
          131
         ]
        },
        {
         "hovertemplate": "2024-02-23 - 15:07:00 - 15:33:00",
         "line": {
          "color": "blue",
          "width": 7
         },
         "mode": "lines",
         "showlegend": false,
         "type": "scatter",
         "x": [
          15.116666666666667,
          15.55
         ],
         "y": [
          131,
          131
         ]
        },
        {
         "hovertemplate": "2024-02-24 - 00:07:00 - 08:15:00",
         "line": {
          "color": "blue",
          "width": 7
         },
         "mode": "lines",
         "showlegend": false,
         "type": "scatter",
         "x": [
          0.11666666666666667,
          8.25
         ],
         "y": [
          132,
          132
         ]
        },
        {
         "hovertemplate": "2024-02-24 - 23:40:00 - 24:00:00",
         "line": {
          "color": "blue",
          "width": 7
         },
         "mode": "lines",
         "showlegend": false,
         "type": "scatter",
         "x": [
          23.666666666666668,
          24
         ],
         "y": [
          132,
          132
         ]
        },
        {
         "hovertemplate": "2024-02-25 - 00:00:00 - 07:36:00",
         "line": {
          "color": "blue",
          "width": 7
         },
         "mode": "lines",
         "showlegend": false,
         "type": "scatter",
         "x": [
          0,
          7.6
         ],
         "y": [
          133,
          133
         ]
        },
        {
         "hovertemplate": "2024-02-25 - 12:31:00 - 14:15:00",
         "line": {
          "color": "blue",
          "width": 7
         },
         "mode": "lines",
         "showlegend": false,
         "type": "scatter",
         "x": [
          12.516666666666667,
          14.25
         ],
         "y": [
          133,
          133
         ]
        },
        {
         "hovertemplate": "2024-02-25 - 16:47:00 - 17:23:00",
         "line": {
          "color": "blue",
          "width": 7
         },
         "mode": "lines",
         "showlegend": false,
         "type": "scatter",
         "x": [
          16.783333333333335,
          17.383333333333333
         ],
         "y": [
          133,
          133
         ]
        },
        {
         "hovertemplate": "2024-02-26 - 00:12:00 - 08:03:00",
         "line": {
          "color": "blue",
          "width": 7
         },
         "mode": "lines",
         "showlegend": false,
         "type": "scatter",
         "x": [
          0.2,
          8.05
         ],
         "y": [
          134,
          134
         ]
        },
        {
         "hovertemplate": "2024-02-26 - 13:59:00 - 16:44:00",
         "line": {
          "color": "blue",
          "width": 7
         },
         "mode": "lines",
         "showlegend": false,
         "type": "scatter",
         "x": [
          13.983333333333333,
          16.733333333333334
         ],
         "y": [
          134,
          134
         ]
        },
        {
         "hovertemplate": "2024-02-26 - 23:41:00 - 24:00:00",
         "line": {
          "color": "blue",
          "width": 7
         },
         "mode": "lines",
         "showlegend": false,
         "type": "scatter",
         "x": [
          23.683333333333334,
          24
         ],
         "y": [
          134,
          134
         ]
        },
        {
         "hovertemplate": "2024-02-27 - 00:00:00 - 08:58:00",
         "line": {
          "color": "blue",
          "width": 7
         },
         "mode": "lines",
         "showlegend": false,
         "type": "scatter",
         "x": [
          0,
          8.966666666666667
         ],
         "y": [
          135,
          135
         ]
        },
        {
         "hovertemplate": "2024-02-27 - 08:04:00 - 08:20:00",
         "line": {
          "color": "red",
          "width": 7
         },
         "mode": "lines",
         "showlegend": false,
         "type": "scatter",
         "x": [
          8.066666666666666,
          8.333333333333334
         ],
         "y": [
          135,
          135
         ]
        },
        {
         "hovertemplate": "2024-02-27 - 23:26:00 - 24:00:00",
         "line": {
          "color": "blue",
          "width": 7
         },
         "mode": "lines",
         "showlegend": false,
         "type": "scatter",
         "x": [
          23.433333333333334,
          24
         ],
         "y": [
          135,
          135
         ]
        },
        {
         "hovertemplate": "2024-02-28 - 00:00:00 - 08:36:00",
         "line": {
          "color": "blue",
          "width": 7
         },
         "mode": "lines",
         "showlegend": false,
         "type": "scatter",
         "x": [
          0,
          8.6
         ],
         "y": [
          136,
          136
         ]
        },
        {
         "hovertemplate": "2024-02-28 - 14:22:00 - 16:12:00",
         "line": {
          "color": "blue",
          "width": 7
         },
         "mode": "lines",
         "showlegend": false,
         "type": "scatter",
         "x": [
          14.366666666666667,
          16.2
         ],
         "y": [
          136,
          136
         ]
        },
        {
         "hovertemplate": "2024-02-28 - 00:04:00 - 01:02:00",
         "line": {
          "color": "red",
          "width": 7
         },
         "mode": "lines",
         "showlegend": false,
         "type": "scatter",
         "x": [
          0.06666666666666667,
          1.0333333333333334
         ],
         "y": [
          136,
          136
         ]
        },
        {
         "hovertemplate": "2024-02-29 - 00:50:00 - 07:34:00",
         "line": {
          "color": "blue",
          "width": 7
         },
         "mode": "lines",
         "showlegend": false,
         "type": "scatter",
         "x": [
          0.8333333333333334,
          7.566666666666666
         ],
         "y": [
          137,
          137
         ]
        },
        {
         "hovertemplate": "2024-02-29 - 13:26:00 - 14:19:00",
         "line": {
          "color": "blue",
          "width": 7
         },
         "mode": "lines",
         "showlegend": false,
         "type": "scatter",
         "x": [
          13.433333333333334,
          14.316666666666666
         ],
         "y": [
          137,
          137
         ]
        },
        {
         "hovertemplate": "2024-02-29 - 06:33:00 - 06:40:00",
         "line": {
          "color": "red",
          "width": 7
         },
         "mode": "lines",
         "showlegend": false,
         "type": "scatter",
         "x": [
          6.55,
          6.666666666666667
         ],
         "y": [
          137,
          137
         ]
        },
        {
         "hovertemplate": "2024-03-01 - 00:22:00 - 08:17:00",
         "line": {
          "color": "blue",
          "width": 7
         },
         "mode": "lines",
         "showlegend": false,
         "type": "scatter",
         "x": [
          0.36666666666666664,
          8.283333333333333
         ],
         "y": [
          138,
          138
         ]
        },
        {
         "hovertemplate": "2024-03-01 - 14:00:00 - 17:20:00",
         "line": {
          "color": "blue",
          "width": 7
         },
         "mode": "lines",
         "showlegend": false,
         "type": "scatter",
         "x": [
          14,
          17.333333333333332
         ],
         "y": [
          138,
          138
         ]
        },
        {
         "hovertemplate": "2024-03-01 - 07:12:00 - 07:29:00",
         "line": {
          "color": "red",
          "width": 7
         },
         "mode": "lines",
         "showlegend": false,
         "type": "scatter",
         "x": [
          7.2,
          7.483333333333333
         ],
         "y": [
          138,
          138
         ]
        },
        {
         "hovertemplate": "2024-03-01 - 23:13:00 - 24:00:00",
         "line": {
          "color": "blue",
          "width": 7
         },
         "mode": "lines",
         "showlegend": false,
         "type": "scatter",
         "x": [
          23.216666666666665,
          24
         ],
         "y": [
          138,
          138
         ]
        },
        {
         "hovertemplate": "2024-03-02 - 00:00:00 - 12:17:00",
         "line": {
          "color": "blue",
          "width": 7
         },
         "mode": "lines",
         "showlegend": false,
         "type": "scatter",
         "x": [
          0,
          12.283333333333333
         ],
         "y": [
          139,
          139
         ]
        },
        {
         "hovertemplate": "2024-03-02 - 09:08:00 - 10:29:00",
         "line": {
          "color": "red",
          "width": 7
         },
         "mode": "lines",
         "showlegend": false,
         "type": "scatter",
         "x": [
          9.133333333333333,
          10.483333333333333
         ],
         "y": [
          139,
          139
         ]
        },
        {
         "hovertemplate": "2024-03-02 - 23:50:00 - 24:00:00",
         "line": {
          "color": "blue",
          "width": 7
         },
         "mode": "lines",
         "showlegend": false,
         "type": "scatter",
         "x": [
          23.833333333333332,
          24
         ],
         "y": [
          139,
          139
         ]
        },
        {
         "hovertemplate": "2024-03-03 - 00:00:00 - 08:50:00",
         "line": {
          "color": "blue",
          "width": 7
         },
         "mode": "lines",
         "showlegend": false,
         "type": "scatter",
         "x": [
          0,
          8.833333333333334
         ],
         "y": [
          140,
          140
         ]
        },
        {
         "hovertemplate": "2024-03-03 - 10:51:00 - 13:35:00",
         "line": {
          "color": "blue",
          "width": 7
         },
         "mode": "lines",
         "showlegend": false,
         "type": "scatter",
         "x": [
          10.85,
          13.583333333333334
         ],
         "y": [
          140,
          140
         ]
        },
        {
         "hovertemplate": "2024-03-03 - 12:05:00 - 12:35:00",
         "line": {
          "color": "red",
          "width": 7
         },
         "mode": "lines",
         "showlegend": false,
         "type": "scatter",
         "x": [
          12.083333333333334,
          12.583333333333334
         ],
         "y": [
          140,
          140
         ]
        },
        {
         "hovertemplate": "2024-03-03 - 21:59:00 - 24:00:00",
         "line": {
          "color": "blue",
          "width": 7
         },
         "mode": "lines",
         "showlegend": false,
         "type": "scatter",
         "x": [
          21.983333333333334,
          24
         ],
         "y": [
          140,
          140
         ]
        },
        {
         "hovertemplate": "2024-03-04 - 00:00:00 - 08:59:00",
         "line": {
          "color": "blue",
          "width": 7
         },
         "mode": "lines",
         "showlegend": false,
         "type": "scatter",
         "x": [
          0,
          8.983333333333333
         ],
         "y": [
          141,
          141
         ]
        },
        {
         "hovertemplate": "2024-03-04 - 22:46:00 - 24:00:00",
         "line": {
          "color": "blue",
          "width": 7
         },
         "mode": "lines",
         "showlegend": false,
         "type": "scatter",
         "x": [
          22.766666666666666,
          24
         ],
         "y": [
          141,
          141
         ]
        },
        {
         "hovertemplate": "2024-03-05 - 00:00:00 - 10:06:00",
         "line": {
          "color": "blue",
          "width": 7
         },
         "mode": "lines",
         "showlegend": false,
         "type": "scatter",
         "x": [
          0,
          10.1
         ],
         "y": [
          142,
          142
         ]
        },
        {
         "hovertemplate": "2024-03-05 - 15:13:00 - 16:03:00",
         "line": {
          "color": "blue",
          "width": 7
         },
         "mode": "lines",
         "showlegend": false,
         "type": "scatter",
         "x": [
          15.216666666666667,
          16.05
         ],
         "y": [
          142,
          142
         ]
        },
        {
         "hovertemplate": "2024-03-05 - 00:59:00 - 01:17:00",
         "line": {
          "color": "red",
          "width": 7
         },
         "mode": "lines",
         "showlegend": false,
         "type": "scatter",
         "x": [
          0.9833333333333333,
          1.2833333333333332
         ],
         "y": [
          142,
          142
         ]
        },
        {
         "hovertemplate": "2024-03-06 - 01:12:00 - 08:37:00",
         "line": {
          "color": "blue",
          "width": 7
         },
         "mode": "lines",
         "showlegend": false,
         "type": "scatter",
         "x": [
          1.2,
          8.616666666666667
         ],
         "y": [
          143,
          143
         ]
        },
        {
         "hovertemplate": "2024-03-06 - 13:40:00 - 15:11:00",
         "line": {
          "color": "blue",
          "width": 7
         },
         "mode": "lines",
         "showlegend": false,
         "type": "scatter",
         "x": [
          13.666666666666666,
          15.183333333333334
         ],
         "y": [
          143,
          143
         ]
        },
        {
         "hovertemplate": "2024-03-06 - 07:35:00 - 07:46:00",
         "line": {
          "color": "red",
          "width": 7
         },
         "mode": "lines",
         "showlegend": false,
         "type": "scatter",
         "x": [
          7.583333333333333,
          7.766666666666667
         ],
         "y": [
          143,
          143
         ]
        },
        {
         "hovertemplate": "2024-03-06 - 23:59:00 - 24:00:00",
         "line": {
          "color": "blue",
          "width": 7
         },
         "mode": "lines",
         "showlegend": false,
         "type": "scatter",
         "x": [
          23.983333333333334,
          24
         ],
         "y": [
          143,
          143
         ]
        },
        {
         "hovertemplate": "2024-03-07 - 00:00:00 - 08:37:00",
         "line": {
          "color": "blue",
          "width": 7
         },
         "mode": "lines",
         "showlegend": false,
         "type": "scatter",
         "x": [
          0,
          8.616666666666667
         ],
         "y": [
          144,
          144
         ]
        },
        {
         "hovertemplate": "2024-03-07 - 17:23:00 - 18:18:00",
         "line": {
          "color": "blue",
          "width": 7
         },
         "mode": "lines",
         "showlegend": false,
         "type": "scatter",
         "x": [
          17.383333333333333,
          18.3
         ],
         "y": [
          144,
          144
         ]
        },
        {
         "hovertemplate": "2024-03-08 - 01:04:00 - 08:10:00",
         "line": {
          "color": "blue",
          "width": 7
         },
         "mode": "lines",
         "showlegend": false,
         "type": "scatter",
         "x": [
          1.0666666666666667,
          8.166666666666666
         ],
         "y": [
          145,
          145
         ]
        },
        {
         "hovertemplate": "2024-03-08 - 22:40:00 - 24:00:00",
         "line": {
          "color": "blue",
          "width": 7
         },
         "mode": "lines",
         "showlegend": false,
         "type": "scatter",
         "x": [
          22.666666666666668,
          24
         ],
         "y": [
          145,
          145
         ]
        },
        {
         "hovertemplate": "2024-03-09 - 00:00:00 - 10:15:00",
         "line": {
          "color": "blue",
          "width": 7
         },
         "mode": "lines",
         "showlegend": false,
         "type": "scatter",
         "x": [
          0,
          10.25
         ],
         "y": [
          146,
          146
         ]
        },
        {
         "hovertemplate": "2024-03-09 - 18:34:00 - 19:12:00",
         "line": {
          "color": "blue",
          "width": 7
         },
         "mode": "lines",
         "showlegend": false,
         "type": "scatter",
         "x": [
          18.566666666666666,
          19.2
         ],
         "y": [
          146,
          146
         ]
        },
        {
         "hovertemplate": "2024-03-10 - 00:35:00 - 07:53:00",
         "line": {
          "color": "blue",
          "width": 7
         },
         "mode": "lines",
         "showlegend": false,
         "type": "scatter",
         "x": [
          0.5833333333333334,
          7.883333333333333
         ],
         "y": [
          147,
          147
         ]
        },
        {
         "hovertemplate": "2024-03-10 - 12:45:00 - 14:46:00",
         "line": {
          "color": "blue",
          "width": 7
         },
         "mode": "lines",
         "showlegend": false,
         "type": "scatter",
         "x": [
          12.75,
          14.766666666666667
         ],
         "y": [
          147,
          147
         ]
        },
        {
         "hovertemplate": "2024-03-10 - 23:09:00 - 24:00:00",
         "line": {
          "color": "blue",
          "width": 7
         },
         "mode": "lines",
         "showlegend": false,
         "type": "scatter",
         "x": [
          23.15,
          24
         ],
         "y": [
          147,
          147
         ]
        },
        {
         "hovertemplate": "2024-03-11 - 00:00:00 - 08:01:00",
         "line": {
          "color": "blue",
          "width": 7
         },
         "mode": "lines",
         "showlegend": false,
         "type": "scatter",
         "x": [
          0,
          8.016666666666667
         ],
         "y": [
          148,
          148
         ]
        },
        {
         "hovertemplate": "2024-03-11 - 14:30:00 - 15:53:00",
         "line": {
          "color": "blue",
          "width": 7
         },
         "mode": "lines",
         "showlegend": false,
         "type": "scatter",
         "x": [
          14.5,
          15.883333333333333
         ],
         "y": [
          148,
          148
         ]
        },
        {
         "hovertemplate": "2024-03-11 - 23:38:00 - 24:00:00",
         "line": {
          "color": "blue",
          "width": 7
         },
         "mode": "lines",
         "showlegend": false,
         "type": "scatter",
         "x": [
          23.633333333333333,
          24
         ],
         "y": [
          148,
          148
         ]
        },
        {
         "hovertemplate": "2024-03-12 - 00:00:00 - 09:15:00",
         "line": {
          "color": "blue",
          "width": 7
         },
         "mode": "lines",
         "showlegend": false,
         "type": "scatter",
         "x": [
          0,
          9.25
         ],
         "y": [
          149,
          149
         ]
        },
        {
         "hovertemplate": "2024-03-12 - 13:39:00 - 15:10:00",
         "line": {
          "color": "blue",
          "width": 7
         },
         "mode": "lines",
         "showlegend": false,
         "type": "scatter",
         "x": [
          13.65,
          15.166666666666666
         ],
         "y": [
          149,
          149
         ]
        },
        {
         "hovertemplate": "2024-03-12 - 06:02:00 - 07:03:00",
         "line": {
          "color": "red",
          "width": 7
         },
         "mode": "lines",
         "showlegend": false,
         "type": "scatter",
         "x": [
          6.033333333333333,
          7.05
         ],
         "y": [
          149,
          149
         ]
        },
        {
         "hovertemplate": "2024-03-12 - 08:06:00 - 08:43:00",
         "line": {
          "color": "red",
          "width": 7
         },
         "mode": "lines",
         "showlegend": false,
         "type": "scatter",
         "x": [
          8.1,
          8.716666666666667
         ],
         "y": [
          149,
          149
         ]
        },
        {
         "hovertemplate": "2024-03-12 - 23:15:00 - 24:00:00",
         "line": {
          "color": "blue",
          "width": 7
         },
         "mode": "lines",
         "showlegend": false,
         "type": "scatter",
         "x": [
          23.25,
          24
         ],
         "y": [
          149,
          149
         ]
        },
        {
         "hovertemplate": "2024-03-13 - 00:00:00 - 09:25:00",
         "line": {
          "color": "blue",
          "width": 7
         },
         "mode": "lines",
         "showlegend": false,
         "type": "scatter",
         "x": [
          0,
          9.416666666666666
         ],
         "y": [
          150,
          150
         ]
        },
        {
         "hovertemplate": "2024-03-14 - 00:05:00 - 08:24:00",
         "line": {
          "color": "blue",
          "width": 7
         },
         "mode": "lines",
         "showlegend": false,
         "type": "scatter",
         "x": [
          0.08333333333333333,
          8.4
         ],
         "y": [
          151,
          151
         ]
        },
        {
         "hovertemplate": "2024-03-15 - 00:01:00 - 08:59:00",
         "line": {
          "color": "blue",
          "width": 7
         },
         "mode": "lines",
         "showlegend": false,
         "type": "scatter",
         "x": [
          0.016666666666666666,
          8.983333333333333
         ],
         "y": [
          152,
          152
         ]
        },
        {
         "hovertemplate": "2024-03-15 - 14:21:00 - 16:54:00",
         "line": {
          "color": "blue",
          "width": 7
         },
         "mode": "lines",
         "showlegend": false,
         "type": "scatter",
         "x": [
          14.35,
          16.9
         ],
         "y": [
          152,
          152
         ]
        },
        {
         "hovertemplate": "2024-03-15 - 23:48:00 - 24:00:00",
         "line": {
          "color": "blue",
          "width": 7
         },
         "mode": "lines",
         "showlegend": false,
         "type": "scatter",
         "x": [
          23.8,
          24
         ],
         "y": [
          152,
          152
         ]
        },
        {
         "hovertemplate": "2024-03-16 - 00:00:00 - 09:05:00",
         "line": {
          "color": "blue",
          "width": 7
         },
         "mode": "lines",
         "showlegend": false,
         "type": "scatter",
         "x": [
          0,
          9.083333333333334
         ],
         "y": [
          153,
          153
         ]
        },
        {
         "hovertemplate": "2024-03-16 - 14:39:00 - 16:30:00",
         "line": {
          "color": "blue",
          "width": 7
         },
         "mode": "lines",
         "showlegend": false,
         "type": "scatter",
         "x": [
          14.65,
          16.5
         ],
         "y": [
          153,
          153
         ]
        },
        {
         "hovertemplate": "2024-03-16 - 23:37:00 - 24:00:00",
         "line": {
          "color": "blue",
          "width": 7
         },
         "mode": "lines",
         "showlegend": false,
         "type": "scatter",
         "x": [
          23.616666666666667,
          24
         ],
         "y": [
          153,
          153
         ]
        },
        {
         "hovertemplate": "2024-03-17 - 00:00:00 - 10:08:00",
         "line": {
          "color": "blue",
          "width": 7
         },
         "mode": "lines",
         "showlegend": false,
         "type": "scatter",
         "x": [
          0,
          10.133333333333333
         ],
         "y": [
          154,
          154
         ]
        },
        {
         "hovertemplate": "2024-03-17 - 15:06:00 - 16:51:00",
         "line": {
          "color": "blue",
          "width": 7
         },
         "mode": "lines",
         "showlegend": false,
         "type": "scatter",
         "x": [
          15.1,
          16.85
         ],
         "y": [
          154,
          154
         ]
        },
        {
         "hovertemplate": "2024-03-17 - 06:11:00 - 06:19:00",
         "line": {
          "color": "red",
          "width": 7
         },
         "mode": "lines",
         "showlegend": false,
         "type": "scatter",
         "x": [
          6.183333333333334,
          6.316666666666666
         ],
         "y": [
          154,
          154
         ]
        },
        {
         "hovertemplate": "2024-03-17 - 08:04:00 - 08:19:00",
         "line": {
          "color": "red",
          "width": 7
         },
         "mode": "lines",
         "showlegend": false,
         "type": "scatter",
         "x": [
          8.066666666666666,
          8.316666666666666
         ],
         "y": [
          154,
          154
         ]
        },
        {
         "hovertemplate": "2024-03-17 - 15:52:00 - 16:18:00",
         "line": {
          "color": "red",
          "width": 7
         },
         "mode": "lines",
         "showlegend": false,
         "type": "scatter",
         "x": [
          15.866666666666667,
          16.3
         ],
         "y": [
          154,
          154
         ]
        },
        {
         "hovertemplate": "2024-03-17 - 23:19:00 - 24:00:00",
         "line": {
          "color": "blue",
          "width": 7
         },
         "mode": "lines",
         "showlegend": false,
         "type": "scatter",
         "x": [
          23.316666666666666,
          24
         ],
         "y": [
          154,
          154
         ]
        },
        {
         "hovertemplate": "2024-03-18 - 00:00:00 - 09:47:00",
         "line": {
          "color": "blue",
          "width": 7
         },
         "mode": "lines",
         "showlegend": false,
         "type": "scatter",
         "x": [
          0,
          9.783333333333333
         ],
         "y": [
          155,
          155
         ]
        },
        {
         "hovertemplate": "2024-03-18 - 23:45:00 - 24:00:00",
         "line": {
          "color": "blue",
          "width": 7
         },
         "mode": "lines",
         "showlegend": false,
         "type": "scatter",
         "x": [
          23.75,
          24
         ],
         "y": [
          155,
          155
         ]
        },
        {
         "hovertemplate": "2024-03-19 - 00:00:00 - 11:00:00",
         "line": {
          "color": "blue",
          "width": 7
         },
         "mode": "lines",
         "showlegend": false,
         "type": "scatter",
         "x": [
          0,
          11
         ],
         "y": [
          156,
          156
         ]
        },
        {
         "hovertemplate": "2024-03-19 - 17:08:00 - 17:56:00",
         "line": {
          "color": "blue",
          "width": 7
         },
         "mode": "lines",
         "showlegend": false,
         "type": "scatter",
         "x": [
          17.133333333333333,
          17.933333333333334
         ],
         "y": [
          156,
          156
         ]
        },
        {
         "hovertemplate": "2024-03-19 - 07:27:00 - 08:02:00",
         "line": {
          "color": "red",
          "width": 7
         },
         "mode": "lines",
         "showlegend": false,
         "type": "scatter",
         "x": [
          7.45,
          8.033333333333333
         ],
         "y": [
          156,
          156
         ]
        },
        {
         "hovertemplate": "2024-03-19 - 08:53:00 - 10:33:00",
         "line": {
          "color": "red",
          "width": 7
         },
         "mode": "lines",
         "showlegend": false,
         "type": "scatter",
         "x": [
          8.883333333333333,
          10.55
         ],
         "y": [
          156,
          156
         ]
        },
        {
         "hovertemplate": "2024-03-19 - 23:59:00 - 24:00:00",
         "line": {
          "color": "blue",
          "width": 7
         },
         "mode": "lines",
         "showlegend": false,
         "type": "scatter",
         "x": [
          23.983333333333334,
          24
         ],
         "y": [
          156,
          156
         ]
        },
        {
         "hovertemplate": "2024-03-20 - 00:00:00 - 10:36:00",
         "line": {
          "color": "blue",
          "width": 7
         },
         "mode": "lines",
         "showlegend": false,
         "type": "scatter",
         "x": [
          0,
          10.6
         ],
         "y": [
          157,
          157
         ]
        },
        {
         "hovertemplate": "2024-03-20 - 08:21:00 - 08:58:00",
         "line": {
          "color": "red",
          "width": 7
         },
         "mode": "lines",
         "showlegend": false,
         "type": "scatter",
         "x": [
          8.35,
          8.966666666666667
         ],
         "y": [
          157,
          157
         ]
        },
        {
         "hovertemplate": "2024-03-21 - 00:18:00 - 09:24:00",
         "line": {
          "color": "blue",
          "width": 7
         },
         "mode": "lines",
         "showlegend": false,
         "type": "scatter",
         "x": [
          0.3,
          9.4
         ],
         "y": [
          158,
          158
         ]
        },
        {
         "hovertemplate": "2024-03-21 - 15:20:00 - 16:42:00",
         "line": {
          "color": "blue",
          "width": 7
         },
         "mode": "lines",
         "showlegend": false,
         "type": "scatter",
         "x": [
          15.333333333333334,
          16.7
         ],
         "y": [
          158,
          158
         ]
        },
        {
         "hovertemplate": "2024-03-22 - 00:38:00 - 08:25:00",
         "line": {
          "color": "blue",
          "width": 7
         },
         "mode": "lines",
         "showlegend": false,
         "type": "scatter",
         "x": [
          0.6333333333333333,
          8.416666666666666
         ],
         "y": [
          159,
          159
         ]
        },
        {
         "hovertemplate": "2024-03-22 - 12:53:00 - 15:17:00",
         "line": {
          "color": "blue",
          "width": 7
         },
         "mode": "lines",
         "showlegend": false,
         "type": "scatter",
         "x": [
          12.883333333333333,
          15.283333333333333
         ],
         "y": [
          159,
          159
         ]
        },
        {
         "hovertemplate": "2024-03-22 - 17:37:00 - 18:11:00",
         "line": {
          "color": "blue",
          "width": 7
         },
         "mode": "lines",
         "showlegend": false,
         "type": "scatter",
         "x": [
          17.616666666666667,
          18.183333333333334
         ],
         "y": [
          159,
          159
         ]
        },
        {
         "hovertemplate": "2024-03-22 - 21:43:00 - 24:00:00",
         "line": {
          "color": "blue",
          "width": 7
         },
         "mode": "lines",
         "showlegend": false,
         "type": "scatter",
         "x": [
          21.716666666666665,
          24
         ],
         "y": [
          159,
          159
         ]
        },
        {
         "hovertemplate": "2024-03-23 - 00:00:00 - 07:01:00",
         "line": {
          "color": "blue",
          "width": 7
         },
         "mode": "lines",
         "showlegend": false,
         "type": "scatter",
         "x": [
          0,
          7.016666666666667
         ],
         "y": [
          160,
          160
         ]
        },
        {
         "hovertemplate": "2024-03-23 - 19:53:00 - 20:34:00",
         "line": {
          "color": "blue",
          "width": 7
         },
         "mode": "lines",
         "showlegend": false,
         "type": "scatter",
         "x": [
          19.883333333333333,
          20.566666666666666
         ],
         "y": [
          160,
          160
         ]
        },
        {
         "hovertemplate": "2024-03-23 - 23:46:00 - 24:00:00",
         "line": {
          "color": "blue",
          "width": 7
         },
         "mode": "lines",
         "showlegend": false,
         "type": "scatter",
         "x": [
          23.766666666666666,
          24
         ],
         "y": [
          160,
          160
         ]
        },
        {
         "hovertemplate": "2024-03-24 - 00:00:00 - 08:04:00",
         "line": {
          "color": "blue",
          "width": 7
         },
         "mode": "lines",
         "showlegend": false,
         "type": "scatter",
         "x": [
          0,
          8.066666666666666
         ],
         "y": [
          161,
          161
         ]
        },
        {
         "hovertemplate": "2024-03-24 - 15:32:00 - 16:17:00",
         "line": {
          "color": "blue",
          "width": 7
         },
         "mode": "lines",
         "showlegend": false,
         "type": "scatter",
         "x": [
          15.533333333333333,
          16.283333333333335
         ],
         "y": [
          161,
          161
         ]
        },
        {
         "hovertemplate": "2024-03-24 - 20:24:00 - 20:57:00",
         "line": {
          "color": "blue",
          "width": 7
         },
         "mode": "lines",
         "showlegend": false,
         "type": "scatter",
         "x": [
          20.4,
          20.95
         ],
         "y": [
          161,
          161
         ]
        },
        {
         "hovertemplate": "2024-03-24 - 04:16:00 - 04:24:00",
         "line": {
          "color": "red",
          "width": 7
         },
         "mode": "lines",
         "showlegend": false,
         "type": "scatter",
         "x": [
          4.266666666666667,
          4.4
         ],
         "y": [
          161,
          161
         ]
        },
        {
         "hovertemplate": "2024-03-24 - 23:22:00 - 24:00:00",
         "line": {
          "color": "blue",
          "width": 7
         },
         "mode": "lines",
         "showlegend": false,
         "type": "scatter",
         "x": [
          23.366666666666667,
          24
         ],
         "y": [
          161,
          161
         ]
        },
        {
         "hovertemplate": "2024-03-25 - 00:00:00 - 08:19:00",
         "line": {
          "color": "blue",
          "width": 7
         },
         "mode": "lines",
         "showlegend": false,
         "type": "scatter",
         "x": [
          0,
          8.316666666666666
         ],
         "y": [
          162,
          162
         ]
        },
        {
         "hovertemplate": "2024-03-25 - 15:06:00 - 16:31:00",
         "line": {
          "color": "blue",
          "width": 7
         },
         "mode": "lines",
         "showlegend": false,
         "type": "scatter",
         "x": [
          15.1,
          16.516666666666666
         ],
         "y": [
          162,
          162
         ]
        },
        {
         "hovertemplate": "2024-03-26 - 00:05:00 - 08:02:00",
         "line": {
          "color": "blue",
          "width": 7
         },
         "mode": "lines",
         "showlegend": false,
         "type": "scatter",
         "x": [
          0.08333333333333333,
          8.033333333333333
         ],
         "y": [
          163,
          163
         ]
        },
        {
         "hovertemplate": "2024-03-27 - 00:05:00 - 09:27:00",
         "line": {
          "color": "blue",
          "width": 7
         },
         "mode": "lines",
         "showlegend": false,
         "type": "scatter",
         "x": [
          0.08333333333333333,
          9.45
         ],
         "y": [
          164,
          164
         ]
        },
        {
         "hovertemplate": "2024-03-27 - 12:46:00 - 14:23:00",
         "line": {
          "color": "blue",
          "width": 7
         },
         "mode": "lines",
         "showlegend": false,
         "type": "scatter",
         "x": [
          12.766666666666667,
          14.383333333333333
         ],
         "y": [
          164,
          164
         ]
        },
        {
         "hovertemplate": "2024-03-28 - 00:15:00 - 09:22:00",
         "line": {
          "color": "blue",
          "width": 7
         },
         "mode": "lines",
         "showlegend": false,
         "type": "scatter",
         "x": [
          0.25,
          9.366666666666667
         ],
         "y": [
          165,
          165
         ]
        },
        {
         "hovertemplate": "2024-03-28 - 13:47:00 - 14:38:00",
         "line": {
          "color": "blue",
          "width": 7
         },
         "mode": "lines",
         "showlegend": false,
         "type": "scatter",
         "x": [
          13.783333333333333,
          14.633333333333333
         ],
         "y": [
          165,
          165
         ]
        },
        {
         "hovertemplate": "2024-03-28 - 07:10:00 - 07:16:00",
         "line": {
          "color": "red",
          "width": 7
         },
         "mode": "lines",
         "showlegend": false,
         "type": "scatter",
         "x": [
          7.166666666666667,
          7.266666666666667
         ],
         "y": [
          165,
          165
         ]
        },
        {
         "hovertemplate": "2024-03-28 - 08:26:00 - 08:52:00",
         "line": {
          "color": "red",
          "width": 7
         },
         "mode": "lines",
         "showlegend": false,
         "type": "scatter",
         "x": [
          8.433333333333334,
          8.866666666666667
         ],
         "y": [
          165,
          165
         ]
        },
        {
         "hovertemplate": "2024-03-28 - 23:37:00 - 24:00:00",
         "line": {
          "color": "blue",
          "width": 7
         },
         "mode": "lines",
         "showlegend": false,
         "type": "scatter",
         "x": [
          23.616666666666667,
          24
         ],
         "y": [
          165,
          165
         ]
        },
        {
         "hovertemplate": "2024-03-29 - 00:00:00 - 09:28:00",
         "line": {
          "color": "blue",
          "width": 7
         },
         "mode": "lines",
         "showlegend": false,
         "type": "scatter",
         "x": [
          0,
          9.466666666666667
         ],
         "y": [
          166,
          166
         ]
        },
        {
         "hovertemplate": "2024-03-29 - 14:07:00 - 14:44:00",
         "line": {
          "color": "blue",
          "width": 7
         },
         "mode": "lines",
         "showlegend": false,
         "type": "scatter",
         "x": [
          14.116666666666667,
          14.733333333333333
         ],
         "y": [
          166,
          166
         ]
        },
        {
         "hovertemplate": "2024-03-29 - 08:04:00 - 08:43:00",
         "line": {
          "color": "red",
          "width": 7
         },
         "mode": "lines",
         "showlegend": false,
         "type": "scatter",
         "x": [
          8.066666666666666,
          8.716666666666667
         ],
         "y": [
          166,
          166
         ]
        },
        {
         "hovertemplate": "2024-03-30 - 00:41:00 - 05:32:00",
         "line": {
          "color": "blue",
          "width": 7
         },
         "mode": "lines",
         "showlegend": false,
         "type": "scatter",
         "x": [
          0.6833333333333333,
          5.533333333333333
         ],
         "y": [
          167,
          167
         ]
        },
        {
         "hovertemplate": "2024-04-02 - 00:42:00 - 10:04:00",
         "line": {
          "color": "blue",
          "width": 7
         },
         "mode": "lines",
         "showlegend": false,
         "type": "scatter",
         "x": [
          0.7,
          10.066666666666666
         ],
         "y": [
          170,
          170
         ]
        },
        {
         "hovertemplate": "2024-04-03 - 00:36:00 - 09:39:00",
         "line": {
          "color": "blue",
          "width": 7
         },
         "mode": "lines",
         "showlegend": false,
         "type": "scatter",
         "x": [
          0.6,
          9.65
         ],
         "y": [
          171,
          171
         ]
        },
        {
         "hovertemplate": "2024-04-03 - 13:36:00 - 14:25:00",
         "line": {
          "color": "blue",
          "width": 7
         },
         "mode": "lines",
         "showlegend": false,
         "type": "scatter",
         "x": [
          13.6,
          14.416666666666666
         ],
         "y": [
          171,
          171
         ]
        },
        {
         "hovertemplate": "2024-04-03 - 18:02:00 - 18:45:00",
         "line": {
          "color": "blue",
          "width": 7
         },
         "mode": "lines",
         "showlegend": false,
         "type": "scatter",
         "x": [
          18.033333333333335,
          18.75
         ],
         "y": [
          171,
          171
         ]
        },
        {
         "hovertemplate": "2024-04-03 - 08:15:00 - 08:54:00",
         "line": {
          "color": "red",
          "width": 7
         },
         "mode": "lines",
         "showlegend": false,
         "type": "scatter",
         "x": [
          8.25,
          8.9
         ],
         "y": [
          171,
          171
         ]
        },
        {
         "hovertemplate": "2024-04-04 - 00:18:00 - 08:42:00",
         "line": {
          "color": "blue",
          "width": 7
         },
         "mode": "lines",
         "showlegend": false,
         "type": "scatter",
         "x": [
          0.3,
          8.7
         ],
         "y": [
          172,
          172
         ]
        },
        {
         "hovertemplate": "2024-04-04 - 12:59:00 - 14:23:00",
         "line": {
          "color": "blue",
          "width": 7
         },
         "mode": "lines",
         "showlegend": false,
         "type": "scatter",
         "x": [
          12.983333333333333,
          14.383333333333333
         ],
         "y": [
          172,
          172
         ]
        },
        {
         "hovertemplate": "2024-04-04 - 13:27:00 - 13:47:00",
         "line": {
          "color": "red",
          "width": 7
         },
         "mode": "lines",
         "showlegend": false,
         "type": "scatter",
         "x": [
          13.45,
          13.783333333333333
         ],
         "y": [
          172,
          172
         ]
        },
        {
         "hovertemplate": "2024-04-05 - 01:11:00 - 08:16:00",
         "line": {
          "color": "blue",
          "width": 7
         },
         "mode": "lines",
         "showlegend": false,
         "type": "scatter",
         "x": [
          1.1833333333333333,
          8.266666666666667
         ],
         "y": [
          173,
          173
         ]
        },
        {
         "hovertemplate": "2024-04-05 - 22:59:00 - 24:00:00",
         "line": {
          "color": "blue",
          "width": 7
         },
         "mode": "lines",
         "showlegend": false,
         "type": "scatter",
         "x": [
          22.983333333333334,
          24
         ],
         "y": [
          173,
          173
         ]
        },
        {
         "hovertemplate": "2024-04-06 - 00:00:00 - 09:16:00",
         "line": {
          "color": "blue",
          "width": 7
         },
         "mode": "lines",
         "showlegend": false,
         "type": "scatter",
         "x": [
          0,
          9.266666666666667
         ],
         "y": [
          174,
          174
         ]
        },
        {
         "hovertemplate": "2024-04-06 - 13:47:00 - 14:47:00",
         "line": {
          "color": "blue",
          "width": 7
         },
         "mode": "lines",
         "showlegend": false,
         "type": "scatter",
         "x": [
          13.783333333333333,
          14.783333333333333
         ],
         "y": [
          174,
          174
         ]
        },
        {
         "hovertemplate": "2024-04-07 - 00:37:00 - 09:56:00",
         "line": {
          "color": "blue",
          "width": 7
         },
         "mode": "lines",
         "showlegend": false,
         "type": "scatter",
         "x": [
          0.6166666666666667,
          9.933333333333334
         ],
         "y": [
          175,
          175
         ]
        },
        {
         "hovertemplate": "2024-04-07 - 14:16:00 - 15:47:00",
         "line": {
          "color": "blue",
          "width": 7
         },
         "mode": "lines",
         "showlegend": false,
         "type": "scatter",
         "x": [
          14.266666666666667,
          15.783333333333333
         ],
         "y": [
          175,
          175
         ]
        },
        {
         "hovertemplate": "2024-04-08 - 00:26:00 - 09:09:00",
         "line": {
          "color": "blue",
          "width": 7
         },
         "mode": "lines",
         "showlegend": false,
         "type": "scatter",
         "x": [
          0.43333333333333335,
          9.15
         ],
         "y": [
          176,
          176
         ]
        },
        {
         "hovertemplate": "2024-04-09 - 01:00:00 - 08:26:00",
         "line": {
          "color": "blue",
          "width": 7
         },
         "mode": "lines",
         "showlegend": false,
         "type": "scatter",
         "x": [
          1,
          8.433333333333334
         ],
         "y": [
          177,
          177
         ]
        },
        {
         "hovertemplate": "2024-04-09 - 15:03:00 - 15:47:00",
         "line": {
          "color": "blue",
          "width": 7
         },
         "mode": "lines",
         "showlegend": false,
         "type": "scatter",
         "x": [
          15.05,
          15.783333333333333
         ],
         "y": [
          177,
          177
         ]
        },
        {
         "hovertemplate": "2024-04-10 - 00:11:00 - 08:30:00",
         "line": {
          "color": "blue",
          "width": 7
         },
         "mode": "lines",
         "showlegend": false,
         "type": "scatter",
         "x": [
          0.18333333333333332,
          8.5
         ],
         "y": [
          178,
          178
         ]
        },
        {
         "hovertemplate": "2024-04-11 - 00:11:00 - 09:34:00",
         "line": {
          "color": "blue",
          "width": 7
         },
         "mode": "lines",
         "showlegend": false,
         "type": "scatter",
         "x": [
          0.18333333333333332,
          9.566666666666666
         ],
         "y": [
          179,
          179
         ]
        },
        {
         "hovertemplate": "2024-04-11 - 18:00:00 - 19:29:00",
         "line": {
          "color": "blue",
          "width": 7
         },
         "mode": "lines",
         "showlegend": false,
         "type": "scatter",
         "x": [
          18,
          19.483333333333334
         ],
         "y": [
          179,
          179
         ]
        },
        {
         "hovertemplate": "2024-04-11 - 07:08:00 - 07:23:00",
         "line": {
          "color": "red",
          "width": 7
         },
         "mode": "lines",
         "showlegend": false,
         "type": "scatter",
         "x": [
          7.133333333333334,
          7.383333333333334
         ],
         "y": [
          179,
          179
         ]
        },
        {
         "hovertemplate": "2024-04-11 - 08:26:00 - 08:52:00",
         "line": {
          "color": "red",
          "width": 7
         },
         "mode": "lines",
         "showlegend": false,
         "type": "scatter",
         "x": [
          8.433333333333334,
          8.866666666666667
         ],
         "y": [
          179,
          179
         ]
        },
        {
         "hovertemplate": "2024-04-11 - 23:58:00 - 24:00:00",
         "line": {
          "color": "blue",
          "width": 7
         },
         "mode": "lines",
         "showlegend": false,
         "type": "scatter",
         "x": [
          23.966666666666665,
          24
         ],
         "y": [
          179,
          179
         ]
        },
        {
         "hovertemplate": "2024-04-12 - 00:00:00 - 08:31:00",
         "line": {
          "color": "blue",
          "width": 7
         },
         "mode": "lines",
         "showlegend": false,
         "type": "scatter",
         "x": [
          0,
          8.516666666666667
         ],
         "y": [
          180,
          180
         ]
        },
        {
         "hovertemplate": "2024-04-12 - 23:09:00 - 24:00:00",
         "line": {
          "color": "blue",
          "width": 7
         },
         "mode": "lines",
         "showlegend": false,
         "type": "scatter",
         "x": [
          23.15,
          24
         ],
         "y": [
          180,
          180
         ]
        },
        {
         "hovertemplate": "2024-04-13 - 00:00:00 - 08:27:00",
         "line": {
          "color": "blue",
          "width": 7
         },
         "mode": "lines",
         "showlegend": false,
         "type": "scatter",
         "x": [
          0,
          8.45
         ],
         "y": [
          181,
          181
         ]
        },
        {
         "hovertemplate": "2024-04-13 - 14:27:00 - 15:36:00",
         "line": {
          "color": "blue",
          "width": 7
         },
         "mode": "lines",
         "showlegend": false,
         "type": "scatter",
         "x": [
          14.45,
          15.6
         ],
         "y": [
          181,
          181
         ]
        },
        {
         "hovertemplate": "2024-04-13 - 19:50:00 - 21:00:00",
         "line": {
          "color": "blue",
          "width": 7
         },
         "mode": "lines",
         "showlegend": false,
         "type": "scatter",
         "x": [
          19.833333333333332,
          21
         ],
         "y": [
          181,
          181
         ]
        },
        {
         "hovertemplate": "2024-04-12 - 23:28:00 - 23:45:00",
         "line": {
          "color": "red",
          "width": 7
         },
         "mode": "lines",
         "showlegend": false,
         "type": "scatter",
         "x": [
          23.466666666666665,
          23.75
         ],
         "y": [
          180,
          180
         ]
        },
        {
         "hovertemplate": "2024-04-13 - 06:26:00 - 06:36:00",
         "line": {
          "color": "red",
          "width": 7
         },
         "mode": "lines",
         "showlegend": false,
         "type": "scatter",
         "x": [
          6.433333333333334,
          6.6
         ],
         "y": [
          181,
          181
         ]
        },
        {
         "hovertemplate": "2024-04-14 - 00:08:00 - 07:39:00",
         "line": {
          "color": "blue",
          "width": 7
         },
         "mode": "lines",
         "showlegend": false,
         "type": "scatter",
         "x": [
          0.13333333333333333,
          7.65
         ],
         "y": [
          182,
          182
         ]
        },
        {
         "hovertemplate": "2024-04-14 - 13:51:00 - 15:03:00",
         "line": {
          "color": "blue",
          "width": 7
         },
         "mode": "lines",
         "showlegend": false,
         "type": "scatter",
         "x": [
          13.85,
          15.05
         ],
         "y": [
          182,
          182
         ]
        },
        {
         "hovertemplate": "2024-04-14 - 22:33:00 - 24:00:00",
         "line": {
          "color": "blue",
          "width": 7
         },
         "mode": "lines",
         "showlegend": false,
         "type": "scatter",
         "x": [
          22.55,
          24
         ],
         "y": [
          182,
          182
         ]
        },
        {
         "hovertemplate": "2024-04-15 - 00:00:00 - 07:51:00",
         "line": {
          "color": "blue",
          "width": 7
         },
         "mode": "lines",
         "showlegend": false,
         "type": "scatter",
         "x": [
          0,
          7.85
         ],
         "y": [
          183,
          183
         ]
        },
        {
         "hovertemplate": "2024-04-16 - 00:33:00 - 09:05:00",
         "line": {
          "color": "blue",
          "width": 7
         },
         "mode": "lines",
         "showlegend": false,
         "type": "scatter",
         "x": [
          0.55,
          9.083333333333334
         ],
         "y": [
          184,
          184
         ]
        },
        {
         "hovertemplate": "2024-04-16 - 15:22:00 - 16:24:00",
         "line": {
          "color": "blue",
          "width": 7
         },
         "mode": "lines",
         "showlegend": false,
         "type": "scatter",
         "x": [
          15.366666666666667,
          16.4
         ],
         "y": [
          184,
          184
         ]
        },
        {
         "hovertemplate": "2024-04-16 - 22:40:00 - 24:00:00",
         "line": {
          "color": "blue",
          "width": 7
         },
         "mode": "lines",
         "showlegend": false,
         "type": "scatter",
         "x": [
          22.666666666666668,
          24
         ],
         "y": [
          184,
          184
         ]
        },
        {
         "hovertemplate": "2024-04-17 - 00:00:00 - 08:55:00",
         "line": {
          "color": "blue",
          "width": 7
         },
         "mode": "lines",
         "showlegend": false,
         "type": "scatter",
         "x": [
          0,
          8.916666666666666
         ],
         "y": [
          185,
          185
         ]
        },
        {
         "hovertemplate": "2024-04-17 - 15:00:00 - 16:00:00",
         "line": {
          "color": "blue",
          "width": 7
         },
         "mode": "lines",
         "showlegend": false,
         "type": "scatter",
         "x": [
          15,
          16
         ],
         "y": [
          185,
          185
         ]
        },
        {
         "hovertemplate": "2024-04-17 - 18:07:00 - 18:59:00",
         "line": {
          "color": "blue",
          "width": 7
         },
         "mode": "lines",
         "showlegend": false,
         "type": "scatter",
         "x": [
          18.116666666666667,
          18.983333333333334
         ],
         "y": [
          185,
          185
         ]
        },
        {
         "hovertemplate": "2024-04-17 - 06:43:00 - 06:52:00",
         "line": {
          "color": "red",
          "width": 7
         },
         "mode": "lines",
         "showlegend": false,
         "type": "scatter",
         "x": [
          6.716666666666667,
          6.866666666666667
         ],
         "y": [
          185,
          185
         ]
        },
        {
         "hovertemplate": "2024-04-18 - 00:11:00 - 11:43:00",
         "line": {
          "color": "blue",
          "width": 7
         },
         "mode": "lines",
         "showlegend": false,
         "type": "scatter",
         "x": [
          0.18333333333333332,
          11.716666666666667
         ],
         "y": [
          186,
          186
         ]
        },
        {
         "hovertemplate": "2024-04-18 - 06:36:00 - 06:45:00",
         "line": {
          "color": "red",
          "width": 7
         },
         "mode": "lines",
         "showlegend": false,
         "type": "scatter",
         "x": [
          6.6,
          6.75
         ],
         "y": [
          186,
          186
         ]
        },
        {
         "hovertemplate": "2024-04-18 - 08:44:00 - 09:55:00",
         "line": {
          "color": "red",
          "width": 7
         },
         "mode": "lines",
         "showlegend": false,
         "type": "scatter",
         "x": [
          8.733333333333333,
          9.916666666666666
         ],
         "y": [
          186,
          186
         ]
        },
        {
         "hovertemplate": "2024-04-19 - 01:35:00 - 08:49:00",
         "line": {
          "color": "blue",
          "width": 7
         },
         "mode": "lines",
         "showlegend": false,
         "type": "scatter",
         "x": [
          1.5833333333333335,
          8.816666666666666
         ],
         "y": [
          187,
          187
         ]
        },
        {
         "hovertemplate": "2024-04-19 - 14:42:00 - 16:50:00",
         "line": {
          "color": "blue",
          "width": 7
         },
         "mode": "lines",
         "showlegend": false,
         "type": "scatter",
         "x": [
          14.7,
          16.833333333333332
         ],
         "y": [
          187,
          187
         ]
        },
        {
         "hovertemplate": "2024-04-19 - 19:28:00 - 20:01:00",
         "line": {
          "color": "blue",
          "width": 7
         },
         "mode": "lines",
         "showlegend": false,
         "type": "scatter",
         "x": [
          19.466666666666665,
          20.016666666666666
         ],
         "y": [
          187,
          187
         ]
        },
        {
         "hovertemplate": "2024-04-19 - 07:59:00 - 08:06:00",
         "line": {
          "color": "red",
          "width": 7
         },
         "mode": "lines",
         "showlegend": false,
         "type": "scatter",
         "x": [
          7.983333333333333,
          8.1
         ],
         "y": [
          187,
          187
         ]
        },
        {
         "hovertemplate": "2024-04-19 - 15:33:00 - 15:39:00",
         "line": {
          "color": "red",
          "width": 7
         },
         "mode": "lines",
         "showlegend": false,
         "type": "scatter",
         "x": [
          15.55,
          15.65
         ],
         "y": [
          187,
          187
         ]
        },
        {
         "hovertemplate": "2024-04-19 - 23:49:00 - 24:00:00",
         "line": {
          "color": "blue",
          "width": 7
         },
         "mode": "lines",
         "showlegend": false,
         "type": "scatter",
         "x": [
          23.816666666666666,
          24
         ],
         "y": [
          187,
          187
         ]
        },
        {
         "hovertemplate": "2024-04-20 - 00:00:00 - 10:57:00",
         "line": {
          "color": "blue",
          "width": 7
         },
         "mode": "lines",
         "showlegend": false,
         "type": "scatter",
         "x": [
          0,
          10.95
         ],
         "y": [
          188,
          188
         ]
        },
        {
         "hovertemplate": "2024-04-20 - 15:52:00 - 16:33:00",
         "line": {
          "color": "blue",
          "width": 7
         },
         "mode": "lines",
         "showlegend": false,
         "type": "scatter",
         "x": [
          15.866666666666667,
          16.55
         ],
         "y": [
          188,
          188
         ]
        },
        {
         "hovertemplate": "2024-04-20 - 08:05:00 - 08:12:00",
         "line": {
          "color": "red",
          "width": 7
         },
         "mode": "lines",
         "showlegend": false,
         "type": "scatter",
         "x": [
          8.083333333333334,
          8.2
         ],
         "y": [
          188,
          188
         ]
        },
        {
         "hovertemplate": "2024-04-20 - 09:43:00 - 10:14:00",
         "line": {
          "color": "red",
          "width": 7
         },
         "mode": "lines",
         "showlegend": false,
         "type": "scatter",
         "x": [
          9.716666666666667,
          10.233333333333333
         ],
         "y": [
          188,
          188
         ]
        },
        {
         "hovertemplate": "2024-04-21 - 00:25:00 - 09:47:00",
         "line": {
          "color": "blue",
          "width": 7
         },
         "mode": "lines",
         "showlegend": false,
         "type": "scatter",
         "x": [
          0.4166666666666667,
          9.783333333333333
         ],
         "y": [
          189,
          189
         ]
        },
        {
         "hovertemplate": "2024-04-21 - 20:25:00 - 21:11:00",
         "line": {
          "color": "blue",
          "width": 7
         },
         "mode": "lines",
         "showlegend": false,
         "type": "scatter",
         "x": [
          20.416666666666668,
          21.183333333333334
         ],
         "y": [
          189,
          189
         ]
        },
        {
         "hovertemplate": "2024-04-21 - 08:27:00 - 08:34:00",
         "line": {
          "color": "red",
          "width": 7
         },
         "mode": "lines",
         "showlegend": false,
         "type": "scatter",
         "x": [
          8.45,
          8.566666666666666
         ],
         "y": [
          189,
          189
         ]
        },
        {
         "hovertemplate": "2024-04-21 - 23:52:00 - 24:00:00",
         "line": {
          "color": "blue",
          "width": 7
         },
         "mode": "lines",
         "showlegend": false,
         "type": "scatter",
         "x": [
          23.866666666666667,
          24
         ],
         "y": [
          189,
          189
         ]
        },
        {
         "hovertemplate": "2024-04-22 - 00:00:00 - 09:29:00",
         "line": {
          "color": "blue",
          "width": 7
         },
         "mode": "lines",
         "showlegend": false,
         "type": "scatter",
         "x": [
          0,
          9.483333333333333
         ],
         "y": [
          190,
          190
         ]
        },
        {
         "hovertemplate": "2024-04-23 - 00:02:00 - 12:10:00",
         "line": {
          "color": "blue",
          "width": 7
         },
         "mode": "lines",
         "showlegend": false,
         "type": "scatter",
         "x": [
          0.03333333333333333,
          12.166666666666666
         ],
         "y": [
          191,
          191
         ]
        },
        {
         "hovertemplate": "2024-04-23 - 09:33:00 - 10:25:00",
         "line": {
          "color": "red",
          "width": 7
         },
         "mode": "lines",
         "showlegend": false,
         "type": "scatter",
         "x": [
          9.55,
          10.416666666666666
         ],
         "y": [
          191,
          191
         ]
        },
        {
         "hovertemplate": "2024-04-24 - 00:34:00 - 12:00:00",
         "line": {
          "color": "blue",
          "width": 7
         },
         "mode": "lines",
         "showlegend": false,
         "type": "scatter",
         "x": [
          0.5666666666666667,
          12
         ],
         "y": [
          192,
          192
         ]
        },
        {
         "hovertemplate": "2024-04-24 - 19:34:00 - 20:15:00",
         "line": {
          "color": "blue",
          "width": 7
         },
         "mode": "lines",
         "showlegend": false,
         "type": "scatter",
         "x": [
          19.566666666666666,
          20.25
         ],
         "y": [
          192,
          192
         ]
        },
        {
         "hovertemplate": "2024-04-24 - 07:08:00 - 08:08:00",
         "line": {
          "color": "red",
          "width": 7
         },
         "mode": "lines",
         "showlegend": false,
         "type": "scatter",
         "x": [
          7.133333333333334,
          8.133333333333333
         ],
         "y": [
          192,
          192
         ]
        },
        {
         "hovertemplate": "2024-04-24 - 09:24:00 - 11:02:00",
         "line": {
          "color": "red",
          "width": 7
         },
         "mode": "lines",
         "showlegend": false,
         "type": "scatter",
         "x": [
          9.4,
          11.033333333333333
         ],
         "y": [
          192,
          192
         ]
        },
        {
         "hovertemplate": "2024-04-24 - 23:36:00 - 24:00:00",
         "line": {
          "color": "blue",
          "width": 7
         },
         "mode": "lines",
         "showlegend": false,
         "type": "scatter",
         "x": [
          23.6,
          24
         ],
         "y": [
          192,
          192
         ]
        },
        {
         "hovertemplate": "2024-04-25 - 00:00:00 - 09:30:00",
         "line": {
          "color": "blue",
          "width": 7
         },
         "mode": "lines",
         "showlegend": false,
         "type": "scatter",
         "x": [
          0,
          9.5
         ],
         "y": [
          193,
          193
         ]
        },
        {
         "hovertemplate": "2024-04-25 - 21:25:00 - 24:00:00",
         "line": {
          "color": "blue",
          "width": 7
         },
         "mode": "lines",
         "showlegend": false,
         "type": "scatter",
         "x": [
          21.416666666666668,
          24
         ],
         "y": [
          193,
          193
         ]
        },
        {
         "hovertemplate": "2024-04-26 - 00:00:00 - 09:11:00",
         "line": {
          "color": "blue",
          "width": 7
         },
         "mode": "lines",
         "showlegend": false,
         "type": "scatter",
         "x": [
          0,
          9.183333333333334
         ],
         "y": [
          194,
          194
         ]
        },
        {
         "hovertemplate": "2024-04-26 - 14:35:00 - 15:54:00",
         "line": {
          "color": "blue",
          "width": 7
         },
         "mode": "lines",
         "showlegend": false,
         "type": "scatter",
         "x": [
          14.583333333333334,
          15.9
         ],
         "y": [
          194,
          194
         ]
        },
        {
         "hovertemplate": "2024-04-25 - 22:31:00 - 23:53:00",
         "line": {
          "color": "red",
          "width": 7
         },
         "mode": "lines",
         "showlegend": false,
         "type": "scatter",
         "x": [
          22.516666666666666,
          23.883333333333333
         ],
         "y": [
          193,
          193
         ]
        },
        {
         "hovertemplate": "2024-04-27 - 00:06:00 - 07:16:00",
         "line": {
          "color": "blue",
          "width": 7
         },
         "mode": "lines",
         "showlegend": false,
         "type": "scatter",
         "x": [
          0.1,
          7.266666666666667
         ],
         "y": [
          195,
          195
         ]
        },
        {
         "hovertemplate": "2024-04-27 - 14:59:00 - 16:02:00",
         "line": {
          "color": "blue",
          "width": 7
         },
         "mode": "lines",
         "showlegend": false,
         "type": "scatter",
         "x": [
          14.983333333333333,
          16.033333333333335
         ],
         "y": [
          195,
          195
         ]
        },
        {
         "hovertemplate": "2024-04-27 - 23:08:00 - 24:00:00",
         "line": {
          "color": "blue",
          "width": 7
         },
         "mode": "lines",
         "showlegend": false,
         "type": "scatter",
         "x": [
          23.133333333333333,
          24
         ],
         "y": [
          195,
          195
         ]
        },
        {
         "hovertemplate": "2024-04-28 - 00:00:00 - 07:16:00",
         "line": {
          "color": "blue",
          "width": 7
         },
         "mode": "lines",
         "showlegend": false,
         "type": "scatter",
         "x": [
          0,
          7.266666666666667
         ],
         "y": [
          196,
          196
         ]
        },
        {
         "hovertemplate": "2024-04-28 - 15:11:00 - 15:59:00",
         "line": {
          "color": "blue",
          "width": 7
         },
         "mode": "lines",
         "showlegend": false,
         "type": "scatter",
         "x": [
          15.183333333333334,
          15.983333333333333
         ],
         "y": [
          196,
          196
         ]
        },
        {
         "hovertemplate": "2024-04-28 - 23:43:00 - 24:00:00",
         "line": {
          "color": "blue",
          "width": 7
         },
         "mode": "lines",
         "showlegend": false,
         "type": "scatter",
         "x": [
          23.716666666666665,
          24
         ],
         "y": [
          196,
          196
         ]
        },
        {
         "hovertemplate": "2024-04-29 - 00:00:00 - 08:27:00",
         "line": {
          "color": "blue",
          "width": 7
         },
         "mode": "lines",
         "showlegend": false,
         "type": "scatter",
         "x": [
          0,
          8.45
         ],
         "y": [
          197,
          197
         ]
        },
        {
         "hovertemplate": "2024-04-29 - 21:38:00 - 24:00:00",
         "line": {
          "color": "blue",
          "width": 7
         },
         "mode": "lines",
         "showlegend": false,
         "type": "scatter",
         "x": [
          21.633333333333333,
          24
         ],
         "y": [
          197,
          197
         ]
        },
        {
         "hovertemplate": "2024-04-30 - 00:00:00 - 09:54:00",
         "line": {
          "color": "blue",
          "width": 7
         },
         "mode": "lines",
         "showlegend": false,
         "type": "scatter",
         "x": [
          0,
          9.9
         ],
         "y": [
          198,
          198
         ]
        },
        {
         "hovertemplate": "2024-04-30 - 07:37:00 - 09:13:00",
         "line": {
          "color": "red",
          "width": 7
         },
         "mode": "lines",
         "showlegend": false,
         "type": "scatter",
         "x": [
          7.616666666666667,
          9.216666666666667
         ],
         "y": [
          198,
          198
         ]
        },
        {
         "hovertemplate": "2024-05-01 - 00:21:00 - 10:35:00",
         "line": {
          "color": "blue",
          "width": 7
         },
         "mode": "lines",
         "showlegend": false,
         "type": "scatter",
         "x": [
          0.35,
          10.583333333333334
         ],
         "y": [
          199,
          199
         ]
        },
        {
         "hovertemplate": "2024-05-01 - 05:42:00 - 05:49:00",
         "line": {
          "color": "red",
          "width": 7
         },
         "mode": "lines",
         "showlegend": false,
         "type": "scatter",
         "x": [
          5.7,
          5.816666666666666
         ],
         "y": [
          199,
          199
         ]
        },
        {
         "hovertemplate": "2024-05-01 - 08:12:00 - 08:20:00",
         "line": {
          "color": "red",
          "width": 7
         },
         "mode": "lines",
         "showlegend": false,
         "type": "scatter",
         "x": [
          8.2,
          8.333333333333334
         ],
         "y": [
          199,
          199
         ]
        },
        {
         "hovertemplate": "2024-05-01 - 09:42:00 - 10:13:00",
         "line": {
          "color": "red",
          "width": 7
         },
         "mode": "lines",
         "showlegend": false,
         "type": "scatter",
         "x": [
          9.7,
          10.216666666666667
         ],
         "y": [
          199,
          199
         ]
        },
        {
         "hovertemplate": "2024-05-02 - 01:34:00 - 07:50:00",
         "line": {
          "color": "blue",
          "width": 7
         },
         "mode": "lines",
         "showlegend": false,
         "type": "scatter",
         "x": [
          1.5666666666666667,
          7.833333333333333
         ],
         "y": [
          200,
          200
         ]
        },
        {
         "hovertemplate": "2024-05-02 - 14:41:00 - 15:41:00",
         "line": {
          "color": "blue",
          "width": 7
         },
         "mode": "lines",
         "showlegend": false,
         "type": "scatter",
         "x": [
          14.683333333333334,
          15.683333333333334
         ],
         "y": [
          200,
          200
         ]
        },
        {
         "hovertemplate": "2024-05-03 - 00:55:00 - 07:04:00",
         "line": {
          "color": "blue",
          "width": 7
         },
         "mode": "lines",
         "showlegend": false,
         "type": "scatter",
         "x": [
          0.9166666666666666,
          7.066666666666666
         ],
         "y": [
          201,
          201
         ]
        },
        {
         "hovertemplate": "2024-05-03 - 23:47:00 - 24:00:00",
         "line": {
          "color": "blue",
          "width": 7
         },
         "mode": "lines",
         "showlegend": false,
         "type": "scatter",
         "x": [
          23.783333333333335,
          24
         ],
         "y": [
          201,
          201
         ]
        },
        {
         "hovertemplate": "2024-05-04 - 00:00:00 - 08:25:00",
         "line": {
          "color": "blue",
          "width": 7
         },
         "mode": "lines",
         "showlegend": false,
         "type": "scatter",
         "x": [
          0,
          8.416666666666666
         ],
         "y": [
          202,
          202
         ]
        },
        {
         "hovertemplate": "2024-05-05 - 00:45:00 - 09:17:00",
         "line": {
          "color": "blue",
          "width": 7
         },
         "mode": "lines",
         "showlegend": false,
         "type": "scatter",
         "x": [
          0.75,
          9.283333333333333
         ],
         "y": [
          203,
          203
         ]
        },
        {
         "hovertemplate": "2024-05-05 - 20:07:00 - 20:44:00",
         "line": {
          "color": "blue",
          "width": 7
         },
         "mode": "lines",
         "showlegend": false,
         "type": "scatter",
         "x": [
          20.116666666666667,
          20.733333333333334
         ],
         "y": [
          203,
          203
         ]
        },
        {
         "hovertemplate": "2024-05-06 - 00:35:00 - 08:58:00",
         "line": {
          "color": "blue",
          "width": 7
         },
         "mode": "lines",
         "showlegend": false,
         "type": "scatter",
         "x": [
          0.5833333333333334,
          8.966666666666667
         ],
         "y": [
          204,
          204
         ]
        },
        {
         "hovertemplate": "2024-05-07 - 00:16:00 - 09:45:00",
         "line": {
          "color": "blue",
          "width": 7
         },
         "mode": "lines",
         "showlegend": false,
         "type": "scatter",
         "x": [
          0.26666666666666666,
          9.75
         ],
         "y": [
          205,
          205
         ]
        },
        {
         "hovertemplate": "2024-05-08 - 00:05:00 - 07:51:00",
         "line": {
          "color": "blue",
          "width": 7
         },
         "mode": "lines",
         "showlegend": false,
         "type": "scatter",
         "x": [
          0.08333333333333333,
          7.85
         ],
         "y": [
          206,
          206
         ]
        },
        {
         "hovertemplate": "2024-05-08 - 14:55:00 - 15:49:00",
         "line": {
          "color": "blue",
          "width": 7
         },
         "mode": "lines",
         "showlegend": false,
         "type": "scatter",
         "x": [
          14.916666666666666,
          15.816666666666666
         ],
         "y": [
          206,
          206
         ]
        },
        {
         "hovertemplate": "2024-05-09 - 00:00:00 - 09:25:00",
         "line": {
          "color": "blue",
          "width": 7
         },
         "mode": "lines",
         "showlegend": false,
         "type": "scatter",
         "x": [
          0,
          9.416666666666666
         ],
         "y": [
          207,
          207
         ]
        },
        {
         "hovertemplate": "2024-05-09 - 16:12:00 - 17:44:00",
         "line": {
          "color": "blue",
          "width": 7
         },
         "mode": "lines",
         "showlegend": false,
         "type": "scatter",
         "x": [
          16.2,
          17.733333333333334
         ],
         "y": [
          207,
          207
         ]
        },
        {
         "hovertemplate": "2024-05-09 - 06:12:00 - 06:19:00",
         "line": {
          "color": "red",
          "width": 7
         },
         "mode": "lines",
         "showlegend": false,
         "type": "scatter",
         "x": [
          6.2,
          6.316666666666666
         ],
         "y": [
          207,
          207
         ]
        },
        {
         "hovertemplate": "2024-05-10 - 00:35:00 - 09:25:00",
         "line": {
          "color": "blue",
          "width": 7
         },
         "mode": "lines",
         "showlegend": false,
         "type": "scatter",
         "x": [
          0.5833333333333334,
          9.416666666666666
         ],
         "y": [
          208,
          208
         ]
        },
        {
         "hovertemplate": "2024-05-10 - 16:18:00 - 17:24:00",
         "line": {
          "color": "blue",
          "width": 7
         },
         "mode": "lines",
         "showlegend": false,
         "type": "scatter",
         "x": [
          16.3,
          17.4
         ],
         "y": [
          208,
          208
         ]
        },
        {
         "hovertemplate": "2024-05-11 - 00:21:00 - 11:04:00",
         "line": {
          "color": "blue",
          "width": 7
         },
         "mode": "lines",
         "showlegend": false,
         "type": "scatter",
         "x": [
          0.35,
          11.066666666666666
         ],
         "y": [
          209,
          209
         ]
        },
        {
         "hovertemplate": "2024-05-11 - 14:46:00 - 16:59:00",
         "line": {
          "color": "blue",
          "width": 7
         },
         "mode": "lines",
         "showlegend": false,
         "type": "scatter",
         "x": [
          14.766666666666667,
          16.983333333333334
         ],
         "y": [
          209,
          209
         ]
        },
        {
         "hovertemplate": "2024-05-11 - 23:36:00 - 24:00:00",
         "line": {
          "color": "blue",
          "width": 7
         },
         "mode": "lines",
         "showlegend": false,
         "type": "scatter",
         "x": [
          23.6,
          24
         ],
         "y": [
          209,
          209
         ]
        },
        {
         "hovertemplate": "2024-05-12 - 00:00:00 - 08:35:00",
         "line": {
          "color": "blue",
          "width": 7
         },
         "mode": "lines",
         "showlegend": false,
         "type": "scatter",
         "x": [
          0,
          8.583333333333334
         ],
         "y": [
          210,
          210
         ]
        },
        {
         "hovertemplate": "2024-05-12 - 15:56:00 - 18:41:00",
         "line": {
          "color": "blue",
          "width": 7
         },
         "mode": "lines",
         "showlegend": false,
         "type": "scatter",
         "x": [
          15.933333333333334,
          18.683333333333334
         ],
         "y": [
          210,
          210
         ]
        },
        {
         "hovertemplate": "2024-05-13 - 00:09:00 - 08:28:00",
         "line": {
          "color": "blue",
          "width": 7
         },
         "mode": "lines",
         "showlegend": false,
         "type": "scatter",
         "x": [
          0.15,
          8.466666666666667
         ],
         "y": [
          211,
          211
         ]
        },
        {
         "hovertemplate": "2024-05-13 - 16:11:00 - 17:00:00",
         "line": {
          "color": "blue",
          "width": 7
         },
         "mode": "lines",
         "showlegend": false,
         "type": "scatter",
         "x": [
          16.183333333333334,
          17
         ],
         "y": [
          211,
          211
         ]
        },
        {
         "hovertemplate": "2024-05-14 - 00:33:00 - 08:55:00",
         "line": {
          "color": "blue",
          "width": 7
         },
         "mode": "lines",
         "showlegend": false,
         "type": "scatter",
         "x": [
          0.55,
          8.916666666666666
         ],
         "y": [
          212,
          212
         ]
        },
        {
         "hovertemplate": "2024-05-14 - 14:26:00 - 16:41:00",
         "line": {
          "color": "blue",
          "width": 7
         },
         "mode": "lines",
         "showlegend": false,
         "type": "scatter",
         "x": [
          14.433333333333334,
          16.683333333333334
         ],
         "y": [
          212,
          212
         ]
        },
        {
         "hovertemplate": "2024-05-14 - 23:50:00 - 24:00:00",
         "line": {
          "color": "blue",
          "width": 7
         },
         "mode": "lines",
         "showlegend": false,
         "type": "scatter",
         "x": [
          23.833333333333332,
          24
         ],
         "y": [
          212,
          212
         ]
        },
        {
         "hovertemplate": "2024-05-15 - 00:00:00 - 10:46:00",
         "line": {
          "color": "blue",
          "width": 7
         },
         "mode": "lines",
         "showlegend": false,
         "type": "scatter",
         "x": [
          0,
          10.766666666666667
         ],
         "y": [
          213,
          213
         ]
        },
        {
         "hovertemplate": "2024-05-15 - 15:26:00 - 16:18:00",
         "line": {
          "color": "blue",
          "width": 7
         },
         "mode": "lines",
         "showlegend": false,
         "type": "scatter",
         "x": [
          15.433333333333334,
          16.3
         ],
         "y": [
          213,
          213
         ]
        },
        {
         "hovertemplate": "2024-05-16 - 00:15:00 - 10:02:00",
         "line": {
          "color": "blue",
          "width": 7
         },
         "mode": "lines",
         "showlegend": false,
         "type": "scatter",
         "x": [
          0.25,
          10.033333333333333
         ],
         "y": [
          214,
          214
         ]
        },
        {
         "hovertemplate": "2024-05-17 - 00:28:00 - 09:07:00",
         "line": {
          "color": "blue",
          "width": 7
         },
         "mode": "lines",
         "showlegend": false,
         "type": "scatter",
         "x": [
          0.4666666666666667,
          9.116666666666667
         ],
         "y": [
          215,
          215
         ]
        },
        {
         "hovertemplate": "2024-05-17 - 15:10:00 - 16:57:00",
         "line": {
          "color": "blue",
          "width": 7
         },
         "mode": "lines",
         "showlegend": false,
         "type": "scatter",
         "x": [
          15.166666666666666,
          16.95
         ],
         "y": [
          215,
          215
         ]
        },
        {
         "hovertemplate": "2024-05-18 - 00:07:00 - 08:41:00",
         "line": {
          "color": "blue",
          "width": 7
         },
         "mode": "lines",
         "showlegend": false,
         "type": "scatter",
         "x": [
          0.11666666666666667,
          8.683333333333334
         ],
         "y": [
          216,
          216
         ]
        },
        {
         "hovertemplate": "2024-05-18 - 13:04:00 - 15:12:00",
         "line": {
          "color": "blue",
          "width": 7
         },
         "mode": "lines",
         "showlegend": false,
         "type": "scatter",
         "x": [
          13.066666666666666,
          15.2
         ],
         "y": [
          216,
          216
         ]
        },
        {
         "hovertemplate": "2024-05-19 - 00:35:00 - 09:53:00",
         "line": {
          "color": "blue",
          "width": 7
         },
         "mode": "lines",
         "showlegend": false,
         "type": "scatter",
         "x": [
          0.5833333333333334,
          9.883333333333333
         ],
         "y": [
          217,
          217
         ]
        },
        {
         "hovertemplate": "2024-05-19 - 14:19:00 - 15:54:00",
         "line": {
          "color": "blue",
          "width": 7
         },
         "mode": "lines",
         "showlegend": false,
         "type": "scatter",
         "x": [
          14.316666666666666,
          15.9
         ],
         "y": [
          217,
          217
         ]
        },
        {
         "hovertemplate": "2024-05-19 - 08:59:00 - 09:33:00",
         "line": {
          "color": "red",
          "width": 7
         },
         "mode": "lines",
         "showlegend": false,
         "type": "scatter",
         "x": [
          8.983333333333333,
          9.55
         ],
         "y": [
          217,
          217
         ]
        },
        {
         "hovertemplate": "2024-05-19 - 15:03:00 - 15:09:00",
         "line": {
          "color": "red",
          "width": 7
         },
         "mode": "lines",
         "showlegend": false,
         "type": "scatter",
         "x": [
          15.05,
          15.15
         ],
         "y": [
          217,
          217
         ]
        },
        {
         "hovertemplate": "2024-05-19 - 23:21:00 - 24:00:00",
         "line": {
          "color": "blue",
          "width": 7
         },
         "mode": "lines",
         "showlegend": false,
         "type": "scatter",
         "x": [
          23.35,
          24
         ],
         "y": [
          217,
          217
         ]
        },
        {
         "hovertemplate": "2024-05-20 - 00:00:00 - 08:41:00",
         "line": {
          "color": "blue",
          "width": 7
         },
         "mode": "lines",
         "showlegend": false,
         "type": "scatter",
         "x": [
          0,
          8.683333333333334
         ],
         "y": [
          218,
          218
         ]
        },
        {
         "hovertemplate": "2024-05-20 - 13:46:00 - 15:14:00",
         "line": {
          "color": "blue",
          "width": 7
         },
         "mode": "lines",
         "showlegend": false,
         "type": "scatter",
         "x": [
          13.766666666666667,
          15.233333333333333
         ],
         "y": [
          218,
          218
         ]
        },
        {
         "hovertemplate": "2024-05-20 - 23:27:00 - 24:00:00",
         "line": {
          "color": "blue",
          "width": 7
         },
         "mode": "lines",
         "showlegend": false,
         "type": "scatter",
         "x": [
          23.45,
          24
         ],
         "y": [
          218,
          218
         ]
        },
        {
         "hovertemplate": "2024-05-21 - 00:00:00 - 09:57:00",
         "line": {
          "color": "blue",
          "width": 7
         },
         "mode": "lines",
         "showlegend": false,
         "type": "scatter",
         "x": [
          0,
          9.95
         ],
         "y": [
          219,
          219
         ]
        },
        {
         "hovertemplate": "2024-05-21 - 23:26:00 - 24:00:00",
         "line": {
          "color": "blue",
          "width": 7
         },
         "mode": "lines",
         "showlegend": false,
         "type": "scatter",
         "x": [
          23.433333333333334,
          24
         ],
         "y": [
          219,
          219
         ]
        },
        {
         "hovertemplate": "2024-05-22 - 00:00:00 - 07:24:00",
         "line": {
          "color": "blue",
          "width": 7
         },
         "mode": "lines",
         "showlegend": false,
         "type": "scatter",
         "x": [
          0,
          7.4
         ],
         "y": [
          220,
          220
         ]
        },
        {
         "hovertemplate": "2024-05-22 - 14:00:00 - 16:10:00",
         "line": {
          "color": "blue",
          "width": 7
         },
         "mode": "lines",
         "showlegend": false,
         "type": "scatter",
         "x": [
          14,
          16.166666666666668
         ],
         "y": [
          220,
          220
         ]
        },
        {
         "hovertemplate": "2024-05-23 - 00:46:00 - 09:56:00",
         "line": {
          "color": "blue",
          "width": 7
         },
         "mode": "lines",
         "showlegend": false,
         "type": "scatter",
         "x": [
          0.7666666666666667,
          9.933333333333334
         ],
         "y": [
          221,
          221
         ]
        },
        {
         "hovertemplate": "2024-05-23 - 07:38:00 - 08:13:00",
         "line": {
          "color": "red",
          "width": 7
         },
         "mode": "lines",
         "showlegend": false,
         "type": "scatter",
         "x": [
          7.633333333333333,
          8.216666666666667
         ],
         "y": [
          221,
          221
         ]
        },
        {
         "hovertemplate": "2024-05-24 - 00:13:00 - 08:36:00",
         "line": {
          "color": "blue",
          "width": 7
         },
         "mode": "lines",
         "showlegend": false,
         "type": "scatter",
         "x": [
          0.21666666666666667,
          8.6
         ],
         "y": [
          222,
          222
         ]
        },
        {
         "hovertemplate": "2024-05-24 - 13:47:00 - 14:49:00",
         "line": {
          "color": "blue",
          "width": 7
         },
         "mode": "lines",
         "showlegend": false,
         "type": "scatter",
         "x": [
          13.783333333333333,
          14.816666666666666
         ],
         "y": [
          222,
          222
         ]
        },
        {
         "hovertemplate": "2024-05-24 - 20:19:00 - 21:08:00",
         "line": {
          "color": "blue",
          "width": 7
         },
         "mode": "lines",
         "showlegend": false,
         "type": "scatter",
         "x": [
          20.316666666666666,
          21.133333333333333
         ],
         "y": [
          222,
          222
         ]
        },
        {
         "hovertemplate": "2024-05-24 - 01:11:00 - 01:49:00",
         "line": {
          "color": "red",
          "width": 7
         },
         "mode": "lines",
         "showlegend": false,
         "type": "scatter",
         "x": [
          1.1833333333333333,
          1.8166666666666667
         ],
         "y": [
          222,
          222
         ]
        },
        {
         "hovertemplate": "2024-05-25 - 00:27:00 - 09:18:00",
         "line": {
          "color": "blue",
          "width": 7
         },
         "mode": "lines",
         "showlegend": false,
         "type": "scatter",
         "x": [
          0.45,
          9.3
         ],
         "y": [
          223,
          223
         ]
        },
        {
         "hovertemplate": "2024-05-25 - 14:37:00 - 16:06:00",
         "line": {
          "color": "blue",
          "width": 7
         },
         "mode": "lines",
         "showlegend": false,
         "type": "scatter",
         "x": [
          14.616666666666667,
          16.1
         ],
         "y": [
          223,
          223
         ]
        },
        {
         "hovertemplate": "2024-05-25 - 08:10:00 - 08:18:00",
         "line": {
          "color": "red",
          "width": 7
         },
         "mode": "lines",
         "showlegend": false,
         "type": "scatter",
         "x": [
          8.166666666666666,
          8.3
         ],
         "y": [
          223,
          223
         ]
        },
        {
         "hovertemplate": "2024-05-25 - 23:26:00 - 24:00:00",
         "line": {
          "color": "blue",
          "width": 7
         },
         "mode": "lines",
         "showlegend": false,
         "type": "scatter",
         "x": [
          23.433333333333334,
          24
         ],
         "y": [
          223,
          223
         ]
        },
        {
         "hovertemplate": "2024-05-26 - 00:00:00 - 06:18:00",
         "line": {
          "color": "blue",
          "width": 7
         },
         "mode": "lines",
         "showlegend": false,
         "type": "scatter",
         "x": [
          0,
          6.3
         ],
         "y": [
          224,
          224
         ]
        },
        {
         "hovertemplate": "2024-05-26 - 11:38:00 - 11:56:00",
         "line": {
          "color": "blue",
          "width": 7
         },
         "mode": "lines",
         "showlegend": false,
         "type": "scatter",
         "x": [
          11.633333333333333,
          11.933333333333334
         ],
         "y": [
          224,
          224
         ]
        },
        {
         "hovertemplate": "2024-05-26 - 23:45:00 - 24:00:00",
         "line": {
          "color": "blue",
          "width": 7
         },
         "mode": "lines",
         "showlegend": false,
         "type": "scatter",
         "x": [
          23.75,
          24
         ],
         "y": [
          224,
          224
         ]
        },
        {
         "hovertemplate": "2024-05-27 - 00:00:00 - 08:31:00",
         "line": {
          "color": "blue",
          "width": 7
         },
         "mode": "lines",
         "showlegend": false,
         "type": "scatter",
         "x": [
          0,
          8.516666666666667
         ],
         "y": [
          225,
          225
         ]
        },
        {
         "hovertemplate": "2024-05-27 - 14:24:00 - 15:14:00",
         "line": {
          "color": "blue",
          "width": 7
         },
         "mode": "lines",
         "showlegend": false,
         "type": "scatter",
         "x": [
          14.4,
          15.233333333333333
         ],
         "y": [
          225,
          225
         ]
        },
        {
         "hovertemplate": "2024-05-27 - 23:13:00 - 24:00:00",
         "line": {
          "color": "blue",
          "width": 7
         },
         "mode": "lines",
         "showlegend": false,
         "type": "scatter",
         "x": [
          23.216666666666665,
          24
         ],
         "y": [
          225,
          225
         ]
        },
        {
         "hovertemplate": "2024-05-28 - 00:00:00 - 09:24:00",
         "line": {
          "color": "blue",
          "width": 7
         },
         "mode": "lines",
         "showlegend": false,
         "type": "scatter",
         "x": [
          0,
          9.4
         ],
         "y": [
          226,
          226
         ]
        },
        {
         "hovertemplate": "2024-05-28 - 13:53:00 - 14:57:00",
         "line": {
          "color": "blue",
          "width": 7
         },
         "mode": "lines",
         "showlegend": false,
         "type": "scatter",
         "x": [
          13.883333333333333,
          14.95
         ],
         "y": [
          226,
          226
         ]
        },
        {
         "hovertemplate": "2024-05-28 - 06:17:00 - 07:19:00",
         "line": {
          "color": "red",
          "width": 7
         },
         "mode": "lines",
         "showlegend": false,
         "type": "scatter",
         "x": [
          6.283333333333333,
          7.316666666666666
         ],
         "y": [
          226,
          226
         ]
        },
        {
         "hovertemplate": "2024-05-28 - 23:37:00 - 24:00:00",
         "line": {
          "color": "blue",
          "width": 7
         },
         "mode": "lines",
         "showlegend": false,
         "type": "scatter",
         "x": [
          23.616666666666667,
          24
         ],
         "y": [
          226,
          226
         ]
        },
        {
         "hovertemplate": "2024-05-29 - 00:00:00 - 08:38:00",
         "line": {
          "color": "blue",
          "width": 7
         },
         "mode": "lines",
         "showlegend": false,
         "type": "scatter",
         "x": [
          0,
          8.633333333333333
         ],
         "y": [
          227,
          227
         ]
        },
        {
         "hovertemplate": "2024-05-29 - 13:56:00 - 15:03:00",
         "line": {
          "color": "blue",
          "width": 7
         },
         "mode": "lines",
         "showlegend": false,
         "type": "scatter",
         "x": [
          13.933333333333334,
          15.05
         ],
         "y": [
          227,
          227
         ]
        },
        {
         "hovertemplate": "2024-05-29 - 07:05:00 - 07:27:00",
         "line": {
          "color": "red",
          "width": 7
         },
         "mode": "lines",
         "showlegend": false,
         "type": "scatter",
         "x": [
          7.083333333333333,
          7.45
         ],
         "y": [
          227,
          227
         ]
        },
        {
         "hovertemplate": "2024-05-30 - 00:29:00 - 08:23:00",
         "line": {
          "color": "blue",
          "width": 7
         },
         "mode": "lines",
         "showlegend": false,
         "type": "scatter",
         "x": [
          0.48333333333333334,
          8.383333333333333
         ],
         "y": [
          228,
          228
         ]
        },
        {
         "hovertemplate": "2024-05-30 - 15:31:00 - 16:57:00",
         "line": {
          "color": "blue",
          "width": 7
         },
         "mode": "lines",
         "showlegend": false,
         "type": "scatter",
         "x": [
          15.516666666666667,
          16.95
         ],
         "y": [
          228,
          228
         ]
        },
        {
         "hovertemplate": "2024-05-31 - 00:17:00 - 08:30:00",
         "line": {
          "color": "blue",
          "width": 7
         },
         "mode": "lines",
         "showlegend": false,
         "type": "scatter",
         "x": [
          0.2833333333333333,
          8.5
         ],
         "y": [
          229,
          229
         ]
        },
        {
         "hovertemplate": "2024-05-31 - 15:03:00 - 17:30:00",
         "line": {
          "color": "blue",
          "width": 7
         },
         "mode": "lines",
         "showlegend": false,
         "type": "scatter",
         "x": [
          15.05,
          17.5
         ],
         "y": [
          229,
          229
         ]
        },
        {
         "hovertemplate": "2024-05-31 - 07:03:00 - 07:51:00",
         "line": {
          "color": "red",
          "width": 7
         },
         "mode": "lines",
         "showlegend": false,
         "type": "scatter",
         "x": [
          7.05,
          7.85
         ],
         "y": [
          229,
          229
         ]
        },
        {
         "hovertemplate": "2024-05-31 - 23:02:00 - 24:00:00",
         "line": {
          "color": "blue",
          "width": 7
         },
         "mode": "lines",
         "showlegend": false,
         "type": "scatter",
         "x": [
          23.033333333333335,
          24
         ],
         "y": [
          229,
          229
         ]
        },
        {
         "hovertemplate": "2024-06-01 - 00:00:00 - 06:39:00",
         "line": {
          "color": "blue",
          "width": 7
         },
         "mode": "lines",
         "showlegend": false,
         "type": "scatter",
         "x": [
          0,
          6.65
         ],
         "y": [
          230,
          230
         ]
        },
        {
         "hovertemplate": "2024-06-01 - 05:13:00 - 05:26:00",
         "line": {
          "color": "red",
          "width": 7
         },
         "mode": "lines",
         "showlegend": false,
         "type": "scatter",
         "x": [
          5.216666666666667,
          5.433333333333334
         ],
         "y": [
          230,
          230
         ]
        },
        {
         "hovertemplate": "2024-06-01 - 23:49:00 - 24:00:00",
         "line": {
          "color": "blue",
          "width": 7
         },
         "mode": "lines",
         "showlegend": false,
         "type": "scatter",
         "x": [
          23.816666666666666,
          24
         ],
         "y": [
          230,
          230
         ]
        },
        {
         "hovertemplate": "2024-06-02 - 00:00:00 - 09:30:00",
         "line": {
          "color": "blue",
          "width": 7
         },
         "mode": "lines",
         "showlegend": false,
         "type": "scatter",
         "x": [
          0,
          9.5
         ],
         "y": [
          231,
          231
         ]
        },
        {
         "hovertemplate": "2024-06-02 - 06:30:00 - 07:42:00",
         "line": {
          "color": "red",
          "width": 7
         },
         "mode": "lines",
         "showlegend": false,
         "type": "scatter",
         "x": [
          6.5,
          7.7
         ],
         "y": [
          231,
          231
         ]
        },
        {
         "hovertemplate": "2024-06-02 - 23:56:00 - 24:00:00",
         "line": {
          "color": "blue",
          "width": 7
         },
         "mode": "lines",
         "showlegend": false,
         "type": "scatter",
         "x": [
          23.933333333333334,
          24
         ],
         "y": [
          231,
          231
         ]
        },
        {
         "hovertemplate": "2024-06-03 - 00:00:00 - 09:28:00",
         "line": {
          "color": "blue",
          "width": 7
         },
         "mode": "lines",
         "showlegend": false,
         "type": "scatter",
         "x": [
          0,
          9.466666666666667
         ],
         "y": [
          232,
          232
         ]
        },
        {
         "hovertemplate": "2024-06-03 - 07:08:00 - 07:48:00",
         "line": {
          "color": "red",
          "width": 7
         },
         "mode": "lines",
         "showlegend": false,
         "type": "scatter",
         "x": [
          7.133333333333334,
          7.8
         ],
         "y": [
          232,
          232
         ]
        },
        {
         "hovertemplate": "2024-06-03 - 08:26:00 - 08:43:00",
         "line": {
          "color": "red",
          "width": 7
         },
         "mode": "lines",
         "showlegend": false,
         "type": "scatter",
         "x": [
          8.433333333333334,
          8.716666666666667
         ],
         "y": [
          232,
          232
         ]
        },
        {
         "hovertemplate": "2024-06-03 - 23:34:00 - 24:00:00",
         "line": {
          "color": "blue",
          "width": 7
         },
         "mode": "lines",
         "showlegend": false,
         "type": "scatter",
         "x": [
          23.566666666666666,
          24
         ],
         "y": [
          232,
          232
         ]
        },
        {
         "hovertemplate": "2024-06-04 - 00:00:00 - 08:58:00",
         "line": {
          "color": "blue",
          "width": 7
         },
         "mode": "lines",
         "showlegend": false,
         "type": "scatter",
         "x": [
          0,
          8.966666666666667
         ],
         "y": [
          233,
          233
         ]
        },
        {
         "hovertemplate": "2024-06-04 - 14:45:00 - 15:44:00",
         "line": {
          "color": "blue",
          "width": 7
         },
         "mode": "lines",
         "showlegend": false,
         "type": "scatter",
         "x": [
          14.75,
          15.733333333333333
         ],
         "y": [
          233,
          233
         ]
        },
        {
         "hovertemplate": "2024-06-04 - 23:43:00 - 24:00:00",
         "line": {
          "color": "blue",
          "width": 7
         },
         "mode": "lines",
         "showlegend": false,
         "type": "scatter",
         "x": [
          23.716666666666665,
          24
         ],
         "y": [
          233,
          233
         ]
        },
        {
         "hovertemplate": "2024-06-05 - 00:00:00 - 09:56:00",
         "line": {
          "color": "blue",
          "width": 7
         },
         "mode": "lines",
         "showlegend": false,
         "type": "scatter",
         "x": [
          0,
          9.933333333333334
         ],
         "y": [
          234,
          234
         ]
        },
        {
         "hovertemplate": "2024-06-05 - 23:24:00 - 24:00:00",
         "line": {
          "color": "blue",
          "width": 7
         },
         "mode": "lines",
         "showlegend": false,
         "type": "scatter",
         "x": [
          23.4,
          24
         ],
         "y": [
          234,
          234
         ]
        },
        {
         "hovertemplate": "2024-06-06 - 00:00:00 - 09:45:00",
         "line": {
          "color": "blue",
          "width": 7
         },
         "mode": "lines",
         "showlegend": false,
         "type": "scatter",
         "x": [
          0,
          9.75
         ],
         "y": [
          235,
          235
         ]
        },
        {
         "hovertemplate": "2024-06-06 - 08:21:00 - 08:31:00",
         "line": {
          "color": "red",
          "width": 7
         },
         "mode": "lines",
         "showlegend": false,
         "type": "scatter",
         "x": [
          8.35,
          8.516666666666667
         ],
         "y": [
          235,
          235
         ]
        },
        {
         "hovertemplate": "2024-06-07 - 01:56:00 - 09:03:00",
         "line": {
          "color": "blue",
          "width": 7
         },
         "mode": "lines",
         "showlegend": false,
         "type": "scatter",
         "x": [
          1.9333333333333333,
          9.05
         ],
         "y": [
          236,
          236
         ]
        },
        {
         "hovertemplate": "2024-06-07 - 14:51:00 - 16:59:00",
         "line": {
          "color": "blue",
          "width": 7
         },
         "mode": "lines",
         "showlegend": false,
         "type": "scatter",
         "x": [
          14.85,
          16.983333333333334
         ],
         "y": [
          236,
          236
         ]
        },
        {
         "hovertemplate": "2024-06-07 - 07:35:00 - 08:32:00",
         "line": {
          "color": "red",
          "width": 7
         },
         "mode": "lines",
         "showlegend": false,
         "type": "scatter",
         "x": [
          7.583333333333333,
          8.533333333333333
         ],
         "y": [
          236,
          236
         ]
        },
        {
         "hovertemplate": "2024-06-08 - 00:40:00 - 10:29:00",
         "line": {
          "color": "blue",
          "width": 7
         },
         "mode": "lines",
         "showlegend": false,
         "type": "scatter",
         "x": [
          0.6666666666666666,
          10.483333333333333
         ],
         "y": [
          237,
          237
         ]
        },
        {
         "hovertemplate": "2024-06-08 - 14:31:00 - 16:15:00",
         "line": {
          "color": "blue",
          "width": 7
         },
         "mode": "lines",
         "showlegend": false,
         "type": "scatter",
         "x": [
          14.516666666666667,
          16.25
         ],
         "y": [
          237,
          237
         ]
        },
        {
         "hovertemplate": "2024-06-09 - 00:02:00 - 08:53:00",
         "line": {
          "color": "blue",
          "width": 7
         },
         "mode": "lines",
         "showlegend": false,
         "type": "scatter",
         "x": [
          0.03333333333333333,
          8.883333333333333
         ],
         "y": [
          238,
          238
         ]
        },
        {
         "hovertemplate": "2024-06-09 - 07:17:00 - 07:36:00",
         "line": {
          "color": "red",
          "width": 7
         },
         "mode": "lines",
         "showlegend": false,
         "type": "scatter",
         "x": [
          7.283333333333333,
          7.6
         ],
         "y": [
          238,
          238
         ]
        },
        {
         "hovertemplate": "2024-06-10 - 00:24:00 - 08:39:00",
         "line": {
          "color": "blue",
          "width": 7
         },
         "mode": "lines",
         "showlegend": false,
         "type": "scatter",
         "x": [
          0.4,
          8.65
         ],
         "y": [
          239,
          239
         ]
        },
        {
         "hovertemplate": "2024-06-10 - 23:12:00 - 24:00:00",
         "line": {
          "color": "blue",
          "width": 7
         },
         "mode": "lines",
         "showlegend": false,
         "type": "scatter",
         "x": [
          23.2,
          24
         ],
         "y": [
          239,
          239
         ]
        },
        {
         "hovertemplate": "2024-06-11 - 00:00:00 - 09:25:00",
         "line": {
          "color": "blue",
          "width": 7
         },
         "mode": "lines",
         "showlegend": false,
         "type": "scatter",
         "x": [
          0,
          9.416666666666666
         ],
         "y": [
          240,
          240
         ]
        },
        {
         "hovertemplate": "2024-06-12 - 00:57:00 - 09:13:00",
         "line": {
          "color": "blue",
          "width": 7
         },
         "mode": "lines",
         "showlegend": false,
         "type": "scatter",
         "x": [
          0.95,
          9.216666666666667
         ],
         "y": [
          241,
          241
         ]
        },
        {
         "hovertemplate": "2024-06-12 - 23:45:00 - 24:00:00",
         "line": {
          "color": "blue",
          "width": 7
         },
         "mode": "lines",
         "showlegend": false,
         "type": "scatter",
         "x": [
          23.75,
          24
         ],
         "y": [
          241,
          241
         ]
        },
        {
         "hovertemplate": "2024-06-13 - 00:00:00 - 08:04:00",
         "line": {
          "color": "blue",
          "width": 7
         },
         "mode": "lines",
         "showlegend": false,
         "type": "scatter",
         "x": [
          0,
          8.066666666666666
         ],
         "y": [
          242,
          242
         ]
        },
        {
         "hovertemplate": "2024-06-13 - 15:39:00 - 17:11:00",
         "line": {
          "color": "blue",
          "width": 7
         },
         "mode": "lines",
         "showlegend": false,
         "type": "scatter",
         "x": [
          15.65,
          17.183333333333334
         ],
         "y": [
          242,
          242
         ]
        },
        {
         "hovertemplate": "2024-06-14 - 00:53:00 - 08:03:00",
         "line": {
          "color": "blue",
          "width": 7
         },
         "mode": "lines",
         "showlegend": false,
         "type": "scatter",
         "x": [
          0.8833333333333333,
          8.05
         ],
         "y": [
          243,
          243
         ]
        },
        {
         "hovertemplate": "2024-06-14 - 13:17:00 - 14:33:00",
         "line": {
          "color": "blue",
          "width": 7
         },
         "mode": "lines",
         "showlegend": false,
         "type": "scatter",
         "x": [
          13.283333333333333,
          14.55
         ],
         "y": [
          243,
          243
         ]
        },
        {
         "hovertemplate": "2024-06-14 - 23:56:00 - 24:00:00",
         "line": {
          "color": "blue",
          "width": 7
         },
         "mode": "lines",
         "showlegend": false,
         "type": "scatter",
         "x": [
          23.933333333333334,
          24
         ],
         "y": [
          243,
          243
         ]
        },
        {
         "hovertemplate": "2024-06-15 - 00:00:00 - 09:11:00",
         "line": {
          "color": "blue",
          "width": 7
         },
         "mode": "lines",
         "showlegend": false,
         "type": "scatter",
         "x": [
          0,
          9.183333333333334
         ],
         "y": [
          244,
          244
         ]
        },
        {
         "hovertemplate": "2024-06-15 - 16:12:00 - 18:34:00",
         "line": {
          "color": "blue",
          "width": 7
         },
         "mode": "lines",
         "showlegend": false,
         "type": "scatter",
         "x": [
          16.2,
          18.566666666666666
         ],
         "y": [
          244,
          244
         ]
        },
        {
         "hovertemplate": "2024-06-15 - 07:38:00 - 08:01:00",
         "line": {
          "color": "red",
          "width": 7
         },
         "mode": "lines",
         "showlegend": false,
         "type": "scatter",
         "x": [
          7.633333333333333,
          8.016666666666667
         ],
         "y": [
          244,
          244
         ]
        },
        {
         "hovertemplate": "2024-06-16 - 00:29:00 - 10:53:00",
         "line": {
          "color": "blue",
          "width": 7
         },
         "mode": "lines",
         "showlegend": false,
         "type": "scatter",
         "x": [
          0.48333333333333334,
          10.883333333333333
         ],
         "y": [
          245,
          245
         ]
        },
        {
         "hovertemplate": "2024-06-17 - 00:45:00 - 09:03:00",
         "line": {
          "color": "blue",
          "width": 7
         },
         "mode": "lines",
         "showlegend": false,
         "type": "scatter",
         "x": [
          0.75,
          9.05
         ],
         "y": [
          246,
          246
         ]
        },
        {
         "hovertemplate": "2024-06-17 - 23:24:00 - 24:00:00",
         "line": {
          "color": "blue",
          "width": 7
         },
         "mode": "lines",
         "showlegend": false,
         "type": "scatter",
         "x": [
          23.4,
          24
         ],
         "y": [
          246,
          246
         ]
        },
        {
         "hovertemplate": "2024-06-18 - 00:00:00 - 09:25:00",
         "line": {
          "color": "blue",
          "width": 7
         },
         "mode": "lines",
         "showlegend": false,
         "type": "scatter",
         "x": [
          0,
          9.416666666666666
         ],
         "y": [
          247,
          247
         ]
        },
        {
         "hovertemplate": "2024-06-18 - 14:39:00 - 15:58:00",
         "line": {
          "color": "blue",
          "width": 7
         },
         "mode": "lines",
         "showlegend": false,
         "type": "scatter",
         "x": [
          14.65,
          15.966666666666667
         ],
         "y": [
          247,
          247
         ]
        },
        {
         "hovertemplate": "2024-06-19 - 01:07:00 - 10:02:00",
         "line": {
          "color": "blue",
          "width": 7
         },
         "mode": "lines",
         "showlegend": false,
         "type": "scatter",
         "x": [
          1.1166666666666667,
          10.033333333333333
         ],
         "y": [
          248,
          248
         ]
        },
        {
         "hovertemplate": "2024-06-19 - 13:53:00 - 14:39:00",
         "line": {
          "color": "blue",
          "width": 7
         },
         "mode": "lines",
         "showlegend": false,
         "type": "scatter",
         "x": [
          13.883333333333333,
          14.65
         ],
         "y": [
          248,
          248
         ]
        },
        {
         "hovertemplate": "2024-06-20 - 01:12:00 - 08:38:00",
         "line": {
          "color": "blue",
          "width": 7
         },
         "mode": "lines",
         "showlegend": false,
         "type": "scatter",
         "x": [
          1.2,
          8.633333333333333
         ],
         "y": [
          249,
          249
         ]
        },
        {
         "hovertemplate": "2024-06-20 - 14:26:00 - 16:00:00",
         "line": {
          "color": "blue",
          "width": 7
         },
         "mode": "lines",
         "showlegend": false,
         "type": "scatter",
         "x": [
          14.433333333333334,
          16
         ],
         "y": [
          249,
          249
         ]
        },
        {
         "hovertemplate": "2024-06-20 - 07:39:00 - 07:48:00",
         "line": {
          "color": "red",
          "width": 7
         },
         "mode": "lines",
         "showlegend": false,
         "type": "scatter",
         "x": [
          7.65,
          7.8
         ],
         "y": [
          249,
          249
         ]
        },
        {
         "hovertemplate": "2024-06-21 - 00:38:00 - 07:45:00",
         "line": {
          "color": "blue",
          "width": 7
         },
         "mode": "lines",
         "showlegend": false,
         "type": "scatter",
         "x": [
          0.6333333333333333,
          7.75
         ],
         "y": [
          250,
          250
         ]
        },
        {
         "hovertemplate": "2024-06-21 - 13:37:00 - 14:51:00",
         "line": {
          "color": "blue",
          "width": 7
         },
         "mode": "lines",
         "showlegend": false,
         "type": "scatter",
         "x": [
          13.616666666666667,
          14.85
         ],
         "y": [
          250,
          250
         ]
        },
        {
         "hovertemplate": "2024-06-22 - 00:11:00 - 09:37:00",
         "line": {
          "color": "blue",
          "width": 7
         },
         "mode": "lines",
         "showlegend": false,
         "type": "scatter",
         "x": [
          0.18333333333333332,
          9.616666666666667
         ],
         "y": [
          251,
          251
         ]
        },
        {
         "hovertemplate": "2024-06-22 - 14:51:00 - 16:33:00",
         "line": {
          "color": "blue",
          "width": 7
         },
         "mode": "lines",
         "showlegend": false,
         "type": "scatter",
         "x": [
          14.85,
          16.55
         ],
         "y": [
          251,
          251
         ]
        },
        {
         "hovertemplate": "2024-06-23 - 01:18:00 - 10:44:00",
         "line": {
          "color": "blue",
          "width": 7
         },
         "mode": "lines",
         "showlegend": false,
         "type": "scatter",
         "x": [
          1.3,
          10.733333333333333
         ],
         "y": [
          252,
          252
         ]
        },
        {
         "hovertemplate": "2024-06-23 - 12:49:00 - 13:37:00",
         "line": {
          "color": "blue",
          "width": 7
         },
         "mode": "lines",
         "showlegend": false,
         "type": "scatter",
         "x": [
          12.816666666666666,
          13.616666666666667
         ],
         "y": [
          252,
          252
         ]
        },
        {
         "hovertemplate": "2024-06-23 - 16:33:00 - 17:16:00",
         "line": {
          "color": "blue",
          "width": 7
         },
         "mode": "lines",
         "showlegend": false,
         "type": "scatter",
         "x": [
          16.55,
          17.266666666666666
         ],
         "y": [
          252,
          252
         ]
        },
        {
         "hovertemplate": "2024-06-23 - 06:55:00 - 07:02:00",
         "line": {
          "color": "red",
          "width": 7
         },
         "mode": "lines",
         "showlegend": false,
         "type": "scatter",
         "x": [
          6.916666666666667,
          7.033333333333333
         ],
         "y": [
          252,
          252
         ]
        },
        {
         "hovertemplate": "2024-06-24 - 00:04:00 - 07:59:00",
         "line": {
          "color": "blue",
          "width": 7
         },
         "mode": "lines",
         "showlegend": false,
         "type": "scatter",
         "x": [
          0.06666666666666667,
          7.983333333333333
         ],
         "y": [
          253,
          253
         ]
        },
        {
         "hovertemplate": "2024-06-24 - 14:03:00 - 15:53:00",
         "line": {
          "color": "blue",
          "width": 7
         },
         "mode": "lines",
         "showlegend": false,
         "type": "scatter",
         "x": [
          14.05,
          15.883333333333333
         ],
         "y": [
          253,
          253
         ]
        },
        {
         "hovertemplate": "2024-06-25 - 00:47:00 - 10:14:00",
         "line": {
          "color": "blue",
          "width": 7
         },
         "mode": "lines",
         "showlegend": false,
         "type": "scatter",
         "x": [
          0.7833333333333333,
          10.233333333333333
         ],
         "y": [
          254,
          254
         ]
        },
        {
         "hovertemplate": "2024-06-25 - 09:22:00 - 09:30:00",
         "line": {
          "color": "red",
          "width": 7
         },
         "mode": "lines",
         "showlegend": false,
         "type": "scatter",
         "x": [
          9.366666666666667,
          9.5
         ],
         "y": [
          254,
          254
         ]
        },
        {
         "hovertemplate": "2024-06-25 - 23:27:00 - 24:00:00",
         "line": {
          "color": "blue",
          "width": 7
         },
         "mode": "lines",
         "showlegend": false,
         "type": "scatter",
         "x": [
          23.45,
          24
         ],
         "y": [
          254,
          254
         ]
        },
        {
         "hovertemplate": "2024-06-26 - 00:00:00 - 12:32:00",
         "line": {
          "color": "blue",
          "width": 7
         },
         "mode": "lines",
         "showlegend": false,
         "type": "scatter",
         "x": [
          0,
          12.533333333333333
         ],
         "y": [
          255,
          255
         ]
        },
        {
         "hovertemplate": "2024-06-26 - 15:49:00 - 17:54:00",
         "line": {
          "color": "blue",
          "width": 7
         },
         "mode": "lines",
         "showlegend": false,
         "type": "scatter",
         "x": [
          15.816666666666666,
          17.9
         ],
         "y": [
          255,
          255
         ]
        },
        {
         "hovertemplate": "2024-06-26 - 08:06:00 - 08:21:00",
         "line": {
          "color": "red",
          "width": 7
         },
         "mode": "lines",
         "showlegend": false,
         "type": "scatter",
         "x": [
          8.1,
          8.35
         ],
         "y": [
          255,
          255
         ]
        },
        {
         "hovertemplate": "2024-06-26 - 23:15:00 - 24:00:00",
         "line": {
          "color": "blue",
          "width": 7
         },
         "mode": "lines",
         "showlegend": false,
         "type": "scatter",
         "x": [
          23.25,
          24
         ],
         "y": [
          255,
          255
         ]
        },
        {
         "hovertemplate": "2024-06-27 - 00:00:00 - 10:12:00",
         "line": {
          "color": "blue",
          "width": 7
         },
         "mode": "lines",
         "showlegend": false,
         "type": "scatter",
         "x": [
          0,
          10.2
         ],
         "y": [
          256,
          256
         ]
        },
        {
         "hovertemplate": "2024-06-27 - 15:01:00 - 16:11:00",
         "line": {
          "color": "blue",
          "width": 7
         },
         "mode": "lines",
         "showlegend": false,
         "type": "scatter",
         "x": [
          15.016666666666667,
          16.183333333333334
         ],
         "y": [
          256,
          256
         ]
        },
        {
         "hovertemplate": "2024-06-27 - 08:15:00 - 08:22:00",
         "line": {
          "color": "red",
          "width": 7
         },
         "mode": "lines",
         "showlegend": false,
         "type": "scatter",
         "x": [
          8.25,
          8.366666666666667
         ],
         "y": [
          256,
          256
         ]
        },
        {
         "hovertemplate": "2024-06-28 - 00:27:00 - 08:24:00",
         "line": {
          "color": "blue",
          "width": 7
         },
         "mode": "lines",
         "showlegend": false,
         "type": "scatter",
         "x": [
          0.45,
          8.4
         ],
         "y": [
          257,
          257
         ]
        },
        {
         "hovertemplate": "2024-06-28 - 15:45:00 - 17:44:00",
         "line": {
          "color": "blue",
          "width": 7
         },
         "mode": "lines",
         "showlegend": false,
         "type": "scatter",
         "x": [
          15.75,
          17.733333333333334
         ],
         "y": [
          257,
          257
         ]
        },
        {
         "hovertemplate": "2024-06-29 - 03:16:00 - 09:25:00",
         "line": {
          "color": "blue",
          "width": 7
         },
         "mode": "lines",
         "showlegend": false,
         "type": "scatter",
         "x": [
          3.2666666666666666,
          9.416666666666666
         ],
         "y": [
          258,
          258
         ]
        },
        {
         "hovertemplate": "2024-06-29 - 14:39:00 - 16:21:00",
         "line": {
          "color": "blue",
          "width": 7
         },
         "mode": "lines",
         "showlegend": false,
         "type": "scatter",
         "x": [
          14.65,
          16.35
         ],
         "y": [
          258,
          258
         ]
        },
        {
         "hovertemplate": "2024-06-30 - 00:55:00 - 09:15:00",
         "line": {
          "color": "blue",
          "width": 7
         },
         "mode": "lines",
         "showlegend": false,
         "type": "scatter",
         "x": [
          0.9166666666666666,
          9.25
         ],
         "y": [
          259,
          259
         ]
        },
        {
         "hovertemplate": "2024-06-30 - 13:02:00 - 14:46:00",
         "line": {
          "color": "blue",
          "width": 7
         },
         "mode": "lines",
         "showlegend": false,
         "type": "scatter",
         "x": [
          13.033333333333333,
          14.766666666666667
         ],
         "y": [
          259,
          259
         ]
        },
        {
         "hovertemplate": "2024-06-30 - 07:52:00 - 07:59:00",
         "line": {
          "color": "red",
          "width": 7
         },
         "mode": "lines",
         "showlegend": false,
         "type": "scatter",
         "x": [
          7.866666666666667,
          7.983333333333333
         ],
         "y": [
          259,
          259
         ]
        },
        {
         "hovertemplate": "2024-06-30 - 23:54:00 - 24:00:00",
         "line": {
          "color": "blue",
          "width": 7
         },
         "mode": "lines",
         "showlegend": false,
         "type": "scatter",
         "x": [
          23.9,
          24
         ],
         "y": [
          259,
          259
         ]
        },
        {
         "hovertemplate": "2024-07-01 - 00:00:00 - 09:41:00",
         "line": {
          "color": "blue",
          "width": 7
         },
         "mode": "lines",
         "showlegend": false,
         "type": "scatter",
         "x": [
          0,
          9.683333333333334
         ],
         "y": [
          260,
          260
         ]
        },
        {
         "hovertemplate": "2024-07-01 - 14:33:00 - 15:32:00",
         "line": {
          "color": "blue",
          "width": 7
         },
         "mode": "lines",
         "showlegend": false,
         "type": "scatter",
         "x": [
          14.55,
          15.533333333333333
         ],
         "y": [
          260,
          260
         ]
        },
        {
         "hovertemplate": "2024-07-01 - 07:59:00 - 08:48:00",
         "line": {
          "color": "red",
          "width": 7
         },
         "mode": "lines",
         "showlegend": false,
         "type": "scatter",
         "x": [
          7.983333333333333,
          8.8
         ],
         "y": [
          260,
          260
         ]
        },
        {
         "hovertemplate": "2024-07-02 - 00:56:00 - 08:00:00",
         "line": {
          "color": "blue",
          "width": 7
         },
         "mode": "lines",
         "showlegend": false,
         "type": "scatter",
         "x": [
          0.9333333333333333,
          8
         ],
         "y": [
          261,
          261
         ]
        },
        {
         "hovertemplate": "2024-07-02 - 12:55:00 - 13:40:00",
         "line": {
          "color": "blue",
          "width": 7
         },
         "mode": "lines",
         "showlegend": false,
         "type": "scatter",
         "x": [
          12.916666666666666,
          13.666666666666666
         ],
         "y": [
          261,
          261
         ]
        },
        {
         "hovertemplate": "2024-07-03 - 00:39:00 - 07:21:00",
         "line": {
          "color": "blue",
          "width": 7
         },
         "mode": "lines",
         "showlegend": false,
         "type": "scatter",
         "x": [
          0.65,
          7.35
         ],
         "y": [
          262,
          262
         ]
        },
        {
         "hovertemplate": "2024-07-06 - 01:10:00 - 08:38:00",
         "line": {
          "color": "blue",
          "width": 7
         },
         "mode": "lines",
         "showlegend": false,
         "type": "scatter",
         "x": [
          1.1666666666666667,
          8.633333333333333
         ],
         "y": [
          265,
          265
         ]
        },
        {
         "hovertemplate": "2024-07-06 - 15:09:00 - 16:53:00",
         "line": {
          "color": "blue",
          "width": 7
         },
         "mode": "lines",
         "showlegend": false,
         "type": "scatter",
         "x": [
          15.15,
          16.883333333333333
         ],
         "y": [
          265,
          265
         ]
        },
        {
         "hovertemplate": "2024-07-06 - 08:08:00 - 08:14:00",
         "line": {
          "color": "red",
          "width": 7
         },
         "mode": "lines",
         "showlegend": false,
         "type": "scatter",
         "x": [
          8.133333333333333,
          8.233333333333333
         ],
         "y": [
          265,
          265
         ]
        },
        {
         "hovertemplate": "2024-07-07 - 00:34:00 - 09:45:00",
         "line": {
          "color": "blue",
          "width": 7
         },
         "mode": "lines",
         "showlegend": false,
         "type": "scatter",
         "x": [
          0.5666666666666667,
          9.75
         ],
         "y": [
          266,
          266
         ]
        },
        {
         "hovertemplate": "2024-07-07 - 14:28:00 - 15:17:00",
         "line": {
          "color": "blue",
          "width": 7
         },
         "mode": "lines",
         "showlegend": false,
         "type": "scatter",
         "x": [
          14.466666666666667,
          15.283333333333333
         ],
         "y": [
          266,
          266
         ]
        },
        {
         "hovertemplate": "2024-07-07 - 07:53:00 - 08:02:00",
         "line": {
          "color": "red",
          "width": 7
         },
         "mode": "lines",
         "showlegend": false,
         "type": "scatter",
         "x": [
          7.883333333333333,
          8.033333333333333
         ],
         "y": [
          266,
          266
         ]
        },
        {
         "hovertemplate": "2024-07-08 - 00:53:00 - 09:06:00",
         "line": {
          "color": "blue",
          "width": 7
         },
         "mode": "lines",
         "showlegend": false,
         "type": "scatter",
         "x": [
          0.8833333333333333,
          9.1
         ],
         "y": [
          267,
          267
         ]
        },
        {
         "hovertemplate": "2024-07-08 - 13:21:00 - 15:00:00",
         "line": {
          "color": "blue",
          "width": 7
         },
         "mode": "lines",
         "showlegend": false,
         "type": "scatter",
         "x": [
          13.35,
          15
         ],
         "y": [
          267,
          267
         ]
        },
        {
         "hovertemplate": "2024-07-09 - 00:50:00 - 09:19:00",
         "line": {
          "color": "blue",
          "width": 7
         },
         "mode": "lines",
         "showlegend": false,
         "type": "scatter",
         "x": [
          0.8333333333333334,
          9.316666666666666
         ],
         "y": [
          268,
          268
         ]
        },
        {
         "hovertemplate": "2024-07-09 - 22:29:00 - 24:00:00",
         "line": {
          "color": "blue",
          "width": 7
         },
         "mode": "lines",
         "showlegend": false,
         "type": "scatter",
         "x": [
          22.483333333333334,
          24
         ],
         "y": [
          268,
          268
         ]
        },
        {
         "hovertemplate": "2024-07-10 - 00:00:00 - 08:53:00",
         "line": {
          "color": "blue",
          "width": 7
         },
         "mode": "lines",
         "showlegend": false,
         "type": "scatter",
         "x": [
          0,
          8.883333333333333
         ],
         "y": [
          269,
          269
         ]
        },
        {
         "hovertemplate": "2024-07-10 - 15:05:00 - 16:14:00",
         "line": {
          "color": "blue",
          "width": 7
         },
         "mode": "lines",
         "showlegend": false,
         "type": "scatter",
         "x": [
          15.083333333333334,
          16.233333333333334
         ],
         "y": [
          269,
          269
         ]
        },
        {
         "hovertemplate": "2024-07-11 - 00:13:00 - 10:03:00",
         "line": {
          "color": "blue",
          "width": 7
         },
         "mode": "lines",
         "showlegend": false,
         "type": "scatter",
         "x": [
          0.21666666666666667,
          10.05
         ],
         "y": [
          270,
          270
         ]
        },
        {
         "hovertemplate": "2024-07-11 - 14:40:00 - 15:53:00",
         "line": {
          "color": "blue",
          "width": 7
         },
         "mode": "lines",
         "showlegend": false,
         "type": "scatter",
         "x": [
          14.666666666666666,
          15.883333333333333
         ],
         "y": [
          270,
          270
         ]
        },
        {
         "hovertemplate": "2024-07-11 - 07:55:00 - 08:07:00",
         "line": {
          "color": "red",
          "width": 7
         },
         "mode": "lines",
         "showlegend": false,
         "type": "scatter",
         "x": [
          7.916666666666667,
          8.116666666666667
         ],
         "y": [
          270,
          270
         ]
        },
        {
         "hovertemplate": "2024-07-11 - 23:53:00 - 24:00:00",
         "line": {
          "color": "blue",
          "width": 7
         },
         "mode": "lines",
         "showlegend": false,
         "type": "scatter",
         "x": [
          23.883333333333333,
          24
         ],
         "y": [
          270,
          270
         ]
        },
        {
         "hovertemplate": "2024-07-12 - 00:00:00 - 09:02:00",
         "line": {
          "color": "blue",
          "width": 7
         },
         "mode": "lines",
         "showlegend": false,
         "type": "scatter",
         "x": [
          0,
          9.033333333333333
         ],
         "y": [
          271,
          271
         ]
        },
        {
         "hovertemplate": "2024-07-12 - 13:49:00 - 15:12:00",
         "line": {
          "color": "blue",
          "width": 7
         },
         "mode": "lines",
         "showlegend": false,
         "type": "scatter",
         "x": [
          13.816666666666666,
          15.2
         ],
         "y": [
          271,
          271
         ]
        },
        {
         "hovertemplate": "2024-07-12 - 04:35:00 - 04:41:00",
         "line": {
          "color": "red",
          "width": 7
         },
         "mode": "lines",
         "showlegend": false,
         "type": "scatter",
         "x": [
          4.583333333333333,
          4.683333333333334
         ],
         "y": [
          271,
          271
         ]
        },
        {
         "hovertemplate": "2024-07-13 - 00:41:00 - 08:48:00",
         "line": {
          "color": "blue",
          "width": 7
         },
         "mode": "lines",
         "showlegend": false,
         "type": "scatter",
         "x": [
          0.6833333333333333,
          8.8
         ],
         "y": [
          272,
          272
         ]
        },
        {
         "hovertemplate": "2024-07-13 - 14:47:00 - 15:25:00",
         "line": {
          "color": "blue",
          "width": 7
         },
         "mode": "lines",
         "showlegend": false,
         "type": "scatter",
         "x": [
          14.783333333333333,
          15.416666666666666
         ],
         "y": [
          272,
          272
         ]
        },
        {
         "hovertemplate": "2024-07-13 - 23:47:00 - 24:00:00",
         "line": {
          "color": "blue",
          "width": 7
         },
         "mode": "lines",
         "showlegend": false,
         "type": "scatter",
         "x": [
          23.783333333333335,
          24
         ],
         "y": [
          272,
          272
         ]
        },
        {
         "hovertemplate": "2024-07-14 - 00:00:00 - 08:47:00",
         "line": {
          "color": "blue",
          "width": 7
         },
         "mode": "lines",
         "showlegend": false,
         "type": "scatter",
         "x": [
          0,
          8.783333333333333
         ],
         "y": [
          273,
          273
         ]
        },
        {
         "hovertemplate": "2024-07-14 - 14:05:00 - 15:06:00",
         "line": {
          "color": "blue",
          "width": 7
         },
         "mode": "lines",
         "showlegend": false,
         "type": "scatter",
         "x": [
          14.083333333333334,
          15.1
         ],
         "y": [
          273,
          273
         ]
        },
        {
         "hovertemplate": "2024-07-17 - 23:43:16 - 23:43:16",
         "line": {
          "color": "blue",
          "width": 7
         },
         "mode": "lines",
         "showlegend": false,
         "type": "scatter",
         "x": [
          23.716666666666665,
          23.716666666666665
         ],
         "y": [
          276,
          276
         ]
        },
        {
         "hovertemplate": "2024-07-19 - 15:04:00 - 16:06:00",
         "line": {
          "color": "blue",
          "width": 7
         },
         "mode": "lines",
         "showlegend": false,
         "type": "scatter",
         "x": [
          15.066666666666666,
          16.1
         ],
         "y": [
          278,
          278
         ]
        },
        {
         "hovertemplate": "2024-07-19 - 23:14:00 - 24:00:00",
         "line": {
          "color": "blue",
          "width": 7
         },
         "mode": "lines",
         "showlegend": false,
         "type": "scatter",
         "x": [
          23.233333333333334,
          24
         ],
         "y": [
          278,
          278
         ]
        },
        {
         "hovertemplate": "2024-07-20 - 00:00:00 - 07:58:00",
         "line": {
          "color": "blue",
          "width": 7
         },
         "mode": "lines",
         "showlegend": false,
         "type": "scatter",
         "x": [
          0,
          7.966666666666667
         ],
         "y": [
          279,
          279
         ]
        },
        {
         "hovertemplate": "2024-07-20 - 06:08:00 - 06:30:00",
         "line": {
          "color": "red",
          "width": 7
         },
         "mode": "lines",
         "showlegend": false,
         "type": "scatter",
         "x": [
          6.133333333333334,
          6.5
         ],
         "y": [
          279,
          279
         ]
        },
        {
         "hovertemplate": "2024-07-20 - 23:42:00 - 24:00:00",
         "line": {
          "color": "blue",
          "width": 7
         },
         "mode": "lines",
         "showlegend": false,
         "type": "scatter",
         "x": [
          23.7,
          24
         ],
         "y": [
          279,
          279
         ]
        },
        {
         "hovertemplate": "2024-07-21 - 00:00:00 - 08:15:00",
         "line": {
          "color": "blue",
          "width": 7
         },
         "mode": "lines",
         "showlegend": false,
         "type": "scatter",
         "x": [
          0,
          8.25
         ],
         "y": [
          280,
          280
         ]
        },
        {
         "hovertemplate": "2024-07-21 - 23:27:00 - 24:00:00",
         "line": {
          "color": "blue",
          "width": 7
         },
         "mode": "lines",
         "showlegend": false,
         "type": "scatter",
         "x": [
          23.45,
          24
         ],
         "y": [
          280,
          280
         ]
        },
        {
         "hovertemplate": "2024-07-22 - 00:00:00 - 08:31:00",
         "line": {
          "color": "blue",
          "width": 7
         },
         "mode": "lines",
         "showlegend": false,
         "type": "scatter",
         "x": [
          0,
          8.516666666666667
         ],
         "y": [
          281,
          281
         ]
        },
        {
         "hovertemplate": "2024-07-22 - 05:17:00 - 05:40:00",
         "line": {
          "color": "red",
          "width": 7
         },
         "mode": "lines",
         "showlegend": false,
         "type": "scatter",
         "x": [
          5.283333333333333,
          5.666666666666667
         ],
         "y": [
          281,
          281
         ]
        },
        {
         "hovertemplate": "2024-07-22 - 21:21:00 - 24:00:00",
         "line": {
          "color": "blue",
          "width": 7
         },
         "mode": "lines",
         "showlegend": false,
         "type": "scatter",
         "x": [
          21.35,
          24
         ],
         "y": [
          281,
          281
         ]
        },
        {
         "hovertemplate": "2024-07-23 - 00:00:00 - 08:29:00",
         "line": {
          "color": "blue",
          "width": 7
         },
         "mode": "lines",
         "showlegend": false,
         "type": "scatter",
         "x": [
          0,
          8.483333333333333
         ],
         "y": [
          282,
          282
         ]
        },
        {
         "hovertemplate": "2024-07-23 - 14:25:00 - 17:08:00",
         "line": {
          "color": "blue",
          "width": 7
         },
         "mode": "lines",
         "showlegend": false,
         "type": "scatter",
         "x": [
          14.416666666666666,
          17.133333333333333
         ],
         "y": [
          282,
          282
         ]
        },
        {
         "hovertemplate": "2024-07-23 - 03:06:00 - 03:13:00",
         "line": {
          "color": "red",
          "width": 7
         },
         "mode": "lines",
         "showlegend": false,
         "type": "scatter",
         "x": [
          3.1,
          3.216666666666667
         ],
         "y": [
          282,
          282
         ]
        },
        {
         "hovertemplate": "2024-07-23 - 07:22:00 - 07:30:00",
         "line": {
          "color": "red",
          "width": 7
         },
         "mode": "lines",
         "showlegend": false,
         "type": "scatter",
         "x": [
          7.366666666666666,
          7.5
         ],
         "y": [
          282,
          282
         ]
        },
        {
         "hovertemplate": "2024-07-24 - 00:16:00 - 10:10:00",
         "line": {
          "color": "blue",
          "width": 7
         },
         "mode": "lines",
         "showlegend": false,
         "type": "scatter",
         "x": [
          0.26666666666666666,
          10.166666666666666
         ],
         "y": [
          283,
          283
         ]
        },
        {
         "hovertemplate": "2024-07-24 - 14:40:00 - 16:28:00",
         "line": {
          "color": "blue",
          "width": 7
         },
         "mode": "lines",
         "showlegend": false,
         "type": "scatter",
         "x": [
          14.666666666666666,
          16.466666666666665
         ],
         "y": [
          283,
          283
         ]
        },
        {
         "hovertemplate": "2024-07-24 - 08:08:00 - 08:50:00",
         "line": {
          "color": "red",
          "width": 7
         },
         "mode": "lines",
         "showlegend": false,
         "type": "scatter",
         "x": [
          8.133333333333333,
          8.833333333333334
         ],
         "y": [
          283,
          283
         ]
        },
        {
         "hovertemplate": "2024-07-24 - 23:28:00 - 24:00:00",
         "line": {
          "color": "blue",
          "width": 7
         },
         "mode": "lines",
         "showlegend": false,
         "type": "scatter",
         "x": [
          23.466666666666665,
          24
         ],
         "y": [
          283,
          283
         ]
        },
        {
         "hovertemplate": "2024-07-25 - 00:00:00 - 08:14:00",
         "line": {
          "color": "blue",
          "width": 7
         },
         "mode": "lines",
         "showlegend": false,
         "type": "scatter",
         "x": [
          0,
          8.233333333333333
         ],
         "y": [
          284,
          284
         ]
        },
        {
         "hovertemplate": "2024-07-25 - 15:09:00 - 15:48:00",
         "line": {
          "color": "blue",
          "width": 7
         },
         "mode": "lines",
         "showlegend": false,
         "type": "scatter",
         "x": [
          15.15,
          15.8
         ],
         "y": [
          284,
          284
         ]
        },
        {
         "hovertemplate": "2024-07-25 - 03:56:00 - 04:02:00",
         "line": {
          "color": "red",
          "width": 7
         },
         "mode": "lines",
         "showlegend": false,
         "type": "scatter",
         "x": [
          3.9333333333333336,
          4.033333333333333
         ],
         "y": [
          284,
          284
         ]
        },
        {
         "hovertemplate": "2024-07-25 - 22:22:00 - 24:00:00",
         "line": {
          "color": "blue",
          "width": 7
         },
         "mode": "lines",
         "showlegend": false,
         "type": "scatter",
         "x": [
          22.366666666666667,
          24
         ],
         "y": [
          284,
          284
         ]
        },
        {
         "hovertemplate": "2024-07-26 - 00:00:00 - 10:51:00",
         "line": {
          "color": "blue",
          "width": 7
         },
         "mode": "lines",
         "showlegend": false,
         "type": "scatter",
         "x": [
          0,
          10.85
         ],
         "y": [
          285,
          285
         ]
        },
        {
         "hovertemplate": "2024-07-26 - 04:15:00 - 04:22:00",
         "line": {
          "color": "red",
          "width": 7
         },
         "mode": "lines",
         "showlegend": false,
         "type": "scatter",
         "x": [
          4.25,
          4.366666666666666
         ],
         "y": [
          285,
          285
         ]
        },
        {
         "hovertemplate": "2024-08-11 - 09:43:00 - 12:31:00",
         "line": {
          "color": "blue",
          "width": 7
         },
         "mode": "lines",
         "showlegend": false,
         "type": "scatter",
         "x": [
          9.716666666666667,
          12.516666666666667
         ],
         "y": [
          301,
          301
         ]
        },
        {
         "hovertemplate": "2024-08-12 - 04:03:00 - 09:53:00",
         "line": {
          "color": "blue",
          "width": 7
         },
         "mode": "lines",
         "showlegend": false,
         "type": "scatter",
         "x": [
          4.05,
          9.883333333333333
         ],
         "y": [
          302,
          302
         ]
        },
        {
         "hovertemplate": "2024-08-12 - 15:14:00 - 17:27:00",
         "line": {
          "color": "blue",
          "width": 7
         },
         "mode": "lines",
         "showlegend": false,
         "type": "scatter",
         "x": [
          15.233333333333333,
          17.45
         ],
         "y": [
          302,
          302
         ]
        },
        {
         "hovertemplate": "2024-08-12 - 05:32:00 - 05:47:00",
         "line": {
          "color": "red",
          "width": 7
         },
         "mode": "lines",
         "showlegend": false,
         "type": "scatter",
         "x": [
          5.533333333333333,
          5.783333333333333
         ],
         "y": [
          302,
          302
         ]
        },
        {
         "hovertemplate": "2024-08-12 - 08:05:00 - 08:13:00",
         "line": {
          "color": "red",
          "width": 7
         },
         "mode": "lines",
         "showlegend": false,
         "type": "scatter",
         "x": [
          8.083333333333334,
          8.216666666666667
         ],
         "y": [
          302,
          302
         ]
        },
        {
         "hovertemplate": "2024-08-13 - 00:02:00 - 08:40:00",
         "line": {
          "color": "blue",
          "width": 7
         },
         "mode": "lines",
         "showlegend": false,
         "type": "scatter",
         "x": [
          0.03333333333333333,
          8.666666666666666
         ],
         "y": [
          303,
          303
         ]
        },
        {
         "hovertemplate": "2024-08-13 - 12:59:00 - 14:54:00",
         "line": {
          "color": "blue",
          "width": 7
         },
         "mode": "lines",
         "showlegend": false,
         "type": "scatter",
         "x": [
          12.983333333333333,
          14.9
         ],
         "y": [
          303,
          303
         ]
        },
        {
         "hovertemplate": "2024-08-14 - 00:09:00 - 09:34:00",
         "line": {
          "color": "blue",
          "width": 7
         },
         "mode": "lines",
         "showlegend": false,
         "type": "scatter",
         "x": [
          0.15,
          9.566666666666666
         ],
         "y": [
          304,
          304
         ]
        },
        {
         "hovertemplate": "2024-08-14 - 15:09:00 - 17:34:00",
         "line": {
          "color": "blue",
          "width": 7
         },
         "mode": "lines",
         "showlegend": false,
         "type": "scatter",
         "x": [
          15.15,
          17.566666666666666
         ],
         "y": [
          304,
          304
         ]
        },
        {
         "hovertemplate": "2024-08-14 - 07:04:00 - 07:12:00",
         "line": {
          "color": "red",
          "width": 7
         },
         "mode": "lines",
         "showlegend": false,
         "type": "scatter",
         "x": [
          7.066666666666666,
          7.2
         ],
         "y": [
          304,
          304
         ]
        },
        {
         "hovertemplate": "2024-08-14 - 23:53:00 - 24:00:00",
         "line": {
          "color": "blue",
          "width": 7
         },
         "mode": "lines",
         "showlegend": false,
         "type": "scatter",
         "x": [
          23.883333333333333,
          24
         ],
         "y": [
          304,
          304
         ]
        },
        {
         "hovertemplate": "2024-08-15 - 00:00:00 - 11:38:00",
         "line": {
          "color": "blue",
          "width": 7
         },
         "mode": "lines",
         "showlegend": false,
         "type": "scatter",
         "x": [
          0,
          11.633333333333333
         ],
         "y": [
          305,
          305
         ]
        },
        {
         "hovertemplate": "2024-08-15 - 18:25:00 - 19:11:00",
         "line": {
          "color": "blue",
          "width": 7
         },
         "mode": "lines",
         "showlegend": false,
         "type": "scatter",
         "x": [
          18.416666666666668,
          19.183333333333334
         ],
         "y": [
          305,
          305
         ]
        },
        {
         "hovertemplate": "2024-08-15 - 07:19:00 - 07:28:00",
         "line": {
          "color": "red",
          "width": 7
         },
         "mode": "lines",
         "showlegend": false,
         "type": "scatter",
         "x": [
          7.316666666666666,
          7.466666666666667
         ],
         "y": [
          305,
          305
         ]
        },
        {
         "hovertemplate": "2024-08-15 - 09:04:00 - 09:39:00",
         "line": {
          "color": "red",
          "width": 7
         },
         "mode": "lines",
         "showlegend": false,
         "type": "scatter",
         "x": [
          9.066666666666666,
          9.65
         ],
         "y": [
          305,
          305
         ]
        },
        {
         "hovertemplate": "2024-08-16 - 00:28:00 - 07:17:00",
         "line": {
          "color": "blue",
          "width": 7
         },
         "mode": "lines",
         "showlegend": false,
         "type": "scatter",
         "x": [
          0.4666666666666667,
          7.283333333333333
         ],
         "y": [
          306,
          306
         ]
        },
        {
         "hovertemplate": "2024-08-17 - 00:40:00 - 10:00:00",
         "line": {
          "color": "blue",
          "width": 7
         },
         "mode": "lines",
         "showlegend": false,
         "type": "scatter",
         "x": [
          0.6666666666666666,
          10
         ],
         "y": [
          307,
          307
         ]
        },
        {
         "hovertemplate": "2024-08-17 - 15:42:00 - 16:41:00",
         "line": {
          "color": "blue",
          "width": 7
         },
         "mode": "lines",
         "showlegend": false,
         "type": "scatter",
         "x": [
          15.7,
          16.683333333333334
         ],
         "y": [
          307,
          307
         ]
        },
        {
         "hovertemplate": "2024-08-17 - 07:27:00 - 08:39:00",
         "line": {
          "color": "red",
          "width": 7
         },
         "mode": "lines",
         "showlegend": false,
         "type": "scatter",
         "x": [
          7.45,
          8.65
         ],
         "y": [
          307,
          307
         ]
        },
        {
         "hovertemplate": "2024-08-17 - 23:46:00 - 24:00:00",
         "line": {
          "color": "blue",
          "width": 7
         },
         "mode": "lines",
         "showlegend": false,
         "type": "scatter",
         "x": [
          23.766666666666666,
          24
         ],
         "y": [
          307,
          307
         ]
        },
        {
         "hovertemplate": "2024-08-18 - 00:00:00 - 15:16:00",
         "line": {
          "color": "blue",
          "width": 7
         },
         "mode": "lines",
         "showlegend": false,
         "type": "scatter",
         "x": [
          0,
          15.266666666666667
         ],
         "y": [
          308,
          308
         ]
        },
        {
         "hovertemplate": "2024-08-18 - 08:06:00 - 08:34:00",
         "line": {
          "color": "red",
          "width": 7
         },
         "mode": "lines",
         "showlegend": false,
         "type": "scatter",
         "x": [
          8.1,
          8.566666666666666
         ],
         "y": [
          308,
          308
         ]
        },
        {
         "hovertemplate": "2024-08-18 - 10:16:00 - 11:24:00",
         "line": {
          "color": "red",
          "width": 7
         },
         "mode": "lines",
         "showlegend": false,
         "type": "scatter",
         "x": [
          10.266666666666667,
          11.4
         ],
         "y": [
          308,
          308
         ]
        },
        {
         "hovertemplate": "2024-08-18 - 13:32:00 - 14:02:00",
         "line": {
          "color": "red",
          "width": 7
         },
         "mode": "lines",
         "showlegend": false,
         "type": "scatter",
         "x": [
          13.533333333333333,
          14.033333333333333
         ],
         "y": [
          308,
          308
         ]
        },
        {
         "hovertemplate": "2024-08-18 - 23:26:00 - 24:00:00",
         "line": {
          "color": "blue",
          "width": 7
         },
         "mode": "lines",
         "showlegend": false,
         "type": "scatter",
         "x": [
          23.433333333333334,
          24
         ],
         "y": [
          308,
          308
         ]
        },
        {
         "hovertemplate": "2024-08-19 - 00:00:00 - 09:43:00",
         "line": {
          "color": "blue",
          "width": 7
         },
         "mode": "lines",
         "showlegend": false,
         "type": "scatter",
         "x": [
          0,
          9.716666666666667
         ],
         "y": [
          309,
          309
         ]
        },
        {
         "hovertemplate": "2024-08-19 - 14:23:00 - 15:14:00",
         "line": {
          "color": "blue",
          "width": 7
         },
         "mode": "lines",
         "showlegend": false,
         "type": "scatter",
         "x": [
          14.383333333333333,
          15.233333333333333
         ],
         "y": [
          309,
          309
         ]
        },
        {
         "hovertemplate": "2024-08-19 - 04:22:00 - 04:29:00",
         "line": {
          "color": "red",
          "width": 7
         },
         "mode": "lines",
         "showlegend": false,
         "type": "scatter",
         "x": [
          4.366666666666666,
          4.483333333333333
         ],
         "y": [
          309,
          309
         ]
        },
        {
         "hovertemplate": "2024-08-19 - 08:18:00 - 08:56:00",
         "line": {
          "color": "red",
          "width": 7
         },
         "mode": "lines",
         "showlegend": false,
         "type": "scatter",
         "x": [
          8.3,
          8.933333333333334
         ],
         "y": [
          309,
          309
         ]
        },
        {
         "hovertemplate": "2024-08-20 - 00:54:00 - 13:53:00",
         "line": {
          "color": "blue",
          "width": 7
         },
         "mode": "lines",
         "showlegend": false,
         "type": "scatter",
         "x": [
          0.9,
          13.883333333333333
         ],
         "y": [
          310,
          310
         ]
        },
        {
         "hovertemplate": "2024-08-20 - 09:01:00 - 10:50:00",
         "line": {
          "color": "red",
          "width": 7
         },
         "mode": "lines",
         "showlegend": false,
         "type": "scatter",
         "x": [
          9.016666666666667,
          10.833333333333334
         ],
         "y": [
          310,
          310
         ]
        },
        {
         "hovertemplate": "2024-08-20 - 11:53:00 - 12:19:00",
         "line": {
          "color": "red",
          "width": 7
         },
         "mode": "lines",
         "showlegend": false,
         "type": "scatter",
         "x": [
          11.883333333333333,
          12.316666666666666
         ],
         "y": [
          310,
          310
         ]
        },
        {
         "hovertemplate": "2024-08-21 - 00:20:00 - 08:24:00",
         "line": {
          "color": "blue",
          "width": 7
         },
         "mode": "lines",
         "showlegend": false,
         "type": "scatter",
         "x": [
          0.3333333333333333,
          8.4
         ],
         "y": [
          311,
          311
         ]
        },
        {
         "hovertemplate": "2024-08-21 - 10:40:00 - 12:55:00",
         "line": {
          "color": "blue",
          "width": 7
         },
         "mode": "lines",
         "showlegend": false,
         "type": "scatter",
         "x": [
          10.666666666666666,
          12.916666666666666
         ],
         "y": [
          311,
          311
         ]
        },
        {
         "hovertemplate": "2024-08-21 - 11:27:00 - 11:34:00",
         "line": {
          "color": "red",
          "width": 7
         },
         "mode": "lines",
         "showlegend": false,
         "type": "scatter",
         "x": [
          11.45,
          11.566666666666666
         ],
         "y": [
          311,
          311
         ]
        },
        {
         "hovertemplate": "2024-08-22 - 01:40:00 - 11:17:00",
         "line": {
          "color": "blue",
          "width": 7
         },
         "mode": "lines",
         "showlegend": false,
         "type": "scatter",
         "x": [
          1.6666666666666665,
          11.283333333333333
         ],
         "y": [
          312,
          312
         ]
        },
        {
         "hovertemplate": "2024-08-22 - 08:43:00 - 08:50:00",
         "line": {
          "color": "red",
          "width": 7
         },
         "mode": "lines",
         "showlegend": false,
         "type": "scatter",
         "x": [
          8.716666666666667,
          8.833333333333334
         ],
         "y": [
          312,
          312
         ]
        },
        {
         "hovertemplate": "2024-08-22 - 23:31:00 - 24:00:00",
         "line": {
          "color": "blue",
          "width": 7
         },
         "mode": "lines",
         "showlegend": false,
         "type": "scatter",
         "x": [
          23.516666666666666,
          24
         ],
         "y": [
          312,
          312
         ]
        },
        {
         "hovertemplate": "2024-08-23 - 00:00:00 - 08:05:00",
         "line": {
          "color": "blue",
          "width": 7
         },
         "mode": "lines",
         "showlegend": false,
         "type": "scatter",
         "x": [
          0,
          8.083333333333334
         ],
         "y": [
          313,
          313
         ]
        },
        {
         "hovertemplate": "2024-08-23 - 13:56:00 - 16:29:00",
         "line": {
          "color": "blue",
          "width": 7
         },
         "mode": "lines",
         "showlegend": false,
         "type": "scatter",
         "x": [
          13.933333333333334,
          16.483333333333334
         ],
         "y": [
          313,
          313
         ]
        },
        {
         "hovertemplate": "2024-08-23 - 07:01:00 - 07:08:00",
         "line": {
          "color": "red",
          "width": 7
         },
         "mode": "lines",
         "showlegend": false,
         "type": "scatter",
         "x": [
          7.016666666666667,
          7.133333333333334
         ],
         "y": [
          313,
          313
         ]
        },
        {
         "hovertemplate": "2024-08-23 - 23:35:00 - 24:00:00",
         "line": {
          "color": "blue",
          "width": 7
         },
         "mode": "lines",
         "showlegend": false,
         "type": "scatter",
         "x": [
          23.583333333333332,
          24
         ],
         "y": [
          313,
          313
         ]
        },
        {
         "hovertemplate": "2024-08-24 - 00:00:00 - 08:13:00",
         "line": {
          "color": "blue",
          "width": 7
         },
         "mode": "lines",
         "showlegend": false,
         "type": "scatter",
         "x": [
          0,
          8.216666666666667
         ],
         "y": [
          314,
          314
         ]
        },
        {
         "hovertemplate": "2024-08-24 - 13:50:00 - 15:00:00",
         "line": {
          "color": "blue",
          "width": 7
         },
         "mode": "lines",
         "showlegend": false,
         "type": "scatter",
         "x": [
          13.833333333333334,
          15
         ],
         "y": [
          314,
          314
         ]
        },
        {
         "hovertemplate": "2024-08-24 - 23:39:00 - 24:00:00",
         "line": {
          "color": "blue",
          "width": 7
         },
         "mode": "lines",
         "showlegend": false,
         "type": "scatter",
         "x": [
          23.65,
          24
         ],
         "y": [
          314,
          314
         ]
        },
        {
         "hovertemplate": "2024-08-25 - 00:00:00 - 09:56:00",
         "line": {
          "color": "blue",
          "width": 7
         },
         "mode": "lines",
         "showlegend": false,
         "type": "scatter",
         "x": [
          0,
          9.933333333333334
         ],
         "y": [
          315,
          315
         ]
        },
        {
         "hovertemplate": "2024-08-25 - 15:34:00 - 18:57:00",
         "line": {
          "color": "blue",
          "width": 7
         },
         "mode": "lines",
         "showlegend": false,
         "type": "scatter",
         "x": [
          15.566666666666666,
          18.95
         ],
         "y": [
          315,
          315
         ]
        },
        {
         "hovertemplate": "2024-08-25 - 23:43:00 - 24:00:00",
         "line": {
          "color": "blue",
          "width": 7
         },
         "mode": "lines",
         "showlegend": false,
         "type": "scatter",
         "x": [
          23.716666666666665,
          24
         ],
         "y": [
          315,
          315
         ]
        },
        {
         "hovertemplate": "2024-08-26 - 00:00:00 - 15:59:00",
         "line": {
          "color": "blue",
          "width": 7
         },
         "mode": "lines",
         "showlegend": false,
         "type": "scatter",
         "x": [
          0,
          15.983333333333333
         ],
         "y": [
          316,
          316
         ]
        },
        {
         "hovertemplate": "2024-08-26 - 20:02:00 - 20:53:00",
         "line": {
          "color": "blue",
          "width": 7
         },
         "mode": "lines",
         "showlegend": false,
         "type": "scatter",
         "x": [
          20.033333333333335,
          20.883333333333333
         ],
         "y": [
          316,
          316
         ]
        },
        {
         "hovertemplate": "2024-08-26 - 05:44:00 - 05:50:00",
         "line": {
          "color": "red",
          "width": 7
         },
         "mode": "lines",
         "showlegend": false,
         "type": "scatter",
         "x": [
          5.733333333333333,
          5.833333333333333
         ],
         "y": [
          316,
          316
         ]
        },
        {
         "hovertemplate": "2024-08-26 - 09:13:00 - 09:21:00",
         "line": {
          "color": "red",
          "width": 7
         },
         "mode": "lines",
         "showlegend": false,
         "type": "scatter",
         "x": [
          9.216666666666667,
          9.35
         ],
         "y": [
          316,
          316
         ]
        },
        {
         "hovertemplate": "2024-08-26 - 11:01:00 - 11:24:00",
         "line": {
          "color": "red",
          "width": 7
         },
         "mode": "lines",
         "showlegend": false,
         "type": "scatter",
         "x": [
          11.016666666666667,
          11.4
         ],
         "y": [
          316,
          316
         ]
        },
        {
         "hovertemplate": "2024-08-26 - 13:56:00 - 14:54:00",
         "line": {
          "color": "red",
          "width": 7
         },
         "mode": "lines",
         "showlegend": false,
         "type": "scatter",
         "x": [
          13.933333333333334,
          14.9
         ],
         "y": [
          316,
          316
         ]
        },
        {
         "hovertemplate": "2024-08-27 - 00:36:00 - 09:08:00",
         "line": {
          "color": "blue",
          "width": 7
         },
         "mode": "lines",
         "showlegend": false,
         "type": "scatter",
         "x": [
          0.6,
          9.133333333333333
         ],
         "y": [
          317,
          317
         ]
        },
        {
         "hovertemplate": "2024-08-27 - 06:01:00 - 06:07:00",
         "line": {
          "color": "red",
          "width": 7
         },
         "mode": "lines",
         "showlegend": false,
         "type": "scatter",
         "x": [
          6.016666666666667,
          6.116666666666666
         ],
         "y": [
          317,
          317
         ]
        },
        {
         "hovertemplate": "2024-08-27 - 23:14:00 - 24:00:00",
         "line": {
          "color": "blue",
          "width": 7
         },
         "mode": "lines",
         "showlegend": false,
         "type": "scatter",
         "x": [
          23.233333333333334,
          24
         ],
         "y": [
          317,
          317
         ]
        },
        {
         "hovertemplate": "2024-08-28 - 00:00:00 - 07:12:00",
         "line": {
          "color": "blue",
          "width": 7
         },
         "mode": "lines",
         "showlegend": false,
         "type": "scatter",
         "x": [
          0,
          7.2
         ],
         "y": [
          318,
          318
         ]
        },
        {
         "hovertemplate": "2024-08-28 - 06:03:00 - 06:09:00",
         "line": {
          "color": "red",
          "width": 7
         },
         "mode": "lines",
         "showlegend": false,
         "type": "scatter",
         "x": [
          6.05,
          6.15
         ],
         "y": [
          318,
          318
         ]
        },
        {
         "hovertemplate": "2024-08-30 - 13:46:57 - 18:18:54",
         "line": {
          "color": "blue",
          "width": 7
         },
         "mode": "lines",
         "showlegend": false,
         "type": "scatter",
         "x": [
          13.766666666666667,
          18.3
         ],
         "y": [
          320,
          320
         ]
        },
        {
         "hovertemplate": "2024-08-30 - 15:08:54 - 15:19:01",
         "line": {
          "color": "red",
          "width": 7
         },
         "mode": "lines",
         "showlegend": false,
         "type": "scatter",
         "x": [
          15.133333333333333,
          15.316666666666666
         ],
         "y": [
          320,
          320
         ]
        },
        {
         "hovertemplate": "2024-09-01 - 22:13:00 - 24:00:00",
         "line": {
          "color": "blue",
          "width": 7
         },
         "mode": "lines",
         "showlegend": false,
         "type": "scatter",
         "x": [
          22.216666666666665,
          24
         ],
         "y": [
          322,
          322
         ]
        },
        {
         "hovertemplate": "2024-09-02 - 00:00:00 - 06:42:00",
         "line": {
          "color": "blue",
          "width": 7
         },
         "mode": "lines",
         "showlegend": false,
         "type": "scatter",
         "x": [
          0,
          6.7
         ],
         "y": [
          323,
          323
         ]
        },
        {
         "hovertemplate": "2024-09-02 - 13:29:00 - 14:28:00",
         "line": {
          "color": "blue",
          "width": 7
         },
         "mode": "lines",
         "showlegend": false,
         "type": "scatter",
         "x": [
          13.483333333333333,
          14.466666666666667
         ],
         "y": [
          323,
          323
         ]
        },
        {
         "hovertemplate": "2024-09-03 - 00:37:00 - 09:28:00",
         "line": {
          "color": "blue",
          "width": 7
         },
         "mode": "lines",
         "showlegend": false,
         "type": "scatter",
         "x": [
          0.6166666666666667,
          9.466666666666667
         ],
         "y": [
          324,
          324
         ]
        },
        {
         "hovertemplate": "2024-09-03 - 16:31:00 - 18:32:00",
         "line": {
          "color": "blue",
          "width": 7
         },
         "mode": "lines",
         "showlegend": false,
         "type": "scatter",
         "x": [
          16.516666666666666,
          18.533333333333335
         ],
         "y": [
          324,
          324
         ]
        },
        {
         "hovertemplate": "2024-09-03 - 06:45:00 - 06:51:00",
         "line": {
          "color": "red",
          "width": 7
         },
         "mode": "lines",
         "showlegend": false,
         "type": "scatter",
         "x": [
          6.75,
          6.85
         ],
         "y": [
          324,
          324
         ]
        },
        {
         "hovertemplate": "2024-09-03 - 23:12:00 - 24:00:00",
         "line": {
          "color": "blue",
          "width": 7
         },
         "mode": "lines",
         "showlegend": false,
         "type": "scatter",
         "x": [
          23.2,
          24
         ],
         "y": [
          324,
          324
         ]
        },
        {
         "hovertemplate": "2024-09-04 - 00:00:00 - 07:44:00",
         "line": {
          "color": "blue",
          "width": 7
         },
         "mode": "lines",
         "showlegend": false,
         "type": "scatter",
         "x": [
          0,
          7.733333333333333
         ],
         "y": [
          325,
          325
         ]
        },
        {
         "hovertemplate": "2024-09-04 - 14:52:00 - 17:24:00",
         "line": {
          "color": "blue",
          "width": 7
         },
         "mode": "lines",
         "showlegend": false,
         "type": "scatter",
         "x": [
          14.866666666666667,
          17.4
         ],
         "y": [
          325,
          325
         ]
        },
        {
         "hovertemplate": "2024-09-05 - 01:14:00 - 09:04:00",
         "line": {
          "color": "blue",
          "width": 7
         },
         "mode": "lines",
         "showlegend": false,
         "type": "scatter",
         "x": [
          1.2333333333333334,
          9.066666666666666
         ],
         "y": [
          326,
          326
         ]
        },
        {
         "hovertemplate": "2024-09-05 - 13:21:00 - 15:24:00",
         "line": {
          "color": "blue",
          "width": 7
         },
         "mode": "lines",
         "showlegend": false,
         "type": "scatter",
         "x": [
          13.35,
          15.4
         ],
         "y": [
          326,
          326
         ]
        },
        {
         "hovertemplate": "2024-09-05 - 06:38:00 - 06:47:00",
         "line": {
          "color": "red",
          "width": 7
         },
         "mode": "lines",
         "showlegend": false,
         "type": "scatter",
         "x": [
          6.633333333333333,
          6.783333333333333
         ],
         "y": [
          326,
          326
         ]
        },
        {
         "hovertemplate": "2024-09-05 - 07:53:00 - 08:04:00",
         "line": {
          "color": "red",
          "width": 7
         },
         "mode": "lines",
         "showlegend": false,
         "type": "scatter",
         "x": [
          7.883333333333333,
          8.066666666666666
         ],
         "y": [
          326,
          326
         ]
        },
        {
         "hovertemplate": "2024-09-05 - 14:48:00 - 14:56:00",
         "line": {
          "color": "red",
          "width": 7
         },
         "mode": "lines",
         "showlegend": false,
         "type": "scatter",
         "x": [
          14.8,
          14.933333333333334
         ],
         "y": [
          326,
          326
         ]
        },
        {
         "hovertemplate": "2024-09-05 - 23:46:00 - 24:00:00",
         "line": {
          "color": "blue",
          "width": 7
         },
         "mode": "lines",
         "showlegend": false,
         "type": "scatter",
         "x": [
          23.766666666666666,
          24
         ],
         "y": [
          326,
          326
         ]
        },
        {
         "hovertemplate": "2024-09-06 - 00:00:00 - 08:50:00",
         "line": {
          "color": "blue",
          "width": 7
         },
         "mode": "lines",
         "showlegend": false,
         "type": "scatter",
         "x": [
          0,
          8.833333333333334
         ],
         "y": [
          327,
          327
         ]
        },
        {
         "hovertemplate": "2024-09-06 - 15:08:00 - 16:29:00",
         "line": {
          "color": "blue",
          "width": 7
         },
         "mode": "lines",
         "showlegend": false,
         "type": "scatter",
         "x": [
          15.133333333333333,
          16.483333333333334
         ],
         "y": [
          327,
          327
         ]
        },
        {
         "hovertemplate": "2024-09-06 - 07:44:00 - 07:51:00",
         "line": {
          "color": "red",
          "width": 7
         },
         "mode": "lines",
         "showlegend": false,
         "type": "scatter",
         "x": [
          7.733333333333333,
          7.85
         ],
         "y": [
          327,
          327
         ]
        },
        {
         "hovertemplate": "2024-09-06 - 23:36:00 - 24:00:00",
         "line": {
          "color": "blue",
          "width": 7
         },
         "mode": "lines",
         "showlegend": false,
         "type": "scatter",
         "x": [
          23.6,
          24
         ],
         "y": [
          327,
          327
         ]
        },
        {
         "hovertemplate": "2024-09-07 - 00:00:00 - 11:12:00",
         "line": {
          "color": "blue",
          "width": 7
         },
         "mode": "lines",
         "showlegend": false,
         "type": "scatter",
         "x": [
          0,
          11.2
         ],
         "y": [
          328,
          328
         ]
        },
        {
         "hovertemplate": "2024-09-07 - 13:54:00 - 15:24:00",
         "line": {
          "color": "blue",
          "width": 7
         },
         "mode": "lines",
         "showlegend": false,
         "type": "scatter",
         "x": [
          13.9,
          15.4
         ],
         "y": [
          328,
          328
         ]
        },
        {
         "hovertemplate": "2024-09-07 - 08:36:00 - 08:45:00",
         "line": {
          "color": "red",
          "width": 7
         },
         "mode": "lines",
         "showlegend": false,
         "type": "scatter",
         "x": [
          8.6,
          8.75
         ],
         "y": [
          328,
          328
         ]
        },
        {
         "hovertemplate": "2024-09-08 - 00:28:00 - 09:20:00",
         "line": {
          "color": "blue",
          "width": 7
         },
         "mode": "lines",
         "showlegend": false,
         "type": "scatter",
         "x": [
          0.4666666666666667,
          9.333333333333334
         ],
         "y": [
          329,
          329
         ]
        },
        {
         "hovertemplate": "2024-09-08 - 16:36:00 - 18:04:00",
         "line": {
          "color": "blue",
          "width": 7
         },
         "mode": "lines",
         "showlegend": false,
         "type": "scatter",
         "x": [
          16.6,
          18.066666666666666
         ],
         "y": [
          329,
          329
         ]
        },
        {
         "hovertemplate": "2024-09-08 - 06:22:00 - 06:29:00",
         "line": {
          "color": "red",
          "width": 7
         },
         "mode": "lines",
         "showlegend": false,
         "type": "scatter",
         "x": [
          6.366666666666666,
          6.483333333333333
         ],
         "y": [
          329,
          329
         ]
        },
        {
         "hovertemplate": "2024-09-08 - 23:20:00 - 24:00:00",
         "line": {
          "color": "blue",
          "width": 7
         },
         "mode": "lines",
         "showlegend": false,
         "type": "scatter",
         "x": [
          23.333333333333332,
          24
         ],
         "y": [
          329,
          329
         ]
        },
        {
         "hovertemplate": "2024-09-09 - 00:00:00 - 05:29:00",
         "line": {
          "color": "blue",
          "width": 7
         },
         "mode": "lines",
         "showlegend": false,
         "type": "scatter",
         "x": [
          0,
          5.483333333333333
         ],
         "y": [
          330,
          330
         ]
        },
        {
         "hovertemplate": "2024-09-10 - 00:15:00 - 07:28:00",
         "line": {
          "color": "blue",
          "width": 7
         },
         "mode": "lines",
         "showlegend": false,
         "type": "scatter",
         "x": [
          0.25,
          7.466666666666667
         ],
         "y": [
          331,
          331
         ]
        },
        {
         "hovertemplate": "2024-09-10 - 05:56:00 - 06:04:00",
         "line": {
          "color": "red",
          "width": 7
         },
         "mode": "lines",
         "showlegend": false,
         "type": "scatter",
         "x": [
          5.933333333333334,
          6.066666666666666
         ],
         "y": [
          331,
          331
         ]
        },
        {
         "hovertemplate": "2024-09-10 - 22:52:00 - 24:00:00",
         "line": {
          "color": "blue",
          "width": 7
         },
         "mode": "lines",
         "showlegend": false,
         "type": "scatter",
         "x": [
          22.866666666666667,
          24
         ],
         "y": [
          331,
          331
         ]
        },
        {
         "hovertemplate": "2024-09-11 - 00:00:00 - 08:38:00",
         "line": {
          "color": "blue",
          "width": 7
         },
         "mode": "lines",
         "showlegend": false,
         "type": "scatter",
         "x": [
          0,
          8.633333333333333
         ],
         "y": [
          332,
          332
         ]
        },
        {
         "hovertemplate": "2024-09-12 - 00:15:00 - 08:52:00",
         "line": {
          "color": "blue",
          "width": 7
         },
         "mode": "lines",
         "showlegend": false,
         "type": "scatter",
         "x": [
          0.25,
          8.866666666666667
         ],
         "y": [
          333,
          333
         ]
        },
        {
         "hovertemplate": "2024-09-12 - 14:19:00 - 15:06:00",
         "line": {
          "color": "blue",
          "width": 7
         },
         "mode": "lines",
         "showlegend": false,
         "type": "scatter",
         "x": [
          14.316666666666666,
          15.1
         ],
         "y": [
          333,
          333
         ]
        },
        {
         "hovertemplate": "2024-09-12 - 07:30:00 - 07:38:00",
         "line": {
          "color": "red",
          "width": 7
         },
         "mode": "lines",
         "showlegend": false,
         "type": "scatter",
         "x": [
          7.5,
          7.633333333333333
         ],
         "y": [
          333,
          333
         ]
        },
        {
         "hovertemplate": "2024-09-13 - 00:00:00 - 07:24:00",
         "line": {
          "color": "blue",
          "width": 7
         },
         "mode": "lines",
         "showlegend": false,
         "type": "scatter",
         "x": [
          0,
          7.4
         ],
         "y": [
          334,
          334
         ]
        },
        {
         "hovertemplate": "2024-09-13 - 15:22:00 - 15:35:00",
         "line": {
          "color": "blue",
          "width": 7
         },
         "mode": "lines",
         "showlegend": false,
         "type": "scatter",
         "x": [
          15.366666666666667,
          15.583333333333334
         ],
         "y": [
          334,
          334
         ]
        },
        {
         "hovertemplate": "2024-09-13 - 06:03:00 - 06:10:00",
         "line": {
          "color": "red",
          "width": 7
         },
         "mode": "lines",
         "showlegend": false,
         "type": "scatter",
         "x": [
          6.05,
          6.166666666666667
         ],
         "y": [
          334,
          334
         ]
        },
        {
         "hovertemplate": "2024-09-14 - 00:32:00 - 08:07:00",
         "line": {
          "color": "blue",
          "width": 7
         },
         "mode": "lines",
         "showlegend": false,
         "type": "scatter",
         "x": [
          0.5333333333333333,
          8.116666666666667
         ],
         "y": [
          335,
          335
         ]
        },
        {
         "hovertemplate": "2024-09-14 - 13:13:00 - 16:16:00",
         "line": {
          "color": "blue",
          "width": 7
         },
         "mode": "lines",
         "showlegend": false,
         "type": "scatter",
         "x": [
          13.216666666666667,
          16.266666666666666
         ],
         "y": [
          335,
          335
         ]
        },
        {
         "hovertemplate": "2024-09-14 - 18:30:00 - 19:33:00",
         "line": {
          "color": "blue",
          "width": 7
         },
         "mode": "lines",
         "showlegend": false,
         "type": "scatter",
         "x": [
          18.5,
          19.55
         ],
         "y": [
          335,
          335
         ]
        },
        {
         "hovertemplate": "2024-09-14 - 15:24:00 - 15:30:00",
         "line": {
          "color": "red",
          "width": 7
         },
         "mode": "lines",
         "showlegend": false,
         "type": "scatter",
         "x": [
          15.4,
          15.5
         ],
         "y": [
          335,
          335
         ]
        },
        {
         "hovertemplate": "2024-09-15 - 01:50:00 - 08:02:00",
         "line": {
          "color": "blue",
          "width": 7
         },
         "mode": "lines",
         "showlegend": false,
         "type": "scatter",
         "x": [
          1.8333333333333335,
          8.033333333333333
         ],
         "y": [
          336,
          336
         ]
        },
        {
         "hovertemplate": "2024-09-15 - 12:50:00 - 15:04:00",
         "line": {
          "color": "blue",
          "width": 7
         },
         "mode": "lines",
         "showlegend": false,
         "type": "scatter",
         "x": [
          12.833333333333334,
          15.066666666666666
         ],
         "y": [
          336,
          336
         ]
        },
        {
         "hovertemplate": "2024-09-15 - 14:01:00 - 14:07:00",
         "line": {
          "color": "red",
          "width": 7
         },
         "mode": "lines",
         "showlegend": false,
         "type": "scatter",
         "x": [
          14.016666666666667,
          14.116666666666667
         ],
         "y": [
          336,
          336
         ]
        },
        {
         "hovertemplate": "2024-09-15 - 23:56:00 - 24:00:00",
         "line": {
          "color": "blue",
          "width": 7
         },
         "mode": "lines",
         "showlegend": false,
         "type": "scatter",
         "x": [
          23.933333333333334,
          24
         ],
         "y": [
          336,
          336
         ]
        },
        {
         "hovertemplate": "2024-09-16 - 00:00:00 - 07:40:00",
         "line": {
          "color": "blue",
          "width": 7
         },
         "mode": "lines",
         "showlegend": false,
         "type": "scatter",
         "x": [
          0,
          7.666666666666667
         ],
         "y": [
          337,
          337
         ]
        },
        {
         "hovertemplate": "2024-09-16 - 13:19:00 - 14:42:00",
         "line": {
          "color": "blue",
          "width": 7
         },
         "mode": "lines",
         "showlegend": false,
         "type": "scatter",
         "x": [
          13.316666666666666,
          14.7
         ],
         "y": [
          337,
          337
         ]
        },
        {
         "hovertemplate": "2024-09-16 - 23:47:00 - 24:00:00",
         "line": {
          "color": "blue",
          "width": 7
         },
         "mode": "lines",
         "showlegend": false,
         "type": "scatter",
         "x": [
          23.783333333333335,
          24
         ],
         "y": [
          337,
          337
         ]
        },
        {
         "hovertemplate": "2024-09-17 - 00:00:00 - 14:44:00",
         "line": {
          "color": "blue",
          "width": 7
         },
         "mode": "lines",
         "showlegend": false,
         "type": "scatter",
         "x": [
          0,
          14.733333333333333
         ],
         "y": [
          338,
          338
         ]
        },
        {
         "hovertemplate": "2024-09-17 - 04:43:00 - 04:52:00",
         "line": {
          "color": "red",
          "width": 7
         },
         "mode": "lines",
         "showlegend": false,
         "type": "scatter",
         "x": [
          4.716666666666667,
          4.866666666666667
         ],
         "y": [
          338,
          338
         ]
        },
        {
         "hovertemplate": "2024-09-17 - 07:58:00 - 08:05:00",
         "line": {
          "color": "red",
          "width": 7
         },
         "mode": "lines",
         "showlegend": false,
         "type": "scatter",
         "x": [
          7.966666666666667,
          8.083333333333334
         ],
         "y": [
          338,
          338
         ]
        },
        {
         "hovertemplate": "2024-09-17 - 10:02:00 - 11:08:00",
         "line": {
          "color": "red",
          "width": 7
         },
         "mode": "lines",
         "showlegend": false,
         "type": "scatter",
         "x": [
          10.033333333333333,
          11.133333333333333
         ],
         "y": [
          338,
          338
         ]
        },
        {
         "hovertemplate": "2024-09-17 - 12:13:00 - 12:39:00",
         "line": {
          "color": "red",
          "width": 7
         },
         "mode": "lines",
         "showlegend": false,
         "type": "scatter",
         "x": [
          12.216666666666667,
          12.65
         ],
         "y": [
          338,
          338
         ]
        },
        {
         "hovertemplate": "2024-09-17 - 23:27:00 - 24:00:00",
         "line": {
          "color": "blue",
          "width": 7
         },
         "mode": "lines",
         "showlegend": false,
         "type": "scatter",
         "x": [
          23.45,
          24
         ],
         "y": [
          338,
          338
         ]
        },
        {
         "hovertemplate": "2024-09-18 - 00:00:00 - 06:18:00",
         "line": {
          "color": "blue",
          "width": 7
         },
         "mode": "lines",
         "showlegend": false,
         "type": "scatter",
         "x": [
          0,
          6.3
         ],
         "y": [
          339,
          339
         ]
        },
        {
         "hovertemplate": "2024-09-18 - 13:34:00 - 16:49:00",
         "line": {
          "color": "blue",
          "width": 7
         },
         "mode": "lines",
         "showlegend": false,
         "type": "scatter",
         "x": [
          13.566666666666666,
          16.816666666666666
         ],
         "y": [
          339,
          339
         ]
        },
        {
         "hovertemplate": "2024-09-19 - 00:17:00 - 07:35:00",
         "line": {
          "color": "blue",
          "width": 7
         },
         "mode": "lines",
         "showlegend": false,
         "type": "scatter",
         "x": [
          0.2833333333333333,
          7.583333333333333
         ],
         "y": [
          340,
          340
         ]
        },
        {
         "hovertemplate": "2024-09-19 - 12:35:00 - 14:36:00",
         "line": {
          "color": "blue",
          "width": 7
         },
         "mode": "lines",
         "showlegend": false,
         "type": "scatter",
         "x": [
          12.583333333333334,
          14.6
         ],
         "y": [
          340,
          340
         ]
        },
        {
         "hovertemplate": "2024-09-19 - 06:33:00 - 06:42:00",
         "line": {
          "color": "red",
          "width": 7
         },
         "mode": "lines",
         "showlegend": false,
         "type": "scatter",
         "x": [
          6.55,
          6.7
         ],
         "y": [
          340,
          340
         ]
        },
        {
         "hovertemplate": "2024-09-20 - 00:17:00 - 08:45:00",
         "line": {
          "color": "blue",
          "width": 7
         },
         "mode": "lines",
         "showlegend": false,
         "type": "scatter",
         "x": [
          0.2833333333333333,
          8.75
         ],
         "y": [
          341,
          341
         ]
        },
        {
         "hovertemplate": "2024-09-21 - 00:27:00 - 06:29:00",
         "line": {
          "color": "blue",
          "width": 7
         },
         "mode": "lines",
         "showlegend": false,
         "type": "scatter",
         "x": [
          0.45,
          6.483333333333333
         ],
         "y": [
          342,
          342
         ]
        },
        {
         "hovertemplate": "2024-09-22 - 00:46:00 - 10:37:00",
         "line": {
          "color": "blue",
          "width": 7
         },
         "mode": "lines",
         "showlegend": false,
         "type": "scatter",
         "x": [
          0.7666666666666667,
          10.616666666666667
         ],
         "y": [
          343,
          343
         ]
        },
        {
         "hovertemplate": "2024-09-22 - 15:41:00 - 16:30:00",
         "line": {
          "color": "blue",
          "width": 7
         },
         "mode": "lines",
         "showlegend": false,
         "type": "scatter",
         "x": [
          15.683333333333334,
          16.5
         ],
         "y": [
          343,
          343
         ]
        },
        {
         "hovertemplate": "2024-09-22 - 08:16:00 - 08:24:00",
         "line": {
          "color": "red",
          "width": 7
         },
         "mode": "lines",
         "showlegend": false,
         "type": "scatter",
         "x": [
          8.266666666666667,
          8.4
         ],
         "y": [
          343,
          343
         ]
        },
        {
         "hovertemplate": "2024-09-23 - 01:28:00 - 08:34:00",
         "line": {
          "color": "blue",
          "width": 7
         },
         "mode": "lines",
         "showlegend": false,
         "type": "scatter",
         "x": [
          1.4666666666666668,
          8.566666666666666
         ],
         "y": [
          344,
          344
         ]
        },
        {
         "hovertemplate": "2024-09-23 - 13:23:00 - 16:41:00",
         "line": {
          "color": "blue",
          "width": 7
         },
         "mode": "lines",
         "showlegend": false,
         "type": "scatter",
         "x": [
          13.383333333333333,
          16.683333333333334
         ],
         "y": [
          344,
          344
         ]
        },
        {
         "hovertemplate": "2024-09-23 - 07:27:00 - 07:36:00",
         "line": {
          "color": "red",
          "width": 7
         },
         "mode": "lines",
         "showlegend": false,
         "type": "scatter",
         "x": [
          7.45,
          7.6
         ],
         "y": [
          344,
          344
         ]
        },
        {
         "hovertemplate": "2024-09-23 - 15:39:00 - 15:49:00",
         "line": {
          "color": "red",
          "width": 7
         },
         "mode": "lines",
         "showlegend": false,
         "type": "scatter",
         "x": [
          15.65,
          15.816666666666666
         ],
         "y": [
          344,
          344
         ]
        },
        {
         "hovertemplate": "2024-09-23 - 23:56:00 - 24:00:00",
         "line": {
          "color": "blue",
          "width": 7
         },
         "mode": "lines",
         "showlegend": false,
         "type": "scatter",
         "x": [
          23.933333333333334,
          24
         ],
         "y": [
          344,
          344
         ]
        },
        {
         "hovertemplate": "2024-09-24 - 00:00:00 - 09:10:00",
         "line": {
          "color": "blue",
          "width": 7
         },
         "mode": "lines",
         "showlegend": false,
         "type": "scatter",
         "x": [
          0,
          9.166666666666666
         ],
         "y": [
          345,
          345
         ]
        },
        {
         "hovertemplate": "2024-09-24 - 14:54:00 - 16:19:00",
         "line": {
          "color": "blue",
          "width": 7
         },
         "mode": "lines",
         "showlegend": false,
         "type": "scatter",
         "x": [
          14.9,
          16.316666666666666
         ],
         "y": [
          345,
          345
         ]
        },
        {
         "hovertemplate": "2024-09-24 - 07:16:00 - 07:22:00",
         "line": {
          "color": "red",
          "width": 7
         },
         "mode": "lines",
         "showlegend": false,
         "type": "scatter",
         "x": [
          7.266666666666667,
          7.366666666666666
         ],
         "y": [
          345,
          345
         ]
        },
        {
         "hovertemplate": "2024-09-25 - 01:08:00 - 09:03:00",
         "line": {
          "color": "blue",
          "width": 7
         },
         "mode": "lines",
         "showlegend": false,
         "type": "scatter",
         "x": [
          1.1333333333333333,
          9.05
         ],
         "y": [
          346,
          346
         ]
        },
        {
         "hovertemplate": "2024-09-25 - 07:32:00 - 07:42:00",
         "line": {
          "color": "red",
          "width": 7
         },
         "mode": "lines",
         "showlegend": false,
         "type": "scatter",
         "x": [
          7.533333333333333,
          7.7
         ],
         "y": [
          346,
          346
         ]
        },
        {
         "hovertemplate": "2024-09-26 - 03:45:00 - 08:18:00",
         "line": {
          "color": "blue",
          "width": 7
         },
         "mode": "lines",
         "showlegend": false,
         "type": "scatter",
         "x": [
          3.75,
          8.3
         ],
         "y": [
          347,
          347
         ]
        },
        {
         "hovertemplate": "2024-09-26 - 14:22:00 - 16:25:00",
         "line": {
          "color": "blue",
          "width": 7
         },
         "mode": "lines",
         "showlegend": false,
         "type": "scatter",
         "x": [
          14.366666666666667,
          16.416666666666668
         ],
         "y": [
          347,
          347
         ]
        },
        {
         "hovertemplate": "2024-09-26 - 04:19:00 - 04:56:00",
         "line": {
          "color": "red",
          "width": 7
         },
         "mode": "lines",
         "showlegend": false,
         "type": "scatter",
         "x": [
          4.316666666666666,
          4.933333333333334
         ],
         "y": [
          347,
          347
         ]
        },
        {
         "hovertemplate": "2024-09-26 - 05:56:00 - 07:37:00",
         "line": {
          "color": "red",
          "width": 7
         },
         "mode": "lines",
         "showlegend": false,
         "type": "scatter",
         "x": [
          5.933333333333334,
          7.616666666666667
         ],
         "y": [
          347,
          347
         ]
        },
        {
         "hovertemplate": "2024-09-26 - 23:18:00 - 24:00:00",
         "line": {
          "color": "blue",
          "width": 7
         },
         "mode": "lines",
         "showlegend": false,
         "type": "scatter",
         "x": [
          23.3,
          24
         ],
         "y": [
          347,
          347
         ]
        },
        {
         "hovertemplate": "2024-09-27 - 00:00:00 - 08:51:00",
         "line": {
          "color": "blue",
          "width": 7
         },
         "mode": "lines",
         "showlegend": false,
         "type": "scatter",
         "x": [
          0,
          8.85
         ],
         "y": [
          348,
          348
         ]
        },
        {
         "hovertemplate": "2024-09-27 - 14:30:00 - 16:33:00",
         "line": {
          "color": "blue",
          "width": 7
         },
         "mode": "lines",
         "showlegend": false,
         "type": "scatter",
         "x": [
          14.5,
          16.55
         ],
         "y": [
          348,
          348
         ]
        },
        {
         "hovertemplate": "2024-09-27 - 23:47:00 - 24:00:00",
         "line": {
          "color": "blue",
          "width": 7
         },
         "mode": "lines",
         "showlegend": false,
         "type": "scatter",
         "x": [
          23.783333333333335,
          24
         ],
         "y": [
          348,
          348
         ]
        },
        {
         "hovertemplate": "2024-09-28 - 00:00:00 - 09:20:00",
         "line": {
          "color": "blue",
          "width": 7
         },
         "mode": "lines",
         "showlegend": false,
         "type": "scatter",
         "x": [
          0,
          9.333333333333334
         ],
         "y": [
          349,
          349
         ]
        },
        {
         "hovertemplate": "2024-09-28 - 14:49:00 - 20:58:00",
         "line": {
          "color": "blue",
          "width": 7
         },
         "mode": "lines",
         "showlegend": false,
         "type": "scatter",
         "x": [
          14.816666666666666,
          20.966666666666665
         ],
         "y": [
          349,
          349
         ]
        },
        {
         "hovertemplate": "2024-09-28 - 05:14:00 - 05:22:00",
         "line": {
          "color": "red",
          "width": 7
         },
         "mode": "lines",
         "showlegend": false,
         "type": "scatter",
         "x": [
          5.233333333333333,
          5.366666666666666
         ],
         "y": [
          349,
          349
         ]
        },
        {
         "hovertemplate": "2024-09-28 - 18:01:00 - 19:48:00",
         "line": {
          "color": "red",
          "width": 7
         },
         "mode": "lines",
         "showlegend": false,
         "type": "scatter",
         "x": [
          18.016666666666666,
          19.8
         ],
         "y": [
          349,
          349
         ]
        },
        {
         "hovertemplate": "2024-09-29 - 01:32:00 - 08:51:00",
         "line": {
          "color": "blue",
          "width": 7
         },
         "mode": "lines",
         "showlegend": false,
         "type": "scatter",
         "x": [
          1.5333333333333332,
          8.85
         ],
         "y": [
          350,
          350
         ]
        },
        {
         "hovertemplate": "2024-09-29 - 17:55:00 - 19:34:00",
         "line": {
          "color": "blue",
          "width": 7
         },
         "mode": "lines",
         "showlegend": false,
         "type": "scatter",
         "x": [
          17.916666666666668,
          19.566666666666666
         ],
         "y": [
          350,
          350
         ]
        },
        {
         "hovertemplate": "2024-09-29 - 07:39:00 - 07:49:00",
         "line": {
          "color": "red",
          "width": 7
         },
         "mode": "lines",
         "showlegend": false,
         "type": "scatter",
         "x": [
          7.65,
          7.816666666666666
         ],
         "y": [
          350,
          350
         ]
        },
        {
         "hovertemplate": "2024-09-30 - 01:03:00 - 09:23:00",
         "line": {
          "color": "blue",
          "width": 7
         },
         "mode": "lines",
         "showlegend": false,
         "type": "scatter",
         "x": [
          1.05,
          9.383333333333333
         ],
         "y": [
          351,
          351
         ]
        },
        {
         "hovertemplate": "2024-09-30 - 14:25:00 - 15:47:00",
         "line": {
          "color": "blue",
          "width": 7
         },
         "mode": "lines",
         "showlegend": false,
         "type": "scatter",
         "x": [
          14.416666666666666,
          15.783333333333333
         ],
         "y": [
          351,
          351
         ]
        },
        {
         "hovertemplate": "2024-09-30 - 08:04:00 - 08:15:00",
         "line": {
          "color": "red",
          "width": 7
         },
         "mode": "lines",
         "showlegend": false,
         "type": "scatter",
         "x": [
          8.066666666666666,
          8.25
         ],
         "y": [
          351,
          351
         ]
        },
        {
         "hovertemplate": "2024-10-01 - 00:40:00 - 08:18:00",
         "line": {
          "color": "blue",
          "width": 7
         },
         "mode": "lines",
         "showlegend": false,
         "type": "scatter",
         "x": [
          0.6666666666666666,
          8.3
         ],
         "y": [
          352,
          352
         ]
        },
        {
         "hovertemplate": "2024-10-02 - 00:33:00 - 07:51:00",
         "line": {
          "color": "blue",
          "width": 7
         },
         "mode": "lines",
         "showlegend": false,
         "type": "scatter",
         "x": [
          0.55,
          7.85
         ],
         "y": [
          353,
          353
         ]
        },
        {
         "hovertemplate": "2024-10-02 - 14:29:00 - 15:37:00",
         "line": {
          "color": "blue",
          "width": 7
         },
         "mode": "lines",
         "showlegend": false,
         "type": "scatter",
         "x": [
          14.483333333333333,
          15.616666666666667
         ],
         "y": [
          353,
          353
         ]
        },
        {
         "hovertemplate": "2024-10-03 - 01:18:00 - 08:19:00",
         "line": {
          "color": "blue",
          "width": 7
         },
         "mode": "lines",
         "showlegend": false,
         "type": "scatter",
         "x": [
          1.3,
          8.316666666666666
         ],
         "y": [
          354,
          354
         ]
        },
        {
         "hovertemplate": "2024-10-03 - 13:06:00 - 14:44:00",
         "line": {
          "color": "blue",
          "width": 7
         },
         "mode": "lines",
         "showlegend": false,
         "type": "scatter",
         "x": [
          13.1,
          14.733333333333333
         ],
         "y": [
          354,
          354
         ]
        },
        {
         "hovertemplate": "2024-10-03 - 05:04:00 - 05:11:00",
         "line": {
          "color": "red",
          "width": 7
         },
         "mode": "lines",
         "showlegend": false,
         "type": "scatter",
         "x": [
          5.066666666666666,
          5.183333333333334
         ],
         "y": [
          354,
          354
         ]
        },
        {
         "hovertemplate": "2024-10-03 - 23:44:00 - 24:00:00",
         "line": {
          "color": "blue",
          "width": 7
         },
         "mode": "lines",
         "showlegend": false,
         "type": "scatter",
         "x": [
          23.733333333333334,
          24
         ],
         "y": [
          354,
          354
         ]
        },
        {
         "hovertemplate": "2024-10-04 - 00:00:00 - 08:44:00",
         "line": {
          "color": "blue",
          "width": 7
         },
         "mode": "lines",
         "showlegend": false,
         "type": "scatter",
         "x": [
          0,
          8.733333333333333
         ],
         "y": [
          355,
          355
         ]
        },
        {
         "hovertemplate": "2024-10-04 - 15:09:00 - 16:43:00",
         "line": {
          "color": "blue",
          "width": 7
         },
         "mode": "lines",
         "showlegend": false,
         "type": "scatter",
         "x": [
          15.15,
          16.716666666666665
         ],
         "y": [
          355,
          355
         ]
        },
        {
         "hovertemplate": "2024-10-04 - 04:36:00 - 04:43:00",
         "line": {
          "color": "red",
          "width": 7
         },
         "mode": "lines",
         "showlegend": false,
         "type": "scatter",
         "x": [
          4.6,
          4.716666666666667
         ],
         "y": [
          355,
          355
         ]
        },
        {
         "hovertemplate": "2024-10-05 - 00:19:00 - 09:15:00",
         "line": {
          "color": "blue",
          "width": 7
         },
         "mode": "lines",
         "showlegend": false,
         "type": "scatter",
         "x": [
          0.31666666666666665,
          9.25
         ],
         "y": [
          356,
          356
         ]
        },
        {
         "hovertemplate": "2024-10-05 - 13:54:00 - 17:04:00",
         "line": {
          "color": "blue",
          "width": 7
         },
         "mode": "lines",
         "showlegend": false,
         "type": "scatter",
         "x": [
          13.9,
          17.066666666666666
         ],
         "y": [
          356,
          356
         ]
        },
        {
         "hovertemplate": "2024-10-06 - 00:23:00 - 09:59:00",
         "line": {
          "color": "blue",
          "width": 7
         },
         "mode": "lines",
         "showlegend": false,
         "type": "scatter",
         "x": [
          0.38333333333333336,
          9.983333333333333
         ],
         "y": [
          357,
          357
         ]
        },
        {
         "hovertemplate": "2024-10-06 - 15:19:00 - 16:26:00",
         "line": {
          "color": "blue",
          "width": 7
         },
         "mode": "lines",
         "showlegend": false,
         "type": "scatter",
         "x": [
          15.316666666666666,
          16.433333333333334
         ],
         "y": [
          357,
          357
         ]
        },
        {
         "hovertemplate": "2024-10-06 - 07:49:00 - 07:58:00",
         "line": {
          "color": "red",
          "width": 7
         },
         "mode": "lines",
         "showlegend": false,
         "type": "scatter",
         "x": [
          7.816666666666666,
          7.966666666666667
         ],
         "y": [
          357,
          357
         ]
        },
        {
         "hovertemplate": "2024-10-06 - 23:39:00 - 24:00:00",
         "line": {
          "color": "blue",
          "width": 7
         },
         "mode": "lines",
         "showlegend": false,
         "type": "scatter",
         "x": [
          23.65,
          24
         ],
         "y": [
          357,
          357
         ]
        },
        {
         "hovertemplate": "2024-10-07 - 00:00:00 - 08:21:00",
         "line": {
          "color": "blue",
          "width": 7
         },
         "mode": "lines",
         "showlegend": false,
         "type": "scatter",
         "x": [
          0,
          8.35
         ],
         "y": [
          358,
          358
         ]
        },
        {
         "hovertemplate": "2024-10-07 - 12:35:00 - 14:48:00",
         "line": {
          "color": "blue",
          "width": 7
         },
         "mode": "lines",
         "showlegend": false,
         "type": "scatter",
         "x": [
          12.583333333333334,
          14.8
         ],
         "y": [
          358,
          358
         ]
        },
        {
         "hovertemplate": "2024-10-07 - 23:35:00 - 24:00:00",
         "line": {
          "color": "blue",
          "width": 7
         },
         "mode": "lines",
         "showlegend": false,
         "type": "scatter",
         "x": [
          23.583333333333332,
          24
         ],
         "y": [
          358,
          358
         ]
        },
        {
         "hovertemplate": "2024-10-08 - 00:00:00 - 08:09:00",
         "line": {
          "color": "blue",
          "width": 7
         },
         "mode": "lines",
         "showlegend": false,
         "type": "scatter",
         "x": [
          0,
          8.15
         ],
         "y": [
          359,
          359
         ]
        },
        {
         "hovertemplate": "2024-10-08 - 07:15:00 - 07:21:00",
         "line": {
          "color": "red",
          "width": 7
         },
         "mode": "lines",
         "showlegend": false,
         "type": "scatter",
         "x": [
          7.25,
          7.35
         ],
         "y": [
          359,
          359
         ]
        },
        {
         "hovertemplate": "2024-10-08 - 23:14:00 - 24:00:00",
         "line": {
          "color": "blue",
          "width": 7
         },
         "mode": "lines",
         "showlegend": false,
         "type": "scatter",
         "x": [
          23.233333333333334,
          24
         ],
         "y": [
          359,
          359
         ]
        },
        {
         "hovertemplate": "2024-10-09 - 00:00:00 - 11:24:00",
         "line": {
          "color": "blue",
          "width": 7
         },
         "mode": "lines",
         "showlegend": false,
         "type": "scatter",
         "x": [
          0,
          11.4
         ],
         "y": [
          360,
          360
         ]
        },
        {
         "hovertemplate": "2024-10-09 - 16:15:00 - 17:24:00",
         "line": {
          "color": "blue",
          "width": 7
         },
         "mode": "lines",
         "showlegend": false,
         "type": "scatter",
         "x": [
          16.25,
          17.4
         ],
         "y": [
          360,
          360
         ]
        },
        {
         "hovertemplate": "2024-10-09 - 08:59:00 - 10:00:00",
         "line": {
          "color": "red",
          "width": 7
         },
         "mode": "lines",
         "showlegend": false,
         "type": "scatter",
         "x": [
          8.983333333333333,
          10
         ],
         "y": [
          360,
          360
         ]
        },
        {
         "hovertemplate": "2024-10-10 - 00:15:00 - 10:09:00",
         "line": {
          "color": "blue",
          "width": 7
         },
         "mode": "lines",
         "showlegend": false,
         "type": "scatter",
         "x": [
          0.25,
          10.15
         ],
         "y": [
          361,
          361
         ]
        },
        {
         "hovertemplate": "2024-10-10 - 15:21:00 - 16:57:00",
         "line": {
          "color": "blue",
          "width": 7
         },
         "mode": "lines",
         "showlegend": false,
         "type": "scatter",
         "x": [
          15.35,
          16.95
         ],
         "y": [
          361,
          361
         ]
        },
        {
         "hovertemplate": "2024-10-10 - 05:22:00 - 05:29:00",
         "line": {
          "color": "red",
          "width": 7
         },
         "mode": "lines",
         "showlegend": false,
         "type": "scatter",
         "x": [
          5.366666666666666,
          5.483333333333333
         ],
         "y": [
          361,
          361
         ]
        },
        {
         "hovertemplate": "2024-10-10 - 23:43:00 - 24:00:00",
         "line": {
          "color": "blue",
          "width": 7
         },
         "mode": "lines",
         "showlegend": false,
         "type": "scatter",
         "x": [
          23.716666666666665,
          24
         ],
         "y": [
          361,
          361
         ]
        },
        {
         "hovertemplate": "2024-10-11 - 00:00:00 - 07:53:00",
         "line": {
          "color": "blue",
          "width": 7
         },
         "mode": "lines",
         "showlegend": false,
         "type": "scatter",
         "x": [
          0,
          7.883333333333333
         ],
         "y": [
          362,
          362
         ]
        },
        {
         "hovertemplate": "2024-10-11 - 12:40:00 - 13:50:00",
         "line": {
          "color": "blue",
          "width": 7
         },
         "mode": "lines",
         "showlegend": false,
         "type": "scatter",
         "x": [
          12.666666666666666,
          13.833333333333334
         ],
         "y": [
          362,
          362
         ]
        },
        {
         "hovertemplate": "2024-10-11 - 22:22:00 - 24:00:00",
         "line": {
          "color": "blue",
          "width": 7
         },
         "mode": "lines",
         "showlegend": false,
         "type": "scatter",
         "x": [
          22.366666666666667,
          24
         ],
         "y": [
          362,
          362
         ]
        },
        {
         "hovertemplate": "2024-10-12 - 00:00:00 - 08:52:00",
         "line": {
          "color": "blue",
          "width": 7
         },
         "mode": "lines",
         "showlegend": false,
         "type": "scatter",
         "x": [
          0,
          8.866666666666667
         ],
         "y": [
          363,
          363
         ]
        },
        {
         "hovertemplate": "2024-10-12 - 13:31:00 - 15:40:00",
         "line": {
          "color": "blue",
          "width": 7
         },
         "mode": "lines",
         "showlegend": false,
         "type": "scatter",
         "x": [
          13.516666666666667,
          15.666666666666666
         ],
         "y": [
          363,
          363
         ]
        },
        {
         "hovertemplate": "2024-10-12 - 23:22:00 - 24:00:00",
         "line": {
          "color": "blue",
          "width": 7
         },
         "mode": "lines",
         "showlegend": false,
         "type": "scatter",
         "x": [
          23.366666666666667,
          24
         ],
         "y": [
          363,
          363
         ]
        },
        {
         "hovertemplate": "2024-10-13 - 00:00:00 - 08:30:00",
         "line": {
          "color": "blue",
          "width": 7
         },
         "mode": "lines",
         "showlegend": false,
         "type": "scatter",
         "x": [
          0,
          8.5
         ],
         "y": [
          364,
          364
         ]
        },
        {
         "hovertemplate": "2024-10-13 - 14:10:00 - 16:02:00",
         "line": {
          "color": "blue",
          "width": 7
         },
         "mode": "lines",
         "showlegend": false,
         "type": "scatter",
         "x": [
          14.166666666666666,
          16.033333333333335
         ],
         "y": [
          364,
          364
         ]
        },
        {
         "hovertemplate": "2024-10-14 - 00:33:00 - 08:42:00",
         "line": {
          "color": "blue",
          "width": 7
         },
         "mode": "lines",
         "showlegend": false,
         "type": "scatter",
         "x": [
          0.55,
          8.7
         ],
         "y": [
          365,
          365
         ]
        },
        {
         "hovertemplate": "2024-10-14 - 14:42:00 - 15:36:00",
         "line": {
          "color": "blue",
          "width": 7
         },
         "mode": "lines",
         "showlegend": false,
         "type": "scatter",
         "x": [
          14.7,
          15.6
         ],
         "y": [
          365,
          365
         ]
        },
        {
         "hovertemplate": "2024-10-14 - 07:00:00 - 07:10:00",
         "line": {
          "color": "red",
          "width": 7
         },
         "mode": "lines",
         "showlegend": false,
         "type": "scatter",
         "x": [
          7,
          7.166666666666667
         ],
         "y": [
          365,
          365
         ]
        },
        {
         "hovertemplate": "2024-10-15 - 00:40:00 - 08:09:00",
         "line": {
          "color": "blue",
          "width": 7
         },
         "mode": "lines",
         "showlegend": false,
         "type": "scatter",
         "x": [
          0.6666666666666666,
          8.15
         ],
         "y": [
          366,
          366
         ]
        },
        {
         "hovertemplate": "2024-10-15 - 16:35:00 - 17:03:00",
         "line": {
          "color": "blue",
          "width": 7
         },
         "mode": "lines",
         "showlegend": false,
         "type": "scatter",
         "x": [
          16.583333333333332,
          17.05
         ],
         "y": [
          366,
          366
         ]
        }
       ],
       "layout": {
        "height": 800,
        "showlegend": false,
        "template": {
         "data": {
          "bar": [
           {
            "error_x": {
             "color": "#2a3f5f"
            },
            "error_y": {
             "color": "#2a3f5f"
            },
            "marker": {
             "line": {
              "color": "#E5ECF6",
              "width": 0.5
             },
             "pattern": {
              "fillmode": "overlay",
              "size": 10,
              "solidity": 0.2
             }
            },
            "type": "bar"
           }
          ],
          "barpolar": [
           {
            "marker": {
             "line": {
              "color": "#E5ECF6",
              "width": 0.5
             },
             "pattern": {
              "fillmode": "overlay",
              "size": 10,
              "solidity": 0.2
             }
            },
            "type": "barpolar"
           }
          ],
          "carpet": [
           {
            "aaxis": {
             "endlinecolor": "#2a3f5f",
             "gridcolor": "white",
             "linecolor": "white",
             "minorgridcolor": "white",
             "startlinecolor": "#2a3f5f"
            },
            "baxis": {
             "endlinecolor": "#2a3f5f",
             "gridcolor": "white",
             "linecolor": "white",
             "minorgridcolor": "white",
             "startlinecolor": "#2a3f5f"
            },
            "type": "carpet"
           }
          ],
          "choropleth": [
           {
            "colorbar": {
             "outlinewidth": 0,
             "ticks": ""
            },
            "type": "choropleth"
           }
          ],
          "contour": [
           {
            "colorbar": {
             "outlinewidth": 0,
             "ticks": ""
            },
            "colorscale": [
             [
              0,
              "#0d0887"
             ],
             [
              0.1111111111111111,
              "#46039f"
             ],
             [
              0.2222222222222222,
              "#7201a8"
             ],
             [
              0.3333333333333333,
              "#9c179e"
             ],
             [
              0.4444444444444444,
              "#bd3786"
             ],
             [
              0.5555555555555556,
              "#d8576b"
             ],
             [
              0.6666666666666666,
              "#ed7953"
             ],
             [
              0.7777777777777778,
              "#fb9f3a"
             ],
             [
              0.8888888888888888,
              "#fdca26"
             ],
             [
              1,
              "#f0f921"
             ]
            ],
            "type": "contour"
           }
          ],
          "contourcarpet": [
           {
            "colorbar": {
             "outlinewidth": 0,
             "ticks": ""
            },
            "type": "contourcarpet"
           }
          ],
          "heatmap": [
           {
            "colorbar": {
             "outlinewidth": 0,
             "ticks": ""
            },
            "colorscale": [
             [
              0,
              "#0d0887"
             ],
             [
              0.1111111111111111,
              "#46039f"
             ],
             [
              0.2222222222222222,
              "#7201a8"
             ],
             [
              0.3333333333333333,
              "#9c179e"
             ],
             [
              0.4444444444444444,
              "#bd3786"
             ],
             [
              0.5555555555555556,
              "#d8576b"
             ],
             [
              0.6666666666666666,
              "#ed7953"
             ],
             [
              0.7777777777777778,
              "#fb9f3a"
             ],
             [
              0.8888888888888888,
              "#fdca26"
             ],
             [
              1,
              "#f0f921"
             ]
            ],
            "type": "heatmap"
           }
          ],
          "heatmapgl": [
           {
            "colorbar": {
             "outlinewidth": 0,
             "ticks": ""
            },
            "colorscale": [
             [
              0,
              "#0d0887"
             ],
             [
              0.1111111111111111,
              "#46039f"
             ],
             [
              0.2222222222222222,
              "#7201a8"
             ],
             [
              0.3333333333333333,
              "#9c179e"
             ],
             [
              0.4444444444444444,
              "#bd3786"
             ],
             [
              0.5555555555555556,
              "#d8576b"
             ],
             [
              0.6666666666666666,
              "#ed7953"
             ],
             [
              0.7777777777777778,
              "#fb9f3a"
             ],
             [
              0.8888888888888888,
              "#fdca26"
             ],
             [
              1,
              "#f0f921"
             ]
            ],
            "type": "heatmapgl"
           }
          ],
          "histogram": [
           {
            "marker": {
             "pattern": {
              "fillmode": "overlay",
              "size": 10,
              "solidity": 0.2
             }
            },
            "type": "histogram"
           }
          ],
          "histogram2d": [
           {
            "colorbar": {
             "outlinewidth": 0,
             "ticks": ""
            },
            "colorscale": [
             [
              0,
              "#0d0887"
             ],
             [
              0.1111111111111111,
              "#46039f"
             ],
             [
              0.2222222222222222,
              "#7201a8"
             ],
             [
              0.3333333333333333,
              "#9c179e"
             ],
             [
              0.4444444444444444,
              "#bd3786"
             ],
             [
              0.5555555555555556,
              "#d8576b"
             ],
             [
              0.6666666666666666,
              "#ed7953"
             ],
             [
              0.7777777777777778,
              "#fb9f3a"
             ],
             [
              0.8888888888888888,
              "#fdca26"
             ],
             [
              1,
              "#f0f921"
             ]
            ],
            "type": "histogram2d"
           }
          ],
          "histogram2dcontour": [
           {
            "colorbar": {
             "outlinewidth": 0,
             "ticks": ""
            },
            "colorscale": [
             [
              0,
              "#0d0887"
             ],
             [
              0.1111111111111111,
              "#46039f"
             ],
             [
              0.2222222222222222,
              "#7201a8"
             ],
             [
              0.3333333333333333,
              "#9c179e"
             ],
             [
              0.4444444444444444,
              "#bd3786"
             ],
             [
              0.5555555555555556,
              "#d8576b"
             ],
             [
              0.6666666666666666,
              "#ed7953"
             ],
             [
              0.7777777777777778,
              "#fb9f3a"
             ],
             [
              0.8888888888888888,
              "#fdca26"
             ],
             [
              1,
              "#f0f921"
             ]
            ],
            "type": "histogram2dcontour"
           }
          ],
          "mesh3d": [
           {
            "colorbar": {
             "outlinewidth": 0,
             "ticks": ""
            },
            "type": "mesh3d"
           }
          ],
          "parcoords": [
           {
            "line": {
             "colorbar": {
              "outlinewidth": 0,
              "ticks": ""
             }
            },
            "type": "parcoords"
           }
          ],
          "pie": [
           {
            "automargin": true,
            "type": "pie"
           }
          ],
          "scatter": [
           {
            "fillpattern": {
             "fillmode": "overlay",
             "size": 10,
             "solidity": 0.2
            },
            "type": "scatter"
           }
          ],
          "scatter3d": [
           {
            "line": {
             "colorbar": {
              "outlinewidth": 0,
              "ticks": ""
             }
            },
            "marker": {
             "colorbar": {
              "outlinewidth": 0,
              "ticks": ""
             }
            },
            "type": "scatter3d"
           }
          ],
          "scattercarpet": [
           {
            "marker": {
             "colorbar": {
              "outlinewidth": 0,
              "ticks": ""
             }
            },
            "type": "scattercarpet"
           }
          ],
          "scattergeo": [
           {
            "marker": {
             "colorbar": {
              "outlinewidth": 0,
              "ticks": ""
             }
            },
            "type": "scattergeo"
           }
          ],
          "scattergl": [
           {
            "marker": {
             "colorbar": {
              "outlinewidth": 0,
              "ticks": ""
             }
            },
            "type": "scattergl"
           }
          ],
          "scattermapbox": [
           {
            "marker": {
             "colorbar": {
              "outlinewidth": 0,
              "ticks": ""
             }
            },
            "type": "scattermapbox"
           }
          ],
          "scatterpolar": [
           {
            "marker": {
             "colorbar": {
              "outlinewidth": 0,
              "ticks": ""
             }
            },
            "type": "scatterpolar"
           }
          ],
          "scatterpolargl": [
           {
            "marker": {
             "colorbar": {
              "outlinewidth": 0,
              "ticks": ""
             }
            },
            "type": "scatterpolargl"
           }
          ],
          "scatterternary": [
           {
            "marker": {
             "colorbar": {
              "outlinewidth": 0,
              "ticks": ""
             }
            },
            "type": "scatterternary"
           }
          ],
          "surface": [
           {
            "colorbar": {
             "outlinewidth": 0,
             "ticks": ""
            },
            "colorscale": [
             [
              0,
              "#0d0887"
             ],
             [
              0.1111111111111111,
              "#46039f"
             ],
             [
              0.2222222222222222,
              "#7201a8"
             ],
             [
              0.3333333333333333,
              "#9c179e"
             ],
             [
              0.4444444444444444,
              "#bd3786"
             ],
             [
              0.5555555555555556,
              "#d8576b"
             ],
             [
              0.6666666666666666,
              "#ed7953"
             ],
             [
              0.7777777777777778,
              "#fb9f3a"
             ],
             [
              0.8888888888888888,
              "#fdca26"
             ],
             [
              1,
              "#f0f921"
             ]
            ],
            "type": "surface"
           }
          ],
          "table": [
           {
            "cells": {
             "fill": {
              "color": "#EBF0F8"
             },
             "line": {
              "color": "white"
             }
            },
            "header": {
             "fill": {
              "color": "#C8D4E3"
             },
             "line": {
              "color": "white"
             }
            },
            "type": "table"
           }
          ]
         },
         "layout": {
          "annotationdefaults": {
           "arrowcolor": "#2a3f5f",
           "arrowhead": 0,
           "arrowwidth": 1
          },
          "autotypenumbers": "strict",
          "coloraxis": {
           "colorbar": {
            "outlinewidth": 0,
            "ticks": ""
           }
          },
          "colorscale": {
           "diverging": [
            [
             0,
             "#8e0152"
            ],
            [
             0.1,
             "#c51b7d"
            ],
            [
             0.2,
             "#de77ae"
            ],
            [
             0.3,
             "#f1b6da"
            ],
            [
             0.4,
             "#fde0ef"
            ],
            [
             0.5,
             "#f7f7f7"
            ],
            [
             0.6,
             "#e6f5d0"
            ],
            [
             0.7,
             "#b8e186"
            ],
            [
             0.8,
             "#7fbc41"
            ],
            [
             0.9,
             "#4d9221"
            ],
            [
             1,
             "#276419"
            ]
           ],
           "sequential": [
            [
             0,
             "#0d0887"
            ],
            [
             0.1111111111111111,
             "#46039f"
            ],
            [
             0.2222222222222222,
             "#7201a8"
            ],
            [
             0.3333333333333333,
             "#9c179e"
            ],
            [
             0.4444444444444444,
             "#bd3786"
            ],
            [
             0.5555555555555556,
             "#d8576b"
            ],
            [
             0.6666666666666666,
             "#ed7953"
            ],
            [
             0.7777777777777778,
             "#fb9f3a"
            ],
            [
             0.8888888888888888,
             "#fdca26"
            ],
            [
             1,
             "#f0f921"
            ]
           ],
           "sequentialminus": [
            [
             0,
             "#0d0887"
            ],
            [
             0.1111111111111111,
             "#46039f"
            ],
            [
             0.2222222222222222,
             "#7201a8"
            ],
            [
             0.3333333333333333,
             "#9c179e"
            ],
            [
             0.4444444444444444,
             "#bd3786"
            ],
            [
             0.5555555555555556,
             "#d8576b"
            ],
            [
             0.6666666666666666,
             "#ed7953"
            ],
            [
             0.7777777777777778,
             "#fb9f3a"
            ],
            [
             0.8888888888888888,
             "#fdca26"
            ],
            [
             1,
             "#f0f921"
            ]
           ]
          },
          "colorway": [
           "#636efa",
           "#EF553B",
           "#00cc96",
           "#ab63fa",
           "#FFA15A",
           "#19d3f3",
           "#FF6692",
           "#B6E880",
           "#FF97FF",
           "#FECB52"
          ],
          "font": {
           "color": "#2a3f5f"
          },
          "geo": {
           "bgcolor": "white",
           "lakecolor": "white",
           "landcolor": "#E5ECF6",
           "showlakes": true,
           "showland": true,
           "subunitcolor": "white"
          },
          "hoverlabel": {
           "align": "left"
          },
          "hovermode": "closest",
          "mapbox": {
           "style": "light"
          },
          "paper_bgcolor": "white",
          "plot_bgcolor": "#E5ECF6",
          "polar": {
           "angularaxis": {
            "gridcolor": "white",
            "linecolor": "white",
            "ticks": ""
           },
           "bgcolor": "#E5ECF6",
           "radialaxis": {
            "gridcolor": "white",
            "linecolor": "white",
            "ticks": ""
           }
          },
          "scene": {
           "xaxis": {
            "backgroundcolor": "#E5ECF6",
            "gridcolor": "white",
            "gridwidth": 2,
            "linecolor": "white",
            "showbackground": true,
            "ticks": "",
            "zerolinecolor": "white"
           },
           "yaxis": {
            "backgroundcolor": "#E5ECF6",
            "gridcolor": "white",
            "gridwidth": 2,
            "linecolor": "white",
            "showbackground": true,
            "ticks": "",
            "zerolinecolor": "white"
           },
           "zaxis": {
            "backgroundcolor": "#E5ECF6",
            "gridcolor": "white",
            "gridwidth": 2,
            "linecolor": "white",
            "showbackground": true,
            "ticks": "",
            "zerolinecolor": "white"
           }
          },
          "shapedefaults": {
           "line": {
            "color": "#2a3f5f"
           }
          },
          "ternary": {
           "aaxis": {
            "gridcolor": "white",
            "linecolor": "white",
            "ticks": ""
           },
           "baxis": {
            "gridcolor": "white",
            "linecolor": "white",
            "ticks": ""
           },
           "bgcolor": "#E5ECF6",
           "caxis": {
            "gridcolor": "white",
            "linecolor": "white",
            "ticks": ""
           }
          },
          "title": {
           "x": 0.05
          },
          "xaxis": {
           "automargin": true,
           "gridcolor": "white",
           "linecolor": "white",
           "ticks": "",
           "title": {
            "standoff": 15
           },
           "zerolinecolor": "white",
           "zerolinewidth": 2
          },
          "yaxis": {
           "automargin": true,
           "gridcolor": "white",
           "linecolor": "white",
           "ticks": "",
           "title": {
            "standoff": 15
           },
           "zerolinecolor": "white",
           "zerolinewidth": 2
          }
         }
        },
        "title": {
         "text": "sleep and wake up time between 2023-10-15 and 2024-10-15"
        },
        "width": 1500,
        "xaxis": {
         "range": [
          0,
          24
         ],
         "tickvals": [
          0,
          1,
          2,
          3,
          4,
          5,
          6,
          7,
          8,
          9,
          10,
          11,
          12,
          13,
          14,
          15,
          16,
          17,
          18,
          19,
          20,
          21,
          22,
          23,
          24
         ],
         "title": {
          "text": "Hour of the day"
         }
        },
        "yaxis": {
         "ticktext": [
          "2023-10-15",
          "2023-11-14",
          "2023-12-14",
          "2024-01-13",
          "2024-02-12",
          "2024-03-13",
          "2024-04-12",
          "2024-05-12",
          "2024-06-11",
          "2024-07-11",
          "2024-08-10",
          "2024-09-09",
          "2024-10-09"
         ],
         "tickvals": [
          0,
          30,
          60,
          90,
          120,
          150,
          180,
          210,
          240,
          270,
          300,
          330,
          360
         ],
         "title": {
          "text": "Date"
         }
        }
       }
      }
     },
     "metadata": {},
     "output_type": "display_data"
    }
   ],
   "source": [
    "aggregatedDatafromGranular.plot_wake_up_periods('2023-10-15', '2024-10-15')"
   ]
  },
  {
   "cell_type": "code",
   "execution_count": 30,
   "metadata": {},
   "outputs": [
    {
     "data": {
      "application/vnd.plotly.v1+json": {
       "config": {
        "plotlyServerURL": "https://plot.ly"
       },
       "data": [
        {
         "marker": {
          "color": "Blue",
          "size": 7
         },
         "mode": "markers",
         "name": "out_of_bed_time (2023-10-15)",
         "text": "out_of_bed_time: 0 days 00:06:00",
         "type": "scatter",
         "x": [
          "2023-10-15"
         ],
         "y": [
          "P0DT0H6M0S"
         ]
        },
        {
         "marker": {
          "color": "Blue",
          "size": 7
         },
         "mode": "markers",
         "name": "out_of_bed_time (2023-10-15)",
         "text": "out_of_bed_time: 0 days 00:00:00",
         "type": "scatter",
         "x": [
          "2023-10-15"
         ],
         "y": [
          "P0DT0H0M0S"
         ]
        },
        {
         "marker": {
          "color": "Blue",
          "size": 7
         },
         "mode": "markers",
         "name": "out_of_bed_time (2023-10-16)",
         "text": "out_of_bed_time: 0 days 00:00:00",
         "type": "scatter",
         "x": [
          "2023-10-16"
         ],
         "y": [
          "P0DT0H0M0S"
         ]
        },
        {
         "marker": {
          "color": "Blue",
          "size": 7
         },
         "mode": "markers",
         "name": "out_of_bed_time (2023-10-17)",
         "text": "out_of_bed_time: 0 days 00:08:00",
         "type": "scatter",
         "x": [
          "2023-10-17"
         ],
         "y": [
          "P0DT0H8M0S"
         ]
        },
        {
         "marker": {
          "color": "Blue",
          "size": 7
         },
         "mode": "markers",
         "name": "out_of_bed_time (2023-10-25)",
         "text": "out_of_bed_time: 0 days 00:00:00",
         "type": "scatter",
         "x": [
          "2023-10-25"
         ],
         "y": [
          "P0DT0H0M0S"
         ]
        },
        {
         "marker": {
          "color": "Blue",
          "size": 7
         },
         "mode": "markers",
         "name": "out_of_bed_time (2023-10-26)",
         "text": "out_of_bed_time: 0 days 00:00:00",
         "type": "scatter",
         "x": [
          "2023-10-26"
         ],
         "y": [
          "P0DT0H0M0S"
         ]
        },
        {
         "marker": {
          "color": "Blue",
          "size": 7
         },
         "mode": "markers",
         "name": "out_of_bed_time (2023-10-26)",
         "text": "out_of_bed_time: 0 days 00:00:00",
         "type": "scatter",
         "x": [
          "2023-10-26"
         ],
         "y": [
          "P0DT0H0M0S"
         ]
        },
        {
         "marker": {
          "color": "Blue",
          "size": 7
         },
         "mode": "markers",
         "name": "out_of_bed_time (2023-10-27)",
         "text": "out_of_bed_time: 0 days 00:00:00",
         "type": "scatter",
         "x": [
          "2023-10-27"
         ],
         "y": [
          "P0DT0H0M0S"
         ]
        },
        {
         "marker": {
          "color": "Blue",
          "size": 7
         },
         "mode": "markers",
         "name": "out_of_bed_time (2023-10-28)",
         "text": "out_of_bed_time: 0 days 00:00:00",
         "type": "scatter",
         "x": [
          "2023-10-28"
         ],
         "y": [
          "P0DT0H0M0S"
         ]
        },
        {
         "marker": {
          "color": "Blue",
          "size": 7
         },
         "mode": "markers",
         "name": "out_of_bed_time (2023-10-28)",
         "text": "out_of_bed_time: 0 days 00:00:00",
         "type": "scatter",
         "x": [
          "2023-10-28"
         ],
         "y": [
          "P0DT0H0M0S"
         ]
        },
        {
         "marker": {
          "color": "Blue",
          "size": 7
         },
         "mode": "markers",
         "name": "out_of_bed_time (2023-10-30)",
         "text": "out_of_bed_time: 0 days 00:06:00",
         "type": "scatter",
         "x": [
          "2023-10-30"
         ],
         "y": [
          "P0DT0H6M0S"
         ]
        },
        {
         "marker": {
          "color": "Blue",
          "size": 7
         },
         "mode": "markers",
         "name": "out_of_bed_time (2023-10-30)",
         "text": "out_of_bed_time: 0 days 00:00:00",
         "type": "scatter",
         "x": [
          "2023-10-30"
         ],
         "y": [
          "P0DT0H0M0S"
         ]
        },
        {
         "marker": {
          "color": "Blue",
          "size": 7
         },
         "mode": "markers",
         "name": "out_of_bed_time (2023-10-31)",
         "text": "out_of_bed_time: 0 days 00:00:00",
         "type": "scatter",
         "x": [
          "2023-10-31"
         ],
         "y": [
          "P0DT0H0M0S"
         ]
        },
        {
         "marker": {
          "color": "Blue",
          "size": 7
         },
         "mode": "markers",
         "name": "out_of_bed_time (2023-11-01)",
         "text": "out_of_bed_time: 0 days 00:45:00",
         "type": "scatter",
         "x": [
          "2023-11-01"
         ],
         "y": [
          "P0DT0H45M0S"
         ]
        },
        {
         "marker": {
          "color": "Blue",
          "size": 7
         },
         "mode": "markers",
         "name": "out_of_bed_time (2023-11-01)",
         "text": "out_of_bed_time: 0 days 00:00:00",
         "type": "scatter",
         "x": [
          "2023-11-01"
         ],
         "y": [
          "P0DT0H0M0S"
         ]
        },
        {
         "marker": {
          "color": "Blue",
          "size": 7
         },
         "mode": "markers",
         "name": "out_of_bed_time (2023-11-02)",
         "text": "out_of_bed_time: 0 days 00:08:00",
         "type": "scatter",
         "x": [
          "2023-11-02"
         ],
         "y": [
          "P0DT0H8M0S"
         ]
        },
        {
         "marker": {
          "color": "Blue",
          "size": 7
         },
         "mode": "markers",
         "name": "out_of_bed_time (2023-11-02)",
         "text": "out_of_bed_time: 0 days 00:00:00",
         "type": "scatter",
         "x": [
          "2023-11-02"
         ],
         "y": [
          "P0DT0H0M0S"
         ]
        },
        {
         "marker": {
          "color": "Blue",
          "size": 7
         },
         "mode": "markers",
         "name": "out_of_bed_time (2023-11-03)",
         "text": "out_of_bed_time: 0 days 00:00:00",
         "type": "scatter",
         "x": [
          "2023-11-03"
         ],
         "y": [
          "P0DT0H0M0S"
         ]
        },
        {
         "marker": {
          "color": "Blue",
          "size": 7
         },
         "mode": "markers",
         "name": "out_of_bed_time (2023-11-03)",
         "text": "out_of_bed_time: 0 days 00:00:00",
         "type": "scatter",
         "x": [
          "2023-11-03"
         ],
         "y": [
          "P0DT0H0M0S"
         ]
        },
        {
         "marker": {
          "color": "Blue",
          "size": 7
         },
         "mode": "markers",
         "name": "out_of_bed_time (2023-11-04)",
         "text": "out_of_bed_time: 0 days 00:00:00",
         "type": "scatter",
         "x": [
          "2023-11-04"
         ],
         "y": [
          "P0DT0H0M0S"
         ]
        },
        {
         "marker": {
          "color": "Blue",
          "size": 7
         },
         "mode": "markers",
         "name": "out_of_bed_time (2023-11-04)",
         "text": "out_of_bed_time: 0 days 00:00:00",
         "type": "scatter",
         "x": [
          "2023-11-04"
         ],
         "y": [
          "P0DT0H0M0S"
         ]
        },
        {
         "marker": {
          "color": "Blue",
          "size": 7
         },
         "mode": "markers",
         "name": "out_of_bed_time (2023-11-05)",
         "text": "out_of_bed_time: 0 days 00:58:00",
         "type": "scatter",
         "x": [
          "2023-11-05"
         ],
         "y": [
          "P0DT0H58M0S"
         ]
        },
        {
         "marker": {
          "color": "Blue",
          "size": 7
         },
         "mode": "markers",
         "name": "out_of_bed_time (2023-11-05)",
         "text": "out_of_bed_time: 0 days 00:00:00",
         "type": "scatter",
         "x": [
          "2023-11-05"
         ],
         "y": [
          "P0DT0H0M0S"
         ]
        },
        {
         "marker": {
          "color": "Blue",
          "size": 7
         },
         "mode": "markers",
         "name": "out_of_bed_time (2023-11-05)",
         "text": "out_of_bed_time: 0 days 00:00:00",
         "type": "scatter",
         "x": [
          "2023-11-05"
         ],
         "y": [
          "P0DT0H0M0S"
         ]
        },
        {
         "marker": {
          "color": "Blue",
          "size": 7
         },
         "mode": "markers",
         "name": "out_of_bed_time (2023-11-06)",
         "text": "out_of_bed_time: 0 days 00:00:00",
         "type": "scatter",
         "x": [
          "2023-11-06"
         ],
         "y": [
          "P0DT0H0M0S"
         ]
        },
        {
         "marker": {
          "color": "Blue",
          "size": 7
         },
         "mode": "markers",
         "name": "out_of_bed_time (2023-11-06)",
         "text": "out_of_bed_time: 0 days 00:00:00",
         "type": "scatter",
         "x": [
          "2023-11-06"
         ],
         "y": [
          "P0DT0H0M0S"
         ]
        },
        {
         "marker": {
          "color": "Blue",
          "size": 7
         },
         "mode": "markers",
         "name": "out_of_bed_time (2023-11-07)",
         "text": "out_of_bed_time: 0 days 00:41:00",
         "type": "scatter",
         "x": [
          "2023-11-07"
         ],
         "y": [
          "P0DT0H41M0S"
         ]
        },
        {
         "marker": {
          "color": "Blue",
          "size": 7
         },
         "mode": "markers",
         "name": "out_of_bed_time (2023-11-07)",
         "text": "out_of_bed_time: 0 days 00:00:00",
         "type": "scatter",
         "x": [
          "2023-11-07"
         ],
         "y": [
          "P0DT0H0M0S"
         ]
        },
        {
         "marker": {
          "color": "Blue",
          "size": 7
         },
         "mode": "markers",
         "name": "out_of_bed_time (2023-11-08)",
         "text": "out_of_bed_time: 0 days 00:07:00",
         "type": "scatter",
         "x": [
          "2023-11-08"
         ],
         "y": [
          "P0DT0H7M0S"
         ]
        },
        {
         "marker": {
          "color": "Blue",
          "size": 7
         },
         "mode": "markers",
         "name": "out_of_bed_time (2023-11-09)",
         "text": "out_of_bed_time: 0 days 00:00:00",
         "type": "scatter",
         "x": [
          "2023-11-09"
         ],
         "y": [
          "P0DT0H0M0S"
         ]
        },
        {
         "marker": {
          "color": "Blue",
          "size": 7
         },
         "mode": "markers",
         "name": "out_of_bed_time (2023-11-09)",
         "text": "out_of_bed_time: 0 days 00:00:00",
         "type": "scatter",
         "x": [
          "2023-11-09"
         ],
         "y": [
          "P0DT0H0M0S"
         ]
        },
        {
         "marker": {
          "color": "Blue",
          "size": 7
         },
         "mode": "markers",
         "name": "out_of_bed_time (2023-11-10)",
         "text": "out_of_bed_time: 0 days 00:00:00",
         "type": "scatter",
         "x": [
          "2023-11-10"
         ],
         "y": [
          "P0DT0H0M0S"
         ]
        },
        {
         "marker": {
          "color": "Blue",
          "size": 7
         },
         "mode": "markers",
         "name": "out_of_bed_time (2023-11-10)",
         "text": "out_of_bed_time: 0 days 00:00:00",
         "type": "scatter",
         "x": [
          "2023-11-10"
         ],
         "y": [
          "P0DT0H0M0S"
         ]
        },
        {
         "marker": {
          "color": "Blue",
          "size": 7
         },
         "mode": "markers",
         "name": "out_of_bed_time (2023-11-11)",
         "text": "out_of_bed_time: 0 days 00:00:00",
         "type": "scatter",
         "x": [
          "2023-11-11"
         ],
         "y": [
          "P0DT0H0M0S"
         ]
        },
        {
         "marker": {
          "color": "Blue",
          "size": 7
         },
         "mode": "markers",
         "name": "out_of_bed_time (2023-11-11)",
         "text": "out_of_bed_time: 0 days 00:00:00",
         "type": "scatter",
         "x": [
          "2023-11-11"
         ],
         "y": [
          "P0DT0H0M0S"
         ]
        },
        {
         "marker": {
          "color": "Blue",
          "size": 7
         },
         "mode": "markers",
         "name": "out_of_bed_time (2023-11-12)",
         "text": "out_of_bed_time: 0 days 00:00:00",
         "type": "scatter",
         "x": [
          "2023-11-12"
         ],
         "y": [
          "P0DT0H0M0S"
         ]
        },
        {
         "marker": {
          "color": "Blue",
          "size": 7
         },
         "mode": "markers",
         "name": "out_of_bed_time (2023-11-13)",
         "text": "out_of_bed_time: 0 days 00:00:00",
         "type": "scatter",
         "x": [
          "2023-11-13"
         ],
         "y": [
          "P0DT0H0M0S"
         ]
        },
        {
         "marker": {
          "color": "Blue",
          "size": 7
         },
         "mode": "markers",
         "name": "out_of_bed_time (2023-11-14)",
         "text": "out_of_bed_time: 0 days 00:00:00",
         "type": "scatter",
         "x": [
          "2023-11-14"
         ],
         "y": [
          "P0DT0H0M0S"
         ]
        },
        {
         "marker": {
          "color": "Blue",
          "size": 7
         },
         "mode": "markers",
         "name": "out_of_bed_time (2023-11-14)",
         "text": "out_of_bed_time: 0 days 00:00:00",
         "type": "scatter",
         "x": [
          "2023-11-14"
         ],
         "y": [
          "P0DT0H0M0S"
         ]
        },
        {
         "marker": {
          "color": "Blue",
          "size": 7
         },
         "mode": "markers",
         "name": "out_of_bed_time (2023-11-15)",
         "text": "out_of_bed_time: 0 days 00:00:00",
         "type": "scatter",
         "x": [
          "2023-11-15"
         ],
         "y": [
          "P0DT0H0M0S"
         ]
        },
        {
         "marker": {
          "color": "Blue",
          "size": 7
         },
         "mode": "markers",
         "name": "out_of_bed_time (2023-11-15)",
         "text": "out_of_bed_time: 0 days 00:00:00",
         "type": "scatter",
         "x": [
          "2023-11-15"
         ],
         "y": [
          "P0DT0H0M0S"
         ]
        },
        {
         "marker": {
          "color": "Blue",
          "size": 7
         },
         "mode": "markers",
         "name": "out_of_bed_time (2023-11-16)",
         "text": "out_of_bed_time: 0 days 00:00:00",
         "type": "scatter",
         "x": [
          "2023-11-16"
         ],
         "y": [
          "P0DT0H0M0S"
         ]
        },
        {
         "marker": {
          "color": "Blue",
          "size": 7
         },
         "mode": "markers",
         "name": "out_of_bed_time (2023-11-17)",
         "text": "out_of_bed_time: 0 days 00:00:00",
         "type": "scatter",
         "x": [
          "2023-11-17"
         ],
         "y": [
          "P0DT0H0M0S"
         ]
        },
        {
         "marker": {
          "color": "Blue",
          "size": 7
         },
         "mode": "markers",
         "name": "out_of_bed_time (2023-11-18)",
         "text": "out_of_bed_time: 0 days 00:37:00",
         "type": "scatter",
         "x": [
          "2023-11-18"
         ],
         "y": [
          "P0DT0H37M0S"
         ]
        },
        {
         "marker": {
          "color": "Blue",
          "size": 7
         },
         "mode": "markers",
         "name": "out_of_bed_time (2023-11-18)",
         "text": "out_of_bed_time: 0 days 00:00:00",
         "type": "scatter",
         "x": [
          "2023-11-18"
         ],
         "y": [
          "P0DT0H0M0S"
         ]
        },
        {
         "marker": {
          "color": "Blue",
          "size": 7
         },
         "mode": "markers",
         "name": "out_of_bed_time (2023-11-19)",
         "text": "out_of_bed_time: 0 days 00:00:00",
         "type": "scatter",
         "x": [
          "2023-11-19"
         ],
         "y": [
          "P0DT0H0M0S"
         ]
        },
        {
         "marker": {
          "color": "Blue",
          "size": 7
         },
         "mode": "markers",
         "name": "out_of_bed_time (2023-11-19)",
         "text": "out_of_bed_time: 0 days 00:00:00",
         "type": "scatter",
         "x": [
          "2023-11-19"
         ],
         "y": [
          "P0DT0H0M0S"
         ]
        },
        {
         "marker": {
          "color": "Blue",
          "size": 7
         },
         "mode": "markers",
         "name": "out_of_bed_time (2023-11-20)",
         "text": "out_of_bed_time: 0 days 00:00:00",
         "type": "scatter",
         "x": [
          "2023-11-20"
         ],
         "y": [
          "P0DT0H0M0S"
         ]
        },
        {
         "marker": {
          "color": "Blue",
          "size": 7
         },
         "mode": "markers",
         "name": "out_of_bed_time (2023-11-20)",
         "text": "out_of_bed_time: 0 days 00:00:00",
         "type": "scatter",
         "x": [
          "2023-11-20"
         ],
         "y": [
          "P0DT0H0M0S"
         ]
        },
        {
         "marker": {
          "color": "Blue",
          "size": 7
         },
         "mode": "markers",
         "name": "out_of_bed_time (2023-11-21)",
         "text": "out_of_bed_time: 0 days 00:00:00",
         "type": "scatter",
         "x": [
          "2023-11-21"
         ],
         "y": [
          "P0DT0H0M0S"
         ]
        },
        {
         "marker": {
          "color": "Blue",
          "size": 7
         },
         "mode": "markers",
         "name": "out_of_bed_time (2023-11-21)",
         "text": "out_of_bed_time: 0 days 00:00:00",
         "type": "scatter",
         "x": [
          "2023-11-21"
         ],
         "y": [
          "P0DT0H0M0S"
         ]
        },
        {
         "marker": {
          "color": "Blue",
          "size": 7
         },
         "mode": "markers",
         "name": "out_of_bed_time (2023-11-22)",
         "text": "out_of_bed_time: 0 days 00:38:00",
         "type": "scatter",
         "x": [
          "2023-11-22"
         ],
         "y": [
          "P0DT0H38M0S"
         ]
        },
        {
         "marker": {
          "color": "Blue",
          "size": 7
         },
         "mode": "markers",
         "name": "out_of_bed_time (2023-11-22)",
         "text": "out_of_bed_time: 0 days 00:00:00",
         "type": "scatter",
         "x": [
          "2023-11-22"
         ],
         "y": [
          "P0DT0H0M0S"
         ]
        },
        {
         "marker": {
          "color": "Blue",
          "size": 7
         },
         "mode": "markers",
         "name": "out_of_bed_time (2023-11-23)",
         "text": "out_of_bed_time: 0 days 00:00:00",
         "type": "scatter",
         "x": [
          "2023-11-23"
         ],
         "y": [
          "P0DT0H0M0S"
         ]
        },
        {
         "marker": {
          "color": "Blue",
          "size": 7
         },
         "mode": "markers",
         "name": "out_of_bed_time (2023-11-24)",
         "text": "out_of_bed_time: 0 days 00:00:00",
         "type": "scatter",
         "x": [
          "2023-11-24"
         ],
         "y": [
          "P0DT0H0M0S"
         ]
        },
        {
         "marker": {
          "color": "Blue",
          "size": 7
         },
         "mode": "markers",
         "name": "out_of_bed_time (2023-11-24)",
         "text": "out_of_bed_time: 0 days 00:10:00",
         "type": "scatter",
         "x": [
          "2023-11-24"
         ],
         "y": [
          "P0DT0H10M0S"
         ]
        },
        {
         "marker": {
          "color": "Blue",
          "size": 7
         },
         "mode": "markers",
         "name": "out_of_bed_time (2023-11-25)",
         "text": "out_of_bed_time: 0 days 00:00:00",
         "type": "scatter",
         "x": [
          "2023-11-25"
         ],
         "y": [
          "P0DT0H0M0S"
         ]
        },
        {
         "marker": {
          "color": "Blue",
          "size": 7
         },
         "mode": "markers",
         "name": "out_of_bed_time (2023-11-25)",
         "text": "out_of_bed_time: 0 days 00:00:00",
         "type": "scatter",
         "x": [
          "2023-11-25"
         ],
         "y": [
          "P0DT0H0M0S"
         ]
        },
        {
         "marker": {
          "color": "Blue",
          "size": 7
         },
         "mode": "markers",
         "name": "out_of_bed_time (2023-11-26)",
         "text": "out_of_bed_time: 0 days 00:00:00",
         "type": "scatter",
         "x": [
          "2023-11-26"
         ],
         "y": [
          "P0DT0H0M0S"
         ]
        },
        {
         "marker": {
          "color": "Blue",
          "size": 7
         },
         "mode": "markers",
         "name": "out_of_bed_time (2023-11-26)",
         "text": "out_of_bed_time: 0 days 00:00:00",
         "type": "scatter",
         "x": [
          "2023-11-26"
         ],
         "y": [
          "P0DT0H0M0S"
         ]
        },
        {
         "marker": {
          "color": "Blue",
          "size": 7
         },
         "mode": "markers",
         "name": "out_of_bed_time (2023-11-27)",
         "text": "out_of_bed_time: 0 days 00:43:00",
         "type": "scatter",
         "x": [
          "2023-11-27"
         ],
         "y": [
          "P0DT0H43M0S"
         ]
        },
        {
         "marker": {
          "color": "Blue",
          "size": 7
         },
         "mode": "markers",
         "name": "out_of_bed_time (2023-11-28)",
         "text": "out_of_bed_time: 0 days 00:00:00",
         "type": "scatter",
         "x": [
          "2023-11-28"
         ],
         "y": [
          "P0DT0H0M0S"
         ]
        },
        {
         "marker": {
          "color": "Blue",
          "size": 7
         },
         "mode": "markers",
         "name": "out_of_bed_time (2023-11-28)",
         "text": "out_of_bed_time: 0 days 00:00:00",
         "type": "scatter",
         "x": [
          "2023-11-28"
         ],
         "y": [
          "P0DT0H0M0S"
         ]
        },
        {
         "marker": {
          "color": "Blue",
          "size": 7
         },
         "mode": "markers",
         "name": "out_of_bed_time (2023-11-29)",
         "text": "out_of_bed_time: 0 days 00:00:00",
         "type": "scatter",
         "x": [
          "2023-11-29"
         ],
         "y": [
          "P0DT0H0M0S"
         ]
        },
        {
         "marker": {
          "color": "Blue",
          "size": 7
         },
         "mode": "markers",
         "name": "out_of_bed_time (2023-11-30)",
         "text": "out_of_bed_time: 0 days 01:24:00",
         "type": "scatter",
         "x": [
          "2023-11-30"
         ],
         "y": [
          "P0DT1H24M0S"
         ]
        },
        {
         "marker": {
          "color": "Blue",
          "size": 7
         },
         "mode": "markers",
         "name": "out_of_bed_time (2023-11-30)",
         "text": "out_of_bed_time: 0 days 00:00:00",
         "type": "scatter",
         "x": [
          "2023-11-30"
         ],
         "y": [
          "P0DT0H0M0S"
         ]
        },
        {
         "marker": {
          "color": "Blue",
          "size": 7
         },
         "mode": "markers",
         "name": "out_of_bed_time (2023-12-01)",
         "text": "out_of_bed_time: 0 days 00:09:00",
         "type": "scatter",
         "x": [
          "2023-12-01"
         ],
         "y": [
          "P0DT0H9M0S"
         ]
        },
        {
         "marker": {
          "color": "Blue",
          "size": 7
         },
         "mode": "markers",
         "name": "out_of_bed_time (2023-12-01)",
         "text": "out_of_bed_time: 0 days 00:00:00",
         "type": "scatter",
         "x": [
          "2023-12-01"
         ],
         "y": [
          "P0DT0H0M0S"
         ]
        },
        {
         "marker": {
          "color": "Blue",
          "size": 7
         },
         "mode": "markers",
         "name": "out_of_bed_time (2023-12-02)",
         "text": "out_of_bed_time: 0 days 00:00:00",
         "type": "scatter",
         "x": [
          "2023-12-02"
         ],
         "y": [
          "P0DT0H0M0S"
         ]
        },
        {
         "marker": {
          "color": "Blue",
          "size": 7
         },
         "mode": "markers",
         "name": "out_of_bed_time (2023-12-02)",
         "text": "out_of_bed_time: 0 days 00:00:00",
         "type": "scatter",
         "x": [
          "2023-12-02"
         ],
         "y": [
          "P0DT0H0M0S"
         ]
        },
        {
         "marker": {
          "color": "Blue",
          "size": 7
         },
         "mode": "markers",
         "name": "out_of_bed_time (2023-12-03)",
         "text": "out_of_bed_time: 0 days 00:00:00",
         "type": "scatter",
         "x": [
          "2023-12-03"
         ],
         "y": [
          "P0DT0H0M0S"
         ]
        },
        {
         "marker": {
          "color": "Blue",
          "size": 7
         },
         "mode": "markers",
         "name": "out_of_bed_time (2023-12-03)",
         "text": "out_of_bed_time: 0 days 00:00:00",
         "type": "scatter",
         "x": [
          "2023-12-03"
         ],
         "y": [
          "P0DT0H0M0S"
         ]
        },
        {
         "marker": {
          "color": "Blue",
          "size": 7
         },
         "mode": "markers",
         "name": "out_of_bed_time (2023-12-04)",
         "text": "out_of_bed_time: 0 days 00:00:00",
         "type": "scatter",
         "x": [
          "2023-12-04"
         ],
         "y": [
          "P0DT0H0M0S"
         ]
        },
        {
         "marker": {
          "color": "Blue",
          "size": 7
         },
         "mode": "markers",
         "name": "out_of_bed_time (2023-12-04)",
         "text": "out_of_bed_time: 0 days 00:00:00",
         "type": "scatter",
         "x": [
          "2023-12-04"
         ],
         "y": [
          "P0DT0H0M0S"
         ]
        },
        {
         "marker": {
          "color": "Blue",
          "size": 7
         },
         "mode": "markers",
         "name": "out_of_bed_time (2023-12-05)",
         "text": "out_of_bed_time: 0 days 00:00:00",
         "type": "scatter",
         "x": [
          "2023-12-05"
         ],
         "y": [
          "P0DT0H0M0S"
         ]
        },
        {
         "marker": {
          "color": "Blue",
          "size": 7
         },
         "mode": "markers",
         "name": "out_of_bed_time (2023-12-05)",
         "text": "out_of_bed_time: 0 days 00:00:00",
         "type": "scatter",
         "x": [
          "2023-12-05"
         ],
         "y": [
          "P0DT0H0M0S"
         ]
        },
        {
         "marker": {
          "color": "Blue",
          "size": 7
         },
         "mode": "markers",
         "name": "out_of_bed_time (2023-12-06)",
         "text": "out_of_bed_time: 0 days 01:54:00",
         "type": "scatter",
         "x": [
          "2023-12-06"
         ],
         "y": [
          "P0DT1H54M0S"
         ]
        },
        {
         "marker": {
          "color": "Blue",
          "size": 7
         },
         "mode": "markers",
         "name": "out_of_bed_time (2023-12-06)",
         "text": "out_of_bed_time: 0 days 00:00:00",
         "type": "scatter",
         "x": [
          "2023-12-06"
         ],
         "y": [
          "P0DT0H0M0S"
         ]
        },
        {
         "marker": {
          "color": "Blue",
          "size": 7
         },
         "mode": "markers",
         "name": "out_of_bed_time (2023-12-07)",
         "text": "out_of_bed_time: 0 days 00:00:00",
         "type": "scatter",
         "x": [
          "2023-12-07"
         ],
         "y": [
          "P0DT0H0M0S"
         ]
        },
        {
         "marker": {
          "color": "Blue",
          "size": 7
         },
         "mode": "markers",
         "name": "out_of_bed_time (2023-12-08)",
         "text": "out_of_bed_time: 0 days 00:00:00",
         "type": "scatter",
         "x": [
          "2023-12-08"
         ],
         "y": [
          "P0DT0H0M0S"
         ]
        },
        {
         "marker": {
          "color": "Blue",
          "size": 7
         },
         "mode": "markers",
         "name": "out_of_bed_time (2023-12-09)",
         "text": "out_of_bed_time: 0 days 01:48:00",
         "type": "scatter",
         "x": [
          "2023-12-09"
         ],
         "y": [
          "P0DT1H48M0S"
         ]
        },
        {
         "marker": {
          "color": "Blue",
          "size": 7
         },
         "mode": "markers",
         "name": "out_of_bed_time (2023-12-09)",
         "text": "out_of_bed_time: 0 days 00:00:00",
         "type": "scatter",
         "x": [
          "2023-12-09"
         ],
         "y": [
          "P0DT0H0M0S"
         ]
        },
        {
         "marker": {
          "color": "Blue",
          "size": 7
         },
         "mode": "markers",
         "name": "out_of_bed_time (2023-12-10)",
         "text": "out_of_bed_time: 0 days 00:00:00",
         "type": "scatter",
         "x": [
          "2023-12-10"
         ],
         "y": [
          "P0DT0H0M0S"
         ]
        },
        {
         "marker": {
          "color": "Blue",
          "size": 7
         },
         "mode": "markers",
         "name": "out_of_bed_time (2023-12-11)",
         "text": "out_of_bed_time: 0 days 00:44:00",
         "type": "scatter",
         "x": [
          "2023-12-11"
         ],
         "y": [
          "P0DT0H44M0S"
         ]
        },
        {
         "marker": {
          "color": "Blue",
          "size": 7
         },
         "mode": "markers",
         "name": "out_of_bed_time (2023-12-11)",
         "text": "out_of_bed_time: 0 days 00:00:00",
         "type": "scatter",
         "x": [
          "2023-12-11"
         ],
         "y": [
          "P0DT0H0M0S"
         ]
        },
        {
         "marker": {
          "color": "Blue",
          "size": 7
         },
         "mode": "markers",
         "name": "out_of_bed_time (2023-12-12)",
         "text": "out_of_bed_time: 0 days 00:09:00",
         "type": "scatter",
         "x": [
          "2023-12-12"
         ],
         "y": [
          "P0DT0H9M0S"
         ]
        },
        {
         "marker": {
          "color": "Blue",
          "size": 7
         },
         "mode": "markers",
         "name": "out_of_bed_time (2023-12-13)",
         "text": "out_of_bed_time: 0 days 00:14:00",
         "type": "scatter",
         "x": [
          "2023-12-13"
         ],
         "y": [
          "P0DT0H14M0S"
         ]
        },
        {
         "marker": {
          "color": "Blue",
          "size": 7
         },
         "mode": "markers",
         "name": "out_of_bed_time (2023-12-13)",
         "text": "out_of_bed_time: 0 days 00:00:00",
         "type": "scatter",
         "x": [
          "2023-12-13"
         ],
         "y": [
          "P0DT0H0M0S"
         ]
        },
        {
         "marker": {
          "color": "Blue",
          "size": 7
         },
         "mode": "markers",
         "name": "out_of_bed_time (2023-12-14)",
         "text": "out_of_bed_time: 0 days 00:00:00",
         "type": "scatter",
         "x": [
          "2023-12-14"
         ],
         "y": [
          "P0DT0H0M0S"
         ]
        },
        {
         "marker": {
          "color": "Blue",
          "size": 7
         },
         "mode": "markers",
         "name": "out_of_bed_time (2023-12-14)",
         "text": "out_of_bed_time: 0 days 00:00:00",
         "type": "scatter",
         "x": [
          "2023-12-14"
         ],
         "y": [
          "P0DT0H0M0S"
         ]
        },
        {
         "marker": {
          "color": "Blue",
          "size": 7
         },
         "mode": "markers",
         "name": "out_of_bed_time (2023-12-14)",
         "text": "out_of_bed_time: 0 days 00:00:00",
         "type": "scatter",
         "x": [
          "2023-12-14"
         ],
         "y": [
          "P0DT0H0M0S"
         ]
        },
        {
         "marker": {
          "color": "Blue",
          "size": 7
         },
         "mode": "markers",
         "name": "out_of_bed_time (2023-12-15)",
         "text": "out_of_bed_time: 0 days 00:00:00",
         "type": "scatter",
         "x": [
          "2023-12-15"
         ],
         "y": [
          "P0DT0H0M0S"
         ]
        },
        {
         "marker": {
          "color": "Blue",
          "size": 7
         },
         "mode": "markers",
         "name": "out_of_bed_time (2023-12-15)",
         "text": "out_of_bed_time: 0 days 01:50:00",
         "type": "scatter",
         "x": [
          "2023-12-15"
         ],
         "y": [
          "P0DT1H50M0S"
         ]
        },
        {
         "marker": {
          "color": "Blue",
          "size": 7
         },
         "mode": "markers",
         "name": "out_of_bed_time (2023-12-16)",
         "text": "out_of_bed_time: 0 days 00:00:00",
         "type": "scatter",
         "x": [
          "2023-12-16"
         ],
         "y": [
          "P0DT0H0M0S"
         ]
        },
        {
         "marker": {
          "color": "Blue",
          "size": 7
         },
         "mode": "markers",
         "name": "out_of_bed_time (2023-12-16)",
         "text": "out_of_bed_time: 0 days 00:00:00",
         "type": "scatter",
         "x": [
          "2023-12-16"
         ],
         "y": [
          "P0DT0H0M0S"
         ]
        },
        {
         "marker": {
          "color": "Blue",
          "size": 7
         },
         "mode": "markers",
         "name": "out_of_bed_time (2023-12-17)",
         "text": "out_of_bed_time: 0 days 00:00:00",
         "type": "scatter",
         "x": [
          "2023-12-17"
         ],
         "y": [
          "P0DT0H0M0S"
         ]
        },
        {
         "marker": {
          "color": "Blue",
          "size": 7
         },
         "mode": "markers",
         "name": "out_of_bed_time (2023-12-17)",
         "text": "out_of_bed_time: 0 days 00:00:00",
         "type": "scatter",
         "x": [
          "2023-12-17"
         ],
         "y": [
          "P0DT0H0M0S"
         ]
        },
        {
         "marker": {
          "color": "Blue",
          "size": 7
         },
         "mode": "markers",
         "name": "out_of_bed_time (2023-12-18)",
         "text": "out_of_bed_time: 0 days 00:00:00",
         "type": "scatter",
         "x": [
          "2023-12-18"
         ],
         "y": [
          "P0DT0H0M0S"
         ]
        },
        {
         "marker": {
          "color": "Blue",
          "size": 7
         },
         "mode": "markers",
         "name": "out_of_bed_time (2023-12-18)",
         "text": "out_of_bed_time: 0 days 00:00:00",
         "type": "scatter",
         "x": [
          "2023-12-18"
         ],
         "y": [
          "P0DT0H0M0S"
         ]
        },
        {
         "marker": {
          "color": "Blue",
          "size": 7
         },
         "mode": "markers",
         "name": "out_of_bed_time (2023-12-19)",
         "text": "out_of_bed_time: 0 days 00:06:00",
         "type": "scatter",
         "x": [
          "2023-12-19"
         ],
         "y": [
          "P0DT0H6M0S"
         ]
        },
        {
         "marker": {
          "color": "Blue",
          "size": 7
         },
         "mode": "markers",
         "name": "out_of_bed_time (2023-12-19)",
         "text": "out_of_bed_time: 0 days 00:00:00",
         "type": "scatter",
         "x": [
          "2023-12-19"
         ],
         "y": [
          "P0DT0H0M0S"
         ]
        },
        {
         "marker": {
          "color": "Blue",
          "size": 7
         },
         "mode": "markers",
         "name": "out_of_bed_time (2023-12-20)",
         "text": "out_of_bed_time: 0 days 01:28:00",
         "type": "scatter",
         "x": [
          "2023-12-20"
         ],
         "y": [
          "P0DT1H28M0S"
         ]
        },
        {
         "marker": {
          "color": "Blue",
          "size": 7
         },
         "mode": "markers",
         "name": "out_of_bed_time (2023-12-20)",
         "text": "out_of_bed_time: 0 days 00:00:00",
         "type": "scatter",
         "x": [
          "2023-12-20"
         ],
         "y": [
          "P0DT0H0M0S"
         ]
        },
        {
         "marker": {
          "color": "Blue",
          "size": 7
         },
         "mode": "markers",
         "name": "out_of_bed_time (2023-12-21)",
         "text": "out_of_bed_time: 0 days 00:00:00",
         "type": "scatter",
         "x": [
          "2023-12-21"
         ],
         "y": [
          "P0DT0H0M0S"
         ]
        },
        {
         "marker": {
          "color": "Blue",
          "size": 7
         },
         "mode": "markers",
         "name": "out_of_bed_time (2023-12-21)",
         "text": "out_of_bed_time: 0 days 00:00:00",
         "type": "scatter",
         "x": [
          "2023-12-21"
         ],
         "y": [
          "P0DT0H0M0S"
         ]
        },
        {
         "marker": {
          "color": "Blue",
          "size": 7
         },
         "mode": "markers",
         "name": "out_of_bed_time (2023-12-22)",
         "text": "out_of_bed_time: 0 days 00:00:00",
         "type": "scatter",
         "x": [
          "2023-12-22"
         ],
         "y": [
          "P0DT0H0M0S"
         ]
        },
        {
         "marker": {
          "color": "Blue",
          "size": 7
         },
         "mode": "markers",
         "name": "out_of_bed_time (2023-12-22)",
         "text": "out_of_bed_time: 0 days 00:00:00",
         "type": "scatter",
         "x": [
          "2023-12-22"
         ],
         "y": [
          "P0DT0H0M0S"
         ]
        },
        {
         "marker": {
          "color": "Blue",
          "size": 7
         },
         "mode": "markers",
         "name": "out_of_bed_time (2023-12-23)",
         "text": "out_of_bed_time: 0 days 00:10:00",
         "type": "scatter",
         "x": [
          "2023-12-23"
         ],
         "y": [
          "P0DT0H10M0S"
         ]
        },
        {
         "marker": {
          "color": "Blue",
          "size": 7
         },
         "mode": "markers",
         "name": "out_of_bed_time (2023-12-25)",
         "text": "out_of_bed_time: 0 days 00:08:00",
         "type": "scatter",
         "x": [
          "2023-12-25"
         ],
         "y": [
          "P0DT0H8M0S"
         ]
        },
        {
         "marker": {
          "color": "Blue",
          "size": 7
         },
         "mode": "markers",
         "name": "out_of_bed_time (2023-12-26)",
         "text": "out_of_bed_time: 0 days 00:07:00",
         "type": "scatter",
         "x": [
          "2023-12-26"
         ],
         "y": [
          "P0DT0H7M0S"
         ]
        },
        {
         "marker": {
          "color": "Blue",
          "size": 7
         },
         "mode": "markers",
         "name": "out_of_bed_time (2023-12-26)",
         "text": "out_of_bed_time: 0 days 00:00:00",
         "type": "scatter",
         "x": [
          "2023-12-26"
         ],
         "y": [
          "P0DT0H0M0S"
         ]
        },
        {
         "marker": {
          "color": "Blue",
          "size": 7
         },
         "mode": "markers",
         "name": "out_of_bed_time (2023-12-27)",
         "text": "out_of_bed_time: 0 days 00:56:00",
         "type": "scatter",
         "x": [
          "2023-12-27"
         ],
         "y": [
          "P0DT0H56M0S"
         ]
        },
        {
         "marker": {
          "color": "Blue",
          "size": 7
         },
         "mode": "markers",
         "name": "out_of_bed_time (2023-12-27)",
         "text": "out_of_bed_time: 0 days 00:00:00",
         "type": "scatter",
         "x": [
          "2023-12-27"
         ],
         "y": [
          "P0DT0H0M0S"
         ]
        },
        {
         "marker": {
          "color": "Blue",
          "size": 7
         },
         "mode": "markers",
         "name": "out_of_bed_time (2023-12-27)",
         "text": "out_of_bed_time: 0 days 00:00:00",
         "type": "scatter",
         "x": [
          "2023-12-27"
         ],
         "y": [
          "P0DT0H0M0S"
         ]
        },
        {
         "marker": {
          "color": "Blue",
          "size": 7
         },
         "mode": "markers",
         "name": "out_of_bed_time (2023-12-28)",
         "text": "out_of_bed_time: 0 days 00:00:00",
         "type": "scatter",
         "x": [
          "2023-12-28"
         ],
         "y": [
          "P0DT0H0M0S"
         ]
        },
        {
         "marker": {
          "color": "Blue",
          "size": 7
         },
         "mode": "markers",
         "name": "out_of_bed_time (2023-12-28)",
         "text": "out_of_bed_time: 0 days 00:00:00",
         "type": "scatter",
         "x": [
          "2023-12-28"
         ],
         "y": [
          "P0DT0H0M0S"
         ]
        },
        {
         "marker": {
          "color": "Blue",
          "size": 7
         },
         "mode": "markers",
         "name": "out_of_bed_time (2023-12-29)",
         "text": "out_of_bed_time: 0 days 00:00:00",
         "type": "scatter",
         "x": [
          "2023-12-29"
         ],
         "y": [
          "P0DT0H0M0S"
         ]
        },
        {
         "marker": {
          "color": "Blue",
          "size": 7
         },
         "mode": "markers",
         "name": "out_of_bed_time (2023-12-29)",
         "text": "out_of_bed_time: 0 days 00:00:00",
         "type": "scatter",
         "x": [
          "2023-12-29"
         ],
         "y": [
          "P0DT0H0M0S"
         ]
        },
        {
         "marker": {
          "color": "Blue",
          "size": 7
         },
         "mode": "markers",
         "name": "out_of_bed_time (2023-12-31)",
         "text": "out_of_bed_time: 0 days 00:00:00",
         "type": "scatter",
         "x": [
          "2023-12-31"
         ],
         "y": [
          "P0DT0H0M0S"
         ]
        },
        {
         "marker": {
          "color": "Blue",
          "size": 7
         },
         "mode": "markers",
         "name": "out_of_bed_time (2023-12-31)",
         "text": "out_of_bed_time: 0 days 00:00:00",
         "type": "scatter",
         "x": [
          "2023-12-31"
         ],
         "y": [
          "P0DT0H0M0S"
         ]
        },
        {
         "marker": {
          "color": "Blue",
          "size": 7
         },
         "mode": "markers",
         "name": "out_of_bed_time (2024-01-01)",
         "text": "out_of_bed_time: 0 days 00:00:00",
         "type": "scatter",
         "x": [
          "2024-01-01"
         ],
         "y": [
          "P0DT0H0M0S"
         ]
        },
        {
         "marker": {
          "color": "Blue",
          "size": 7
         },
         "mode": "markers",
         "name": "out_of_bed_time (2024-01-02)",
         "text": "out_of_bed_time: 0 days 00:00:00",
         "type": "scatter",
         "x": [
          "2024-01-02"
         ],
         "y": [
          "P0DT0H0M0S"
         ]
        },
        {
         "marker": {
          "color": "Blue",
          "size": 7
         },
         "mode": "markers",
         "name": "out_of_bed_time (2024-01-02)",
         "text": "out_of_bed_time: 0 days 00:00:00",
         "type": "scatter",
         "x": [
          "2024-01-02"
         ],
         "y": [
          "P0DT0H0M0S"
         ]
        },
        {
         "marker": {
          "color": "Blue",
          "size": 7
         },
         "mode": "markers",
         "name": "out_of_bed_time (2024-01-02)",
         "text": "out_of_bed_time: 0 days 00:00:00",
         "type": "scatter",
         "x": [
          "2024-01-02"
         ],
         "y": [
          "P0DT0H0M0S"
         ]
        },
        {
         "marker": {
          "color": "Blue",
          "size": 7
         },
         "mode": "markers",
         "name": "out_of_bed_time (2024-01-03)",
         "text": "out_of_bed_time: 0 days 00:00:00",
         "type": "scatter",
         "x": [
          "2024-01-03"
         ],
         "y": [
          "P0DT0H0M0S"
         ]
        },
        {
         "marker": {
          "color": "Blue",
          "size": 7
         },
         "mode": "markers",
         "name": "out_of_bed_time (2024-01-03)",
         "text": "out_of_bed_time: 0 days 00:00:00",
         "type": "scatter",
         "x": [
          "2024-01-03"
         ],
         "y": [
          "P0DT0H0M0S"
         ]
        },
        {
         "marker": {
          "color": "Blue",
          "size": 7
         },
         "mode": "markers",
         "name": "out_of_bed_time (2024-01-04)",
         "text": "out_of_bed_time: 0 days 03:10:00",
         "type": "scatter",
         "x": [
          "2024-01-04"
         ],
         "y": [
          "P0DT3H10M0S"
         ]
        },
        {
         "marker": {
          "color": "Blue",
          "size": 7
         },
         "mode": "markers",
         "name": "out_of_bed_time (2024-01-05)",
         "text": "out_of_bed_time: 0 days 00:00:00",
         "type": "scatter",
         "x": [
          "2024-01-05"
         ],
         "y": [
          "P0DT0H0M0S"
         ]
        },
        {
         "marker": {
          "color": "Blue",
          "size": 7
         },
         "mode": "markers",
         "name": "out_of_bed_time (2024-01-06)",
         "text": "out_of_bed_time: 0 days 00:59:00",
         "type": "scatter",
         "x": [
          "2024-01-06"
         ],
         "y": [
          "P0DT0H59M0S"
         ]
        },
        {
         "marker": {
          "color": "Blue",
          "size": 7
         },
         "mode": "markers",
         "name": "out_of_bed_time (2024-01-07)",
         "text": "out_of_bed_time: 0 days 00:32:00",
         "type": "scatter",
         "x": [
          "2024-01-07"
         ],
         "y": [
          "P0DT0H32M0S"
         ]
        },
        {
         "marker": {
          "color": "Blue",
          "size": 7
         },
         "mode": "markers",
         "name": "out_of_bed_time (2024-01-07)",
         "text": "out_of_bed_time: 0 days 00:00:00",
         "type": "scatter",
         "x": [
          "2024-01-07"
         ],
         "y": [
          "P0DT0H0M0S"
         ]
        },
        {
         "marker": {
          "color": "Blue",
          "size": 7
         },
         "mode": "markers",
         "name": "out_of_bed_time (2024-01-08)",
         "text": "out_of_bed_time: 0 days 00:00:00",
         "type": "scatter",
         "x": [
          "2024-01-08"
         ],
         "y": [
          "P0DT0H0M0S"
         ]
        },
        {
         "marker": {
          "color": "Blue",
          "size": 7
         },
         "mode": "markers",
         "name": "out_of_bed_time (2024-01-09)",
         "text": "out_of_bed_time: 0 days 01:57:00",
         "type": "scatter",
         "x": [
          "2024-01-09"
         ],
         "y": [
          "P0DT1H57M0S"
         ]
        },
        {
         "marker": {
          "color": "Blue",
          "size": 7
         },
         "mode": "markers",
         "name": "out_of_bed_time (2024-01-10)",
         "text": "out_of_bed_time: 0 days 03:02:00",
         "type": "scatter",
         "x": [
          "2024-01-10"
         ],
         "y": [
          "P0DT3H2M0S"
         ]
        },
        {
         "marker": {
          "color": "Blue",
          "size": 7
         },
         "mode": "markers",
         "name": "out_of_bed_time (2024-01-11)",
         "text": "out_of_bed_time: 0 days 00:00:00",
         "type": "scatter",
         "x": [
          "2024-01-11"
         ],
         "y": [
          "P0DT0H0M0S"
         ]
        },
        {
         "marker": {
          "color": "Blue",
          "size": 7
         },
         "mode": "markers",
         "name": "out_of_bed_time (2024-01-11)",
         "text": "out_of_bed_time: 0 days 00:00:00",
         "type": "scatter",
         "x": [
          "2024-01-11"
         ],
         "y": [
          "P0DT0H0M0S"
         ]
        },
        {
         "marker": {
          "color": "Blue",
          "size": 7
         },
         "mode": "markers",
         "name": "out_of_bed_time (2024-01-12)",
         "text": "out_of_bed_time: 0 days 00:00:00",
         "type": "scatter",
         "x": [
          "2024-01-12"
         ],
         "y": [
          "P0DT0H0M0S"
         ]
        },
        {
         "marker": {
          "color": "Blue",
          "size": 7
         },
         "mode": "markers",
         "name": "out_of_bed_time (2024-01-12)",
         "text": "out_of_bed_time: 0 days 00:00:00",
         "type": "scatter",
         "x": [
          "2024-01-12"
         ],
         "y": [
          "P0DT0H0M0S"
         ]
        },
        {
         "marker": {
          "color": "Blue",
          "size": 7
         },
         "mode": "markers",
         "name": "out_of_bed_time (2024-01-12)",
         "text": "out_of_bed_time: 0 days 00:00:00",
         "type": "scatter",
         "x": [
          "2024-01-12"
         ],
         "y": [
          "P0DT0H0M0S"
         ]
        },
        {
         "marker": {
          "color": "Blue",
          "size": 7
         },
         "mode": "markers",
         "name": "out_of_bed_time (2024-01-13)",
         "text": "out_of_bed_time: 0 days 00:00:00",
         "type": "scatter",
         "x": [
          "2024-01-13"
         ],
         "y": [
          "P0DT0H0M0S"
         ]
        },
        {
         "marker": {
          "color": "Blue",
          "size": 7
         },
         "mode": "markers",
         "name": "out_of_bed_time (2024-01-13)",
         "text": "out_of_bed_time: 0 days 00:00:00",
         "type": "scatter",
         "x": [
          "2024-01-13"
         ],
         "y": [
          "P0DT0H0M0S"
         ]
        },
        {
         "marker": {
          "color": "Blue",
          "size": 7
         },
         "mode": "markers",
         "name": "out_of_bed_time (2024-01-14)",
         "text": "out_of_bed_time: 0 days 00:00:00",
         "type": "scatter",
         "x": [
          "2024-01-14"
         ],
         "y": [
          "P0DT0H0M0S"
         ]
        },
        {
         "marker": {
          "color": "Blue",
          "size": 7
         },
         "mode": "markers",
         "name": "out_of_bed_time (2024-01-15)",
         "text": "out_of_bed_time: 0 days 00:00:00",
         "type": "scatter",
         "x": [
          "2024-01-15"
         ],
         "y": [
          "P0DT0H0M0S"
         ]
        },
        {
         "marker": {
          "color": "Blue",
          "size": 7
         },
         "mode": "markers",
         "name": "out_of_bed_time (2024-01-15)",
         "text": "out_of_bed_time: 0 days 00:00:00",
         "type": "scatter",
         "x": [
          "2024-01-15"
         ],
         "y": [
          "P0DT0H0M0S"
         ]
        },
        {
         "marker": {
          "color": "Blue",
          "size": 7
         },
         "mode": "markers",
         "name": "out_of_bed_time (2024-01-16)",
         "text": "out_of_bed_time: 0 days 00:00:00",
         "type": "scatter",
         "x": [
          "2024-01-16"
         ],
         "y": [
          "P0DT0H0M0S"
         ]
        },
        {
         "marker": {
          "color": "Blue",
          "size": 7
         },
         "mode": "markers",
         "name": "out_of_bed_time (2024-01-16)",
         "text": "out_of_bed_time: 0 days 00:00:00",
         "type": "scatter",
         "x": [
          "2024-01-16"
         ],
         "y": [
          "P0DT0H0M0S"
         ]
        },
        {
         "marker": {
          "color": "Blue",
          "size": 7
         },
         "mode": "markers",
         "name": "out_of_bed_time (2024-01-17)",
         "text": "out_of_bed_time: 0 days 00:00:00",
         "type": "scatter",
         "x": [
          "2024-01-17"
         ],
         "y": [
          "P0DT0H0M0S"
         ]
        },
        {
         "marker": {
          "color": "Blue",
          "size": 7
         },
         "mode": "markers",
         "name": "out_of_bed_time (2024-01-17)",
         "text": "out_of_bed_time: 0 days 00:00:00",
         "type": "scatter",
         "x": [
          "2024-01-17"
         ],
         "y": [
          "P0DT0H0M0S"
         ]
        },
        {
         "marker": {
          "color": "Blue",
          "size": 7
         },
         "mode": "markers",
         "name": "out_of_bed_time (2024-01-18)",
         "text": "out_of_bed_time: 0 days 01:04:00",
         "type": "scatter",
         "x": [
          "2024-01-18"
         ],
         "y": [
          "P0DT1H4M0S"
         ]
        },
        {
         "marker": {
          "color": "Blue",
          "size": 7
         },
         "mode": "markers",
         "name": "out_of_bed_time (2024-01-18)",
         "text": "out_of_bed_time: 0 days 00:00:00",
         "type": "scatter",
         "x": [
          "2024-01-18"
         ],
         "y": [
          "P0DT0H0M0S"
         ]
        },
        {
         "marker": {
          "color": "Blue",
          "size": 7
         },
         "mode": "markers",
         "name": "out_of_bed_time (2024-01-19)",
         "text": "out_of_bed_time: 0 days 00:00:00",
         "type": "scatter",
         "x": [
          "2024-01-19"
         ],
         "y": [
          "P0DT0H0M0S"
         ]
        },
        {
         "marker": {
          "color": "Blue",
          "size": 7
         },
         "mode": "markers",
         "name": "out_of_bed_time (2024-01-19)",
         "text": "out_of_bed_time: 0 days 01:06:00",
         "type": "scatter",
         "x": [
          "2024-01-19"
         ],
         "y": [
          "P0DT1H6M0S"
         ]
        },
        {
         "marker": {
          "color": "Blue",
          "size": 7
         },
         "mode": "markers",
         "name": "out_of_bed_time (2024-01-20)",
         "text": "out_of_bed_time: 0 days 01:06:00",
         "type": "scatter",
         "x": [
          "2024-01-20"
         ],
         "y": [
          "P0DT1H6M0S"
         ]
        },
        {
         "marker": {
          "color": "Blue",
          "size": 7
         },
         "mode": "markers",
         "name": "out_of_bed_time (2024-01-20)",
         "text": "out_of_bed_time: 0 days 00:40:00",
         "type": "scatter",
         "x": [
          "2024-01-20"
         ],
         "y": [
          "P0DT0H40M0S"
         ]
        },
        {
         "marker": {
          "color": "Blue",
          "size": 7
         },
         "mode": "markers",
         "name": "out_of_bed_time (2024-01-21)",
         "text": "out_of_bed_time: 0 days 00:00:00",
         "type": "scatter",
         "x": [
          "2024-01-21"
         ],
         "y": [
          "P0DT0H0M0S"
         ]
        },
        {
         "marker": {
          "color": "Blue",
          "size": 7
         },
         "mode": "markers",
         "name": "out_of_bed_time (2024-01-22)",
         "text": "out_of_bed_time: 0 days 00:00:00",
         "type": "scatter",
         "x": [
          "2024-01-22"
         ],
         "y": [
          "P0DT0H0M0S"
         ]
        },
        {
         "marker": {
          "color": "Blue",
          "size": 7
         },
         "mode": "markers",
         "name": "out_of_bed_time (2024-01-23)",
         "text": "out_of_bed_time: 0 days 00:07:00",
         "type": "scatter",
         "x": [
          "2024-01-23"
         ],
         "y": [
          "P0DT0H7M0S"
         ]
        },
        {
         "marker": {
          "color": "Blue",
          "size": 7
         },
         "mode": "markers",
         "name": "out_of_bed_time (2024-01-24)",
         "text": "out_of_bed_time: 0 days 00:00:00",
         "type": "scatter",
         "x": [
          "2024-01-24"
         ],
         "y": [
          "P0DT0H0M0S"
         ]
        },
        {
         "marker": {
          "color": "Blue",
          "size": 7
         },
         "mode": "markers",
         "name": "out_of_bed_time (2024-01-25)",
         "text": "out_of_bed_time: 0 days 01:47:00",
         "type": "scatter",
         "x": [
          "2024-01-25"
         ],
         "y": [
          "P0DT1H47M0S"
         ]
        },
        {
         "marker": {
          "color": "Blue",
          "size": 7
         },
         "mode": "markers",
         "name": "out_of_bed_time (2024-01-25)",
         "text": "out_of_bed_time: 0 days 00:00:00",
         "type": "scatter",
         "x": [
          "2024-01-25"
         ],
         "y": [
          "P0DT0H0M0S"
         ]
        },
        {
         "marker": {
          "color": "Blue",
          "size": 7
         },
         "mode": "markers",
         "name": "out_of_bed_time (2024-01-26)",
         "text": "out_of_bed_time: 0 days 00:00:00",
         "type": "scatter",
         "x": [
          "2024-01-26"
         ],
         "y": [
          "P0DT0H0M0S"
         ]
        },
        {
         "marker": {
          "color": "Blue",
          "size": 7
         },
         "mode": "markers",
         "name": "out_of_bed_time (2024-01-26)",
         "text": "out_of_bed_time: 0 days 00:00:00",
         "type": "scatter",
         "x": [
          "2024-01-26"
         ],
         "y": [
          "P0DT0H0M0S"
         ]
        },
        {
         "marker": {
          "color": "Blue",
          "size": 7
         },
         "mode": "markers",
         "name": "out_of_bed_time (2024-01-27)",
         "text": "out_of_bed_time: 0 days 00:00:00",
         "type": "scatter",
         "x": [
          "2024-01-27"
         ],
         "y": [
          "P0DT0H0M0S"
         ]
        },
        {
         "marker": {
          "color": "Blue",
          "size": 7
         },
         "mode": "markers",
         "name": "out_of_bed_time (2024-01-27)",
         "text": "out_of_bed_time: 0 days 01:37:00",
         "type": "scatter",
         "x": [
          "2024-01-27"
         ],
         "y": [
          "P0DT1H37M0S"
         ]
        },
        {
         "marker": {
          "color": "Blue",
          "size": 7
         },
         "mode": "markers",
         "name": "out_of_bed_time (2024-01-28)",
         "text": "out_of_bed_time: 0 days 00:00:00",
         "type": "scatter",
         "x": [
          "2024-01-28"
         ],
         "y": [
          "P0DT0H0M0S"
         ]
        },
        {
         "marker": {
          "color": "Blue",
          "size": 7
         },
         "mode": "markers",
         "name": "out_of_bed_time (2024-01-29)",
         "text": "out_of_bed_time: 0 days 00:33:00",
         "type": "scatter",
         "x": [
          "2024-01-29"
         ],
         "y": [
          "P0DT0H33M0S"
         ]
        },
        {
         "marker": {
          "color": "Blue",
          "size": 7
         },
         "mode": "markers",
         "name": "out_of_bed_time (2024-01-29)",
         "text": "out_of_bed_time: 0 days 00:00:00",
         "type": "scatter",
         "x": [
          "2024-01-29"
         ],
         "y": [
          "P0DT0H0M0S"
         ]
        },
        {
         "marker": {
          "color": "Blue",
          "size": 7
         },
         "mode": "markers",
         "name": "out_of_bed_time (2024-01-30)",
         "text": "out_of_bed_time: 0 days 00:38:00",
         "type": "scatter",
         "x": [
          "2024-01-30"
         ],
         "y": [
          "P0DT0H38M0S"
         ]
        },
        {
         "marker": {
          "color": "Blue",
          "size": 7
         },
         "mode": "markers",
         "name": "out_of_bed_time (2024-01-31)",
         "text": "out_of_bed_time: 0 days 00:08:00",
         "type": "scatter",
         "x": [
          "2024-01-31"
         ],
         "y": [
          "P0DT0H8M0S"
         ]
        },
        {
         "marker": {
          "color": "Blue",
          "size": 7
         },
         "mode": "markers",
         "name": "out_of_bed_time (2024-01-31)",
         "text": "out_of_bed_time: 0 days 00:00:00",
         "type": "scatter",
         "x": [
          "2024-01-31"
         ],
         "y": [
          "P0DT0H0M0S"
         ]
        },
        {
         "marker": {
          "color": "Blue",
          "size": 7
         },
         "mode": "markers",
         "name": "out_of_bed_time (2024-02-01)",
         "text": "out_of_bed_time: 0 days 00:00:00",
         "type": "scatter",
         "x": [
          "2024-02-01"
         ],
         "y": [
          "P0DT0H0M0S"
         ]
        },
        {
         "marker": {
          "color": "Blue",
          "size": 7
         },
         "mode": "markers",
         "name": "out_of_bed_time (2024-02-01)",
         "text": "out_of_bed_time: 0 days 00:00:00",
         "type": "scatter",
         "x": [
          "2024-02-01"
         ],
         "y": [
          "P0DT0H0M0S"
         ]
        },
        {
         "marker": {
          "color": "Blue",
          "size": 7
         },
         "mode": "markers",
         "name": "out_of_bed_time (2024-02-02)",
         "text": "out_of_bed_time: 0 days 00:13:00",
         "type": "scatter",
         "x": [
          "2024-02-02"
         ],
         "y": [
          "P0DT0H13M0S"
         ]
        },
        {
         "marker": {
          "color": "Blue",
          "size": 7
         },
         "mode": "markers",
         "name": "out_of_bed_time (2024-02-02)",
         "text": "out_of_bed_time: 0 days 00:00:00",
         "type": "scatter",
         "x": [
          "2024-02-02"
         ],
         "y": [
          "P0DT0H0M0S"
         ]
        },
        {
         "marker": {
          "color": "Blue",
          "size": 7
         },
         "mode": "markers",
         "name": "out_of_bed_time (2024-02-02)",
         "text": "out_of_bed_time: 0 days 00:00:00",
         "type": "scatter",
         "x": [
          "2024-02-02"
         ],
         "y": [
          "P0DT0H0M0S"
         ]
        },
        {
         "marker": {
          "color": "Blue",
          "size": 7
         },
         "mode": "markers",
         "name": "out_of_bed_time (2024-02-03)",
         "text": "out_of_bed_time: 0 days 00:00:00",
         "type": "scatter",
         "x": [
          "2024-02-03"
         ],
         "y": [
          "P0DT0H0M0S"
         ]
        },
        {
         "marker": {
          "color": "Blue",
          "size": 7
         },
         "mode": "markers",
         "name": "out_of_bed_time (2024-02-03)",
         "text": "out_of_bed_time: 0 days 00:00:00",
         "type": "scatter",
         "x": [
          "2024-02-03"
         ],
         "y": [
          "P0DT0H0M0S"
         ]
        },
        {
         "marker": {
          "color": "Blue",
          "size": 7
         },
         "mode": "markers",
         "name": "out_of_bed_time (2024-02-04)",
         "text": "out_of_bed_time: 0 days 00:00:00",
         "type": "scatter",
         "x": [
          "2024-02-04"
         ],
         "y": [
          "P0DT0H0M0S"
         ]
        },
        {
         "marker": {
          "color": "Blue",
          "size": 7
         },
         "mode": "markers",
         "name": "out_of_bed_time (2024-02-04)",
         "text": "out_of_bed_time: 0 days 00:00:00",
         "type": "scatter",
         "x": [
          "2024-02-04"
         ],
         "y": [
          "P0DT0H0M0S"
         ]
        },
        {
         "marker": {
          "color": "Blue",
          "size": 7
         },
         "mode": "markers",
         "name": "out_of_bed_time (2024-02-05)",
         "text": "out_of_bed_time: 0 days 00:00:00",
         "type": "scatter",
         "x": [
          "2024-02-05"
         ],
         "y": [
          "P0DT0H0M0S"
         ]
        },
        {
         "marker": {
          "color": "Blue",
          "size": 7
         },
         "mode": "markers",
         "name": "out_of_bed_time (2024-02-05)",
         "text": "out_of_bed_time: 0 days 00:00:00",
         "type": "scatter",
         "x": [
          "2024-02-05"
         ],
         "y": [
          "P0DT0H0M0S"
         ]
        },
        {
         "marker": {
          "color": "Blue",
          "size": 7
         },
         "mode": "markers",
         "name": "out_of_bed_time (2024-02-06)",
         "text": "out_of_bed_time: 0 days 00:00:00",
         "type": "scatter",
         "x": [
          "2024-02-06"
         ],
         "y": [
          "P0DT0H0M0S"
         ]
        },
        {
         "marker": {
          "color": "Blue",
          "size": 7
         },
         "mode": "markers",
         "name": "out_of_bed_time (2024-02-06)",
         "text": "out_of_bed_time: 0 days 00:58:00",
         "type": "scatter",
         "x": [
          "2024-02-06"
         ],
         "y": [
          "P0DT0H58M0S"
         ]
        },
        {
         "marker": {
          "color": "Blue",
          "size": 7
         },
         "mode": "markers",
         "name": "out_of_bed_time (2024-02-07)",
         "text": "out_of_bed_time: 0 days 00:00:00",
         "type": "scatter",
         "x": [
          "2024-02-07"
         ],
         "y": [
          "P0DT0H0M0S"
         ]
        },
        {
         "marker": {
          "color": "Blue",
          "size": 7
         },
         "mode": "markers",
         "name": "out_of_bed_time (2024-02-08)",
         "text": "out_of_bed_time: 0 days 00:06:00",
         "type": "scatter",
         "x": [
          "2024-02-08"
         ],
         "y": [
          "P0DT0H6M0S"
         ]
        },
        {
         "marker": {
          "color": "Blue",
          "size": 7
         },
         "mode": "markers",
         "name": "out_of_bed_time (2024-02-08)",
         "text": "out_of_bed_time: 0 days 00:00:00",
         "type": "scatter",
         "x": [
          "2024-02-08"
         ],
         "y": [
          "P0DT0H0M0S"
         ]
        },
        {
         "marker": {
          "color": "Blue",
          "size": 7
         },
         "mode": "markers",
         "name": "out_of_bed_time (2024-02-09)",
         "text": "out_of_bed_time: 0 days 00:06:00",
         "type": "scatter",
         "x": [
          "2024-02-09"
         ],
         "y": [
          "P0DT0H6M0S"
         ]
        },
        {
         "marker": {
          "color": "Blue",
          "size": 7
         },
         "mode": "markers",
         "name": "out_of_bed_time (2024-02-09)",
         "text": "out_of_bed_time: 0 days 00:00:00",
         "type": "scatter",
         "x": [
          "2024-02-09"
         ],
         "y": [
          "P0DT0H0M0S"
         ]
        },
        {
         "marker": {
          "color": "Blue",
          "size": 7
         },
         "mode": "markers",
         "name": "out_of_bed_time (2024-02-10)",
         "text": "out_of_bed_time: 0 days 00:43:00",
         "type": "scatter",
         "x": [
          "2024-02-10"
         ],
         "y": [
          "P0DT0H43M0S"
         ]
        },
        {
         "marker": {
          "color": "Blue",
          "size": 7
         },
         "mode": "markers",
         "name": "out_of_bed_time (2024-02-10)",
         "text": "out_of_bed_time: 0 days 00:00:00",
         "type": "scatter",
         "x": [
          "2024-02-10"
         ],
         "y": [
          "P0DT0H0M0S"
         ]
        },
        {
         "marker": {
          "color": "Blue",
          "size": 7
         },
         "mode": "markers",
         "name": "out_of_bed_time (2024-02-11)",
         "text": "out_of_bed_time: 0 days 00:14:00",
         "type": "scatter",
         "x": [
          "2024-02-11"
         ],
         "y": [
          "P0DT0H14M0S"
         ]
        },
        {
         "marker": {
          "color": "Blue",
          "size": 7
         },
         "mode": "markers",
         "name": "out_of_bed_time (2024-02-11)",
         "text": "out_of_bed_time: 0 days 00:00:00",
         "type": "scatter",
         "x": [
          "2024-02-11"
         ],
         "y": [
          "P0DT0H0M0S"
         ]
        },
        {
         "marker": {
          "color": "Blue",
          "size": 7
         },
         "mode": "markers",
         "name": "out_of_bed_time (2024-02-12)",
         "text": "out_of_bed_time: 0 days 00:07:00",
         "type": "scatter",
         "x": [
          "2024-02-12"
         ],
         "y": [
          "P0DT0H7M0S"
         ]
        },
        {
         "marker": {
          "color": "Blue",
          "size": 7
         },
         "mode": "markers",
         "name": "out_of_bed_time (2024-02-12)",
         "text": "out_of_bed_time: 0 days 00:00:00",
         "type": "scatter",
         "x": [
          "2024-02-12"
         ],
         "y": [
          "P0DT0H0M0S"
         ]
        },
        {
         "marker": {
          "color": "Blue",
          "size": 7
         },
         "mode": "markers",
         "name": "out_of_bed_time (2024-02-13)",
         "text": "out_of_bed_time: 0 days 00:00:00",
         "type": "scatter",
         "x": [
          "2024-02-13"
         ],
         "y": [
          "P0DT0H0M0S"
         ]
        },
        {
         "marker": {
          "color": "Blue",
          "size": 7
         },
         "mode": "markers",
         "name": "out_of_bed_time (2024-02-13)",
         "text": "out_of_bed_time: 0 days 00:00:00",
         "type": "scatter",
         "x": [
          "2024-02-13"
         ],
         "y": [
          "P0DT0H0M0S"
         ]
        },
        {
         "marker": {
          "color": "Blue",
          "size": 7
         },
         "mode": "markers",
         "name": "out_of_bed_time (2024-02-14)",
         "text": "out_of_bed_time: 0 days 00:00:00",
         "type": "scatter",
         "x": [
          "2024-02-14"
         ],
         "y": [
          "P0DT0H0M0S"
         ]
        },
        {
         "marker": {
          "color": "Blue",
          "size": 7
         },
         "mode": "markers",
         "name": "out_of_bed_time (2024-02-15)",
         "text": "out_of_bed_time: 0 days 00:00:00",
         "type": "scatter",
         "x": [
          "2024-02-15"
         ],
         "y": [
          "P0DT0H0M0S"
         ]
        },
        {
         "marker": {
          "color": "Blue",
          "size": 7
         },
         "mode": "markers",
         "name": "out_of_bed_time (2024-02-15)",
         "text": "out_of_bed_time: 0 days 00:00:00",
         "type": "scatter",
         "x": [
          "2024-02-15"
         ],
         "y": [
          "P0DT0H0M0S"
         ]
        },
        {
         "marker": {
          "color": "Blue",
          "size": 7
         },
         "mode": "markers",
         "name": "out_of_bed_time (2024-02-16)",
         "text": "out_of_bed_time: 0 days 00:00:00",
         "type": "scatter",
         "x": [
          "2024-02-16"
         ],
         "y": [
          "P0DT0H0M0S"
         ]
        },
        {
         "marker": {
          "color": "Blue",
          "size": 7
         },
         "mode": "markers",
         "name": "out_of_bed_time (2024-02-17)",
         "text": "out_of_bed_time: 0 days 00:00:00",
         "type": "scatter",
         "x": [
          "2024-02-17"
         ],
         "y": [
          "P0DT0H0M0S"
         ]
        },
        {
         "marker": {
          "color": "Blue",
          "size": 7
         },
         "mode": "markers",
         "name": "out_of_bed_time (2024-02-17)",
         "text": "out_of_bed_time: 0 days 00:00:00",
         "type": "scatter",
         "x": [
          "2024-02-17"
         ],
         "y": [
          "P0DT0H0M0S"
         ]
        },
        {
         "marker": {
          "color": "Blue",
          "size": 7
         },
         "mode": "markers",
         "name": "out_of_bed_time (2024-02-17)",
         "text": "out_of_bed_time: 0 days 00:00:00",
         "type": "scatter",
         "x": [
          "2024-02-17"
         ],
         "y": [
          "P0DT0H0M0S"
         ]
        },
        {
         "marker": {
          "color": "Blue",
          "size": 7
         },
         "mode": "markers",
         "name": "out_of_bed_time (2024-02-18)",
         "text": "out_of_bed_time: 0 days 00:06:00",
         "type": "scatter",
         "x": [
          "2024-02-18"
         ],
         "y": [
          "P0DT0H6M0S"
         ]
        },
        {
         "marker": {
          "color": "Blue",
          "size": 7
         },
         "mode": "markers",
         "name": "out_of_bed_time (2024-02-18)",
         "text": "out_of_bed_time: 0 days 00:00:00",
         "type": "scatter",
         "x": [
          "2024-02-18"
         ],
         "y": [
          "P0DT0H0M0S"
         ]
        },
        {
         "marker": {
          "color": "Blue",
          "size": 7
         },
         "mode": "markers",
         "name": "out_of_bed_time (2024-02-19)",
         "text": "out_of_bed_time: 0 days 00:06:00",
         "type": "scatter",
         "x": [
          "2024-02-19"
         ],
         "y": [
          "P0DT0H6M0S"
         ]
        },
        {
         "marker": {
          "color": "Blue",
          "size": 7
         },
         "mode": "markers",
         "name": "out_of_bed_time (2024-02-20)",
         "text": "out_of_bed_time: 0 days 00:00:00",
         "type": "scatter",
         "x": [
          "2024-02-20"
         ],
         "y": [
          "P0DT0H0M0S"
         ]
        },
        {
         "marker": {
          "color": "Blue",
          "size": 7
         },
         "mode": "markers",
         "name": "out_of_bed_time (2024-02-21)",
         "text": "out_of_bed_time: 0 days 00:08:00",
         "type": "scatter",
         "x": [
          "2024-02-21"
         ],
         "y": [
          "P0DT0H8M0S"
         ]
        },
        {
         "marker": {
          "color": "Blue",
          "size": 7
         },
         "mode": "markers",
         "name": "out_of_bed_time (2024-02-21)",
         "text": "out_of_bed_time: 0 days 00:00:00",
         "type": "scatter",
         "x": [
          "2024-02-21"
         ],
         "y": [
          "P0DT0H0M0S"
         ]
        },
        {
         "marker": {
          "color": "Blue",
          "size": 7
         },
         "mode": "markers",
         "name": "out_of_bed_time (2024-02-22)",
         "text": "out_of_bed_time: 0 days 00:00:00",
         "type": "scatter",
         "x": [
          "2024-02-22"
         ],
         "y": [
          "P0DT0H0M0S"
         ]
        },
        {
         "marker": {
          "color": "Blue",
          "size": 7
         },
         "mode": "markers",
         "name": "out_of_bed_time (2024-02-22)",
         "text": "out_of_bed_time: 0 days 00:00:00",
         "type": "scatter",
         "x": [
          "2024-02-22"
         ],
         "y": [
          "P0DT0H0M0S"
         ]
        },
        {
         "marker": {
          "color": "Blue",
          "size": 7
         },
         "mode": "markers",
         "name": "out_of_bed_time (2024-02-22)",
         "text": "out_of_bed_time: 0 days 00:00:00",
         "type": "scatter",
         "x": [
          "2024-02-22"
         ],
         "y": [
          "P0DT0H0M0S"
         ]
        },
        {
         "marker": {
          "color": "Blue",
          "size": 7
         },
         "mode": "markers",
         "name": "out_of_bed_time (2024-02-23)",
         "text": "out_of_bed_time: 0 days 00:00:00",
         "type": "scatter",
         "x": [
          "2024-02-23"
         ],
         "y": [
          "P0DT0H0M0S"
         ]
        },
        {
         "marker": {
          "color": "Blue",
          "size": 7
         },
         "mode": "markers",
         "name": "out_of_bed_time (2024-02-23)",
         "text": "out_of_bed_time: 0 days 00:00:00",
         "type": "scatter",
         "x": [
          "2024-02-23"
         ],
         "y": [
          "P0DT0H0M0S"
         ]
        },
        {
         "marker": {
          "color": "Blue",
          "size": 7
         },
         "mode": "markers",
         "name": "out_of_bed_time (2024-02-24)",
         "text": "out_of_bed_time: 0 days 00:00:00",
         "type": "scatter",
         "x": [
          "2024-02-24"
         ],
         "y": [
          "P0DT0H0M0S"
         ]
        },
        {
         "marker": {
          "color": "Blue",
          "size": 7
         },
         "mode": "markers",
         "name": "out_of_bed_time (2024-02-25)",
         "text": "out_of_bed_time: 0 days 00:00:00",
         "type": "scatter",
         "x": [
          "2024-02-25"
         ],
         "y": [
          "P0DT0H0M0S"
         ]
        },
        {
         "marker": {
          "color": "Blue",
          "size": 7
         },
         "mode": "markers",
         "name": "out_of_bed_time (2024-02-25)",
         "text": "out_of_bed_time: 0 days 00:00:00",
         "type": "scatter",
         "x": [
          "2024-02-25"
         ],
         "y": [
          "P0DT0H0M0S"
         ]
        },
        {
         "marker": {
          "color": "Blue",
          "size": 7
         },
         "mode": "markers",
         "name": "out_of_bed_time (2024-02-25)",
         "text": "out_of_bed_time: 0 days 00:00:00",
         "type": "scatter",
         "x": [
          "2024-02-25"
         ],
         "y": [
          "P0DT0H0M0S"
         ]
        },
        {
         "marker": {
          "color": "Blue",
          "size": 7
         },
         "mode": "markers",
         "name": "out_of_bed_time (2024-02-26)",
         "text": "out_of_bed_time: 0 days 00:00:00",
         "type": "scatter",
         "x": [
          "2024-02-26"
         ],
         "y": [
          "P0DT0H0M0S"
         ]
        },
        {
         "marker": {
          "color": "Blue",
          "size": 7
         },
         "mode": "markers",
         "name": "out_of_bed_time (2024-02-26)",
         "text": "out_of_bed_time: 0 days 00:00:00",
         "type": "scatter",
         "x": [
          "2024-02-26"
         ],
         "y": [
          "P0DT0H0M0S"
         ]
        },
        {
         "marker": {
          "color": "Blue",
          "size": 7
         },
         "mode": "markers",
         "name": "out_of_bed_time (2024-02-27)",
         "text": "out_of_bed_time: 0 days 00:16:00",
         "type": "scatter",
         "x": [
          "2024-02-27"
         ],
         "y": [
          "P0DT0H16M0S"
         ]
        },
        {
         "marker": {
          "color": "Blue",
          "size": 7
         },
         "mode": "markers",
         "name": "out_of_bed_time (2024-02-28)",
         "text": "out_of_bed_time: 0 days 00:58:00",
         "type": "scatter",
         "x": [
          "2024-02-28"
         ],
         "y": [
          "P0DT0H58M0S"
         ]
        },
        {
         "marker": {
          "color": "Blue",
          "size": 7
         },
         "mode": "markers",
         "name": "out_of_bed_time (2024-02-28)",
         "text": "out_of_bed_time: 0 days 00:00:00",
         "type": "scatter",
         "x": [
          "2024-02-28"
         ],
         "y": [
          "P0DT0H0M0S"
         ]
        },
        {
         "marker": {
          "color": "Blue",
          "size": 7
         },
         "mode": "markers",
         "name": "out_of_bed_time (2024-02-29)",
         "text": "out_of_bed_time: 0 days 00:07:00",
         "type": "scatter",
         "x": [
          "2024-02-29"
         ],
         "y": [
          "P0DT0H7M0S"
         ]
        },
        {
         "marker": {
          "color": "Blue",
          "size": 7
         },
         "mode": "markers",
         "name": "out_of_bed_time (2024-02-29)",
         "text": "out_of_bed_time: 0 days 00:00:00",
         "type": "scatter",
         "x": [
          "2024-02-29"
         ],
         "y": [
          "P0DT0H0M0S"
         ]
        },
        {
         "marker": {
          "color": "Blue",
          "size": 7
         },
         "mode": "markers",
         "name": "out_of_bed_time (2024-03-01)",
         "text": "out_of_bed_time: 0 days 00:17:00",
         "type": "scatter",
         "x": [
          "2024-03-01"
         ],
         "y": [
          "P0DT0H17M0S"
         ]
        },
        {
         "marker": {
          "color": "Blue",
          "size": 7
         },
         "mode": "markers",
         "name": "out_of_bed_time (2024-03-01)",
         "text": "out_of_bed_time: 0 days 00:00:00",
         "type": "scatter",
         "x": [
          "2024-03-01"
         ],
         "y": [
          "P0DT0H0M0S"
         ]
        },
        {
         "marker": {
          "color": "Blue",
          "size": 7
         },
         "mode": "markers",
         "name": "out_of_bed_time (2024-03-02)",
         "text": "out_of_bed_time: 0 days 01:21:00",
         "type": "scatter",
         "x": [
          "2024-03-02"
         ],
         "y": [
          "P0DT1H21M0S"
         ]
        },
        {
         "marker": {
          "color": "Blue",
          "size": 7
         },
         "mode": "markers",
         "name": "out_of_bed_time (2024-03-03)",
         "text": "out_of_bed_time: 0 days 00:00:00",
         "type": "scatter",
         "x": [
          "2024-03-03"
         ],
         "y": [
          "P0DT0H0M0S"
         ]
        },
        {
         "marker": {
          "color": "Blue",
          "size": 7
         },
         "mode": "markers",
         "name": "out_of_bed_time (2024-03-03)",
         "text": "out_of_bed_time: 0 days 00:30:00",
         "type": "scatter",
         "x": [
          "2024-03-03"
         ],
         "y": [
          "P0DT0H30M0S"
         ]
        },
        {
         "marker": {
          "color": "Blue",
          "size": 7
         },
         "mode": "markers",
         "name": "out_of_bed_time (2024-03-04)",
         "text": "out_of_bed_time: 0 days 00:00:00",
         "type": "scatter",
         "x": [
          "2024-03-04"
         ],
         "y": [
          "P0DT0H0M0S"
         ]
        },
        {
         "marker": {
          "color": "Blue",
          "size": 7
         },
         "mode": "markers",
         "name": "out_of_bed_time (2024-03-05)",
         "text": "out_of_bed_time: 0 days 00:18:00",
         "type": "scatter",
         "x": [
          "2024-03-05"
         ],
         "y": [
          "P0DT0H18M0S"
         ]
        },
        {
         "marker": {
          "color": "Blue",
          "size": 7
         },
         "mode": "markers",
         "name": "out_of_bed_time (2024-03-05)",
         "text": "out_of_bed_time: 0 days 00:00:00",
         "type": "scatter",
         "x": [
          "2024-03-05"
         ],
         "y": [
          "P0DT0H0M0S"
         ]
        },
        {
         "marker": {
          "color": "Blue",
          "size": 7
         },
         "mode": "markers",
         "name": "out_of_bed_time (2024-03-06)",
         "text": "out_of_bed_time: 0 days 00:11:00",
         "type": "scatter",
         "x": [
          "2024-03-06"
         ],
         "y": [
          "P0DT0H11M0S"
         ]
        },
        {
         "marker": {
          "color": "Blue",
          "size": 7
         },
         "mode": "markers",
         "name": "out_of_bed_time (2024-03-06)",
         "text": "out_of_bed_time: 0 days 00:00:00",
         "type": "scatter",
         "x": [
          "2024-03-06"
         ],
         "y": [
          "P0DT0H0M0S"
         ]
        },
        {
         "marker": {
          "color": "Blue",
          "size": 7
         },
         "mode": "markers",
         "name": "out_of_bed_time (2024-03-07)",
         "text": "out_of_bed_time: 0 days 00:00:00",
         "type": "scatter",
         "x": [
          "2024-03-07"
         ],
         "y": [
          "P0DT0H0M0S"
         ]
        },
        {
         "marker": {
          "color": "Blue",
          "size": 7
         },
         "mode": "markers",
         "name": "out_of_bed_time (2024-03-07)",
         "text": "out_of_bed_time: 0 days 00:00:00",
         "type": "scatter",
         "x": [
          "2024-03-07"
         ],
         "y": [
          "P0DT0H0M0S"
         ]
        },
        {
         "marker": {
          "color": "Blue",
          "size": 7
         },
         "mode": "markers",
         "name": "out_of_bed_time (2024-03-08)",
         "text": "out_of_bed_time: 0 days 00:00:00",
         "type": "scatter",
         "x": [
          "2024-03-08"
         ],
         "y": [
          "P0DT0H0M0S"
         ]
        },
        {
         "marker": {
          "color": "Blue",
          "size": 7
         },
         "mode": "markers",
         "name": "out_of_bed_time (2024-03-09)",
         "text": "out_of_bed_time: 0 days 00:00:00",
         "type": "scatter",
         "x": [
          "2024-03-09"
         ],
         "y": [
          "P0DT0H0M0S"
         ]
        },
        {
         "marker": {
          "color": "Blue",
          "size": 7
         },
         "mode": "markers",
         "name": "out_of_bed_time (2024-03-09)",
         "text": "out_of_bed_time: 0 days 00:00:00",
         "type": "scatter",
         "x": [
          "2024-03-09"
         ],
         "y": [
          "P0DT0H0M0S"
         ]
        },
        {
         "marker": {
          "color": "Blue",
          "size": 7
         },
         "mode": "markers",
         "name": "out_of_bed_time (2024-03-10)",
         "text": "out_of_bed_time: 0 days 00:00:00",
         "type": "scatter",
         "x": [
          "2024-03-10"
         ],
         "y": [
          "P0DT0H0M0S"
         ]
        },
        {
         "marker": {
          "color": "Blue",
          "size": 7
         },
         "mode": "markers",
         "name": "out_of_bed_time (2024-03-10)",
         "text": "out_of_bed_time: 0 days 00:00:00",
         "type": "scatter",
         "x": [
          "2024-03-10"
         ],
         "y": [
          "P0DT0H0M0S"
         ]
        },
        {
         "marker": {
          "color": "Blue",
          "size": 7
         },
         "mode": "markers",
         "name": "out_of_bed_time (2024-03-11)",
         "text": "out_of_bed_time: 0 days 00:00:00",
         "type": "scatter",
         "x": [
          "2024-03-11"
         ],
         "y": [
          "P0DT0H0M0S"
         ]
        },
        {
         "marker": {
          "color": "Blue",
          "size": 7
         },
         "mode": "markers",
         "name": "out_of_bed_time (2024-03-11)",
         "text": "out_of_bed_time: 0 days 00:00:00",
         "type": "scatter",
         "x": [
          "2024-03-11"
         ],
         "y": [
          "P0DT0H0M0S"
         ]
        },
        {
         "marker": {
          "color": "Blue",
          "size": 7
         },
         "mode": "markers",
         "name": "out_of_bed_time (2024-03-12)",
         "text": "out_of_bed_time: 0 days 01:38:00",
         "type": "scatter",
         "x": [
          "2024-03-12"
         ],
         "y": [
          "P0DT1H38M0S"
         ]
        },
        {
         "marker": {
          "color": "Blue",
          "size": 7
         },
         "mode": "markers",
         "name": "out_of_bed_time (2024-03-12)",
         "text": "out_of_bed_time: 0 days 00:00:00",
         "type": "scatter",
         "x": [
          "2024-03-12"
         ],
         "y": [
          "P0DT0H0M0S"
         ]
        },
        {
         "marker": {
          "color": "Blue",
          "size": 7
         },
         "mode": "markers",
         "name": "out_of_bed_time (2024-03-13)",
         "text": "out_of_bed_time: 0 days 00:00:00",
         "type": "scatter",
         "x": [
          "2024-03-13"
         ],
         "y": [
          "P0DT0H0M0S"
         ]
        },
        {
         "marker": {
          "color": "Blue",
          "size": 7
         },
         "mode": "markers",
         "name": "out_of_bed_time (2024-03-14)",
         "text": "out_of_bed_time: 0 days 00:00:00",
         "type": "scatter",
         "x": [
          "2024-03-14"
         ],
         "y": [
          "P0DT0H0M0S"
         ]
        },
        {
         "marker": {
          "color": "Blue",
          "size": 7
         },
         "mode": "markers",
         "name": "out_of_bed_time (2024-03-15)",
         "text": "out_of_bed_time: 0 days 00:00:00",
         "type": "scatter",
         "x": [
          "2024-03-15"
         ],
         "y": [
          "P0DT0H0M0S"
         ]
        },
        {
         "marker": {
          "color": "Blue",
          "size": 7
         },
         "mode": "markers",
         "name": "out_of_bed_time (2024-03-15)",
         "text": "out_of_bed_time: 0 days 00:00:00",
         "type": "scatter",
         "x": [
          "2024-03-15"
         ],
         "y": [
          "P0DT0H0M0S"
         ]
        },
        {
         "marker": {
          "color": "Blue",
          "size": 7
         },
         "mode": "markers",
         "name": "out_of_bed_time (2024-03-16)",
         "text": "out_of_bed_time: 0 days 00:00:00",
         "type": "scatter",
         "x": [
          "2024-03-16"
         ],
         "y": [
          "P0DT0H0M0S"
         ]
        },
        {
         "marker": {
          "color": "Blue",
          "size": 7
         },
         "mode": "markers",
         "name": "out_of_bed_time (2024-03-16)",
         "text": "out_of_bed_time: 0 days 00:00:00",
         "type": "scatter",
         "x": [
          "2024-03-16"
         ],
         "y": [
          "P0DT0H0M0S"
         ]
        },
        {
         "marker": {
          "color": "Blue",
          "size": 7
         },
         "mode": "markers",
         "name": "out_of_bed_time (2024-03-17)",
         "text": "out_of_bed_time: 0 days 00:23:00",
         "type": "scatter",
         "x": [
          "2024-03-17"
         ],
         "y": [
          "P0DT0H23M0S"
         ]
        },
        {
         "marker": {
          "color": "Blue",
          "size": 7
         },
         "mode": "markers",
         "name": "out_of_bed_time (2024-03-17)",
         "text": "out_of_bed_time: 0 days 00:26:00",
         "type": "scatter",
         "x": [
          "2024-03-17"
         ],
         "y": [
          "P0DT0H26M0S"
         ]
        },
        {
         "marker": {
          "color": "Blue",
          "size": 7
         },
         "mode": "markers",
         "name": "out_of_bed_time (2024-03-18)",
         "text": "out_of_bed_time: 0 days 00:00:00",
         "type": "scatter",
         "x": [
          "2024-03-18"
         ],
         "y": [
          "P0DT0H0M0S"
         ]
        },
        {
         "marker": {
          "color": "Blue",
          "size": 7
         },
         "mode": "markers",
         "name": "out_of_bed_time (2024-03-19)",
         "text": "out_of_bed_time: 0 days 02:15:00",
         "type": "scatter",
         "x": [
          "2024-03-19"
         ],
         "y": [
          "P0DT2H15M0S"
         ]
        },
        {
         "marker": {
          "color": "Blue",
          "size": 7
         },
         "mode": "markers",
         "name": "out_of_bed_time (2024-03-19)",
         "text": "out_of_bed_time: 0 days 00:00:00",
         "type": "scatter",
         "x": [
          "2024-03-19"
         ],
         "y": [
          "P0DT0H0M0S"
         ]
        },
        {
         "marker": {
          "color": "Blue",
          "size": 7
         },
         "mode": "markers",
         "name": "out_of_bed_time (2024-03-20)",
         "text": "out_of_bed_time: 0 days 00:37:00",
         "type": "scatter",
         "x": [
          "2024-03-20"
         ],
         "y": [
          "P0DT0H37M0S"
         ]
        },
        {
         "marker": {
          "color": "Blue",
          "size": 7
         },
         "mode": "markers",
         "name": "out_of_bed_time (2024-03-21)",
         "text": "out_of_bed_time: 0 days 00:00:00",
         "type": "scatter",
         "x": [
          "2024-03-21"
         ],
         "y": [
          "P0DT0H0M0S"
         ]
        },
        {
         "marker": {
          "color": "Blue",
          "size": 7
         },
         "mode": "markers",
         "name": "out_of_bed_time (2024-03-21)",
         "text": "out_of_bed_time: 0 days 00:00:00",
         "type": "scatter",
         "x": [
          "2024-03-21"
         ],
         "y": [
          "P0DT0H0M0S"
         ]
        },
        {
         "marker": {
          "color": "Blue",
          "size": 7
         },
         "mode": "markers",
         "name": "out_of_bed_time (2024-03-22)",
         "text": "out_of_bed_time: 0 days 00:00:00",
         "type": "scatter",
         "x": [
          "2024-03-22"
         ],
         "y": [
          "P0DT0H0M0S"
         ]
        },
        {
         "marker": {
          "color": "Blue",
          "size": 7
         },
         "mode": "markers",
         "name": "out_of_bed_time (2024-03-22)",
         "text": "out_of_bed_time: 0 days 00:00:00",
         "type": "scatter",
         "x": [
          "2024-03-22"
         ],
         "y": [
          "P0DT0H0M0S"
         ]
        },
        {
         "marker": {
          "color": "Blue",
          "size": 7
         },
         "mode": "markers",
         "name": "out_of_bed_time (2024-03-22)",
         "text": "out_of_bed_time: 0 days 00:00:00",
         "type": "scatter",
         "x": [
          "2024-03-22"
         ],
         "y": [
          "P0DT0H0M0S"
         ]
        },
        {
         "marker": {
          "color": "Blue",
          "size": 7
         },
         "mode": "markers",
         "name": "out_of_bed_time (2024-03-23)",
         "text": "out_of_bed_time: 0 days 00:00:00",
         "type": "scatter",
         "x": [
          "2024-03-23"
         ],
         "y": [
          "P0DT0H0M0S"
         ]
        },
        {
         "marker": {
          "color": "Blue",
          "size": 7
         },
         "mode": "markers",
         "name": "out_of_bed_time (2024-03-23)",
         "text": "out_of_bed_time: 0 days 00:00:00",
         "type": "scatter",
         "x": [
          "2024-03-23"
         ],
         "y": [
          "P0DT0H0M0S"
         ]
        },
        {
         "marker": {
          "color": "Blue",
          "size": 7
         },
         "mode": "markers",
         "name": "out_of_bed_time (2024-03-24)",
         "text": "out_of_bed_time: 0 days 00:08:00",
         "type": "scatter",
         "x": [
          "2024-03-24"
         ],
         "y": [
          "P0DT0H8M0S"
         ]
        },
        {
         "marker": {
          "color": "Blue",
          "size": 7
         },
         "mode": "markers",
         "name": "out_of_bed_time (2024-03-24)",
         "text": "out_of_bed_time: 0 days 00:00:00",
         "type": "scatter",
         "x": [
          "2024-03-24"
         ],
         "y": [
          "P0DT0H0M0S"
         ]
        },
        {
         "marker": {
          "color": "Blue",
          "size": 7
         },
         "mode": "markers",
         "name": "out_of_bed_time (2024-03-24)",
         "text": "out_of_bed_time: 0 days 00:00:00",
         "type": "scatter",
         "x": [
          "2024-03-24"
         ],
         "y": [
          "P0DT0H0M0S"
         ]
        },
        {
         "marker": {
          "color": "Blue",
          "size": 7
         },
         "mode": "markers",
         "name": "out_of_bed_time (2024-03-25)",
         "text": "out_of_bed_time: 0 days 00:00:00",
         "type": "scatter",
         "x": [
          "2024-03-25"
         ],
         "y": [
          "P0DT0H0M0S"
         ]
        },
        {
         "marker": {
          "color": "Blue",
          "size": 7
         },
         "mode": "markers",
         "name": "out_of_bed_time (2024-03-25)",
         "text": "out_of_bed_time: 0 days 00:00:00",
         "type": "scatter",
         "x": [
          "2024-03-25"
         ],
         "y": [
          "P0DT0H0M0S"
         ]
        },
        {
         "marker": {
          "color": "Blue",
          "size": 7
         },
         "mode": "markers",
         "name": "out_of_bed_time (2024-03-26)",
         "text": "out_of_bed_time: 0 days 00:00:00",
         "type": "scatter",
         "x": [
          "2024-03-26"
         ],
         "y": [
          "P0DT0H0M0S"
         ]
        },
        {
         "marker": {
          "color": "Blue",
          "size": 7
         },
         "mode": "markers",
         "name": "out_of_bed_time (2024-03-27)",
         "text": "out_of_bed_time: 0 days 00:00:00",
         "type": "scatter",
         "x": [
          "2024-03-27"
         ],
         "y": [
          "P0DT0H0M0S"
         ]
        },
        {
         "marker": {
          "color": "Blue",
          "size": 7
         },
         "mode": "markers",
         "name": "out_of_bed_time (2024-03-27)",
         "text": "out_of_bed_time: 0 days 00:00:00",
         "type": "scatter",
         "x": [
          "2024-03-27"
         ],
         "y": [
          "P0DT0H0M0S"
         ]
        },
        {
         "marker": {
          "color": "Blue",
          "size": 7
         },
         "mode": "markers",
         "name": "out_of_bed_time (2024-03-28)",
         "text": "out_of_bed_time: 0 days 00:32:00",
         "type": "scatter",
         "x": [
          "2024-03-28"
         ],
         "y": [
          "P0DT0H32M0S"
         ]
        },
        {
         "marker": {
          "color": "Blue",
          "size": 7
         },
         "mode": "markers",
         "name": "out_of_bed_time (2024-03-28)",
         "text": "out_of_bed_time: 0 days 00:00:00",
         "type": "scatter",
         "x": [
          "2024-03-28"
         ],
         "y": [
          "P0DT0H0M0S"
         ]
        },
        {
         "marker": {
          "color": "Blue",
          "size": 7
         },
         "mode": "markers",
         "name": "out_of_bed_time (2024-03-29)",
         "text": "out_of_bed_time: 0 days 00:39:00",
         "type": "scatter",
         "x": [
          "2024-03-29"
         ],
         "y": [
          "P0DT0H39M0S"
         ]
        },
        {
         "marker": {
          "color": "Blue",
          "size": 7
         },
         "mode": "markers",
         "name": "out_of_bed_time (2024-03-29)",
         "text": "out_of_bed_time: 0 days 00:00:00",
         "type": "scatter",
         "x": [
          "2024-03-29"
         ],
         "y": [
          "P0DT0H0M0S"
         ]
        },
        {
         "marker": {
          "color": "Blue",
          "size": 7
         },
         "mode": "markers",
         "name": "out_of_bed_time (2024-03-30)",
         "text": "out_of_bed_time: 0 days 00:00:00",
         "type": "scatter",
         "x": [
          "2024-03-30"
         ],
         "y": [
          "P0DT0H0M0S"
         ]
        },
        {
         "marker": {
          "color": "Blue",
          "size": 7
         },
         "mode": "markers",
         "name": "out_of_bed_time (2024-04-02)",
         "text": "out_of_bed_time: 0 days 00:00:00",
         "type": "scatter",
         "x": [
          "2024-04-02"
         ],
         "y": [
          "P0DT0H0M0S"
         ]
        },
        {
         "marker": {
          "color": "Blue",
          "size": 7
         },
         "mode": "markers",
         "name": "out_of_bed_time (2024-04-03)",
         "text": "out_of_bed_time: 0 days 00:39:00",
         "type": "scatter",
         "x": [
          "2024-04-03"
         ],
         "y": [
          "P0DT0H39M0S"
         ]
        },
        {
         "marker": {
          "color": "Blue",
          "size": 7
         },
         "mode": "markers",
         "name": "out_of_bed_time (2024-04-03)",
         "text": "out_of_bed_time: 0 days 00:00:00",
         "type": "scatter",
         "x": [
          "2024-04-03"
         ],
         "y": [
          "P0DT0H0M0S"
         ]
        },
        {
         "marker": {
          "color": "Blue",
          "size": 7
         },
         "mode": "markers",
         "name": "out_of_bed_time (2024-04-03)",
         "text": "out_of_bed_time: 0 days 00:00:00",
         "type": "scatter",
         "x": [
          "2024-04-03"
         ],
         "y": [
          "P0DT0H0M0S"
         ]
        },
        {
         "marker": {
          "color": "Blue",
          "size": 7
         },
         "mode": "markers",
         "name": "out_of_bed_time (2024-04-04)",
         "text": "out_of_bed_time: 0 days 00:00:00",
         "type": "scatter",
         "x": [
          "2024-04-04"
         ],
         "y": [
          "P0DT0H0M0S"
         ]
        },
        {
         "marker": {
          "color": "Blue",
          "size": 7
         },
         "mode": "markers",
         "name": "out_of_bed_time (2024-04-04)",
         "text": "out_of_bed_time: 0 days 00:20:00",
         "type": "scatter",
         "x": [
          "2024-04-04"
         ],
         "y": [
          "P0DT0H20M0S"
         ]
        },
        {
         "marker": {
          "color": "Blue",
          "size": 7
         },
         "mode": "markers",
         "name": "out_of_bed_time (2024-04-05)",
         "text": "out_of_bed_time: 0 days 00:00:00",
         "type": "scatter",
         "x": [
          "2024-04-05"
         ],
         "y": [
          "P0DT0H0M0S"
         ]
        },
        {
         "marker": {
          "color": "Blue",
          "size": 7
         },
         "mode": "markers",
         "name": "out_of_bed_time (2024-04-06)",
         "text": "out_of_bed_time: 0 days 00:00:00",
         "type": "scatter",
         "x": [
          "2024-04-06"
         ],
         "y": [
          "P0DT0H0M0S"
         ]
        },
        {
         "marker": {
          "color": "Blue",
          "size": 7
         },
         "mode": "markers",
         "name": "out_of_bed_time (2024-04-06)",
         "text": "out_of_bed_time: 0 days 00:00:00",
         "type": "scatter",
         "x": [
          "2024-04-06"
         ],
         "y": [
          "P0DT0H0M0S"
         ]
        },
        {
         "marker": {
          "color": "Blue",
          "size": 7
         },
         "mode": "markers",
         "name": "out_of_bed_time (2024-04-07)",
         "text": "out_of_bed_time: 0 days 00:00:00",
         "type": "scatter",
         "x": [
          "2024-04-07"
         ],
         "y": [
          "P0DT0H0M0S"
         ]
        },
        {
         "marker": {
          "color": "Blue",
          "size": 7
         },
         "mode": "markers",
         "name": "out_of_bed_time (2024-04-07)",
         "text": "out_of_bed_time: 0 days 00:00:00",
         "type": "scatter",
         "x": [
          "2024-04-07"
         ],
         "y": [
          "P0DT0H0M0S"
         ]
        },
        {
         "marker": {
          "color": "Blue",
          "size": 7
         },
         "mode": "markers",
         "name": "out_of_bed_time (2024-04-08)",
         "text": "out_of_bed_time: 0 days 00:00:00",
         "type": "scatter",
         "x": [
          "2024-04-08"
         ],
         "y": [
          "P0DT0H0M0S"
         ]
        },
        {
         "marker": {
          "color": "Blue",
          "size": 7
         },
         "mode": "markers",
         "name": "out_of_bed_time (2024-04-09)",
         "text": "out_of_bed_time: 0 days 00:00:00",
         "type": "scatter",
         "x": [
          "2024-04-09"
         ],
         "y": [
          "P0DT0H0M0S"
         ]
        },
        {
         "marker": {
          "color": "Blue",
          "size": 7
         },
         "mode": "markers",
         "name": "out_of_bed_time (2024-04-09)",
         "text": "out_of_bed_time: 0 days 00:00:00",
         "type": "scatter",
         "x": [
          "2024-04-09"
         ],
         "y": [
          "P0DT0H0M0S"
         ]
        },
        {
         "marker": {
          "color": "Blue",
          "size": 7
         },
         "mode": "markers",
         "name": "out_of_bed_time (2024-04-10)",
         "text": "out_of_bed_time: 0 days 00:00:00",
         "type": "scatter",
         "x": [
          "2024-04-10"
         ],
         "y": [
          "P0DT0H0M0S"
         ]
        },
        {
         "marker": {
          "color": "Blue",
          "size": 7
         },
         "mode": "markers",
         "name": "out_of_bed_time (2024-04-11)",
         "text": "out_of_bed_time: 0 days 00:41:00",
         "type": "scatter",
         "x": [
          "2024-04-11"
         ],
         "y": [
          "P0DT0H41M0S"
         ]
        },
        {
         "marker": {
          "color": "Blue",
          "size": 7
         },
         "mode": "markers",
         "name": "out_of_bed_time (2024-04-11)",
         "text": "out_of_bed_time: 0 days 00:00:00",
         "type": "scatter",
         "x": [
          "2024-04-11"
         ],
         "y": [
          "P0DT0H0M0S"
         ]
        },
        {
         "marker": {
          "color": "Blue",
          "size": 7
         },
         "mode": "markers",
         "name": "out_of_bed_time (2024-04-12)",
         "text": "out_of_bed_time: 0 days 00:00:00",
         "type": "scatter",
         "x": [
          "2024-04-12"
         ],
         "y": [
          "P0DT0H0M0S"
         ]
        },
        {
         "marker": {
          "color": "Blue",
          "size": 7
         },
         "mode": "markers",
         "name": "out_of_bed_time (2024-04-13)",
         "text": "out_of_bed_time: 0 days 00:27:00",
         "type": "scatter",
         "x": [
          "2024-04-13"
         ],
         "y": [
          "P0DT0H27M0S"
         ]
        },
        {
         "marker": {
          "color": "Blue",
          "size": 7
         },
         "mode": "markers",
         "name": "out_of_bed_time (2024-04-13)",
         "text": "out_of_bed_time: 0 days 00:00:00",
         "type": "scatter",
         "x": [
          "2024-04-13"
         ],
         "y": [
          "P0DT0H0M0S"
         ]
        },
        {
         "marker": {
          "color": "Blue",
          "size": 7
         },
         "mode": "markers",
         "name": "out_of_bed_time (2024-04-13)",
         "text": "out_of_bed_time: 0 days 00:00:00",
         "type": "scatter",
         "x": [
          "2024-04-13"
         ],
         "y": [
          "P0DT0H0M0S"
         ]
        },
        {
         "marker": {
          "color": "Blue",
          "size": 7
         },
         "mode": "markers",
         "name": "out_of_bed_time (2024-04-14)",
         "text": "out_of_bed_time: 0 days 00:00:00",
         "type": "scatter",
         "x": [
          "2024-04-14"
         ],
         "y": [
          "P0DT0H0M0S"
         ]
        },
        {
         "marker": {
          "color": "Blue",
          "size": 7
         },
         "mode": "markers",
         "name": "out_of_bed_time (2024-04-14)",
         "text": "out_of_bed_time: 0 days 00:00:00",
         "type": "scatter",
         "x": [
          "2024-04-14"
         ],
         "y": [
          "P0DT0H0M0S"
         ]
        },
        {
         "marker": {
          "color": "Blue",
          "size": 7
         },
         "mode": "markers",
         "name": "out_of_bed_time (2024-04-15)",
         "text": "out_of_bed_time: 0 days 00:00:00",
         "type": "scatter",
         "x": [
          "2024-04-15"
         ],
         "y": [
          "P0DT0H0M0S"
         ]
        },
        {
         "marker": {
          "color": "Blue",
          "size": 7
         },
         "mode": "markers",
         "name": "out_of_bed_time (2024-04-16)",
         "text": "out_of_bed_time: 0 days 00:00:00",
         "type": "scatter",
         "x": [
          "2024-04-16"
         ],
         "y": [
          "P0DT0H0M0S"
         ]
        },
        {
         "marker": {
          "color": "Blue",
          "size": 7
         },
         "mode": "markers",
         "name": "out_of_bed_time (2024-04-16)",
         "text": "out_of_bed_time: 0 days 00:00:00",
         "type": "scatter",
         "x": [
          "2024-04-16"
         ],
         "y": [
          "P0DT0H0M0S"
         ]
        },
        {
         "marker": {
          "color": "Blue",
          "size": 7
         },
         "mode": "markers",
         "name": "out_of_bed_time (2024-04-17)",
         "text": "out_of_bed_time: 0 days 00:09:00",
         "type": "scatter",
         "x": [
          "2024-04-17"
         ],
         "y": [
          "P0DT0H9M0S"
         ]
        },
        {
         "marker": {
          "color": "Blue",
          "size": 7
         },
         "mode": "markers",
         "name": "out_of_bed_time (2024-04-17)",
         "text": "out_of_bed_time: 0 days 00:00:00",
         "type": "scatter",
         "x": [
          "2024-04-17"
         ],
         "y": [
          "P0DT0H0M0S"
         ]
        },
        {
         "marker": {
          "color": "Blue",
          "size": 7
         },
         "mode": "markers",
         "name": "out_of_bed_time (2024-04-17)",
         "text": "out_of_bed_time: 0 days 00:00:00",
         "type": "scatter",
         "x": [
          "2024-04-17"
         ],
         "y": [
          "P0DT0H0M0S"
         ]
        },
        {
         "marker": {
          "color": "Blue",
          "size": 7
         },
         "mode": "markers",
         "name": "out_of_bed_time (2024-04-18)",
         "text": "out_of_bed_time: 0 days 01:20:00",
         "type": "scatter",
         "x": [
          "2024-04-18"
         ],
         "y": [
          "P0DT1H20M0S"
         ]
        },
        {
         "marker": {
          "color": "Blue",
          "size": 7
         },
         "mode": "markers",
         "name": "out_of_bed_time (2024-04-19)",
         "text": "out_of_bed_time: 0 days 00:07:00",
         "type": "scatter",
         "x": [
          "2024-04-19"
         ],
         "y": [
          "P0DT0H7M0S"
         ]
        },
        {
         "marker": {
          "color": "Blue",
          "size": 7
         },
         "mode": "markers",
         "name": "out_of_bed_time (2024-04-19)",
         "text": "out_of_bed_time: 0 days 00:06:00",
         "type": "scatter",
         "x": [
          "2024-04-19"
         ],
         "y": [
          "P0DT0H6M0S"
         ]
        },
        {
         "marker": {
          "color": "Blue",
          "size": 7
         },
         "mode": "markers",
         "name": "out_of_bed_time (2024-04-19)",
         "text": "out_of_bed_time: 0 days 00:00:00",
         "type": "scatter",
         "x": [
          "2024-04-19"
         ],
         "y": [
          "P0DT0H0M0S"
         ]
        },
        {
         "marker": {
          "color": "Blue",
          "size": 7
         },
         "mode": "markers",
         "name": "out_of_bed_time (2024-04-20)",
         "text": "out_of_bed_time: 0 days 00:38:00",
         "type": "scatter",
         "x": [
          "2024-04-20"
         ],
         "y": [
          "P0DT0H38M0S"
         ]
        },
        {
         "marker": {
          "color": "Blue",
          "size": 7
         },
         "mode": "markers",
         "name": "out_of_bed_time (2024-04-20)",
         "text": "out_of_bed_time: 0 days 00:00:00",
         "type": "scatter",
         "x": [
          "2024-04-20"
         ],
         "y": [
          "P0DT0H0M0S"
         ]
        },
        {
         "marker": {
          "color": "Blue",
          "size": 7
         },
         "mode": "markers",
         "name": "out_of_bed_time (2024-04-21)",
         "text": "out_of_bed_time: 0 days 00:07:00",
         "type": "scatter",
         "x": [
          "2024-04-21"
         ],
         "y": [
          "P0DT0H7M0S"
         ]
        },
        {
         "marker": {
          "color": "Blue",
          "size": 7
         },
         "mode": "markers",
         "name": "out_of_bed_time (2024-04-21)",
         "text": "out_of_bed_time: 0 days 00:00:00",
         "type": "scatter",
         "x": [
          "2024-04-21"
         ],
         "y": [
          "P0DT0H0M0S"
         ]
        },
        {
         "marker": {
          "color": "Blue",
          "size": 7
         },
         "mode": "markers",
         "name": "out_of_bed_time (2024-04-22)",
         "text": "out_of_bed_time: 0 days 00:00:00",
         "type": "scatter",
         "x": [
          "2024-04-22"
         ],
         "y": [
          "P0DT0H0M0S"
         ]
        },
        {
         "marker": {
          "color": "Blue",
          "size": 7
         },
         "mode": "markers",
         "name": "out_of_bed_time (2024-04-23)",
         "text": "out_of_bed_time: 0 days 00:52:00",
         "type": "scatter",
         "x": [
          "2024-04-23"
         ],
         "y": [
          "P0DT0H52M0S"
         ]
        },
        {
         "marker": {
          "color": "Blue",
          "size": 7
         },
         "mode": "markers",
         "name": "out_of_bed_time (2024-04-24)",
         "text": "out_of_bed_time: 0 days 02:38:00",
         "type": "scatter",
         "x": [
          "2024-04-24"
         ],
         "y": [
          "P0DT2H38M0S"
         ]
        },
        {
         "marker": {
          "color": "Blue",
          "size": 7
         },
         "mode": "markers",
         "name": "out_of_bed_time (2024-04-24)",
         "text": "out_of_bed_time: 0 days 00:00:00",
         "type": "scatter",
         "x": [
          "2024-04-24"
         ],
         "y": [
          "P0DT0H0M0S"
         ]
        },
        {
         "marker": {
          "color": "Blue",
          "size": 7
         },
         "mode": "markers",
         "name": "out_of_bed_time (2024-04-25)",
         "text": "out_of_bed_time: 0 days 00:00:00",
         "type": "scatter",
         "x": [
          "2024-04-25"
         ],
         "y": [
          "P0DT0H0M0S"
         ]
        },
        {
         "marker": {
          "color": "Blue",
          "size": 7
         },
         "mode": "markers",
         "name": "out_of_bed_time (2024-04-26)",
         "text": "out_of_bed_time: 0 days 01:22:00",
         "type": "scatter",
         "x": [
          "2024-04-26"
         ],
         "y": [
          "P0DT1H22M0S"
         ]
        },
        {
         "marker": {
          "color": "Blue",
          "size": 7
         },
         "mode": "markers",
         "name": "out_of_bed_time (2024-04-26)",
         "text": "out_of_bed_time: 0 days 00:00:00",
         "type": "scatter",
         "x": [
          "2024-04-26"
         ],
         "y": [
          "P0DT0H0M0S"
         ]
        },
        {
         "marker": {
          "color": "Blue",
          "size": 7
         },
         "mode": "markers",
         "name": "out_of_bed_time (2024-04-27)",
         "text": "out_of_bed_time: 0 days 00:00:00",
         "type": "scatter",
         "x": [
          "2024-04-27"
         ],
         "y": [
          "P0DT0H0M0S"
         ]
        },
        {
         "marker": {
          "color": "Blue",
          "size": 7
         },
         "mode": "markers",
         "name": "out_of_bed_time (2024-04-27)",
         "text": "out_of_bed_time: 0 days 00:00:00",
         "type": "scatter",
         "x": [
          "2024-04-27"
         ],
         "y": [
          "P0DT0H0M0S"
         ]
        },
        {
         "marker": {
          "color": "Blue",
          "size": 7
         },
         "mode": "markers",
         "name": "out_of_bed_time (2024-04-28)",
         "text": "out_of_bed_time: 0 days 00:00:00",
         "type": "scatter",
         "x": [
          "2024-04-28"
         ],
         "y": [
          "P0DT0H0M0S"
         ]
        },
        {
         "marker": {
          "color": "Blue",
          "size": 7
         },
         "mode": "markers",
         "name": "out_of_bed_time (2024-04-28)",
         "text": "out_of_bed_time: 0 days 00:00:00",
         "type": "scatter",
         "x": [
          "2024-04-28"
         ],
         "y": [
          "P0DT0H0M0S"
         ]
        },
        {
         "marker": {
          "color": "Blue",
          "size": 7
         },
         "mode": "markers",
         "name": "out_of_bed_time (2024-04-29)",
         "text": "out_of_bed_time: 0 days 00:00:00",
         "type": "scatter",
         "x": [
          "2024-04-29"
         ],
         "y": [
          "P0DT0H0M0S"
         ]
        },
        {
         "marker": {
          "color": "Blue",
          "size": 7
         },
         "mode": "markers",
         "name": "out_of_bed_time (2024-04-30)",
         "text": "out_of_bed_time: 0 days 01:36:00",
         "type": "scatter",
         "x": [
          "2024-04-30"
         ],
         "y": [
          "P0DT1H36M0S"
         ]
        },
        {
         "marker": {
          "color": "Blue",
          "size": 7
         },
         "mode": "markers",
         "name": "out_of_bed_time (2024-05-01)",
         "text": "out_of_bed_time: 0 days 00:46:00",
         "type": "scatter",
         "x": [
          "2024-05-01"
         ],
         "y": [
          "P0DT0H46M0S"
         ]
        },
        {
         "marker": {
          "color": "Blue",
          "size": 7
         },
         "mode": "markers",
         "name": "out_of_bed_time (2024-05-02)",
         "text": "out_of_bed_time: 0 days 00:00:00",
         "type": "scatter",
         "x": [
          "2024-05-02"
         ],
         "y": [
          "P0DT0H0M0S"
         ]
        },
        {
         "marker": {
          "color": "Blue",
          "size": 7
         },
         "mode": "markers",
         "name": "out_of_bed_time (2024-05-02)",
         "text": "out_of_bed_time: 0 days 00:00:00",
         "type": "scatter",
         "x": [
          "2024-05-02"
         ],
         "y": [
          "P0DT0H0M0S"
         ]
        },
        {
         "marker": {
          "color": "Blue",
          "size": 7
         },
         "mode": "markers",
         "name": "out_of_bed_time (2024-05-03)",
         "text": "out_of_bed_time: 0 days 00:00:00",
         "type": "scatter",
         "x": [
          "2024-05-03"
         ],
         "y": [
          "P0DT0H0M0S"
         ]
        },
        {
         "marker": {
          "color": "Blue",
          "size": 7
         },
         "mode": "markers",
         "name": "out_of_bed_time (2024-05-04)",
         "text": "out_of_bed_time: 0 days 00:00:00",
         "type": "scatter",
         "x": [
          "2024-05-04"
         ],
         "y": [
          "P0DT0H0M0S"
         ]
        },
        {
         "marker": {
          "color": "Blue",
          "size": 7
         },
         "mode": "markers",
         "name": "out_of_bed_time (2024-05-05)",
         "text": "out_of_bed_time: 0 days 00:00:00",
         "type": "scatter",
         "x": [
          "2024-05-05"
         ],
         "y": [
          "P0DT0H0M0S"
         ]
        },
        {
         "marker": {
          "color": "Blue",
          "size": 7
         },
         "mode": "markers",
         "name": "out_of_bed_time (2024-05-05)",
         "text": "out_of_bed_time: 0 days 00:00:00",
         "type": "scatter",
         "x": [
          "2024-05-05"
         ],
         "y": [
          "P0DT0H0M0S"
         ]
        },
        {
         "marker": {
          "color": "Blue",
          "size": 7
         },
         "mode": "markers",
         "name": "out_of_bed_time (2024-05-06)",
         "text": "out_of_bed_time: 0 days 00:00:00",
         "type": "scatter",
         "x": [
          "2024-05-06"
         ],
         "y": [
          "P0DT0H0M0S"
         ]
        },
        {
         "marker": {
          "color": "Blue",
          "size": 7
         },
         "mode": "markers",
         "name": "out_of_bed_time (2024-05-07)",
         "text": "out_of_bed_time: 0 days 00:00:00",
         "type": "scatter",
         "x": [
          "2024-05-07"
         ],
         "y": [
          "P0DT0H0M0S"
         ]
        },
        {
         "marker": {
          "color": "Blue",
          "size": 7
         },
         "mode": "markers",
         "name": "out_of_bed_time (2024-05-08)",
         "text": "out_of_bed_time: 0 days 00:00:00",
         "type": "scatter",
         "x": [
          "2024-05-08"
         ],
         "y": [
          "P0DT0H0M0S"
         ]
        },
        {
         "marker": {
          "color": "Blue",
          "size": 7
         },
         "mode": "markers",
         "name": "out_of_bed_time (2024-05-08)",
         "text": "out_of_bed_time: 0 days 00:00:00",
         "type": "scatter",
         "x": [
          "2024-05-08"
         ],
         "y": [
          "P0DT0H0M0S"
         ]
        },
        {
         "marker": {
          "color": "Blue",
          "size": 7
         },
         "mode": "markers",
         "name": "out_of_bed_time (2024-05-09)",
         "text": "out_of_bed_time: 0 days 00:07:00",
         "type": "scatter",
         "x": [
          "2024-05-09"
         ],
         "y": [
          "P0DT0H7M0S"
         ]
        },
        {
         "marker": {
          "color": "Blue",
          "size": 7
         },
         "mode": "markers",
         "name": "out_of_bed_time (2024-05-09)",
         "text": "out_of_bed_time: 0 days 00:00:00",
         "type": "scatter",
         "x": [
          "2024-05-09"
         ],
         "y": [
          "P0DT0H0M0S"
         ]
        },
        {
         "marker": {
          "color": "Blue",
          "size": 7
         },
         "mode": "markers",
         "name": "out_of_bed_time (2024-05-10)",
         "text": "out_of_bed_time: 0 days 00:00:00",
         "type": "scatter",
         "x": [
          "2024-05-10"
         ],
         "y": [
          "P0DT0H0M0S"
         ]
        },
        {
         "marker": {
          "color": "Blue",
          "size": 7
         },
         "mode": "markers",
         "name": "out_of_bed_time (2024-05-10)",
         "text": "out_of_bed_time: 0 days 00:00:00",
         "type": "scatter",
         "x": [
          "2024-05-10"
         ],
         "y": [
          "P0DT0H0M0S"
         ]
        },
        {
         "marker": {
          "color": "Blue",
          "size": 7
         },
         "mode": "markers",
         "name": "out_of_bed_time (2024-05-11)",
         "text": "out_of_bed_time: 0 days 00:00:00",
         "type": "scatter",
         "x": [
          "2024-05-11"
         ],
         "y": [
          "P0DT0H0M0S"
         ]
        },
        {
         "marker": {
          "color": "Blue",
          "size": 7
         },
         "mode": "markers",
         "name": "out_of_bed_time (2024-05-11)",
         "text": "out_of_bed_time: 0 days 00:00:00",
         "type": "scatter",
         "x": [
          "2024-05-11"
         ],
         "y": [
          "P0DT0H0M0S"
         ]
        },
        {
         "marker": {
          "color": "Blue",
          "size": 7
         },
         "mode": "markers",
         "name": "out_of_bed_time (2024-05-12)",
         "text": "out_of_bed_time: 0 days 00:00:00",
         "type": "scatter",
         "x": [
          "2024-05-12"
         ],
         "y": [
          "P0DT0H0M0S"
         ]
        },
        {
         "marker": {
          "color": "Blue",
          "size": 7
         },
         "mode": "markers",
         "name": "out_of_bed_time (2024-05-12)",
         "text": "out_of_bed_time: 0 days 00:00:00",
         "type": "scatter",
         "x": [
          "2024-05-12"
         ],
         "y": [
          "P0DT0H0M0S"
         ]
        },
        {
         "marker": {
          "color": "Blue",
          "size": 7
         },
         "mode": "markers",
         "name": "out_of_bed_time (2024-05-13)",
         "text": "out_of_bed_time: 0 days 00:00:00",
         "type": "scatter",
         "x": [
          "2024-05-13"
         ],
         "y": [
          "P0DT0H0M0S"
         ]
        },
        {
         "marker": {
          "color": "Blue",
          "size": 7
         },
         "mode": "markers",
         "name": "out_of_bed_time (2024-05-13)",
         "text": "out_of_bed_time: 0 days 00:00:00",
         "type": "scatter",
         "x": [
          "2024-05-13"
         ],
         "y": [
          "P0DT0H0M0S"
         ]
        },
        {
         "marker": {
          "color": "Blue",
          "size": 7
         },
         "mode": "markers",
         "name": "out_of_bed_time (2024-05-14)",
         "text": "out_of_bed_time: 0 days 00:00:00",
         "type": "scatter",
         "x": [
          "2024-05-14"
         ],
         "y": [
          "P0DT0H0M0S"
         ]
        },
        {
         "marker": {
          "color": "Blue",
          "size": 7
         },
         "mode": "markers",
         "name": "out_of_bed_time (2024-05-14)",
         "text": "out_of_bed_time: 0 days 00:00:00",
         "type": "scatter",
         "x": [
          "2024-05-14"
         ],
         "y": [
          "P0DT0H0M0S"
         ]
        },
        {
         "marker": {
          "color": "Blue",
          "size": 7
         },
         "mode": "markers",
         "name": "out_of_bed_time (2024-05-15)",
         "text": "out_of_bed_time: 0 days 00:00:00",
         "type": "scatter",
         "x": [
          "2024-05-15"
         ],
         "y": [
          "P0DT0H0M0S"
         ]
        },
        {
         "marker": {
          "color": "Blue",
          "size": 7
         },
         "mode": "markers",
         "name": "out_of_bed_time (2024-05-15)",
         "text": "out_of_bed_time: 0 days 00:00:00",
         "type": "scatter",
         "x": [
          "2024-05-15"
         ],
         "y": [
          "P0DT0H0M0S"
         ]
        },
        {
         "marker": {
          "color": "Blue",
          "size": 7
         },
         "mode": "markers",
         "name": "out_of_bed_time (2024-05-16)",
         "text": "out_of_bed_time: 0 days 00:00:00",
         "type": "scatter",
         "x": [
          "2024-05-16"
         ],
         "y": [
          "P0DT0H0M0S"
         ]
        },
        {
         "marker": {
          "color": "Blue",
          "size": 7
         },
         "mode": "markers",
         "name": "out_of_bed_time (2024-05-17)",
         "text": "out_of_bed_time: 0 days 00:00:00",
         "type": "scatter",
         "x": [
          "2024-05-17"
         ],
         "y": [
          "P0DT0H0M0S"
         ]
        },
        {
         "marker": {
          "color": "Blue",
          "size": 7
         },
         "mode": "markers",
         "name": "out_of_bed_time (2024-05-17)",
         "text": "out_of_bed_time: 0 days 00:00:00",
         "type": "scatter",
         "x": [
          "2024-05-17"
         ],
         "y": [
          "P0DT0H0M0S"
         ]
        },
        {
         "marker": {
          "color": "Blue",
          "size": 7
         },
         "mode": "markers",
         "name": "out_of_bed_time (2024-05-18)",
         "text": "out_of_bed_time: 0 days 00:00:00",
         "type": "scatter",
         "x": [
          "2024-05-18"
         ],
         "y": [
          "P0DT0H0M0S"
         ]
        },
        {
         "marker": {
          "color": "Blue",
          "size": 7
         },
         "mode": "markers",
         "name": "out_of_bed_time (2024-05-18)",
         "text": "out_of_bed_time: 0 days 00:00:00",
         "type": "scatter",
         "x": [
          "2024-05-18"
         ],
         "y": [
          "P0DT0H0M0S"
         ]
        },
        {
         "marker": {
          "color": "Blue",
          "size": 7
         },
         "mode": "markers",
         "name": "out_of_bed_time (2024-05-19)",
         "text": "out_of_bed_time: 0 days 00:34:00",
         "type": "scatter",
         "x": [
          "2024-05-19"
         ],
         "y": [
          "P0DT0H34M0S"
         ]
        },
        {
         "marker": {
          "color": "Blue",
          "size": 7
         },
         "mode": "markers",
         "name": "out_of_bed_time (2024-05-19)",
         "text": "out_of_bed_time: 0 days 00:06:00",
         "type": "scatter",
         "x": [
          "2024-05-19"
         ],
         "y": [
          "P0DT0H6M0S"
         ]
        },
        {
         "marker": {
          "color": "Blue",
          "size": 7
         },
         "mode": "markers",
         "name": "out_of_bed_time (2024-05-20)",
         "text": "out_of_bed_time: 0 days 00:00:00",
         "type": "scatter",
         "x": [
          "2024-05-20"
         ],
         "y": [
          "P0DT0H0M0S"
         ]
        },
        {
         "marker": {
          "color": "Blue",
          "size": 7
         },
         "mode": "markers",
         "name": "out_of_bed_time (2024-05-20)",
         "text": "out_of_bed_time: 0 days 00:00:00",
         "type": "scatter",
         "x": [
          "2024-05-20"
         ],
         "y": [
          "P0DT0H0M0S"
         ]
        },
        {
         "marker": {
          "color": "Blue",
          "size": 7
         },
         "mode": "markers",
         "name": "out_of_bed_time (2024-05-21)",
         "text": "out_of_bed_time: 0 days 00:00:00",
         "type": "scatter",
         "x": [
          "2024-05-21"
         ],
         "y": [
          "P0DT0H0M0S"
         ]
        },
        {
         "marker": {
          "color": "Blue",
          "size": 7
         },
         "mode": "markers",
         "name": "out_of_bed_time (2024-05-22)",
         "text": "out_of_bed_time: 0 days 00:00:00",
         "type": "scatter",
         "x": [
          "2024-05-22"
         ],
         "y": [
          "P0DT0H0M0S"
         ]
        },
        {
         "marker": {
          "color": "Blue",
          "size": 7
         },
         "mode": "markers",
         "name": "out_of_bed_time (2024-05-22)",
         "text": "out_of_bed_time: 0 days 00:00:00",
         "type": "scatter",
         "x": [
          "2024-05-22"
         ],
         "y": [
          "P0DT0H0M0S"
         ]
        },
        {
         "marker": {
          "color": "Blue",
          "size": 7
         },
         "mode": "markers",
         "name": "out_of_bed_time (2024-05-23)",
         "text": "out_of_bed_time: 0 days 00:35:00",
         "type": "scatter",
         "x": [
          "2024-05-23"
         ],
         "y": [
          "P0DT0H35M0S"
         ]
        },
        {
         "marker": {
          "color": "Blue",
          "size": 7
         },
         "mode": "markers",
         "name": "out_of_bed_time (2024-05-24)",
         "text": "out_of_bed_time: 0 days 00:38:00",
         "type": "scatter",
         "x": [
          "2024-05-24"
         ],
         "y": [
          "P0DT0H38M0S"
         ]
        },
        {
         "marker": {
          "color": "Blue",
          "size": 7
         },
         "mode": "markers",
         "name": "out_of_bed_time (2024-05-24)",
         "text": "out_of_bed_time: 0 days 00:00:00",
         "type": "scatter",
         "x": [
          "2024-05-24"
         ],
         "y": [
          "P0DT0H0M0S"
         ]
        },
        {
         "marker": {
          "color": "Blue",
          "size": 7
         },
         "mode": "markers",
         "name": "out_of_bed_time (2024-05-24)",
         "text": "out_of_bed_time: 0 days 00:00:00",
         "type": "scatter",
         "x": [
          "2024-05-24"
         ],
         "y": [
          "P0DT0H0M0S"
         ]
        },
        {
         "marker": {
          "color": "Blue",
          "size": 7
         },
         "mode": "markers",
         "name": "out_of_bed_time (2024-05-25)",
         "text": "out_of_bed_time: 0 days 00:08:00",
         "type": "scatter",
         "x": [
          "2024-05-25"
         ],
         "y": [
          "P0DT0H8M0S"
         ]
        },
        {
         "marker": {
          "color": "Blue",
          "size": 7
         },
         "mode": "markers",
         "name": "out_of_bed_time (2024-05-25)",
         "text": "out_of_bed_time: 0 days 00:00:00",
         "type": "scatter",
         "x": [
          "2024-05-25"
         ],
         "y": [
          "P0DT0H0M0S"
         ]
        },
        {
         "marker": {
          "color": "Blue",
          "size": 7
         },
         "mode": "markers",
         "name": "out_of_bed_time (2024-05-26)",
         "text": "out_of_bed_time: 0 days 00:00:00",
         "type": "scatter",
         "x": [
          "2024-05-26"
         ],
         "y": [
          "P0DT0H0M0S"
         ]
        },
        {
         "marker": {
          "color": "Blue",
          "size": 7
         },
         "mode": "markers",
         "name": "out_of_bed_time (2024-05-26)",
         "text": "out_of_bed_time: 0 days 00:00:00",
         "type": "scatter",
         "x": [
          "2024-05-26"
         ],
         "y": [
          "P0DT0H0M0S"
         ]
        },
        {
         "marker": {
          "color": "Blue",
          "size": 7
         },
         "mode": "markers",
         "name": "out_of_bed_time (2024-05-27)",
         "text": "out_of_bed_time: 0 days 00:00:00",
         "type": "scatter",
         "x": [
          "2024-05-27"
         ],
         "y": [
          "P0DT0H0M0S"
         ]
        },
        {
         "marker": {
          "color": "Blue",
          "size": 7
         },
         "mode": "markers",
         "name": "out_of_bed_time (2024-05-27)",
         "text": "out_of_bed_time: 0 days 00:00:00",
         "type": "scatter",
         "x": [
          "2024-05-27"
         ],
         "y": [
          "P0DT0H0M0S"
         ]
        },
        {
         "marker": {
          "color": "Blue",
          "size": 7
         },
         "mode": "markers",
         "name": "out_of_bed_time (2024-05-28)",
         "text": "out_of_bed_time: 0 days 01:02:00",
         "type": "scatter",
         "x": [
          "2024-05-28"
         ],
         "y": [
          "P0DT1H2M0S"
         ]
        },
        {
         "marker": {
          "color": "Blue",
          "size": 7
         },
         "mode": "markers",
         "name": "out_of_bed_time (2024-05-28)",
         "text": "out_of_bed_time: 0 days 00:00:00",
         "type": "scatter",
         "x": [
          "2024-05-28"
         ],
         "y": [
          "P0DT0H0M0S"
         ]
        },
        {
         "marker": {
          "color": "Blue",
          "size": 7
         },
         "mode": "markers",
         "name": "out_of_bed_time (2024-05-29)",
         "text": "out_of_bed_time: 0 days 00:22:00",
         "type": "scatter",
         "x": [
          "2024-05-29"
         ],
         "y": [
          "P0DT0H22M0S"
         ]
        },
        {
         "marker": {
          "color": "Blue",
          "size": 7
         },
         "mode": "markers",
         "name": "out_of_bed_time (2024-05-29)",
         "text": "out_of_bed_time: 0 days 00:00:00",
         "type": "scatter",
         "x": [
          "2024-05-29"
         ],
         "y": [
          "P0DT0H0M0S"
         ]
        },
        {
         "marker": {
          "color": "Blue",
          "size": 7
         },
         "mode": "markers",
         "name": "out_of_bed_time (2024-05-30)",
         "text": "out_of_bed_time: 0 days 00:00:00",
         "type": "scatter",
         "x": [
          "2024-05-30"
         ],
         "y": [
          "P0DT0H0M0S"
         ]
        },
        {
         "marker": {
          "color": "Blue",
          "size": 7
         },
         "mode": "markers",
         "name": "out_of_bed_time (2024-05-30)",
         "text": "out_of_bed_time: 0 days 00:00:00",
         "type": "scatter",
         "x": [
          "2024-05-30"
         ],
         "y": [
          "P0DT0H0M0S"
         ]
        },
        {
         "marker": {
          "color": "Blue",
          "size": 7
         },
         "mode": "markers",
         "name": "out_of_bed_time (2024-05-31)",
         "text": "out_of_bed_time: 0 days 00:48:00",
         "type": "scatter",
         "x": [
          "2024-05-31"
         ],
         "y": [
          "P0DT0H48M0S"
         ]
        },
        {
         "marker": {
          "color": "Blue",
          "size": 7
         },
         "mode": "markers",
         "name": "out_of_bed_time (2024-05-31)",
         "text": "out_of_bed_time: 0 days 00:00:00",
         "type": "scatter",
         "x": [
          "2024-05-31"
         ],
         "y": [
          "P0DT0H0M0S"
         ]
        },
        {
         "marker": {
          "color": "Blue",
          "size": 7
         },
         "mode": "markers",
         "name": "out_of_bed_time (2024-06-01)",
         "text": "out_of_bed_time: 0 days 00:13:00",
         "type": "scatter",
         "x": [
          "2024-06-01"
         ],
         "y": [
          "P0DT0H13M0S"
         ]
        },
        {
         "marker": {
          "color": "Blue",
          "size": 7
         },
         "mode": "markers",
         "name": "out_of_bed_time (2024-06-02)",
         "text": "out_of_bed_time: 0 days 01:12:00",
         "type": "scatter",
         "x": [
          "2024-06-02"
         ],
         "y": [
          "P0DT1H12M0S"
         ]
        },
        {
         "marker": {
          "color": "Blue",
          "size": 7
         },
         "mode": "markers",
         "name": "out_of_bed_time (2024-06-03)",
         "text": "out_of_bed_time: 0 days 00:57:00",
         "type": "scatter",
         "x": [
          "2024-06-03"
         ],
         "y": [
          "P0DT0H57M0S"
         ]
        },
        {
         "marker": {
          "color": "Blue",
          "size": 7
         },
         "mode": "markers",
         "name": "out_of_bed_time (2024-06-04)",
         "text": "out_of_bed_time: 0 days 00:00:00",
         "type": "scatter",
         "x": [
          "2024-06-04"
         ],
         "y": [
          "P0DT0H0M0S"
         ]
        },
        {
         "marker": {
          "color": "Blue",
          "size": 7
         },
         "mode": "markers",
         "name": "out_of_bed_time (2024-06-04)",
         "text": "out_of_bed_time: 0 days 00:00:00",
         "type": "scatter",
         "x": [
          "2024-06-04"
         ],
         "y": [
          "P0DT0H0M0S"
         ]
        },
        {
         "marker": {
          "color": "Blue",
          "size": 7
         },
         "mode": "markers",
         "name": "out_of_bed_time (2024-06-05)",
         "text": "out_of_bed_time: 0 days 00:00:00",
         "type": "scatter",
         "x": [
          "2024-06-05"
         ],
         "y": [
          "P0DT0H0M0S"
         ]
        },
        {
         "marker": {
          "color": "Blue",
          "size": 7
         },
         "mode": "markers",
         "name": "out_of_bed_time (2024-06-06)",
         "text": "out_of_bed_time: 0 days 00:10:00",
         "type": "scatter",
         "x": [
          "2024-06-06"
         ],
         "y": [
          "P0DT0H10M0S"
         ]
        },
        {
         "marker": {
          "color": "Blue",
          "size": 7
         },
         "mode": "markers",
         "name": "out_of_bed_time (2024-06-07)",
         "text": "out_of_bed_time: 0 days 00:57:00",
         "type": "scatter",
         "x": [
          "2024-06-07"
         ],
         "y": [
          "P0DT0H57M0S"
         ]
        },
        {
         "marker": {
          "color": "Blue",
          "size": 7
         },
         "mode": "markers",
         "name": "out_of_bed_time (2024-06-07)",
         "text": "out_of_bed_time: 0 days 00:00:00",
         "type": "scatter",
         "x": [
          "2024-06-07"
         ],
         "y": [
          "P0DT0H0M0S"
         ]
        },
        {
         "marker": {
          "color": "Blue",
          "size": 7
         },
         "mode": "markers",
         "name": "out_of_bed_time (2024-06-08)",
         "text": "out_of_bed_time: 0 days 00:00:00",
         "type": "scatter",
         "x": [
          "2024-06-08"
         ],
         "y": [
          "P0DT0H0M0S"
         ]
        },
        {
         "marker": {
          "color": "Blue",
          "size": 7
         },
         "mode": "markers",
         "name": "out_of_bed_time (2024-06-08)",
         "text": "out_of_bed_time: 0 days 00:00:00",
         "type": "scatter",
         "x": [
          "2024-06-08"
         ],
         "y": [
          "P0DT0H0M0S"
         ]
        },
        {
         "marker": {
          "color": "Blue",
          "size": 7
         },
         "mode": "markers",
         "name": "out_of_bed_time (2024-06-09)",
         "text": "out_of_bed_time: 0 days 00:19:00",
         "type": "scatter",
         "x": [
          "2024-06-09"
         ],
         "y": [
          "P0DT0H19M0S"
         ]
        },
        {
         "marker": {
          "color": "Blue",
          "size": 7
         },
         "mode": "markers",
         "name": "out_of_bed_time (2024-06-10)",
         "text": "out_of_bed_time: 0 days 00:00:00",
         "type": "scatter",
         "x": [
          "2024-06-10"
         ],
         "y": [
          "P0DT0H0M0S"
         ]
        },
        {
         "marker": {
          "color": "Blue",
          "size": 7
         },
         "mode": "markers",
         "name": "out_of_bed_time (2024-06-11)",
         "text": "out_of_bed_time: 0 days 00:00:00",
         "type": "scatter",
         "x": [
          "2024-06-11"
         ],
         "y": [
          "P0DT0H0M0S"
         ]
        },
        {
         "marker": {
          "color": "Blue",
          "size": 7
         },
         "mode": "markers",
         "name": "out_of_bed_time (2024-06-12)",
         "text": "out_of_bed_time: 0 days 00:00:00",
         "type": "scatter",
         "x": [
          "2024-06-12"
         ],
         "y": [
          "P0DT0H0M0S"
         ]
        },
        {
         "marker": {
          "color": "Blue",
          "size": 7
         },
         "mode": "markers",
         "name": "out_of_bed_time (2024-06-13)",
         "text": "out_of_bed_time: 0 days 00:00:00",
         "type": "scatter",
         "x": [
          "2024-06-13"
         ],
         "y": [
          "P0DT0H0M0S"
         ]
        },
        {
         "marker": {
          "color": "Blue",
          "size": 7
         },
         "mode": "markers",
         "name": "out_of_bed_time (2024-06-13)",
         "text": "out_of_bed_time: 0 days 00:00:00",
         "type": "scatter",
         "x": [
          "2024-06-13"
         ],
         "y": [
          "P0DT0H0M0S"
         ]
        },
        {
         "marker": {
          "color": "Blue",
          "size": 7
         },
         "mode": "markers",
         "name": "out_of_bed_time (2024-06-14)",
         "text": "out_of_bed_time: 0 days 00:00:00",
         "type": "scatter",
         "x": [
          "2024-06-14"
         ],
         "y": [
          "P0DT0H0M0S"
         ]
        },
        {
         "marker": {
          "color": "Blue",
          "size": 7
         },
         "mode": "markers",
         "name": "out_of_bed_time (2024-06-14)",
         "text": "out_of_bed_time: 0 days 00:00:00",
         "type": "scatter",
         "x": [
          "2024-06-14"
         ],
         "y": [
          "P0DT0H0M0S"
         ]
        },
        {
         "marker": {
          "color": "Blue",
          "size": 7
         },
         "mode": "markers",
         "name": "out_of_bed_time (2024-06-15)",
         "text": "out_of_bed_time: 0 days 00:23:00",
         "type": "scatter",
         "x": [
          "2024-06-15"
         ],
         "y": [
          "P0DT0H23M0S"
         ]
        },
        {
         "marker": {
          "color": "Blue",
          "size": 7
         },
         "mode": "markers",
         "name": "out_of_bed_time (2024-06-15)",
         "text": "out_of_bed_time: 0 days 00:00:00",
         "type": "scatter",
         "x": [
          "2024-06-15"
         ],
         "y": [
          "P0DT0H0M0S"
         ]
        },
        {
         "marker": {
          "color": "Blue",
          "size": 7
         },
         "mode": "markers",
         "name": "out_of_bed_time (2024-06-16)",
         "text": "out_of_bed_time: 0 days 00:00:00",
         "type": "scatter",
         "x": [
          "2024-06-16"
         ],
         "y": [
          "P0DT0H0M0S"
         ]
        },
        {
         "marker": {
          "color": "Blue",
          "size": 7
         },
         "mode": "markers",
         "name": "out_of_bed_time (2024-06-17)",
         "text": "out_of_bed_time: 0 days 00:00:00",
         "type": "scatter",
         "x": [
          "2024-06-17"
         ],
         "y": [
          "P0DT0H0M0S"
         ]
        },
        {
         "marker": {
          "color": "Blue",
          "size": 7
         },
         "mode": "markers",
         "name": "out_of_bed_time (2024-06-18)",
         "text": "out_of_bed_time: 0 days 00:00:00",
         "type": "scatter",
         "x": [
          "2024-06-18"
         ],
         "y": [
          "P0DT0H0M0S"
         ]
        },
        {
         "marker": {
          "color": "Blue",
          "size": 7
         },
         "mode": "markers",
         "name": "out_of_bed_time (2024-06-18)",
         "text": "out_of_bed_time: 0 days 00:00:00",
         "type": "scatter",
         "x": [
          "2024-06-18"
         ],
         "y": [
          "P0DT0H0M0S"
         ]
        },
        {
         "marker": {
          "color": "Blue",
          "size": 7
         },
         "mode": "markers",
         "name": "out_of_bed_time (2024-06-19)",
         "text": "out_of_bed_time: 0 days 00:00:00",
         "type": "scatter",
         "x": [
          "2024-06-19"
         ],
         "y": [
          "P0DT0H0M0S"
         ]
        },
        {
         "marker": {
          "color": "Blue",
          "size": 7
         },
         "mode": "markers",
         "name": "out_of_bed_time (2024-06-19)",
         "text": "out_of_bed_time: 0 days 00:00:00",
         "type": "scatter",
         "x": [
          "2024-06-19"
         ],
         "y": [
          "P0DT0H0M0S"
         ]
        },
        {
         "marker": {
          "color": "Blue",
          "size": 7
         },
         "mode": "markers",
         "name": "out_of_bed_time (2024-06-20)",
         "text": "out_of_bed_time: 0 days 00:09:00",
         "type": "scatter",
         "x": [
          "2024-06-20"
         ],
         "y": [
          "P0DT0H9M0S"
         ]
        },
        {
         "marker": {
          "color": "Blue",
          "size": 7
         },
         "mode": "markers",
         "name": "out_of_bed_time (2024-06-20)",
         "text": "out_of_bed_time: 0 days 00:00:00",
         "type": "scatter",
         "x": [
          "2024-06-20"
         ],
         "y": [
          "P0DT0H0M0S"
         ]
        },
        {
         "marker": {
          "color": "Blue",
          "size": 7
         },
         "mode": "markers",
         "name": "out_of_bed_time (2024-06-21)",
         "text": "out_of_bed_time: 0 days 00:00:00",
         "type": "scatter",
         "x": [
          "2024-06-21"
         ],
         "y": [
          "P0DT0H0M0S"
         ]
        },
        {
         "marker": {
          "color": "Blue",
          "size": 7
         },
         "mode": "markers",
         "name": "out_of_bed_time (2024-06-21)",
         "text": "out_of_bed_time: 0 days 00:00:00",
         "type": "scatter",
         "x": [
          "2024-06-21"
         ],
         "y": [
          "P0DT0H0M0S"
         ]
        },
        {
         "marker": {
          "color": "Blue",
          "size": 7
         },
         "mode": "markers",
         "name": "out_of_bed_time (2024-06-22)",
         "text": "out_of_bed_time: 0 days 00:00:00",
         "type": "scatter",
         "x": [
          "2024-06-22"
         ],
         "y": [
          "P0DT0H0M0S"
         ]
        },
        {
         "marker": {
          "color": "Blue",
          "size": 7
         },
         "mode": "markers",
         "name": "out_of_bed_time (2024-06-22)",
         "text": "out_of_bed_time: 0 days 00:00:00",
         "type": "scatter",
         "x": [
          "2024-06-22"
         ],
         "y": [
          "P0DT0H0M0S"
         ]
        },
        {
         "marker": {
          "color": "Blue",
          "size": 7
         },
         "mode": "markers",
         "name": "out_of_bed_time (2024-06-23)",
         "text": "out_of_bed_time: 0 days 00:07:00",
         "type": "scatter",
         "x": [
          "2024-06-23"
         ],
         "y": [
          "P0DT0H7M0S"
         ]
        },
        {
         "marker": {
          "color": "Blue",
          "size": 7
         },
         "mode": "markers",
         "name": "out_of_bed_time (2024-06-23)",
         "text": "out_of_bed_time: 0 days 00:00:00",
         "type": "scatter",
         "x": [
          "2024-06-23"
         ],
         "y": [
          "P0DT0H0M0S"
         ]
        },
        {
         "marker": {
          "color": "Blue",
          "size": 7
         },
         "mode": "markers",
         "name": "out_of_bed_time (2024-06-23)",
         "text": "out_of_bed_time: 0 days 00:00:00",
         "type": "scatter",
         "x": [
          "2024-06-23"
         ],
         "y": [
          "P0DT0H0M0S"
         ]
        },
        {
         "marker": {
          "color": "Blue",
          "size": 7
         },
         "mode": "markers",
         "name": "out_of_bed_time (2024-06-24)",
         "text": "out_of_bed_time: 0 days 00:00:00",
         "type": "scatter",
         "x": [
          "2024-06-24"
         ],
         "y": [
          "P0DT0H0M0S"
         ]
        },
        {
         "marker": {
          "color": "Blue",
          "size": 7
         },
         "mode": "markers",
         "name": "out_of_bed_time (2024-06-24)",
         "text": "out_of_bed_time: 0 days 00:00:00",
         "type": "scatter",
         "x": [
          "2024-06-24"
         ],
         "y": [
          "P0DT0H0M0S"
         ]
        },
        {
         "marker": {
          "color": "Blue",
          "size": 7
         },
         "mode": "markers",
         "name": "out_of_bed_time (2024-06-25)",
         "text": "out_of_bed_time: 0 days 00:08:00",
         "type": "scatter",
         "x": [
          "2024-06-25"
         ],
         "y": [
          "P0DT0H8M0S"
         ]
        },
        {
         "marker": {
          "color": "Blue",
          "size": 7
         },
         "mode": "markers",
         "name": "out_of_bed_time (2024-06-26)",
         "text": "out_of_bed_time: 0 days 00:15:00",
         "type": "scatter",
         "x": [
          "2024-06-26"
         ],
         "y": [
          "P0DT0H15M0S"
         ]
        },
        {
         "marker": {
          "color": "Blue",
          "size": 7
         },
         "mode": "markers",
         "name": "out_of_bed_time (2024-06-26)",
         "text": "out_of_bed_time: 0 days 00:00:00",
         "type": "scatter",
         "x": [
          "2024-06-26"
         ],
         "y": [
          "P0DT0H0M0S"
         ]
        },
        {
         "marker": {
          "color": "Blue",
          "size": 7
         },
         "mode": "markers",
         "name": "out_of_bed_time (2024-06-27)",
         "text": "out_of_bed_time: 0 days 00:07:00",
         "type": "scatter",
         "x": [
          "2024-06-27"
         ],
         "y": [
          "P0DT0H7M0S"
         ]
        },
        {
         "marker": {
          "color": "Blue",
          "size": 7
         },
         "mode": "markers",
         "name": "out_of_bed_time (2024-06-27)",
         "text": "out_of_bed_time: 0 days 00:00:00",
         "type": "scatter",
         "x": [
          "2024-06-27"
         ],
         "y": [
          "P0DT0H0M0S"
         ]
        },
        {
         "marker": {
          "color": "Blue",
          "size": 7
         },
         "mode": "markers",
         "name": "out_of_bed_time (2024-06-28)",
         "text": "out_of_bed_time: 0 days 00:00:00",
         "type": "scatter",
         "x": [
          "2024-06-28"
         ],
         "y": [
          "P0DT0H0M0S"
         ]
        },
        {
         "marker": {
          "color": "Blue",
          "size": 7
         },
         "mode": "markers",
         "name": "out_of_bed_time (2024-06-28)",
         "text": "out_of_bed_time: 0 days 00:00:00",
         "type": "scatter",
         "x": [
          "2024-06-28"
         ],
         "y": [
          "P0DT0H0M0S"
         ]
        },
        {
         "marker": {
          "color": "Blue",
          "size": 7
         },
         "mode": "markers",
         "name": "out_of_bed_time (2024-06-29)",
         "text": "out_of_bed_time: 0 days 00:00:00",
         "type": "scatter",
         "x": [
          "2024-06-29"
         ],
         "y": [
          "P0DT0H0M0S"
         ]
        },
        {
         "marker": {
          "color": "Blue",
          "size": 7
         },
         "mode": "markers",
         "name": "out_of_bed_time (2024-06-29)",
         "text": "out_of_bed_time: 0 days 00:00:00",
         "type": "scatter",
         "x": [
          "2024-06-29"
         ],
         "y": [
          "P0DT0H0M0S"
         ]
        },
        {
         "marker": {
          "color": "Blue",
          "size": 7
         },
         "mode": "markers",
         "name": "out_of_bed_time (2024-06-30)",
         "text": "out_of_bed_time: 0 days 00:07:00",
         "type": "scatter",
         "x": [
          "2024-06-30"
         ],
         "y": [
          "P0DT0H7M0S"
         ]
        },
        {
         "marker": {
          "color": "Blue",
          "size": 7
         },
         "mode": "markers",
         "name": "out_of_bed_time (2024-06-30)",
         "text": "out_of_bed_time: 0 days 00:00:00",
         "type": "scatter",
         "x": [
          "2024-06-30"
         ],
         "y": [
          "P0DT0H0M0S"
         ]
        },
        {
         "marker": {
          "color": "Blue",
          "size": 7
         },
         "mode": "markers",
         "name": "out_of_bed_time (2024-07-01)",
         "text": "out_of_bed_time: 0 days 00:49:00",
         "type": "scatter",
         "x": [
          "2024-07-01"
         ],
         "y": [
          "P0DT0H49M0S"
         ]
        },
        {
         "marker": {
          "color": "Blue",
          "size": 7
         },
         "mode": "markers",
         "name": "out_of_bed_time (2024-07-01)",
         "text": "out_of_bed_time: 0 days 00:00:00",
         "type": "scatter",
         "x": [
          "2024-07-01"
         ],
         "y": [
          "P0DT0H0M0S"
         ]
        },
        {
         "marker": {
          "color": "Blue",
          "size": 7
         },
         "mode": "markers",
         "name": "out_of_bed_time (2024-07-02)",
         "text": "out_of_bed_time: 0 days 00:00:00",
         "type": "scatter",
         "x": [
          "2024-07-02"
         ],
         "y": [
          "P0DT0H0M0S"
         ]
        },
        {
         "marker": {
          "color": "Blue",
          "size": 7
         },
         "mode": "markers",
         "name": "out_of_bed_time (2024-07-02)",
         "text": "out_of_bed_time: 0 days 00:00:00",
         "type": "scatter",
         "x": [
          "2024-07-02"
         ],
         "y": [
          "P0DT0H0M0S"
         ]
        },
        {
         "marker": {
          "color": "Blue",
          "size": 7
         },
         "mode": "markers",
         "name": "out_of_bed_time (2024-07-03)",
         "text": "out_of_bed_time: 0 days 00:00:00",
         "type": "scatter",
         "x": [
          "2024-07-03"
         ],
         "y": [
          "P0DT0H0M0S"
         ]
        },
        {
         "marker": {
          "color": "Blue",
          "size": 7
         },
         "mode": "markers",
         "name": "out_of_bed_time (2024-07-06)",
         "text": "out_of_bed_time: 0 days 00:06:00",
         "type": "scatter",
         "x": [
          "2024-07-06"
         ],
         "y": [
          "P0DT0H6M0S"
         ]
        },
        {
         "marker": {
          "color": "Blue",
          "size": 7
         },
         "mode": "markers",
         "name": "out_of_bed_time (2024-07-06)",
         "text": "out_of_bed_time: 0 days 00:00:00",
         "type": "scatter",
         "x": [
          "2024-07-06"
         ],
         "y": [
          "P0DT0H0M0S"
         ]
        },
        {
         "marker": {
          "color": "Blue",
          "size": 7
         },
         "mode": "markers",
         "name": "out_of_bed_time (2024-07-07)",
         "text": "out_of_bed_time: 0 days 00:09:00",
         "type": "scatter",
         "x": [
          "2024-07-07"
         ],
         "y": [
          "P0DT0H9M0S"
         ]
        },
        {
         "marker": {
          "color": "Blue",
          "size": 7
         },
         "mode": "markers",
         "name": "out_of_bed_time (2024-07-07)",
         "text": "out_of_bed_time: 0 days 00:00:00",
         "type": "scatter",
         "x": [
          "2024-07-07"
         ],
         "y": [
          "P0DT0H0M0S"
         ]
        },
        {
         "marker": {
          "color": "Blue",
          "size": 7
         },
         "mode": "markers",
         "name": "out_of_bed_time (2024-07-08)",
         "text": "out_of_bed_time: 0 days 00:00:00",
         "type": "scatter",
         "x": [
          "2024-07-08"
         ],
         "y": [
          "P0DT0H0M0S"
         ]
        },
        {
         "marker": {
          "color": "Blue",
          "size": 7
         },
         "mode": "markers",
         "name": "out_of_bed_time (2024-07-08)",
         "text": "out_of_bed_time: 0 days 00:00:00",
         "type": "scatter",
         "x": [
          "2024-07-08"
         ],
         "y": [
          "P0DT0H0M0S"
         ]
        },
        {
         "marker": {
          "color": "Blue",
          "size": 7
         },
         "mode": "markers",
         "name": "out_of_bed_time (2024-07-09)",
         "text": "out_of_bed_time: 0 days 00:00:00",
         "type": "scatter",
         "x": [
          "2024-07-09"
         ],
         "y": [
          "P0DT0H0M0S"
         ]
        },
        {
         "marker": {
          "color": "Blue",
          "size": 7
         },
         "mode": "markers",
         "name": "out_of_bed_time (2024-07-10)",
         "text": "out_of_bed_time: 0 days 00:00:00",
         "type": "scatter",
         "x": [
          "2024-07-10"
         ],
         "y": [
          "P0DT0H0M0S"
         ]
        },
        {
         "marker": {
          "color": "Blue",
          "size": 7
         },
         "mode": "markers",
         "name": "out_of_bed_time (2024-07-10)",
         "text": "out_of_bed_time: 0 days 00:00:00",
         "type": "scatter",
         "x": [
          "2024-07-10"
         ],
         "y": [
          "P0DT0H0M0S"
         ]
        },
        {
         "marker": {
          "color": "Blue",
          "size": 7
         },
         "mode": "markers",
         "name": "out_of_bed_time (2024-07-11)",
         "text": "out_of_bed_time: 0 days 00:12:00",
         "type": "scatter",
         "x": [
          "2024-07-11"
         ],
         "y": [
          "P0DT0H12M0S"
         ]
        },
        {
         "marker": {
          "color": "Blue",
          "size": 7
         },
         "mode": "markers",
         "name": "out_of_bed_time (2024-07-11)",
         "text": "out_of_bed_time: 0 days 00:00:00",
         "type": "scatter",
         "x": [
          "2024-07-11"
         ],
         "y": [
          "P0DT0H0M0S"
         ]
        },
        {
         "marker": {
          "color": "Blue",
          "size": 7
         },
         "mode": "markers",
         "name": "out_of_bed_time (2024-07-12)",
         "text": "out_of_bed_time: 0 days 00:06:00",
         "type": "scatter",
         "x": [
          "2024-07-12"
         ],
         "y": [
          "P0DT0H6M0S"
         ]
        },
        {
         "marker": {
          "color": "Blue",
          "size": 7
         },
         "mode": "markers",
         "name": "out_of_bed_time (2024-07-12)",
         "text": "out_of_bed_time: 0 days 00:00:00",
         "type": "scatter",
         "x": [
          "2024-07-12"
         ],
         "y": [
          "P0DT0H0M0S"
         ]
        },
        {
         "marker": {
          "color": "Blue",
          "size": 7
         },
         "mode": "markers",
         "name": "out_of_bed_time (2024-07-13)",
         "text": "out_of_bed_time: 0 days 00:00:00",
         "type": "scatter",
         "x": [
          "2024-07-13"
         ],
         "y": [
          "P0DT0H0M0S"
         ]
        },
        {
         "marker": {
          "color": "Blue",
          "size": 7
         },
         "mode": "markers",
         "name": "out_of_bed_time (2024-07-13)",
         "text": "out_of_bed_time: 0 days 00:00:00",
         "type": "scatter",
         "x": [
          "2024-07-13"
         ],
         "y": [
          "P0DT0H0M0S"
         ]
        },
        {
         "marker": {
          "color": "Blue",
          "size": 7
         },
         "mode": "markers",
         "name": "out_of_bed_time (2024-07-14)",
         "text": "out_of_bed_time: 0 days 00:00:00",
         "type": "scatter",
         "x": [
          "2024-07-14"
         ],
         "y": [
          "P0DT0H0M0S"
         ]
        },
        {
         "marker": {
          "color": "Blue",
          "size": 7
         },
         "mode": "markers",
         "name": "out_of_bed_time (2024-07-14)",
         "text": "out_of_bed_time: 0 days 00:00:00",
         "type": "scatter",
         "x": [
          "2024-07-14"
         ],
         "y": [
          "P0DT0H0M0S"
         ]
        },
        {
         "marker": {
          "color": "Blue",
          "size": 7
         },
         "mode": "markers",
         "name": "out_of_bed_time (2024-07-17)",
         "text": "out_of_bed_time: 0 days 00:00:00",
         "type": "scatter",
         "x": [
          "2024-07-17"
         ],
         "y": [
          "P0DT0H0M0S"
         ]
        },
        {
         "marker": {
          "color": "Blue",
          "size": 7
         },
         "mode": "markers",
         "name": "out_of_bed_time (2024-07-19)",
         "text": "out_of_bed_time: 0 days 00:00:00",
         "type": "scatter",
         "x": [
          "2024-07-19"
         ],
         "y": [
          "P0DT0H0M0S"
         ]
        },
        {
         "marker": {
          "color": "Blue",
          "size": 7
         },
         "mode": "markers",
         "name": "out_of_bed_time (2024-07-20)",
         "text": "out_of_bed_time: 0 days 00:22:00",
         "type": "scatter",
         "x": [
          "2024-07-20"
         ],
         "y": [
          "P0DT0H22M0S"
         ]
        },
        {
         "marker": {
          "color": "Blue",
          "size": 7
         },
         "mode": "markers",
         "name": "out_of_bed_time (2024-07-21)",
         "text": "out_of_bed_time: 0 days 00:00:00",
         "type": "scatter",
         "x": [
          "2024-07-21"
         ],
         "y": [
          "P0DT0H0M0S"
         ]
        },
        {
         "marker": {
          "color": "Blue",
          "size": 7
         },
         "mode": "markers",
         "name": "out_of_bed_time (2024-07-22)",
         "text": "out_of_bed_time: 0 days 00:23:00",
         "type": "scatter",
         "x": [
          "2024-07-22"
         ],
         "y": [
          "P0DT0H23M0S"
         ]
        },
        {
         "marker": {
          "color": "Blue",
          "size": 7
         },
         "mode": "markers",
         "name": "out_of_bed_time (2024-07-23)",
         "text": "out_of_bed_time: 0 days 00:15:00",
         "type": "scatter",
         "x": [
          "2024-07-23"
         ],
         "y": [
          "P0DT0H15M0S"
         ]
        },
        {
         "marker": {
          "color": "Blue",
          "size": 7
         },
         "mode": "markers",
         "name": "out_of_bed_time (2024-07-23)",
         "text": "out_of_bed_time: 0 days 00:00:00",
         "type": "scatter",
         "x": [
          "2024-07-23"
         ],
         "y": [
          "P0DT0H0M0S"
         ]
        },
        {
         "marker": {
          "color": "Blue",
          "size": 7
         },
         "mode": "markers",
         "name": "out_of_bed_time (2024-07-24)",
         "text": "out_of_bed_time: 0 days 00:42:00",
         "type": "scatter",
         "x": [
          "2024-07-24"
         ],
         "y": [
          "P0DT0H42M0S"
         ]
        },
        {
         "marker": {
          "color": "Blue",
          "size": 7
         },
         "mode": "markers",
         "name": "out_of_bed_time (2024-07-24)",
         "text": "out_of_bed_time: 0 days 00:00:00",
         "type": "scatter",
         "x": [
          "2024-07-24"
         ],
         "y": [
          "P0DT0H0M0S"
         ]
        },
        {
         "marker": {
          "color": "Blue",
          "size": 7
         },
         "mode": "markers",
         "name": "out_of_bed_time (2024-07-25)",
         "text": "out_of_bed_time: 0 days 00:06:00",
         "type": "scatter",
         "x": [
          "2024-07-25"
         ],
         "y": [
          "P0DT0H6M0S"
         ]
        },
        {
         "marker": {
          "color": "Blue",
          "size": 7
         },
         "mode": "markers",
         "name": "out_of_bed_time (2024-07-25)",
         "text": "out_of_bed_time: 0 days 00:00:00",
         "type": "scatter",
         "x": [
          "2024-07-25"
         ],
         "y": [
          "P0DT0H0M0S"
         ]
        },
        {
         "marker": {
          "color": "Blue",
          "size": 7
         },
         "mode": "markers",
         "name": "out_of_bed_time (2024-07-26)",
         "text": "out_of_bed_time: 0 days 00:07:00",
         "type": "scatter",
         "x": [
          "2024-07-26"
         ],
         "y": [
          "P0DT0H7M0S"
         ]
        },
        {
         "marker": {
          "color": "Blue",
          "size": 7
         },
         "mode": "markers",
         "name": "out_of_bed_time (2024-08-11)",
         "text": "out_of_bed_time: 0 days 00:00:00",
         "type": "scatter",
         "x": [
          "2024-08-11"
         ],
         "y": [
          "P0DT0H0M0S"
         ]
        },
        {
         "marker": {
          "color": "Blue",
          "size": 7
         },
         "mode": "markers",
         "name": "out_of_bed_time (2024-08-12)",
         "text": "out_of_bed_time: 0 days 00:23:00",
         "type": "scatter",
         "x": [
          "2024-08-12"
         ],
         "y": [
          "P0DT0H23M0S"
         ]
        },
        {
         "marker": {
          "color": "Blue",
          "size": 7
         },
         "mode": "markers",
         "name": "out_of_bed_time (2024-08-12)",
         "text": "out_of_bed_time: 0 days 00:00:00",
         "type": "scatter",
         "x": [
          "2024-08-12"
         ],
         "y": [
          "P0DT0H0M0S"
         ]
        },
        {
         "marker": {
          "color": "Blue",
          "size": 7
         },
         "mode": "markers",
         "name": "out_of_bed_time (2024-08-13)",
         "text": "out_of_bed_time: 0 days 00:00:00",
         "type": "scatter",
         "x": [
          "2024-08-13"
         ],
         "y": [
          "P0DT0H0M0S"
         ]
        },
        {
         "marker": {
          "color": "Blue",
          "size": 7
         },
         "mode": "markers",
         "name": "out_of_bed_time (2024-08-13)",
         "text": "out_of_bed_time: 0 days 00:00:00",
         "type": "scatter",
         "x": [
          "2024-08-13"
         ],
         "y": [
          "P0DT0H0M0S"
         ]
        },
        {
         "marker": {
          "color": "Blue",
          "size": 7
         },
         "mode": "markers",
         "name": "out_of_bed_time (2024-08-14)",
         "text": "out_of_bed_time: 0 days 00:08:00",
         "type": "scatter",
         "x": [
          "2024-08-14"
         ],
         "y": [
          "P0DT0H8M0S"
         ]
        },
        {
         "marker": {
          "color": "Blue",
          "size": 7
         },
         "mode": "markers",
         "name": "out_of_bed_time (2024-08-14)",
         "text": "out_of_bed_time: 0 days 00:00:00",
         "type": "scatter",
         "x": [
          "2024-08-14"
         ],
         "y": [
          "P0DT0H0M0S"
         ]
        },
        {
         "marker": {
          "color": "Blue",
          "size": 7
         },
         "mode": "markers",
         "name": "out_of_bed_time (2024-08-15)",
         "text": "out_of_bed_time: 0 days 00:44:00",
         "type": "scatter",
         "x": [
          "2024-08-15"
         ],
         "y": [
          "P0DT0H44M0S"
         ]
        },
        {
         "marker": {
          "color": "Blue",
          "size": 7
         },
         "mode": "markers",
         "name": "out_of_bed_time (2024-08-15)",
         "text": "out_of_bed_time: 0 days 00:00:00",
         "type": "scatter",
         "x": [
          "2024-08-15"
         ],
         "y": [
          "P0DT0H0M0S"
         ]
        },
        {
         "marker": {
          "color": "Blue",
          "size": 7
         },
         "mode": "markers",
         "name": "out_of_bed_time (2024-08-16)",
         "text": "out_of_bed_time: 0 days 00:00:00",
         "type": "scatter",
         "x": [
          "2024-08-16"
         ],
         "y": [
          "P0DT0H0M0S"
         ]
        },
        {
         "marker": {
          "color": "Blue",
          "size": 7
         },
         "mode": "markers",
         "name": "out_of_bed_time (2024-08-17)",
         "text": "out_of_bed_time: 0 days 01:12:00",
         "type": "scatter",
         "x": [
          "2024-08-17"
         ],
         "y": [
          "P0DT1H12M0S"
         ]
        },
        {
         "marker": {
          "color": "Blue",
          "size": 7
         },
         "mode": "markers",
         "name": "out_of_bed_time (2024-08-17)",
         "text": "out_of_bed_time: 0 days 00:00:00",
         "type": "scatter",
         "x": [
          "2024-08-17"
         ],
         "y": [
          "P0DT0H0M0S"
         ]
        },
        {
         "marker": {
          "color": "Blue",
          "size": 7
         },
         "mode": "markers",
         "name": "out_of_bed_time (2024-08-18)",
         "text": "out_of_bed_time: 0 days 02:06:00",
         "type": "scatter",
         "x": [
          "2024-08-18"
         ],
         "y": [
          "P0DT2H6M0S"
         ]
        },
        {
         "marker": {
          "color": "Blue",
          "size": 7
         },
         "mode": "markers",
         "name": "out_of_bed_time (2024-08-19)",
         "text": "out_of_bed_time: 0 days 00:45:00",
         "type": "scatter",
         "x": [
          "2024-08-19"
         ],
         "y": [
          "P0DT0H45M0S"
         ]
        },
        {
         "marker": {
          "color": "Blue",
          "size": 7
         },
         "mode": "markers",
         "name": "out_of_bed_time (2024-08-19)",
         "text": "out_of_bed_time: 0 days 00:00:00",
         "type": "scatter",
         "x": [
          "2024-08-19"
         ],
         "y": [
          "P0DT0H0M0S"
         ]
        },
        {
         "marker": {
          "color": "Blue",
          "size": 7
         },
         "mode": "markers",
         "name": "out_of_bed_time (2024-08-20)",
         "text": "out_of_bed_time: 0 days 02:15:00",
         "type": "scatter",
         "x": [
          "2024-08-20"
         ],
         "y": [
          "P0DT2H15M0S"
         ]
        },
        {
         "marker": {
          "color": "Blue",
          "size": 7
         },
         "mode": "markers",
         "name": "out_of_bed_time (2024-08-21)",
         "text": "out_of_bed_time: 0 days 00:00:00",
         "type": "scatter",
         "x": [
          "2024-08-21"
         ],
         "y": [
          "P0DT0H0M0S"
         ]
        },
        {
         "marker": {
          "color": "Blue",
          "size": 7
         },
         "mode": "markers",
         "name": "out_of_bed_time (2024-08-21)",
         "text": "out_of_bed_time: 0 days 00:07:00",
         "type": "scatter",
         "x": [
          "2024-08-21"
         ],
         "y": [
          "P0DT0H7M0S"
         ]
        },
        {
         "marker": {
          "color": "Blue",
          "size": 7
         },
         "mode": "markers",
         "name": "out_of_bed_time (2024-08-22)",
         "text": "out_of_bed_time: 0 days 00:07:00",
         "type": "scatter",
         "x": [
          "2024-08-22"
         ],
         "y": [
          "P0DT0H7M0S"
         ]
        },
        {
         "marker": {
          "color": "Blue",
          "size": 7
         },
         "mode": "markers",
         "name": "out_of_bed_time (2024-08-23)",
         "text": "out_of_bed_time: 0 days 00:07:00",
         "type": "scatter",
         "x": [
          "2024-08-23"
         ],
         "y": [
          "P0DT0H7M0S"
         ]
        },
        {
         "marker": {
          "color": "Blue",
          "size": 7
         },
         "mode": "markers",
         "name": "out_of_bed_time (2024-08-23)",
         "text": "out_of_bed_time: 0 days 00:00:00",
         "type": "scatter",
         "x": [
          "2024-08-23"
         ],
         "y": [
          "P0DT0H0M0S"
         ]
        },
        {
         "marker": {
          "color": "Blue",
          "size": 7
         },
         "mode": "markers",
         "name": "out_of_bed_time (2024-08-24)",
         "text": "out_of_bed_time: 0 days 00:00:00",
         "type": "scatter",
         "x": [
          "2024-08-24"
         ],
         "y": [
          "P0DT0H0M0S"
         ]
        },
        {
         "marker": {
          "color": "Blue",
          "size": 7
         },
         "mode": "markers",
         "name": "out_of_bed_time (2024-08-24)",
         "text": "out_of_bed_time: 0 days 00:00:00",
         "type": "scatter",
         "x": [
          "2024-08-24"
         ],
         "y": [
          "P0DT0H0M0S"
         ]
        },
        {
         "marker": {
          "color": "Blue",
          "size": 7
         },
         "mode": "markers",
         "name": "out_of_bed_time (2024-08-25)",
         "text": "out_of_bed_time: 0 days 00:00:00",
         "type": "scatter",
         "x": [
          "2024-08-25"
         ],
         "y": [
          "P0DT0H0M0S"
         ]
        },
        {
         "marker": {
          "color": "Blue",
          "size": 7
         },
         "mode": "markers",
         "name": "out_of_bed_time (2024-08-25)",
         "text": "out_of_bed_time: 0 days 00:00:00",
         "type": "scatter",
         "x": [
          "2024-08-25"
         ],
         "y": [
          "P0DT0H0M0S"
         ]
        },
        {
         "marker": {
          "color": "Blue",
          "size": 7
         },
         "mode": "markers",
         "name": "out_of_bed_time (2024-08-26)",
         "text": "out_of_bed_time: 0 days 01:35:00",
         "type": "scatter",
         "x": [
          "2024-08-26"
         ],
         "y": [
          "P0DT1H35M0S"
         ]
        },
        {
         "marker": {
          "color": "Blue",
          "size": 7
         },
         "mode": "markers",
         "name": "out_of_bed_time (2024-08-26)",
         "text": "out_of_bed_time: 0 days 00:00:00",
         "type": "scatter",
         "x": [
          "2024-08-26"
         ],
         "y": [
          "P0DT0H0M0S"
         ]
        },
        {
         "marker": {
          "color": "Blue",
          "size": 7
         },
         "mode": "markers",
         "name": "out_of_bed_time (2024-08-27)",
         "text": "out_of_bed_time: 0 days 00:06:00",
         "type": "scatter",
         "x": [
          "2024-08-27"
         ],
         "y": [
          "P0DT0H6M0S"
         ]
        },
        {
         "marker": {
          "color": "Blue",
          "size": 7
         },
         "mode": "markers",
         "name": "out_of_bed_time (2024-08-28)",
         "text": "out_of_bed_time: 0 days 00:06:00",
         "type": "scatter",
         "x": [
          "2024-08-28"
         ],
         "y": [
          "P0DT0H6M0S"
         ]
        },
        {
         "marker": {
          "color": "Blue",
          "size": 7
         },
         "mode": "markers",
         "name": "out_of_bed_time (2024-08-30)",
         "text": "out_of_bed_time: 0 days 00:10:07",
         "type": "scatter",
         "x": [
          "2024-08-30"
         ],
         "y": [
          "P0DT0H10M7S"
         ]
        },
        {
         "marker": {
          "color": "Blue",
          "size": 7
         },
         "mode": "markers",
         "name": "out_of_bed_time (2024-09-02)",
         "text": "out_of_bed_time: 0 days 00:00:00",
         "type": "scatter",
         "x": [
          "2024-09-02"
         ],
         "y": [
          "P0DT0H0M0S"
         ]
        },
        {
         "marker": {
          "color": "Blue",
          "size": 7
         },
         "mode": "markers",
         "name": "out_of_bed_time (2024-09-02)",
         "text": "out_of_bed_time: 0 days 00:00:00",
         "type": "scatter",
         "x": [
          "2024-09-02"
         ],
         "y": [
          "P0DT0H0M0S"
         ]
        },
        {
         "marker": {
          "color": "Blue",
          "size": 7
         },
         "mode": "markers",
         "name": "out_of_bed_time (2024-09-03)",
         "text": "out_of_bed_time: 0 days 00:06:00",
         "type": "scatter",
         "x": [
          "2024-09-03"
         ],
         "y": [
          "P0DT0H6M0S"
         ]
        },
        {
         "marker": {
          "color": "Blue",
          "size": 7
         },
         "mode": "markers",
         "name": "out_of_bed_time (2024-09-03)",
         "text": "out_of_bed_time: 0 days 00:00:00",
         "type": "scatter",
         "x": [
          "2024-09-03"
         ],
         "y": [
          "P0DT0H0M0S"
         ]
        },
        {
         "marker": {
          "color": "Blue",
          "size": 7
         },
         "mode": "markers",
         "name": "out_of_bed_time (2024-09-04)",
         "text": "out_of_bed_time: 0 days 00:00:00",
         "type": "scatter",
         "x": [
          "2024-09-04"
         ],
         "y": [
          "P0DT0H0M0S"
         ]
        },
        {
         "marker": {
          "color": "Blue",
          "size": 7
         },
         "mode": "markers",
         "name": "out_of_bed_time (2024-09-04)",
         "text": "out_of_bed_time: 0 days 00:00:00",
         "type": "scatter",
         "x": [
          "2024-09-04"
         ],
         "y": [
          "P0DT0H0M0S"
         ]
        },
        {
         "marker": {
          "color": "Blue",
          "size": 7
         },
         "mode": "markers",
         "name": "out_of_bed_time (2024-09-05)",
         "text": "out_of_bed_time: 0 days 00:20:00",
         "type": "scatter",
         "x": [
          "2024-09-05"
         ],
         "y": [
          "P0DT0H20M0S"
         ]
        },
        {
         "marker": {
          "color": "Blue",
          "size": 7
         },
         "mode": "markers",
         "name": "out_of_bed_time (2024-09-05)",
         "text": "out_of_bed_time: 0 days 00:08:00",
         "type": "scatter",
         "x": [
          "2024-09-05"
         ],
         "y": [
          "P0DT0H8M0S"
         ]
        },
        {
         "marker": {
          "color": "Blue",
          "size": 7
         },
         "mode": "markers",
         "name": "out_of_bed_time (2024-09-06)",
         "text": "out_of_bed_time: 0 days 00:07:00",
         "type": "scatter",
         "x": [
          "2024-09-06"
         ],
         "y": [
          "P0DT0H7M0S"
         ]
        },
        {
         "marker": {
          "color": "Blue",
          "size": 7
         },
         "mode": "markers",
         "name": "out_of_bed_time (2024-09-06)",
         "text": "out_of_bed_time: 0 days 00:00:00",
         "type": "scatter",
         "x": [
          "2024-09-06"
         ],
         "y": [
          "P0DT0H0M0S"
         ]
        },
        {
         "marker": {
          "color": "Blue",
          "size": 7
         },
         "mode": "markers",
         "name": "out_of_bed_time (2024-09-07)",
         "text": "out_of_bed_time: 0 days 00:09:00",
         "type": "scatter",
         "x": [
          "2024-09-07"
         ],
         "y": [
          "P0DT0H9M0S"
         ]
        },
        {
         "marker": {
          "color": "Blue",
          "size": 7
         },
         "mode": "markers",
         "name": "out_of_bed_time (2024-09-07)",
         "text": "out_of_bed_time: 0 days 00:00:00",
         "type": "scatter",
         "x": [
          "2024-09-07"
         ],
         "y": [
          "P0DT0H0M0S"
         ]
        },
        {
         "marker": {
          "color": "Blue",
          "size": 7
         },
         "mode": "markers",
         "name": "out_of_bed_time (2024-09-08)",
         "text": "out_of_bed_time: 0 days 00:07:00",
         "type": "scatter",
         "x": [
          "2024-09-08"
         ],
         "y": [
          "P0DT0H7M0S"
         ]
        },
        {
         "marker": {
          "color": "Blue",
          "size": 7
         },
         "mode": "markers",
         "name": "out_of_bed_time (2024-09-08)",
         "text": "out_of_bed_time: 0 days 00:00:00",
         "type": "scatter",
         "x": [
          "2024-09-08"
         ],
         "y": [
          "P0DT0H0M0S"
         ]
        },
        {
         "marker": {
          "color": "Blue",
          "size": 7
         },
         "mode": "markers",
         "name": "out_of_bed_time (2024-09-09)",
         "text": "out_of_bed_time: 0 days 00:00:00",
         "type": "scatter",
         "x": [
          "2024-09-09"
         ],
         "y": [
          "P0DT0H0M0S"
         ]
        },
        {
         "marker": {
          "color": "Blue",
          "size": 7
         },
         "mode": "markers",
         "name": "out_of_bed_time (2024-09-10)",
         "text": "out_of_bed_time: 0 days 00:08:00",
         "type": "scatter",
         "x": [
          "2024-09-10"
         ],
         "y": [
          "P0DT0H8M0S"
         ]
        },
        {
         "marker": {
          "color": "Blue",
          "size": 7
         },
         "mode": "markers",
         "name": "out_of_bed_time (2024-09-11)",
         "text": "out_of_bed_time: 0 days 00:00:00",
         "type": "scatter",
         "x": [
          "2024-09-11"
         ],
         "y": [
          "P0DT0H0M0S"
         ]
        },
        {
         "marker": {
          "color": "Blue",
          "size": 7
         },
         "mode": "markers",
         "name": "out_of_bed_time (2024-09-12)",
         "text": "out_of_bed_time: 0 days 00:08:00",
         "type": "scatter",
         "x": [
          "2024-09-12"
         ],
         "y": [
          "P0DT0H8M0S"
         ]
        },
        {
         "marker": {
          "color": "Blue",
          "size": 7
         },
         "mode": "markers",
         "name": "out_of_bed_time (2024-09-12)",
         "text": "out_of_bed_time: 0 days 00:00:00",
         "type": "scatter",
         "x": [
          "2024-09-12"
         ],
         "y": [
          "P0DT0H0M0S"
         ]
        },
        {
         "marker": {
          "color": "Blue",
          "size": 7
         },
         "mode": "markers",
         "name": "out_of_bed_time (2024-09-13)",
         "text": "out_of_bed_time: 0 days 00:07:00",
         "type": "scatter",
         "x": [
          "2024-09-13"
         ],
         "y": [
          "P0DT0H7M0S"
         ]
        },
        {
         "marker": {
          "color": "Blue",
          "size": 7
         },
         "mode": "markers",
         "name": "out_of_bed_time (2024-09-13)",
         "text": "out_of_bed_time: 0 days 00:00:00",
         "type": "scatter",
         "x": [
          "2024-09-13"
         ],
         "y": [
          "P0DT0H0M0S"
         ]
        },
        {
         "marker": {
          "color": "Blue",
          "size": 7
         },
         "mode": "markers",
         "name": "out_of_bed_time (2024-09-14)",
         "text": "out_of_bed_time: 0 days 00:00:00",
         "type": "scatter",
         "x": [
          "2024-09-14"
         ],
         "y": [
          "P0DT0H0M0S"
         ]
        },
        {
         "marker": {
          "color": "Blue",
          "size": 7
         },
         "mode": "markers",
         "name": "out_of_bed_time (2024-09-14)",
         "text": "out_of_bed_time: 0 days 00:06:00",
         "type": "scatter",
         "x": [
          "2024-09-14"
         ],
         "y": [
          "P0DT0H6M0S"
         ]
        },
        {
         "marker": {
          "color": "Blue",
          "size": 7
         },
         "mode": "markers",
         "name": "out_of_bed_time (2024-09-14)",
         "text": "out_of_bed_time: 0 days 00:00:00",
         "type": "scatter",
         "x": [
          "2024-09-14"
         ],
         "y": [
          "P0DT0H0M0S"
         ]
        },
        {
         "marker": {
          "color": "Blue",
          "size": 7
         },
         "mode": "markers",
         "name": "out_of_bed_time (2024-09-15)",
         "text": "out_of_bed_time: 0 days 00:00:00",
         "type": "scatter",
         "x": [
          "2024-09-15"
         ],
         "y": [
          "P0DT0H0M0S"
         ]
        },
        {
         "marker": {
          "color": "Blue",
          "size": 7
         },
         "mode": "markers",
         "name": "out_of_bed_time (2024-09-15)",
         "text": "out_of_bed_time: 0 days 00:06:00",
         "type": "scatter",
         "x": [
          "2024-09-15"
         ],
         "y": [
          "P0DT0H6M0S"
         ]
        },
        {
         "marker": {
          "color": "Blue",
          "size": 7
         },
         "mode": "markers",
         "name": "out_of_bed_time (2024-09-16)",
         "text": "out_of_bed_time: 0 days 00:00:00",
         "type": "scatter",
         "x": [
          "2024-09-16"
         ],
         "y": [
          "P0DT0H0M0S"
         ]
        },
        {
         "marker": {
          "color": "Blue",
          "size": 7
         },
         "mode": "markers",
         "name": "out_of_bed_time (2024-09-16)",
         "text": "out_of_bed_time: 0 days 00:00:00",
         "type": "scatter",
         "x": [
          "2024-09-16"
         ],
         "y": [
          "P0DT0H0M0S"
         ]
        },
        {
         "marker": {
          "color": "Blue",
          "size": 7
         },
         "mode": "markers",
         "name": "out_of_bed_time (2024-09-17)",
         "text": "out_of_bed_time: 0 days 01:48:00",
         "type": "scatter",
         "x": [
          "2024-09-17"
         ],
         "y": [
          "P0DT1H48M0S"
         ]
        },
        {
         "marker": {
          "color": "Blue",
          "size": 7
         },
         "mode": "markers",
         "name": "out_of_bed_time (2024-09-18)",
         "text": "out_of_bed_time: 0 days 00:00:00",
         "type": "scatter",
         "x": [
          "2024-09-18"
         ],
         "y": [
          "P0DT0H0M0S"
         ]
        },
        {
         "marker": {
          "color": "Blue",
          "size": 7
         },
         "mode": "markers",
         "name": "out_of_bed_time (2024-09-18)",
         "text": "out_of_bed_time: 0 days 00:00:00",
         "type": "scatter",
         "x": [
          "2024-09-18"
         ],
         "y": [
          "P0DT0H0M0S"
         ]
        },
        {
         "marker": {
          "color": "Blue",
          "size": 7
         },
         "mode": "markers",
         "name": "out_of_bed_time (2024-09-19)",
         "text": "out_of_bed_time: 0 days 00:09:00",
         "type": "scatter",
         "x": [
          "2024-09-19"
         ],
         "y": [
          "P0DT0H9M0S"
         ]
        },
        {
         "marker": {
          "color": "Blue",
          "size": 7
         },
         "mode": "markers",
         "name": "out_of_bed_time (2024-09-19)",
         "text": "out_of_bed_time: 0 days 00:00:00",
         "type": "scatter",
         "x": [
          "2024-09-19"
         ],
         "y": [
          "P0DT0H0M0S"
         ]
        },
        {
         "marker": {
          "color": "Blue",
          "size": 7
         },
         "mode": "markers",
         "name": "out_of_bed_time (2024-09-20)",
         "text": "out_of_bed_time: 0 days 00:00:00",
         "type": "scatter",
         "x": [
          "2024-09-20"
         ],
         "y": [
          "P0DT0H0M0S"
         ]
        },
        {
         "marker": {
          "color": "Blue",
          "size": 7
         },
         "mode": "markers",
         "name": "out_of_bed_time (2024-09-21)",
         "text": "out_of_bed_time: 0 days 00:00:00",
         "type": "scatter",
         "x": [
          "2024-09-21"
         ],
         "y": [
          "P0DT0H0M0S"
         ]
        },
        {
         "marker": {
          "color": "Blue",
          "size": 7
         },
         "mode": "markers",
         "name": "out_of_bed_time (2024-09-22)",
         "text": "out_of_bed_time: 0 days 00:08:00",
         "type": "scatter",
         "x": [
          "2024-09-22"
         ],
         "y": [
          "P0DT0H8M0S"
         ]
        },
        {
         "marker": {
          "color": "Blue",
          "size": 7
         },
         "mode": "markers",
         "name": "out_of_bed_time (2024-09-22)",
         "text": "out_of_bed_time: 0 days 00:00:00",
         "type": "scatter",
         "x": [
          "2024-09-22"
         ],
         "y": [
          "P0DT0H0M0S"
         ]
        },
        {
         "marker": {
          "color": "Blue",
          "size": 7
         },
         "mode": "markers",
         "name": "out_of_bed_time (2024-09-23)",
         "text": "out_of_bed_time: 0 days 00:09:00",
         "type": "scatter",
         "x": [
          "2024-09-23"
         ],
         "y": [
          "P0DT0H9M0S"
         ]
        },
        {
         "marker": {
          "color": "Blue",
          "size": 7
         },
         "mode": "markers",
         "name": "out_of_bed_time (2024-09-23)",
         "text": "out_of_bed_time: 0 days 00:10:00",
         "type": "scatter",
         "x": [
          "2024-09-23"
         ],
         "y": [
          "P0DT0H10M0S"
         ]
        },
        {
         "marker": {
          "color": "Blue",
          "size": 7
         },
         "mode": "markers",
         "name": "out_of_bed_time (2024-09-24)",
         "text": "out_of_bed_time: 0 days 00:06:00",
         "type": "scatter",
         "x": [
          "2024-09-24"
         ],
         "y": [
          "P0DT0H6M0S"
         ]
        },
        {
         "marker": {
          "color": "Blue",
          "size": 7
         },
         "mode": "markers",
         "name": "out_of_bed_time (2024-09-24)",
         "text": "out_of_bed_time: 0 days 00:00:00",
         "type": "scatter",
         "x": [
          "2024-09-24"
         ],
         "y": [
          "P0DT0H0M0S"
         ]
        },
        {
         "marker": {
          "color": "Blue",
          "size": 7
         },
         "mode": "markers",
         "name": "out_of_bed_time (2024-09-25)",
         "text": "out_of_bed_time: 0 days 00:10:00",
         "type": "scatter",
         "x": [
          "2024-09-25"
         ],
         "y": [
          "P0DT0H10M0S"
         ]
        },
        {
         "marker": {
          "color": "Blue",
          "size": 7
         },
         "mode": "markers",
         "name": "out_of_bed_time (2024-09-26)",
         "text": "out_of_bed_time: 0 days 02:18:00",
         "type": "scatter",
         "x": [
          "2024-09-26"
         ],
         "y": [
          "P0DT2H18M0S"
         ]
        },
        {
         "marker": {
          "color": "Blue",
          "size": 7
         },
         "mode": "markers",
         "name": "out_of_bed_time (2024-09-26)",
         "text": "out_of_bed_time: 0 days 00:00:00",
         "type": "scatter",
         "x": [
          "2024-09-26"
         ],
         "y": [
          "P0DT0H0M0S"
         ]
        },
        {
         "marker": {
          "color": "Blue",
          "size": 7
         },
         "mode": "markers",
         "name": "out_of_bed_time (2024-09-27)",
         "text": "out_of_bed_time: 0 days 00:00:00",
         "type": "scatter",
         "x": [
          "2024-09-27"
         ],
         "y": [
          "P0DT0H0M0S"
         ]
        },
        {
         "marker": {
          "color": "Blue",
          "size": 7
         },
         "mode": "markers",
         "name": "out_of_bed_time (2024-09-27)",
         "text": "out_of_bed_time: 0 days 00:00:00",
         "type": "scatter",
         "x": [
          "2024-09-27"
         ],
         "y": [
          "P0DT0H0M0S"
         ]
        },
        {
         "marker": {
          "color": "Blue",
          "size": 7
         },
         "mode": "markers",
         "name": "out_of_bed_time (2024-09-28)",
         "text": "out_of_bed_time: 0 days 00:08:00",
         "type": "scatter",
         "x": [
          "2024-09-28"
         ],
         "y": [
          "P0DT0H8M0S"
         ]
        },
        {
         "marker": {
          "color": "Blue",
          "size": 7
         },
         "mode": "markers",
         "name": "out_of_bed_time (2024-09-28)",
         "text": "out_of_bed_time: 0 days 01:47:00",
         "type": "scatter",
         "x": [
          "2024-09-28"
         ],
         "y": [
          "P0DT1H47M0S"
         ]
        },
        {
         "marker": {
          "color": "Blue",
          "size": 7
         },
         "mode": "markers",
         "name": "out_of_bed_time (2024-09-29)",
         "text": "out_of_bed_time: 0 days 00:10:00",
         "type": "scatter",
         "x": [
          "2024-09-29"
         ],
         "y": [
          "P0DT0H10M0S"
         ]
        },
        {
         "marker": {
          "color": "Blue",
          "size": 7
         },
         "mode": "markers",
         "name": "out_of_bed_time (2024-09-29)",
         "text": "out_of_bed_time: 0 days 00:00:00",
         "type": "scatter",
         "x": [
          "2024-09-29"
         ],
         "y": [
          "P0DT0H0M0S"
         ]
        },
        {
         "marker": {
          "color": "Blue",
          "size": 7
         },
         "mode": "markers",
         "name": "out_of_bed_time (2024-09-30)",
         "text": "out_of_bed_time: 0 days 00:11:00",
         "type": "scatter",
         "x": [
          "2024-09-30"
         ],
         "y": [
          "P0DT0H11M0S"
         ]
        },
        {
         "marker": {
          "color": "Blue",
          "size": 7
         },
         "mode": "markers",
         "name": "out_of_bed_time (2024-09-30)",
         "text": "out_of_bed_time: 0 days 00:00:00",
         "type": "scatter",
         "x": [
          "2024-09-30"
         ],
         "y": [
          "P0DT0H0M0S"
         ]
        },
        {
         "marker": {
          "color": "Blue",
          "size": 7
         },
         "mode": "markers",
         "name": "out_of_bed_time (2024-10-01)",
         "text": "out_of_bed_time: 0 days 00:00:00",
         "type": "scatter",
         "x": [
          "2024-10-01"
         ],
         "y": [
          "P0DT0H0M0S"
         ]
        },
        {
         "marker": {
          "color": "Blue",
          "size": 7
         },
         "mode": "markers",
         "name": "out_of_bed_time (2024-10-02)",
         "text": "out_of_bed_time: 0 days 00:00:00",
         "type": "scatter",
         "x": [
          "2024-10-02"
         ],
         "y": [
          "P0DT0H0M0S"
         ]
        },
        {
         "marker": {
          "color": "Blue",
          "size": 7
         },
         "mode": "markers",
         "name": "out_of_bed_time (2024-10-02)",
         "text": "out_of_bed_time: 0 days 00:00:00",
         "type": "scatter",
         "x": [
          "2024-10-02"
         ],
         "y": [
          "P0DT0H0M0S"
         ]
        },
        {
         "marker": {
          "color": "Blue",
          "size": 7
         },
         "mode": "markers",
         "name": "out_of_bed_time (2024-10-03)",
         "text": "out_of_bed_time: 0 days 00:07:00",
         "type": "scatter",
         "x": [
          "2024-10-03"
         ],
         "y": [
          "P0DT0H7M0S"
         ]
        },
        {
         "marker": {
          "color": "Blue",
          "size": 7
         },
         "mode": "markers",
         "name": "out_of_bed_time (2024-10-03)",
         "text": "out_of_bed_time: 0 days 00:00:00",
         "type": "scatter",
         "x": [
          "2024-10-03"
         ],
         "y": [
          "P0DT0H0M0S"
         ]
        },
        {
         "marker": {
          "color": "Blue",
          "size": 7
         },
         "mode": "markers",
         "name": "out_of_bed_time (2024-10-04)",
         "text": "out_of_bed_time: 0 days 00:07:00",
         "type": "scatter",
         "x": [
          "2024-10-04"
         ],
         "y": [
          "P0DT0H7M0S"
         ]
        },
        {
         "marker": {
          "color": "Blue",
          "size": 7
         },
         "mode": "markers",
         "name": "out_of_bed_time (2024-10-04)",
         "text": "out_of_bed_time: 0 days 00:00:00",
         "type": "scatter",
         "x": [
          "2024-10-04"
         ],
         "y": [
          "P0DT0H0M0S"
         ]
        },
        {
         "marker": {
          "color": "Blue",
          "size": 7
         },
         "mode": "markers",
         "name": "out_of_bed_time (2024-10-05)",
         "text": "out_of_bed_time: 0 days 00:00:00",
         "type": "scatter",
         "x": [
          "2024-10-05"
         ],
         "y": [
          "P0DT0H0M0S"
         ]
        },
        {
         "marker": {
          "color": "Blue",
          "size": 7
         },
         "mode": "markers",
         "name": "out_of_bed_time (2024-10-05)",
         "text": "out_of_bed_time: 0 days 00:00:00",
         "type": "scatter",
         "x": [
          "2024-10-05"
         ],
         "y": [
          "P0DT0H0M0S"
         ]
        },
        {
         "marker": {
          "color": "Blue",
          "size": 7
         },
         "mode": "markers",
         "name": "out_of_bed_time (2024-10-06)",
         "text": "out_of_bed_time: 0 days 00:09:00",
         "type": "scatter",
         "x": [
          "2024-10-06"
         ],
         "y": [
          "P0DT0H9M0S"
         ]
        },
        {
         "marker": {
          "color": "Blue",
          "size": 7
         },
         "mode": "markers",
         "name": "out_of_bed_time (2024-10-06)",
         "text": "out_of_bed_time: 0 days 00:00:00",
         "type": "scatter",
         "x": [
          "2024-10-06"
         ],
         "y": [
          "P0DT0H0M0S"
         ]
        },
        {
         "marker": {
          "color": "Blue",
          "size": 7
         },
         "mode": "markers",
         "name": "out_of_bed_time (2024-10-07)",
         "text": "out_of_bed_time: 0 days 00:00:00",
         "type": "scatter",
         "x": [
          "2024-10-07"
         ],
         "y": [
          "P0DT0H0M0S"
         ]
        },
        {
         "marker": {
          "color": "Blue",
          "size": 7
         },
         "mode": "markers",
         "name": "out_of_bed_time (2024-10-07)",
         "text": "out_of_bed_time: 0 days 00:00:00",
         "type": "scatter",
         "x": [
          "2024-10-07"
         ],
         "y": [
          "P0DT0H0M0S"
         ]
        },
        {
         "marker": {
          "color": "Blue",
          "size": 7
         },
         "mode": "markers",
         "name": "out_of_bed_time (2024-10-08)",
         "text": "out_of_bed_time: 0 days 00:06:00",
         "type": "scatter",
         "x": [
          "2024-10-08"
         ],
         "y": [
          "P0DT0H6M0S"
         ]
        },
        {
         "marker": {
          "color": "Blue",
          "size": 7
         },
         "mode": "markers",
         "name": "out_of_bed_time (2024-10-09)",
         "text": "out_of_bed_time: 0 days 01:01:00",
         "type": "scatter",
         "x": [
          "2024-10-09"
         ],
         "y": [
          "P0DT1H1M0S"
         ]
        },
        {
         "marker": {
          "color": "Blue",
          "size": 7
         },
         "mode": "markers",
         "name": "out_of_bed_time (2024-10-09)",
         "text": "out_of_bed_time: 0 days 00:00:00",
         "type": "scatter",
         "x": [
          "2024-10-09"
         ],
         "y": [
          "P0DT0H0M0S"
         ]
        },
        {
         "marker": {
          "color": "Blue",
          "size": 7
         },
         "mode": "markers",
         "name": "out_of_bed_time (2024-10-10)",
         "text": "out_of_bed_time: 0 days 00:07:00",
         "type": "scatter",
         "x": [
          "2024-10-10"
         ],
         "y": [
          "P0DT0H7M0S"
         ]
        },
        {
         "marker": {
          "color": "Blue",
          "size": 7
         },
         "mode": "markers",
         "name": "out_of_bed_time (2024-10-10)",
         "text": "out_of_bed_time: 0 days 00:00:00",
         "type": "scatter",
         "x": [
          "2024-10-10"
         ],
         "y": [
          "P0DT0H0M0S"
         ]
        },
        {
         "marker": {
          "color": "Blue",
          "size": 7
         },
         "mode": "markers",
         "name": "out_of_bed_time (2024-10-11)",
         "text": "out_of_bed_time: 0 days 00:00:00",
         "type": "scatter",
         "x": [
          "2024-10-11"
         ],
         "y": [
          "P0DT0H0M0S"
         ]
        },
        {
         "marker": {
          "color": "Blue",
          "size": 7
         },
         "mode": "markers",
         "name": "out_of_bed_time (2024-10-11)",
         "text": "out_of_bed_time: 0 days 00:00:00",
         "type": "scatter",
         "x": [
          "2024-10-11"
         ],
         "y": [
          "P0DT0H0M0S"
         ]
        },
        {
         "marker": {
          "color": "Blue",
          "size": 7
         },
         "mode": "markers",
         "name": "out_of_bed_time (2024-10-12)",
         "text": "out_of_bed_time: 0 days 00:00:00",
         "type": "scatter",
         "x": [
          "2024-10-12"
         ],
         "y": [
          "P0DT0H0M0S"
         ]
        },
        {
         "marker": {
          "color": "Blue",
          "size": 7
         },
         "mode": "markers",
         "name": "out_of_bed_time (2024-10-12)",
         "text": "out_of_bed_time: 0 days 00:00:00",
         "type": "scatter",
         "x": [
          "2024-10-12"
         ],
         "y": [
          "P0DT0H0M0S"
         ]
        },
        {
         "marker": {
          "color": "Blue",
          "size": 7
         },
         "mode": "markers",
         "name": "out_of_bed_time (2024-10-13)",
         "text": "out_of_bed_time: 0 days 00:00:00",
         "type": "scatter",
         "x": [
          "2024-10-13"
         ],
         "y": [
          "P0DT0H0M0S"
         ]
        },
        {
         "marker": {
          "color": "Blue",
          "size": 7
         },
         "mode": "markers",
         "name": "out_of_bed_time (2024-10-13)",
         "text": "out_of_bed_time: 0 days 00:00:00",
         "type": "scatter",
         "x": [
          "2024-10-13"
         ],
         "y": [
          "P0DT0H0M0S"
         ]
        },
        {
         "marker": {
          "color": "Blue",
          "size": 7
         },
         "mode": "markers",
         "name": "out_of_bed_time (2024-10-14)",
         "text": "out_of_bed_time: 0 days 00:10:00",
         "type": "scatter",
         "x": [
          "2024-10-14"
         ],
         "y": [
          "P0DT0H10M0S"
         ]
        },
        {
         "marker": {
          "color": "Blue",
          "size": 7
         },
         "mode": "markers",
         "name": "out_of_bed_time (2024-10-14)",
         "text": "out_of_bed_time: 0 days 00:00:00",
         "type": "scatter",
         "x": [
          "2024-10-14"
         ],
         "y": [
          "P0DT0H0M0S"
         ]
        },
        {
         "marker": {
          "color": "Blue",
          "size": 7
         },
         "mode": "markers",
         "name": "out_of_bed_time (2024-10-15)",
         "text": "out_of_bed_time: 0 days 00:00:00",
         "type": "scatter",
         "x": [
          "2024-10-15"
         ],
         "y": [
          "P0DT0H0M0S"
         ]
        },
        {
         "marker": {
          "color": "Blue",
          "size": 7
         },
         "mode": "markers",
         "name": "out_of_bed_time (2024-10-15)",
         "text": "out_of_bed_time: 0 days 00:00:00",
         "type": "scatter",
         "x": [
          "2024-10-15"
         ],
         "y": [
          "P0DT0H0M0S"
         ]
        }
       ],
       "layout": {
        "height": 800,
        "showlegend": false,
        "template": {
         "data": {
          "bar": [
           {
            "error_x": {
             "color": "#2a3f5f"
            },
            "error_y": {
             "color": "#2a3f5f"
            },
            "marker": {
             "line": {
              "color": "#E5ECF6",
              "width": 0.5
             },
             "pattern": {
              "fillmode": "overlay",
              "size": 10,
              "solidity": 0.2
             }
            },
            "type": "bar"
           }
          ],
          "barpolar": [
           {
            "marker": {
             "line": {
              "color": "#E5ECF6",
              "width": 0.5
             },
             "pattern": {
              "fillmode": "overlay",
              "size": 10,
              "solidity": 0.2
             }
            },
            "type": "barpolar"
           }
          ],
          "carpet": [
           {
            "aaxis": {
             "endlinecolor": "#2a3f5f",
             "gridcolor": "white",
             "linecolor": "white",
             "minorgridcolor": "white",
             "startlinecolor": "#2a3f5f"
            },
            "baxis": {
             "endlinecolor": "#2a3f5f",
             "gridcolor": "white",
             "linecolor": "white",
             "minorgridcolor": "white",
             "startlinecolor": "#2a3f5f"
            },
            "type": "carpet"
           }
          ],
          "choropleth": [
           {
            "colorbar": {
             "outlinewidth": 0,
             "ticks": ""
            },
            "type": "choropleth"
           }
          ],
          "contour": [
           {
            "colorbar": {
             "outlinewidth": 0,
             "ticks": ""
            },
            "colorscale": [
             [
              0,
              "#0d0887"
             ],
             [
              0.1111111111111111,
              "#46039f"
             ],
             [
              0.2222222222222222,
              "#7201a8"
             ],
             [
              0.3333333333333333,
              "#9c179e"
             ],
             [
              0.4444444444444444,
              "#bd3786"
             ],
             [
              0.5555555555555556,
              "#d8576b"
             ],
             [
              0.6666666666666666,
              "#ed7953"
             ],
             [
              0.7777777777777778,
              "#fb9f3a"
             ],
             [
              0.8888888888888888,
              "#fdca26"
             ],
             [
              1,
              "#f0f921"
             ]
            ],
            "type": "contour"
           }
          ],
          "contourcarpet": [
           {
            "colorbar": {
             "outlinewidth": 0,
             "ticks": ""
            },
            "type": "contourcarpet"
           }
          ],
          "heatmap": [
           {
            "colorbar": {
             "outlinewidth": 0,
             "ticks": ""
            },
            "colorscale": [
             [
              0,
              "#0d0887"
             ],
             [
              0.1111111111111111,
              "#46039f"
             ],
             [
              0.2222222222222222,
              "#7201a8"
             ],
             [
              0.3333333333333333,
              "#9c179e"
             ],
             [
              0.4444444444444444,
              "#bd3786"
             ],
             [
              0.5555555555555556,
              "#d8576b"
             ],
             [
              0.6666666666666666,
              "#ed7953"
             ],
             [
              0.7777777777777778,
              "#fb9f3a"
             ],
             [
              0.8888888888888888,
              "#fdca26"
             ],
             [
              1,
              "#f0f921"
             ]
            ],
            "type": "heatmap"
           }
          ],
          "heatmapgl": [
           {
            "colorbar": {
             "outlinewidth": 0,
             "ticks": ""
            },
            "colorscale": [
             [
              0,
              "#0d0887"
             ],
             [
              0.1111111111111111,
              "#46039f"
             ],
             [
              0.2222222222222222,
              "#7201a8"
             ],
             [
              0.3333333333333333,
              "#9c179e"
             ],
             [
              0.4444444444444444,
              "#bd3786"
             ],
             [
              0.5555555555555556,
              "#d8576b"
             ],
             [
              0.6666666666666666,
              "#ed7953"
             ],
             [
              0.7777777777777778,
              "#fb9f3a"
             ],
             [
              0.8888888888888888,
              "#fdca26"
             ],
             [
              1,
              "#f0f921"
             ]
            ],
            "type": "heatmapgl"
           }
          ],
          "histogram": [
           {
            "marker": {
             "pattern": {
              "fillmode": "overlay",
              "size": 10,
              "solidity": 0.2
             }
            },
            "type": "histogram"
           }
          ],
          "histogram2d": [
           {
            "colorbar": {
             "outlinewidth": 0,
             "ticks": ""
            },
            "colorscale": [
             [
              0,
              "#0d0887"
             ],
             [
              0.1111111111111111,
              "#46039f"
             ],
             [
              0.2222222222222222,
              "#7201a8"
             ],
             [
              0.3333333333333333,
              "#9c179e"
             ],
             [
              0.4444444444444444,
              "#bd3786"
             ],
             [
              0.5555555555555556,
              "#d8576b"
             ],
             [
              0.6666666666666666,
              "#ed7953"
             ],
             [
              0.7777777777777778,
              "#fb9f3a"
             ],
             [
              0.8888888888888888,
              "#fdca26"
             ],
             [
              1,
              "#f0f921"
             ]
            ],
            "type": "histogram2d"
           }
          ],
          "histogram2dcontour": [
           {
            "colorbar": {
             "outlinewidth": 0,
             "ticks": ""
            },
            "colorscale": [
             [
              0,
              "#0d0887"
             ],
             [
              0.1111111111111111,
              "#46039f"
             ],
             [
              0.2222222222222222,
              "#7201a8"
             ],
             [
              0.3333333333333333,
              "#9c179e"
             ],
             [
              0.4444444444444444,
              "#bd3786"
             ],
             [
              0.5555555555555556,
              "#d8576b"
             ],
             [
              0.6666666666666666,
              "#ed7953"
             ],
             [
              0.7777777777777778,
              "#fb9f3a"
             ],
             [
              0.8888888888888888,
              "#fdca26"
             ],
             [
              1,
              "#f0f921"
             ]
            ],
            "type": "histogram2dcontour"
           }
          ],
          "mesh3d": [
           {
            "colorbar": {
             "outlinewidth": 0,
             "ticks": ""
            },
            "type": "mesh3d"
           }
          ],
          "parcoords": [
           {
            "line": {
             "colorbar": {
              "outlinewidth": 0,
              "ticks": ""
             }
            },
            "type": "parcoords"
           }
          ],
          "pie": [
           {
            "automargin": true,
            "type": "pie"
           }
          ],
          "scatter": [
           {
            "fillpattern": {
             "fillmode": "overlay",
             "size": 10,
             "solidity": 0.2
            },
            "type": "scatter"
           }
          ],
          "scatter3d": [
           {
            "line": {
             "colorbar": {
              "outlinewidth": 0,
              "ticks": ""
             }
            },
            "marker": {
             "colorbar": {
              "outlinewidth": 0,
              "ticks": ""
             }
            },
            "type": "scatter3d"
           }
          ],
          "scattercarpet": [
           {
            "marker": {
             "colorbar": {
              "outlinewidth": 0,
              "ticks": ""
             }
            },
            "type": "scattercarpet"
           }
          ],
          "scattergeo": [
           {
            "marker": {
             "colorbar": {
              "outlinewidth": 0,
              "ticks": ""
             }
            },
            "type": "scattergeo"
           }
          ],
          "scattergl": [
           {
            "marker": {
             "colorbar": {
              "outlinewidth": 0,
              "ticks": ""
             }
            },
            "type": "scattergl"
           }
          ],
          "scattermapbox": [
           {
            "marker": {
             "colorbar": {
              "outlinewidth": 0,
              "ticks": ""
             }
            },
            "type": "scattermapbox"
           }
          ],
          "scatterpolar": [
           {
            "marker": {
             "colorbar": {
              "outlinewidth": 0,
              "ticks": ""
             }
            },
            "type": "scatterpolar"
           }
          ],
          "scatterpolargl": [
           {
            "marker": {
             "colorbar": {
              "outlinewidth": 0,
              "ticks": ""
             }
            },
            "type": "scatterpolargl"
           }
          ],
          "scatterternary": [
           {
            "marker": {
             "colorbar": {
              "outlinewidth": 0,
              "ticks": ""
             }
            },
            "type": "scatterternary"
           }
          ],
          "surface": [
           {
            "colorbar": {
             "outlinewidth": 0,
             "ticks": ""
            },
            "colorscale": [
             [
              0,
              "#0d0887"
             ],
             [
              0.1111111111111111,
              "#46039f"
             ],
             [
              0.2222222222222222,
              "#7201a8"
             ],
             [
              0.3333333333333333,
              "#9c179e"
             ],
             [
              0.4444444444444444,
              "#bd3786"
             ],
             [
              0.5555555555555556,
              "#d8576b"
             ],
             [
              0.6666666666666666,
              "#ed7953"
             ],
             [
              0.7777777777777778,
              "#fb9f3a"
             ],
             [
              0.8888888888888888,
              "#fdca26"
             ],
             [
              1,
              "#f0f921"
             ]
            ],
            "type": "surface"
           }
          ],
          "table": [
           {
            "cells": {
             "fill": {
              "color": "#EBF0F8"
             },
             "line": {
              "color": "white"
             }
            },
            "header": {
             "fill": {
              "color": "#C8D4E3"
             },
             "line": {
              "color": "white"
             }
            },
            "type": "table"
           }
          ]
         },
         "layout": {
          "annotationdefaults": {
           "arrowcolor": "#2a3f5f",
           "arrowhead": 0,
           "arrowwidth": 1
          },
          "autotypenumbers": "strict",
          "coloraxis": {
           "colorbar": {
            "outlinewidth": 0,
            "ticks": ""
           }
          },
          "colorscale": {
           "diverging": [
            [
             0,
             "#8e0152"
            ],
            [
             0.1,
             "#c51b7d"
            ],
            [
             0.2,
             "#de77ae"
            ],
            [
             0.3,
             "#f1b6da"
            ],
            [
             0.4,
             "#fde0ef"
            ],
            [
             0.5,
             "#f7f7f7"
            ],
            [
             0.6,
             "#e6f5d0"
            ],
            [
             0.7,
             "#b8e186"
            ],
            [
             0.8,
             "#7fbc41"
            ],
            [
             0.9,
             "#4d9221"
            ],
            [
             1,
             "#276419"
            ]
           ],
           "sequential": [
            [
             0,
             "#0d0887"
            ],
            [
             0.1111111111111111,
             "#46039f"
            ],
            [
             0.2222222222222222,
             "#7201a8"
            ],
            [
             0.3333333333333333,
             "#9c179e"
            ],
            [
             0.4444444444444444,
             "#bd3786"
            ],
            [
             0.5555555555555556,
             "#d8576b"
            ],
            [
             0.6666666666666666,
             "#ed7953"
            ],
            [
             0.7777777777777778,
             "#fb9f3a"
            ],
            [
             0.8888888888888888,
             "#fdca26"
            ],
            [
             1,
             "#f0f921"
            ]
           ],
           "sequentialminus": [
            [
             0,
             "#0d0887"
            ],
            [
             0.1111111111111111,
             "#46039f"
            ],
            [
             0.2222222222222222,
             "#7201a8"
            ],
            [
             0.3333333333333333,
             "#9c179e"
            ],
            [
             0.4444444444444444,
             "#bd3786"
            ],
            [
             0.5555555555555556,
             "#d8576b"
            ],
            [
             0.6666666666666666,
             "#ed7953"
            ],
            [
             0.7777777777777778,
             "#fb9f3a"
            ],
            [
             0.8888888888888888,
             "#fdca26"
            ],
            [
             1,
             "#f0f921"
            ]
           ]
          },
          "colorway": [
           "#636efa",
           "#EF553B",
           "#00cc96",
           "#ab63fa",
           "#FFA15A",
           "#19d3f3",
           "#FF6692",
           "#B6E880",
           "#FF97FF",
           "#FECB52"
          ],
          "font": {
           "color": "#2a3f5f"
          },
          "geo": {
           "bgcolor": "white",
           "lakecolor": "white",
           "landcolor": "#E5ECF6",
           "showlakes": true,
           "showland": true,
           "subunitcolor": "white"
          },
          "hoverlabel": {
           "align": "left"
          },
          "hovermode": "closest",
          "mapbox": {
           "style": "light"
          },
          "paper_bgcolor": "white",
          "plot_bgcolor": "#E5ECF6",
          "polar": {
           "angularaxis": {
            "gridcolor": "white",
            "linecolor": "white",
            "ticks": ""
           },
           "bgcolor": "#E5ECF6",
           "radialaxis": {
            "gridcolor": "white",
            "linecolor": "white",
            "ticks": ""
           }
          },
          "scene": {
           "xaxis": {
            "backgroundcolor": "#E5ECF6",
            "gridcolor": "white",
            "gridwidth": 2,
            "linecolor": "white",
            "showbackground": true,
            "ticks": "",
            "zerolinecolor": "white"
           },
           "yaxis": {
            "backgroundcolor": "#E5ECF6",
            "gridcolor": "white",
            "gridwidth": 2,
            "linecolor": "white",
            "showbackground": true,
            "ticks": "",
            "zerolinecolor": "white"
           },
           "zaxis": {
            "backgroundcolor": "#E5ECF6",
            "gridcolor": "white",
            "gridwidth": 2,
            "linecolor": "white",
            "showbackground": true,
            "ticks": "",
            "zerolinecolor": "white"
           }
          },
          "shapedefaults": {
           "line": {
            "color": "#2a3f5f"
           }
          },
          "ternary": {
           "aaxis": {
            "gridcolor": "white",
            "linecolor": "white",
            "ticks": ""
           },
           "baxis": {
            "gridcolor": "white",
            "linecolor": "white",
            "ticks": ""
           },
           "bgcolor": "#E5ECF6",
           "caxis": {
            "gridcolor": "white",
            "linecolor": "white",
            "ticks": ""
           }
          },
          "title": {
           "x": 0.05
          },
          "xaxis": {
           "automargin": true,
           "gridcolor": "white",
           "linecolor": "white",
           "ticks": "",
           "title": {
            "standoff": 15
           },
           "zerolinecolor": "white",
           "zerolinewidth": 2
          },
          "yaxis": {
           "automargin": true,
           "gridcolor": "white",
           "linecolor": "white",
           "ticks": "",
           "title": {
            "standoff": 15
           },
           "zerolinecolor": "white",
           "zerolinewidth": 2
          }
         }
        },
        "title": {
         "text": "Valori di out_of_bed_time da 2023-10-15 a 2024-10-15"
        },
        "width": 1500,
        "xaxis": {
         "categoryorder": "category ascending",
         "title": {
          "text": "Date"
         }
        },
        "yaxis": {
         "categoryorder": "category ascending",
         "title": {
          "text": "Valori di out_of_bed_time"
         }
        }
       }
      }
     },
     "metadata": {},
     "output_type": "display_data"
    }
   ],
   "source": [
    "aggregatedDatafromGranular.plot('out_of_bed_time','2023-10-15', '2024-10-15')"
   ]
  },
  {
   "cell_type": "markdown",
   "metadata": {},
   "source": [
    "# test funzionalità AggregatiWithings"
   ]
  },
  {
   "cell_type": "code",
   "execution_count": 31,
   "metadata": {},
   "outputs": [],
   "source": [
    "dictWithings = aggregatedDatafromWithings.getMeasureDict()"
   ]
  },
  {
   "cell_type": "code",
   "execution_count": 32,
   "metadata": {},
   "outputs": [],
   "source": [
    "# prendo i miei dati aggregati\n",
    "aggregatiDaGranulari = aggregatedDatafromGranular.getMeasureDf()"
   ]
  },
  {
   "cell_type": "code",
   "execution_count": 33,
   "metadata": {},
   "outputs": [],
   "source": [
    "date = '2023-11-28'"
   ]
  },
  {
   "cell_type": "code",
   "execution_count": 34,
   "metadata": {},
   "outputs": [
    {
     "data": {
      "text/html": [
       "<div>\n",
       "<style scoped>\n",
       "    .dataframe tbody tr th:only-of-type {\n",
       "        vertical-align: middle;\n",
       "    }\n",
       "\n",
       "    .dataframe tbody tr th {\n",
       "        vertical-align: top;\n",
       "    }\n",
       "\n",
       "    .dataframe thead th {\n",
       "        text-align: right;\n",
       "    }\n",
       "</style>\n",
       "<table border=\"1\" class=\"dataframe\">\n",
       "  <thead>\n",
       "    <tr style=\"text-align: right;\">\n",
       "      <th></th>\n",
       "      <th>date</th>\n",
       "      <th>date_start</th>\n",
       "      <th>date_end</th>\n",
       "      <th>nb_rem_episodes</th>\n",
       "      <th>sleep_efficiency</th>\n",
       "      <th>sleep_latency</th>\n",
       "      <th>total_sleep_time</th>\n",
       "      <th>total_timeinbed</th>\n",
       "      <th>apnea_hypopnea_index</th>\n",
       "      <th>breathing_disturbances_intensity</th>\n",
       "      <th>hr_average</th>\n",
       "      <th>hr_max</th>\n",
       "      <th>hr_min</th>\n",
       "      <th>light_sleep_duration</th>\n",
       "      <th>deep_sleep_duration</th>\n",
       "      <th>asleepduration</th>\n",
       "      <th>mvt_active_duration</th>\n",
       "      <th>mvt_score_average</th>\n",
       "      <th>night_events</th>\n",
       "      <th>snoring</th>\n",
       "      <th>rem_sleep_duration</th>\n",
       "      <th>sleep_score</th>\n",
       "      <th>out_of_bed_count</th>\n",
       "      <th>wakeup_count</th>\n",
       "      <th>wakeup_duration</th>\n",
       "      <th>wakeup_latency</th>\n",
       "      <th>waso</th>\n",
       "      <th>rr_average</th>\n",
       "      <th>rr_max</th>\n",
       "      <th>rr_min</th>\n",
       "      <th>snoringepisodecount</th>\n",
       "      <th>model</th>\n",
       "      <th>model_id</th>\n",
       "      <th>nap</th>\n",
       "    </tr>\n",
       "  </thead>\n",
       "  <tbody>\n",
       "    <tr>\n",
       "      <th>0</th>\n",
       "      <td>2023-11-28</td>\n",
       "      <td>2023-11-27 23:22:00+01:00</td>\n",
       "      <td>2023-11-28 09:12:00+01:00</td>\n",
       "      <td>7</td>\n",
       "      <td>0.93</td>\n",
       "      <td>1140</td>\n",
       "      <td>32760</td>\n",
       "      <td>35040</td>\n",
       "      <td>39.92</td>\n",
       "      <td>79.0</td>\n",
       "      <td>65</td>\n",
       "      <td>86</td>\n",
       "      <td>52</td>\n",
       "      <td>22980</td>\n",
       "      <td>1800</td>\n",
       "      <td>NaN</td>\n",
       "      <td>NaN</td>\n",
       "      <td>NaN</td>\n",
       "      <td>{\"1\":[0,26100],\"2\":[1140,24960,2100],\"3\":[2496...</td>\n",
       "      <td>2160.0</td>\n",
       "      <td>7980.0</td>\n",
       "      <td>89</td>\n",
       "      <td>1</td>\n",
       "      <td>2</td>\n",
       "      <td>2280</td>\n",
       "      <td>0</td>\n",
       "      <td>1500</td>\n",
       "      <td>16.0</td>\n",
       "      <td>24.0</td>\n",
       "      <td>9.0</td>\n",
       "      <td>8.0</td>\n",
       "      <td>32</td>\n",
       "      <td>63</td>\n",
       "      <td>False</td>\n",
       "    </tr>\n",
       "  </tbody>\n",
       "</table>\n",
       "</div>"
      ],
      "text/plain": [
       "         date                date_start                  date_end  \\\n",
       "0  2023-11-28 2023-11-27 23:22:00+01:00 2023-11-28 09:12:00+01:00   \n",
       "\n",
       "   nb_rem_episodes  sleep_efficiency  sleep_latency  total_sleep_time  \\\n",
       "0                7              0.93           1140             32760   \n",
       "\n",
       "   total_timeinbed  apnea_hypopnea_index  breathing_disturbances_intensity  \\\n",
       "0            35040                 39.92                              79.0   \n",
       "\n",
       "   hr_average  hr_max  hr_min  light_sleep_duration  deep_sleep_duration  \\\n",
       "0          65      86      52                 22980                 1800   \n",
       "\n",
       "   asleepduration  mvt_active_duration  mvt_score_average  \\\n",
       "0             NaN                  NaN                NaN   \n",
       "\n",
       "                                        night_events  snoring  \\\n",
       "0  {\"1\":[0,26100],\"2\":[1140,24960,2100],\"3\":[2496...   2160.0   \n",
       "\n",
       "   rem_sleep_duration  sleep_score  out_of_bed_count  wakeup_count  \\\n",
       "0              7980.0           89                 1             2   \n",
       "\n",
       "   wakeup_duration  wakeup_latency  waso  rr_average  rr_max  rr_min  \\\n",
       "0             2280               0  1500        16.0    24.0     9.0   \n",
       "\n",
       "   snoringepisodecount  model  model_id    nap  \n",
       "0                  8.0     32        63  False  "
      ]
     },
     "execution_count": 34,
     "metadata": {},
     "output_type": "execute_result"
    }
   ],
   "source": [
    "dictWithings[date]"
   ]
  },
  {
   "cell_type": "code",
   "execution_count": 35,
   "metadata": {},
   "outputs": [
    {
     "data": {
      "text/html": [
       "<div>\n",
       "<style scoped>\n",
       "    .dataframe tbody tr th:only-of-type {\n",
       "        vertical-align: middle;\n",
       "    }\n",
       "\n",
       "    .dataframe tbody tr th {\n",
       "        vertical-align: top;\n",
       "    }\n",
       "\n",
       "    .dataframe thead th {\n",
       "        text-align: right;\n",
       "    }\n",
       "</style>\n",
       "<table border=\"1\" class=\"dataframe\">\n",
       "  <thead>\n",
       "    <tr style=\"text-align: right;\">\n",
       "      <th></th>\n",
       "      <th>date_start</th>\n",
       "      <th>date_end</th>\n",
       "      <th>nap</th>\n",
       "      <th>hr_average</th>\n",
       "      <th>hr_max</th>\n",
       "      <th>hr_min</th>\n",
       "      <th>rmssd_average</th>\n",
       "      <th>rmssd_max</th>\n",
       "      <th>rmssd_min</th>\n",
       "      <th>rr_average</th>\n",
       "      <th>rr_max</th>\n",
       "      <th>rr_min</th>\n",
       "      <th>sdnn_1_average</th>\n",
       "      <th>sdnn_1_max</th>\n",
       "      <th>sdnn_1_min</th>\n",
       "      <th>snoring_average</th>\n",
       "      <th>snoring_max</th>\n",
       "      <th>snoring_min</th>\n",
       "      <th>mvt_score_average</th>\n",
       "      <th>mvt_score_max</th>\n",
       "      <th>mvt_score_min</th>\n",
       "      <th>light_sleep_duration</th>\n",
       "      <th>rem_sleep_duration</th>\n",
       "      <th>deep_sleep_duration</th>\n",
       "      <th>wakeup_duration</th>\n",
       "      <th>manual_sleep_duration</th>\n",
       "      <th>undefined_sleep_duration</th>\n",
       "      <th>wakeup_count</th>\n",
       "      <th>out_of_bed_count</th>\n",
       "      <th>out_of_bed_time</th>\n",
       "      <th>out_of_bed</th>\n",
       "      <th>total_sleep_time</th>\n",
       "      <th>model</th>\n",
       "      <th>model_id</th>\n",
       "      <th>date</th>\n",
       "    </tr>\n",
       "  </thead>\n",
       "  <tbody>\n",
       "    <tr>\n",
       "      <th>0</th>\n",
       "      <td>2023-11-27 23:22:00+01:00</td>\n",
       "      <td>2023-11-28 09:11:00+01:00</td>\n",
       "      <td>False</td>\n",
       "      <td>65</td>\n",
       "      <td>86</td>\n",
       "      <td>52</td>\n",
       "      <td>38</td>\n",
       "      <td>56</td>\n",
       "      <td>0</td>\n",
       "      <td>16</td>\n",
       "      <td>24</td>\n",
       "      <td>9</td>\n",
       "      <td>50</td>\n",
       "      <td>59</td>\n",
       "      <td>0</td>\n",
       "      <td>6</td>\n",
       "      <td>100</td>\n",
       "      <td>0</td>\n",
       "      <td>None</td>\n",
       "      <td>None</td>\n",
       "      <td>None</td>\n",
       "      <td>22980</td>\n",
       "      <td>8340</td>\n",
       "      <td>1800</td>\n",
       "      <td>2220</td>\n",
       "      <td>0</td>\n",
       "      <td>0</td>\n",
       "      <td>3</td>\n",
       "      <td>0</td>\n",
       "      <td>0 days</td>\n",
       "      <td>[]</td>\n",
       "      <td>33120</td>\n",
       "      <td>Aura Sensor V2</td>\n",
       "      <td>63</td>\n",
       "      <td>2023-11-28</td>\n",
       "    </tr>\n",
       "    <tr>\n",
       "      <th>1</th>\n",
       "      <td>2023-11-28 16:14:00+01:00</td>\n",
       "      <td>2023-11-28 17:22:00+01:00</td>\n",
       "      <td>True</td>\n",
       "      <td>84</td>\n",
       "      <td>104</td>\n",
       "      <td>48</td>\n",
       "      <td>23</td>\n",
       "      <td>59</td>\n",
       "      <td>0</td>\n",
       "      <td>20</td>\n",
       "      <td>27</td>\n",
       "      <td>13</td>\n",
       "      <td>67</td>\n",
       "      <td>174</td>\n",
       "      <td>0</td>\n",
       "      <td>5</td>\n",
       "      <td>100</td>\n",
       "      <td>0</td>\n",
       "      <td>None</td>\n",
       "      <td>None</td>\n",
       "      <td>None</td>\n",
       "      <td>840</td>\n",
       "      <td>0</td>\n",
       "      <td>660</td>\n",
       "      <td>2580</td>\n",
       "      <td>0</td>\n",
       "      <td>0</td>\n",
       "      <td>2</td>\n",
       "      <td>0</td>\n",
       "      <td>0 days</td>\n",
       "      <td>[]</td>\n",
       "      <td>1500</td>\n",
       "      <td>Aura Sensor V2</td>\n",
       "      <td>63</td>\n",
       "      <td>2023-11-28</td>\n",
       "    </tr>\n",
       "  </tbody>\n",
       "</table>\n",
       "</div>"
      ],
      "text/plain": [
       "                 date_start                  date_end    nap  hr_average  \\\n",
       "0 2023-11-27 23:22:00+01:00 2023-11-28 09:11:00+01:00  False          65   \n",
       "1 2023-11-28 16:14:00+01:00 2023-11-28 17:22:00+01:00   True          84   \n",
       "\n",
       "   hr_max  hr_min  rmssd_average  rmssd_max  rmssd_min  rr_average  rr_max  \\\n",
       "0      86      52             38         56          0          16      24   \n",
       "1     104      48             23         59          0          20      27   \n",
       "\n",
       "   rr_min  sdnn_1_average  sdnn_1_max  sdnn_1_min  snoring_average  \\\n",
       "0       9              50          59           0                6   \n",
       "1      13              67         174           0                5   \n",
       "\n",
       "   snoring_max  snoring_min mvt_score_average mvt_score_max mvt_score_min  \\\n",
       "0          100            0              None          None          None   \n",
       "1          100            0              None          None          None   \n",
       "\n",
       "   light_sleep_duration  rem_sleep_duration  deep_sleep_duration  \\\n",
       "0                 22980                8340                 1800   \n",
       "1                   840                   0                  660   \n",
       "\n",
       "   wakeup_duration  manual_sleep_duration  undefined_sleep_duration  \\\n",
       "0             2220                      0                         0   \n",
       "1             2580                      0                         0   \n",
       "\n",
       "   wakeup_count  out_of_bed_count out_of_bed_time out_of_bed  \\\n",
       "0             3                 0          0 days         []   \n",
       "1             2                 0          0 days         []   \n",
       "\n",
       "   total_sleep_time           model  model_id        date  \n",
       "0             33120  Aura Sensor V2        63  2023-11-28  \n",
       "1              1500  Aura Sensor V2        63  2023-11-28  "
      ]
     },
     "execution_count": 35,
     "metadata": {},
     "output_type": "execute_result"
    }
   ],
   "source": [
    "aggregatedDatafromGranular.getMeasuresOfSpecificNight(date)"
   ]
  },
  {
   "cell_type": "markdown",
   "metadata": {},
   "source": [
    "### altri test"
   ]
  },
  {
   "cell_type": "code",
   "execution_count": 36,
   "metadata": {},
   "outputs": [],
   "source": [
    "date = '2023-12-22'"
   ]
  },
  {
   "cell_type": "code",
   "execution_count": 37,
   "metadata": {},
   "outputs": [
    {
     "data": {
      "text/html": [
       "<div>\n",
       "<style scoped>\n",
       "    .dataframe tbody tr th:only-of-type {\n",
       "        vertical-align: middle;\n",
       "    }\n",
       "\n",
       "    .dataframe tbody tr th {\n",
       "        vertical-align: top;\n",
       "    }\n",
       "\n",
       "    .dataframe thead th {\n",
       "        text-align: right;\n",
       "    }\n",
       "</style>\n",
       "<table border=\"1\" class=\"dataframe\">\n",
       "  <thead>\n",
       "    <tr style=\"text-align: right;\">\n",
       "      <th></th>\n",
       "      <th>date</th>\n",
       "      <th>date_start</th>\n",
       "      <th>date_end</th>\n",
       "      <th>nb_rem_episodes</th>\n",
       "      <th>sleep_efficiency</th>\n",
       "      <th>sleep_latency</th>\n",
       "      <th>total_sleep_time</th>\n",
       "      <th>total_timeinbed</th>\n",
       "      <th>apnea_hypopnea_index</th>\n",
       "      <th>breathing_disturbances_intensity</th>\n",
       "      <th>hr_average</th>\n",
       "      <th>hr_max</th>\n",
       "      <th>hr_min</th>\n",
       "      <th>light_sleep_duration</th>\n",
       "      <th>deep_sleep_duration</th>\n",
       "      <th>asleepduration</th>\n",
       "      <th>mvt_active_duration</th>\n",
       "      <th>mvt_score_average</th>\n",
       "      <th>night_events</th>\n",
       "      <th>snoring</th>\n",
       "      <th>rem_sleep_duration</th>\n",
       "      <th>sleep_score</th>\n",
       "      <th>out_of_bed_count</th>\n",
       "      <th>wakeup_count</th>\n",
       "      <th>wakeup_duration</th>\n",
       "      <th>wakeup_latency</th>\n",
       "      <th>waso</th>\n",
       "      <th>rr_average</th>\n",
       "      <th>rr_max</th>\n",
       "      <th>rr_min</th>\n",
       "      <th>snoringepisodecount</th>\n",
       "      <th>model</th>\n",
       "      <th>model_id</th>\n",
       "      <th>nap</th>\n",
       "    </tr>\n",
       "  </thead>\n",
       "  <tbody>\n",
       "    <tr>\n",
       "      <th>0</th>\n",
       "      <td>2023-12-22</td>\n",
       "      <td>2023-12-22 00:24:00+01:00</td>\n",
       "      <td>2023-12-22 08:17:00+01:00</td>\n",
       "      <td>3</td>\n",
       "      <td>0.92</td>\n",
       "      <td>660</td>\n",
       "      <td>25680</td>\n",
       "      <td>27900</td>\n",
       "      <td>33.53</td>\n",
       "      <td>67.0</td>\n",
       "      <td>59</td>\n",
       "      <td>75</td>\n",
       "      <td>45</td>\n",
       "      <td>22200</td>\n",
       "      <td>780</td>\n",
       "      <td>NaN</td>\n",
       "      <td>NaN</td>\n",
       "      <td>NaN</td>\n",
       "      <td>{\"1\":[0,2640,14640],\"2\":[660,2040,8460,6120],\"...</td>\n",
       "      <td>660.0</td>\n",
       "      <td>2700.0</td>\n",
       "      <td>78</td>\n",
       "      <td>1</td>\n",
       "      <td>3</td>\n",
       "      <td>2220</td>\n",
       "      <td>600</td>\n",
       "      <td>1440</td>\n",
       "      <td>15.0</td>\n",
       "      <td>20.0</td>\n",
       "      <td>9.0</td>\n",
       "      <td>3.0</td>\n",
       "      <td>32</td>\n",
       "      <td>63</td>\n",
       "      <td>False</td>\n",
       "    </tr>\n",
       "  </tbody>\n",
       "</table>\n",
       "</div>"
      ],
      "text/plain": [
       "         date                date_start                  date_end  \\\n",
       "0  2023-12-22 2023-12-22 00:24:00+01:00 2023-12-22 08:17:00+01:00   \n",
       "\n",
       "   nb_rem_episodes  sleep_efficiency  sleep_latency  total_sleep_time  \\\n",
       "0                3              0.92            660             25680   \n",
       "\n",
       "   total_timeinbed  apnea_hypopnea_index  breathing_disturbances_intensity  \\\n",
       "0            27900                 33.53                              67.0   \n",
       "\n",
       "   hr_average  hr_max  hr_min  light_sleep_duration  deep_sleep_duration  \\\n",
       "0          59      75      45                 22200                  780   \n",
       "\n",
       "   asleepduration  mvt_active_duration  mvt_score_average  \\\n",
       "0             NaN                  NaN                NaN   \n",
       "\n",
       "                                        night_events  snoring  \\\n",
       "0  {\"1\":[0,2640,14640],\"2\":[660,2040,8460,6120],\"...    660.0   \n",
       "\n",
       "   rem_sleep_duration  sleep_score  out_of_bed_count  wakeup_count  \\\n",
       "0              2700.0           78                 1             3   \n",
       "\n",
       "   wakeup_duration  wakeup_latency  waso  rr_average  rr_max  rr_min  \\\n",
       "0             2220             600  1440        15.0    20.0     9.0   \n",
       "\n",
       "   snoringepisodecount  model  model_id    nap  \n",
       "0                  3.0     32        63  False  "
      ]
     },
     "execution_count": 37,
     "metadata": {},
     "output_type": "execute_result"
    }
   ],
   "source": [
    "dictWithings[date]"
   ]
  },
  {
   "cell_type": "code",
   "execution_count": 38,
   "metadata": {},
   "outputs": [
    {
     "data": {
      "text/html": [
       "<div>\n",
       "<style scoped>\n",
       "    .dataframe tbody tr th:only-of-type {\n",
       "        vertical-align: middle;\n",
       "    }\n",
       "\n",
       "    .dataframe tbody tr th {\n",
       "        vertical-align: top;\n",
       "    }\n",
       "\n",
       "    .dataframe thead th {\n",
       "        text-align: right;\n",
       "    }\n",
       "</style>\n",
       "<table border=\"1\" class=\"dataframe\">\n",
       "  <thead>\n",
       "    <tr style=\"text-align: right;\">\n",
       "      <th></th>\n",
       "      <th>date_start</th>\n",
       "      <th>date_end</th>\n",
       "      <th>nap</th>\n",
       "      <th>hr_average</th>\n",
       "      <th>hr_max</th>\n",
       "      <th>hr_min</th>\n",
       "      <th>rmssd_average</th>\n",
       "      <th>rmssd_max</th>\n",
       "      <th>rmssd_min</th>\n",
       "      <th>rr_average</th>\n",
       "      <th>rr_max</th>\n",
       "      <th>rr_min</th>\n",
       "      <th>sdnn_1_average</th>\n",
       "      <th>sdnn_1_max</th>\n",
       "      <th>sdnn_1_min</th>\n",
       "      <th>snoring_average</th>\n",
       "      <th>snoring_max</th>\n",
       "      <th>snoring_min</th>\n",
       "      <th>mvt_score_average</th>\n",
       "      <th>mvt_score_max</th>\n",
       "      <th>mvt_score_min</th>\n",
       "      <th>light_sleep_duration</th>\n",
       "      <th>rem_sleep_duration</th>\n",
       "      <th>deep_sleep_duration</th>\n",
       "      <th>wakeup_duration</th>\n",
       "      <th>manual_sleep_duration</th>\n",
       "      <th>undefined_sleep_duration</th>\n",
       "      <th>wakeup_count</th>\n",
       "      <th>out_of_bed_count</th>\n",
       "      <th>out_of_bed_time</th>\n",
       "      <th>out_of_bed</th>\n",
       "      <th>total_sleep_time</th>\n",
       "      <th>model</th>\n",
       "      <th>model_id</th>\n",
       "      <th>date</th>\n",
       "    </tr>\n",
       "  </thead>\n",
       "  <tbody>\n",
       "    <tr>\n",
       "      <th>0</th>\n",
       "      <td>2023-12-22 00:24:00+01:00</td>\n",
       "      <td>2023-12-22 08:16:00+01:00</td>\n",
       "      <td>False</td>\n",
       "      <td>58</td>\n",
       "      <td>75</td>\n",
       "      <td>45</td>\n",
       "      <td>36</td>\n",
       "      <td>48</td>\n",
       "      <td>0</td>\n",
       "      <td>14</td>\n",
       "      <td>24</td>\n",
       "      <td>9</td>\n",
       "      <td>55</td>\n",
       "      <td>60</td>\n",
       "      <td>0</td>\n",
       "      <td>2</td>\n",
       "      <td>100</td>\n",
       "      <td>0</td>\n",
       "      <td>None</td>\n",
       "      <td>None</td>\n",
       "      <td>None</td>\n",
       "      <td>22500</td>\n",
       "      <td>2700</td>\n",
       "      <td>780</td>\n",
       "      <td>2340</td>\n",
       "      <td>0</td>\n",
       "      <td>0</td>\n",
       "      <td>4</td>\n",
       "      <td>0</td>\n",
       "      <td>0 days</td>\n",
       "      <td>[]</td>\n",
       "      <td>25980</td>\n",
       "      <td>Aura Sensor V2</td>\n",
       "      <td>63</td>\n",
       "      <td>2023-12-22</td>\n",
       "    </tr>\n",
       "    <tr>\n",
       "      <th>1</th>\n",
       "      <td>2023-12-22 14:02:00+01:00</td>\n",
       "      <td>2023-12-22 16:30:00+01:00</td>\n",
       "      <td>True</td>\n",
       "      <td>79</td>\n",
       "      <td>91</td>\n",
       "      <td>51</td>\n",
       "      <td>19</td>\n",
       "      <td>32</td>\n",
       "      <td>0</td>\n",
       "      <td>17</td>\n",
       "      <td>25</td>\n",
       "      <td>10</td>\n",
       "      <td>30</td>\n",
       "      <td>45</td>\n",
       "      <td>0</td>\n",
       "      <td>0</td>\n",
       "      <td>0</td>\n",
       "      <td>0</td>\n",
       "      <td>None</td>\n",
       "      <td>None</td>\n",
       "      <td>None</td>\n",
       "      <td>2040</td>\n",
       "      <td>720</td>\n",
       "      <td>3240</td>\n",
       "      <td>2880</td>\n",
       "      <td>0</td>\n",
       "      <td>0</td>\n",
       "      <td>2</td>\n",
       "      <td>0</td>\n",
       "      <td>0 days</td>\n",
       "      <td>[]</td>\n",
       "      <td>6000</td>\n",
       "      <td>Aura Sensor V2</td>\n",
       "      <td>63</td>\n",
       "      <td>2023-12-22</td>\n",
       "    </tr>\n",
       "  </tbody>\n",
       "</table>\n",
       "</div>"
      ],
      "text/plain": [
       "                 date_start                  date_end    nap  hr_average  \\\n",
       "0 2023-12-22 00:24:00+01:00 2023-12-22 08:16:00+01:00  False          58   \n",
       "1 2023-12-22 14:02:00+01:00 2023-12-22 16:30:00+01:00   True          79   \n",
       "\n",
       "   hr_max  hr_min  rmssd_average  rmssd_max  rmssd_min  rr_average  rr_max  \\\n",
       "0      75      45             36         48          0          14      24   \n",
       "1      91      51             19         32          0          17      25   \n",
       "\n",
       "   rr_min  sdnn_1_average  sdnn_1_max  sdnn_1_min  snoring_average  \\\n",
       "0       9              55          60           0                2   \n",
       "1      10              30          45           0                0   \n",
       "\n",
       "   snoring_max  snoring_min mvt_score_average mvt_score_max mvt_score_min  \\\n",
       "0          100            0              None          None          None   \n",
       "1            0            0              None          None          None   \n",
       "\n",
       "   light_sleep_duration  rem_sleep_duration  deep_sleep_duration  \\\n",
       "0                 22500                2700                  780   \n",
       "1                  2040                 720                 3240   \n",
       "\n",
       "   wakeup_duration  manual_sleep_duration  undefined_sleep_duration  \\\n",
       "0             2340                      0                         0   \n",
       "1             2880                      0                         0   \n",
       "\n",
       "   wakeup_count  out_of_bed_count out_of_bed_time out_of_bed  \\\n",
       "0             4                 0          0 days         []   \n",
       "1             2                 0          0 days         []   \n",
       "\n",
       "   total_sleep_time           model  model_id        date  \n",
       "0             25980  Aura Sensor V2        63  2023-12-22  \n",
       "1              6000  Aura Sensor V2        63  2023-12-22  "
      ]
     },
     "execution_count": 38,
     "metadata": {},
     "output_type": "execute_result"
    }
   ],
   "source": [
    "aggregatedDatafromGranular.getMeasuresOfSpecificNight(date)"
   ]
  }
 ],
 "metadata": {
  "kernelspec": {
   "display_name": ".venv",
   "language": "python",
   "name": "python3"
  },
  "language_info": {
   "codemirror_mode": {
    "name": "ipython",
    "version": 3
   },
   "file_extension": ".py",
   "mimetype": "text/x-python",
   "name": "python",
   "nbconvert_exporter": "python",
   "pygments_lexer": "ipython3",
   "version": "3.11.11"
  }
 },
 "nbformat": 4,
 "nbformat_minor": 2
}
