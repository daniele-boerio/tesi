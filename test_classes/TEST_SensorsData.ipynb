{
 "cells": [
  {
   "cell_type": "code",
   "execution_count": 1,
   "metadata": {},
   "outputs": [],
   "source": [
    "import pandas as pd\n",
    "import os\n",
    "import plotly.express as px\n",
    "import plotly.graph_objs as go"
   ]
  },
  {
   "cell_type": "code",
   "execution_count": 2,
   "metadata": {},
   "outputs": [],
   "source": [
    "\n",
    "def plot_sensor_status(df, start_time, end_time, withings_date, granular_date):\n",
    "    # Forza start_time e end_time ad avere lo stesso fuso orario di local_time\n",
    "    start_time = pd.to_datetime(start_time).tz_localize(df['local_time'].dt.tz)\n",
    "    end_time = pd.to_datetime(end_time).tz_localize(df['local_time'].dt.tz)\n",
    "    \n",
    "    # Filtrare solo i sensori richiesti\n",
    "    selected_sensors = ['HouseEntrance', 'MotionBathroom', 'MotionBedroom', 'MotionKitchen', 'MotionLivingroom']\n",
    "    df_filtered = df[df['sensor_id'].isin(selected_sensors)]\n",
    "    \n",
    "    # Filtrare in base a start_time, end_time e solo per i punti con stato \"OFF\"\n",
    "    df_filtered = df_filtered[\n",
    "        (df_filtered['local_time'] >= start_time) &\n",
    "        (df_filtered['local_time'] <= end_time) &\n",
    "        (df_filtered['sensor_status'] == 'off')\n",
    "    ]\n",
    "\n",
    "    # Creare il grafico con local_time come asse x\n",
    "    fig = px.scatter(df_filtered, x='local_time', y='sensor_id', color='sensor_status',\n",
    "                     title='Sensor Status Over Time', labels={'local_time': 'Time', 'sensor_id': 'Sensor'})\n",
    "    \n",
    "    fig.update_xaxes(title_text='Date and Time')\n",
    "    fig.update_yaxes(title_text='Sensor')\n",
    "\n",
    "    # Calcolare le date specificate\n",
    "    withings_date = pd.to_datetime(withings_date).tz_localize(df['local_time'].dt.tz)\n",
    "    granular_date = pd.to_datetime(granular_date).tz_localize(df['local_time'].dt.tz)\n",
    "\n",
    "    # Aggiungere i punti rossi per ogni sensore nella data specificata\n",
    "    for sensor in selected_sensors:\n",
    "        fig.add_scatter(x=[withings_date], y=[sensor], mode='markers', marker=dict(color='red', size=10), name='AggregatedWithings')\n",
    "\n",
    "    # Aggiungere i punti rossi per ogni sensore nella data specificata\n",
    "    for sensor in selected_sensors:\n",
    "        fig.add_scatter(x=[granular_date], y=[sensor], mode='markers', marker=dict(color='green', size=10), name='AggregatedGranular')\n",
    "\n",
    "    startDate = start_time.date()\n",
    "    endDate = end_time.date()\n",
    "    # Salva il grafico come immagine\n",
    "    fig.write_image(f\"/Users/boe/Desktop/Unimi/Tesi/code/graphs/SensorsData/SensorProblem_{startDate}_{endDate}.png\",width=1600, height=800)\n",
    "\n",
    "    # Mostrare il grafico\n",
    "    fig.show()"
   ]
  },
  {
   "cell_type": "markdown",
   "metadata": {},
   "source": [
    "# StartValue Mismatch"
   ]
  },
  {
   "cell_type": "markdown",
   "metadata": {},
   "source": [
    "# January 2024"
   ]
  },
  {
   "cell_type": "markdown",
   "metadata": {},
   "source": [
    "## Caricamento del dataframe per gennaio"
   ]
  },
  {
   "cell_type": "code",
   "execution_count": null,
   "metadata": {},
   "outputs": [],
   "source": [
    "# Lista delle cartelle (sostituisci con i tuoi percorsi)\n",
    "folders = [\n",
    "    '/Users/boe/Desktop/Unimi/Tesi/code/SensorsData/subject_1/environmentals/Dishes_Glasses/',\n",
    "    '/Users/boe/Desktop/Unimi/Tesi/code/SensorsData/subject_1/environmentals/FoodStorage',\n",
    "    '/Users/boe/Desktop/Unimi/Tesi/code/SensorsData/subject_1/environmentals/Freezer',\n",
    "    '/Users/boe/Desktop/Unimi/Tesi/code/SensorsData/subject_1/environmentals/HouseEntrance',\n",
    "    '/Users/boe/Desktop/Unimi/Tesi/code/SensorsData/subject_1/environmentals/Microwave',\n",
    "    '/Users/boe/Desktop/Unimi/Tesi/code/SensorsData/subject_1/environmentals/MotionBathroom',\n",
    "    '/Users/boe/Desktop/Unimi/Tesi/code/SensorsData/subject_1/environmentals/MotionBedroom',\n",
    "    '/Users/boe/Desktop/Unimi/Tesi/code/SensorsData/subject_1/environmentals/MotionKitchen',\n",
    "    '/Users/boe/Desktop/Unimi/Tesi/code/SensorsData/subject_1/environmentals/MotionLivingroom',\n",
    "    '/Users/boe/Desktop/Unimi/Tesi/code/SensorsData/subject_1/environmentals/PlugTvHall',\n",
    "    '/Users/boe/Desktop/Unimi/Tesi/code/SensorsData/subject_1/environmentals/Refrigerator',\n",
    "    '/Users/boe/Desktop/Unimi/Tesi/code/SensorsData/subject_1/environmentals/Shower_Hum_Temp_humidity',\n",
    "    '/Users/boe/Desktop/Unimi/Tesi/code/SensorsData/subject_1/environmentals/Shower_Hum_Temp_temp',\n",
    "    '/Users/boe/Desktop/Unimi/Tesi/code/SensorsData/subject_1/environmentals/Silverware',\n",
    "    '/Users/boe/Desktop/Unimi/Tesi/code/SensorsData/subject_1/environmentals/Stove_Hum_Temp_humidity',\n",
    "    '/Users/boe/Desktop/Unimi/Tesi/code/SensorsData/subject_1/environmentals/Stove_Hum_Temp_humidity',\n",
    "    '/Users/boe/Desktop/Unimi/Tesi/code/SensorsData/subject_1/environmentals/WashingMachine'\n",
    "]\n",
    "\n",
    "# Nome del file che cerchiamo in ogni cartella\n",
    "filename = \"January_2024.csv\"\n",
    "\n",
    "# Lista per contenere tutti i DataFrame\n",
    "dfs = []\n",
    "\n",
    "# Legge il CSV da ogni cartella\n",
    "for folder in folders:\n",
    "    file_path = os.path.join(folder, filename)\n",
    "    # Verifica se il file esiste prima di leggerlo\n",
    "    if os.path.exists(file_path):\n",
    "        try:\n",
    "            df = pd.read_csv(file_path)\n",
    "            dfs.append(df)\n",
    "        except Exception as e:\n",
    "            print(f\"Errore nella lettura del file {file_path}: {str(e)}\")\n",
    "    else:\n",
    "        print(f\"File non trovato in: {folder}\")\n",
    "\n",
    "# Se abbiamo trovato almeno un file\n",
    "if dfs:\n",
    "    # Unisce tutti i DataFrame in uno solo\n",
    "    df_finale_january = pd.concat(dfs, ignore_index=True)\n",
    "    \n",
    "    # Ordina il DataFrame per local_time\n",
    "    df_finale_january = df_finale_january.sort_values('local_time')\n",
    "    \n",
    "    # Resetta l'indice dopo l'ordinamento\n",
    "    df_finale_january = df_finale_january.reset_index(drop=True)\n",
    "    \n",
    "    print(f\"Elaborati {len(dfs)} file CSV con successo\")\n",
    "else:\n",
    "    print(\"Nessun file CSV trovato nelle cartelle specificate\")"
   ]
  },
  {
   "cell_type": "markdown",
   "metadata": {},
   "source": [
    "## Nottata del 2024-01-07 - 2024-01-08 // Withings: 22:07 - Granular : 00:07"
   ]
  },
  {
   "cell_type": "code",
   "execution_count": null,
   "metadata": {},
   "outputs": [],
   "source": [
    "df_finale_january['local_time'] = pd.to_datetime(df_finale_january['local_time'])\n",
    "start_time = '2024-01-07 20:00:00'\n",
    "end_time = '2024-01-08 08:00:00'\n",
    "WithigsTime = '2024-01-07 22:07:00'  # Primo orario per la linea verticale\n",
    "Granulartime = '2024-01-08 00:07:00'  # Secondo orario per la linea verticale\n",
    "plot_sensor_status(df_finale_january, start_time, end_time, WithigsTime, Granulartime)"
   ]
  },
  {
   "cell_type": "markdown",
   "metadata": {},
   "source": [
    "### per i dati aggregati di Withings dovrebbe essere andato a letto alle 22:07:00 mentre per i dati aggregati dai granulari alle 00:07:00. dal grafico si evince che gli aggregati di Withings sono più precisi perchè non ho nessun dato che mi giustifichi che alle 00:07 si sia addormentato dato che non ho nessun movimento dalle 22:06 alle 01:16"
   ]
  },
  {
   "cell_type": "markdown",
   "metadata": {},
   "source": [
    "## Nottata del 2024-01-10 - 2024-01-11 // Withings: 21:00 - Granular : 00:04"
   ]
  },
  {
   "cell_type": "code",
   "execution_count": null,
   "metadata": {},
   "outputs": [],
   "source": [
    "df_finale_january['local_time'] = pd.to_datetime(df_finale_january['local_time'])\n",
    "start_time = '2024-01-10 20:00:00'\n",
    "end_time = '2024-01-11 08:00:00'\n",
    "WithigsTime = '2024-01-10 21:00:00'  # Primo orario per la linea verticale\n",
    "Granulartime = '2024-01-11 00:04:00'  # Secondo orario per la linea verticale\n",
    "plot_sensor_status(df_finale_january, start_time, end_time, WithigsTime, Granulartime)"
   ]
  },
  {
   "cell_type": "markdown",
   "metadata": {},
   "source": [
    "### per i dati aggregati di Withings dovrebbe essere andato a letto alle 21:00:00 mentre per i dati aggregati dai granulari alle 00:04:00. dal grafico si evince che gli aggregati di Withings sono più precisi perchè non ho nessun dato che mi giustifichi che alle 00:04 si sia addormentato dato che non ho nessun movimento dalle 23:47 alle 00:28"
   ]
  },
  {
   "cell_type": "markdown",
   "metadata": {},
   "source": [
    "## Notata del 2024-01-23 - 2024-01-24 // Withings: 22:14 - Granular: 23:02"
   ]
  },
  {
   "cell_type": "code",
   "execution_count": null,
   "metadata": {},
   "outputs": [],
   "source": [
    "df_finale_january['local_time'] = pd.to_datetime(df_finale_january['local_time'])\n",
    "start_time = '2024-01-23 20:00:00'\n",
    "end_time = '2024-01-24 08:00:00'\n",
    "WithigsTime = '2024-01-23 22:14:00'  # Primo orario per la linea verticale\n",
    "Granulartime = '2024-01-23 23:02:00'  # Secondo orario per la linea verticale\n",
    "plot_sensor_status(df_finale_january, start_time, end_time, WithigsTime, Granulartime)"
   ]
  },
  {
   "cell_type": "markdown",
   "metadata": {},
   "source": [
    "### per i dati aggregati di Withings dovrebbe essere andato a letto alle 22:14:00 mentre per i dati aggregati dai granulari alle 23:02:00. dal grafico si evince che gli aggregati di Withings sono più precisi perchè non ho nessun dato che mi giustifichi che alle 23:02 si sia addormentato dato che non ho nessun movimento dalle 22:19 alle 03:14"
   ]
  },
  {
   "cell_type": "markdown",
   "metadata": {},
   "source": [
    "# May 2024"
   ]
  },
  {
   "cell_type": "markdown",
   "metadata": {},
   "source": [
    "## Caricamento del dataframe per maggio"
   ]
  },
  {
   "cell_type": "code",
   "execution_count": null,
   "metadata": {},
   "outputs": [],
   "source": [
    "# Lista delle cartelle (sostituisci con i tuoi percorsi)\n",
    "folders = [\n",
    "    '/Users/boe/Desktop/Unimi/Tesi/code/SensorsData/subject_1/environmentals/Dishes_Glasses/',\n",
    "    '/Users/boe/Desktop/Unimi/Tesi/code/SensorsData/subject_1/environmentals/FoodStorage',\n",
    "    '/Users/boe/Desktop/Unimi/Tesi/code/SensorsData/subject_1/environmentals/Freezer',\n",
    "    '/Users/boe/Desktop/Unimi/Tesi/code/SensorsData/subject_1/environmentals/HouseEntrance',\n",
    "    '/Users/boe/Desktop/Unimi/Tesi/code/SensorsData/subject_1/environmentals/Microwave',\n",
    "    '/Users/boe/Desktop/Unimi/Tesi/code/SensorsData/subject_1/environmentals/MotionBathroom',\n",
    "    '/Users/boe/Desktop/Unimi/Tesi/code/SensorsData/subject_1/environmentals/MotionBedroom',\n",
    "    '/Users/boe/Desktop/Unimi/Tesi/code/SensorsData/subject_1/environmentals/MotionKitchen',\n",
    "    '/Users/boe/Desktop/Unimi/Tesi/code/SensorsData/subject_1/environmentals/MotionLivingroom',\n",
    "    '/Users/boe/Desktop/Unimi/Tesi/code/SensorsData/subject_1/environmentals/PlugTvHall',\n",
    "    '/Users/boe/Desktop/Unimi/Tesi/code/SensorsData/subject_1/environmentals/Refrigerator',\n",
    "    '/Users/boe/Desktop/Unimi/Tesi/code/SensorsData/subject_1/environmentals/Shower_Hum_Temp_humidity',\n",
    "    '/Users/boe/Desktop/Unimi/Tesi/code/SensorsData/subject_1/environmentals/Shower_Hum_Temp_temp',\n",
    "    '/Users/boe/Desktop/Unimi/Tesi/code/SensorsData/subject_1/environmentals/Silverware',\n",
    "    '/Users/boe/Desktop/Unimi/Tesi/code/SensorsData/subject_1/environmentals/Stove_Hum_Temp_humidity',\n",
    "    '/Users/boe/Desktop/Unimi/Tesi/code/SensorsData/subject_1/environmentals/Stove_Hum_Temp_humidity',\n",
    "    '/Users/boe/Desktop/Unimi/Tesi/code/SensorsData/subject_1/environmentals/WashingMachine'\n",
    "]\n",
    "\n",
    "# Nome del file che cerchiamo in ogni cartella\n",
    "filename = \"May_2024.csv\"\n",
    "\n",
    "# Lista per contenere tutti i DataFrame\n",
    "dfs = []\n",
    "\n",
    "# Legge il CSV da ogni cartella\n",
    "for folder in folders:\n",
    "    file_path = os.path.join(folder, filename)\n",
    "    # Verifica se il file esiste prima di leggerlo\n",
    "    if os.path.exists(file_path):\n",
    "        try:\n",
    "            df = pd.read_csv(file_path)\n",
    "            dfs.append(df)\n",
    "        except Exception as e:\n",
    "            print(f\"Errore nella lettura del file {file_path}: {str(e)}\")\n",
    "    else:\n",
    "        print(f\"File non trovato in: {folder}\")\n",
    "\n",
    "# Se abbiamo trovato almeno un file\n",
    "if dfs:\n",
    "    # Unisce tutti i DataFrame in uno solo\n",
    "    df_finale_may = pd.concat(dfs, ignore_index=True)\n",
    "    \n",
    "    # Ordina il DataFrame per local_time\n",
    "    df_finale_may = df_finale_may.sort_values('local_time')\n",
    "    \n",
    "    # Resetta l'indice dopo l'ordinamento\n",
    "    df_finale_may = df_finale_may.reset_index(drop=True)\n",
    "    \n",
    "    print(f\"Elaborati {len(dfs)} file CSV con successo\")\n",
    "else:\n",
    "    print(\"Nessun file CSV trovato nelle cartelle specificate\")"
   ]
  },
  {
   "cell_type": "markdown",
   "metadata": {},
   "source": [
    "## Nottata del 2024-05-01 - 2024-05-01 // Withings: 20:15 - Granular : 22:10"
   ]
  },
  {
   "cell_type": "code",
   "execution_count": null,
   "metadata": {},
   "outputs": [],
   "source": [
    "df_finale_may['local_time'] = pd.to_datetime(df_finale_may['local_time'])\n",
    "start_time = '2024-05-01 20:00:00'\n",
    "end_time = '2024-05-02 08:00:00'\n",
    "WithigsTime = '2024-05-01 20:15:00'  # Primo orario per la linea verticale\n",
    "Granulartime = '2024-05-01 22:10:00'  # Secondo orario per la linea verticale\n",
    "plot_sensor_status(df_finale_may, start_time, end_time, WithigsTime, Granulartime)"
   ]
  },
  {
   "cell_type": "markdown",
   "metadata": {},
   "source": [
    "### per i dati aggregati di Withings dovrebbe essere andato a letto alle 20:15:00 mentre per i dati aggregati dai granulari alle 22:10:00. dal grafico si evince che gli aggregati di Withings sono più precisi perchè non ho nessun dato che mi giustifichi che alle 22:10 si sia addormentato dato che non ho nessun movimento dalle 21:56 alle 23:52"
   ]
  },
  {
   "cell_type": "markdown",
   "metadata": {},
   "source": [
    "# EndValue Mismatch"
   ]
  },
  {
   "cell_type": "markdown",
   "metadata": {},
   "source": [
    "# February"
   ]
  },
  {
   "cell_type": "markdown",
   "metadata": {},
   "source": [
    "## Caricamento del dataframe per febbraio"
   ]
  },
  {
   "cell_type": "code",
   "execution_count": null,
   "metadata": {},
   "outputs": [],
   "source": [
    "# Lista delle cartelle (sostituisci con i tuoi percorsi)\n",
    "folders = [\n",
    "    '/Users/boe/Desktop/Unimi/Tesi/code/SensorsData/subject_1/environmentals/Dishes_Glasses/',\n",
    "    '/Users/boe/Desktop/Unimi/Tesi/code/SensorsData/subject_1/environmentals/FoodStorage',\n",
    "    '/Users/boe/Desktop/Unimi/Tesi/code/SensorsData/subject_1/environmentals/Freezer',\n",
    "    '/Users/boe/Desktop/Unimi/Tesi/code/SensorsData/subject_1/environmentals/HouseEntrance',\n",
    "    '/Users/boe/Desktop/Unimi/Tesi/code/SensorsData/subject_1/environmentals/Microwave',\n",
    "    '/Users/boe/Desktop/Unimi/Tesi/code/SensorsData/subject_1/environmentals/MotionBathroom',\n",
    "    '/Users/boe/Desktop/Unimi/Tesi/code/SensorsData/subject_1/environmentals/MotionBedroom',\n",
    "    '/Users/boe/Desktop/Unimi/Tesi/code/SensorsData/subject_1/environmentals/MotionKitchen',\n",
    "    '/Users/boe/Desktop/Unimi/Tesi/code/SensorsData/subject_1/environmentals/MotionLivingroom',\n",
    "    '/Users/boe/Desktop/Unimi/Tesi/code/SensorsData/subject_1/environmentals/PlugTvHall',\n",
    "    '/Users/boe/Desktop/Unimi/Tesi/code/SensorsData/subject_1/environmentals/Refrigerator',\n",
    "    '/Users/boe/Desktop/Unimi/Tesi/code/SensorsData/subject_1/environmentals/Shower_Hum_Temp_humidity',\n",
    "    '/Users/boe/Desktop/Unimi/Tesi/code/SensorsData/subject_1/environmentals/Shower_Hum_Temp_temp',\n",
    "    '/Users/boe/Desktop/Unimi/Tesi/code/SensorsData/subject_1/environmentals/Silverware',\n",
    "    '/Users/boe/Desktop/Unimi/Tesi/code/SensorsData/subject_1/environmentals/Stove_Hum_Temp_humidity',\n",
    "    '/Users/boe/Desktop/Unimi/Tesi/code/SensorsData/subject_1/environmentals/Stove_Hum_Temp_humidity',\n",
    "    '/Users/boe/Desktop/Unimi/Tesi/code/SensorsData/subject_1/environmentals/WashingMachine'\n",
    "]\n",
    "\n",
    "# Nome del file che cerchiamo in ogni cartella\n",
    "filename = \"February_2024.csv\"\n",
    "\n",
    "# Lista per contenere tutti i DataFrame\n",
    "dfs = []\n",
    "\n",
    "# Legge il CSV da ogni cartella\n",
    "for folder in folders:\n",
    "    file_path = os.path.join(folder, filename)\n",
    "    # Verifica se il file esiste prima di leggerlo\n",
    "    if os.path.exists(file_path):\n",
    "        try:\n",
    "            df = pd.read_csv(file_path)\n",
    "            dfs.append(df)\n",
    "        except Exception as e:\n",
    "            print(f\"Errore nella lettura del file {file_path}: {str(e)}\")\n",
    "    else:\n",
    "        print(f\"File non trovato in: {folder}\")\n",
    "\n",
    "# Se abbiamo trovato almeno un file\n",
    "if dfs:\n",
    "    # Unisce tutti i DataFrame in uno solo\n",
    "    df_finale_february = pd.concat(dfs, ignore_index=True)\n",
    "    \n",
    "    # Ordina il DataFrame per local_time\n",
    "    df_finale_february = df_finale_february.sort_values('local_time')\n",
    "    \n",
    "    # Resetta l'indice dopo l'ordinamento\n",
    "    df_finale_february = df_finale_february.reset_index(drop=True)\n",
    "    \n",
    "    print(f\"Elaborati {len(dfs)} file CSV con successo\")\n",
    "else:\n",
    "    print(\"Nessun file CSV trovato nelle cartelle specificate\")"
   ]
  },
  {
   "cell_type": "markdown",
   "metadata": {},
   "source": [
    "## Nottata del 2024-02-16 - 2024-05-17 // Withings: 11:50 - Granular : 08:34"
   ]
  },
  {
   "cell_type": "code",
   "execution_count": null,
   "metadata": {},
   "outputs": [],
   "source": [
    "df_finale_february['local_time'] = pd.to_datetime(df_finale_february['local_time'])\n",
    "start_time = '2024-02-17 00:00:00'\n",
    "end_time = '2024-02-17 20:00:00'\n",
    "WithigsTime = '2024-02-17 11:50:00'  # Primo orario per la linea verticale\n",
    "Granulartime = '2024-02-17 08:34:00'  # Secondo orario per la linea verticale\n",
    "plot_sensor_status(df_finale_february, start_time, end_time, WithigsTime, Granulartime)"
   ]
  },
  {
   "cell_type": "markdown",
   "metadata": {},
   "source": [
    "### non avendo a disposizione alcun dato certo per stimare quale valore sia quello più preciso si decide di prendere il valore che ha lo startValue pù preciso, quindi quello dei dati aggregati Withings"
   ]
  },
  {
   "cell_type": "markdown",
   "metadata": {},
   "source": [
    "# Controllo cosa è successo in data 2024-06-20 - 2024-06-21 perchè i dati aggregati dicono che ha dormito solo con l'orologio ma ho i dati anche nei granulari"
   ]
  },
  {
   "cell_type": "markdown",
   "metadata": {},
   "source": [
    "## Caricamento del dataframe per giugno"
   ]
  },
  {
   "cell_type": "code",
   "execution_count": null,
   "metadata": {},
   "outputs": [],
   "source": [
    "# Lista delle cartelle (sostituisci con i tuoi percorsi)\n",
    "folders = [\n",
    "    '/Users/boe/Desktop/Unimi/Tesi/code/SensorsData/subject_1/environmentals/Dishes_Glasses/',\n",
    "    '/Users/boe/Desktop/Unimi/Tesi/code/SensorsData/subject_1/environmentals/FoodStorage',\n",
    "    '/Users/boe/Desktop/Unimi/Tesi/code/SensorsData/subject_1/environmentals/Freezer',\n",
    "    '/Users/boe/Desktop/Unimi/Tesi/code/SensorsData/subject_1/environmentals/HouseEntrance',\n",
    "    '/Users/boe/Desktop/Unimi/Tesi/code/SensorsData/subject_1/environmentals/Microwave',\n",
    "    '/Users/boe/Desktop/Unimi/Tesi/code/SensorsData/subject_1/environmentals/MotionBathroom',\n",
    "    '/Users/boe/Desktop/Unimi/Tesi/code/SensorsData/subject_1/environmentals/MotionBedroom',\n",
    "    '/Users/boe/Desktop/Unimi/Tesi/code/SensorsData/subject_1/environmentals/MotionKitchen',\n",
    "    '/Users/boe/Desktop/Unimi/Tesi/code/SensorsData/subject_1/environmentals/MotionLivingroom',\n",
    "    '/Users/boe/Desktop/Unimi/Tesi/code/SensorsData/subject_1/environmentals/PlugTvHall',\n",
    "    '/Users/boe/Desktop/Unimi/Tesi/code/SensorsData/subject_1/environmentals/Refrigerator',\n",
    "    '/Users/boe/Desktop/Unimi/Tesi/code/SensorsData/subject_1/environmentals/Shower_Hum_Temp_humidity',\n",
    "    '/Users/boe/Desktop/Unimi/Tesi/code/SensorsData/subject_1/environmentals/Shower_Hum_Temp_temp',\n",
    "    '/Users/boe/Desktop/Unimi/Tesi/code/SensorsData/subject_1/environmentals/Silverware',\n",
    "    '/Users/boe/Desktop/Unimi/Tesi/code/SensorsData/subject_1/environmentals/Stove_Hum_Temp_humidity',\n",
    "    '/Users/boe/Desktop/Unimi/Tesi/code/SensorsData/subject_1/environmentals/Stove_Hum_Temp_humidity',\n",
    "    '/Users/boe/Desktop/Unimi/Tesi/code/SensorsData/subject_1/environmentals/WashingMachine'\n",
    "]\n",
    "\n",
    "# Nome del file che cerchiamo in ogni cartella\n",
    "filename = \"June_2024.csv\"\n",
    "\n",
    "# Lista per contenere tutti i DataFrame\n",
    "dfs = []\n",
    "\n",
    "# Legge il CSV da ogni cartella\n",
    "for folder in folders:\n",
    "    file_path = os.path.join(folder, filename)\n",
    "    # Verifica se il file esiste prima di leggerlo\n",
    "    if os.path.exists(file_path):\n",
    "        try:\n",
    "            df = pd.read_csv(file_path)\n",
    "            dfs.append(df)\n",
    "        except Exception as e:\n",
    "            print(f\"Errore nella lettura del file {file_path}: {str(e)}\")\n",
    "    else:\n",
    "        print(f\"File non trovato in: {folder}\")\n",
    "\n",
    "# Se abbiamo trovato almeno un file\n",
    "if dfs:\n",
    "    # Unisce tutti i DataFrame in uno solo\n",
    "    df_finale_june = pd.concat(dfs, ignore_index=True)\n",
    "    \n",
    "    # Ordina il DataFrame per local_time\n",
    "    df_finale_june = df_finale_june.sort_values('local_time')\n",
    "    \n",
    "    # Resetta l'indice dopo l'ordinamento\n",
    "    df_finale_june = df_finale_june.reset_index(drop=True)\n",
    "    \n",
    "    print(f\"Elaborati {len(dfs)} file CSV con successo\")\n",
    "else:\n",
    "    print(\"Nessun file CSV trovato nelle cartelle specificate\")"
   ]
  },
  {
   "cell_type": "markdown",
   "metadata": {},
   "source": [
    "## Nottata del 2024-06-20 - 2024-06-21 // Withings: 23:59 - Granular : 23:59"
   ]
  },
  {
   "cell_type": "code",
   "execution_count": null,
   "metadata": {},
   "outputs": [],
   "source": [
    "df_finale_june['local_time'] = pd.to_datetime(df_finale_june['local_time'])\n",
    "start_time = '2024-06-10 12:00:00'\n",
    "end_time = '2024-06-21 12:00:00'\n",
    "WithigsTime = '2024-06-20 23:59:00'  # Primo orario per la linea verticale\n",
    "Granulartime = '2024-06-20 23:59:00'  # Secondo orario per la linea verticale\n",
    "plot_sensor_status(df_finale_june, start_time, end_time, WithigsTime, Granulartime)"
   ]
  },
  {
   "cell_type": "code",
   "execution_count": null,
   "metadata": {},
   "outputs": [],
   "source": []
  }
 ],
 "metadata": {
  "kernelspec": {
   "display_name": ".venv",
   "language": "python",
   "name": "python3"
  },
  "language_info": {
   "codemirror_mode": {
    "name": "ipython",
    "version": 3
   },
   "file_extension": ".py",
   "mimetype": "text/x-python",
   "name": "python",
   "nbconvert_exporter": "python",
   "pygments_lexer": "ipython3",
   "version": "3.11.9"
  }
 },
 "nbformat": 4,
 "nbformat_minor": 2
}
